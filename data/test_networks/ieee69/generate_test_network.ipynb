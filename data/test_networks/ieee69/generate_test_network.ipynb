{
 "cells": [
  {
   "cell_type": "code",
   "execution_count": 1,
   "id": "initial_id",
   "metadata": {
    "ExecuteTime": {
     "end_time": "2025-08-07T01:56:51.533066Z",
     "start_time": "2025-08-07T01:56:48.704246Z"
    },
    "collapsed": true
   },
   "outputs": [],
   "source": [
    "import pandapower as pp\n",
    "from faraday import DATA_DIR\n",
    "from copy import deepcopy\n",
    "import json"
   ]
  },
  {
   "cell_type": "code",
   "execution_count": 2,
   "id": "aeac29b4a0f61fa3",
   "metadata": {
    "ExecuteTime": {
     "end_time": "2025-08-07T01:57:25.210213Z",
     "start_time": "2025-08-07T01:57:25.207179Z"
    }
   },
   "outputs": [],
   "source": [
    "test_dir = DATA_DIR / \"test_networks\" / \"ieee69\""
   ]
  },
  {
   "cell_type": "code",
   "execution_count": 3,
   "id": "8835c83a2683ddda",
   "metadata": {
    "ExecuteTime": {
     "end_time": "2025-08-07T01:57:28.905891Z",
     "start_time": "2025-08-07T01:57:28.808924Z"
    }
   },
   "outputs": [],
   "source": [
    "network = pp.from_json(DATA_DIR / \"base_networks\" / \"ieee69\" / \"ieee69.json\")\n",
    "network.load[\"curtailable\"] = False"
   ]
  },
  {
   "cell_type": "code",
   "execution_count": 4,
   "id": "8cf2a61d80ca559e",
   "metadata": {
    "ExecuteTime": {
     "end_time": "2025-08-07T01:57:31.621230Z",
     "start_time": "2025-08-07T01:57:30.608007Z"
    }
   },
   "outputs": [],
   "source": [
    "pp.runpp(network)"
   ]
  },
  {
   "cell_type": "code",
   "execution_count": 7,
   "id": "24b4c2fdea589781",
   "metadata": {
    "ExecuteTime": {
     "end_time": "2025-08-07T01:58:02.556828Z",
     "start_time": "2025-08-07T01:58:01.588162Z"
    }
   },
   "outputs": [
    {
     "data": {
      "application/vnd.plotly.v1+json": {
       "config": {
        "plotlyServerURL": "https://plot.ly"
       },
       "data": [
        {
         "hoverinfo": "text",
         "legendgroup": "lines",
         "line": {
          "color": "rgb(157.258064516129,255.0,89.51612903225808)",
          "dash": "solid",
          "width": 2
         },
         "mode": "lines",
         "name": "lines",
         "showlegend": true,
         "text": "Line_1.0-2.0<br />I = 54.085 %<br />I_from = 0.216 kA<br />I_to = 0.216 kA<br />",
         "type": "scatter",
         "x": [
          0.0,
          0.5,
          1.0
         ],
         "y": [
          0.0,
          0.0,
          0.0
         ]
        },
        {
         "hoverinfo": "text",
         "legendgroup": "lines",
         "line": {
          "color": "rgb(157.258064516129,255.0,89.51612903225808)",
          "dash": "solid",
          "width": 2
         },
         "mode": "lines",
         "name": "lines",
         "showlegend": false,
         "text": "Line_2.0-3.0<br />I = 54.085 %<br />I_from = 0.216 kA<br />I_to = 0.216 kA<br />",
         "type": "scatter",
         "x": [
          1.0,
          1.5,
          2.0
         ],
         "y": [
          0.0,
          0.0,
          0.0
         ]
        },
        {
         "hoverinfo": "text",
         "legendgroup": "lines",
         "line": {
          "color": "rgb(124.99999999999999,255.0,121.77419354838709)",
          "dash": "solid",
          "width": 2
         },
         "mode": "lines",
         "name": "lines",
         "showlegend": false,
         "text": "Line_3.0-4.0<br />I = 50.337 %<br />I_from = 0.201 kA<br />I_to = 0.201 kA<br />",
         "type": "scatter",
         "x": [
          2.0,
          2.5,
          3.0
         ],
         "y": [
          0.0,
          -0.666666665,
          -1.33333333
         ]
        },
        {
         "hoverinfo": "text",
         "legendgroup": "lines",
         "line": {
          "color": "rgb(31.4516129032258,255.0,215.3225806451613)",
          "dash": "solid",
          "width": 2
         },
         "mode": "lines",
         "name": "lines",
         "showlegend": false,
         "text": "Line_4.0-5.0<br />I = 38.745 %<br />I_from = 0.155 kA<br />I_to = 0.155 kA<br />",
         "type": "scatter",
         "x": [
          3.0,
          3.5,
          4.0
         ],
         "y": [
          -1.33333333,
          -1.58333333,
          -1.83333333
         ]
        },
        {
         "hoverinfo": "text",
         "legendgroup": "lines",
         "line": {
          "color": "rgb(31.4516129032258,255.0,215.3225806451613)",
          "dash": "solid",
          "width": 2
         },
         "mode": "lines",
         "name": "lines",
         "showlegend": false,
         "text": "Line_5.0-6.0<br />I = 38.745 %<br />I_from = 0.155 kA<br />I_to = 0.155 kA<br />",
         "type": "scatter",
         "x": [
          4.0,
          4.5,
          5.0
         ],
         "y": [
          -1.83333333,
          -1.83333333,
          -1.83333333
         ]
        },
        {
         "hoverinfo": "text",
         "legendgroup": "lines",
         "line": {
          "color": "rgb(31.4516129032258,255.0,215.3225806451613)",
          "dash": "solid",
          "width": 2
         },
         "mode": "lines",
         "name": "lines",
         "showlegend": false,
         "text": "Line_6.0-7.0<br />I = 38.707 %<br />I_from = 0.155 kA<br />I_to = 0.155 kA<br />",
         "type": "scatter",
         "x": [
          5.0,
          5.5,
          6.0
         ],
         "y": [
          -1.83333333,
          -1.83333333,
          -1.83333333
         ]
        },
        {
         "hoverinfo": "text",
         "legendgroup": "lines",
         "line": {
          "color": "rgb(24.999999999999996,255.0,221.7741935483871)",
          "dash": "solid",
          "width": 2
         },
         "mode": "lines",
         "name": "lines",
         "showlegend": false,
         "text": "Line_7.0-8.0<br />I = 38.14 %<br />I_from = 0.153 kA<br />I_to = 0.153 kA<br />",
         "type": "scatter",
         "x": [
          6.0,
          6.5,
          7.0
         ],
         "y": [
          -1.83333333,
          -1.83333333,
          -1.83333333
         ]
        },
        {
         "hoverinfo": "text",
         "legendgroup": "lines",
         "line": {
          "color": "rgb(12.096774193548386,244.5,234.67741935483872)",
          "dash": "solid",
          "width": 2
         },
         "mode": "lines",
         "name": "lines",
         "showlegend": false,
         "text": "Line_8.0-9.0<br />I = 36.488 %<br />I_from = 0.146 kA<br />I_to = 0.146 kA<br />",
         "type": "scatter",
         "x": [
          7.0,
          7.5,
          8.0
         ],
         "y": [
          -1.83333333,
          -2.30208333,
          -2.77083333
         ]
        },
        {
         "hoverinfo": "text",
         "legendgroup": "lines",
         "line": {
          "color": "rgb(0.0,0.0,250.22727272727272)",
          "dash": "solid",
          "width": 2
         },
         "mode": "lines",
         "name": "lines",
         "showlegend": false,
         "text": "Line_9.0-10.0<br />I = 10.673 %<br />I_from = 0.043 kA<br />I_to = 0.043 kA<br />",
         "type": "scatter",
         "x": [
          8.0,
          8.5,
          9.0
         ],
         "y": [
          -2.77083333,
          -3.20833333,
          -3.64583333
         ]
        },
        {
         "hoverinfo": "text",
         "legendgroup": "lines",
         "line": {
          "color": "rgb(0.0,80.5,255.0)",
          "dash": "solid",
          "width": 2
         },
         "mode": "lines",
         "name": "lines",
         "showlegend": false,
         "text": "Line_10.0-11.0<br />I = 20.578 %<br />I_from = 0.041 kA<br />I_to = 0.041 kA<br />",
         "type": "scatter",
         "x": [
          9.0,
          9.5,
          10.0
         ],
         "y": [
          -3.64583333,
          -3.64583333,
          -3.64583333
         ]
        },
        {
         "hoverinfo": "text",
         "legendgroup": "lines",
         "line": {
          "color": "rgb(0.0,28.5,255.0)",
          "dash": "solid",
          "width": 2
         },
         "mode": "lines",
         "name": "lines",
         "showlegend": false,
         "text": "Line_11.0-12.0<br />I = 15.51 %<br />I_from = 0.031 kA<br />I_to = 0.031 kA<br />",
         "type": "scatter",
         "x": [
          10.0,
          10.5,
          11.0
         ],
         "y": [
          -3.64583333,
          -4.02083333,
          -4.39583333
         ]
        },
        {
         "hoverinfo": "text",
         "legendgroup": "lines",
         "line": {
          "color": "rgb(0.0,0.0,241.13636363636363)",
          "dash": "solid",
          "width": 2
         },
         "mode": "lines",
         "name": "lines",
         "showlegend": false,
         "text": "Line_12.0-13.0<br />I = 9.87 %<br />I_from = 0.02 kA<br />I_to = 0.02 kA<br />",
         "type": "scatter",
         "x": [
          11.0,
          11.5,
          12.0
         ],
         "y": [
          -4.39583333,
          -4.64583333,
          -4.89583333
         ]
        },
        {
         "hoverinfo": "text",
         "legendgroup": "lines",
         "line": {
          "color": "rgb(0.0,0.0,236.59090909090907)",
          "dash": "solid",
          "width": 2
         },
         "mode": "lines",
         "name": "lines",
         "showlegend": false,
         "text": "Line_13.0-14.0<br />I = 9.654 %<br />I_from = 0.019 kA<br />I_to = 0.019 kA<br />",
         "type": "scatter",
         "x": [
          12.0,
          12.5,
          13.0
         ],
         "y": [
          -4.89583333,
          -4.89583333,
          -4.89583333
         ]
        },
        {
         "hoverinfo": "text",
         "legendgroup": "lines",
         "line": {
          "color": "rgb(0.0,0.0,236.59090909090907)",
          "dash": "solid",
          "width": 2
         },
         "mode": "lines",
         "name": "lines",
         "showlegend": false,
         "text": "Line_14.0-15.0<br />I = 9.431 %<br />I_from = 0.019 kA<br />I_to = 0.019 kA<br />",
         "type": "scatter",
         "x": [
          13.0,
          13.5,
          14.0
         ],
         "y": [
          -4.89583333,
          -4.89583333,
          -4.89583333
         ]
        },
        {
         "hoverinfo": "text",
         "legendgroup": "lines",
         "line": {
          "color": "rgb(0.0,0.0,236.59090909090907)",
          "dash": "solid",
          "width": 2
         },
         "mode": "lines",
         "name": "lines",
         "showlegend": false,
         "text": "Line_15.0-16.0<br />I = 9.431 %<br />I_from = 0.019 kA<br />I_to = 0.019 kA<br />",
         "type": "scatter",
         "x": [
          14.0,
          14.5,
          15.0
         ],
         "y": [
          -4.89583333,
          -4.89583333,
          -4.89583333
         ]
        },
        {
         "hoverinfo": "text",
         "legendgroup": "lines",
         "line": {
          "color": "rgb(0.0,0.0,218.4090909090909)",
          "dash": "solid",
          "width": 2
         },
         "mode": "lines",
         "name": "lines",
         "showlegend": false,
         "text": "Line_16.0-17.0<br />I = 8.177 %<br />I_from = 0.016 kA<br />I_to = 0.016 kA<br />",
         "type": "scatter",
         "x": [
          15.0,
          15.5,
          16.0
         ],
         "y": [
          -4.89583333,
          -4.89583333,
          -4.89583333
         ]
        },
        {
         "hoverinfo": "text",
         "legendgroup": "lines",
         "line": {
          "color": "rgb(0.0,0.0,200.22727272727272)",
          "dash": "solid",
          "width": 2
         },
         "mode": "lines",
         "name": "lines",
         "showlegend": false,
         "text": "Line_17.0-18.0<br />I = 6.579 %<br />I_from = 0.013 kA<br />I_to = 0.013 kA<br />",
         "type": "scatter",
         "x": [
          16.0,
          16.5,
          17.0
         ],
         "y": [
          -4.89583333,
          -4.89583333,
          -4.89583333
         ]
        },
        {
         "hoverinfo": "text",
         "legendgroup": "lines",
         "line": {
          "color": "rgb(0.0,0.0,182.04545454545453)",
          "dash": "solid",
          "width": 2
         },
         "mode": "lines",
         "name": "lines",
         "showlegend": false,
         "text": "Line_18.0-19.0<br />I = 4.983 %<br />I_from = 0.01 kA<br />I_to = 0.01 kA<br />",
         "type": "scatter",
         "x": [
          17.0,
          17.5,
          18.0
         ],
         "y": [
          -4.89583333,
          -4.89583333,
          -4.89583333
         ]
        },
        {
         "hoverinfo": "text",
         "legendgroup": "lines",
         "line": {
          "color": "rgb(0.0,0.0,182.04545454545453)",
          "dash": "solid",
          "width": 2
         },
         "mode": "lines",
         "name": "lines",
         "showlegend": false,
         "text": "Line_19.0-20.0<br />I = 4.983 %<br />I_from = 0.01 kA<br />I_to = 0.01 kA<br />",
         "type": "scatter",
         "x": [
          18.0,
          18.5,
          19.0
         ],
         "y": [
          -4.89583333,
          -4.89583333,
          -4.89583333
         ]
        },
        {
         "hoverinfo": "text",
         "legendgroup": "lines",
         "line": {
          "color": "rgb(0.0,0.0,182.04545454545453)",
          "dash": "solid",
          "width": 2
         },
         "mode": "lines",
         "name": "lines",
         "showlegend": false,
         "text": "Line_20.0-21.0<br />I = 4.956 %<br />I_from = 0.01 kA<br />I_to = 0.01 kA<br />",
         "type": "scatter",
         "x": [
          19.0,
          19.5,
          20.0
         ],
         "y": [
          -4.89583333,
          -4.89583333,
          -4.89583333
         ]
        },
        {
         "hoverinfo": "text",
         "legendgroup": "lines",
         "line": {
          "color": "rgb(0.0,0.0,145.6818181818182)",
          "dash": "solid",
          "width": 2
         },
         "mode": "lines",
         "name": "lines",
         "showlegend": false,
         "text": "Line_21.0-22.0<br />I = 1.729 %<br />I_from = 0.003 kA<br />I_to = 0.003 kA<br />",
         "type": "scatter",
         "x": [
          20.0,
          20.5,
          21.0
         ],
         "y": [
          -4.89583333,
          -4.89583333,
          -4.89583333
         ]
        },
        {
         "hoverinfo": "text",
         "legendgroup": "lines",
         "line": {
          "color": "rgb(0.0,0.0,145.6818181818182)",
          "dash": "solid",
          "width": 2
         },
         "mode": "lines",
         "name": "lines",
         "showlegend": false,
         "text": "Line_22.0-23.0<br />I = 1.588 %<br />I_from = 0.003 kA<br />I_to = 0.003 kA<br />",
         "type": "scatter",
         "x": [
          21.0,
          21.5,
          22.0
         ],
         "y": [
          -4.89583333,
          -4.89583333,
          -4.89583333
         ]
        },
        {
         "hoverinfo": "text",
         "legendgroup": "lines",
         "line": {
          "color": "rgb(0.0,0.0,145.6818181818182)",
          "dash": "solid",
          "width": 2
         },
         "mode": "lines",
         "name": "lines",
         "showlegend": false,
         "text": "Line_23.0-24.0<br />I = 1.588 %<br />I_from = 0.003 kA<br />I_to = 0.003 kA<br />",
         "type": "scatter",
         "x": [
          22.0,
          22.5,
          23.0
         ],
         "y": [
          -4.89583333,
          -4.89583333,
          -4.89583333
         ]
        },
        {
         "hoverinfo": "text",
         "legendgroup": "lines",
         "line": {
          "color": "rgb(0.0,0.0,136.5909090909091)",
          "dash": "solid",
          "width": 2
         },
         "mode": "lines",
         "name": "lines",
         "showlegend": false,
         "text": "Line_24.0-25.0<br />I = 0.794 %<br />I_from = 0.002 kA<br />I_to = 0.002 kA<br />",
         "type": "scatter",
         "x": [
          23.0,
          23.5,
          24.0
         ],
         "y": [
          -4.89583333,
          -4.89583333,
          -4.89583333
         ]
        },
        {
         "hoverinfo": "text",
         "legendgroup": "lines",
         "line": {
          "color": "rgb(0.0,0.0,136.5909090909091)",
          "dash": "solid",
          "width": 2
         },
         "mode": "lines",
         "name": "lines",
         "showlegend": false,
         "text": "Line_25.0-26.0<br />I = 0.794 %<br />I_from = 0.002 kA<br />I_to = 0.002 kA<br />",
         "type": "scatter",
         "x": [
          24.0,
          24.5,
          25.0
         ],
         "y": [
          -4.89583333,
          -4.89583333,
          -4.89583333
         ]
        },
        {
         "hoverinfo": "text",
         "legendgroup": "lines",
         "line": {
          "color": "rgb(0.0,0.0,132.04545454545453)",
          "dash": "solid",
          "width": 2
         },
         "mode": "lines",
         "name": "lines",
         "showlegend": false,
         "text": "Line_26.0-27.0<br />I = 0.397 %<br />I_from = 0.001 kA<br />I_to = 0.001 kA<br />",
         "type": "scatter",
         "x": [
          25.0,
          25.5,
          26.0
         ],
         "y": [
          -4.89583333,
          -4.89583333,
          -4.89583333
         ]
        },
        {
         "hoverinfo": "text",
         "legendgroup": "lines",
         "line": {
          "color": "rgb(0.0,0.0,154.77272727272728)",
          "dash": "solid",
          "width": 2
         },
         "mode": "lines",
         "name": "lines",
         "showlegend": false,
         "text": "Line_3.0-28.0<br />I = 2.488 %<br />I_from = 0.005 kA<br />I_to = 0.005 kA<br />",
         "type": "scatter",
         "x": [
          2.0,
          2.5,
          3.0
         ],
         "y": [
          0.0,
          0.083333335,
          0.16666667
         ]
        },
        {
         "hoverinfo": "text",
         "legendgroup": "lines",
         "line": {
          "color": "rgb(0.0,0.0,145.6818181818182)",
          "dash": "solid",
          "width": 2
         },
         "mode": "lines",
         "name": "lines",
         "showlegend": false,
         "text": "Line_28.0-29.0<br />I = 1.781 %<br />I_from = 0.004 kA<br />I_to = 0.004 kA<br />",
         "type": "scatter",
         "x": [
          3.0,
          3.5,
          4.0
         ],
         "y": [
          0.16666667,
          0.16666667,
          0.16666667
         ]
        },
        {
         "hoverinfo": "text",
         "legendgroup": "lines",
         "line": {
          "color": "rgb(0.0,0.0,136.5909090909091)",
          "dash": "solid",
          "width": 2
         },
         "mode": "lines",
         "name": "lines",
         "showlegend": false,
         "text": "Line_29.0-30.0<br />I = 1.073 %<br />I_from = 0.002 kA<br />I_to = 0.002 kA<br />",
         "type": "scatter",
         "x": [
          4.0,
          4.5,
          5.0
         ],
         "y": [
          0.16666667,
          0.16666667,
          0.16666667
         ]
        },
        {
         "hoverinfo": "text",
         "legendgroup": "lines",
         "line": {
          "color": "rgb(0.0,0.0,136.5909090909091)",
          "dash": "solid",
          "width": 2
         },
         "mode": "lines",
         "name": "lines",
         "showlegend": false,
         "text": "Line_30.0-31.0<br />I = 1.073 %<br />I_from = 0.002 kA<br />I_to = 0.002 kA<br />",
         "type": "scatter",
         "x": [
          5.0,
          5.5,
          6.0
         ],
         "y": [
          0.16666667,
          0.16666667,
          0.16666667
         ]
        },
        {
         "hoverinfo": "text",
         "legendgroup": "lines",
         "line": {
          "color": "rgb(0.0,0.0,136.5909090909091)",
          "dash": "solid",
          "width": 2
         },
         "mode": "lines",
         "name": "lines",
         "showlegend": false,
         "text": "Line_31.0-32.0<br />I = 1.073 %<br />I_from = 0.002 kA<br />I_to = 0.002 kA<br />",
         "type": "scatter",
         "x": [
          6.0,
          6.5,
          7.0
         ],
         "y": [
          0.16666667,
          0.16666667,
          0.16666667
         ]
        },
        {
         "hoverinfo": "text",
         "legendgroup": "lines",
         "line": {
          "color": "rgb(0.0,0.0,136.5909090909091)",
          "dash": "solid",
          "width": 2
         },
         "mode": "lines",
         "name": "lines",
         "showlegend": false,
         "text": "Line_32.0-33.0<br />I = 1.073 %<br />I_from = 0.002 kA<br />I_to = 0.002 kA<br />",
         "type": "scatter",
         "x": [
          7.0,
          7.5,
          8.0
         ],
         "y": [
          0.16666667,
          0.16666667,
          0.16666667
         ]
        },
        {
         "hoverinfo": "text",
         "legendgroup": "lines",
         "line": {
          "color": "rgb(0.0,0.0,132.04545454545453)",
          "dash": "solid",
          "width": 2
         },
         "mode": "lines",
         "name": "lines",
         "showlegend": false,
         "text": "Line_33.0-34.0<br />I = 0.692 %<br />I_from = 0.001 kA<br />I_to = 0.001 kA<br />",
         "type": "scatter",
         "x": [
          8.0,
          8.5,
          9.0
         ],
         "y": [
          0.16666667,
          0.16666667,
          0.16666667
         ]
        },
        {
         "hoverinfo": "text",
         "legendgroup": "lines",
         "line": {
          "color": "rgb(0.0,0.0,127.5)",
          "dash": "solid",
          "width": 2
         },
         "mode": "lines",
         "name": "lines",
         "showlegend": false,
         "text": "Line_34.0-35.0<br />I = 0.16 %<br />I_from = 0.0 kA<br />I_to = 0.0 kA<br />",
         "type": "scatter",
         "x": [
          9.0,
          9.5,
          10.0
         ],
         "y": [
          0.16666667,
          0.16666667,
          0.16666667
         ]
        },
        {
         "hoverinfo": "text",
         "legendgroup": "lines",
         "line": {
          "color": "rgb(0.0,0.0,182.04545454545453)",
          "dash": "solid",
          "width": 2
         },
         "mode": "lines",
         "name": "lines",
         "showlegend": false,
         "text": "Line_3.0-36.0<br />I = 5.009 %<br />I_from = 0.01 kA<br />I_to = 0.01 kA<br />",
         "type": "scatter",
         "x": [
          2.0,
          2.5,
          3.0
         ],
         "y": [
          0.0,
          0.583333335,
          1.16666667
         ]
        },
        {
         "hoverinfo": "text",
         "legendgroup": "lines",
         "line": {
          "color": "rgb(0.0,0.0,177.5)",
          "dash": "solid",
          "width": 2
         },
         "mode": "lines",
         "name": "lines",
         "showlegend": false,
         "text": "Line_36.0-37.0<br />I = 4.302 %<br />I_from = 0.009 kA<br />I_to = 0.009 kA<br />",
         "type": "scatter",
         "x": [
          3.0,
          3.5,
          4.0
         ],
         "y": [
          1.16666667,
          1.16666667,
          1.16666667
         ]
        },
        {
         "hoverinfo": "text",
         "legendgroup": "lines",
         "line": {
          "color": "rgb(0.0,0.0,168.4090909090909)",
          "dash": "solid",
          "width": 2
         },
         "mode": "lines",
         "name": "lines",
         "showlegend": false,
         "text": "Line_37.0-38.0<br />I = 3.595 %<br />I_from = 0.007 kA<br />I_to = 0.007 kA<br />",
         "type": "scatter",
         "x": [
          4.0,
          4.5,
          5.0
         ],
         "y": [
          1.16666667,
          1.16666667,
          1.16666667
         ]
        },
        {
         "hoverinfo": "text",
         "legendgroup": "lines",
         "line": {
          "color": "rgb(0.0,0.0,168.4090909090909)",
          "dash": "solid",
          "width": 2
         },
         "mode": "lines",
         "name": "lines",
         "showlegend": false,
         "text": "Line_38.0-39.0<br />I = 3.595 %<br />I_from = 0.007 kA<br />I_to = 0.007 kA<br />",
         "type": "scatter",
         "x": [
          5.0,
          5.5,
          6.0
         ],
         "y": [
          1.16666667,
          1.16666667,
          1.16666667
         ]
        },
        {
         "hoverinfo": "text",
         "legendgroup": "lines",
         "line": {
          "color": "rgb(0.0,0.0,159.3181818181818)",
          "dash": "solid",
          "width": 2
         },
         "mode": "lines",
         "name": "lines",
         "showlegend": false,
         "text": "Line_39.0-40.0<br />I = 2.943 %<br />I_from = 0.006 kA<br />I_to = 0.006 kA<br />",
         "type": "scatter",
         "x": [
          6.0,
          6.5,
          7.0
         ],
         "y": [
          1.16666667,
          1.16666667,
          1.16666667
         ]
        },
        {
         "hoverinfo": "text",
         "legendgroup": "lines",
         "line": {
          "color": "rgb(0.0,0.0,150.22727272727272)",
          "dash": "solid",
          "width": 2
         },
         "mode": "lines",
         "name": "lines",
         "showlegend": false,
         "text": "Line_40.0-41.0<br />I = 2.292 %<br />I_from = 0.005 kA<br />I_to = 0.005 kA<br />",
         "type": "scatter",
         "x": [
          7.0,
          7.5,
          8.0
         ],
         "y": [
          1.16666667,
          1.16666667,
          1.16666667
         ]
        },
        {
         "hoverinfo": "text",
         "legendgroup": "lines",
         "line": {
          "color": "rgb(0.0,0.0,150.22727272727272)",
          "dash": "solid",
          "width": 2
         },
         "mode": "lines",
         "name": "lines",
         "showlegend": false,
         "text": "Line_41.0-42.0<br />I = 2.258 %<br />I_from = 0.005 kA<br />I_to = 0.005 kA<br />",
         "type": "scatter",
         "x": [
          8.0,
          8.5,
          9.0
         ],
         "y": [
          1.16666667,
          1.16666667,
          1.16666667
         ]
        },
        {
         "hoverinfo": "text",
         "legendgroup": "lines",
         "line": {
          "color": "rgb(0.0,0.0,150.22727272727272)",
          "dash": "solid",
          "width": 2
         },
         "mode": "lines",
         "name": "lines",
         "showlegend": false,
         "text": "Line_42.0-43.0<br />I = 2.258 %<br />I_from = 0.005 kA<br />I_to = 0.005 kA<br />",
         "type": "scatter",
         "x": [
          9.0,
          9.5,
          10.0
         ],
         "y": [
          1.16666667,
          1.16666667,
          1.16666667
         ]
        },
        {
         "hoverinfo": "text",
         "legendgroup": "lines",
         "line": {
          "color": "rgb(0.0,0.0,150.22727272727272)",
          "dash": "solid",
          "width": 2
         },
         "mode": "lines",
         "name": "lines",
         "showlegend": false,
         "text": "Line_43.0-44.0<br />I = 2.094 %<br />I_from = 0.004 kA<br />I_to = 0.004 kA<br />",
         "type": "scatter",
         "x": [
          10.0,
          10.5,
          11.0
         ],
         "y": [
          1.16666667,
          1.16666667,
          1.16666667
         ]
        },
        {
         "hoverinfo": "text",
         "legendgroup": "lines",
         "line": {
          "color": "rgb(0.0,0.0,150.22727272727272)",
          "dash": "solid",
          "width": 2
         },
         "mode": "lines",
         "name": "lines",
         "showlegend": false,
         "text": "Line_44.0-45.0<br />I = 2.094 %<br />I_from = 0.004 kA<br />I_to = 0.004 kA<br />",
         "type": "scatter",
         "x": [
          11.0,
          11.5,
          12.0
         ],
         "y": [
          1.16666667,
          1.16666667,
          1.16666667
         ]
        },
        {
         "hoverinfo": "text",
         "legendgroup": "lines",
         "line": {
          "color": "rgb(0.0,0.0,136.5909090909091)",
          "dash": "solid",
          "width": 2
         },
         "mode": "lines",
         "name": "lines",
         "showlegend": false,
         "text": "Line_45.0-46.0<br />I = 1.047 %<br />I_from = 0.002 kA<br />I_to = 0.002 kA<br />",
         "type": "scatter",
         "x": [
          12.0,
          12.5,
          13.0
         ],
         "y": [
          1.16666667,
          1.16666667,
          1.16666667
         ]
        },
        {
         "hoverinfo": "text",
         "legendgroup": "lines",
         "line": {
          "color": "rgb(0.0,28.5,255.0)",
          "dash": "solid",
          "width": 2
         },
         "mode": "lines",
         "name": "lines",
         "showlegend": false,
         "text": "Line_4.0-47.0<br />I = 15.458 %<br />I_from = 0.046 kA<br />I_to = 0.046 kA<br />",
         "type": "scatter",
         "x": [
          3.0,
          3.5,
          4.0
         ],
         "y": [
          -1.33333333,
          -1.08333333,
          -0.83333333
         ]
        },
        {
         "hoverinfo": "text",
         "legendgroup": "lines",
         "line": {
          "color": "rgb(0.0,28.5,255.0)",
          "dash": "solid",
          "width": 2
         },
         "mode": "lines",
         "name": "lines",
         "showlegend": false,
         "text": "Line_47.0-48.0<br />I = 15.458 %<br />I_from = 0.046 kA<br />I_to = 0.046 kA<br />",
         "type": "scatter",
         "x": [
          4.0,
          4.5,
          5.0
         ],
         "y": [
          -0.83333333,
          -0.83333333,
          -0.83333333
         ]
        },
        {
         "hoverinfo": "text",
         "legendgroup": "lines",
         "line": {
          "color": "rgb(0.0,12.5,255.0)",
          "dash": "solid",
          "width": 2
         },
         "mode": "lines",
         "name": "lines",
         "showlegend": false,
         "text": "Line_48.0-49.0<br />I = 14.023 %<br />I_from = 0.042 kA<br />I_to = 0.042 kA<br />",
         "type": "scatter",
         "x": [
          5.0,
          5.5,
          6.0
         ],
         "y": [
          -0.83333333,
          -0.83333333,
          -0.83333333
         ]
        },
        {
         "hoverinfo": "text",
         "legendgroup": "lines",
         "line": {
          "color": "rgb(0.0,0.0,204.77272727272725)",
          "dash": "solid",
          "width": 2
         },
         "mode": "lines",
         "name": "lines",
         "showlegend": false,
         "text": "Line_49.0-50.0<br />I = 7.013 %<br />I_from = 0.021 kA<br />I_to = 0.021 kA<br />",
         "type": "scatter",
         "x": [
          6.0,
          6.5,
          7.0
         ],
         "y": [
          -0.83333333,
          -0.83333333,
          -0.83333333
         ]
        },
        {
         "hoverinfo": "text",
         "legendgroup": "lines",
         "line": {
          "color": "rgb(0.0,0.0,141.13636363636363)",
          "dash": "solid",
          "width": 2
         },
         "mode": "lines",
         "name": "lines",
         "showlegend": false,
         "text": "Line_8.0-51.0<br />I = 1.218 %<br />I_from = 0.002 kA<br />I_to = 0.002 kA<br />",
         "type": "scatter",
         "x": [
          7.0,
          7.5,
          8.0
         ],
         "y": [
          -1.83333333,
          -1.36458333,
          -0.89583333
         ]
        },
        {
         "hoverinfo": "text",
         "legendgroup": "lines",
         "line": {
          "color": "rgb(0.0,0.0,127.5)",
          "dash": "solid",
          "width": 2
         },
         "mode": "lines",
         "name": "lines",
         "showlegend": false,
         "text": "Line_51.0-52.0<br />I = 0.102 %<br />I_from = 0.0 kA<br />I_to = 0.0 kA<br />",
         "type": "scatter",
         "x": [
          8.0,
          8.5,
          9.0
         ],
         "y": [
          -0.89583333,
          -0.89583333,
          -0.89583333
         ]
        },
        {
         "hoverinfo": "text",
         "legendgroup": "lines",
         "line": {
          "color": "rgb(0.0,216.5,255.0)",
          "dash": "solid",
          "width": 2
         },
         "mode": "lines",
         "name": "lines",
         "showlegend": false,
         "text": "Line_9.0-53.0<br />I = 33.858 %<br />I_from = 0.102 kA<br />I_to = 0.102 kA<br />",
         "type": "scatter",
         "x": [
          8.0,
          8.5,
          9.0
         ],
         "y": [
          -2.77083333,
          -2.33333333,
          -1.89583333
         ]
        },
        {
         "hoverinfo": "text",
         "legendgroup": "lines",
         "line": {
          "color": "rgb(0.0,216.5,255.0)",
          "dash": "solid",
          "width": 2
         },
         "mode": "lines",
         "name": "lines",
         "showlegend": false,
         "text": "Line_53.0-54.0<br />I = 33.774 %<br />I_from = 0.101 kA<br />I_to = 0.101 kA<br />",
         "type": "scatter",
         "x": [
          9.0,
          9.5,
          10.0
         ],
         "y": [
          -1.89583333,
          -1.89583333,
          -1.89583333
         ]
        },
        {
         "hoverinfo": "text",
         "legendgroup": "lines",
         "line": {
          "color": "rgb(0.0,212.5,255.0)",
          "dash": "solid",
          "width": 2
         },
         "mode": "lines",
         "name": "lines",
         "showlegend": false,
         "text": "Line_54.0-55.0<br />I = 33.281 %<br />I_from = 0.1 kA<br />I_to = 0.1 kA<br />",
         "type": "scatter",
         "x": [
          10.0,
          10.5,
          11.0
         ],
         "y": [
          -1.89583333,
          -1.89583333,
          -1.89583333
         ]
        },
        {
         "hoverinfo": "text",
         "legendgroup": "lines",
         "line": {
          "color": "rgb(0.0,208.5,255.0)",
          "dash": "solid",
          "width": 2
         },
         "mode": "lines",
         "name": "lines",
         "showlegend": false,
         "text": "Line_55.0-56.0<br />I = 32.831 %<br />I_from = 0.098 kA<br />I_to = 0.098 kA<br />",
         "type": "scatter",
         "x": [
          11.0,
          11.5,
          12.0
         ],
         "y": [
          -1.89583333,
          -1.89583333,
          -1.89583333
         ]
        },
        {
         "hoverinfo": "text",
         "legendgroup": "lines",
         "line": {
          "color": "rgb(0.0,208.5,255.0)",
          "dash": "solid",
          "width": 2
         },
         "mode": "lines",
         "name": "lines",
         "showlegend": false,
         "text": "Line_56.0-57.0<br />I = 32.831 %<br />I_from = 0.098 kA<br />I_to = 0.098 kA<br />",
         "type": "scatter",
         "x": [
          12.0,
          12.5,
          13.0
         ],
         "y": [
          -1.89583333,
          -1.89583333,
          -1.89583333
         ]
        },
        {
         "hoverinfo": "text",
         "legendgroup": "lines",
         "line": {
          "color": "rgb(0.0,208.5,255.0)",
          "dash": "solid",
          "width": 2
         },
         "mode": "lines",
         "name": "lines",
         "showlegend": false,
         "text": "Line_57.0-58.0<br />I = 32.831 %<br />I_from = 0.098 kA<br />I_to = 0.098 kA<br />",
         "type": "scatter",
         "x": [
          13.0,
          13.5,
          14.0
         ],
         "y": [
          -1.89583333,
          -1.89583333,
          -1.89583333
         ]
        },
        {
         "hoverinfo": "text",
         "legendgroup": "lines",
         "line": {
          "color": "rgb(0.0,208.5,255.0)",
          "dash": "solid",
          "width": 2
         },
         "mode": "lines",
         "name": "lines",
         "showlegend": false,
         "text": "Line_58.0-59.0<br />I = 32.831 %<br />I_from = 0.098 kA<br />I_to = 0.098 kA<br />",
         "type": "scatter",
         "x": [
          14.0,
          14.5,
          15.0
         ],
         "y": [
          -1.89583333,
          -1.89583333,
          -1.89583333
         ]
        },
        {
         "hoverinfo": "text",
         "legendgroup": "lines",
         "line": {
          "color": "rgb(0.0,188.5,255.0)",
          "dash": "solid",
          "width": 2
         },
         "mode": "lines",
         "name": "lines",
         "showlegend": false,
         "text": "Line_59.0-60.0<br />I = 30.875 %<br />I_from = 0.093 kA<br />I_to = 0.093 kA<br />",
         "type": "scatter",
         "x": [
          15.0,
          15.5,
          16.0
         ],
         "y": [
          -1.89583333,
          -1.89583333,
          -1.89583333
         ]
        },
        {
         "hoverinfo": "text",
         "legendgroup": "lines",
         "line": {
          "color": "rgb(0.0,188.5,255.0)",
          "dash": "solid",
          "width": 2
         },
         "mode": "lines",
         "name": "lines",
         "showlegend": false,
         "text": "Line_60.0-61.0<br />I = 30.875 %<br />I_from = 0.093 kA<br />I_to = 0.093 kA<br />",
         "type": "scatter",
         "x": [
          16.0,
          16.5,
          17.0
         ],
         "y": [
          -1.89583333,
          -1.89583333,
          -1.89583333
         ]
        },
        {
         "hoverinfo": "text",
         "legendgroup": "lines",
         "line": {
          "color": "rgb(0.0,0.0,200.22727272727272)",
          "dash": "solid",
          "width": 2
         },
         "mode": "lines",
         "name": "lines",
         "showlegend": false,
         "text": "Line_61.0-62.0<br />I = 6.298 %<br />I_from = 0.019 kA<br />I_to = 0.019 kA<br />",
         "type": "scatter",
         "x": [
          17.0,
          17.5,
          18.0
         ],
         "y": [
          -1.89583333,
          -1.89583333,
          -1.89583333
         ]
        },
        {
         "hoverinfo": "text",
         "legendgroup": "lines",
         "line": {
          "color": "rgb(0.0,0.0,191.13636363636363)",
          "dash": "solid",
          "width": 2
         },
         "mode": "lines",
         "name": "lines",
         "showlegend": false,
         "text": "Line_62.0-63.0<br />I = 5.664 %<br />I_from = 0.017 kA<br />I_to = 0.017 kA<br />",
         "type": "scatter",
         "x": [
          18.0,
          18.5,
          19.0
         ],
         "y": [
          -1.89583333,
          -1.89583333,
          -1.89583333
         ]
        },
        {
         "hoverinfo": "text",
         "legendgroup": "lines",
         "line": {
          "color": "rgb(0.0,0.0,191.13636363636363)",
          "dash": "solid",
          "width": 2
         },
         "mode": "lines",
         "name": "lines",
         "showlegend": false,
         "text": "Line_63.0-64.0<br />I = 5.664 %<br />I_from = 0.017 kA<br />I_to = 0.017 kA<br />",
         "type": "scatter",
         "x": [
          19.0,
          19.5,
          20.0
         ],
         "y": [
          -1.89583333,
          -1.89583333,
          -1.89583333
         ]
        },
        {
         "hoverinfo": "text",
         "legendgroup": "lines",
         "line": {
          "color": "rgb(0.0,0.0,136.5909090909091)",
          "dash": "solid",
          "width": 2
         },
         "mode": "lines",
         "name": "lines",
         "showlegend": false,
         "text": "Line_64.0-65.0<br />I = 1.168 %<br />I_from = 0.004 kA<br />I_to = 0.004 kA<br />",
         "type": "scatter",
         "x": [
          20.0,
          20.5,
          21.0
         ],
         "y": [
          -1.89583333,
          -1.89583333,
          -1.89583333
         ]
        },
        {
         "hoverinfo": "text",
         "legendgroup": "lines",
         "line": {
          "color": "rgb(0.0,0.0,136.5909090909091)",
          "dash": "solid",
          "width": 2
         },
         "mode": "lines",
         "name": "lines",
         "showlegend": false,
         "text": "Line_11.0-66.0<br />I = 1.01 %<br />I_from = 0.002 kA<br />I_to = 0.002 kA<br />",
         "type": "scatter",
         "x": [
          10.0,
          10.5,
          11.0
         ],
         "y": [
          -3.64583333,
          -3.27083333,
          -2.89583333
         ]
        },
        {
         "hoverinfo": "text",
         "legendgroup": "lines",
         "line": {
          "color": "rgb(0.0,0.0,132.04545454545453)",
          "dash": "solid",
          "width": 2
         },
         "mode": "lines",
         "name": "lines",
         "showlegend": false,
         "text": "Line_66.0-67.0<br />I = 0.505 %<br />I_from = 0.001 kA<br />I_to = 0.001 kA<br />",
         "type": "scatter",
         "x": [
          11.0,
          11.5,
          12.0
         ],
         "y": [
          -2.89583333,
          -2.89583333,
          -2.89583333
         ]
        },
        {
         "hoverinfo": "text",
         "legendgroup": "lines",
         "line": {
          "color": "rgb(0.0,0.0,145.6818181818182)",
          "dash": "solid",
          "width": 2
         },
         "mode": "lines",
         "name": "lines",
         "showlegend": false,
         "text": "Line_12.0-68.0<br />I = 1.571 %<br />I_from = 0.003 kA<br />I_to = 0.003 kA<br />",
         "type": "scatter",
         "x": [
          11.0,
          11.5,
          12.0
         ],
         "y": [
          -4.39583333,
          -4.14583333,
          -3.89583333
         ]
        },
        {
         "hoverinfo": "text",
         "legendgroup": "lines",
         "line": {
          "color": "rgb(0.0,0.0,136.5909090909091)",
          "dash": "solid",
          "width": 2
         },
         "mode": "lines",
         "name": "lines",
         "showlegend": false,
         "text": "Line_68.0-69.0<br />I = 0.785 %<br />I_from = 0.002 kA<br />I_to = 0.002 kA<br />",
         "type": "scatter",
         "x": [
          12.0,
          12.5,
          13.0
         ],
         "y": [
          -3.89583333,
          -3.89583333,
          -3.89583333
         ]
        },
        {
         "hoverinfo": "text",
         "legendgroup": "disconnected lines",
         "line": {
          "color": "rgb(128, 128, 128)",
          "dash": "dot",
          "width": 1.0
         },
         "mode": "lines",
         "name": "disconnected branches",
         "showlegend": true,
         "text": "Tie_Line_50-59<br />I = 0.0 %<br />I_from = 0.0 kA<br />I_to = 0.0 kA<br />",
         "type": "scatter",
         "x": [
          7.0,
          11.0,
          15.0
         ],
         "y": [
          -0.83333333,
          -1.36458333,
          -1.89583333
         ]
        },
        {
         "hoverinfo": "text",
         "legendgroup": "disconnected lines",
         "line": {
          "color": "rgb(128, 128, 128)",
          "dash": "dot",
          "width": 1.0
         },
         "mode": "lines",
         "name": "disconnected branches",
         "showlegend": false,
         "text": "Tie_Line_11-44<br />I = 0.0 %<br />I_from = 0.0 kA<br />I_to = 0.0 kA<br />",
         "type": "scatter",
         "x": [
          10.0,
          10.5,
          11.0
         ],
         "y": [
          -3.64583333,
          -1.23958333,
          1.16666667
         ]
        },
        {
         "hoverinfo": "text",
         "legendgroup": "disconnected lines",
         "line": {
          "color": "rgb(128, 128, 128)",
          "dash": "dot",
          "width": 1.0
         },
         "mode": "lines",
         "name": "disconnected branches",
         "showlegend": false,
         "text": "Tie_Line_13-21<br />I = 0.0 %<br />I_from = 0.0 kA<br />I_to = 0.0 kA<br />",
         "type": "scatter",
         "x": [
          12.0,
          16.0,
          20.0
         ],
         "y": [
          -4.89583333,
          -4.89583333,
          -4.89583333
         ]
        },
        {
         "hoverinfo": "text",
         "legendgroup": "disconnected lines",
         "line": {
          "color": "rgb(128, 128, 128)",
          "dash": "dot",
          "width": 1.0
         },
         "mode": "lines",
         "name": "disconnected branches",
         "showlegend": false,
         "text": "Tie_Line_65-27<br />I = 0.0 %<br />I_from = 0.0 kA<br />I_to = 0.0 kA<br />",
         "type": "scatter",
         "x": [
          21.0,
          23.5,
          26.0
         ],
         "y": [
          -1.89583333,
          -3.3958333300000003,
          -4.89583333
         ]
        },
        {
         "hoverinfo": "text",
         "legendgroup": "lines",
         "marker": {
          "color": "rgb(128, 128, 128)",
          "size": 1,
          "symbol": "circle"
         },
         "mode": "markers",
         "name": "edge_center",
         "showlegend": false,
         "text": [
          "Line_1.0-2.0<br />I = 54.085 %<br />I_from = 0.216 kA<br />I_to = 0.216 kA<br />",
          "Line_2.0-3.0<br />I = 54.085 %<br />I_from = 0.216 kA<br />I_to = 0.216 kA<br />",
          "Line_3.0-4.0<br />I = 50.337 %<br />I_from = 0.201 kA<br />I_to = 0.201 kA<br />",
          "Line_4.0-5.0<br />I = 38.745 %<br />I_from = 0.155 kA<br />I_to = 0.155 kA<br />",
          "Line_5.0-6.0<br />I = 38.745 %<br />I_from = 0.155 kA<br />I_to = 0.155 kA<br />",
          "Line_6.0-7.0<br />I = 38.707 %<br />I_from = 0.155 kA<br />I_to = 0.155 kA<br />",
          "Line_7.0-8.0<br />I = 38.14 %<br />I_from = 0.153 kA<br />I_to = 0.153 kA<br />",
          "Line_8.0-9.0<br />I = 36.488 %<br />I_from = 0.146 kA<br />I_to = 0.146 kA<br />",
          "Line_9.0-10.0<br />I = 10.673 %<br />I_from = 0.043 kA<br />I_to = 0.043 kA<br />",
          "Line_10.0-11.0<br />I = 20.578 %<br />I_from = 0.041 kA<br />I_to = 0.041 kA<br />",
          "Line_11.0-12.0<br />I = 15.51 %<br />I_from = 0.031 kA<br />I_to = 0.031 kA<br />",
          "Line_12.0-13.0<br />I = 9.87 %<br />I_from = 0.02 kA<br />I_to = 0.02 kA<br />",
          "Line_13.0-14.0<br />I = 9.654 %<br />I_from = 0.019 kA<br />I_to = 0.019 kA<br />",
          "Line_14.0-15.0<br />I = 9.431 %<br />I_from = 0.019 kA<br />I_to = 0.019 kA<br />",
          "Line_15.0-16.0<br />I = 9.431 %<br />I_from = 0.019 kA<br />I_to = 0.019 kA<br />",
          "Line_16.0-17.0<br />I = 8.177 %<br />I_from = 0.016 kA<br />I_to = 0.016 kA<br />",
          "Line_17.0-18.0<br />I = 6.579 %<br />I_from = 0.013 kA<br />I_to = 0.013 kA<br />",
          "Line_18.0-19.0<br />I = 4.983 %<br />I_from = 0.01 kA<br />I_to = 0.01 kA<br />",
          "Line_19.0-20.0<br />I = 4.983 %<br />I_from = 0.01 kA<br />I_to = 0.01 kA<br />",
          "Line_20.0-21.0<br />I = 4.956 %<br />I_from = 0.01 kA<br />I_to = 0.01 kA<br />",
          "Line_21.0-22.0<br />I = 1.729 %<br />I_from = 0.003 kA<br />I_to = 0.003 kA<br />",
          "Line_22.0-23.0<br />I = 1.588 %<br />I_from = 0.003 kA<br />I_to = 0.003 kA<br />",
          "Line_23.0-24.0<br />I = 1.588 %<br />I_from = 0.003 kA<br />I_to = 0.003 kA<br />",
          "Line_24.0-25.0<br />I = 0.794 %<br />I_from = 0.002 kA<br />I_to = 0.002 kA<br />",
          "Line_25.0-26.0<br />I = 0.794 %<br />I_from = 0.002 kA<br />I_to = 0.002 kA<br />",
          "Line_26.0-27.0<br />I = 0.397 %<br />I_from = 0.001 kA<br />I_to = 0.001 kA<br />",
          "Line_3.0-28.0<br />I = 2.488 %<br />I_from = 0.005 kA<br />I_to = 0.005 kA<br />",
          "Line_28.0-29.0<br />I = 1.781 %<br />I_from = 0.004 kA<br />I_to = 0.004 kA<br />",
          "Line_29.0-30.0<br />I = 1.073 %<br />I_from = 0.002 kA<br />I_to = 0.002 kA<br />",
          "Line_30.0-31.0<br />I = 1.073 %<br />I_from = 0.002 kA<br />I_to = 0.002 kA<br />",
          "Line_31.0-32.0<br />I = 1.073 %<br />I_from = 0.002 kA<br />I_to = 0.002 kA<br />",
          "Line_32.0-33.0<br />I = 1.073 %<br />I_from = 0.002 kA<br />I_to = 0.002 kA<br />",
          "Line_33.0-34.0<br />I = 0.692 %<br />I_from = 0.001 kA<br />I_to = 0.001 kA<br />",
          "Line_34.0-35.0<br />I = 0.16 %<br />I_from = 0.0 kA<br />I_to = 0.0 kA<br />",
          "Line_3.0-36.0<br />I = 5.009 %<br />I_from = 0.01 kA<br />I_to = 0.01 kA<br />",
          "Line_36.0-37.0<br />I = 4.302 %<br />I_from = 0.009 kA<br />I_to = 0.009 kA<br />",
          "Line_37.0-38.0<br />I = 3.595 %<br />I_from = 0.007 kA<br />I_to = 0.007 kA<br />",
          "Line_38.0-39.0<br />I = 3.595 %<br />I_from = 0.007 kA<br />I_to = 0.007 kA<br />",
          "Line_39.0-40.0<br />I = 2.943 %<br />I_from = 0.006 kA<br />I_to = 0.006 kA<br />",
          "Line_40.0-41.0<br />I = 2.292 %<br />I_from = 0.005 kA<br />I_to = 0.005 kA<br />",
          "Line_41.0-42.0<br />I = 2.258 %<br />I_from = 0.005 kA<br />I_to = 0.005 kA<br />",
          "Line_42.0-43.0<br />I = 2.258 %<br />I_from = 0.005 kA<br />I_to = 0.005 kA<br />",
          "Line_43.0-44.0<br />I = 2.094 %<br />I_from = 0.004 kA<br />I_to = 0.004 kA<br />",
          "Line_44.0-45.0<br />I = 2.094 %<br />I_from = 0.004 kA<br />I_to = 0.004 kA<br />",
          "Line_45.0-46.0<br />I = 1.047 %<br />I_from = 0.002 kA<br />I_to = 0.002 kA<br />",
          "Line_4.0-47.0<br />I = 15.458 %<br />I_from = 0.046 kA<br />I_to = 0.046 kA<br />",
          "Line_47.0-48.0<br />I = 15.458 %<br />I_from = 0.046 kA<br />I_to = 0.046 kA<br />",
          "Line_48.0-49.0<br />I = 14.023 %<br />I_from = 0.042 kA<br />I_to = 0.042 kA<br />",
          "Line_49.0-50.0<br />I = 7.013 %<br />I_from = 0.021 kA<br />I_to = 0.021 kA<br />",
          "Line_8.0-51.0<br />I = 1.218 %<br />I_from = 0.002 kA<br />I_to = 0.002 kA<br />",
          "Line_51.0-52.0<br />I = 0.102 %<br />I_from = 0.0 kA<br />I_to = 0.0 kA<br />",
          "Line_9.0-53.0<br />I = 33.858 %<br />I_from = 0.102 kA<br />I_to = 0.102 kA<br />",
          "Line_53.0-54.0<br />I = 33.774 %<br />I_from = 0.101 kA<br />I_to = 0.101 kA<br />",
          "Line_54.0-55.0<br />I = 33.281 %<br />I_from = 0.1 kA<br />I_to = 0.1 kA<br />",
          "Line_55.0-56.0<br />I = 32.831 %<br />I_from = 0.098 kA<br />I_to = 0.098 kA<br />",
          "Line_56.0-57.0<br />I = 32.831 %<br />I_from = 0.098 kA<br />I_to = 0.098 kA<br />",
          "Line_57.0-58.0<br />I = 32.831 %<br />I_from = 0.098 kA<br />I_to = 0.098 kA<br />",
          "Line_58.0-59.0<br />I = 32.831 %<br />I_from = 0.098 kA<br />I_to = 0.098 kA<br />",
          "Line_59.0-60.0<br />I = 30.875 %<br />I_from = 0.093 kA<br />I_to = 0.093 kA<br />",
          "Line_60.0-61.0<br />I = 30.875 %<br />I_from = 0.093 kA<br />I_to = 0.093 kA<br />",
          "Line_61.0-62.0<br />I = 6.298 %<br />I_from = 0.019 kA<br />I_to = 0.019 kA<br />",
          "Line_62.0-63.0<br />I = 5.664 %<br />I_from = 0.017 kA<br />I_to = 0.017 kA<br />",
          "Line_63.0-64.0<br />I = 5.664 %<br />I_from = 0.017 kA<br />I_to = 0.017 kA<br />",
          "Line_64.0-65.0<br />I = 1.168 %<br />I_from = 0.004 kA<br />I_to = 0.004 kA<br />",
          "Line_11.0-66.0<br />I = 1.01 %<br />I_from = 0.002 kA<br />I_to = 0.002 kA<br />",
          "Line_66.0-67.0<br />I = 0.505 %<br />I_from = 0.001 kA<br />I_to = 0.001 kA<br />",
          "Line_12.0-68.0<br />I = 1.571 %<br />I_from = 0.003 kA<br />I_to = 0.003 kA<br />",
          "Line_68.0-69.0<br />I = 0.785 %<br />I_from = 0.002 kA<br />I_to = 0.002 kA<br />",
          "Tie_Line_50-59<br />I = 0.0 %<br />I_from = 0.0 kA<br />I_to = 0.0 kA<br />",
          "Tie_Line_11-44<br />I = 0.0 %<br />I_from = 0.0 kA<br />I_to = 0.0 kA<br />",
          "Tie_Line_13-21<br />I = 0.0 %<br />I_from = 0.0 kA<br />I_to = 0.0 kA<br />",
          "Tie_Line_65-27<br />I = 0.0 %<br />I_from = 0.0 kA<br />I_to = 0.0 kA<br />"
         ],
         "type": "scatter",
         "x": [
          0.5
         ],
         "y": [
          0.0
         ]
        },
        {
         "hoverinfo": "text",
         "marker": {
          "color": "rgb(128, 128, 128)",
          "size": 20,
          "symbol": "square"
         },
         "mode": "markers",
         "name": "external_grid",
         "text": [
          "Bus_1"
         ],
         "type": "scatter",
         "x": [
          0.0
         ],
         "y": [
          0.0
         ]
        },
        {
         "hoverinfo": "text",
         "marker": {
          "cmax": 1.1,
          "cmin": 0.9,
          "color": {
           "bdata": "exSuR+F68D85TDNHv3rwPx8k1UadevA/rb6OXD568D+uc2QnAHfwP+TQKYKjU/A/CTLCnd0u8D+6kqCTGCbwP314UXOcIfA/eoe2Z8gN8D8Ar7Q0agnwP5pi1aXD+e8/V55+PpXi7z/XZW+KmsvvP0YvdALbtO8/FzeW46Cw7z9kkqxTpqnvP2tmWkCUqe8/zaMfQ+Wl7z9orP4aiKPvP8QvG1q2n+8/mZLzY6if7z/vO/GCFp/vP0RgpPzYne8/SFmmrYGc7z9p9VkO9JvvP3o7vFvMm+8/uPN/PpZ68D+fT1pCTXrwP9Mh5fTRefA/P7/SMrx58D9ESJ9oT3nwP2qk+5lKePA/TuCLE/V28D8MVrdzsHbwP8F8mDmPevA/HhPPVuB58D/VJO73PnnwP0WlGGMQefA/CgSrIQ558D8heuXtR3bwP7A1GEUedfA/tjnl8fZ08D99XAV57nTwP/mBBjGKdPA/Y58lxIl08D8I+L5kC3rwP1IJ+Y0XdfA/kAJFz85l8D9Xm6M1pGPwP4zxC4v0JfA/Wot63uol8D802jrMmBbwP0V8SDPHCfA/HyhCXjHw7z8ZVGv8qM3vP+2TdVsGHO8/IsdfuZnE7j8SEJjPyKLuP4Jn2N4Qe+4/N7oi7pZA7j/cykLpTD7uPw9QMV88O+4/Zo7hbzcs7j+N/f1orSfuPwE88Y0wCfA/gocn4i8J8D96VUE1JffvP26zpxAj9+8/",
           "dtype": "f8"
          },
          "colorbar": {
           "thickness": 10,
           "title": {
            "side": "right",
            "text": "Bus Voltage [pu]"
           },
           "x": 1.0
          },
          "colorscale": [
           [
            0.0,
            "rgb(0,0,131)"
           ],
           [
            0.2,
            "rgb(0,60,170)"
           ],
           [
            0.4,
            "rgb(5,255,255)"
           ],
           [
            0.6,
            "rgb(255,255,0)"
           ],
           [
            0.8,
            "rgb(250,0,0)"
           ],
           [
            1.0,
            "rgb(128,0,0)"
           ]
          ],
          "size": 10,
          "symbol": "circle"
         },
         "mode": "markers",
         "name": "buses",
         "text": [
          "Bus_1<br />V_m = 1.03 pu<br />V_m = 13.04 kV<br />V_a = 0.0 deg",
          "Bus_2<br />V_m = 1.03 pu<br />V_m = 13.039 kV<br />V_a = -0.001 deg",
          "Bus_3<br />V_m = 1.03 pu<br />V_m = 13.039 kV<br />V_a = -0.002 deg",
          "Bus_4<br />V_m = 1.03 pu<br />V_m = 13.038 kV<br />V_a = -0.006 deg",
          "Bus_5<br />V_m = 1.029 pu<br />V_m = 13.028 kV<br />V_a = -0.017 deg",
          "Bus_6<br />V_m = 1.02 pu<br />V_m = 12.919 kV<br />V_a = 0.047 deg",
          "Bus_7<br />V_m = 1.011 pu<br />V_m = 12.805 kV<br />V_a = 0.114 deg",
          "Bus_8<br />V_m = 1.009 pu<br />V_m = 12.778 kV<br />V_a = 0.131 deg",
          "Bus_9<br />V_m = 1.008 pu<br />V_m = 12.764 kV<br />V_a = 0.139 deg",
          "Bus_10<br />V_m = 1.003 pu<br />V_m = 12.703 kV<br />V_a = 0.218 deg",
          "Bus_11<br />V_m = 1.002 pu<br />V_m = 12.689 kV<br />V_a = 0.236 deg",
          "Bus_12<br />V_m = 0.999 pu<br />V_m = 12.65 kV<br />V_a = 0.286 deg",
          "Bus_13<br />V_m = 0.996 pu<br />V_m = 12.615 kV<br />V_a = 0.329 deg",
          "Bus_14<br />V_m = 0.994 pu<br />V_m = 12.579 kV<br />V_a = 0.372 deg",
          "Bus_15<br />V_m = 0.991 pu<br />V_m = 12.544 kV<br />V_a = 0.416 deg",
          "Bus_16<br />V_m = 0.99 pu<br />V_m = 12.537 kV<br />V_a = 0.424 deg",
          "Bus_17<br />V_m = 0.989 pu<br />V_m = 12.527 kV<br />V_a = 0.437 deg",
          "Bus_18<br />V_m = 0.989 pu<br />V_m = 12.526 kV<br />V_a = 0.437 deg",
          "Bus_19<br />V_m = 0.989 pu<br />V_m = 12.521 kV<br />V_a = 0.445 deg",
          "Bus_20<br />V_m = 0.989 pu<br />V_m = 12.517 kV<br />V_a = 0.45 deg",
          "Bus_21<br />V_m = 0.988 pu<br />V_m = 12.511 kV<br />V_a = 0.459 deg",
          "Bus_22<br />V_m = 0.988 pu<br />V_m = 12.511 kV<br />V_a = 0.459 deg",
          "Bus_23<br />V_m = 0.988 pu<br />V_m = 12.51 kV<br />V_a = 0.46 deg",
          "Bus_24<br />V_m = 0.988 pu<br />V_m = 12.508 kV<br />V_a = 0.463 deg",
          "Bus_25<br />V_m = 0.988 pu<br />V_m = 12.506 kV<br />V_a = 0.466 deg",
          "Bus_26<br />V_m = 0.988 pu<br />V_m = 12.505 kV<br />V_a = 0.467 deg",
          "Bus_27<br />V_m = 0.988 pu<br />V_m = 12.505 kV<br />V_a = 0.467 deg",
          "Bus_28<br />V_m = 1.03 pu<br />V_m = 13.039 kV<br />V_a = -0.003 deg",
          "Bus_29<br />V_m = 1.03 pu<br />V_m = 13.038 kV<br />V_a = -0.005 deg",
          "Bus_30<br />V_m = 1.03 pu<br />V_m = 13.037 kV<br />V_a = -0.003 deg",
          "Bus_31<br />V_m = 1.03 pu<br />V_m = 13.036 kV<br />V_a = -0.003 deg",
          "Bus_32<br />V_m = 1.03 pu<br />V_m = 13.035 kV<br />V_a = -0.001 deg",
          "Bus_33<br />V_m = 1.029 pu<br />V_m = 13.032 kV<br />V_a = 0.003 deg",
          "Bus_34<br />V_m = 1.029 pu<br />V_m = 13.028 kV<br />V_a = 0.009 deg",
          "Bus_35<br />V_m = 1.029 pu<br />V_m = 13.027 kV<br />V_a = 0.01 deg",
          "Bus_36<br />V_m = 1.03 pu<br />V_m = 13.039 kV<br />V_a = -0.003 deg",
          "Bus_37<br />V_m = 1.03 pu<br />V_m = 13.037 kV<br />V_a = -0.009 deg",
          "Bus_38<br />V_m = 1.03 pu<br />V_m = 13.035 kV<br />V_a = -0.011 deg",
          "Bus_39<br />V_m = 1.03 pu<br />V_m = 13.034 kV<br />V_a = -0.012 deg",
          "Bus_40<br />V_m = 1.03 pu<br />V_m = 13.034 kV<br />V_a = -0.012 deg",
          "Bus_41<br />V_m = 1.029 pu<br />V_m = 13.026 kV<br />V_a = -0.022 deg",
          "Bus_42<br />V_m = 1.029 pu<br />V_m = 13.022 kV<br />V_a = -0.027 deg",
          "Bus_43<br />V_m = 1.029 pu<br />V_m = 13.022 kV<br />V_a = -0.027 deg",
          "Bus_44<br />V_m = 1.029 pu<br />V_m = 13.021 kV<br />V_a = -0.027 deg",
          "Bus_45<br />V_m = 1.028 pu<br />V_m = 13.02 kV<br />V_a = -0.029 deg",
          "Bus_46<br />V_m = 1.028 pu<br />V_m = 13.02 kV<br />V_a = -0.029 deg",
          "Bus_47<br />V_m = 1.03 pu<br />V_m = 13.037 kV<br />V_a = -0.007 deg",
          "Bus_48<br />V_m = 1.029 pu<br />V_m = 13.022 kV<br />V_a = -0.049 deg",
          "Bus_49<br />V_m = 1.025 pu<br />V_m = 12.975 kV<br />V_a = -0.181 deg",
          "Bus_50<br />V_m = 1.024 pu<br />V_m = 12.968 kV<br />V_a = -0.199 deg",
          "Bus_51<br />V_m = 1.009 pu<br />V_m = 12.777 kV<br />V_a = 0.131 deg",
          "Bus_52<br />V_m = 1.009 pu<br />V_m = 12.777 kV<br />V_a = 0.131 deg",
          "Bus_53<br />V_m = 1.006 pu<br />V_m = 12.73 kV<br />V_a = 0.159 deg",
          "Bus_54<br />V_m = 1.002 pu<br />V_m = 12.69 kV<br />V_a = 0.184 deg",
          "Bus_55<br />V_m = 0.998 pu<br />V_m = 12.636 kV<br />V_a = 0.217 deg",
          "Bus_56<br />V_m = 0.994 pu<br />V_m = 12.582 kV<br />V_a = 0.25 deg",
          "Bus_57<br />V_m = 0.972 pu<br />V_m = 12.308 kV<br />V_a = 0.621 deg",
          "Bus_58<br />V_m = 0.961 pu<br />V_m = 12.173 kV<br />V_a = 0.811 deg",
          "Bus_59<br />V_m = 0.957 pu<br />V_m = 12.12 kV<br />V_a = 0.886 deg",
          "Bus_60<br />V_m = 0.953 pu<br />V_m = 12.059 kV<br />V_a = 0.984 deg",
          "Bus_61<br />V_m = 0.945 pu<br />V_m = 11.969 kV<br />V_a = 1.048 deg",
          "Bus_62<br />V_m = 0.945 pu<br />V_m = 11.965 kV<br />V_a = 1.05 deg",
          "Bus_63<br />V_m = 0.945 pu<br />V_m = 11.96 kV<br />V_a = 1.054 deg",
          "Bus_64<br />V_m = 0.943 pu<br />V_m = 11.937 kV<br />V_a = 1.071 deg",
          "Bus_65<br />V_m = 0.942 pu<br />V_m = 11.93 kV<br />V_a = 1.076 deg",
          "Bus_66<br />V_m = 1.002 pu<br />V_m = 12.688 kV<br />V_a = 0.237 deg",
          "Bus_67<br />V_m = 1.002 pu<br />V_m = 12.688 kV<br />V_a = 0.237 deg",
          "Bus_68<br />V_m = 0.999 pu<br />V_m = 12.646 kV<br />V_a = 0.291 deg",
          "Bus_69<br />V_m = 0.999 pu<br />V_m = 12.646 kV<br />V_a = 0.291 deg"
         ],
         "type": "scatter",
         "x": [
          0.0,
          1.0,
          2.0,
          3.0,
          4.0,
          5.0,
          6.0,
          7.0,
          8.0,
          9.0,
          10.0,
          11.0,
          12.0,
          13.0,
          14.0,
          15.0,
          16.0,
          17.0,
          18.0,
          19.0,
          20.0,
          21.0,
          22.0,
          23.0,
          24.0,
          25.0,
          26.0,
          3.0,
          4.0,
          5.0,
          6.0,
          7.0,
          8.0,
          9.0,
          10.0,
          3.0,
          4.0,
          5.0,
          6.0,
          7.0,
          8.0,
          9.0,
          10.0,
          11.0,
          12.0,
          13.0,
          4.0,
          5.0,
          6.0,
          7.0,
          8.0,
          9.0,
          9.0,
          10.0,
          11.0,
          12.0,
          13.0,
          14.0,
          15.0,
          16.0,
          17.0,
          18.0,
          19.0,
          20.0,
          21.0,
          11.0,
          12.0,
          12.0,
          13.0
         ],
         "y": [
          0.0,
          0.0,
          0.0,
          -1.33333333,
          -1.83333333,
          -1.83333333,
          -1.83333333,
          -1.83333333,
          -2.77083333,
          -3.64583333,
          -3.64583333,
          -4.39583333,
          -4.89583333,
          -4.89583333,
          -4.89583333,
          -4.89583333,
          -4.89583333,
          -4.89583333,
          -4.89583333,
          -4.89583333,
          -4.89583333,
          -4.89583333,
          -4.89583333,
          -4.89583333,
          -4.89583333,
          -4.89583333,
          -4.89583333,
          0.16666667,
          0.16666667,
          0.16666667,
          0.16666667,
          0.16666667,
          0.16666667,
          0.16666667,
          0.16666667,
          1.16666667,
          1.16666667,
          1.16666667,
          1.16666667,
          1.16666667,
          1.16666667,
          1.16666667,
          1.16666667,
          1.16666667,
          1.16666667,
          1.16666667,
          -0.83333333,
          -0.83333333,
          -0.83333333,
          -0.83333333,
          -0.89583333,
          -0.89583333,
          -1.89583333,
          -1.89583333,
          -1.89583333,
          -1.89583333,
          -1.89583333,
          -1.89583333,
          -1.89583333,
          -1.89583333,
          -1.89583333,
          -1.89583333,
          -1.89583333,
          -1.89583333,
          -1.89583333,
          -2.89583333,
          -2.89583333,
          -3.89583333,
          -3.89583333
         ]
        }
       ],
       "layout": {
        "autosize": true,
        "height": 163.22115384615384,
        "hovermode": "closest",
        "legend": {
         "itemsizing": "constant"
        },
        "margin": {
         "b": 5,
         "l": 5,
         "r": 5,
         "t": 5
        },
        "showlegend": false,
        "template": {
         "data": {
          "bar": [
           {
            "error_x": {
             "color": "#2a3f5f"
            },
            "error_y": {
             "color": "#2a3f5f"
            },
            "marker": {
             "line": {
              "color": "#E5ECF6",
              "width": 0.5
             },
             "pattern": {
              "fillmode": "overlay",
              "size": 10,
              "solidity": 0.2
             }
            },
            "type": "bar"
           }
          ],
          "barpolar": [
           {
            "marker": {
             "line": {
              "color": "#E5ECF6",
              "width": 0.5
             },
             "pattern": {
              "fillmode": "overlay",
              "size": 10,
              "solidity": 0.2
             }
            },
            "type": "barpolar"
           }
          ],
          "carpet": [
           {
            "aaxis": {
             "endlinecolor": "#2a3f5f",
             "gridcolor": "white",
             "linecolor": "white",
             "minorgridcolor": "white",
             "startlinecolor": "#2a3f5f"
            },
            "baxis": {
             "endlinecolor": "#2a3f5f",
             "gridcolor": "white",
             "linecolor": "white",
             "minorgridcolor": "white",
             "startlinecolor": "#2a3f5f"
            },
            "type": "carpet"
           }
          ],
          "choropleth": [
           {
            "colorbar": {
             "outlinewidth": 0,
             "ticks": ""
            },
            "type": "choropleth"
           }
          ],
          "contour": [
           {
            "colorbar": {
             "outlinewidth": 0,
             "ticks": ""
            },
            "colorscale": [
             [
              0.0,
              "#0d0887"
             ],
             [
              0.1111111111111111,
              "#46039f"
             ],
             [
              0.2222222222222222,
              "#7201a8"
             ],
             [
              0.3333333333333333,
              "#9c179e"
             ],
             [
              0.4444444444444444,
              "#bd3786"
             ],
             [
              0.5555555555555556,
              "#d8576b"
             ],
             [
              0.6666666666666666,
              "#ed7953"
             ],
             [
              0.7777777777777778,
              "#fb9f3a"
             ],
             [
              0.8888888888888888,
              "#fdca26"
             ],
             [
              1.0,
              "#f0f921"
             ]
            ],
            "type": "contour"
           }
          ],
          "contourcarpet": [
           {
            "colorbar": {
             "outlinewidth": 0,
             "ticks": ""
            },
            "type": "contourcarpet"
           }
          ],
          "heatmap": [
           {
            "colorbar": {
             "outlinewidth": 0,
             "ticks": ""
            },
            "colorscale": [
             [
              0.0,
              "#0d0887"
             ],
             [
              0.1111111111111111,
              "#46039f"
             ],
             [
              0.2222222222222222,
              "#7201a8"
             ],
             [
              0.3333333333333333,
              "#9c179e"
             ],
             [
              0.4444444444444444,
              "#bd3786"
             ],
             [
              0.5555555555555556,
              "#d8576b"
             ],
             [
              0.6666666666666666,
              "#ed7953"
             ],
             [
              0.7777777777777778,
              "#fb9f3a"
             ],
             [
              0.8888888888888888,
              "#fdca26"
             ],
             [
              1.0,
              "#f0f921"
             ]
            ],
            "type": "heatmap"
           }
          ],
          "histogram": [
           {
            "marker": {
             "pattern": {
              "fillmode": "overlay",
              "size": 10,
              "solidity": 0.2
             }
            },
            "type": "histogram"
           }
          ],
          "histogram2d": [
           {
            "colorbar": {
             "outlinewidth": 0,
             "ticks": ""
            },
            "colorscale": [
             [
              0.0,
              "#0d0887"
             ],
             [
              0.1111111111111111,
              "#46039f"
             ],
             [
              0.2222222222222222,
              "#7201a8"
             ],
             [
              0.3333333333333333,
              "#9c179e"
             ],
             [
              0.4444444444444444,
              "#bd3786"
             ],
             [
              0.5555555555555556,
              "#d8576b"
             ],
             [
              0.6666666666666666,
              "#ed7953"
             ],
             [
              0.7777777777777778,
              "#fb9f3a"
             ],
             [
              0.8888888888888888,
              "#fdca26"
             ],
             [
              1.0,
              "#f0f921"
             ]
            ],
            "type": "histogram2d"
           }
          ],
          "histogram2dcontour": [
           {
            "colorbar": {
             "outlinewidth": 0,
             "ticks": ""
            },
            "colorscale": [
             [
              0.0,
              "#0d0887"
             ],
             [
              0.1111111111111111,
              "#46039f"
             ],
             [
              0.2222222222222222,
              "#7201a8"
             ],
             [
              0.3333333333333333,
              "#9c179e"
             ],
             [
              0.4444444444444444,
              "#bd3786"
             ],
             [
              0.5555555555555556,
              "#d8576b"
             ],
             [
              0.6666666666666666,
              "#ed7953"
             ],
             [
              0.7777777777777778,
              "#fb9f3a"
             ],
             [
              0.8888888888888888,
              "#fdca26"
             ],
             [
              1.0,
              "#f0f921"
             ]
            ],
            "type": "histogram2dcontour"
           }
          ],
          "mesh3d": [
           {
            "colorbar": {
             "outlinewidth": 0,
             "ticks": ""
            },
            "type": "mesh3d"
           }
          ],
          "parcoords": [
           {
            "line": {
             "colorbar": {
              "outlinewidth": 0,
              "ticks": ""
             }
            },
            "type": "parcoords"
           }
          ],
          "pie": [
           {
            "automargin": true,
            "type": "pie"
           }
          ],
          "scatter": [
           {
            "fillpattern": {
             "fillmode": "overlay",
             "size": 10,
             "solidity": 0.2
            },
            "type": "scatter"
           }
          ],
          "scatter3d": [
           {
            "line": {
             "colorbar": {
              "outlinewidth": 0,
              "ticks": ""
             }
            },
            "marker": {
             "colorbar": {
              "outlinewidth": 0,
              "ticks": ""
             }
            },
            "type": "scatter3d"
           }
          ],
          "scattercarpet": [
           {
            "marker": {
             "colorbar": {
              "outlinewidth": 0,
              "ticks": ""
             }
            },
            "type": "scattercarpet"
           }
          ],
          "scattergeo": [
           {
            "marker": {
             "colorbar": {
              "outlinewidth": 0,
              "ticks": ""
             }
            },
            "type": "scattergeo"
           }
          ],
          "scattergl": [
           {
            "marker": {
             "colorbar": {
              "outlinewidth": 0,
              "ticks": ""
             }
            },
            "type": "scattergl"
           }
          ],
          "scattermap": [
           {
            "marker": {
             "colorbar": {
              "outlinewidth": 0,
              "ticks": ""
             }
            },
            "type": "scattermap"
           }
          ],
          "scattermapbox": [
           {
            "marker": {
             "colorbar": {
              "outlinewidth": 0,
              "ticks": ""
             }
            },
            "type": "scattermapbox"
           }
          ],
          "scatterpolar": [
           {
            "marker": {
             "colorbar": {
              "outlinewidth": 0,
              "ticks": ""
             }
            },
            "type": "scatterpolar"
           }
          ],
          "scatterpolargl": [
           {
            "marker": {
             "colorbar": {
              "outlinewidth": 0,
              "ticks": ""
             }
            },
            "type": "scatterpolargl"
           }
          ],
          "scatterternary": [
           {
            "marker": {
             "colorbar": {
              "outlinewidth": 0,
              "ticks": ""
             }
            },
            "type": "scatterternary"
           }
          ],
          "surface": [
           {
            "colorbar": {
             "outlinewidth": 0,
             "ticks": ""
            },
            "colorscale": [
             [
              0.0,
              "#0d0887"
             ],
             [
              0.1111111111111111,
              "#46039f"
             ],
             [
              0.2222222222222222,
              "#7201a8"
             ],
             [
              0.3333333333333333,
              "#9c179e"
             ],
             [
              0.4444444444444444,
              "#bd3786"
             ],
             [
              0.5555555555555556,
              "#d8576b"
             ],
             [
              0.6666666666666666,
              "#ed7953"
             ],
             [
              0.7777777777777778,
              "#fb9f3a"
             ],
             [
              0.8888888888888888,
              "#fdca26"
             ],
             [
              1.0,
              "#f0f921"
             ]
            ],
            "type": "surface"
           }
          ],
          "table": [
           {
            "cells": {
             "fill": {
              "color": "#EBF0F8"
             },
             "line": {
              "color": "white"
             }
            },
            "header": {
             "fill": {
              "color": "#C8D4E3"
             },
             "line": {
              "color": "white"
             }
            },
            "type": "table"
           }
          ]
         },
         "layout": {
          "annotationdefaults": {
           "arrowcolor": "#2a3f5f",
           "arrowhead": 0,
           "arrowwidth": 1
          },
          "autotypenumbers": "strict",
          "coloraxis": {
           "colorbar": {
            "outlinewidth": 0,
            "ticks": ""
           }
          },
          "colorscale": {
           "diverging": [
            [
             0,
             "#8e0152"
            ],
            [
             0.1,
             "#c51b7d"
            ],
            [
             0.2,
             "#de77ae"
            ],
            [
             0.3,
             "#f1b6da"
            ],
            [
             0.4,
             "#fde0ef"
            ],
            [
             0.5,
             "#f7f7f7"
            ],
            [
             0.6,
             "#e6f5d0"
            ],
            [
             0.7,
             "#b8e186"
            ],
            [
             0.8,
             "#7fbc41"
            ],
            [
             0.9,
             "#4d9221"
            ],
            [
             1,
             "#276419"
            ]
           ],
           "sequential": [
            [
             0.0,
             "#0d0887"
            ],
            [
             0.1111111111111111,
             "#46039f"
            ],
            [
             0.2222222222222222,
             "#7201a8"
            ],
            [
             0.3333333333333333,
             "#9c179e"
            ],
            [
             0.4444444444444444,
             "#bd3786"
            ],
            [
             0.5555555555555556,
             "#d8576b"
            ],
            [
             0.6666666666666666,
             "#ed7953"
            ],
            [
             0.7777777777777778,
             "#fb9f3a"
            ],
            [
             0.8888888888888888,
             "#fdca26"
            ],
            [
             1.0,
             "#f0f921"
            ]
           ],
           "sequentialminus": [
            [
             0.0,
             "#0d0887"
            ],
            [
             0.1111111111111111,
             "#46039f"
            ],
            [
             0.2222222222222222,
             "#7201a8"
            ],
            [
             0.3333333333333333,
             "#9c179e"
            ],
            [
             0.4444444444444444,
             "#bd3786"
            ],
            [
             0.5555555555555556,
             "#d8576b"
            ],
            [
             0.6666666666666666,
             "#ed7953"
            ],
            [
             0.7777777777777778,
             "#fb9f3a"
            ],
            [
             0.8888888888888888,
             "#fdca26"
            ],
            [
             1.0,
             "#f0f921"
            ]
           ]
          },
          "colorway": [
           "#636efa",
           "#EF553B",
           "#00cc96",
           "#ab63fa",
           "#FFA15A",
           "#19d3f3",
           "#FF6692",
           "#B6E880",
           "#FF97FF",
           "#FECB52"
          ],
          "font": {
           "color": "#2a3f5f"
          },
          "geo": {
           "bgcolor": "white",
           "lakecolor": "white",
           "landcolor": "#E5ECF6",
           "showlakes": true,
           "showland": true,
           "subunitcolor": "white"
          },
          "hoverlabel": {
           "align": "left"
          },
          "hovermode": "closest",
          "mapbox": {
           "style": "light"
          },
          "paper_bgcolor": "white",
          "plot_bgcolor": "#E5ECF6",
          "polar": {
           "angularaxis": {
            "gridcolor": "white",
            "linecolor": "white",
            "ticks": ""
           },
           "bgcolor": "#E5ECF6",
           "radialaxis": {
            "gridcolor": "white",
            "linecolor": "white",
            "ticks": ""
           }
          },
          "scene": {
           "xaxis": {
            "backgroundcolor": "#E5ECF6",
            "gridcolor": "white",
            "gridwidth": 2,
            "linecolor": "white",
            "showbackground": true,
            "ticks": "",
            "zerolinecolor": "white"
           },
           "yaxis": {
            "backgroundcolor": "#E5ECF6",
            "gridcolor": "white",
            "gridwidth": 2,
            "linecolor": "white",
            "showbackground": true,
            "ticks": "",
            "zerolinecolor": "white"
           },
           "zaxis": {
            "backgroundcolor": "#E5ECF6",
            "gridcolor": "white",
            "gridwidth": 2,
            "linecolor": "white",
            "showbackground": true,
            "ticks": "",
            "zerolinecolor": "white"
           }
          },
          "shapedefaults": {
           "line": {
            "color": "#2a3f5f"
           }
          },
          "ternary": {
           "aaxis": {
            "gridcolor": "white",
            "linecolor": "white",
            "ticks": ""
           },
           "baxis": {
            "gridcolor": "white",
            "linecolor": "white",
            "ticks": ""
           },
           "bgcolor": "#E5ECF6",
           "caxis": {
            "gridcolor": "white",
            "linecolor": "white",
            "ticks": ""
           }
          },
          "title": {
           "x": 0.05
          },
          "xaxis": {
           "automargin": true,
           "gridcolor": "white",
           "linecolor": "white",
           "ticks": "",
           "title": {
            "standoff": 15
           },
           "zerolinecolor": "white",
           "zerolinewidth": 2
          },
          "yaxis": {
           "automargin": true,
           "gridcolor": "white",
           "linecolor": "white",
           "ticks": "",
           "title": {
            "standoff": 15
           },
           "zerolinecolor": "white",
           "zerolinewidth": 2
          }
         }
        },
        "title": {
         "font": {
          "size": 16
         }
        },
        "width": 700.0,
        "xaxis": {
         "showgrid": false,
         "showticklabels": false,
         "zeroline": false
        },
        "yaxis": {
         "showgrid": false,
         "showticklabels": false,
         "zeroline": false
        }
       }
      }
     },
     "metadata": {},
     "output_type": "display_data"
    }
   ],
   "source": [
    "pp.plotting.plotly.pf_res_plotly(network, auto_open=False)"
   ]
  },
  {
   "cell_type": "code",
   "execution_count": 8,
   "id": "8017adc67538f528",
   "metadata": {
    "ExecuteTime": {
     "end_time": "2025-08-07T01:59:22.336134Z",
     "start_time": "2025-08-07T01:59:22.315781Z"
    }
   },
   "outputs": [
    {
     "name": "stderr",
     "output_type": "stream",
     "text": [
      "2025-08-06 21:59:22,333 [WARNING] 72 node geometries could not be converted to geojson. Please update network's geodata!\n"
     ]
    }
   ],
   "source": [
    "g = pp.plotting.dump_to_geojson(network, True, True, True, True, True)"
   ]
  },
  {
   "cell_type": "code",
   "execution_count": null,
   "id": "ec734ab3d7720f1c",
   "metadata": {},
   "outputs": [],
   "source": [
    "org_network = deepcopy(network)"
   ]
  },
  {
   "cell_type": "code",
   "execution_count": 544,
   "id": "cb4b07cb73023f84",
   "metadata": {
    "ExecuteTime": {
     "end_time": "2025-07-22T01:41:45.708257Z",
     "start_time": "2025-07-22T01:41:45.690241Z"
    }
   },
   "outputs": [
    {
     "data": {
      "text/html": [
       "<div>\n",
       "<style scoped>\n",
       "    .dataframe tbody tr th:only-of-type {\n",
       "        vertical-align: middle;\n",
       "    }\n",
       "\n",
       "    .dataframe tbody tr th {\n",
       "        vertical-align: top;\n",
       "    }\n",
       "\n",
       "    .dataframe thead th {\n",
       "        text-align: right;\n",
       "    }\n",
       "</style>\n",
       "<table border=\"1\" class=\"dataframe\">\n",
       "  <thead>\n",
       "    <tr style=\"text-align: right;\">\n",
       "      <th></th>\n",
       "      <th>name</th>\n",
       "      <th>bus</th>\n",
       "      <th>p_mw</th>\n",
       "      <th>q_mvar</th>\n",
       "      <th>const_z_percent</th>\n",
       "      <th>const_i_percent</th>\n",
       "      <th>sn_mva</th>\n",
       "      <th>scaling</th>\n",
       "      <th>in_service</th>\n",
       "      <th>type</th>\n",
       "      <th>curtailable</th>\n",
       "    </tr>\n",
       "  </thead>\n",
       "  <tbody>\n",
       "    <tr>\n",
       "      <th>0</th>\n",
       "      <td>Load_Bus_6.0</td>\n",
       "      <td>5</td>\n",
       "      <td>0.00260</td>\n",
       "      <td>0.00220</td>\n",
       "      <td>0.0</td>\n",
       "      <td>0.0</td>\n",
       "      <td>NaN</td>\n",
       "      <td>1.0</td>\n",
       "      <td>True</td>\n",
       "      <td>wye</td>\n",
       "      <td>False</td>\n",
       "    </tr>\n",
       "    <tr>\n",
       "      <th>1</th>\n",
       "      <td>Load_Bus_7.0</td>\n",
       "      <td>6</td>\n",
       "      <td>0.04040</td>\n",
       "      <td>0.03000</td>\n",
       "      <td>0.0</td>\n",
       "      <td>0.0</td>\n",
       "      <td>NaN</td>\n",
       "      <td>1.0</td>\n",
       "      <td>True</td>\n",
       "      <td>wye</td>\n",
       "      <td>False</td>\n",
       "    </tr>\n",
       "    <tr>\n",
       "      <th>2</th>\n",
       "      <td>Load_Bus_8.0</td>\n",
       "      <td>7</td>\n",
       "      <td>0.07500</td>\n",
       "      <td>0.05400</td>\n",
       "      <td>0.0</td>\n",
       "      <td>0.0</td>\n",
       "      <td>NaN</td>\n",
       "      <td>1.0</td>\n",
       "      <td>True</td>\n",
       "      <td>wye</td>\n",
       "      <td>False</td>\n",
       "    </tr>\n",
       "    <tr>\n",
       "      <th>3</th>\n",
       "      <td>Load_Bus_9.0</td>\n",
       "      <td>8</td>\n",
       "      <td>0.03000</td>\n",
       "      <td>0.02200</td>\n",
       "      <td>0.0</td>\n",
       "      <td>0.0</td>\n",
       "      <td>NaN</td>\n",
       "      <td>1.0</td>\n",
       "      <td>True</td>\n",
       "      <td>wye</td>\n",
       "      <td>False</td>\n",
       "    </tr>\n",
       "    <tr>\n",
       "      <th>4</th>\n",
       "      <td>Load_Bus_10.0</td>\n",
       "      <td>9</td>\n",
       "      <td>0.02800</td>\n",
       "      <td>0.01900</td>\n",
       "      <td>0.0</td>\n",
       "      <td>0.0</td>\n",
       "      <td>NaN</td>\n",
       "      <td>1.0</td>\n",
       "      <td>True</td>\n",
       "      <td>wye</td>\n",
       "      <td>False</td>\n",
       "    </tr>\n",
       "    <tr>\n",
       "      <th>5</th>\n",
       "      <td>Load_Bus_11.0</td>\n",
       "      <td>10</td>\n",
       "      <td>0.14500</td>\n",
       "      <td>0.10400</td>\n",
       "      <td>0.0</td>\n",
       "      <td>0.0</td>\n",
       "      <td>NaN</td>\n",
       "      <td>1.0</td>\n",
       "      <td>True</td>\n",
       "      <td>wye</td>\n",
       "      <td>False</td>\n",
       "    </tr>\n",
       "    <tr>\n",
       "      <th>6</th>\n",
       "      <td>Load_Bus_12.0</td>\n",
       "      <td>11</td>\n",
       "      <td>0.14500</td>\n",
       "      <td>0.10400</td>\n",
       "      <td>0.0</td>\n",
       "      <td>0.0</td>\n",
       "      <td>NaN</td>\n",
       "      <td>1.0</td>\n",
       "      <td>True</td>\n",
       "      <td>wye</td>\n",
       "      <td>False</td>\n",
       "    </tr>\n",
       "    <tr>\n",
       "      <th>7</th>\n",
       "      <td>Load_Bus_13.0</td>\n",
       "      <td>12</td>\n",
       "      <td>0.00800</td>\n",
       "      <td>0.00500</td>\n",
       "      <td>0.0</td>\n",
       "      <td>0.0</td>\n",
       "      <td>NaN</td>\n",
       "      <td>1.0</td>\n",
       "      <td>True</td>\n",
       "      <td>wye</td>\n",
       "      <td>False</td>\n",
       "    </tr>\n",
       "    <tr>\n",
       "      <th>8</th>\n",
       "      <td>Load_Bus_14.0</td>\n",
       "      <td>13</td>\n",
       "      <td>0.00800</td>\n",
       "      <td>0.00550</td>\n",
       "      <td>0.0</td>\n",
       "      <td>0.0</td>\n",
       "      <td>NaN</td>\n",
       "      <td>1.0</td>\n",
       "      <td>True</td>\n",
       "      <td>wye</td>\n",
       "      <td>False</td>\n",
       "    </tr>\n",
       "    <tr>\n",
       "      <th>9</th>\n",
       "      <td>Load_Bus_16.0</td>\n",
       "      <td>15</td>\n",
       "      <td>0.04550</td>\n",
       "      <td>0.03000</td>\n",
       "      <td>0.0</td>\n",
       "      <td>0.0</td>\n",
       "      <td>NaN</td>\n",
       "      <td>1.0</td>\n",
       "      <td>True</td>\n",
       "      <td>wye</td>\n",
       "      <td>False</td>\n",
       "    </tr>\n",
       "    <tr>\n",
       "      <th>10</th>\n",
       "      <td>Load_Bus_17.0</td>\n",
       "      <td>16</td>\n",
       "      <td>0.06000</td>\n",
       "      <td>0.03500</td>\n",
       "      <td>0.0</td>\n",
       "      <td>0.0</td>\n",
       "      <td>NaN</td>\n",
       "      <td>1.0</td>\n",
       "      <td>True</td>\n",
       "      <td>wye</td>\n",
       "      <td>False</td>\n",
       "    </tr>\n",
       "    <tr>\n",
       "      <th>11</th>\n",
       "      <td>Load_Bus_18.0</td>\n",
       "      <td>17</td>\n",
       "      <td>0.06000</td>\n",
       "      <td>0.03500</td>\n",
       "      <td>0.0</td>\n",
       "      <td>0.0</td>\n",
       "      <td>NaN</td>\n",
       "      <td>1.0</td>\n",
       "      <td>True</td>\n",
       "      <td>wye</td>\n",
       "      <td>False</td>\n",
       "    </tr>\n",
       "    <tr>\n",
       "      <th>12</th>\n",
       "      <td>Load_Bus_20.0</td>\n",
       "      <td>19</td>\n",
       "      <td>0.00100</td>\n",
       "      <td>0.00060</td>\n",
       "      <td>0.0</td>\n",
       "      <td>0.0</td>\n",
       "      <td>NaN</td>\n",
       "      <td>1.0</td>\n",
       "      <td>True</td>\n",
       "      <td>wye</td>\n",
       "      <td>False</td>\n",
       "    </tr>\n",
       "    <tr>\n",
       "      <th>13</th>\n",
       "      <td>Load_Bus_21.0</td>\n",
       "      <td>20</td>\n",
       "      <td>0.11400</td>\n",
       "      <td>0.08100</td>\n",
       "      <td>0.0</td>\n",
       "      <td>0.0</td>\n",
       "      <td>NaN</td>\n",
       "      <td>1.0</td>\n",
       "      <td>True</td>\n",
       "      <td>wye</td>\n",
       "      <td>False</td>\n",
       "    </tr>\n",
       "    <tr>\n",
       "      <th>14</th>\n",
       "      <td>Load_Bus_22.0</td>\n",
       "      <td>21</td>\n",
       "      <td>0.00500</td>\n",
       "      <td>0.00350</td>\n",
       "      <td>0.0</td>\n",
       "      <td>0.0</td>\n",
       "      <td>NaN</td>\n",
       "      <td>1.0</td>\n",
       "      <td>True</td>\n",
       "      <td>wye</td>\n",
       "      <td>False</td>\n",
       "    </tr>\n",
       "    <tr>\n",
       "      <th>15</th>\n",
       "      <td>Load_Bus_24.0</td>\n",
       "      <td>23</td>\n",
       "      <td>0.02800</td>\n",
       "      <td>0.02000</td>\n",
       "      <td>0.0</td>\n",
       "      <td>0.0</td>\n",
       "      <td>NaN</td>\n",
       "      <td>1.0</td>\n",
       "      <td>True</td>\n",
       "      <td>wye</td>\n",
       "      <td>False</td>\n",
       "    </tr>\n",
       "    <tr>\n",
       "      <th>16</th>\n",
       "      <td>Load_Bus_26.0</td>\n",
       "      <td>25</td>\n",
       "      <td>0.01400</td>\n",
       "      <td>0.01000</td>\n",
       "      <td>0.0</td>\n",
       "      <td>0.0</td>\n",
       "      <td>NaN</td>\n",
       "      <td>1.0</td>\n",
       "      <td>True</td>\n",
       "      <td>wye</td>\n",
       "      <td>False</td>\n",
       "    </tr>\n",
       "    <tr>\n",
       "      <th>17</th>\n",
       "      <td>Load_Bus_27.0</td>\n",
       "      <td>26</td>\n",
       "      <td>0.01400</td>\n",
       "      <td>0.01000</td>\n",
       "      <td>0.0</td>\n",
       "      <td>0.0</td>\n",
       "      <td>NaN</td>\n",
       "      <td>1.0</td>\n",
       "      <td>True</td>\n",
       "      <td>wye</td>\n",
       "      <td>False</td>\n",
       "    </tr>\n",
       "    <tr>\n",
       "      <th>18</th>\n",
       "      <td>Load_Bus_28.0</td>\n",
       "      <td>27</td>\n",
       "      <td>0.02600</td>\n",
       "      <td>0.01860</td>\n",
       "      <td>0.0</td>\n",
       "      <td>0.0</td>\n",
       "      <td>NaN</td>\n",
       "      <td>1.0</td>\n",
       "      <td>True</td>\n",
       "      <td>wye</td>\n",
       "      <td>False</td>\n",
       "    </tr>\n",
       "    <tr>\n",
       "      <th>19</th>\n",
       "      <td>Load_Bus_29.0</td>\n",
       "      <td>28</td>\n",
       "      <td>0.02600</td>\n",
       "      <td>0.01860</td>\n",
       "      <td>0.0</td>\n",
       "      <td>0.0</td>\n",
       "      <td>NaN</td>\n",
       "      <td>1.0</td>\n",
       "      <td>True</td>\n",
       "      <td>wye</td>\n",
       "      <td>False</td>\n",
       "    </tr>\n",
       "    <tr>\n",
       "      <th>20</th>\n",
       "      <td>Load_Bus_33.0</td>\n",
       "      <td>32</td>\n",
       "      <td>0.01400</td>\n",
       "      <td>0.01000</td>\n",
       "      <td>0.0</td>\n",
       "      <td>0.0</td>\n",
       "      <td>NaN</td>\n",
       "      <td>1.0</td>\n",
       "      <td>True</td>\n",
       "      <td>wye</td>\n",
       "      <td>False</td>\n",
       "    </tr>\n",
       "    <tr>\n",
       "      <th>21</th>\n",
       "      <td>Load_Bus_34.0</td>\n",
       "      <td>33</td>\n",
       "      <td>0.01950</td>\n",
       "      <td>0.01400</td>\n",
       "      <td>0.0</td>\n",
       "      <td>0.0</td>\n",
       "      <td>NaN</td>\n",
       "      <td>1.0</td>\n",
       "      <td>True</td>\n",
       "      <td>wye</td>\n",
       "      <td>False</td>\n",
       "    </tr>\n",
       "    <tr>\n",
       "      <th>22</th>\n",
       "      <td>Load_Bus_35.0</td>\n",
       "      <td>34</td>\n",
       "      <td>0.00600</td>\n",
       "      <td>0.00400</td>\n",
       "      <td>0.0</td>\n",
       "      <td>0.0</td>\n",
       "      <td>NaN</td>\n",
       "      <td>1.0</td>\n",
       "      <td>True</td>\n",
       "      <td>wye</td>\n",
       "      <td>False</td>\n",
       "    </tr>\n",
       "    <tr>\n",
       "      <th>23</th>\n",
       "      <td>Load_Bus_36.0</td>\n",
       "      <td>35</td>\n",
       "      <td>0.02600</td>\n",
       "      <td>0.01855</td>\n",
       "      <td>0.0</td>\n",
       "      <td>0.0</td>\n",
       "      <td>NaN</td>\n",
       "      <td>1.0</td>\n",
       "      <td>True</td>\n",
       "      <td>wye</td>\n",
       "      <td>False</td>\n",
       "    </tr>\n",
       "    <tr>\n",
       "      <th>24</th>\n",
       "      <td>Load_Bus_37.0</td>\n",
       "      <td>36</td>\n",
       "      <td>0.02600</td>\n",
       "      <td>0.01855</td>\n",
       "      <td>0.0</td>\n",
       "      <td>0.0</td>\n",
       "      <td>NaN</td>\n",
       "      <td>1.0</td>\n",
       "      <td>True</td>\n",
       "      <td>wye</td>\n",
       "      <td>False</td>\n",
       "    </tr>\n",
       "    <tr>\n",
       "      <th>25</th>\n",
       "      <td>Load_Bus_39.0</td>\n",
       "      <td>38</td>\n",
       "      <td>0.02400</td>\n",
       "      <td>0.01700</td>\n",
       "      <td>0.0</td>\n",
       "      <td>0.0</td>\n",
       "      <td>NaN</td>\n",
       "      <td>1.0</td>\n",
       "      <td>True</td>\n",
       "      <td>wye</td>\n",
       "      <td>False</td>\n",
       "    </tr>\n",
       "    <tr>\n",
       "      <th>26</th>\n",
       "      <td>Load_Bus_40.0</td>\n",
       "      <td>39</td>\n",
       "      <td>0.02400</td>\n",
       "      <td>0.01700</td>\n",
       "      <td>0.0</td>\n",
       "      <td>0.0</td>\n",
       "      <td>NaN</td>\n",
       "      <td>1.0</td>\n",
       "      <td>True</td>\n",
       "      <td>wye</td>\n",
       "      <td>False</td>\n",
       "    </tr>\n",
       "    <tr>\n",
       "      <th>27</th>\n",
       "      <td>Load_Bus_41.0</td>\n",
       "      <td>40</td>\n",
       "      <td>0.00120</td>\n",
       "      <td>0.00100</td>\n",
       "      <td>0.0</td>\n",
       "      <td>0.0</td>\n",
       "      <td>NaN</td>\n",
       "      <td>1.0</td>\n",
       "      <td>True</td>\n",
       "      <td>wye</td>\n",
       "      <td>False</td>\n",
       "    </tr>\n",
       "    <tr>\n",
       "      <th>28</th>\n",
       "      <td>Load_Bus_43.0</td>\n",
       "      <td>42</td>\n",
       "      <td>0.00600</td>\n",
       "      <td>0.00430</td>\n",
       "      <td>0.0</td>\n",
       "      <td>0.0</td>\n",
       "      <td>NaN</td>\n",
       "      <td>1.0</td>\n",
       "      <td>True</td>\n",
       "      <td>wye</td>\n",
       "      <td>False</td>\n",
       "    </tr>\n",
       "    <tr>\n",
       "      <th>29</th>\n",
       "      <td>Load_Bus_45.0</td>\n",
       "      <td>44</td>\n",
       "      <td>0.03922</td>\n",
       "      <td>0.02630</td>\n",
       "      <td>0.0</td>\n",
       "      <td>0.0</td>\n",
       "      <td>NaN</td>\n",
       "      <td>1.0</td>\n",
       "      <td>True</td>\n",
       "      <td>wye</td>\n",
       "      <td>False</td>\n",
       "    </tr>\n",
       "    <tr>\n",
       "      <th>30</th>\n",
       "      <td>Load_Bus_46.0</td>\n",
       "      <td>45</td>\n",
       "      <td>0.03922</td>\n",
       "      <td>0.02630</td>\n",
       "      <td>0.0</td>\n",
       "      <td>0.0</td>\n",
       "      <td>NaN</td>\n",
       "      <td>1.0</td>\n",
       "      <td>True</td>\n",
       "      <td>wye</td>\n",
       "      <td>False</td>\n",
       "    </tr>\n",
       "    <tr>\n",
       "      <th>31</th>\n",
       "      <td>Load_Bus_48.0</td>\n",
       "      <td>47</td>\n",
       "      <td>0.07900</td>\n",
       "      <td>0.05640</td>\n",
       "      <td>0.0</td>\n",
       "      <td>0.0</td>\n",
       "      <td>NaN</td>\n",
       "      <td>1.0</td>\n",
       "      <td>True</td>\n",
       "      <td>wye</td>\n",
       "      <td>False</td>\n",
       "    </tr>\n",
       "    <tr>\n",
       "      <th>32</th>\n",
       "      <td>Load_Bus_49.0</td>\n",
       "      <td>48</td>\n",
       "      <td>0.38470</td>\n",
       "      <td>0.27450</td>\n",
       "      <td>0.0</td>\n",
       "      <td>0.0</td>\n",
       "      <td>NaN</td>\n",
       "      <td>1.0</td>\n",
       "      <td>True</td>\n",
       "      <td>wye</td>\n",
       "      <td>False</td>\n",
       "    </tr>\n",
       "    <tr>\n",
       "      <th>33</th>\n",
       "      <td>Load_Bus_50.0</td>\n",
       "      <td>49</td>\n",
       "      <td>0.38470</td>\n",
       "      <td>0.27450</td>\n",
       "      <td>0.0</td>\n",
       "      <td>0.0</td>\n",
       "      <td>NaN</td>\n",
       "      <td>1.0</td>\n",
       "      <td>True</td>\n",
       "      <td>wye</td>\n",
       "      <td>False</td>\n",
       "    </tr>\n",
       "    <tr>\n",
       "      <th>34</th>\n",
       "      <td>Load_Bus_51.0</td>\n",
       "      <td>50</td>\n",
       "      <td>0.04050</td>\n",
       "      <td>0.02830</td>\n",
       "      <td>0.0</td>\n",
       "      <td>0.0</td>\n",
       "      <td>NaN</td>\n",
       "      <td>1.0</td>\n",
       "      <td>True</td>\n",
       "      <td>wye</td>\n",
       "      <td>False</td>\n",
       "    </tr>\n",
       "    <tr>\n",
       "      <th>35</th>\n",
       "      <td>Load_Bus_52.0</td>\n",
       "      <td>51</td>\n",
       "      <td>0.00360</td>\n",
       "      <td>0.00270</td>\n",
       "      <td>0.0</td>\n",
       "      <td>0.0</td>\n",
       "      <td>NaN</td>\n",
       "      <td>1.0</td>\n",
       "      <td>True</td>\n",
       "      <td>wye</td>\n",
       "      <td>False</td>\n",
       "    </tr>\n",
       "    <tr>\n",
       "      <th>36</th>\n",
       "      <td>Load_Bus_53.0</td>\n",
       "      <td>52</td>\n",
       "      <td>0.00435</td>\n",
       "      <td>0.00350</td>\n",
       "      <td>0.0</td>\n",
       "      <td>0.0</td>\n",
       "      <td>NaN</td>\n",
       "      <td>1.0</td>\n",
       "      <td>True</td>\n",
       "      <td>wye</td>\n",
       "      <td>False</td>\n",
       "    </tr>\n",
       "    <tr>\n",
       "      <th>37</th>\n",
       "      <td>Load_Bus_54.0</td>\n",
       "      <td>53</td>\n",
       "      <td>0.02640</td>\n",
       "      <td>0.01900</td>\n",
       "      <td>0.0</td>\n",
       "      <td>0.0</td>\n",
       "      <td>NaN</td>\n",
       "      <td>1.0</td>\n",
       "      <td>True</td>\n",
       "      <td>wye</td>\n",
       "      <td>False</td>\n",
       "    </tr>\n",
       "    <tr>\n",
       "      <th>38</th>\n",
       "      <td>Load_Bus_55.0</td>\n",
       "      <td>54</td>\n",
       "      <td>0.02400</td>\n",
       "      <td>0.01720</td>\n",
       "      <td>0.0</td>\n",
       "      <td>0.0</td>\n",
       "      <td>NaN</td>\n",
       "      <td>1.0</td>\n",
       "      <td>True</td>\n",
       "      <td>wye</td>\n",
       "      <td>False</td>\n",
       "    </tr>\n",
       "    <tr>\n",
       "      <th>39</th>\n",
       "      <td>Load_Bus_59.0</td>\n",
       "      <td>58</td>\n",
       "      <td>0.10000</td>\n",
       "      <td>0.07200</td>\n",
       "      <td>0.0</td>\n",
       "      <td>0.0</td>\n",
       "      <td>NaN</td>\n",
       "      <td>1.0</td>\n",
       "      <td>True</td>\n",
       "      <td>wye</td>\n",
       "      <td>False</td>\n",
       "    </tr>\n",
       "    <tr>\n",
       "      <th>40</th>\n",
       "      <td>Load_Bus_61.0</td>\n",
       "      <td>60</td>\n",
       "      <td>1.24400</td>\n",
       "      <td>0.88800</td>\n",
       "      <td>0.0</td>\n",
       "      <td>0.0</td>\n",
       "      <td>NaN</td>\n",
       "      <td>1.0</td>\n",
       "      <td>True</td>\n",
       "      <td>wye</td>\n",
       "      <td>False</td>\n",
       "    </tr>\n",
       "    <tr>\n",
       "      <th>41</th>\n",
       "      <td>Load_Bus_62.0</td>\n",
       "      <td>61</td>\n",
       "      <td>0.03200</td>\n",
       "      <td>0.02300</td>\n",
       "      <td>0.0</td>\n",
       "      <td>0.0</td>\n",
       "      <td>NaN</td>\n",
       "      <td>1.0</td>\n",
       "      <td>True</td>\n",
       "      <td>wye</td>\n",
       "      <td>False</td>\n",
       "    </tr>\n",
       "    <tr>\n",
       "      <th>42</th>\n",
       "      <td>Load_Bus_64.0</td>\n",
       "      <td>63</td>\n",
       "      <td>0.22700</td>\n",
       "      <td>0.16200</td>\n",
       "      <td>0.0</td>\n",
       "      <td>0.0</td>\n",
       "      <td>NaN</td>\n",
       "      <td>1.0</td>\n",
       "      <td>True</td>\n",
       "      <td>wye</td>\n",
       "      <td>False</td>\n",
       "    </tr>\n",
       "    <tr>\n",
       "      <th>43</th>\n",
       "      <td>Load_Bus_65.0</td>\n",
       "      <td>64</td>\n",
       "      <td>0.05900</td>\n",
       "      <td>0.04200</td>\n",
       "      <td>0.0</td>\n",
       "      <td>0.0</td>\n",
       "      <td>NaN</td>\n",
       "      <td>1.0</td>\n",
       "      <td>True</td>\n",
       "      <td>wye</td>\n",
       "      <td>False</td>\n",
       "    </tr>\n",
       "    <tr>\n",
       "      <th>44</th>\n",
       "      <td>Load_Bus_66.0</td>\n",
       "      <td>65</td>\n",
       "      <td>0.01800</td>\n",
       "      <td>0.01300</td>\n",
       "      <td>0.0</td>\n",
       "      <td>0.0</td>\n",
       "      <td>NaN</td>\n",
       "      <td>1.0</td>\n",
       "      <td>True</td>\n",
       "      <td>wye</td>\n",
       "      <td>False</td>\n",
       "    </tr>\n",
       "    <tr>\n",
       "      <th>45</th>\n",
       "      <td>Load_Bus_67.0</td>\n",
       "      <td>66</td>\n",
       "      <td>0.01800</td>\n",
       "      <td>0.01300</td>\n",
       "      <td>0.0</td>\n",
       "      <td>0.0</td>\n",
       "      <td>NaN</td>\n",
       "      <td>1.0</td>\n",
       "      <td>True</td>\n",
       "      <td>wye</td>\n",
       "      <td>False</td>\n",
       "    </tr>\n",
       "    <tr>\n",
       "      <th>46</th>\n",
       "      <td>Load_Bus_68.0</td>\n",
       "      <td>67</td>\n",
       "      <td>0.02800</td>\n",
       "      <td>0.02000</td>\n",
       "      <td>0.0</td>\n",
       "      <td>0.0</td>\n",
       "      <td>NaN</td>\n",
       "      <td>1.0</td>\n",
       "      <td>True</td>\n",
       "      <td>wye</td>\n",
       "      <td>False</td>\n",
       "    </tr>\n",
       "    <tr>\n",
       "      <th>47</th>\n",
       "      <td>Load_Bus_69.0</td>\n",
       "      <td>68</td>\n",
       "      <td>0.02800</td>\n",
       "      <td>0.02000</td>\n",
       "      <td>0.0</td>\n",
       "      <td>0.0</td>\n",
       "      <td>NaN</td>\n",
       "      <td>1.0</td>\n",
       "      <td>True</td>\n",
       "      <td>wye</td>\n",
       "      <td>False</td>\n",
       "    </tr>\n",
       "  </tbody>\n",
       "</table>\n",
       "</div>"
      ],
      "text/plain": [
       "             name  bus     p_mw   q_mvar  const_z_percent  const_i_percent  \\\n",
       "0    Load_Bus_6.0    5  0.00260  0.00220              0.0              0.0   \n",
       "1    Load_Bus_7.0    6  0.04040  0.03000              0.0              0.0   \n",
       "2    Load_Bus_8.0    7  0.07500  0.05400              0.0              0.0   \n",
       "3    Load_Bus_9.0    8  0.03000  0.02200              0.0              0.0   \n",
       "4   Load_Bus_10.0    9  0.02800  0.01900              0.0              0.0   \n",
       "5   Load_Bus_11.0   10  0.14500  0.10400              0.0              0.0   \n",
       "6   Load_Bus_12.0   11  0.14500  0.10400              0.0              0.0   \n",
       "7   Load_Bus_13.0   12  0.00800  0.00500              0.0              0.0   \n",
       "8   Load_Bus_14.0   13  0.00800  0.00550              0.0              0.0   \n",
       "9   Load_Bus_16.0   15  0.04550  0.03000              0.0              0.0   \n",
       "10  Load_Bus_17.0   16  0.06000  0.03500              0.0              0.0   \n",
       "11  Load_Bus_18.0   17  0.06000  0.03500              0.0              0.0   \n",
       "12  Load_Bus_20.0   19  0.00100  0.00060              0.0              0.0   \n",
       "13  Load_Bus_21.0   20  0.11400  0.08100              0.0              0.0   \n",
       "14  Load_Bus_22.0   21  0.00500  0.00350              0.0              0.0   \n",
       "15  Load_Bus_24.0   23  0.02800  0.02000              0.0              0.0   \n",
       "16  Load_Bus_26.0   25  0.01400  0.01000              0.0              0.0   \n",
       "17  Load_Bus_27.0   26  0.01400  0.01000              0.0              0.0   \n",
       "18  Load_Bus_28.0   27  0.02600  0.01860              0.0              0.0   \n",
       "19  Load_Bus_29.0   28  0.02600  0.01860              0.0              0.0   \n",
       "20  Load_Bus_33.0   32  0.01400  0.01000              0.0              0.0   \n",
       "21  Load_Bus_34.0   33  0.01950  0.01400              0.0              0.0   \n",
       "22  Load_Bus_35.0   34  0.00600  0.00400              0.0              0.0   \n",
       "23  Load_Bus_36.0   35  0.02600  0.01855              0.0              0.0   \n",
       "24  Load_Bus_37.0   36  0.02600  0.01855              0.0              0.0   \n",
       "25  Load_Bus_39.0   38  0.02400  0.01700              0.0              0.0   \n",
       "26  Load_Bus_40.0   39  0.02400  0.01700              0.0              0.0   \n",
       "27  Load_Bus_41.0   40  0.00120  0.00100              0.0              0.0   \n",
       "28  Load_Bus_43.0   42  0.00600  0.00430              0.0              0.0   \n",
       "29  Load_Bus_45.0   44  0.03922  0.02630              0.0              0.0   \n",
       "30  Load_Bus_46.0   45  0.03922  0.02630              0.0              0.0   \n",
       "31  Load_Bus_48.0   47  0.07900  0.05640              0.0              0.0   \n",
       "32  Load_Bus_49.0   48  0.38470  0.27450              0.0              0.0   \n",
       "33  Load_Bus_50.0   49  0.38470  0.27450              0.0              0.0   \n",
       "34  Load_Bus_51.0   50  0.04050  0.02830              0.0              0.0   \n",
       "35  Load_Bus_52.0   51  0.00360  0.00270              0.0              0.0   \n",
       "36  Load_Bus_53.0   52  0.00435  0.00350              0.0              0.0   \n",
       "37  Load_Bus_54.0   53  0.02640  0.01900              0.0              0.0   \n",
       "38  Load_Bus_55.0   54  0.02400  0.01720              0.0              0.0   \n",
       "39  Load_Bus_59.0   58  0.10000  0.07200              0.0              0.0   \n",
       "40  Load_Bus_61.0   60  1.24400  0.88800              0.0              0.0   \n",
       "41  Load_Bus_62.0   61  0.03200  0.02300              0.0              0.0   \n",
       "42  Load_Bus_64.0   63  0.22700  0.16200              0.0              0.0   \n",
       "43  Load_Bus_65.0   64  0.05900  0.04200              0.0              0.0   \n",
       "44  Load_Bus_66.0   65  0.01800  0.01300              0.0              0.0   \n",
       "45  Load_Bus_67.0   66  0.01800  0.01300              0.0              0.0   \n",
       "46  Load_Bus_68.0   67  0.02800  0.02000              0.0              0.0   \n",
       "47  Load_Bus_69.0   68  0.02800  0.02000              0.0              0.0   \n",
       "\n",
       "    sn_mva  scaling  in_service type  curtailable  \n",
       "0      NaN      1.0        True  wye        False  \n",
       "1      NaN      1.0        True  wye        False  \n",
       "2      NaN      1.0        True  wye        False  \n",
       "3      NaN      1.0        True  wye        False  \n",
       "4      NaN      1.0        True  wye        False  \n",
       "5      NaN      1.0        True  wye        False  \n",
       "6      NaN      1.0        True  wye        False  \n",
       "7      NaN      1.0        True  wye        False  \n",
       "8      NaN      1.0        True  wye        False  \n",
       "9      NaN      1.0        True  wye        False  \n",
       "10     NaN      1.0        True  wye        False  \n",
       "11     NaN      1.0        True  wye        False  \n",
       "12     NaN      1.0        True  wye        False  \n",
       "13     NaN      1.0        True  wye        False  \n",
       "14     NaN      1.0        True  wye        False  \n",
       "15     NaN      1.0        True  wye        False  \n",
       "16     NaN      1.0        True  wye        False  \n",
       "17     NaN      1.0        True  wye        False  \n",
       "18     NaN      1.0        True  wye        False  \n",
       "19     NaN      1.0        True  wye        False  \n",
       "20     NaN      1.0        True  wye        False  \n",
       "21     NaN      1.0        True  wye        False  \n",
       "22     NaN      1.0        True  wye        False  \n",
       "23     NaN      1.0        True  wye        False  \n",
       "24     NaN      1.0        True  wye        False  \n",
       "25     NaN      1.0        True  wye        False  \n",
       "26     NaN      1.0        True  wye        False  \n",
       "27     NaN      1.0        True  wye        False  \n",
       "28     NaN      1.0        True  wye        False  \n",
       "29     NaN      1.0        True  wye        False  \n",
       "30     NaN      1.0        True  wye        False  \n",
       "31     NaN      1.0        True  wye        False  \n",
       "32     NaN      1.0        True  wye        False  \n",
       "33     NaN      1.0        True  wye        False  \n",
       "34     NaN      1.0        True  wye        False  \n",
       "35     NaN      1.0        True  wye        False  \n",
       "36     NaN      1.0        True  wye        False  \n",
       "37     NaN      1.0        True  wye        False  \n",
       "38     NaN      1.0        True  wye        False  \n",
       "39     NaN      1.0        True  wye        False  \n",
       "40     NaN      1.0        True  wye        False  \n",
       "41     NaN      1.0        True  wye        False  \n",
       "42     NaN      1.0        True  wye        False  \n",
       "43     NaN      1.0        True  wye        False  \n",
       "44     NaN      1.0        True  wye        False  \n",
       "45     NaN      1.0        True  wye        False  \n",
       "46     NaN      1.0        True  wye        False  \n",
       "47     NaN      1.0        True  wye        False  "
      ]
     },
     "execution_count": 544,
     "metadata": {},
     "output_type": "execute_result"
    }
   ],
   "source": [
    "network.load"
   ]
  },
  {
   "cell_type": "code",
   "execution_count": 545,
   "id": "f68c9184b69311ef",
   "metadata": {
    "ExecuteTime": {
     "end_time": "2025-07-22T01:41:45.747223Z",
     "start_time": "2025-07-22T01:41:45.742730Z"
    }
   },
   "outputs": [
    {
     "data": {
      "text/html": [
       "<div>\n",
       "<style scoped>\n",
       "    .dataframe tbody tr th:only-of-type {\n",
       "        vertical-align: middle;\n",
       "    }\n",
       "\n",
       "    .dataframe tbody tr th {\n",
       "        vertical-align: top;\n",
       "    }\n",
       "\n",
       "    .dataframe thead th {\n",
       "        text-align: right;\n",
       "    }\n",
       "</style>\n",
       "<table border=\"1\" class=\"dataframe\">\n",
       "  <thead>\n",
       "    <tr style=\"text-align: right;\">\n",
       "      <th></th>\n",
       "      <th>bus</th>\n",
       "      <th>element</th>\n",
       "      <th>et</th>\n",
       "      <th>type</th>\n",
       "      <th>closed</th>\n",
       "      <th>name</th>\n",
       "      <th>z_ohm</th>\n",
       "      <th>in_ka</th>\n",
       "    </tr>\n",
       "  </thead>\n",
       "  <tbody>\n",
       "    <tr>\n",
       "      <th>0</th>\n",
       "      <td>49</td>\n",
       "      <td>68</td>\n",
       "      <td>l</td>\n",
       "      <td>None</td>\n",
       "      <td>False</td>\n",
       "      <td>Tie_Line_Switch_50-59</td>\n",
       "      <td>0.0</td>\n",
       "      <td>NaN</td>\n",
       "    </tr>\n",
       "    <tr>\n",
       "      <th>1</th>\n",
       "      <td>10</td>\n",
       "      <td>69</td>\n",
       "      <td>l</td>\n",
       "      <td>None</td>\n",
       "      <td>False</td>\n",
       "      <td>Tie_Line_Switch_11-44</td>\n",
       "      <td>0.0</td>\n",
       "      <td>NaN</td>\n",
       "    </tr>\n",
       "    <tr>\n",
       "      <th>2</th>\n",
       "      <td>12</td>\n",
       "      <td>70</td>\n",
       "      <td>l</td>\n",
       "      <td>None</td>\n",
       "      <td>False</td>\n",
       "      <td>Tie_Line_Switch_13-21</td>\n",
       "      <td>0.0</td>\n",
       "      <td>NaN</td>\n",
       "    </tr>\n",
       "    <tr>\n",
       "      <th>3</th>\n",
       "      <td>64</td>\n",
       "      <td>71</td>\n",
       "      <td>l</td>\n",
       "      <td>None</td>\n",
       "      <td>False</td>\n",
       "      <td>Tie_Line_Switch_65-27</td>\n",
       "      <td>0.0</td>\n",
       "      <td>NaN</td>\n",
       "    </tr>\n",
       "  </tbody>\n",
       "</table>\n",
       "</div>"
      ],
      "text/plain": [
       "   bus  element et  type  closed                   name  z_ohm  in_ka\n",
       "0   49       68  l  None   False  Tie_Line_Switch_50-59    0.0    NaN\n",
       "1   10       69  l  None   False  Tie_Line_Switch_11-44    0.0    NaN\n",
       "2   12       70  l  None   False  Tie_Line_Switch_13-21    0.0    NaN\n",
       "3   64       71  l  None   False  Tie_Line_Switch_65-27    0.0    NaN"
      ]
     },
     "execution_count": 545,
     "metadata": {},
     "output_type": "execute_result"
    }
   ],
   "source": [
    "network.switch"
   ]
  },
  {
   "cell_type": "markdown",
   "id": "94fb5b98080203df",
   "metadata": {},
   "source": "# Test Cases"
  },
  {
   "cell_type": "markdown",
   "id": "fbb049a73f14de28",
   "metadata": {},
   "source": "## 1. Add large load on Bus 67 and Bus 69"
  },
  {
   "cell_type": "code",
   "execution_count": 546,
   "id": "2a387b375b2cb490",
   "metadata": {
    "ExecuteTime": {
     "end_time": "2025-07-22T01:41:45.810186Z",
     "start_time": "2025-07-22T01:41:45.802324Z"
    }
   },
   "outputs": [],
   "source": [
    "network.load.loc[46, \"p_mw\"] += 2\n",
    "network.load.loc[47, \"p_mw\"] += 1.5\n",
    "\n",
    "test_network1 = deepcopy(network)"
   ]
  },
  {
   "cell_type": "code",
   "execution_count": 547,
   "id": "f8f30979450bbf45",
   "metadata": {
    "ExecuteTime": {
     "end_time": "2025-07-22T01:41:46.010963Z",
     "start_time": "2025-07-22T01:41:45.894909Z"
    }
   },
   "outputs": [
    {
     "data": {
      "application/vnd.plotly.v1+json": {
       "config": {
        "plotlyServerURL": "https://plot.ly"
       },
       "data": [
        {
         "hoverinfo": "text",
         "legendgroup": "lines",
         "line": {
          "color": "rgb(186.59090909090915,0.0,0.0)",
          "dash": "solid",
          "width": 2
         },
         "mode": "lines",
         "name": "lines",
         "showlegend": true,
         "text": "Line_1.0-2.0<br />I = 94.804 %<br />I_from = 0.379 kA<br />I_to = 0.379 kA<br />",
         "type": "scatter",
         "x": [
          0.0,
          0.5,
          1.0
         ],
         "y": [
          0.0,
          0.0,
          0.0
         ]
        },
        {
         "hoverinfo": "text",
         "legendgroup": "lines",
         "line": {
          "color": "rgb(186.59090909090915,0.0,0.0)",
          "dash": "solid",
          "width": 2
         },
         "mode": "lines",
         "name": "lines",
         "showlegend": false,
         "text": "Line_2.0-3.0<br />I = 94.804 %<br />I_from = 0.379 kA<br />I_to = 0.379 kA<br />",
         "type": "scatter",
         "x": [
          1.0,
          1.5,
          2.0
         ],
         "y": [
          0.0,
          0.0,
          0.0
         ]
        },
        {
         "hoverinfo": "text",
         "legendgroup": "lines",
         "line": {
          "color": "rgb(227.50000000000006,0.0,0.0)",
          "dash": "solid",
          "width": 2
         },
         "mode": "lines",
         "name": "lines",
         "showlegend": false,
         "text": "Line_3.0-4.0<br />I = 91.18 %<br />I_from = 0.365 kA<br />I_to = 0.365 kA<br />",
         "type": "scatter",
         "x": [
          2.0,
          2.5,
          3.0
         ],
         "y": [
          0.0,
          -0.666666665,
          -1.33333333
         ]
        },
        {
         "hoverinfo": "text",
         "legendgroup": "lines",
         "line": {
          "color": "rgb(255.0,100.18518518518523,0.0)",
          "dash": "solid",
          "width": 2
         },
         "mode": "lines",
         "name": "lines",
         "showlegend": false,
         "text": "Line_4.0-5.0<br />I = 80.084 %<br />I_from = 0.32 kA<br />I_to = 0.32 kA<br />",
         "type": "scatter",
         "x": [
          3.0,
          3.5,
          4.0
         ],
         "y": [
          -1.33333333,
          -1.58333333,
          -1.83333333
         ]
        },
        {
         "hoverinfo": "text",
         "legendgroup": "lines",
         "line": {
          "color": "rgb(255.0,100.18518518518523,0.0)",
          "dash": "solid",
          "width": 2
         },
         "mode": "lines",
         "name": "lines",
         "showlegend": false,
         "text": "Line_5.0-6.0<br />I = 80.084 %<br />I_from = 0.32 kA<br />I_to = 0.32 kA<br />",
         "type": "scatter",
         "x": [
          4.0,
          4.5,
          5.0
         ],
         "y": [
          -1.83333333,
          -1.83333333,
          -1.83333333
         ]
        },
        {
         "hoverinfo": "text",
         "legendgroup": "lines",
         "line": {
          "color": "rgb(255.0,103.88888888888893,0.0)",
          "dash": "solid",
          "width": 2
         },
         "mode": "lines",
         "name": "lines",
         "showlegend": false,
         "text": "Line_6.0-7.0<br />I = 80.049 %<br />I_from = 0.32 kA<br />I_to = 0.32 kA<br />",
         "type": "scatter",
         "x": [
          5.0,
          5.5,
          6.0
         ],
         "y": [
          -1.83333333,
          -1.83333333,
          -1.83333333
         ]
        },
        {
         "hoverinfo": "text",
         "legendgroup": "lines",
         "line": {
          "color": "rgb(255.0,107.59259259259265,0.0)",
          "dash": "solid",
          "width": 2
         },
         "mode": "lines",
         "name": "lines",
         "showlegend": false,
         "text": "Line_7.0-8.0<br />I = 79.503 %<br />I_from = 0.318 kA<br />I_to = 0.318 kA<br />",
         "type": "scatter",
         "x": [
          6.0,
          6.5,
          7.0
         ],
         "y": [
          -1.83333333,
          -1.83333333,
          -1.83333333
         ]
        },
        {
         "hoverinfo": "text",
         "legendgroup": "lines",
         "line": {
          "color": "rgb(255.0,122.40740740740746,0.0)",
          "dash": "solid",
          "width": 2
         },
         "mode": "lines",
         "name": "lines",
         "showlegend": false,
         "text": "Line_8.0-9.0<br />I = 77.903 %<br />I_from = 0.312 kA<br />I_to = 0.312 kA<br />",
         "type": "scatter",
         "x": [
          7.0,
          7.5,
          8.0
         ],
         "y": [
          -1.83333333,
          -2.30208333,
          -2.77083333
         ]
        },
        {
         "hoverinfo": "text",
         "legendgroup": "lines",
         "line": {
          "color": "rgb(150.8064516129032,255.0,95.96774193548387)",
          "dash": "solid",
          "width": 2
         },
         "mode": "lines",
         "name": "lines",
         "showlegend": false,
         "text": "Line_9.0-10.0<br />I = 53.334 %<br />I_from = 0.213 kA<br />I_to = 0.213 kA<br />",
         "type": "scatter",
         "x": [
          8.0,
          8.5,
          9.0
         ],
         "y": [
          -2.77083333,
          -3.20833333,
          -3.64583333
         ]
        },
        {
         "hoverinfo": "text",
         "legendgroup": "lines",
         "line": {
          "color": "rgb(127.5,0.0,0.0)",
          "dash": "solid",
          "width": 2
         },
         "mode": "lines",
         "name": "lines",
         "showlegend": false,
         "text": "Line_10.0-11.0<br />I = 105.95 %<br />I_from = 0.212 kA<br />I_to = 0.212 kA<br />",
         "type": "scatter",
         "x": [
          9.0,
          9.5,
          10.0
         ],
         "y": [
          -3.64583333,
          -3.64583333,
          -3.64583333
         ]
        },
        {
         "hoverinfo": "text",
         "legendgroup": "lines",
         "line": {
          "color": "rgb(127.5,0.0,0.0)",
          "dash": "solid",
          "width": 2
         },
         "mode": "lines",
         "name": "lines",
         "showlegend": false,
         "text": "Line_11.0-12.0<br />I = 101.301 %<br />I_from = 0.203 kA<br />I_to = 0.203 kA<br />",
         "type": "scatter",
         "x": [
          10.0,
          10.5,
          11.0
         ],
         "y": [
          -3.64583333,
          -4.02083333,
          -4.39583333
         ]
        },
        {
         "hoverinfo": "text",
         "legendgroup": "lines",
         "line": {
          "color": "rgb(0.0,0.0,250.22727272727272)",
          "dash": "solid",
          "width": 2
         },
         "mode": "lines",
         "name": "lines",
         "showlegend": false,
         "text": "Line_12.0-13.0<br />I = 10.567 %<br />I_from = 0.021 kA<br />I_to = 0.021 kA<br />",
         "type": "scatter",
         "x": [
          11.0,
          11.5,
          12.0
         ],
         "y": [
          -4.39583333,
          -4.64583333,
          -4.89583333
         ]
        },
        {
         "hoverinfo": "text",
         "legendgroup": "lines",
         "line": {
          "color": "rgb(0.0,0.0,245.68181818181816)",
          "dash": "solid",
          "width": 2
         },
         "mode": "lines",
         "name": "lines",
         "showlegend": false,
         "text": "Line_13.0-14.0<br />I = 10.336 %<br />I_from = 0.021 kA<br />I_to = 0.021 kA<br />",
         "type": "scatter",
         "x": [
          12.0,
          12.5,
          13.0
         ],
         "y": [
          -4.89583333,
          -4.89583333,
          -4.89583333
         ]
        },
        {
         "hoverinfo": "text",
         "legendgroup": "lines",
         "line": {
          "color": "rgb(0.0,0.0,241.13636363636363)",
          "dash": "solid",
          "width": 2
         },
         "mode": "lines",
         "name": "lines",
         "showlegend": false,
         "text": "Line_14.0-15.0<br />I = 10.098 %<br />I_from = 0.02 kA<br />I_to = 0.02 kA<br />",
         "type": "scatter",
         "x": [
          13.0,
          13.5,
          14.0
         ],
         "y": [
          -4.89583333,
          -4.89583333,
          -4.89583333
         ]
        },
        {
         "hoverinfo": "text",
         "legendgroup": "lines",
         "line": {
          "color": "rgb(0.0,0.0,241.13636363636363)",
          "dash": "solid",
          "width": 2
         },
         "mode": "lines",
         "name": "lines",
         "showlegend": false,
         "text": "Line_15.0-16.0<br />I = 10.098 %<br />I_from = 0.02 kA<br />I_to = 0.02 kA<br />",
         "type": "scatter",
         "x": [
          14.0,
          14.5,
          15.0
         ],
         "y": [
          -4.89583333,
          -4.89583333,
          -4.89583333
         ]
        },
        {
         "hoverinfo": "text",
         "legendgroup": "lines",
         "line": {
          "color": "rgb(0.0,0.0,227.49999999999997)",
          "dash": "solid",
          "width": 2
         },
         "mode": "lines",
         "name": "lines",
         "showlegend": false,
         "text": "Line_16.0-17.0<br />I = 8.754 %<br />I_from = 0.018 kA<br />I_to = 0.018 kA<br />",
         "type": "scatter",
         "x": [
          15.0,
          15.5,
          16.0
         ],
         "y": [
          -4.89583333,
          -4.89583333,
          -4.89583333
         ]
        },
        {
         "hoverinfo": "text",
         "legendgroup": "lines",
         "line": {
          "color": "rgb(0.0,0.0,209.3181818181818)",
          "dash": "solid",
          "width": 2
         },
         "mode": "lines",
         "name": "lines",
         "showlegend": false,
         "text": "Line_17.0-18.0<br />I = 7.044 %<br />I_from = 0.014 kA<br />I_to = 0.014 kA<br />",
         "type": "scatter",
         "x": [
          16.0,
          16.5,
          17.0
         ],
         "y": [
          -4.89583333,
          -4.89583333,
          -4.89583333
         ]
        },
        {
         "hoverinfo": "text",
         "legendgroup": "lines",
         "line": {
          "color": "rgb(0.0,0.0,186.5909090909091)",
          "dash": "solid",
          "width": 2
         },
         "mode": "lines",
         "name": "lines",
         "showlegend": false,
         "text": "Line_18.0-19.0<br />I = 5.335 %<br />I_from = 0.011 kA<br />I_to = 0.011 kA<br />",
         "type": "scatter",
         "x": [
          17.0,
          17.5,
          18.0
         ],
         "y": [
          -4.89583333,
          -4.89583333,
          -4.89583333
         ]
        },
        {
         "hoverinfo": "text",
         "legendgroup": "lines",
         "line": {
          "color": "rgb(0.0,0.0,186.5909090909091)",
          "dash": "solid",
          "width": 2
         },
         "mode": "lines",
         "name": "lines",
         "showlegend": false,
         "text": "Line_19.0-20.0<br />I = 5.335 %<br />I_from = 0.011 kA<br />I_to = 0.011 kA<br />",
         "type": "scatter",
         "x": [
          18.0,
          18.5,
          19.0
         ],
         "y": [
          -4.89583333,
          -4.89583333,
          -4.89583333
         ]
        },
        {
         "hoverinfo": "text",
         "legendgroup": "lines",
         "line": {
          "color": "rgb(0.0,0.0,186.5909090909091)",
          "dash": "solid",
          "width": 2
         },
         "mode": "lines",
         "name": "lines",
         "showlegend": false,
         "text": "Line_20.0-21.0<br />I = 5.307 %<br />I_from = 0.011 kA<br />I_to = 0.011 kA<br />",
         "type": "scatter",
         "x": [
          19.0,
          19.5,
          20.0
         ],
         "y": [
          -4.89583333,
          -4.89583333,
          -4.89583333
         ]
        },
        {
         "hoverinfo": "text",
         "legendgroup": "lines",
         "line": {
          "color": "rgb(0.0,0.0,145.6818181818182)",
          "dash": "solid",
          "width": 2
         },
         "mode": "lines",
         "name": "lines",
         "showlegend": false,
         "text": "Line_21.0-22.0<br />I = 1.852 %<br />I_from = 0.004 kA<br />I_to = 0.004 kA<br />",
         "type": "scatter",
         "x": [
          20.0,
          20.5,
          21.0
         ],
         "y": [
          -4.89583333,
          -4.89583333,
          -4.89583333
         ]
        },
        {
         "hoverinfo": "text",
         "legendgroup": "lines",
         "line": {
          "color": "rgb(0.0,0.0,145.6818181818182)",
          "dash": "solid",
          "width": 2
         },
         "mode": "lines",
         "name": "lines",
         "showlegend": false,
         "text": "Line_22.0-23.0<br />I = 1.701 %<br />I_from = 0.003 kA<br />I_to = 0.003 kA<br />",
         "type": "scatter",
         "x": [
          21.0,
          21.5,
          22.0
         ],
         "y": [
          -4.89583333,
          -4.89583333,
          -4.89583333
         ]
        },
        {
         "hoverinfo": "text",
         "legendgroup": "lines",
         "line": {
          "color": "rgb(0.0,0.0,145.6818181818182)",
          "dash": "solid",
          "width": 2
         },
         "mode": "lines",
         "name": "lines",
         "showlegend": false,
         "text": "Line_23.0-24.0<br />I = 1.701 %<br />I_from = 0.003 kA<br />I_to = 0.003 kA<br />",
         "type": "scatter",
         "x": [
          22.0,
          22.5,
          23.0
         ],
         "y": [
          -4.89583333,
          -4.89583333,
          -4.89583333
         ]
        },
        {
         "hoverinfo": "text",
         "legendgroup": "lines",
         "line": {
          "color": "rgb(0.0,0.0,136.5909090909091)",
          "dash": "solid",
          "width": 2
         },
         "mode": "lines",
         "name": "lines",
         "showlegend": false,
         "text": "Line_24.0-25.0<br />I = 0.851 %<br />I_from = 0.002 kA<br />I_to = 0.002 kA<br />",
         "type": "scatter",
         "x": [
          23.0,
          23.5,
          24.0
         ],
         "y": [
          -4.89583333,
          -4.89583333,
          -4.89583333
         ]
        },
        {
         "hoverinfo": "text",
         "legendgroup": "lines",
         "line": {
          "color": "rgb(0.0,0.0,136.5909090909091)",
          "dash": "solid",
          "width": 2
         },
         "mode": "lines",
         "name": "lines",
         "showlegend": false,
         "text": "Line_25.0-26.0<br />I = 0.851 %<br />I_from = 0.002 kA<br />I_to = 0.002 kA<br />",
         "type": "scatter",
         "x": [
          24.0,
          24.5,
          25.0
         ],
         "y": [
          -4.89583333,
          -4.89583333,
          -4.89583333
         ]
        },
        {
         "hoverinfo": "text",
         "legendgroup": "lines",
         "line": {
          "color": "rgb(0.0,0.0,132.04545454545453)",
          "dash": "solid",
          "width": 2
         },
         "mode": "lines",
         "name": "lines",
         "showlegend": false,
         "text": "Line_26.0-27.0<br />I = 0.425 %<br />I_from = 0.001 kA<br />I_to = 0.001 kA<br />",
         "type": "scatter",
         "x": [
          25.0,
          25.5,
          26.0
         ],
         "y": [
          -4.89583333,
          -4.89583333,
          -4.89583333
         ]
        },
        {
         "hoverinfo": "text",
         "legendgroup": "lines",
         "line": {
          "color": "rgb(0.0,0.0,154.77272727272728)",
          "dash": "solid",
          "width": 2
         },
         "mode": "lines",
         "name": "lines",
         "showlegend": false,
         "text": "Line_3.0-28.0<br />I = 2.488 %<br />I_from = 0.005 kA<br />I_to = 0.005 kA<br />",
         "type": "scatter",
         "x": [
          2.0,
          2.5,
          3.0
         ],
         "y": [
          0.0,
          0.083333335,
          0.16666667
         ]
        },
        {
         "hoverinfo": "text",
         "legendgroup": "lines",
         "line": {
          "color": "rgb(0.0,0.0,145.6818181818182)",
          "dash": "solid",
          "width": 2
         },
         "mode": "lines",
         "name": "lines",
         "showlegend": false,
         "text": "Line_28.0-29.0<br />I = 1.781 %<br />I_from = 0.004 kA<br />I_to = 0.004 kA<br />",
         "type": "scatter",
         "x": [
          3.0,
          3.5,
          4.0
         ],
         "y": [
          0.16666667,
          0.16666667,
          0.16666667
         ]
        },
        {
         "hoverinfo": "text",
         "legendgroup": "lines",
         "line": {
          "color": "rgb(0.0,0.0,136.5909090909091)",
          "dash": "solid",
          "width": 2
         },
         "mode": "lines",
         "name": "lines",
         "showlegend": false,
         "text": "Line_29.0-30.0<br />I = 1.073 %<br />I_from = 0.002 kA<br />I_to = 0.002 kA<br />",
         "type": "scatter",
         "x": [
          4.0,
          4.5,
          5.0
         ],
         "y": [
          0.16666667,
          0.16666667,
          0.16666667
         ]
        },
        {
         "hoverinfo": "text",
         "legendgroup": "lines",
         "line": {
          "color": "rgb(0.0,0.0,136.5909090909091)",
          "dash": "solid",
          "width": 2
         },
         "mode": "lines",
         "name": "lines",
         "showlegend": false,
         "text": "Line_30.0-31.0<br />I = 1.073 %<br />I_from = 0.002 kA<br />I_to = 0.002 kA<br />",
         "type": "scatter",
         "x": [
          5.0,
          5.5,
          6.0
         ],
         "y": [
          0.16666667,
          0.16666667,
          0.16666667
         ]
        },
        {
         "hoverinfo": "text",
         "legendgroup": "lines",
         "line": {
          "color": "rgb(0.0,0.0,136.5909090909091)",
          "dash": "solid",
          "width": 2
         },
         "mode": "lines",
         "name": "lines",
         "showlegend": false,
         "text": "Line_31.0-32.0<br />I = 1.073 %<br />I_from = 0.002 kA<br />I_to = 0.002 kA<br />",
         "type": "scatter",
         "x": [
          6.0,
          6.5,
          7.0
         ],
         "y": [
          0.16666667,
          0.16666667,
          0.16666667
         ]
        },
        {
         "hoverinfo": "text",
         "legendgroup": "lines",
         "line": {
          "color": "rgb(0.0,0.0,136.5909090909091)",
          "dash": "solid",
          "width": 2
         },
         "mode": "lines",
         "name": "lines",
         "showlegend": false,
         "text": "Line_32.0-33.0<br />I = 1.073 %<br />I_from = 0.002 kA<br />I_to = 0.002 kA<br />",
         "type": "scatter",
         "x": [
          7.0,
          7.5,
          8.0
         ],
         "y": [
          0.16666667,
          0.16666667,
          0.16666667
         ]
        },
        {
         "hoverinfo": "text",
         "legendgroup": "lines",
         "line": {
          "color": "rgb(0.0,0.0,132.04545454545453)",
          "dash": "solid",
          "width": 2
         },
         "mode": "lines",
         "name": "lines",
         "showlegend": false,
         "text": "Line_33.0-34.0<br />I = 0.692 %<br />I_from = 0.001 kA<br />I_to = 0.001 kA<br />",
         "type": "scatter",
         "x": [
          8.0,
          8.5,
          9.0
         ],
         "y": [
          0.16666667,
          0.16666667,
          0.16666667
         ]
        },
        {
         "hoverinfo": "text",
         "legendgroup": "lines",
         "line": {
          "color": "rgb(0.0,0.0,127.5)",
          "dash": "solid",
          "width": 2
         },
         "mode": "lines",
         "name": "lines",
         "showlegend": false,
         "text": "Line_34.0-35.0<br />I = 0.16 %<br />I_from = 0.0 kA<br />I_to = 0.0 kA<br />",
         "type": "scatter",
         "x": [
          9.0,
          9.5,
          10.0
         ],
         "y": [
          0.16666667,
          0.16666667,
          0.16666667
         ]
        },
        {
         "hoverinfo": "text",
         "legendgroup": "lines",
         "line": {
          "color": "rgb(0.0,0.0,182.04545454545453)",
          "dash": "solid",
          "width": 2
         },
         "mode": "lines",
         "name": "lines",
         "showlegend": false,
         "text": "Line_3.0-36.0<br />I = 5.009 %<br />I_from = 0.01 kA<br />I_to = 0.01 kA<br />",
         "type": "scatter",
         "x": [
          2.0,
          2.5,
          3.0
         ],
         "y": [
          0.0,
          0.583333335,
          1.16666667
         ]
        },
        {
         "hoverinfo": "text",
         "legendgroup": "lines",
         "line": {
          "color": "rgb(0.0,0.0,177.5)",
          "dash": "solid",
          "width": 2
         },
         "mode": "lines",
         "name": "lines",
         "showlegend": false,
         "text": "Line_36.0-37.0<br />I = 4.302 %<br />I_from = 0.009 kA<br />I_to = 0.009 kA<br />",
         "type": "scatter",
         "x": [
          3.0,
          3.5,
          4.0
         ],
         "y": [
          1.16666667,
          1.16666667,
          1.16666667
         ]
        },
        {
         "hoverinfo": "text",
         "legendgroup": "lines",
         "line": {
          "color": "rgb(0.0,0.0,168.4090909090909)",
          "dash": "solid",
          "width": 2
         },
         "mode": "lines",
         "name": "lines",
         "showlegend": false,
         "text": "Line_37.0-38.0<br />I = 3.595 %<br />I_from = 0.007 kA<br />I_to = 0.007 kA<br />",
         "type": "scatter",
         "x": [
          4.0,
          4.5,
          5.0
         ],
         "y": [
          1.16666667,
          1.16666667,
          1.16666667
         ]
        },
        {
         "hoverinfo": "text",
         "legendgroup": "lines",
         "line": {
          "color": "rgb(0.0,0.0,168.4090909090909)",
          "dash": "solid",
          "width": 2
         },
         "mode": "lines",
         "name": "lines",
         "showlegend": false,
         "text": "Line_38.0-39.0<br />I = 3.595 %<br />I_from = 0.007 kA<br />I_to = 0.007 kA<br />",
         "type": "scatter",
         "x": [
          5.0,
          5.5,
          6.0
         ],
         "y": [
          1.16666667,
          1.16666667,
          1.16666667
         ]
        },
        {
         "hoverinfo": "text",
         "legendgroup": "lines",
         "line": {
          "color": "rgb(0.0,0.0,159.3181818181818)",
          "dash": "solid",
          "width": 2
         },
         "mode": "lines",
         "name": "lines",
         "showlegend": false,
         "text": "Line_39.0-40.0<br />I = 2.943 %<br />I_from = 0.006 kA<br />I_to = 0.006 kA<br />",
         "type": "scatter",
         "x": [
          6.0,
          6.5,
          7.0
         ],
         "y": [
          1.16666667,
          1.16666667,
          1.16666667
         ]
        },
        {
         "hoverinfo": "text",
         "legendgroup": "lines",
         "line": {
          "color": "rgb(0.0,0.0,150.22727272727272)",
          "dash": "solid",
          "width": 2
         },
         "mode": "lines",
         "name": "lines",
         "showlegend": false,
         "text": "Line_40.0-41.0<br />I = 2.292 %<br />I_from = 0.005 kA<br />I_to = 0.005 kA<br />",
         "type": "scatter",
         "x": [
          7.0,
          7.5,
          8.0
         ],
         "y": [
          1.16666667,
          1.16666667,
          1.16666667
         ]
        },
        {
         "hoverinfo": "text",
         "legendgroup": "lines",
         "line": {
          "color": "rgb(0.0,0.0,150.22727272727272)",
          "dash": "solid",
          "width": 2
         },
         "mode": "lines",
         "name": "lines",
         "showlegend": false,
         "text": "Line_41.0-42.0<br />I = 2.258 %<br />I_from = 0.005 kA<br />I_to = 0.005 kA<br />",
         "type": "scatter",
         "x": [
          8.0,
          8.5,
          9.0
         ],
         "y": [
          1.16666667,
          1.16666667,
          1.16666667
         ]
        },
        {
         "hoverinfo": "text",
         "legendgroup": "lines",
         "line": {
          "color": "rgb(0.0,0.0,150.22727272727272)",
          "dash": "solid",
          "width": 2
         },
         "mode": "lines",
         "name": "lines",
         "showlegend": false,
         "text": "Line_42.0-43.0<br />I = 2.258 %<br />I_from = 0.005 kA<br />I_to = 0.005 kA<br />",
         "type": "scatter",
         "x": [
          9.0,
          9.5,
          10.0
         ],
         "y": [
          1.16666667,
          1.16666667,
          1.16666667
         ]
        },
        {
         "hoverinfo": "text",
         "legendgroup": "lines",
         "line": {
          "color": "rgb(0.0,0.0,150.22727272727272)",
          "dash": "solid",
          "width": 2
         },
         "mode": "lines",
         "name": "lines",
         "showlegend": false,
         "text": "Line_43.0-44.0<br />I = 2.094 %<br />I_from = 0.004 kA<br />I_to = 0.004 kA<br />",
         "type": "scatter",
         "x": [
          10.0,
          10.5,
          11.0
         ],
         "y": [
          1.16666667,
          1.16666667,
          1.16666667
         ]
        },
        {
         "hoverinfo": "text",
         "legendgroup": "lines",
         "line": {
          "color": "rgb(0.0,0.0,150.22727272727272)",
          "dash": "solid",
          "width": 2
         },
         "mode": "lines",
         "name": "lines",
         "showlegend": false,
         "text": "Line_44.0-45.0<br />I = 2.094 %<br />I_from = 0.004 kA<br />I_to = 0.004 kA<br />",
         "type": "scatter",
         "x": [
          11.0,
          11.5,
          12.0
         ],
         "y": [
          1.16666667,
          1.16666667,
          1.16666667
         ]
        },
        {
         "hoverinfo": "text",
         "legendgroup": "lines",
         "line": {
          "color": "rgb(0.0,0.0,136.5909090909091)",
          "dash": "solid",
          "width": 2
         },
         "mode": "lines",
         "name": "lines",
         "showlegend": false,
         "text": "Line_45.0-46.0<br />I = 1.047 %<br />I_from = 0.002 kA<br />I_to = 0.002 kA<br />",
         "type": "scatter",
         "x": [
          12.0,
          12.5,
          13.0
         ],
         "y": [
          1.16666667,
          1.16666667,
          1.16666667
         ]
        },
        {
         "hoverinfo": "text",
         "legendgroup": "lines",
         "line": {
          "color": "rgb(0.0,28.5,255.0)",
          "dash": "solid",
          "width": 2
         },
         "mode": "lines",
         "name": "lines",
         "showlegend": false,
         "text": "Line_4.0-47.0<br />I = 15.459 %<br />I_from = 0.046 kA<br />I_to = 0.046 kA<br />",
         "type": "scatter",
         "x": [
          3.0,
          3.5,
          4.0
         ],
         "y": [
          -1.33333333,
          -1.08333333,
          -0.83333333
         ]
        },
        {
         "hoverinfo": "text",
         "legendgroup": "lines",
         "line": {
          "color": "rgb(0.0,28.5,255.0)",
          "dash": "solid",
          "width": 2
         },
         "mode": "lines",
         "name": "lines",
         "showlegend": false,
         "text": "Line_47.0-48.0<br />I = 15.459 %<br />I_from = 0.046 kA<br />I_to = 0.046 kA<br />",
         "type": "scatter",
         "x": [
          4.0,
          4.5,
          5.0
         ],
         "y": [
          -0.83333333,
          -0.83333333,
          -0.83333333
         ]
        },
        {
         "hoverinfo": "text",
         "legendgroup": "lines",
         "line": {
          "color": "rgb(0.0,12.5,255.0)",
          "dash": "solid",
          "width": 2
         },
         "mode": "lines",
         "name": "lines",
         "showlegend": false,
         "text": "Line_48.0-49.0<br />I = 14.024 %<br />I_from = 0.042 kA<br />I_to = 0.042 kA<br />",
         "type": "scatter",
         "x": [
          5.0,
          5.5,
          6.0
         ],
         "y": [
          -0.83333333,
          -0.83333333,
          -0.83333333
         ]
        },
        {
         "hoverinfo": "text",
         "legendgroup": "lines",
         "line": {
          "color": "rgb(0.0,0.0,204.77272727272725)",
          "dash": "solid",
          "width": 2
         },
         "mode": "lines",
         "name": "lines",
         "showlegend": false,
         "text": "Line_49.0-50.0<br />I = 7.014 %<br />I_from = 0.021 kA<br />I_to = 0.021 kA<br />",
         "type": "scatter",
         "x": [
          6.0,
          6.5,
          7.0
         ],
         "y": [
          -0.83333333,
          -0.83333333,
          -0.83333333
         ]
        },
        {
         "hoverinfo": "text",
         "legendgroup": "lines",
         "line": {
          "color": "rgb(0.0,0.0,141.13636363636363)",
          "dash": "solid",
          "width": 2
         },
         "mode": "lines",
         "name": "lines",
         "showlegend": false,
         "text": "Line_8.0-51.0<br />I = 1.245 %<br />I_from = 0.002 kA<br />I_to = 0.002 kA<br />",
         "type": "scatter",
         "x": [
          7.0,
          7.5,
          8.0
         ],
         "y": [
          -1.83333333,
          -1.36458333,
          -0.89583333
         ]
        },
        {
         "hoverinfo": "text",
         "legendgroup": "lines",
         "line": {
          "color": "rgb(0.0,0.0,127.5)",
          "dash": "solid",
          "width": 2
         },
         "mode": "lines",
         "name": "lines",
         "showlegend": false,
         "text": "Line_51.0-52.0<br />I = 0.104 %<br />I_from = 0.0 kA<br />I_to = 0.0 kA<br />",
         "type": "scatter",
         "x": [
          8.0,
          8.5,
          9.0
         ],
         "y": [
          -0.89583333,
          -0.89583333,
          -0.89583333
         ]
        },
        {
         "hoverinfo": "text",
         "legendgroup": "lines",
         "line": {
          "color": "rgb(0.0,224.5,250.80645161290326)",
          "dash": "solid",
          "width": 2
         },
         "mode": "lines",
         "name": "lines",
         "showlegend": false,
         "text": "Line_9.0-53.0<br />I = 34.756 %<br />I_from = 0.104 kA<br />I_to = 0.104 kA<br />",
         "type": "scatter",
         "x": [
          8.0,
          8.5,
          9.0
         ],
         "y": [
          -2.77083333,
          -2.33333333,
          -1.89583333
         ]
        },
        {
         "hoverinfo": "text",
         "legendgroup": "lines",
         "line": {
          "color": "rgb(0.0,224.5,250.80645161290326)",
          "dash": "solid",
          "width": 2
         },
         "mode": "lines",
         "name": "lines",
         "showlegend": false,
         "text": "Line_53.0-54.0<br />I = 34.67 %<br />I_from = 0.104 kA<br />I_to = 0.104 kA<br />",
         "type": "scatter",
         "x": [
          9.0,
          9.5,
          10.0
         ],
         "y": [
          -1.89583333,
          -1.89583333,
          -1.89583333
         ]
        },
        {
         "hoverinfo": "text",
         "legendgroup": "lines",
         "line": {
          "color": "rgb(0.0,220.5,254.03225806451613)",
          "dash": "solid",
          "width": 2
         },
         "mode": "lines",
         "name": "lines",
         "showlegend": false,
         "text": "Line_54.0-55.0<br />I = 34.165 %<br />I_from = 0.102 kA<br />I_to = 0.102 kA<br />",
         "type": "scatter",
         "x": [
          10.0,
          10.5,
          11.0
         ],
         "y": [
          -1.89583333,
          -1.89583333,
          -1.89583333
         ]
        },
        {
         "hoverinfo": "text",
         "legendgroup": "lines",
         "line": {
          "color": "rgb(0.0,216.5,255.0)",
          "dash": "solid",
          "width": 2
         },
         "mode": "lines",
         "name": "lines",
         "showlegend": false,
         "text": "Line_55.0-56.0<br />I = 33.705 %<br />I_from = 0.101 kA<br />I_to = 0.101 kA<br />",
         "type": "scatter",
         "x": [
          11.0,
          11.5,
          12.0
         ],
         "y": [
          -1.89583333,
          -1.89583333,
          -1.89583333
         ]
        },
        {
         "hoverinfo": "text",
         "legendgroup": "lines",
         "line": {
          "color": "rgb(0.0,216.5,255.0)",
          "dash": "solid",
          "width": 2
         },
         "mode": "lines",
         "name": "lines",
         "showlegend": false,
         "text": "Line_56.0-57.0<br />I = 33.705 %<br />I_from = 0.101 kA<br />I_to = 0.101 kA<br />",
         "type": "scatter",
         "x": [
          12.0,
          12.5,
          13.0
         ],
         "y": [
          -1.89583333,
          -1.89583333,
          -1.89583333
         ]
        },
        {
         "hoverinfo": "text",
         "legendgroup": "lines",
         "line": {
          "color": "rgb(0.0,216.5,255.0)",
          "dash": "solid",
          "width": 2
         },
         "mode": "lines",
         "name": "lines",
         "showlegend": false,
         "text": "Line_57.0-58.0<br />I = 33.705 %<br />I_from = 0.101 kA<br />I_to = 0.101 kA<br />",
         "type": "scatter",
         "x": [
          13.0,
          13.5,
          14.0
         ],
         "y": [
          -1.89583333,
          -1.89583333,
          -1.89583333
         ]
        },
        {
         "hoverinfo": "text",
         "legendgroup": "lines",
         "line": {
          "color": "rgb(0.0,216.5,255.0)",
          "dash": "solid",
          "width": 2
         },
         "mode": "lines",
         "name": "lines",
         "showlegend": false,
         "text": "Line_58.0-59.0<br />I = 33.705 %<br />I_from = 0.101 kA<br />I_to = 0.101 kA<br />",
         "type": "scatter",
         "x": [
          14.0,
          14.5,
          15.0
         ],
         "y": [
          -1.89583333,
          -1.89583333,
          -1.89583333
         ]
        },
        {
         "hoverinfo": "text",
         "legendgroup": "lines",
         "line": {
          "color": "rgb(0.0,196.5,255.0)",
          "dash": "solid",
          "width": 2
         },
         "mode": "lines",
         "name": "lines",
         "showlegend": false,
         "text": "Line_59.0-60.0<br />I = 31.698 %<br />I_from = 0.095 kA<br />I_to = 0.095 kA<br />",
         "type": "scatter",
         "x": [
          15.0,
          15.5,
          16.0
         ],
         "y": [
          -1.89583333,
          -1.89583333,
          -1.89583333
         ]
        },
        {
         "hoverinfo": "text",
         "legendgroup": "lines",
         "line": {
          "color": "rgb(0.0,196.5,255.0)",
          "dash": "solid",
          "width": 2
         },
         "mode": "lines",
         "name": "lines",
         "showlegend": false,
         "text": "Line_60.0-61.0<br />I = 31.698 %<br />I_from = 0.095 kA<br />I_to = 0.095 kA<br />",
         "type": "scatter",
         "x": [
          16.0,
          16.5,
          17.0
         ],
         "y": [
          -1.89583333,
          -1.89583333,
          -1.89583333
         ]
        },
        {
         "hoverinfo": "text",
         "legendgroup": "lines",
         "line": {
          "color": "rgb(0.0,0.0,200.22727272727272)",
          "dash": "solid",
          "width": 2
         },
         "mode": "lines",
         "name": "lines",
         "showlegend": false,
         "text": "Line_61.0-62.0<br />I = 6.467 %<br />I_from = 0.019 kA<br />I_to = 0.019 kA<br />",
         "type": "scatter",
         "x": [
          17.0,
          17.5,
          18.0
         ],
         "y": [
          -1.89583333,
          -1.89583333,
          -1.89583333
         ]
        },
        {
         "hoverinfo": "text",
         "legendgroup": "lines",
         "line": {
          "color": "rgb(0.0,0.0,191.13636363636363)",
          "dash": "solid",
          "width": 2
         },
         "mode": "lines",
         "name": "lines",
         "showlegend": false,
         "text": "Line_62.0-63.0<br />I = 5.816 %<br />I_from = 0.017 kA<br />I_to = 0.017 kA<br />",
         "type": "scatter",
         "x": [
          18.0,
          18.5,
          19.0
         ],
         "y": [
          -1.89583333,
          -1.89583333,
          -1.89583333
         ]
        },
        {
         "hoverinfo": "text",
         "legendgroup": "lines",
         "line": {
          "color": "rgb(0.0,0.0,191.13636363636363)",
          "dash": "solid",
          "width": 2
         },
         "mode": "lines",
         "name": "lines",
         "showlegend": false,
         "text": "Line_63.0-64.0<br />I = 5.816 %<br />I_from = 0.017 kA<br />I_to = 0.017 kA<br />",
         "type": "scatter",
         "x": [
          19.0,
          19.5,
          20.0
         ],
         "y": [
          -1.89583333,
          -1.89583333,
          -1.89583333
         ]
        },
        {
         "hoverinfo": "text",
         "legendgroup": "lines",
         "line": {
          "color": "rgb(0.0,0.0,141.13636363636363)",
          "dash": "solid",
          "width": 2
         },
         "mode": "lines",
         "name": "lines",
         "showlegend": false,
         "text": "Line_64.0-65.0<br />I = 1.2 %<br />I_from = 0.004 kA<br />I_to = 0.004 kA<br />",
         "type": "scatter",
         "x": [
          20.0,
          20.5,
          21.0
         ],
         "y": [
          -1.89583333,
          -1.89583333,
          -1.89583333
         ]
        },
        {
         "hoverinfo": "text",
         "legendgroup": "lines",
         "line": {
          "color": "rgb(0.0,0.0,136.5909090909091)",
          "dash": "solid",
          "width": 2
         },
         "mode": "lines",
         "name": "lines",
         "showlegend": false,
         "text": "Line_11.0-66.0<br />I = 1.06 %<br />I_from = 0.002 kA<br />I_to = 0.002 kA<br />",
         "type": "scatter",
         "x": [
          10.0,
          10.5,
          11.0
         ],
         "y": [
          -3.64583333,
          -3.27083333,
          -2.89583333
         ]
        },
        {
         "hoverinfo": "text",
         "legendgroup": "lines",
         "line": {
          "color": "rgb(0.0,0.0,132.04545454545453)",
          "dash": "solid",
          "width": 2
         },
         "mode": "lines",
         "name": "lines",
         "showlegend": false,
         "text": "Line_66.0-67.0<br />I = 0.53 %<br />I_from = 0.001 kA<br />I_to = 0.001 kA<br />",
         "type": "scatter",
         "x": [
          11.0,
          11.5,
          12.0
         ],
         "y": [
          -2.89583333,
          -2.89583333,
          -2.89583333
         ]
        },
        {
         "hoverinfo": "text",
         "legendgroup": "lines",
         "line": {
          "color": "rgb(255.0,22.407407407407455,0.0)",
          "dash": "solid",
          "width": 2
         },
         "mode": "lines",
         "name": "lines",
         "showlegend": false,
         "text": "Line_12.0-68.0<br />I = 88.455 %<br />I_from = 0.177 kA<br />I_to = 0.177 kA<br />",
         "type": "scatter",
         "x": [
          11.0,
          11.5,
          12.0
         ],
         "y": [
          -4.39583333,
          -4.14583333,
          -3.89583333
         ]
        },
        {
         "hoverinfo": "text",
         "legendgroup": "lines",
         "line": {
          "color": "rgb(24.999999999999996,255.0,221.7741935483871)",
          "dash": "solid",
          "width": 2
         },
         "mode": "lines",
         "name": "lines",
         "showlegend": false,
         "text": "Line_68.0-69.0<br />I = 38.011 %<br />I_from = 0.076 kA<br />I_to = 0.076 kA<br />",
         "type": "scatter",
         "x": [
          12.0,
          12.5,
          13.0
         ],
         "y": [
          -3.89583333,
          -3.89583333,
          -3.89583333
         ]
        },
        {
         "hoverinfo": "text",
         "legendgroup": "disconnected lines",
         "line": {
          "color": "rgb(128, 128, 128)",
          "dash": "dot",
          "width": 1.0
         },
         "mode": "lines",
         "name": "disconnected branches",
         "showlegend": true,
         "text": "Tie_Line_50-59<br />I = 0.0 %<br />I_from = 0.0 kA<br />I_to = 0.0 kA<br />",
         "type": "scatter",
         "x": [
          7.0,
          11.0,
          15.0
         ],
         "y": [
          -0.83333333,
          -1.36458333,
          -1.89583333
         ]
        },
        {
         "hoverinfo": "text",
         "legendgroup": "disconnected lines",
         "line": {
          "color": "rgb(128, 128, 128)",
          "dash": "dot",
          "width": 1.0
         },
         "mode": "lines",
         "name": "disconnected branches",
         "showlegend": false,
         "text": "Tie_Line_11-44<br />I = 0.0 %<br />I_from = 0.0 kA<br />I_to = 0.0 kA<br />",
         "type": "scatter",
         "x": [
          10.0,
          10.5,
          11.0
         ],
         "y": [
          -3.64583333,
          -1.23958333,
          1.16666667
         ]
        },
        {
         "hoverinfo": "text",
         "legendgroup": "disconnected lines",
         "line": {
          "color": "rgb(128, 128, 128)",
          "dash": "dot",
          "width": 1.0
         },
         "mode": "lines",
         "name": "disconnected branches",
         "showlegend": false,
         "text": "Tie_Line_13-21<br />I = 0.0 %<br />I_from = 0.0 kA<br />I_to = 0.0 kA<br />",
         "type": "scatter",
         "x": [
          12.0,
          16.0,
          20.0
         ],
         "y": [
          -4.89583333,
          -4.89583333,
          -4.89583333
         ]
        },
        {
         "hoverinfo": "text",
         "legendgroup": "disconnected lines",
         "line": {
          "color": "rgb(128, 128, 128)",
          "dash": "dot",
          "width": 1.0
         },
         "mode": "lines",
         "name": "disconnected branches",
         "showlegend": false,
         "text": "Tie_Line_65-27<br />I = 0.0 %<br />I_from = 0.0 kA<br />I_to = 0.0 kA<br />",
         "type": "scatter",
         "x": [
          21.0,
          23.5,
          26.0
         ],
         "y": [
          -1.89583333,
          -3.3958333300000003,
          -4.89583333
         ]
        },
        {
         "hoverinfo": "text",
         "legendgroup": "lines",
         "marker": {
          "color": "rgb(128, 128, 128)",
          "size": 1,
          "symbol": "circle"
         },
         "mode": "markers",
         "name": "edge_center",
         "showlegend": false,
         "text": [
          "Line_1.0-2.0<br />I = 94.804 %<br />I_from = 0.379 kA<br />I_to = 0.379 kA<br />",
          "Line_2.0-3.0<br />I = 94.804 %<br />I_from = 0.379 kA<br />I_to = 0.379 kA<br />",
          "Line_3.0-4.0<br />I = 91.18 %<br />I_from = 0.365 kA<br />I_to = 0.365 kA<br />",
          "Line_4.0-5.0<br />I = 80.084 %<br />I_from = 0.32 kA<br />I_to = 0.32 kA<br />",
          "Line_5.0-6.0<br />I = 80.084 %<br />I_from = 0.32 kA<br />I_to = 0.32 kA<br />",
          "Line_6.0-7.0<br />I = 80.049 %<br />I_from = 0.32 kA<br />I_to = 0.32 kA<br />",
          "Line_7.0-8.0<br />I = 79.503 %<br />I_from = 0.318 kA<br />I_to = 0.318 kA<br />",
          "Line_8.0-9.0<br />I = 77.903 %<br />I_from = 0.312 kA<br />I_to = 0.312 kA<br />",
          "Line_9.0-10.0<br />I = 53.334 %<br />I_from = 0.213 kA<br />I_to = 0.213 kA<br />",
          "Line_10.0-11.0<br />I = 105.95 %<br />I_from = 0.212 kA<br />I_to = 0.212 kA<br />",
          "Line_11.0-12.0<br />I = 101.301 %<br />I_from = 0.203 kA<br />I_to = 0.203 kA<br />",
          "Line_12.0-13.0<br />I = 10.567 %<br />I_from = 0.021 kA<br />I_to = 0.021 kA<br />",
          "Line_13.0-14.0<br />I = 10.336 %<br />I_from = 0.021 kA<br />I_to = 0.021 kA<br />",
          "Line_14.0-15.0<br />I = 10.098 %<br />I_from = 0.02 kA<br />I_to = 0.02 kA<br />",
          "Line_15.0-16.0<br />I = 10.098 %<br />I_from = 0.02 kA<br />I_to = 0.02 kA<br />",
          "Line_16.0-17.0<br />I = 8.754 %<br />I_from = 0.018 kA<br />I_to = 0.018 kA<br />",
          "Line_17.0-18.0<br />I = 7.044 %<br />I_from = 0.014 kA<br />I_to = 0.014 kA<br />",
          "Line_18.0-19.0<br />I = 5.335 %<br />I_from = 0.011 kA<br />I_to = 0.011 kA<br />",
          "Line_19.0-20.0<br />I = 5.335 %<br />I_from = 0.011 kA<br />I_to = 0.011 kA<br />",
          "Line_20.0-21.0<br />I = 5.307 %<br />I_from = 0.011 kA<br />I_to = 0.011 kA<br />",
          "Line_21.0-22.0<br />I = 1.852 %<br />I_from = 0.004 kA<br />I_to = 0.004 kA<br />",
          "Line_22.0-23.0<br />I = 1.701 %<br />I_from = 0.003 kA<br />I_to = 0.003 kA<br />",
          "Line_23.0-24.0<br />I = 1.701 %<br />I_from = 0.003 kA<br />I_to = 0.003 kA<br />",
          "Line_24.0-25.0<br />I = 0.851 %<br />I_from = 0.002 kA<br />I_to = 0.002 kA<br />",
          "Line_25.0-26.0<br />I = 0.851 %<br />I_from = 0.002 kA<br />I_to = 0.002 kA<br />",
          "Line_26.0-27.0<br />I = 0.425 %<br />I_from = 0.001 kA<br />I_to = 0.001 kA<br />",
          "Line_3.0-28.0<br />I = 2.488 %<br />I_from = 0.005 kA<br />I_to = 0.005 kA<br />",
          "Line_28.0-29.0<br />I = 1.781 %<br />I_from = 0.004 kA<br />I_to = 0.004 kA<br />",
          "Line_29.0-30.0<br />I = 1.073 %<br />I_from = 0.002 kA<br />I_to = 0.002 kA<br />",
          "Line_30.0-31.0<br />I = 1.073 %<br />I_from = 0.002 kA<br />I_to = 0.002 kA<br />",
          "Line_31.0-32.0<br />I = 1.073 %<br />I_from = 0.002 kA<br />I_to = 0.002 kA<br />",
          "Line_32.0-33.0<br />I = 1.073 %<br />I_from = 0.002 kA<br />I_to = 0.002 kA<br />",
          "Line_33.0-34.0<br />I = 0.692 %<br />I_from = 0.001 kA<br />I_to = 0.001 kA<br />",
          "Line_34.0-35.0<br />I = 0.16 %<br />I_from = 0.0 kA<br />I_to = 0.0 kA<br />",
          "Line_3.0-36.0<br />I = 5.009 %<br />I_from = 0.01 kA<br />I_to = 0.01 kA<br />",
          "Line_36.0-37.0<br />I = 4.302 %<br />I_from = 0.009 kA<br />I_to = 0.009 kA<br />",
          "Line_37.0-38.0<br />I = 3.595 %<br />I_from = 0.007 kA<br />I_to = 0.007 kA<br />",
          "Line_38.0-39.0<br />I = 3.595 %<br />I_from = 0.007 kA<br />I_to = 0.007 kA<br />",
          "Line_39.0-40.0<br />I = 2.943 %<br />I_from = 0.006 kA<br />I_to = 0.006 kA<br />",
          "Line_40.0-41.0<br />I = 2.292 %<br />I_from = 0.005 kA<br />I_to = 0.005 kA<br />",
          "Line_41.0-42.0<br />I = 2.258 %<br />I_from = 0.005 kA<br />I_to = 0.005 kA<br />",
          "Line_42.0-43.0<br />I = 2.258 %<br />I_from = 0.005 kA<br />I_to = 0.005 kA<br />",
          "Line_43.0-44.0<br />I = 2.094 %<br />I_from = 0.004 kA<br />I_to = 0.004 kA<br />",
          "Line_44.0-45.0<br />I = 2.094 %<br />I_from = 0.004 kA<br />I_to = 0.004 kA<br />",
          "Line_45.0-46.0<br />I = 1.047 %<br />I_from = 0.002 kA<br />I_to = 0.002 kA<br />",
          "Line_4.0-47.0<br />I = 15.459 %<br />I_from = 0.046 kA<br />I_to = 0.046 kA<br />",
          "Line_47.0-48.0<br />I = 15.459 %<br />I_from = 0.046 kA<br />I_to = 0.046 kA<br />",
          "Line_48.0-49.0<br />I = 14.024 %<br />I_from = 0.042 kA<br />I_to = 0.042 kA<br />",
          "Line_49.0-50.0<br />I = 7.014 %<br />I_from = 0.021 kA<br />I_to = 0.021 kA<br />",
          "Line_8.0-51.0<br />I = 1.245 %<br />I_from = 0.002 kA<br />I_to = 0.002 kA<br />",
          "Line_51.0-52.0<br />I = 0.104 %<br />I_from = 0.0 kA<br />I_to = 0.0 kA<br />",
          "Line_9.0-53.0<br />I = 34.756 %<br />I_from = 0.104 kA<br />I_to = 0.104 kA<br />",
          "Line_53.0-54.0<br />I = 34.67 %<br />I_from = 0.104 kA<br />I_to = 0.104 kA<br />",
          "Line_54.0-55.0<br />I = 34.165 %<br />I_from = 0.102 kA<br />I_to = 0.102 kA<br />",
          "Line_55.0-56.0<br />I = 33.705 %<br />I_from = 0.101 kA<br />I_to = 0.101 kA<br />",
          "Line_56.0-57.0<br />I = 33.705 %<br />I_from = 0.101 kA<br />I_to = 0.101 kA<br />",
          "Line_57.0-58.0<br />I = 33.705 %<br />I_from = 0.101 kA<br />I_to = 0.101 kA<br />",
          "Line_58.0-59.0<br />I = 33.705 %<br />I_from = 0.101 kA<br />I_to = 0.101 kA<br />",
          "Line_59.0-60.0<br />I = 31.698 %<br />I_from = 0.095 kA<br />I_to = 0.095 kA<br />",
          "Line_60.0-61.0<br />I = 31.698 %<br />I_from = 0.095 kA<br />I_to = 0.095 kA<br />",
          "Line_61.0-62.0<br />I = 6.467 %<br />I_from = 0.019 kA<br />I_to = 0.019 kA<br />",
          "Line_62.0-63.0<br />I = 5.816 %<br />I_from = 0.017 kA<br />I_to = 0.017 kA<br />",
          "Line_63.0-64.0<br />I = 5.816 %<br />I_from = 0.017 kA<br />I_to = 0.017 kA<br />",
          "Line_64.0-65.0<br />I = 1.2 %<br />I_from = 0.004 kA<br />I_to = 0.004 kA<br />",
          "Line_11.0-66.0<br />I = 1.06 %<br />I_from = 0.002 kA<br />I_to = 0.002 kA<br />",
          "Line_66.0-67.0<br />I = 0.53 %<br />I_from = 0.001 kA<br />I_to = 0.001 kA<br />",
          "Line_12.0-68.0<br />I = 88.455 %<br />I_from = 0.177 kA<br />I_to = 0.177 kA<br />",
          "Line_68.0-69.0<br />I = 38.011 %<br />I_from = 0.076 kA<br />I_to = 0.076 kA<br />",
          "Tie_Line_50-59<br />I = 0.0 %<br />I_from = 0.0 kA<br />I_to = 0.0 kA<br />",
          "Tie_Line_11-44<br />I = 0.0 %<br />I_from = 0.0 kA<br />I_to = 0.0 kA<br />",
          "Tie_Line_13-21<br />I = 0.0 %<br />I_from = 0.0 kA<br />I_to = 0.0 kA<br />",
          "Tie_Line_65-27<br />I = 0.0 %<br />I_from = 0.0 kA<br />I_to = 0.0 kA<br />"
         ],
         "type": "scatter",
         "x": [
          0.5
         ],
         "y": [
          0.0
         ]
        },
        {
         "hoverinfo": "text",
         "marker": {
          "color": "rgb(128, 128, 128)",
          "size": 20,
          "symbol": "square"
         },
         "mode": "markers",
         "name": "external_grid",
         "text": [
          "Bus_1"
         ],
         "type": "scatter",
         "x": [
          0.0
         ],
         "y": [
          0.0
         ]
        },
        {
         "hoverinfo": "text",
         "marker": {
          "cmax": 1.1,
          "cmin": 0.9,
          "color": {
           "bdata": "exSuR+F68D+gZ2fssHrwP1FawpGAevA/q1+5m/Z58D9E0l0FEnTwP1DnuJFXK/A/Om0Agmi/7z+FdzH2EpvvP7K0OscQiO8/fFA4B1i97j9uSufEX4/uP+QpzjxR6e0/m1feU3/Q7T+uRzTL5LftP7OxlbCJn+0/wQKMHAOb7T9VSwVEipPtPy5ze+l2k+0/o0GSMIWP7T8oefM1/YztP7vOPkbmiO0/P70TU9eI7T+pHEQeO4jtPwyvhR3nhu0/CmYtf3eF7T9EtazY34TtP0docVa1hO0/kudgiXl68D8xAryMMHrwP26rbz61efA/VFE3fJ958D+TBUaxMnnwPxxO2+AtePA/KH8XWNh28D+xLsu3k3bwP1AsbYRyevA/KHFyoMN58D8RxHdAInnwP5rwUKvzePA/6F7fafF48D+m6EAxK3bwP5STa4YBdfA/z+LzMtp08D8xOAW60XTwP+koV3FtdPA/GIh1BG108D9lqwijw3nwP1ZmarbPdPA/OqZatIZl8D/JVC8RXGPwP1sEJFHJmu8/NHSRi7Wa7z9zaPBKc3HvPw/YRUYhV+8/+oH0stIy7z+v8FkeXg/vP0tixYj5WO4/XA5+HDf/7T/kNlRHf9ztP9vFRN63s+0/jmN8vK537T8BZM0GVXXtP7DjcXgvcu0/UWtmisNi7T+O5W9bGl7tP3plU8Hmju4/pXC7WOWO7j+McwxxCFbtP8KrKHqhVe0/",
           "dtype": "f8"
          },
          "colorbar": {
           "thickness": 10,
           "title": {
            "side": "right",
            "text": "Bus Voltage [pu]"
           },
           "x": 1.0
          },
          "colorscale": [
           [
            0.0,
            "rgb(0,0,131)"
           ],
           [
            0.2,
            "rgb(0,60,170)"
           ],
           [
            0.4,
            "rgb(5,255,255)"
           ],
           [
            0.6,
            "rgb(255,255,0)"
           ],
           [
            0.8,
            "rgb(250,0,0)"
           ],
           [
            1.0,
            "rgb(128,0,0)"
           ]
          ],
          "size": 10,
          "symbol": "circle"
         },
         "mode": "markers",
         "name": "buses",
         "text": [
          "Bus_1<br />V_m = 1.03 pu<br />V_m = 13.04 kV<br />V_a = 0.0 deg",
          "Bus_2<br />V_m = 1.03 pu<br />V_m = 13.039 kV<br />V_a = -0.003 deg",
          "Bus_3<br />V_m = 1.03 pu<br />V_m = 13.039 kV<br />V_a = -0.005 deg",
          "Bus_4<br />V_m = 1.03 pu<br />V_m = 13.037 kV<br />V_a = -0.013 deg",
          "Bus_5<br />V_m = 1.028 pu<br />V_m = 13.019 kV<br />V_a = -0.063 deg",
          "Bus_6<br />V_m = 1.011 pu<br />V_m = 12.794 kV<br />V_a = -0.23 deg",
          "Bus_7<br />V_m = 0.992 pu<br />V_m = 12.56 kV<br />V_a = -0.409 deg",
          "Bus_8<br />V_m = 0.988 pu<br />V_m = 12.504 kV<br />V_a = -0.454 deg",
          "Bus_9<br />V_m = 0.985 pu<br />V_m = 12.475 kV<br />V_a = -0.479 deg",
          "Bus_10<br />V_m = 0.961 pu<br />V_m = 12.161 kV<br />V_a = -0.751 deg",
          "Bus_11<br />V_m = 0.955 pu<br />V_m = 12.09 kV<br />V_a = -0.817 deg",
          "Bus_12<br />V_m = 0.935 pu<br />V_m = 11.834 kV<br />V_a = -1.091 deg",
          "Bus_13<br />V_m = 0.932 pu<br />V_m = 11.795 kV<br />V_a = -1.041 deg",
          "Bus_14<br />V_m = 0.929 pu<br />V_m = 11.757 kV<br />V_a = -0.991 deg",
          "Bus_15<br />V_m = 0.926 pu<br />V_m = 11.72 kV<br />V_a = -0.942 deg",
          "Bus_16<br />V_m = 0.925 pu<br />V_m = 11.713 kV<br />V_a = -0.933 deg",
          "Bus_17<br />V_m = 0.924 pu<br />V_m = 11.701 kV<br />V_a = -0.917 deg",
          "Bus_18<br />V_m = 0.924 pu<br />V_m = 11.701 kV<br />V_a = -0.917 deg",
          "Bus_19<br />V_m = 0.924 pu<br />V_m = 11.695 kV<br />V_a = -0.908 deg",
          "Bus_20<br />V_m = 0.923 pu<br />V_m = 11.691 kV<br />V_a = -0.902 deg",
          "Bus_21<br />V_m = 0.923 pu<br />V_m = 11.685 kV<br />V_a = -0.893 deg",
          "Bus_22<br />V_m = 0.923 pu<br />V_m = 11.685 kV<br />V_a = -0.892 deg",
          "Bus_23<br />V_m = 0.923 pu<br />V_m = 11.684 kV<br />V_a = -0.891 deg",
          "Bus_24<br />V_m = 0.923 pu<br />V_m = 11.682 kV<br />V_a = -0.888 deg",
          "Bus_25<br />V_m = 0.923 pu<br />V_m = 11.679 kV<br />V_a = -0.884 deg",
          "Bus_26<br />V_m = 0.922 pu<br />V_m = 11.678 kV<br />V_a = -0.883 deg",
          "Bus_27<br />V_m = 0.922 pu<br />V_m = 11.678 kV<br />V_a = -0.883 deg",
          "Bus_28<br />V_m = 1.03 pu<br />V_m = 13.039 kV<br />V_a = -0.006 deg",
          "Bus_29<br />V_m = 1.03 pu<br />V_m = 13.038 kV<br />V_a = -0.008 deg",
          "Bus_30<br />V_m = 1.03 pu<br />V_m = 13.036 kV<br />V_a = -0.006 deg",
          "Bus_31<br />V_m = 1.03 pu<br />V_m = 13.036 kV<br />V_a = -0.006 deg",
          "Bus_32<br />V_m = 1.03 pu<br />V_m = 13.035 kV<br />V_a = -0.004 deg",
          "Bus_33<br />V_m = 1.029 pu<br />V_m = 13.031 kV<br />V_a = 0.0 deg",
          "Bus_34<br />V_m = 1.029 pu<br />V_m = 13.027 kV<br />V_a = 0.006 deg",
          "Bus_35<br />V_m = 1.029 pu<br />V_m = 13.027 kV<br />V_a = 0.007 deg",
          "Bus_36<br />V_m = 1.03 pu<br />V_m = 13.038 kV<br />V_a = -0.006 deg",
          "Bus_37<br />V_m = 1.03 pu<br />V_m = 13.036 kV<br />V_a = -0.012 deg",
          "Bus_38<br />V_m = 1.03 pu<br />V_m = 13.034 kV<br />V_a = -0.014 deg",
          "Bus_39<br />V_m = 1.03 pu<br />V_m = 13.034 kV<br />V_a = -0.015 deg",
          "Bus_40<br />V_m = 1.03 pu<br />V_m = 13.034 kV<br />V_a = -0.015 deg",
          "Bus_41<br />V_m = 1.029 pu<br />V_m = 13.025 kV<br />V_a = -0.025 deg",
          "Bus_42<br />V_m = 1.029 pu<br />V_m = 13.022 kV<br />V_a = -0.03 deg",
          "Bus_43<br />V_m = 1.029 pu<br />V_m = 13.021 kV<br />V_a = -0.03 deg",
          "Bus_44<br />V_m = 1.029 pu<br />V_m = 13.021 kV<br />V_a = -0.03 deg",
          "Bus_45<br />V_m = 1.028 pu<br />V_m = 13.02 kV<br />V_a = -0.032 deg",
          "Bus_46<br />V_m = 1.028 pu<br />V_m = 13.02 kV<br />V_a = -0.032 deg",
          "Bus_47<br />V_m = 1.03 pu<br />V_m = 13.036 kV<br />V_a = -0.015 deg",
          "Bus_48<br />V_m = 1.029 pu<br />V_m = 13.021 kV<br />V_a = -0.057 deg",
          "Bus_49<br />V_m = 1.025 pu<br />V_m = 12.974 kV<br />V_a = -0.189 deg",
          "Bus_50<br />V_m = 1.024 pu<br />V_m = 12.967 kV<br />V_a = -0.207 deg",
          "Bus_51<br />V_m = 0.988 pu<br />V_m = 12.504 kV<br />V_a = -0.454 deg",
          "Bus_52<br />V_m = 0.988 pu<br />V_m = 12.503 kV<br />V_a = -0.454 deg",
          "Bus_53<br />V_m = 0.983 pu<br />V_m = 12.44 kV<br />V_a = -0.457 deg",
          "Bus_54<br />V_m = 0.979 pu<br />V_m = 12.399 kV<br />V_a = -0.432 deg",
          "Bus_55<br />V_m = 0.975 pu<br />V_m = 12.343 kV<br />V_a = -0.397 deg",
          "Bus_56<br />V_m = 0.971 pu<br />V_m = 12.288 kV<br />V_a = -0.362 deg",
          "Bus_57<br />V_m = 0.948 pu<br />V_m = 12.006 kV<br />V_a = 0.027 deg",
          "Bus_58<br />V_m = 0.937 pu<br />V_m = 11.868 kV<br />V_a = 0.226 deg",
          "Bus_59<br />V_m = 0.933 pu<br />V_m = 11.814 kV<br />V_a = 0.306 deg",
          "Bus_60<br />V_m = 0.928 pu<br />V_m = 11.751 kV<br />V_a = 0.409 deg",
          "Bus_61<br />V_m = 0.921 pu<br />V_m = 11.658 kV<br />V_a = 0.476 deg",
          "Bus_62<br />V_m = 0.921 pu<br />V_m = 11.654 kV<br />V_a = 0.479 deg",
          "Bus_63<br />V_m = 0.92 pu<br />V_m = 11.65 kV<br />V_a = 0.483 deg",
          "Bus_64<br />V_m = 0.918 pu<br />V_m = 11.626 kV<br />V_a = 0.5 deg",
          "Bus_65<br />V_m = 0.918 pu<br />V_m = 11.619 kV<br />V_a = 0.505 deg",
          "Bus_66<br />V_m = 0.955 pu<br />V_m = 12.09 kV<br />V_a = -0.815 deg",
          "Bus_67<br />V_m = 0.955 pu<br />V_m = 12.09 kV<br />V_a = -0.815 deg",
          "Bus_68<br />V_m = 0.917 pu<br />V_m = 11.606 kV<br />V_a = -1.441 deg",
          "Bus_69<br />V_m = 0.917 pu<br />V_m = 11.605 kV<br />V_a = -1.442 deg"
         ],
         "type": "scatter",
         "x": [
          0.0,
          1.0,
          2.0,
          3.0,
          4.0,
          5.0,
          6.0,
          7.0,
          8.0,
          9.0,
          10.0,
          11.0,
          12.0,
          13.0,
          14.0,
          15.0,
          16.0,
          17.0,
          18.0,
          19.0,
          20.0,
          21.0,
          22.0,
          23.0,
          24.0,
          25.0,
          26.0,
          3.0,
          4.0,
          5.0,
          6.0,
          7.0,
          8.0,
          9.0,
          10.0,
          3.0,
          4.0,
          5.0,
          6.0,
          7.0,
          8.0,
          9.0,
          10.0,
          11.0,
          12.0,
          13.0,
          4.0,
          5.0,
          6.0,
          7.0,
          8.0,
          9.0,
          9.0,
          10.0,
          11.0,
          12.0,
          13.0,
          14.0,
          15.0,
          16.0,
          17.0,
          18.0,
          19.0,
          20.0,
          21.0,
          11.0,
          12.0,
          12.0,
          13.0
         ],
         "y": [
          0.0,
          0.0,
          0.0,
          -1.33333333,
          -1.83333333,
          -1.83333333,
          -1.83333333,
          -1.83333333,
          -2.77083333,
          -3.64583333,
          -3.64583333,
          -4.39583333,
          -4.89583333,
          -4.89583333,
          -4.89583333,
          -4.89583333,
          -4.89583333,
          -4.89583333,
          -4.89583333,
          -4.89583333,
          -4.89583333,
          -4.89583333,
          -4.89583333,
          -4.89583333,
          -4.89583333,
          -4.89583333,
          -4.89583333,
          0.16666667,
          0.16666667,
          0.16666667,
          0.16666667,
          0.16666667,
          0.16666667,
          0.16666667,
          0.16666667,
          1.16666667,
          1.16666667,
          1.16666667,
          1.16666667,
          1.16666667,
          1.16666667,
          1.16666667,
          1.16666667,
          1.16666667,
          1.16666667,
          1.16666667,
          -0.83333333,
          -0.83333333,
          -0.83333333,
          -0.83333333,
          -0.89583333,
          -0.89583333,
          -1.89583333,
          -1.89583333,
          -1.89583333,
          -1.89583333,
          -1.89583333,
          -1.89583333,
          -1.89583333,
          -1.89583333,
          -1.89583333,
          -1.89583333,
          -1.89583333,
          -1.89583333,
          -1.89583333,
          -2.89583333,
          -2.89583333,
          -3.89583333,
          -3.89583333
         ]
        }
       ],
       "layout": {
        "autosize": true,
        "height": 163.22115384615384,
        "hovermode": "closest",
        "legend": {
         "itemsizing": "constant"
        },
        "margin": {
         "b": 5,
         "l": 5,
         "r": 5,
         "t": 5
        },
        "showlegend": false,
        "template": {
         "data": {
          "bar": [
           {
            "error_x": {
             "color": "#2a3f5f"
            },
            "error_y": {
             "color": "#2a3f5f"
            },
            "marker": {
             "line": {
              "color": "#E5ECF6",
              "width": 0.5
             },
             "pattern": {
              "fillmode": "overlay",
              "size": 10,
              "solidity": 0.2
             }
            },
            "type": "bar"
           }
          ],
          "barpolar": [
           {
            "marker": {
             "line": {
              "color": "#E5ECF6",
              "width": 0.5
             },
             "pattern": {
              "fillmode": "overlay",
              "size": 10,
              "solidity": 0.2
             }
            },
            "type": "barpolar"
           }
          ],
          "carpet": [
           {
            "aaxis": {
             "endlinecolor": "#2a3f5f",
             "gridcolor": "white",
             "linecolor": "white",
             "minorgridcolor": "white",
             "startlinecolor": "#2a3f5f"
            },
            "baxis": {
             "endlinecolor": "#2a3f5f",
             "gridcolor": "white",
             "linecolor": "white",
             "minorgridcolor": "white",
             "startlinecolor": "#2a3f5f"
            },
            "type": "carpet"
           }
          ],
          "choropleth": [
           {
            "colorbar": {
             "outlinewidth": 0,
             "ticks": ""
            },
            "type": "choropleth"
           }
          ],
          "contour": [
           {
            "colorbar": {
             "outlinewidth": 0,
             "ticks": ""
            },
            "colorscale": [
             [
              0.0,
              "#0d0887"
             ],
             [
              0.1111111111111111,
              "#46039f"
             ],
             [
              0.2222222222222222,
              "#7201a8"
             ],
             [
              0.3333333333333333,
              "#9c179e"
             ],
             [
              0.4444444444444444,
              "#bd3786"
             ],
             [
              0.5555555555555556,
              "#d8576b"
             ],
             [
              0.6666666666666666,
              "#ed7953"
             ],
             [
              0.7777777777777778,
              "#fb9f3a"
             ],
             [
              0.8888888888888888,
              "#fdca26"
             ],
             [
              1.0,
              "#f0f921"
             ]
            ],
            "type": "contour"
           }
          ],
          "contourcarpet": [
           {
            "colorbar": {
             "outlinewidth": 0,
             "ticks": ""
            },
            "type": "contourcarpet"
           }
          ],
          "heatmap": [
           {
            "colorbar": {
             "outlinewidth": 0,
             "ticks": ""
            },
            "colorscale": [
             [
              0.0,
              "#0d0887"
             ],
             [
              0.1111111111111111,
              "#46039f"
             ],
             [
              0.2222222222222222,
              "#7201a8"
             ],
             [
              0.3333333333333333,
              "#9c179e"
             ],
             [
              0.4444444444444444,
              "#bd3786"
             ],
             [
              0.5555555555555556,
              "#d8576b"
             ],
             [
              0.6666666666666666,
              "#ed7953"
             ],
             [
              0.7777777777777778,
              "#fb9f3a"
             ],
             [
              0.8888888888888888,
              "#fdca26"
             ],
             [
              1.0,
              "#f0f921"
             ]
            ],
            "type": "heatmap"
           }
          ],
          "histogram": [
           {
            "marker": {
             "pattern": {
              "fillmode": "overlay",
              "size": 10,
              "solidity": 0.2
             }
            },
            "type": "histogram"
           }
          ],
          "histogram2d": [
           {
            "colorbar": {
             "outlinewidth": 0,
             "ticks": ""
            },
            "colorscale": [
             [
              0.0,
              "#0d0887"
             ],
             [
              0.1111111111111111,
              "#46039f"
             ],
             [
              0.2222222222222222,
              "#7201a8"
             ],
             [
              0.3333333333333333,
              "#9c179e"
             ],
             [
              0.4444444444444444,
              "#bd3786"
             ],
             [
              0.5555555555555556,
              "#d8576b"
             ],
             [
              0.6666666666666666,
              "#ed7953"
             ],
             [
              0.7777777777777778,
              "#fb9f3a"
             ],
             [
              0.8888888888888888,
              "#fdca26"
             ],
             [
              1.0,
              "#f0f921"
             ]
            ],
            "type": "histogram2d"
           }
          ],
          "histogram2dcontour": [
           {
            "colorbar": {
             "outlinewidth": 0,
             "ticks": ""
            },
            "colorscale": [
             [
              0.0,
              "#0d0887"
             ],
             [
              0.1111111111111111,
              "#46039f"
             ],
             [
              0.2222222222222222,
              "#7201a8"
             ],
             [
              0.3333333333333333,
              "#9c179e"
             ],
             [
              0.4444444444444444,
              "#bd3786"
             ],
             [
              0.5555555555555556,
              "#d8576b"
             ],
             [
              0.6666666666666666,
              "#ed7953"
             ],
             [
              0.7777777777777778,
              "#fb9f3a"
             ],
             [
              0.8888888888888888,
              "#fdca26"
             ],
             [
              1.0,
              "#f0f921"
             ]
            ],
            "type": "histogram2dcontour"
           }
          ],
          "mesh3d": [
           {
            "colorbar": {
             "outlinewidth": 0,
             "ticks": ""
            },
            "type": "mesh3d"
           }
          ],
          "parcoords": [
           {
            "line": {
             "colorbar": {
              "outlinewidth": 0,
              "ticks": ""
             }
            },
            "type": "parcoords"
           }
          ],
          "pie": [
           {
            "automargin": true,
            "type": "pie"
           }
          ],
          "scatter": [
           {
            "fillpattern": {
             "fillmode": "overlay",
             "size": 10,
             "solidity": 0.2
            },
            "type": "scatter"
           }
          ],
          "scatter3d": [
           {
            "line": {
             "colorbar": {
              "outlinewidth": 0,
              "ticks": ""
             }
            },
            "marker": {
             "colorbar": {
              "outlinewidth": 0,
              "ticks": ""
             }
            },
            "type": "scatter3d"
           }
          ],
          "scattercarpet": [
           {
            "marker": {
             "colorbar": {
              "outlinewidth": 0,
              "ticks": ""
             }
            },
            "type": "scattercarpet"
           }
          ],
          "scattergeo": [
           {
            "marker": {
             "colorbar": {
              "outlinewidth": 0,
              "ticks": ""
             }
            },
            "type": "scattergeo"
           }
          ],
          "scattergl": [
           {
            "marker": {
             "colorbar": {
              "outlinewidth": 0,
              "ticks": ""
             }
            },
            "type": "scattergl"
           }
          ],
          "scattermap": [
           {
            "marker": {
             "colorbar": {
              "outlinewidth": 0,
              "ticks": ""
             }
            },
            "type": "scattermap"
           }
          ],
          "scattermapbox": [
           {
            "marker": {
             "colorbar": {
              "outlinewidth": 0,
              "ticks": ""
             }
            },
            "type": "scattermapbox"
           }
          ],
          "scatterpolar": [
           {
            "marker": {
             "colorbar": {
              "outlinewidth": 0,
              "ticks": ""
             }
            },
            "type": "scatterpolar"
           }
          ],
          "scatterpolargl": [
           {
            "marker": {
             "colorbar": {
              "outlinewidth": 0,
              "ticks": ""
             }
            },
            "type": "scatterpolargl"
           }
          ],
          "scatterternary": [
           {
            "marker": {
             "colorbar": {
              "outlinewidth": 0,
              "ticks": ""
             }
            },
            "type": "scatterternary"
           }
          ],
          "surface": [
           {
            "colorbar": {
             "outlinewidth": 0,
             "ticks": ""
            },
            "colorscale": [
             [
              0.0,
              "#0d0887"
             ],
             [
              0.1111111111111111,
              "#46039f"
             ],
             [
              0.2222222222222222,
              "#7201a8"
             ],
             [
              0.3333333333333333,
              "#9c179e"
             ],
             [
              0.4444444444444444,
              "#bd3786"
             ],
             [
              0.5555555555555556,
              "#d8576b"
             ],
             [
              0.6666666666666666,
              "#ed7953"
             ],
             [
              0.7777777777777778,
              "#fb9f3a"
             ],
             [
              0.8888888888888888,
              "#fdca26"
             ],
             [
              1.0,
              "#f0f921"
             ]
            ],
            "type": "surface"
           }
          ],
          "table": [
           {
            "cells": {
             "fill": {
              "color": "#EBF0F8"
             },
             "line": {
              "color": "white"
             }
            },
            "header": {
             "fill": {
              "color": "#C8D4E3"
             },
             "line": {
              "color": "white"
             }
            },
            "type": "table"
           }
          ]
         },
         "layout": {
          "annotationdefaults": {
           "arrowcolor": "#2a3f5f",
           "arrowhead": 0,
           "arrowwidth": 1
          },
          "autotypenumbers": "strict",
          "coloraxis": {
           "colorbar": {
            "outlinewidth": 0,
            "ticks": ""
           }
          },
          "colorscale": {
           "diverging": [
            [
             0,
             "#8e0152"
            ],
            [
             0.1,
             "#c51b7d"
            ],
            [
             0.2,
             "#de77ae"
            ],
            [
             0.3,
             "#f1b6da"
            ],
            [
             0.4,
             "#fde0ef"
            ],
            [
             0.5,
             "#f7f7f7"
            ],
            [
             0.6,
             "#e6f5d0"
            ],
            [
             0.7,
             "#b8e186"
            ],
            [
             0.8,
             "#7fbc41"
            ],
            [
             0.9,
             "#4d9221"
            ],
            [
             1,
             "#276419"
            ]
           ],
           "sequential": [
            [
             0.0,
             "#0d0887"
            ],
            [
             0.1111111111111111,
             "#46039f"
            ],
            [
             0.2222222222222222,
             "#7201a8"
            ],
            [
             0.3333333333333333,
             "#9c179e"
            ],
            [
             0.4444444444444444,
             "#bd3786"
            ],
            [
             0.5555555555555556,
             "#d8576b"
            ],
            [
             0.6666666666666666,
             "#ed7953"
            ],
            [
             0.7777777777777778,
             "#fb9f3a"
            ],
            [
             0.8888888888888888,
             "#fdca26"
            ],
            [
             1.0,
             "#f0f921"
            ]
           ],
           "sequentialminus": [
            [
             0.0,
             "#0d0887"
            ],
            [
             0.1111111111111111,
             "#46039f"
            ],
            [
             0.2222222222222222,
             "#7201a8"
            ],
            [
             0.3333333333333333,
             "#9c179e"
            ],
            [
             0.4444444444444444,
             "#bd3786"
            ],
            [
             0.5555555555555556,
             "#d8576b"
            ],
            [
             0.6666666666666666,
             "#ed7953"
            ],
            [
             0.7777777777777778,
             "#fb9f3a"
            ],
            [
             0.8888888888888888,
             "#fdca26"
            ],
            [
             1.0,
             "#f0f921"
            ]
           ]
          },
          "colorway": [
           "#636efa",
           "#EF553B",
           "#00cc96",
           "#ab63fa",
           "#FFA15A",
           "#19d3f3",
           "#FF6692",
           "#B6E880",
           "#FF97FF",
           "#FECB52"
          ],
          "font": {
           "color": "#2a3f5f"
          },
          "geo": {
           "bgcolor": "white",
           "lakecolor": "white",
           "landcolor": "#E5ECF6",
           "showlakes": true,
           "showland": true,
           "subunitcolor": "white"
          },
          "hoverlabel": {
           "align": "left"
          },
          "hovermode": "closest",
          "mapbox": {
           "style": "light"
          },
          "paper_bgcolor": "white",
          "plot_bgcolor": "#E5ECF6",
          "polar": {
           "angularaxis": {
            "gridcolor": "white",
            "linecolor": "white",
            "ticks": ""
           },
           "bgcolor": "#E5ECF6",
           "radialaxis": {
            "gridcolor": "white",
            "linecolor": "white",
            "ticks": ""
           }
          },
          "scene": {
           "xaxis": {
            "backgroundcolor": "#E5ECF6",
            "gridcolor": "white",
            "gridwidth": 2,
            "linecolor": "white",
            "showbackground": true,
            "ticks": "",
            "zerolinecolor": "white"
           },
           "yaxis": {
            "backgroundcolor": "#E5ECF6",
            "gridcolor": "white",
            "gridwidth": 2,
            "linecolor": "white",
            "showbackground": true,
            "ticks": "",
            "zerolinecolor": "white"
           },
           "zaxis": {
            "backgroundcolor": "#E5ECF6",
            "gridcolor": "white",
            "gridwidth": 2,
            "linecolor": "white",
            "showbackground": true,
            "ticks": "",
            "zerolinecolor": "white"
           }
          },
          "shapedefaults": {
           "line": {
            "color": "#2a3f5f"
           }
          },
          "ternary": {
           "aaxis": {
            "gridcolor": "white",
            "linecolor": "white",
            "ticks": ""
           },
           "baxis": {
            "gridcolor": "white",
            "linecolor": "white",
            "ticks": ""
           },
           "bgcolor": "#E5ECF6",
           "caxis": {
            "gridcolor": "white",
            "linecolor": "white",
            "ticks": ""
           }
          },
          "title": {
           "x": 0.05
          },
          "xaxis": {
           "automargin": true,
           "gridcolor": "white",
           "linecolor": "white",
           "ticks": "",
           "title": {
            "standoff": 15
           },
           "zerolinecolor": "white",
           "zerolinewidth": 2
          },
          "yaxis": {
           "automargin": true,
           "gridcolor": "white",
           "linecolor": "white",
           "ticks": "",
           "title": {
            "standoff": 15
           },
           "zerolinecolor": "white",
           "zerolinewidth": 2
          }
         }
        },
        "title": {
         "font": {
          "size": 16
         }
        },
        "width": 700.0,
        "xaxis": {
         "showgrid": false,
         "showticklabels": false,
         "zeroline": false
        },
        "yaxis": {
         "showgrid": false,
         "showticklabels": false,
         "zeroline": false
        }
       }
      }
     },
     "metadata": {},
     "output_type": "display_data"
    }
   ],
   "source": [
    "pp.runpp(network)\n",
    "pp.plotting.plotly.pf_res_plotly(network, auto_open=False)"
   ]
  },
  {
   "cell_type": "code",
   "execution_count": 548,
   "id": "65a0d4b29487445e",
   "metadata": {
    "ExecuteTime": {
     "end_time": "2025-07-22T01:41:46.027849Z",
     "start_time": "2025-07-22T01:41:46.020969Z"
    }
   },
   "outputs": [
    {
     "data": {
      "text/html": [
       "<div>\n",
       "<style scoped>\n",
       "    .dataframe tbody tr th:only-of-type {\n",
       "        vertical-align: middle;\n",
       "    }\n",
       "\n",
       "    .dataframe tbody tr th {\n",
       "        vertical-align: top;\n",
       "    }\n",
       "\n",
       "    .dataframe thead th {\n",
       "        text-align: right;\n",
       "    }\n",
       "</style>\n",
       "<table border=\"1\" class=\"dataframe\">\n",
       "  <thead>\n",
       "    <tr style=\"text-align: right;\">\n",
       "      <th></th>\n",
       "      <th>vm_pu</th>\n",
       "      <th>va_degree</th>\n",
       "      <th>p_mw</th>\n",
       "      <th>q_mvar</th>\n",
       "    </tr>\n",
       "  </thead>\n",
       "  <tbody>\n",
       "    <tr>\n",
       "      <th>11</th>\n",
       "      <td>0.934731</td>\n",
       "      <td>-1.090537</td>\n",
       "      <td>0.1450</td>\n",
       "      <td>0.1040</td>\n",
       "    </tr>\n",
       "    <tr>\n",
       "      <th>12</th>\n",
       "      <td>0.931701</td>\n",
       "      <td>-1.040820</td>\n",
       "      <td>0.0080</td>\n",
       "      <td>0.0050</td>\n",
       "    </tr>\n",
       "    <tr>\n",
       "      <th>13</th>\n",
       "      <td>0.928698</td>\n",
       "      <td>-0.991173</td>\n",
       "      <td>0.0080</td>\n",
       "      <td>0.0055</td>\n",
       "    </tr>\n",
       "    <tr>\n",
       "      <th>14</th>\n",
       "      <td>0.925725</td>\n",
       "      <td>-0.941788</td>\n",
       "      <td>0.0000</td>\n",
       "      <td>0.0000</td>\n",
       "    </tr>\n",
       "    <tr>\n",
       "      <th>15</th>\n",
       "      <td>0.925172</td>\n",
       "      <td>-0.932581</td>\n",
       "      <td>0.0455</td>\n",
       "      <td>0.0300</td>\n",
       "    </tr>\n",
       "    <tr>\n",
       "      <th>16</th>\n",
       "      <td>0.924260</td>\n",
       "      <td>-0.917363</td>\n",
       "      <td>0.0600</td>\n",
       "      <td>0.0350</td>\n",
       "    </tr>\n",
       "    <tr>\n",
       "      <th>17</th>\n",
       "      <td>0.924251</td>\n",
       "      <td>-0.917206</td>\n",
       "      <td>0.0600</td>\n",
       "      <td>0.0350</td>\n",
       "    </tr>\n",
       "    <tr>\n",
       "      <th>18</th>\n",
       "      <td>0.923770</td>\n",
       "      <td>-0.908028</td>\n",
       "      <td>0.0000</td>\n",
       "      <td>0.0000</td>\n",
       "    </tr>\n",
       "    <tr>\n",
       "      <th>19</th>\n",
       "      <td>0.923461</td>\n",
       "      <td>-0.902076</td>\n",
       "      <td>0.0010</td>\n",
       "      <td>0.0006</td>\n",
       "    </tr>\n",
       "    <tr>\n",
       "      <th>20</th>\n",
       "      <td>0.922961</td>\n",
       "      <td>-0.892525</td>\n",
       "      <td>0.1140</td>\n",
       "      <td>0.0810</td>\n",
       "    </tr>\n",
       "    <tr>\n",
       "      <th>21</th>\n",
       "      <td>0.922954</td>\n",
       "      <td>-0.892387</td>\n",
       "      <td>0.0050</td>\n",
       "      <td>0.0035</td>\n",
       "    </tr>\n",
       "    <tr>\n",
       "      <th>22</th>\n",
       "      <td>0.922880</td>\n",
       "      <td>-0.890953</td>\n",
       "      <td>0.0000</td>\n",
       "      <td>0.0000</td>\n",
       "    </tr>\n",
       "    <tr>\n",
       "      <th>23</th>\n",
       "      <td>0.922718</td>\n",
       "      <td>-0.887829</td>\n",
       "      <td>0.0280</td>\n",
       "      <td>0.0200</td>\n",
       "    </tr>\n",
       "    <tr>\n",
       "      <th>24</th>\n",
       "      <td>0.922542</td>\n",
       "      <td>-0.884451</td>\n",
       "      <td>0.0000</td>\n",
       "      <td>0.0000</td>\n",
       "    </tr>\n",
       "    <tr>\n",
       "      <th>25</th>\n",
       "      <td>0.922470</td>\n",
       "      <td>-0.883056</td>\n",
       "      <td>0.0140</td>\n",
       "      <td>0.0100</td>\n",
       "    </tr>\n",
       "    <tr>\n",
       "      <th>26</th>\n",
       "      <td>0.922450</td>\n",
       "      <td>-0.882665</td>\n",
       "      <td>0.0140</td>\n",
       "      <td>0.0100</td>\n",
       "    </tr>\n",
       "    <tr>\n",
       "      <th>56</th>\n",
       "      <td>0.948361</td>\n",
       "      <td>0.027393</td>\n",
       "      <td>0.0000</td>\n",
       "      <td>0.0000</td>\n",
       "    </tr>\n",
       "    <tr>\n",
       "      <th>57</th>\n",
       "      <td>0.937404</td>\n",
       "      <td>0.226382</td>\n",
       "      <td>0.0000</td>\n",
       "      <td>0.0000</td>\n",
       "    </tr>\n",
       "    <tr>\n",
       "      <th>58</th>\n",
       "      <td>0.933166</td>\n",
       "      <td>0.305909</td>\n",
       "      <td>0.1000</td>\n",
       "      <td>0.0720</td>\n",
       "    </tr>\n",
       "    <tr>\n",
       "      <th>59</th>\n",
       "      <td>0.928188</td>\n",
       "      <td>0.408513</td>\n",
       "      <td>0.0000</td>\n",
       "      <td>0.0000</td>\n",
       "    </tr>\n",
       "    <tr>\n",
       "      <th>60</th>\n",
       "      <td>0.920860</td>\n",
       "      <td>0.476304</td>\n",
       "      <td>1.2440</td>\n",
       "      <td>0.8880</td>\n",
       "    </tr>\n",
       "    <tr>\n",
       "      <th>61</th>\n",
       "      <td>0.920573</td>\n",
       "      <td>0.478976</td>\n",
       "      <td>0.0320</td>\n",
       "      <td>0.0230</td>\n",
       "    </tr>\n",
       "    <tr>\n",
       "      <th>62</th>\n",
       "      <td>0.920189</td>\n",
       "      <td>0.482552</td>\n",
       "      <td>0.0000</td>\n",
       "      <td>0.0000</td>\n",
       "    </tr>\n",
       "    <tr>\n",
       "      <th>63</th>\n",
       "      <td>0.918306</td>\n",
       "      <td>0.500083</td>\n",
       "      <td>0.2270</td>\n",
       "      <td>0.1620</td>\n",
       "    </tr>\n",
       "    <tr>\n",
       "      <th>64</th>\n",
       "      <td>0.917737</td>\n",
       "      <td>0.505360</td>\n",
       "      <td>0.0590</td>\n",
       "      <td>0.0420</td>\n",
       "    </tr>\n",
       "    <tr>\n",
       "      <th>67</th>\n",
       "      <td>0.916752</td>\n",
       "      <td>-1.440760</td>\n",
       "      <td>2.0280</td>\n",
       "      <td>0.0200</td>\n",
       "    </tr>\n",
       "    <tr>\n",
       "      <th>68</th>\n",
       "      <td>0.916703</td>\n",
       "      <td>-1.441760</td>\n",
       "      <td>1.5280</td>\n",
       "      <td>0.0200</td>\n",
       "    </tr>\n",
       "  </tbody>\n",
       "</table>\n",
       "</div>"
      ],
      "text/plain": [
       "       vm_pu  va_degree    p_mw  q_mvar\n",
       "11  0.934731  -1.090537  0.1450  0.1040\n",
       "12  0.931701  -1.040820  0.0080  0.0050\n",
       "13  0.928698  -0.991173  0.0080  0.0055\n",
       "14  0.925725  -0.941788  0.0000  0.0000\n",
       "15  0.925172  -0.932581  0.0455  0.0300\n",
       "16  0.924260  -0.917363  0.0600  0.0350\n",
       "17  0.924251  -0.917206  0.0600  0.0350\n",
       "18  0.923770  -0.908028  0.0000  0.0000\n",
       "19  0.923461  -0.902076  0.0010  0.0006\n",
       "20  0.922961  -0.892525  0.1140  0.0810\n",
       "21  0.922954  -0.892387  0.0050  0.0035\n",
       "22  0.922880  -0.890953  0.0000  0.0000\n",
       "23  0.922718  -0.887829  0.0280  0.0200\n",
       "24  0.922542  -0.884451  0.0000  0.0000\n",
       "25  0.922470  -0.883056  0.0140  0.0100\n",
       "26  0.922450  -0.882665  0.0140  0.0100\n",
       "56  0.948361   0.027393  0.0000  0.0000\n",
       "57  0.937404   0.226382  0.0000  0.0000\n",
       "58  0.933166   0.305909  0.1000  0.0720\n",
       "59  0.928188   0.408513  0.0000  0.0000\n",
       "60  0.920860   0.476304  1.2440  0.8880\n",
       "61  0.920573   0.478976  0.0320  0.0230\n",
       "62  0.920189   0.482552  0.0000  0.0000\n",
       "63  0.918306   0.500083  0.2270  0.1620\n",
       "64  0.917737   0.505360  0.0590  0.0420\n",
       "67  0.916752  -1.440760  2.0280  0.0200\n",
       "68  0.916703  -1.441760  1.5280  0.0200"
      ]
     },
     "execution_count": 548,
     "metadata": {},
     "output_type": "execute_result"
    }
   ],
   "source": [
    "network.res_bus[(network.res_bus.vm_pu > 1.05) | (network.res_bus.vm_pu < 0.95)]"
   ]
  },
  {
   "cell_type": "code",
   "execution_count": 549,
   "id": "3de03231c1a12fcc",
   "metadata": {
    "ExecuteTime": {
     "end_time": "2025-07-22T01:41:46.081753Z",
     "start_time": "2025-07-22T01:41:46.076306Z"
    }
   },
   "outputs": [
    {
     "data": {
      "text/html": [
       "<div>\n",
       "<style scoped>\n",
       "    .dataframe tbody tr th:only-of-type {\n",
       "        vertical-align: middle;\n",
       "    }\n",
       "\n",
       "    .dataframe tbody tr th {\n",
       "        vertical-align: top;\n",
       "    }\n",
       "\n",
       "    .dataframe thead th {\n",
       "        text-align: right;\n",
       "    }\n",
       "</style>\n",
       "<table border=\"1\" class=\"dataframe\">\n",
       "  <thead>\n",
       "    <tr style=\"text-align: right;\">\n",
       "      <th></th>\n",
       "      <th>p_from_mw</th>\n",
       "      <th>q_from_mvar</th>\n",
       "      <th>p_to_mw</th>\n",
       "      <th>q_to_mvar</th>\n",
       "      <th>pl_mw</th>\n",
       "      <th>ql_mvar</th>\n",
       "      <th>i_from_ka</th>\n",
       "      <th>i_to_ka</th>\n",
       "      <th>i_ka</th>\n",
       "      <th>vm_from_pu</th>\n",
       "      <th>va_from_degree</th>\n",
       "      <th>vm_to_pu</th>\n",
       "      <th>va_to_degree</th>\n",
       "      <th>loading_percent</th>\n",
       "    </tr>\n",
       "  </thead>\n",
       "  <tbody>\n",
       "    <tr>\n",
       "      <th>9</th>\n",
       "      <td>4.426756</td>\n",
       "      <td>0.571493</td>\n",
       "      <td>-4.401539</td>\n",
       "      <td>-0.563154</td>\n",
       "      <td>0.025217</td>\n",
       "      <td>0.008338</td>\n",
       "      <td>0.211901</td>\n",
       "      <td>0.211901</td>\n",
       "      <td>0.211901</td>\n",
       "      <td>0.960613</td>\n",
       "      <td>-0.751488</td>\n",
       "      <td>0.955002</td>\n",
       "      <td>-0.816577</td>\n",
       "      <td>105.950253</td>\n",
       "    </tr>\n",
       "    <tr>\n",
       "      <th>10</th>\n",
       "      <td>4.220537</td>\n",
       "      <td>0.433154</td>\n",
       "      <td>-4.132933</td>\n",
       "      <td>-0.404203</td>\n",
       "      <td>0.087604</td>\n",
       "      <td>0.028951</td>\n",
       "      <td>0.202602</td>\n",
       "      <td>0.202602</td>\n",
       "      <td>0.202602</td>\n",
       "      <td>0.955002</td>\n",
       "      <td>-0.816577</td>\n",
       "      <td>0.934731</td>\n",
       "      <td>-1.090537</td>\n",
       "      <td>101.301160</td>\n",
       "    </tr>\n",
       "  </tbody>\n",
       "</table>\n",
       "</div>"
      ],
      "text/plain": [
       "    p_from_mw  q_from_mvar   p_to_mw  q_to_mvar     pl_mw   ql_mvar  \\\n",
       "9    4.426756     0.571493 -4.401539  -0.563154  0.025217  0.008338   \n",
       "10   4.220537     0.433154 -4.132933  -0.404203  0.087604  0.028951   \n",
       "\n",
       "    i_from_ka   i_to_ka      i_ka  vm_from_pu  va_from_degree  vm_to_pu  \\\n",
       "9    0.211901  0.211901  0.211901    0.960613       -0.751488  0.955002   \n",
       "10   0.202602  0.202602  0.202602    0.955002       -0.816577  0.934731   \n",
       "\n",
       "    va_to_degree  loading_percent  \n",
       "9      -0.816577       105.950253  \n",
       "10     -1.090537       101.301160  "
      ]
     },
     "execution_count": 549,
     "metadata": {},
     "output_type": "execute_result"
    }
   ],
   "source": [
    "network.res_line[network.res_line.loading_percent > 100]"
   ]
  },
  {
   "cell_type": "code",
   "execution_count": 550,
   "id": "2c4763b16fb99276",
   "metadata": {
    "ExecuteTime": {
     "end_time": "2025-07-22T01:41:46.283794Z",
     "start_time": "2025-07-22T01:41:46.170900Z"
    }
   },
   "outputs": [
    {
     "data": {
      "application/vnd.plotly.v1+json": {
       "config": {
        "plotlyServerURL": "https://plot.ly"
       },
       "data": [
        {
         "hoverinfo": "text",
         "legendgroup": "lines",
         "line": {
          "color": "rgb(218.40909090909096,0.0,0.0)",
          "dash": "solid",
          "width": 2
         },
         "mode": "lines",
         "name": "lines",
         "showlegend": true,
         "text": "Line_1.0-2.0<br />I = 92.051 %<br />I_from = 0.368 kA<br />I_to = 0.368 kA<br />",
         "type": "scatter",
         "x": [
          0.0,
          0.5,
          1.0
         ],
         "y": [
          0.0,
          0.0,
          0.0
         ]
        },
        {
         "hoverinfo": "text",
         "legendgroup": "lines",
         "line": {
          "color": "rgb(218.40909090909096,0.0,0.0)",
          "dash": "solid",
          "width": 2
         },
         "mode": "lines",
         "name": "lines",
         "showlegend": false,
         "text": "Line_2.0-3.0<br />I = 92.051 %<br />I_from = 0.368 kA<br />I_to = 0.368 kA<br />",
         "type": "scatter",
         "x": [
          1.0,
          1.5,
          2.0
         ],
         "y": [
          0.0,
          0.0,
          0.0
         ]
        },
        {
         "hoverinfo": "text",
         "legendgroup": "lines",
         "line": {
          "color": "rgb(183.06451612903223,255.0,63.70967741935485)",
          "dash": "solid",
          "width": 2
         },
         "mode": "lines",
         "name": "lines",
         "showlegend": false,
         "text": "Line_3.0-4.0<br />I = 57.119 %<br />I_from = 0.228 kA<br />I_to = 0.228 kA<br />",
         "type": "scatter",
         "x": [
          2.0,
          2.5,
          3.0
         ],
         "y": [
          0.0,
          -0.666666665,
          -1.33333333
         ]
        },
        {
         "hoverinfo": "text",
         "legendgroup": "lines",
         "line": {
          "color": "rgb(92.74193548387096,255.0,154.03225806451613)",
          "dash": "solid",
          "width": 2
         },
         "mode": "lines",
         "name": "lines",
         "showlegend": false,
         "text": "Line_4.0-5.0<br />I = 46.325 %<br />I_from = 0.185 kA<br />I_to = 0.185 kA<br />",
         "type": "scatter",
         "x": [
          3.0,
          3.5,
          4.0
         ],
         "y": [
          -1.33333333,
          -1.58333333,
          -1.83333333
         ]
        },
        {
         "hoverinfo": "text",
         "legendgroup": "lines",
         "line": {
          "color": "rgb(92.74193548387096,255.0,154.03225806451613)",
          "dash": "solid",
          "width": 2
         },
         "mode": "lines",
         "name": "lines",
         "showlegend": false,
         "text": "Line_5.0-6.0<br />I = 46.325 %<br />I_from = 0.185 kA<br />I_to = 0.185 kA<br />",
         "type": "scatter",
         "x": [
          4.0,
          4.5,
          5.0
         ],
         "y": [
          -1.83333333,
          -1.83333333,
          -1.83333333
         ]
        },
        {
         "hoverinfo": "text",
         "legendgroup": "lines",
         "line": {
          "color": "rgb(92.74193548387096,255.0,154.03225806451613)",
          "dash": "solid",
          "width": 2
         },
         "mode": "lines",
         "name": "lines",
         "showlegend": false,
         "text": "Line_6.0-7.0<br />I = 46.291 %<br />I_from = 0.185 kA<br />I_to = 0.185 kA<br />",
         "type": "scatter",
         "x": [
          5.0,
          5.5,
          6.0
         ],
         "y": [
          -1.83333333,
          -1.83333333,
          -1.83333333
         ]
        },
        {
         "hoverinfo": "text",
         "legendgroup": "lines",
         "line": {
          "color": "rgb(89.51612903225806,255.0,157.25806451612902)",
          "dash": "solid",
          "width": 2
         },
         "mode": "lines",
         "name": "lines",
         "showlegend": false,
         "text": "Line_7.0-8.0<br />I = 45.777 %<br />I_from = 0.183 kA<br />I_to = 0.183 kA<br />",
         "type": "scatter",
         "x": [
          6.0,
          6.5,
          7.0
         ],
         "y": [
          -1.83333333,
          -1.83333333,
          -1.83333333
         ]
        },
        {
         "hoverinfo": "text",
         "legendgroup": "lines",
         "line": {
          "color": "rgb(76.61290322580645,255.0,170.16129032258064)",
          "dash": "solid",
          "width": 2
         },
         "mode": "lines",
         "name": "lines",
         "showlegend": false,
         "text": "Line_8.0-9.0<br />I = 44.273 %<br />I_from = 0.177 kA<br />I_to = 0.177 kA<br />",
         "type": "scatter",
         "x": [
          7.0,
          7.5,
          8.0
         ],
         "y": [
          -1.83333333,
          -2.30208333,
          -2.77083333
         ]
        },
        {
         "hoverinfo": "text",
         "legendgroup": "lines",
         "line": {
          "color": "rgb(0.0,108.5,255.0)",
          "dash": "solid",
          "width": 2
         },
         "mode": "lines",
         "name": "lines",
         "showlegend": false,
         "text": "Line_9.0-10.0<br />I = 23.322 %<br />I_from = 0.093 kA<br />I_to = 0.093 kA<br />",
         "type": "scatter",
         "x": [
          8.0,
          8.5,
          9.0
         ],
         "y": [
          -2.77083333,
          -3.20833333,
          -3.64583333
         ]
        },
        {
         "hoverinfo": "text",
         "legendgroup": "lines",
         "line": {
          "color": "rgb(92.74193548387096,255.0,154.03225806451613)",
          "dash": "solid",
          "width": 2
         },
         "mode": "lines",
         "name": "lines",
         "showlegend": false,
         "text": "Line_10.0-11.0<br />I = 46.168 %<br />I_from = 0.092 kA<br />I_to = 0.092 kA<br />",
         "type": "scatter",
         "x": [
          9.0,
          9.5,
          10.0
         ],
         "y": [
          -3.64583333,
          -3.64583333,
          -3.64583333
         ]
        },
        {
         "hoverinfo": "text",
         "legendgroup": "lines",
         "line": {
          "color": "rgb(159.31818181818184,0.0,0.0)",
          "dash": "solid",
          "width": 2
         },
         "mode": "lines",
         "name": "lines",
         "showlegend": false,
         "text": "Line_11.0-12.0<br />I = 97.023 %<br />I_from = 0.194 kA<br />I_to = 0.194 kA<br />",
         "type": "scatter",
         "x": [
          10.0,
          10.5,
          11.0
         ],
         "y": [
          -3.64583333,
          -4.02083333,
          -4.39583333
         ]
        },
        {
         "hoverinfo": "text",
         "legendgroup": "lines",
         "line": {
          "color": "rgb(0.0,0.0,241.13636363636363)",
          "dash": "solid",
          "width": 2
         },
         "mode": "lines",
         "name": "lines",
         "showlegend": false,
         "text": "Line_12.0-13.0<br />I = 10.126 %<br />I_from = 0.02 kA<br />I_to = 0.02 kA<br />",
         "type": "scatter",
         "x": [
          11.0,
          11.5,
          12.0
         ],
         "y": [
          -4.39583333,
          -4.64583333,
          -4.89583333
         ]
        },
        {
         "hoverinfo": "text",
         "legendgroup": "lines",
         "line": {
          "color": "rgb(0.0,0.0,241.13636363636363)",
          "dash": "solid",
          "width": 2
         },
         "mode": "lines",
         "name": "lines",
         "showlegend": false,
         "text": "Line_13.0-14.0<br />I = 9.905 %<br />I_from = 0.02 kA<br />I_to = 0.02 kA<br />",
         "type": "scatter",
         "x": [
          12.0,
          12.5,
          13.0
         ],
         "y": [
          -4.89583333,
          -4.89583333,
          -4.89583333
         ]
        },
        {
         "hoverinfo": "text",
         "legendgroup": "lines",
         "line": {
          "color": "rgb(0.0,0.0,236.59090909090907)",
          "dash": "solid",
          "width": 2
         },
         "mode": "lines",
         "name": "lines",
         "showlegend": false,
         "text": "Line_14.0-15.0<br />I = 9.677 %<br />I_from = 0.019 kA<br />I_to = 0.019 kA<br />",
         "type": "scatter",
         "x": [
          13.0,
          13.5,
          14.0
         ],
         "y": [
          -4.89583333,
          -4.89583333,
          -4.89583333
         ]
        },
        {
         "hoverinfo": "text",
         "legendgroup": "lines",
         "line": {
          "color": "rgb(0.0,0.0,236.59090909090907)",
          "dash": "solid",
          "width": 2
         },
         "mode": "lines",
         "name": "lines",
         "showlegend": false,
         "text": "Line_15.0-16.0<br />I = 9.677 %<br />I_from = 0.019 kA<br />I_to = 0.019 kA<br />",
         "type": "scatter",
         "x": [
          14.0,
          14.5,
          15.0
         ],
         "y": [
          -4.89583333,
          -4.89583333,
          -4.89583333
         ]
        },
        {
         "hoverinfo": "text",
         "legendgroup": "lines",
         "line": {
          "color": "rgb(0.0,0.0,222.95454545454544)",
          "dash": "solid",
          "width": 2
         },
         "mode": "lines",
         "name": "lines",
         "showlegend": false,
         "text": "Line_16.0-17.0<br />I = 8.389 %<br />I_from = 0.017 kA<br />I_to = 0.017 kA<br />",
         "type": "scatter",
         "x": [
          15.0,
          15.5,
          16.0
         ],
         "y": [
          -4.89583333,
          -4.89583333,
          -4.89583333
         ]
        },
        {
         "hoverinfo": "text",
         "legendgroup": "lines",
         "line": {
          "color": "rgb(0.0,0.0,204.77272727272725)",
          "dash": "solid",
          "width": 2
         },
         "mode": "lines",
         "name": "lines",
         "showlegend": false,
         "text": "Line_17.0-18.0<br />I = 6.75 %<br />I_from = 0.013 kA<br />I_to = 0.013 kA<br />",
         "type": "scatter",
         "x": [
          16.0,
          16.5,
          17.0
         ],
         "y": [
          -4.89583333,
          -4.89583333,
          -4.89583333
         ]
        },
        {
         "hoverinfo": "text",
         "legendgroup": "lines",
         "line": {
          "color": "rgb(0.0,0.0,186.5909090909091)",
          "dash": "solid",
          "width": 2
         },
         "mode": "lines",
         "name": "lines",
         "showlegend": false,
         "text": "Line_18.0-19.0<br />I = 5.113 %<br />I_from = 0.01 kA<br />I_to = 0.01 kA<br />",
         "type": "scatter",
         "x": [
          17.0,
          17.5,
          18.0
         ],
         "y": [
          -4.89583333,
          -4.89583333,
          -4.89583333
         ]
        },
        {
         "hoverinfo": "text",
         "legendgroup": "lines",
         "line": {
          "color": "rgb(0.0,0.0,186.5909090909091)",
          "dash": "solid",
          "width": 2
         },
         "mode": "lines",
         "name": "lines",
         "showlegend": false,
         "text": "Line_19.0-20.0<br />I = 5.113 %<br />I_from = 0.01 kA<br />I_to = 0.01 kA<br />",
         "type": "scatter",
         "x": [
          18.0,
          18.5,
          19.0
         ],
         "y": [
          -4.89583333,
          -4.89583333,
          -4.89583333
         ]
        },
        {
         "hoverinfo": "text",
         "legendgroup": "lines",
         "line": {
          "color": "rgb(0.0,0.0,186.5909090909091)",
          "dash": "solid",
          "width": 2
         },
         "mode": "lines",
         "name": "lines",
         "showlegend": false,
         "text": "Line_20.0-21.0<br />I = 5.085 %<br />I_from = 0.01 kA<br />I_to = 0.01 kA<br />",
         "type": "scatter",
         "x": [
          19.0,
          19.5,
          20.0
         ],
         "y": [
          -4.89583333,
          -4.89583333,
          -4.89583333
         ]
        },
        {
         "hoverinfo": "text",
         "legendgroup": "lines",
         "line": {
          "color": "rgb(0.0,0.0,145.6818181818182)",
          "dash": "solid",
          "width": 2
         },
         "mode": "lines",
         "name": "lines",
         "showlegend": false,
         "text": "Line_21.0-22.0<br />I = 1.774 %<br />I_from = 0.004 kA<br />I_to = 0.004 kA<br />",
         "type": "scatter",
         "x": [
          20.0,
          20.5,
          21.0
         ],
         "y": [
          -4.89583333,
          -4.89583333,
          -4.89583333
         ]
        },
        {
         "hoverinfo": "text",
         "legendgroup": "lines",
         "line": {
          "color": "rgb(0.0,0.0,145.6818181818182)",
          "dash": "solid",
          "width": 2
         },
         "mode": "lines",
         "name": "lines",
         "showlegend": false,
         "text": "Line_22.0-23.0<br />I = 1.63 %<br />I_from = 0.003 kA<br />I_to = 0.003 kA<br />",
         "type": "scatter",
         "x": [
          21.0,
          21.5,
          22.0
         ],
         "y": [
          -4.89583333,
          -4.89583333,
          -4.89583333
         ]
        },
        {
         "hoverinfo": "text",
         "legendgroup": "lines",
         "line": {
          "color": "rgb(0.0,0.0,145.6818181818182)",
          "dash": "solid",
          "width": 2
         },
         "mode": "lines",
         "name": "lines",
         "showlegend": false,
         "text": "Line_23.0-24.0<br />I = 1.63 %<br />I_from = 0.003 kA<br />I_to = 0.003 kA<br />",
         "type": "scatter",
         "x": [
          22.0,
          22.5,
          23.0
         ],
         "y": [
          -4.89583333,
          -4.89583333,
          -4.89583333
         ]
        },
        {
         "hoverinfo": "text",
         "legendgroup": "lines",
         "line": {
          "color": "rgb(0.0,0.0,136.5909090909091)",
          "dash": "solid",
          "width": 2
         },
         "mode": "lines",
         "name": "lines",
         "showlegend": false,
         "text": "Line_24.0-25.0<br />I = 0.815 %<br />I_from = 0.002 kA<br />I_to = 0.002 kA<br />",
         "type": "scatter",
         "x": [
          23.0,
          23.5,
          24.0
         ],
         "y": [
          -4.89583333,
          -4.89583333,
          -4.89583333
         ]
        },
        {
         "hoverinfo": "text",
         "legendgroup": "lines",
         "line": {
          "color": "rgb(0.0,0.0,136.5909090909091)",
          "dash": "solid",
          "width": 2
         },
         "mode": "lines",
         "name": "lines",
         "showlegend": false,
         "text": "Line_25.0-26.0<br />I = 0.815 %<br />I_from = 0.002 kA<br />I_to = 0.002 kA<br />",
         "type": "scatter",
         "x": [
          24.0,
          24.5,
          25.0
         ],
         "y": [
          -4.89583333,
          -4.89583333,
          -4.89583333
         ]
        },
        {
         "hoverinfo": "text",
         "legendgroup": "lines",
         "line": {
          "color": "rgb(0.0,0.0,132.04545454545453)",
          "dash": "solid",
          "width": 2
         },
         "mode": "lines",
         "name": "lines",
         "showlegend": false,
         "text": "Line_26.0-27.0<br />I = 0.408 %<br />I_from = 0.001 kA<br />I_to = 0.001 kA<br />",
         "type": "scatter",
         "x": [
          25.0,
          25.5,
          26.0
         ],
         "y": [
          -4.89583333,
          -4.89583333,
          -4.89583333
         ]
        },
        {
         "hoverinfo": "text",
         "legendgroup": "lines",
         "line": {
          "color": "rgb(0.0,0.0,154.77272727272728)",
          "dash": "solid",
          "width": 2
         },
         "mode": "lines",
         "name": "lines",
         "showlegend": false,
         "text": "Line_3.0-28.0<br />I = 2.488 %<br />I_from = 0.005 kA<br />I_to = 0.005 kA<br />",
         "type": "scatter",
         "x": [
          2.0,
          2.5,
          3.0
         ],
         "y": [
          0.0,
          0.083333335,
          0.16666667
         ]
        },
        {
         "hoverinfo": "text",
         "legendgroup": "lines",
         "line": {
          "color": "rgb(0.0,0.0,145.6818181818182)",
          "dash": "solid",
          "width": 2
         },
         "mode": "lines",
         "name": "lines",
         "showlegend": false,
         "text": "Line_28.0-29.0<br />I = 1.781 %<br />I_from = 0.004 kA<br />I_to = 0.004 kA<br />",
         "type": "scatter",
         "x": [
          3.0,
          3.5,
          4.0
         ],
         "y": [
          0.16666667,
          0.16666667,
          0.16666667
         ]
        },
        {
         "hoverinfo": "text",
         "legendgroup": "lines",
         "line": {
          "color": "rgb(0.0,0.0,136.5909090909091)",
          "dash": "solid",
          "width": 2
         },
         "mode": "lines",
         "name": "lines",
         "showlegend": false,
         "text": "Line_29.0-30.0<br />I = 1.073 %<br />I_from = 0.002 kA<br />I_to = 0.002 kA<br />",
         "type": "scatter",
         "x": [
          4.0,
          4.5,
          5.0
         ],
         "y": [
          0.16666667,
          0.16666667,
          0.16666667
         ]
        },
        {
         "hoverinfo": "text",
         "legendgroup": "lines",
         "line": {
          "color": "rgb(0.0,0.0,136.5909090909091)",
          "dash": "solid",
          "width": 2
         },
         "mode": "lines",
         "name": "lines",
         "showlegend": false,
         "text": "Line_30.0-31.0<br />I = 1.073 %<br />I_from = 0.002 kA<br />I_to = 0.002 kA<br />",
         "type": "scatter",
         "x": [
          5.0,
          5.5,
          6.0
         ],
         "y": [
          0.16666667,
          0.16666667,
          0.16666667
         ]
        },
        {
         "hoverinfo": "text",
         "legendgroup": "lines",
         "line": {
          "color": "rgb(0.0,0.0,136.5909090909091)",
          "dash": "solid",
          "width": 2
         },
         "mode": "lines",
         "name": "lines",
         "showlegend": false,
         "text": "Line_31.0-32.0<br />I = 1.073 %<br />I_from = 0.002 kA<br />I_to = 0.002 kA<br />",
         "type": "scatter",
         "x": [
          6.0,
          6.5,
          7.0
         ],
         "y": [
          0.16666667,
          0.16666667,
          0.16666667
         ]
        },
        {
         "hoverinfo": "text",
         "legendgroup": "lines",
         "line": {
          "color": "rgb(0.0,0.0,136.5909090909091)",
          "dash": "solid",
          "width": 2
         },
         "mode": "lines",
         "name": "lines",
         "showlegend": false,
         "text": "Line_32.0-33.0<br />I = 1.073 %<br />I_from = 0.002 kA<br />I_to = 0.002 kA<br />",
         "type": "scatter",
         "x": [
          7.0,
          7.5,
          8.0
         ],
         "y": [
          0.16666667,
          0.16666667,
          0.16666667
         ]
        },
        {
         "hoverinfo": "text",
         "legendgroup": "lines",
         "line": {
          "color": "rgb(0.0,0.0,132.04545454545453)",
          "dash": "solid",
          "width": 2
         },
         "mode": "lines",
         "name": "lines",
         "showlegend": false,
         "text": "Line_33.0-34.0<br />I = 0.692 %<br />I_from = 0.001 kA<br />I_to = 0.001 kA<br />",
         "type": "scatter",
         "x": [
          8.0,
          8.5,
          9.0
         ],
         "y": [
          0.16666667,
          0.16666667,
          0.16666667
         ]
        },
        {
         "hoverinfo": "text",
         "legendgroup": "lines",
         "line": {
          "color": "rgb(0.0,0.0,127.5)",
          "dash": "solid",
          "width": 2
         },
         "mode": "lines",
         "name": "lines",
         "showlegend": false,
         "text": "Line_34.0-35.0<br />I = 0.16 %<br />I_from = 0.0 kA<br />I_to = 0.0 kA<br />",
         "type": "scatter",
         "x": [
          9.0,
          9.5,
          10.0
         ],
         "y": [
          0.16666667,
          0.16666667,
          0.16666667
         ]
        },
        {
         "hoverinfo": "text",
         "legendgroup": "lines",
         "line": {
          "color": "rgb(255.0,215.00000000000006,0.0)",
          "dash": "solid",
          "width": 2
         },
         "mode": "lines",
         "name": "lines",
         "showlegend": false,
         "text": "Line_3.0-36.0<br />I = 68.211 %<br />I_from = 0.136 kA<br />I_to = 0.136 kA<br />",
         "type": "scatter",
         "x": [
          2.0,
          2.5,
          3.0
         ],
         "y": [
          0.0,
          0.583333335,
          1.16666667
         ]
        },
        {
         "hoverinfo": "text",
         "legendgroup": "lines",
         "line": {
          "color": "rgb(255.0,222.40740740740748,0.0)",
          "dash": "solid",
          "width": 2
         },
         "mode": "lines",
         "name": "lines",
         "showlegend": false,
         "text": "Line_36.0-37.0<br />I = 67.511 %<br />I_from = 0.135 kA<br />I_to = 0.135 kA<br />",
         "type": "scatter",
         "x": [
          3.0,
          3.5,
          4.0
         ],
         "y": [
          1.16666667,
          1.16666667,
          1.16666667
         ]
        },
        {
         "hoverinfo": "text",
         "legendgroup": "lines",
         "line": {
          "color": "rgb(255.0,226.11111111111117,0.0)",
          "dash": "solid",
          "width": 2
         },
         "mode": "lines",
         "name": "lines",
         "showlegend": false,
         "text": "Line_37.0-38.0<br />I = 66.81 %<br />I_from = 0.134 kA<br />I_to = 0.134 kA<br />",
         "type": "scatter",
         "x": [
          4.0,
          4.5,
          5.0
         ],
         "y": [
          1.16666667,
          1.16666667,
          1.16666667
         ]
        },
        {
         "hoverinfo": "text",
         "legendgroup": "lines",
         "line": {
          "color": "rgb(255.0,226.11111111111117,0.0)",
          "dash": "solid",
          "width": 2
         },
         "mode": "lines",
         "name": "lines",
         "showlegend": false,
         "text": "Line_38.0-39.0<br />I = 66.81 %<br />I_from = 0.134 kA<br />I_to = 0.134 kA<br />",
         "type": "scatter",
         "x": [
          5.0,
          5.5,
          6.0
         ],
         "y": [
          1.16666667,
          1.16666667,
          1.16666667
         ]
        },
        {
         "hoverinfo": "text",
         "legendgroup": "lines",
         "line": {
          "color": "rgb(255.0,233.51851851851856,0.0)",
          "dash": "solid",
          "width": 2
         },
         "mode": "lines",
         "name": "lines",
         "showlegend": false,
         "text": "Line_39.0-40.0<br />I = 66.162 %<br />I_from = 0.132 kA<br />I_to = 0.132 kA<br />",
         "type": "scatter",
         "x": [
          6.0,
          6.5,
          7.0
         ],
         "y": [
          1.16666667,
          1.16666667,
          1.16666667
         ]
        },
        {
         "hoverinfo": "text",
         "legendgroup": "lines",
         "line": {
          "color": "rgb(250.8064516129032,240.92592592592598,0.0)",
          "dash": "solid",
          "width": 2
         },
         "mode": "lines",
         "name": "lines",
         "showlegend": false,
         "text": "Line_40.0-41.0<br />I = 65.514 %<br />I_from = 0.131 kA<br />I_to = 0.131 kA<br />",
         "type": "scatter",
         "x": [
          7.0,
          7.5,
          8.0
         ],
         "y": [
          1.16666667,
          1.16666667,
          1.16666667
         ]
        },
        {
         "hoverinfo": "text",
         "legendgroup": "lines",
         "line": {
          "color": "rgb(250.8064516129032,240.92592592592598,0.0)",
          "dash": "solid",
          "width": 2
         },
         "mode": "lines",
         "name": "lines",
         "showlegend": false,
         "text": "Line_41.0-42.0<br />I = 65.48 %<br />I_from = 0.131 kA<br />I_to = 0.131 kA<br />",
         "type": "scatter",
         "x": [
          8.0,
          8.5,
          9.0
         ],
         "y": [
          1.16666667,
          1.16666667,
          1.16666667
         ]
        },
        {
         "hoverinfo": "text",
         "legendgroup": "lines",
         "line": {
          "color": "rgb(250.8064516129032,240.92592592592598,0.0)",
          "dash": "solid",
          "width": 2
         },
         "mode": "lines",
         "name": "lines",
         "showlegend": false,
         "text": "Line_42.0-43.0<br />I = 65.48 %<br />I_from = 0.131 kA<br />I_to = 0.131 kA<br />",
         "type": "scatter",
         "x": [
          9.0,
          9.5,
          10.0
         ],
         "y": [
          1.16666667,
          1.16666667,
          1.16666667
         ]
        },
        {
         "hoverinfo": "text",
         "legendgroup": "lines",
         "line": {
          "color": "rgb(250.8064516129032,240.92592592592598,0.0)",
          "dash": "solid",
          "width": 2
         },
         "mode": "lines",
         "name": "lines",
         "showlegend": false,
         "text": "Line_43.0-44.0<br />I = 65.313 %<br />I_from = 0.131 kA<br />I_to = 0.131 kA<br />",
         "type": "scatter",
         "x": [
          10.0,
          10.5,
          11.0
         ],
         "y": [
          1.16666667,
          1.16666667,
          1.16666667
         ]
        },
        {
         "hoverinfo": "text",
         "legendgroup": "lines",
         "line": {
          "color": "rgb(0.0,0.0,150.22727272727272)",
          "dash": "solid",
          "width": 2
         },
         "mode": "lines",
         "name": "lines",
         "showlegend": false,
         "text": "Line_44.0-45.0<br />I = 2.162 %<br />I_from = 0.004 kA<br />I_to = 0.004 kA<br />",
         "type": "scatter",
         "x": [
          11.0,
          11.5,
          12.0
         ],
         "y": [
          1.16666667,
          1.16666667,
          1.16666667
         ]
        },
        {
         "hoverinfo": "text",
         "legendgroup": "lines",
         "line": {
          "color": "rgb(0.0,0.0,136.5909090909091)",
          "dash": "solid",
          "width": 2
         },
         "mode": "lines",
         "name": "lines",
         "showlegend": false,
         "text": "Line_45.0-46.0<br />I = 1.081 %<br />I_from = 0.002 kA<br />I_to = 0.002 kA<br />",
         "type": "scatter",
         "x": [
          12.0,
          12.5,
          13.0
         ],
         "y": [
          1.16666667,
          1.16666667,
          1.16666667
         ]
        },
        {
         "hoverinfo": "text",
         "legendgroup": "lines",
         "line": {
          "color": "rgb(0.0,28.5,255.0)",
          "dash": "solid",
          "width": 2
         },
         "mode": "lines",
         "name": "lines",
         "showlegend": false,
         "text": "Line_4.0-47.0<br />I = 15.458 %<br />I_from = 0.046 kA<br />I_to = 0.046 kA<br />",
         "type": "scatter",
         "x": [
          3.0,
          3.5,
          4.0
         ],
         "y": [
          -1.33333333,
          -1.08333333,
          -0.83333333
         ]
        },
        {
         "hoverinfo": "text",
         "legendgroup": "lines",
         "line": {
          "color": "rgb(0.0,28.5,255.0)",
          "dash": "solid",
          "width": 2
         },
         "mode": "lines",
         "name": "lines",
         "showlegend": false,
         "text": "Line_47.0-48.0<br />I = 15.458 %<br />I_from = 0.046 kA<br />I_to = 0.046 kA<br />",
         "type": "scatter",
         "x": [
          4.0,
          4.5,
          5.0
         ],
         "y": [
          -0.83333333,
          -0.83333333,
          -0.83333333
         ]
        },
        {
         "hoverinfo": "text",
         "legendgroup": "lines",
         "line": {
          "color": "rgb(0.0,12.5,255.0)",
          "dash": "solid",
          "width": 2
         },
         "mode": "lines",
         "name": "lines",
         "showlegend": false,
         "text": "Line_48.0-49.0<br />I = 14.023 %<br />I_from = 0.042 kA<br />I_to = 0.042 kA<br />",
         "type": "scatter",
         "x": [
          5.0,
          5.5,
          6.0
         ],
         "y": [
          -0.83333333,
          -0.83333333,
          -0.83333333
         ]
        },
        {
         "hoverinfo": "text",
         "legendgroup": "lines",
         "line": {
          "color": "rgb(0.0,0.0,204.77272727272725)",
          "dash": "solid",
          "width": 2
         },
         "mode": "lines",
         "name": "lines",
         "showlegend": false,
         "text": "Line_49.0-50.0<br />I = 7.014 %<br />I_from = 0.021 kA<br />I_to = 0.021 kA<br />",
         "type": "scatter",
         "x": [
          6.0,
          6.5,
          7.0
         ],
         "y": [
          -0.83333333,
          -0.83333333,
          -0.83333333
         ]
        },
        {
         "hoverinfo": "text",
         "legendgroup": "lines",
         "line": {
          "color": "rgb(0.0,0.0,141.13636363636363)",
          "dash": "solid",
          "width": 2
         },
         "mode": "lines",
         "name": "lines",
         "showlegend": false,
         "text": "Line_8.0-51.0<br />I = 1.222 %<br />I_from = 0.002 kA<br />I_to = 0.002 kA<br />",
         "type": "scatter",
         "x": [
          7.0,
          7.5,
          8.0
         ],
         "y": [
          -1.83333333,
          -1.36458333,
          -0.89583333
         ]
        },
        {
         "hoverinfo": "text",
         "legendgroup": "lines",
         "line": {
          "color": "rgb(0.0,0.0,127.5)",
          "dash": "solid",
          "width": 2
         },
         "mode": "lines",
         "name": "lines",
         "showlegend": false,
         "text": "Line_51.0-52.0<br />I = 0.102 %<br />I_from = 0.0 kA<br />I_to = 0.0 kA<br />",
         "type": "scatter",
         "x": [
          8.0,
          8.5,
          9.0
         ],
         "y": [
          -0.89583333,
          -0.89583333,
          -0.89583333
         ]
        },
        {
         "hoverinfo": "text",
         "legendgroup": "lines",
         "line": {
          "color": "rgb(0.0,220.5,254.03225806451613)",
          "dash": "solid",
          "width": 2
         },
         "mode": "lines",
         "name": "lines",
         "showlegend": false,
         "text": "Line_9.0-53.0<br />I = 33.989 %<br />I_from = 0.102 kA<br />I_to = 0.102 kA<br />",
         "type": "scatter",
         "x": [
          8.0,
          8.5,
          9.0
         ],
         "y": [
          -2.77083333,
          -2.33333333,
          -1.89583333
         ]
        },
        {
         "hoverinfo": "text",
         "legendgroup": "lines",
         "line": {
          "color": "rgb(0.0,216.5,255.0)",
          "dash": "solid",
          "width": 2
         },
         "mode": "lines",
         "name": "lines",
         "showlegend": false,
         "text": "Line_53.0-54.0<br />I = 33.905 %<br />I_from = 0.102 kA<br />I_to = 0.102 kA<br />",
         "type": "scatter",
         "x": [
          9.0,
          9.5,
          10.0
         ],
         "y": [
          -1.89583333,
          -1.89583333,
          -1.89583333
         ]
        },
        {
         "hoverinfo": "text",
         "legendgroup": "lines",
         "line": {
          "color": "rgb(0.0,212.5,255.0)",
          "dash": "solid",
          "width": 2
         },
         "mode": "lines",
         "name": "lines",
         "showlegend": false,
         "text": "Line_54.0-55.0<br />I = 33.41 %<br />I_from = 0.1 kA<br />I_to = 0.1 kA<br />",
         "type": "scatter",
         "x": [
          10.0,
          10.5,
          11.0
         ],
         "y": [
          -1.89583333,
          -1.89583333,
          -1.89583333
         ]
        },
        {
         "hoverinfo": "text",
         "legendgroup": "lines",
         "line": {
          "color": "rgb(0.0,208.5,255.0)",
          "dash": "solid",
          "width": 2
         },
         "mode": "lines",
         "name": "lines",
         "showlegend": false,
         "text": "Line_55.0-56.0<br />I = 32.958 %<br />I_from = 0.099 kA<br />I_to = 0.099 kA<br />",
         "type": "scatter",
         "x": [
          11.0,
          11.5,
          12.0
         ],
         "y": [
          -1.89583333,
          -1.89583333,
          -1.89583333
         ]
        },
        {
         "hoverinfo": "text",
         "legendgroup": "lines",
         "line": {
          "color": "rgb(0.0,208.5,255.0)",
          "dash": "solid",
          "width": 2
         },
         "mode": "lines",
         "name": "lines",
         "showlegend": false,
         "text": "Line_56.0-57.0<br />I = 32.958 %<br />I_from = 0.099 kA<br />I_to = 0.099 kA<br />",
         "type": "scatter",
         "x": [
          12.0,
          12.5,
          13.0
         ],
         "y": [
          -1.89583333,
          -1.89583333,
          -1.89583333
         ]
        },
        {
         "hoverinfo": "text",
         "legendgroup": "lines",
         "line": {
          "color": "rgb(0.0,208.5,255.0)",
          "dash": "solid",
          "width": 2
         },
         "mode": "lines",
         "name": "lines",
         "showlegend": false,
         "text": "Line_57.0-58.0<br />I = 32.958 %<br />I_from = 0.099 kA<br />I_to = 0.099 kA<br />",
         "type": "scatter",
         "x": [
          13.0,
          13.5,
          14.0
         ],
         "y": [
          -1.89583333,
          -1.89583333,
          -1.89583333
         ]
        },
        {
         "hoverinfo": "text",
         "legendgroup": "lines",
         "line": {
          "color": "rgb(0.0,208.5,255.0)",
          "dash": "solid",
          "width": 2
         },
         "mode": "lines",
         "name": "lines",
         "showlegend": false,
         "text": "Line_58.0-59.0<br />I = 32.958 %<br />I_from = 0.099 kA<br />I_to = 0.099 kA<br />",
         "type": "scatter",
         "x": [
          14.0,
          14.5,
          15.0
         ],
         "y": [
          -1.89583333,
          -1.89583333,
          -1.89583333
         ]
        },
        {
         "hoverinfo": "text",
         "legendgroup": "lines",
         "line": {
          "color": "rgb(0.0,188.5,255.0)",
          "dash": "solid",
          "width": 2
         },
         "mode": "lines",
         "name": "lines",
         "showlegend": false,
         "text": "Line_59.0-60.0<br />I = 30.995 %<br />I_from = 0.093 kA<br />I_to = 0.093 kA<br />",
         "type": "scatter",
         "x": [
          15.0,
          15.5,
          16.0
         ],
         "y": [
          -1.89583333,
          -1.89583333,
          -1.89583333
         ]
        },
        {
         "hoverinfo": "text",
         "legendgroup": "lines",
         "line": {
          "color": "rgb(0.0,188.5,255.0)",
          "dash": "solid",
          "width": 2
         },
         "mode": "lines",
         "name": "lines",
         "showlegend": false,
         "text": "Line_60.0-61.0<br />I = 30.995 %<br />I_from = 0.093 kA<br />I_to = 0.093 kA<br />",
         "type": "scatter",
         "x": [
          16.0,
          16.5,
          17.0
         ],
         "y": [
          -1.89583333,
          -1.89583333,
          -1.89583333
         ]
        },
        {
         "hoverinfo": "text",
         "legendgroup": "lines",
         "line": {
          "color": "rgb(0.0,0.0,200.22727272727272)",
          "dash": "solid",
          "width": 2
         },
         "mode": "lines",
         "name": "lines",
         "showlegend": false,
         "text": "Line_61.0-62.0<br />I = 6.323 %<br />I_from = 0.019 kA<br />I_to = 0.019 kA<br />",
         "type": "scatter",
         "x": [
          17.0,
          17.5,
          18.0
         ],
         "y": [
          -1.89583333,
          -1.89583333,
          -1.89583333
         ]
        },
        {
         "hoverinfo": "text",
         "legendgroup": "lines",
         "line": {
          "color": "rgb(0.0,0.0,191.13636363636363)",
          "dash": "solid",
          "width": 2
         },
         "mode": "lines",
         "name": "lines",
         "showlegend": false,
         "text": "Line_62.0-63.0<br />I = 5.686 %<br />I_from = 0.017 kA<br />I_to = 0.017 kA<br />",
         "type": "scatter",
         "x": [
          18.0,
          18.5,
          19.0
         ],
         "y": [
          -1.89583333,
          -1.89583333,
          -1.89583333
         ]
        },
        {
         "hoverinfo": "text",
         "legendgroup": "lines",
         "line": {
          "color": "rgb(0.0,0.0,191.13636363636363)",
          "dash": "solid",
          "width": 2
         },
         "mode": "lines",
         "name": "lines",
         "showlegend": false,
         "text": "Line_63.0-64.0<br />I = 5.686 %<br />I_from = 0.017 kA<br />I_to = 0.017 kA<br />",
         "type": "scatter",
         "x": [
          19.0,
          19.5,
          20.0
         ],
         "y": [
          -1.89583333,
          -1.89583333,
          -1.89583333
         ]
        },
        {
         "hoverinfo": "text",
         "legendgroup": "lines",
         "line": {
          "color": "rgb(0.0,0.0,141.13636363636363)",
          "dash": "solid",
          "width": 2
         },
         "mode": "lines",
         "name": "lines",
         "showlegend": false,
         "text": "Line_64.0-65.0<br />I = 1.173 %<br />I_from = 0.004 kA<br />I_to = 0.004 kA<br />",
         "type": "scatter",
         "x": [
          20.0,
          20.5,
          21.0
         ],
         "y": [
          -1.89583333,
          -1.89583333,
          -1.89583333
         ]
        },
        {
         "hoverinfo": "text",
         "legendgroup": "lines",
         "line": {
          "color": "rgb(0.0,0.0,136.5909090909091)",
          "dash": "solid",
          "width": 2
         },
         "mode": "lines",
         "name": "lines",
         "showlegend": false,
         "text": "Line_11.0-66.0<br />I = 1.019 %<br />I_from = 0.002 kA<br />I_to = 0.002 kA<br />",
         "type": "scatter",
         "x": [
          10.0,
          10.5,
          11.0
         ],
         "y": [
          -3.64583333,
          -3.27083333,
          -2.89583333
         ]
        },
        {
         "hoverinfo": "text",
         "legendgroup": "lines",
         "line": {
          "color": "rgb(0.0,0.0,132.04545454545453)",
          "dash": "solid",
          "width": 2
         },
         "mode": "lines",
         "name": "lines",
         "showlegend": false,
         "text": "Line_66.0-67.0<br />I = 0.509 %<br />I_from = 0.001 kA<br />I_to = 0.001 kA<br />",
         "type": "scatter",
         "x": [
          11.0,
          11.5,
          12.0
         ],
         "y": [
          -2.89583333,
          -2.89583333,
          -2.89583333
         ]
        },
        {
         "hoverinfo": "text",
         "legendgroup": "lines",
         "line": {
          "color": "rgb(255.0,59.44444444444448,0.0)",
          "dash": "solid",
          "width": 2
         },
         "mode": "lines",
         "name": "lines",
         "showlegend": false,
         "text": "Line_12.0-68.0<br />I = 84.714 %<br />I_from = 0.169 kA<br />I_to = 0.169 kA<br />",
         "type": "scatter",
         "x": [
          11.0,
          11.5,
          12.0
         ],
         "y": [
          -4.39583333,
          -4.14583333,
          -3.89583333
         ]
        },
        {
         "hoverinfo": "text",
         "legendgroup": "lines",
         "line": {
          "color": "rgb(12.096774193548386,244.5,234.67741935483872)",
          "dash": "solid",
          "width": 2
         },
         "mode": "lines",
         "name": "lines",
         "showlegend": false,
         "text": "Line_68.0-69.0<br />I = 36.403 %<br />I_from = 0.073 kA<br />I_to = 0.073 kA<br />",
         "type": "scatter",
         "x": [
          12.0,
          12.5,
          13.0
         ],
         "y": [
          -3.89583333,
          -3.89583333,
          -3.89583333
         ]
        },
        {
         "hoverinfo": "text",
         "legendgroup": "lines",
         "line": {
          "color": "rgb(231.45161290322577,255.0,15.322580645161283)",
          "dash": "solid",
          "width": 2
         },
         "mode": "lines",
         "name": "lines",
         "showlegend": false,
         "text": "Tie_Line_11-44<br />I = 63.172 %<br />I_from = 0.126 kA<br />I_to = 0.126 kA<br />",
         "type": "scatter",
         "x": [
          10.0,
          10.5,
          11.0
         ],
         "y": [
          -3.64583333,
          -1.23958333,
          1.16666667
         ]
        },
        {
         "hoverinfo": "text",
         "legendgroup": "disconnected lines",
         "line": {
          "color": "rgb(128, 128, 128)",
          "dash": "dot",
          "width": 1.0
         },
         "mode": "lines",
         "name": "disconnected branches",
         "showlegend": true,
         "text": "Tie_Line_50-59<br />I = 0.0 %<br />I_from = 0.0 kA<br />I_to = 0.0 kA<br />",
         "type": "scatter",
         "x": [
          7.0,
          11.0,
          15.0
         ],
         "y": [
          -0.83333333,
          -1.36458333,
          -1.89583333
         ]
        },
        {
         "hoverinfo": "text",
         "legendgroup": "disconnected lines",
         "line": {
          "color": "rgb(128, 128, 128)",
          "dash": "dot",
          "width": 1.0
         },
         "mode": "lines",
         "name": "disconnected branches",
         "showlegend": false,
         "text": "Tie_Line_13-21<br />I = 0.0 %<br />I_from = 0.0 kA<br />I_to = 0.0 kA<br />",
         "type": "scatter",
         "x": [
          12.0,
          16.0,
          20.0
         ],
         "y": [
          -4.89583333,
          -4.89583333,
          -4.89583333
         ]
        },
        {
         "hoverinfo": "text",
         "legendgroup": "disconnected lines",
         "line": {
          "color": "rgb(128, 128, 128)",
          "dash": "dot",
          "width": 1.0
         },
         "mode": "lines",
         "name": "disconnected branches",
         "showlegend": false,
         "text": "Tie_Line_65-27<br />I = 0.0 %<br />I_from = 0.0 kA<br />I_to = 0.0 kA<br />",
         "type": "scatter",
         "x": [
          21.0,
          23.5,
          26.0
         ],
         "y": [
          -1.89583333,
          -3.3958333300000003,
          -4.89583333
         ]
        },
        {
         "hoverinfo": "text",
         "legendgroup": "lines",
         "marker": {
          "color": "rgb(128, 128, 128)",
          "size": 1,
          "symbol": "circle"
         },
         "mode": "markers",
         "name": "edge_center",
         "showlegend": false,
         "text": [
          "Line_1.0-2.0<br />I = 92.051 %<br />I_from = 0.368 kA<br />I_to = 0.368 kA<br />",
          "Line_2.0-3.0<br />I = 92.051 %<br />I_from = 0.368 kA<br />I_to = 0.368 kA<br />",
          "Line_3.0-4.0<br />I = 57.119 %<br />I_from = 0.228 kA<br />I_to = 0.228 kA<br />",
          "Line_4.0-5.0<br />I = 46.325 %<br />I_from = 0.185 kA<br />I_to = 0.185 kA<br />",
          "Line_5.0-6.0<br />I = 46.325 %<br />I_from = 0.185 kA<br />I_to = 0.185 kA<br />",
          "Line_6.0-7.0<br />I = 46.291 %<br />I_from = 0.185 kA<br />I_to = 0.185 kA<br />",
          "Line_7.0-8.0<br />I = 45.777 %<br />I_from = 0.183 kA<br />I_to = 0.183 kA<br />",
          "Line_8.0-9.0<br />I = 44.273 %<br />I_from = 0.177 kA<br />I_to = 0.177 kA<br />",
          "Line_9.0-10.0<br />I = 23.322 %<br />I_from = 0.093 kA<br />I_to = 0.093 kA<br />",
          "Line_10.0-11.0<br />I = 46.168 %<br />I_from = 0.092 kA<br />I_to = 0.092 kA<br />",
          "Line_11.0-12.0<br />I = 97.023 %<br />I_from = 0.194 kA<br />I_to = 0.194 kA<br />",
          "Line_12.0-13.0<br />I = 10.126 %<br />I_from = 0.02 kA<br />I_to = 0.02 kA<br />",
          "Line_13.0-14.0<br />I = 9.905 %<br />I_from = 0.02 kA<br />I_to = 0.02 kA<br />",
          "Line_14.0-15.0<br />I = 9.677 %<br />I_from = 0.019 kA<br />I_to = 0.019 kA<br />",
          "Line_15.0-16.0<br />I = 9.677 %<br />I_from = 0.019 kA<br />I_to = 0.019 kA<br />",
          "Line_16.0-17.0<br />I = 8.389 %<br />I_from = 0.017 kA<br />I_to = 0.017 kA<br />",
          "Line_17.0-18.0<br />I = 6.75 %<br />I_from = 0.013 kA<br />I_to = 0.013 kA<br />",
          "Line_18.0-19.0<br />I = 5.113 %<br />I_from = 0.01 kA<br />I_to = 0.01 kA<br />",
          "Line_19.0-20.0<br />I = 5.113 %<br />I_from = 0.01 kA<br />I_to = 0.01 kA<br />",
          "Line_20.0-21.0<br />I = 5.085 %<br />I_from = 0.01 kA<br />I_to = 0.01 kA<br />",
          "Line_21.0-22.0<br />I = 1.774 %<br />I_from = 0.004 kA<br />I_to = 0.004 kA<br />",
          "Line_22.0-23.0<br />I = 1.63 %<br />I_from = 0.003 kA<br />I_to = 0.003 kA<br />",
          "Line_23.0-24.0<br />I = 1.63 %<br />I_from = 0.003 kA<br />I_to = 0.003 kA<br />",
          "Line_24.0-25.0<br />I = 0.815 %<br />I_from = 0.002 kA<br />I_to = 0.002 kA<br />",
          "Line_25.0-26.0<br />I = 0.815 %<br />I_from = 0.002 kA<br />I_to = 0.002 kA<br />",
          "Line_26.0-27.0<br />I = 0.408 %<br />I_from = 0.001 kA<br />I_to = 0.001 kA<br />",
          "Line_3.0-28.0<br />I = 2.488 %<br />I_from = 0.005 kA<br />I_to = 0.005 kA<br />",
          "Line_28.0-29.0<br />I = 1.781 %<br />I_from = 0.004 kA<br />I_to = 0.004 kA<br />",
          "Line_29.0-30.0<br />I = 1.073 %<br />I_from = 0.002 kA<br />I_to = 0.002 kA<br />",
          "Line_30.0-31.0<br />I = 1.073 %<br />I_from = 0.002 kA<br />I_to = 0.002 kA<br />",
          "Line_31.0-32.0<br />I = 1.073 %<br />I_from = 0.002 kA<br />I_to = 0.002 kA<br />",
          "Line_32.0-33.0<br />I = 1.073 %<br />I_from = 0.002 kA<br />I_to = 0.002 kA<br />",
          "Line_33.0-34.0<br />I = 0.692 %<br />I_from = 0.001 kA<br />I_to = 0.001 kA<br />",
          "Line_34.0-35.0<br />I = 0.16 %<br />I_from = 0.0 kA<br />I_to = 0.0 kA<br />",
          "Line_3.0-36.0<br />I = 68.211 %<br />I_from = 0.136 kA<br />I_to = 0.136 kA<br />",
          "Line_36.0-37.0<br />I = 67.511 %<br />I_from = 0.135 kA<br />I_to = 0.135 kA<br />",
          "Line_37.0-38.0<br />I = 66.81 %<br />I_from = 0.134 kA<br />I_to = 0.134 kA<br />",
          "Line_38.0-39.0<br />I = 66.81 %<br />I_from = 0.134 kA<br />I_to = 0.134 kA<br />",
          "Line_39.0-40.0<br />I = 66.162 %<br />I_from = 0.132 kA<br />I_to = 0.132 kA<br />",
          "Line_40.0-41.0<br />I = 65.514 %<br />I_from = 0.131 kA<br />I_to = 0.131 kA<br />",
          "Line_41.0-42.0<br />I = 65.48 %<br />I_from = 0.131 kA<br />I_to = 0.131 kA<br />",
          "Line_42.0-43.0<br />I = 65.48 %<br />I_from = 0.131 kA<br />I_to = 0.131 kA<br />",
          "Line_43.0-44.0<br />I = 65.313 %<br />I_from = 0.131 kA<br />I_to = 0.131 kA<br />",
          "Line_44.0-45.0<br />I = 2.162 %<br />I_from = 0.004 kA<br />I_to = 0.004 kA<br />",
          "Line_45.0-46.0<br />I = 1.081 %<br />I_from = 0.002 kA<br />I_to = 0.002 kA<br />",
          "Line_4.0-47.0<br />I = 15.458 %<br />I_from = 0.046 kA<br />I_to = 0.046 kA<br />",
          "Line_47.0-48.0<br />I = 15.458 %<br />I_from = 0.046 kA<br />I_to = 0.046 kA<br />",
          "Line_48.0-49.0<br />I = 14.023 %<br />I_from = 0.042 kA<br />I_to = 0.042 kA<br />",
          "Line_49.0-50.0<br />I = 7.014 %<br />I_from = 0.021 kA<br />I_to = 0.021 kA<br />",
          "Line_8.0-51.0<br />I = 1.222 %<br />I_from = 0.002 kA<br />I_to = 0.002 kA<br />",
          "Line_51.0-52.0<br />I = 0.102 %<br />I_from = 0.0 kA<br />I_to = 0.0 kA<br />",
          "Line_9.0-53.0<br />I = 33.989 %<br />I_from = 0.102 kA<br />I_to = 0.102 kA<br />",
          "Line_53.0-54.0<br />I = 33.905 %<br />I_from = 0.102 kA<br />I_to = 0.102 kA<br />",
          "Line_54.0-55.0<br />I = 33.41 %<br />I_from = 0.1 kA<br />I_to = 0.1 kA<br />",
          "Line_55.0-56.0<br />I = 32.958 %<br />I_from = 0.099 kA<br />I_to = 0.099 kA<br />",
          "Line_56.0-57.0<br />I = 32.958 %<br />I_from = 0.099 kA<br />I_to = 0.099 kA<br />",
          "Line_57.0-58.0<br />I = 32.958 %<br />I_from = 0.099 kA<br />I_to = 0.099 kA<br />",
          "Line_58.0-59.0<br />I = 32.958 %<br />I_from = 0.099 kA<br />I_to = 0.099 kA<br />",
          "Line_59.0-60.0<br />I = 30.995 %<br />I_from = 0.093 kA<br />I_to = 0.093 kA<br />",
          "Line_60.0-61.0<br />I = 30.995 %<br />I_from = 0.093 kA<br />I_to = 0.093 kA<br />",
          "Line_61.0-62.0<br />I = 6.323 %<br />I_from = 0.019 kA<br />I_to = 0.019 kA<br />",
          "Line_62.0-63.0<br />I = 5.686 %<br />I_from = 0.017 kA<br />I_to = 0.017 kA<br />",
          "Line_63.0-64.0<br />I = 5.686 %<br />I_from = 0.017 kA<br />I_to = 0.017 kA<br />",
          "Line_64.0-65.0<br />I = 1.173 %<br />I_from = 0.004 kA<br />I_to = 0.004 kA<br />",
          "Line_11.0-66.0<br />I = 1.019 %<br />I_from = 0.002 kA<br />I_to = 0.002 kA<br />",
          "Line_66.0-67.0<br />I = 0.509 %<br />I_from = 0.001 kA<br />I_to = 0.001 kA<br />",
          "Line_12.0-68.0<br />I = 84.714 %<br />I_from = 0.169 kA<br />I_to = 0.169 kA<br />",
          "Line_68.0-69.0<br />I = 36.403 %<br />I_from = 0.073 kA<br />I_to = 0.073 kA<br />",
          "Tie_Line_11-44<br />I = 63.172 %<br />I_from = 0.126 kA<br />I_to = 0.126 kA<br />",
          "Tie_Line_50-59<br />I = 0.0 %<br />I_from = 0.0 kA<br />I_to = 0.0 kA<br />",
          "Tie_Line_13-21<br />I = 0.0 %<br />I_from = 0.0 kA<br />I_to = 0.0 kA<br />",
          "Tie_Line_65-27<br />I = 0.0 %<br />I_from = 0.0 kA<br />I_to = 0.0 kA<br />"
         ],
         "type": "scatter",
         "x": [
          0.5
         ],
         "y": [
          0.0
         ]
        },
        {
         "hoverinfo": "text",
         "marker": {
          "color": "rgb(128, 128, 128)",
          "size": 20,
          "symbol": "square"
         },
         "mode": "markers",
         "name": "external_grid",
         "text": [
          "Bus_1"
         ],
         "type": "scatter",
         "x": [
          0.0
         ],
         "y": [
          0.0
         ]
        },
        {
         "hoverinfo": "text",
         "marker": {
          "cmax": 1.1,
          "cmin": 0.9,
          "color": {
           "bdata": "exSuR+F68D9SENchsnrwP25Nl/yCevA/xmAOTjJ68D/rf0mJBXfwP2ciGwriTfA/S/RtDCAj8D/T39+l6RjwP0L7YSSoE/A/SnwtKCDe7z+Vxr9wxs3vP0rnUea/Lu8/vktQIvcW7z9on7xrY//uPyXN4XEM6O4//q+iMLbj7j+vrQIpjdzuPynySZ163O4/zltdErPY7j+xx7koRtbuP0fvVfNa0u4/8Q8XoEzS7j+M0FryttHuP3wB1iZx0O4/HVkj5hDP7j/f8k6Wf87uPycW7tpWzu4/8uI29Ht68D/RtJz3MnrwP0R8Yqm3efA/nlQt56F58D8TBUwcNXnwP76fB0wwePA/vwF2w9p28D9ExzMjlnbwP6DIRpbVefA/k4fL+h9w8D/+ahUX7GTwP0x5ynawYfA/74EM/H9h8D/7rmvFwRXwP/Y39V036+8/9HloGrri7z+mp8xzxeDvP6HZn1/23+8/2uXKfvXf7z9GzxhW/3nwPwFBp3sLdfA/xvChscJl8D9LP2YWmGPwP/3/x3/FGPA/PyxKy7sY8D8cWdiOmQjwP35VjHh29+8/hgz5RvbT7z+mwW2DS7HvPyaoNJz3/u4/afEY9jOn7j9Y9/xuQYXuP8aHFPphXe4/XWUn7a0i7j9K+aGfYSDuP5oLegZOHe4/HMGLGToO7j8MGcuJqwnuPx3Y1ihSze8/6lpZzlDN7z+wZPDLtKHuP2FXCzBSoe4/",
           "dtype": "f8"
          },
          "colorbar": {
           "thickness": 10,
           "title": {
            "side": "right",
            "text": "Bus Voltage [pu]"
           },
           "x": 1.0
          },
          "colorscale": [
           [
            0.0,
            "rgb(0,0,131)"
           ],
           [
            0.2,
            "rgb(0,60,170)"
           ],
           [
            0.4,
            "rgb(5,255,255)"
           ],
           [
            0.6,
            "rgb(255,255,0)"
           ],
           [
            0.8,
            "rgb(250,0,0)"
           ],
           [
            1.0,
            "rgb(128,0,0)"
           ]
          ],
          "size": 10,
          "symbol": "circle"
         },
         "mode": "markers",
         "name": "buses",
         "text": [
          "Bus_1<br />V_m = 1.03 pu<br />V_m = 13.04 kV<br />V_a = 0.0 deg",
          "Bus_2<br />V_m = 1.03 pu<br />V_m = 13.039 kV<br />V_a = -0.003 deg",
          "Bus_3<br />V_m = 1.03 pu<br />V_m = 13.039 kV<br />V_a = -0.005 deg",
          "Bus_4<br />V_m = 1.03 pu<br />V_m = 13.038 kV<br />V_a = -0.011 deg",
          "Bus_5<br />V_m = 1.029 pu<br />V_m = 13.028 kV<br />V_a = -0.044 deg",
          "Bus_6<br />V_m = 1.019 pu<br />V_m = 12.901 kV<br />V_a = -0.198 deg",
          "Bus_7<br />V_m = 1.009 pu<br />V_m = 12.769 kV<br />V_a = -0.361 deg",
          "Bus_8<br />V_m = 1.006 pu<br />V_m = 12.737 kV<br />V_a = -0.402 deg",
          "Bus_9<br />V_m = 1.005 pu<br />V_m = 12.721 kV<br />V_a = -0.424 deg",
          "Bus_10<br />V_m = 0.996 pu<br />V_m = 12.608 kV<br />V_a = -0.792 deg",
          "Bus_11<br />V_m = 0.994 pu<br />V_m = 12.582 kV<br />V_a = -0.878 deg",
          "Bus_12<br />V_m = 0.974 pu<br />V_m = 12.337 kV<br />V_a = -1.13 deg",
          "Bus_13<br />V_m = 0.972 pu<br />V_m = 12.3 kV<br />V_a = -1.085 deg",
          "Bus_14<br />V_m = 0.969 pu<br />V_m = 12.263 kV<br />V_a = -1.039 deg",
          "Bus_15<br />V_m = 0.966 pu<br />V_m = 12.227 kV<br />V_a = -0.994 deg",
          "Bus_16<br />V_m = 0.965 pu<br />V_m = 12.221 kV<br />V_a = -0.985 deg",
          "Bus_17<br />V_m = 0.964 pu<br />V_m = 12.21 kV<br />V_a = -0.971 deg",
          "Bus_18<br />V_m = 0.964 pu<br />V_m = 12.209 kV<br />V_a = -0.971 deg",
          "Bus_19<br />V_m = 0.964 pu<br />V_m = 12.204 kV<br />V_a = -0.963 deg",
          "Bus_20<br />V_m = 0.964 pu<br />V_m = 12.2 kV<br />V_a = -0.957 deg",
          "Bus_21<br />V_m = 0.963 pu<br />V_m = 12.194 kV<br />V_a = -0.948 deg",
          "Bus_22<br />V_m = 0.963 pu<br />V_m = 12.194 kV<br />V_a = -0.948 deg",
          "Bus_23<br />V_m = 0.963 pu<br />V_m = 12.193 kV<br />V_a = -0.947 deg",
          "Bus_24<br />V_m = 0.963 pu<br />V_m = 12.191 kV<br />V_a = -0.944 deg",
          "Bus_25<br />V_m = 0.963 pu<br />V_m = 12.189 kV<br />V_a = -0.941 deg",
          "Bus_26<br />V_m = 0.963 pu<br />V_m = 12.188 kV<br />V_a = -0.94 deg",
          "Bus_27<br />V_m = 0.963 pu<br />V_m = 12.188 kV<br />V_a = -0.939 deg",
          "Bus_28<br />V_m = 1.03 pu<br />V_m = 13.039 kV<br />V_a = -0.006 deg",
          "Bus_29<br />V_m = 1.03 pu<br />V_m = 13.038 kV<br />V_a = -0.008 deg",
          "Bus_30<br />V_m = 1.03 pu<br />V_m = 13.036 kV<br />V_a = -0.006 deg",
          "Bus_31<br />V_m = 1.03 pu<br />V_m = 13.036 kV<br />V_a = -0.006 deg",
          "Bus_32<br />V_m = 1.03 pu<br />V_m = 13.035 kV<br />V_a = -0.004 deg",
          "Bus_33<br />V_m = 1.029 pu<br />V_m = 13.031 kV<br />V_a = 0.0 deg",
          "Bus_34<br />V_m = 1.029 pu<br />V_m = 13.027 kV<br />V_a = 0.006 deg",
          "Bus_35<br />V_m = 1.029 pu<br />V_m = 13.027 kV<br />V_a = 0.007 deg",
          "Bus_36<br />V_m = 1.03 pu<br />V_m = 13.037 kV<br />V_a = -0.013 deg",
          "Bus_37<br />V_m = 1.027 pu<br />V_m = 13.007 kV<br />V_a = -0.126 deg",
          "Bus_38<br />V_m = 1.025 pu<br />V_m = 12.972 kV<br />V_a = -0.19 deg",
          "Bus_39<br />V_m = 1.024 pu<br />V_m = 12.962 kV<br />V_a = -0.208 deg",
          "Bus_40<br />V_m = 1.024 pu<br />V_m = 12.961 kV<br />V_a = -0.209 deg",
          "Bus_41<br />V_m = 1.005 pu<br />V_m = 12.727 kV<br />V_a = -0.651 deg",
          "Bus_42<br />V_m = 0.997 pu<br />V_m = 12.628 kV<br />V_a = -0.844 deg",
          "Bus_43<br />V_m = 0.996 pu<br />V_m = 12.615 kV<br />V_a = -0.869 deg",
          "Bus_44<br />V_m = 0.996 pu<br />V_m = 12.612 kV<br />V_a = -0.876 deg",
          "Bus_45<br />V_m = 0.996 pu<br />V_m = 12.61 kV<br />V_a = -0.878 deg",
          "Bus_46<br />V_m = 0.996 pu<br />V_m = 12.61 kV<br />V_a = -0.878 deg",
          "Bus_47<br />V_m = 1.03 pu<br />V_m = 13.037 kV<br />V_a = -0.012 deg",
          "Bus_48<br />V_m = 1.029 pu<br />V_m = 13.022 kV<br />V_a = -0.055 deg",
          "Bus_49<br />V_m = 1.025 pu<br />V_m = 12.975 kV<br />V_a = -0.186 deg",
          "Bus_50<br />V_m = 1.024 pu<br />V_m = 12.968 kV<br />V_a = -0.204 deg",
          "Bus_51<br />V_m = 1.006 pu<br />V_m = 12.737 kV<br />V_a = -0.401 deg",
          "Bus_52<br />V_m = 1.006 pu<br />V_m = 12.736 kV<br />V_a = -0.401 deg",
          "Bus_53<br />V_m = 1.002 pu<br />V_m = 12.687 kV<br />V_a = -0.403 deg",
          "Bus_54<br />V_m = 0.999 pu<br />V_m = 12.647 kV<br />V_a = -0.379 deg",
          "Bus_55<br />V_m = 0.995 pu<br />V_m = 12.592 kV<br />V_a = -0.345 deg",
          "Bus_56<br />V_m = 0.99 pu<br />V_m = 12.538 kV<br />V_a = -0.312 deg",
          "Bus_57<br />V_m = 0.969 pu<br />V_m = 12.263 kV<br />V_a = 0.062 deg",
          "Bus_58<br />V_m = 0.958 pu<br />V_m = 12.127 kV<br />V_a = 0.253 deg",
          "Bus_59<br />V_m = 0.954 pu<br />V_m = 12.075 kV<br />V_a = 0.329 deg",
          "Bus_60<br />V_m = 0.949 pu<br />V_m = 12.013 kV<br />V_a = 0.427 deg",
          "Bus_61<br />V_m = 0.942 pu<br />V_m = 11.922 kV<br />V_a = 0.492 deg",
          "Bus_62<br />V_m = 0.941 pu<br />V_m = 11.919 kV<br />V_a = 0.495 deg",
          "Bus_63<br />V_m = 0.941 pu<br />V_m = 11.914 kV<br />V_a = 0.498 deg",
          "Bus_64<br />V_m = 0.939 pu<br />V_m = 11.891 kV<br />V_a = 0.515 deg",
          "Bus_65<br />V_m = 0.939 pu<br />V_m = 11.884 kV<br />V_a = 0.52 deg",
          "Bus_66<br />V_m = 0.994 pu<br />V_m = 12.582 kV<br />V_a = -0.877 deg",
          "Bus_67<br />V_m = 0.994 pu<br />V_m = 12.582 kV<br />V_a = -0.877 deg",
          "Bus_68<br />V_m = 0.957 pu<br />V_m = 12.119 kV<br />V_a = -1.452 deg",
          "Bus_69<br />V_m = 0.957 pu<br />V_m = 12.118 kV<br />V_a = -1.453 deg"
         ],
         "type": "scatter",
         "x": [
          0.0,
          1.0,
          2.0,
          3.0,
          4.0,
          5.0,
          6.0,
          7.0,
          8.0,
          9.0,
          10.0,
          11.0,
          12.0,
          13.0,
          14.0,
          15.0,
          16.0,
          17.0,
          18.0,
          19.0,
          20.0,
          21.0,
          22.0,
          23.0,
          24.0,
          25.0,
          26.0,
          3.0,
          4.0,
          5.0,
          6.0,
          7.0,
          8.0,
          9.0,
          10.0,
          3.0,
          4.0,
          5.0,
          6.0,
          7.0,
          8.0,
          9.0,
          10.0,
          11.0,
          12.0,
          13.0,
          4.0,
          5.0,
          6.0,
          7.0,
          8.0,
          9.0,
          9.0,
          10.0,
          11.0,
          12.0,
          13.0,
          14.0,
          15.0,
          16.0,
          17.0,
          18.0,
          19.0,
          20.0,
          21.0,
          11.0,
          12.0,
          12.0,
          13.0
         ],
         "y": [
          0.0,
          0.0,
          0.0,
          -1.33333333,
          -1.83333333,
          -1.83333333,
          -1.83333333,
          -1.83333333,
          -2.77083333,
          -3.64583333,
          -3.64583333,
          -4.39583333,
          -4.89583333,
          -4.89583333,
          -4.89583333,
          -4.89583333,
          -4.89583333,
          -4.89583333,
          -4.89583333,
          -4.89583333,
          -4.89583333,
          -4.89583333,
          -4.89583333,
          -4.89583333,
          -4.89583333,
          -4.89583333,
          -4.89583333,
          0.16666667,
          0.16666667,
          0.16666667,
          0.16666667,
          0.16666667,
          0.16666667,
          0.16666667,
          0.16666667,
          1.16666667,
          1.16666667,
          1.16666667,
          1.16666667,
          1.16666667,
          1.16666667,
          1.16666667,
          1.16666667,
          1.16666667,
          1.16666667,
          1.16666667,
          -0.83333333,
          -0.83333333,
          -0.83333333,
          -0.83333333,
          -0.89583333,
          -0.89583333,
          -1.89583333,
          -1.89583333,
          -1.89583333,
          -1.89583333,
          -1.89583333,
          -1.89583333,
          -1.89583333,
          -1.89583333,
          -1.89583333,
          -1.89583333,
          -1.89583333,
          -1.89583333,
          -1.89583333,
          -2.89583333,
          -2.89583333,
          -3.89583333,
          -3.89583333
         ]
        }
       ],
       "layout": {
        "autosize": true,
        "height": 163.22115384615384,
        "hovermode": "closest",
        "legend": {
         "itemsizing": "constant"
        },
        "margin": {
         "b": 5,
         "l": 5,
         "r": 5,
         "t": 5
        },
        "showlegend": false,
        "template": {
         "data": {
          "bar": [
           {
            "error_x": {
             "color": "#2a3f5f"
            },
            "error_y": {
             "color": "#2a3f5f"
            },
            "marker": {
             "line": {
              "color": "#E5ECF6",
              "width": 0.5
             },
             "pattern": {
              "fillmode": "overlay",
              "size": 10,
              "solidity": 0.2
             }
            },
            "type": "bar"
           }
          ],
          "barpolar": [
           {
            "marker": {
             "line": {
              "color": "#E5ECF6",
              "width": 0.5
             },
             "pattern": {
              "fillmode": "overlay",
              "size": 10,
              "solidity": 0.2
             }
            },
            "type": "barpolar"
           }
          ],
          "carpet": [
           {
            "aaxis": {
             "endlinecolor": "#2a3f5f",
             "gridcolor": "white",
             "linecolor": "white",
             "minorgridcolor": "white",
             "startlinecolor": "#2a3f5f"
            },
            "baxis": {
             "endlinecolor": "#2a3f5f",
             "gridcolor": "white",
             "linecolor": "white",
             "minorgridcolor": "white",
             "startlinecolor": "#2a3f5f"
            },
            "type": "carpet"
           }
          ],
          "choropleth": [
           {
            "colorbar": {
             "outlinewidth": 0,
             "ticks": ""
            },
            "type": "choropleth"
           }
          ],
          "contour": [
           {
            "colorbar": {
             "outlinewidth": 0,
             "ticks": ""
            },
            "colorscale": [
             [
              0.0,
              "#0d0887"
             ],
             [
              0.1111111111111111,
              "#46039f"
             ],
             [
              0.2222222222222222,
              "#7201a8"
             ],
             [
              0.3333333333333333,
              "#9c179e"
             ],
             [
              0.4444444444444444,
              "#bd3786"
             ],
             [
              0.5555555555555556,
              "#d8576b"
             ],
             [
              0.6666666666666666,
              "#ed7953"
             ],
             [
              0.7777777777777778,
              "#fb9f3a"
             ],
             [
              0.8888888888888888,
              "#fdca26"
             ],
             [
              1.0,
              "#f0f921"
             ]
            ],
            "type": "contour"
           }
          ],
          "contourcarpet": [
           {
            "colorbar": {
             "outlinewidth": 0,
             "ticks": ""
            },
            "type": "contourcarpet"
           }
          ],
          "heatmap": [
           {
            "colorbar": {
             "outlinewidth": 0,
             "ticks": ""
            },
            "colorscale": [
             [
              0.0,
              "#0d0887"
             ],
             [
              0.1111111111111111,
              "#46039f"
             ],
             [
              0.2222222222222222,
              "#7201a8"
             ],
             [
              0.3333333333333333,
              "#9c179e"
             ],
             [
              0.4444444444444444,
              "#bd3786"
             ],
             [
              0.5555555555555556,
              "#d8576b"
             ],
             [
              0.6666666666666666,
              "#ed7953"
             ],
             [
              0.7777777777777778,
              "#fb9f3a"
             ],
             [
              0.8888888888888888,
              "#fdca26"
             ],
             [
              1.0,
              "#f0f921"
             ]
            ],
            "type": "heatmap"
           }
          ],
          "histogram": [
           {
            "marker": {
             "pattern": {
              "fillmode": "overlay",
              "size": 10,
              "solidity": 0.2
             }
            },
            "type": "histogram"
           }
          ],
          "histogram2d": [
           {
            "colorbar": {
             "outlinewidth": 0,
             "ticks": ""
            },
            "colorscale": [
             [
              0.0,
              "#0d0887"
             ],
             [
              0.1111111111111111,
              "#46039f"
             ],
             [
              0.2222222222222222,
              "#7201a8"
             ],
             [
              0.3333333333333333,
              "#9c179e"
             ],
             [
              0.4444444444444444,
              "#bd3786"
             ],
             [
              0.5555555555555556,
              "#d8576b"
             ],
             [
              0.6666666666666666,
              "#ed7953"
             ],
             [
              0.7777777777777778,
              "#fb9f3a"
             ],
             [
              0.8888888888888888,
              "#fdca26"
             ],
             [
              1.0,
              "#f0f921"
             ]
            ],
            "type": "histogram2d"
           }
          ],
          "histogram2dcontour": [
           {
            "colorbar": {
             "outlinewidth": 0,
             "ticks": ""
            },
            "colorscale": [
             [
              0.0,
              "#0d0887"
             ],
             [
              0.1111111111111111,
              "#46039f"
             ],
             [
              0.2222222222222222,
              "#7201a8"
             ],
             [
              0.3333333333333333,
              "#9c179e"
             ],
             [
              0.4444444444444444,
              "#bd3786"
             ],
             [
              0.5555555555555556,
              "#d8576b"
             ],
             [
              0.6666666666666666,
              "#ed7953"
             ],
             [
              0.7777777777777778,
              "#fb9f3a"
             ],
             [
              0.8888888888888888,
              "#fdca26"
             ],
             [
              1.0,
              "#f0f921"
             ]
            ],
            "type": "histogram2dcontour"
           }
          ],
          "mesh3d": [
           {
            "colorbar": {
             "outlinewidth": 0,
             "ticks": ""
            },
            "type": "mesh3d"
           }
          ],
          "parcoords": [
           {
            "line": {
             "colorbar": {
              "outlinewidth": 0,
              "ticks": ""
             }
            },
            "type": "parcoords"
           }
          ],
          "pie": [
           {
            "automargin": true,
            "type": "pie"
           }
          ],
          "scatter": [
           {
            "fillpattern": {
             "fillmode": "overlay",
             "size": 10,
             "solidity": 0.2
            },
            "type": "scatter"
           }
          ],
          "scatter3d": [
           {
            "line": {
             "colorbar": {
              "outlinewidth": 0,
              "ticks": ""
             }
            },
            "marker": {
             "colorbar": {
              "outlinewidth": 0,
              "ticks": ""
             }
            },
            "type": "scatter3d"
           }
          ],
          "scattercarpet": [
           {
            "marker": {
             "colorbar": {
              "outlinewidth": 0,
              "ticks": ""
             }
            },
            "type": "scattercarpet"
           }
          ],
          "scattergeo": [
           {
            "marker": {
             "colorbar": {
              "outlinewidth": 0,
              "ticks": ""
             }
            },
            "type": "scattergeo"
           }
          ],
          "scattergl": [
           {
            "marker": {
             "colorbar": {
              "outlinewidth": 0,
              "ticks": ""
             }
            },
            "type": "scattergl"
           }
          ],
          "scattermap": [
           {
            "marker": {
             "colorbar": {
              "outlinewidth": 0,
              "ticks": ""
             }
            },
            "type": "scattermap"
           }
          ],
          "scattermapbox": [
           {
            "marker": {
             "colorbar": {
              "outlinewidth": 0,
              "ticks": ""
             }
            },
            "type": "scattermapbox"
           }
          ],
          "scatterpolar": [
           {
            "marker": {
             "colorbar": {
              "outlinewidth": 0,
              "ticks": ""
             }
            },
            "type": "scatterpolar"
           }
          ],
          "scatterpolargl": [
           {
            "marker": {
             "colorbar": {
              "outlinewidth": 0,
              "ticks": ""
             }
            },
            "type": "scatterpolargl"
           }
          ],
          "scatterternary": [
           {
            "marker": {
             "colorbar": {
              "outlinewidth": 0,
              "ticks": ""
             }
            },
            "type": "scatterternary"
           }
          ],
          "surface": [
           {
            "colorbar": {
             "outlinewidth": 0,
             "ticks": ""
            },
            "colorscale": [
             [
              0.0,
              "#0d0887"
             ],
             [
              0.1111111111111111,
              "#46039f"
             ],
             [
              0.2222222222222222,
              "#7201a8"
             ],
             [
              0.3333333333333333,
              "#9c179e"
             ],
             [
              0.4444444444444444,
              "#bd3786"
             ],
             [
              0.5555555555555556,
              "#d8576b"
             ],
             [
              0.6666666666666666,
              "#ed7953"
             ],
             [
              0.7777777777777778,
              "#fb9f3a"
             ],
             [
              0.8888888888888888,
              "#fdca26"
             ],
             [
              1.0,
              "#f0f921"
             ]
            ],
            "type": "surface"
           }
          ],
          "table": [
           {
            "cells": {
             "fill": {
              "color": "#EBF0F8"
             },
             "line": {
              "color": "white"
             }
            },
            "header": {
             "fill": {
              "color": "#C8D4E3"
             },
             "line": {
              "color": "white"
             }
            },
            "type": "table"
           }
          ]
         },
         "layout": {
          "annotationdefaults": {
           "arrowcolor": "#2a3f5f",
           "arrowhead": 0,
           "arrowwidth": 1
          },
          "autotypenumbers": "strict",
          "coloraxis": {
           "colorbar": {
            "outlinewidth": 0,
            "ticks": ""
           }
          },
          "colorscale": {
           "diverging": [
            [
             0,
             "#8e0152"
            ],
            [
             0.1,
             "#c51b7d"
            ],
            [
             0.2,
             "#de77ae"
            ],
            [
             0.3,
             "#f1b6da"
            ],
            [
             0.4,
             "#fde0ef"
            ],
            [
             0.5,
             "#f7f7f7"
            ],
            [
             0.6,
             "#e6f5d0"
            ],
            [
             0.7,
             "#b8e186"
            ],
            [
             0.8,
             "#7fbc41"
            ],
            [
             0.9,
             "#4d9221"
            ],
            [
             1,
             "#276419"
            ]
           ],
           "sequential": [
            [
             0.0,
             "#0d0887"
            ],
            [
             0.1111111111111111,
             "#46039f"
            ],
            [
             0.2222222222222222,
             "#7201a8"
            ],
            [
             0.3333333333333333,
             "#9c179e"
            ],
            [
             0.4444444444444444,
             "#bd3786"
            ],
            [
             0.5555555555555556,
             "#d8576b"
            ],
            [
             0.6666666666666666,
             "#ed7953"
            ],
            [
             0.7777777777777778,
             "#fb9f3a"
            ],
            [
             0.8888888888888888,
             "#fdca26"
            ],
            [
             1.0,
             "#f0f921"
            ]
           ],
           "sequentialminus": [
            [
             0.0,
             "#0d0887"
            ],
            [
             0.1111111111111111,
             "#46039f"
            ],
            [
             0.2222222222222222,
             "#7201a8"
            ],
            [
             0.3333333333333333,
             "#9c179e"
            ],
            [
             0.4444444444444444,
             "#bd3786"
            ],
            [
             0.5555555555555556,
             "#d8576b"
            ],
            [
             0.6666666666666666,
             "#ed7953"
            ],
            [
             0.7777777777777778,
             "#fb9f3a"
            ],
            [
             0.8888888888888888,
             "#fdca26"
            ],
            [
             1.0,
             "#f0f921"
            ]
           ]
          },
          "colorway": [
           "#636efa",
           "#EF553B",
           "#00cc96",
           "#ab63fa",
           "#FFA15A",
           "#19d3f3",
           "#FF6692",
           "#B6E880",
           "#FF97FF",
           "#FECB52"
          ],
          "font": {
           "color": "#2a3f5f"
          },
          "geo": {
           "bgcolor": "white",
           "lakecolor": "white",
           "landcolor": "#E5ECF6",
           "showlakes": true,
           "showland": true,
           "subunitcolor": "white"
          },
          "hoverlabel": {
           "align": "left"
          },
          "hovermode": "closest",
          "mapbox": {
           "style": "light"
          },
          "paper_bgcolor": "white",
          "plot_bgcolor": "#E5ECF6",
          "polar": {
           "angularaxis": {
            "gridcolor": "white",
            "linecolor": "white",
            "ticks": ""
           },
           "bgcolor": "#E5ECF6",
           "radialaxis": {
            "gridcolor": "white",
            "linecolor": "white",
            "ticks": ""
           }
          },
          "scene": {
           "xaxis": {
            "backgroundcolor": "#E5ECF6",
            "gridcolor": "white",
            "gridwidth": 2,
            "linecolor": "white",
            "showbackground": true,
            "ticks": "",
            "zerolinecolor": "white"
           },
           "yaxis": {
            "backgroundcolor": "#E5ECF6",
            "gridcolor": "white",
            "gridwidth": 2,
            "linecolor": "white",
            "showbackground": true,
            "ticks": "",
            "zerolinecolor": "white"
           },
           "zaxis": {
            "backgroundcolor": "#E5ECF6",
            "gridcolor": "white",
            "gridwidth": 2,
            "linecolor": "white",
            "showbackground": true,
            "ticks": "",
            "zerolinecolor": "white"
           }
          },
          "shapedefaults": {
           "line": {
            "color": "#2a3f5f"
           }
          },
          "ternary": {
           "aaxis": {
            "gridcolor": "white",
            "linecolor": "white",
            "ticks": ""
           },
           "baxis": {
            "gridcolor": "white",
            "linecolor": "white",
            "ticks": ""
           },
           "bgcolor": "#E5ECF6",
           "caxis": {
            "gridcolor": "white",
            "linecolor": "white",
            "ticks": ""
           }
          },
          "title": {
           "x": 0.05
          },
          "xaxis": {
           "automargin": true,
           "gridcolor": "white",
           "linecolor": "white",
           "ticks": "",
           "title": {
            "standoff": 15
           },
           "zerolinecolor": "white",
           "zerolinewidth": 2
          },
          "yaxis": {
           "automargin": true,
           "gridcolor": "white",
           "linecolor": "white",
           "ticks": "",
           "title": {
            "standoff": 15
           },
           "zerolinecolor": "white",
           "zerolinewidth": 2
          }
         }
        },
        "title": {
         "font": {
          "size": 16
         }
        },
        "width": 700.0,
        "xaxis": {
         "showgrid": false,
         "showticklabels": false,
         "zeroline": false
        },
        "yaxis": {
         "showgrid": false,
         "showticklabels": false,
         "zeroline": false
        }
       }
      }
     },
     "metadata": {},
     "output_type": "display_data"
    }
   ],
   "source": [
    "network.switch.loc[1, \"closed\"] = True\n",
    "pp.runpp(network)\n",
    "pp.plotting.plotly.pf_res_plotly(network, auto_open=False)"
   ]
  },
  {
   "cell_type": "code",
   "execution_count": 551,
   "id": "556a835e62a1c966",
   "metadata": {
    "ExecuteTime": {
     "end_time": "2025-07-22T01:41:46.304148Z",
     "start_time": "2025-07-22T01:41:46.298383Z"
    }
   },
   "outputs": [
    {
     "data": {
      "text/html": [
       "<div>\n",
       "<style scoped>\n",
       "    .dataframe tbody tr th:only-of-type {\n",
       "        vertical-align: middle;\n",
       "    }\n",
       "\n",
       "    .dataframe tbody tr th {\n",
       "        vertical-align: top;\n",
       "    }\n",
       "\n",
       "    .dataframe thead th {\n",
       "        text-align: right;\n",
       "    }\n",
       "</style>\n",
       "<table border=\"1\" class=\"dataframe\">\n",
       "  <thead>\n",
       "    <tr style=\"text-align: right;\">\n",
       "      <th></th>\n",
       "      <th>vm_pu</th>\n",
       "      <th>va_degree</th>\n",
       "      <th>p_mw</th>\n",
       "      <th>q_mvar</th>\n",
       "    </tr>\n",
       "  </thead>\n",
       "  <tbody>\n",
       "    <tr>\n",
       "      <th>59</th>\n",
       "      <td>0.948899</td>\n",
       "      <td>0.427295</td>\n",
       "      <td>0.000</td>\n",
       "      <td>0.000</td>\n",
       "    </tr>\n",
       "    <tr>\n",
       "      <th>60</th>\n",
       "      <td>0.941733</td>\n",
       "      <td>0.492136</td>\n",
       "      <td>1.244</td>\n",
       "      <td>0.888</td>\n",
       "    </tr>\n",
       "    <tr>\n",
       "      <th>61</th>\n",
       "      <td>0.941453</td>\n",
       "      <td>0.494691</td>\n",
       "      <td>0.032</td>\n",
       "      <td>0.023</td>\n",
       "    </tr>\n",
       "    <tr>\n",
       "      <th>62</th>\n",
       "      <td>0.941077</td>\n",
       "      <td>0.498110</td>\n",
       "      <td>0.000</td>\n",
       "      <td>0.000</td>\n",
       "    </tr>\n",
       "    <tr>\n",
       "      <th>63</th>\n",
       "      <td>0.939237</td>\n",
       "      <td>0.514869</td>\n",
       "      <td>0.227</td>\n",
       "      <td>0.162</td>\n",
       "    </tr>\n",
       "    <tr>\n",
       "      <th>64</th>\n",
       "      <td>0.938680</td>\n",
       "      <td>0.519914</td>\n",
       "      <td>0.059</td>\n",
       "      <td>0.042</td>\n",
       "    </tr>\n",
       "  </tbody>\n",
       "</table>\n",
       "</div>"
      ],
      "text/plain": [
       "       vm_pu  va_degree   p_mw  q_mvar\n",
       "59  0.948899   0.427295  0.000   0.000\n",
       "60  0.941733   0.492136  1.244   0.888\n",
       "61  0.941453   0.494691  0.032   0.023\n",
       "62  0.941077   0.498110  0.000   0.000\n",
       "63  0.939237   0.514869  0.227   0.162\n",
       "64  0.938680   0.519914  0.059   0.042"
      ]
     },
     "execution_count": 551,
     "metadata": {},
     "output_type": "execute_result"
    }
   ],
   "source": [
    "network.res_bus[(network.res_bus.vm_pu > 1.05) | (network.res_bus.vm_pu < 0.95)]"
   ]
  },
  {
   "cell_type": "code",
   "execution_count": 552,
   "id": "a7648b97aed5527f",
   "metadata": {
    "ExecuteTime": {
     "end_time": "2025-07-22T01:41:46.347943Z",
     "start_time": "2025-07-22T01:41:46.343509Z"
    }
   },
   "outputs": [
    {
     "data": {
      "text/html": [
       "<div>\n",
       "<style scoped>\n",
       "    .dataframe tbody tr th:only-of-type {\n",
       "        vertical-align: middle;\n",
       "    }\n",
       "\n",
       "    .dataframe tbody tr th {\n",
       "        vertical-align: top;\n",
       "    }\n",
       "\n",
       "    .dataframe thead th {\n",
       "        text-align: right;\n",
       "    }\n",
       "</style>\n",
       "<table border=\"1\" class=\"dataframe\">\n",
       "  <thead>\n",
       "    <tr style=\"text-align: right;\">\n",
       "      <th></th>\n",
       "      <th>p_from_mw</th>\n",
       "      <th>q_from_mvar</th>\n",
       "      <th>p_to_mw</th>\n",
       "      <th>q_to_mvar</th>\n",
       "      <th>pl_mw</th>\n",
       "      <th>ql_mvar</th>\n",
       "      <th>i_from_ka</th>\n",
       "      <th>i_to_ka</th>\n",
       "      <th>i_ka</th>\n",
       "      <th>vm_from_pu</th>\n",
       "      <th>va_from_degree</th>\n",
       "      <th>vm_to_pu</th>\n",
       "      <th>va_to_degree</th>\n",
       "      <th>loading_percent</th>\n",
       "    </tr>\n",
       "  </thead>\n",
       "  <tbody>\n",
       "  </tbody>\n",
       "</table>\n",
       "</div>"
      ],
      "text/plain": [
       "Empty DataFrame\n",
       "Columns: [p_from_mw, q_from_mvar, p_to_mw, q_to_mvar, pl_mw, ql_mvar, i_from_ka, i_to_ka, i_ka, vm_from_pu, va_from_degree, vm_to_pu, va_to_degree, loading_percent]\n",
       "Index: []"
      ]
     },
     "execution_count": 552,
     "metadata": {},
     "output_type": "execute_result"
    }
   ],
   "source": [
    "network.res_line[network.res_line.loading_percent > 100]"
   ]
  },
  {
   "cell_type": "code",
   "execution_count": 553,
   "id": "6dc3201488b7cf0b",
   "metadata": {
    "ExecuteTime": {
     "end_time": "2025-07-22T01:41:46.522656Z",
     "start_time": "2025-07-22T01:41:46.409642Z"
    }
   },
   "outputs": [
    {
     "data": {
      "application/vnd.plotly.v1+json": {
       "config": {
        "plotlyServerURL": "https://plot.ly"
       },
       "data": [
        {
         "hoverinfo": "text",
         "legendgroup": "lines",
         "line": {
          "color": "rgb(236.59090909090915,3.8888888888889412,0.0)",
          "dash": "solid",
          "width": 2
         },
         "mode": "lines",
         "name": "lines",
         "showlegend": true,
         "text": "Line_1.0-2.0<br />I = 90.261 %<br />I_from = 0.361 kA<br />I_to = 0.361 kA<br />",
         "type": "scatter",
         "x": [
          0.0,
          0.5,
          1.0
         ],
         "y": [
          0.0,
          0.0,
          0.0
         ]
        },
        {
         "hoverinfo": "text",
         "legendgroup": "lines",
         "line": {
          "color": "rgb(236.59090909090915,3.8888888888889412,0.0)",
          "dash": "solid",
          "width": 2
         },
         "mode": "lines",
         "name": "lines",
         "showlegend": false,
         "text": "Line_2.0-3.0<br />I = 90.261 %<br />I_from = 0.361 kA<br />I_to = 0.361 kA<br />",
         "type": "scatter",
         "x": [
          1.0,
          1.5,
          2.0
         ],
         "y": [
          0.0,
          0.0,
          0.0
         ]
        },
        {
         "hoverinfo": "text",
         "legendgroup": "lines",
         "line": {
          "color": "rgb(208.87096774193546,255.0,37.90322580645162)",
          "dash": "solid",
          "width": 2
         },
         "mode": "lines",
         "name": "lines",
         "showlegend": false,
         "text": "Line_3.0-4.0<br />I = 60.522 %<br />I_from = 0.242 kA<br />I_to = 0.242 kA<br />",
         "type": "scatter",
         "x": [
          2.0,
          2.5,
          3.0
         ],
         "y": [
          0.0,
          -0.666666665,
          -1.33333333
         ]
        },
        {
         "hoverinfo": "text",
         "legendgroup": "lines",
         "line": {
          "color": "rgb(0.0,188.5,255.0)",
          "dash": "solid",
          "width": 2
         },
         "mode": "lines",
         "name": "lines",
         "showlegend": false,
         "text": "Line_4.0-5.0<br />I = 30.952 %<br />I_from = 0.124 kA<br />I_to = 0.124 kA<br />",
         "type": "scatter",
         "x": [
          3.0,
          3.5,
          4.0
         ],
         "y": [
          -1.33333333,
          -1.58333333,
          -1.83333333
         ]
        },
        {
         "hoverinfo": "text",
         "legendgroup": "lines",
         "line": {
          "color": "rgb(0.0,188.5,255.0)",
          "dash": "solid",
          "width": 2
         },
         "mode": "lines",
         "name": "lines",
         "showlegend": false,
         "text": "Line_5.0-6.0<br />I = 30.952 %<br />I_from = 0.124 kA<br />I_to = 0.124 kA<br />",
         "type": "scatter",
         "x": [
          4.0,
          4.5,
          5.0
         ],
         "y": [
          -1.83333333,
          -1.83333333,
          -1.83333333
         ]
        },
        {
         "hoverinfo": "text",
         "legendgroup": "lines",
         "line": {
          "color": "rgb(0.0,188.5,255.0)",
          "dash": "solid",
          "width": 2
         },
         "mode": "lines",
         "name": "lines",
         "showlegend": false,
         "text": "Line_6.0-7.0<br />I = 30.924 %<br />I_from = 0.124 kA<br />I_to = 0.124 kA<br />",
         "type": "scatter",
         "x": [
          5.0,
          5.5,
          6.0
         ],
         "y": [
          -1.83333333,
          -1.83333333,
          -1.83333333
         ]
        },
        {
         "hoverinfo": "text",
         "legendgroup": "lines",
         "line": {
          "color": "rgb(0.0,184.5,255.0)",
          "dash": "solid",
          "width": 2
         },
         "mode": "lines",
         "name": "lines",
         "showlegend": false,
         "text": "Line_7.0-8.0<br />I = 30.481 %<br />I_from = 0.122 kA<br />I_to = 0.122 kA<br />",
         "type": "scatter",
         "x": [
          6.0,
          6.5,
          7.0
         ],
         "y": [
          -1.83333333,
          -1.83333333,
          -1.83333333
         ]
        },
        {
         "hoverinfo": "text",
         "legendgroup": "lines",
         "line": {
          "color": "rgb(0.0,168.49999999999994,255.0)",
          "dash": "solid",
          "width": 2
         },
         "mode": "lines",
         "name": "lines",
         "showlegend": false,
         "text": "Line_8.0-9.0<br />I = 29.198 %<br />I_from = 0.117 kA<br />I_to = 0.117 kA<br />",
         "type": "scatter",
         "x": [
          7.0,
          7.5,
          8.0
         ],
         "y": [
          -1.83333333,
          -2.30208333,
          -2.77083333
         ]
        },
        {
         "hoverinfo": "text",
         "legendgroup": "lines",
         "line": {
          "color": "rgb(0.0,136.49999999999994,255.0)",
          "dash": "solid",
          "width": 2
         },
         "mode": "lines",
         "name": "lines",
         "showlegend": false,
         "text": "Line_9.0-10.0<br />I = 26.149 %<br />I_from = 0.105 kA<br />I_to = 0.105 kA<br />",
         "type": "scatter",
         "x": [
          8.0,
          8.5,
          9.0
         ],
         "y": [
          -2.77083333,
          -3.20833333,
          -3.64583333
         ]
        },
        {
         "hoverinfo": "text",
         "legendgroup": "lines",
         "line": {
          "color": "rgb(137.9032258064515,255.0,108.87096774193559)",
          "dash": "solid",
          "width": 2
         },
         "mode": "lines",
         "name": "lines",
         "showlegend": false,
         "text": "Line_10.0-11.0<br />I = 51.717 %<br />I_from = 0.103 kA<br />I_to = 0.103 kA<br />",
         "type": "scatter",
         "x": [
          9.0,
          9.5,
          10.0
         ],
         "y": [
          -3.64583333,
          -3.64583333,
          -3.64583333
         ]
        },
        {
         "hoverinfo": "text",
         "legendgroup": "lines",
         "line": {
          "color": "rgb(168.40909090909093,0.0,0.0)",
          "dash": "solid",
          "width": 2
         },
         "mode": "lines",
         "name": "lines",
         "showlegend": false,
         "text": "Line_11.0-12.0<br />I = 96.29 %<br />I_from = 0.193 kA<br />I_to = 0.193 kA<br />",
         "type": "scatter",
         "x": [
          10.0,
          10.5,
          11.0
         ],
         "y": [
          -3.64583333,
          -4.02083333,
          -4.39583333
         ]
        },
        {
         "hoverinfo": "text",
         "legendgroup": "lines",
         "line": {
          "color": "rgb(0.0,0.0,241.13636363636363)",
          "dash": "solid",
          "width": 2
         },
         "mode": "lines",
         "name": "lines",
         "showlegend": false,
         "text": "Line_12.0-13.0<br />I = 10.051 %<br />I_from = 0.02 kA<br />I_to = 0.02 kA<br />",
         "type": "scatter",
         "x": [
          11.0,
          11.5,
          12.0
         ],
         "y": [
          -4.39583333,
          -4.64583333,
          -4.89583333
         ]
        },
        {
         "hoverinfo": "text",
         "legendgroup": "lines",
         "line": {
          "color": "rgb(0.0,0.0,241.13636363636363)",
          "dash": "solid",
          "width": 2
         },
         "mode": "lines",
         "name": "lines",
         "showlegend": false,
         "text": "Line_13.0-14.0<br />I = 9.831 %<br />I_from = 0.02 kA<br />I_to = 0.02 kA<br />",
         "type": "scatter",
         "x": [
          12.0,
          12.5,
          13.0
         ],
         "y": [
          -4.89583333,
          -4.89583333,
          -4.89583333
         ]
        },
        {
         "hoverinfo": "text",
         "legendgroup": "lines",
         "line": {
          "color": "rgb(0.0,0.0,236.59090909090907)",
          "dash": "solid",
          "width": 2
         },
         "mode": "lines",
         "name": "lines",
         "showlegend": false,
         "text": "Line_14.0-15.0<br />I = 9.604 %<br />I_from = 0.019 kA<br />I_to = 0.019 kA<br />",
         "type": "scatter",
         "x": [
          13.0,
          13.5,
          14.0
         ],
         "y": [
          -4.89583333,
          -4.89583333,
          -4.89583333
         ]
        },
        {
         "hoverinfo": "text",
         "legendgroup": "lines",
         "line": {
          "color": "rgb(0.0,0.0,236.59090909090907)",
          "dash": "solid",
          "width": 2
         },
         "mode": "lines",
         "name": "lines",
         "showlegend": false,
         "text": "Line_15.0-16.0<br />I = 9.604 %<br />I_from = 0.019 kA<br />I_to = 0.019 kA<br />",
         "type": "scatter",
         "x": [
          14.0,
          14.5,
          15.0
         ],
         "y": [
          -4.89583333,
          -4.89583333,
          -4.89583333
         ]
        },
        {
         "hoverinfo": "text",
         "legendgroup": "lines",
         "line": {
          "color": "rgb(0.0,0.0,222.95454545454544)",
          "dash": "solid",
          "width": 2
         },
         "mode": "lines",
         "name": "lines",
         "showlegend": false,
         "text": "Line_16.0-17.0<br />I = 8.326 %<br />I_from = 0.017 kA<br />I_to = 0.017 kA<br />",
         "type": "scatter",
         "x": [
          15.0,
          15.5,
          16.0
         ],
         "y": [
          -4.89583333,
          -4.89583333,
          -4.89583333
         ]
        },
        {
         "hoverinfo": "text",
         "legendgroup": "lines",
         "line": {
          "color": "rgb(0.0,0.0,204.77272727272725)",
          "dash": "solid",
          "width": 2
         },
         "mode": "lines",
         "name": "lines",
         "showlegend": false,
         "text": "Line_17.0-18.0<br />I = 6.699 %<br />I_from = 0.013 kA<br />I_to = 0.013 kA<br />",
         "type": "scatter",
         "x": [
          16.0,
          16.5,
          17.0
         ],
         "y": [
          -4.89583333,
          -4.89583333,
          -4.89583333
         ]
        },
        {
         "hoverinfo": "text",
         "legendgroup": "lines",
         "line": {
          "color": "rgb(0.0,0.0,182.04545454545453)",
          "dash": "solid",
          "width": 2
         },
         "mode": "lines",
         "name": "lines",
         "showlegend": false,
         "text": "Line_18.0-19.0<br />I = 5.074 %<br />I_from = 0.01 kA<br />I_to = 0.01 kA<br />",
         "type": "scatter",
         "x": [
          17.0,
          17.5,
          18.0
         ],
         "y": [
          -4.89583333,
          -4.89583333,
          -4.89583333
         ]
        },
        {
         "hoverinfo": "text",
         "legendgroup": "lines",
         "line": {
          "color": "rgb(0.0,0.0,182.04545454545453)",
          "dash": "solid",
          "width": 2
         },
         "mode": "lines",
         "name": "lines",
         "showlegend": false,
         "text": "Line_19.0-20.0<br />I = 5.074 %<br />I_from = 0.01 kA<br />I_to = 0.01 kA<br />",
         "type": "scatter",
         "x": [
          18.0,
          18.5,
          19.0
         ],
         "y": [
          -4.89583333,
          -4.89583333,
          -4.89583333
         ]
        },
        {
         "hoverinfo": "text",
         "legendgroup": "lines",
         "line": {
          "color": "rgb(0.0,0.0,182.04545454545453)",
          "dash": "solid",
          "width": 2
         },
         "mode": "lines",
         "name": "lines",
         "showlegend": false,
         "text": "Line_20.0-21.0<br />I = 5.047 %<br />I_from = 0.01 kA<br />I_to = 0.01 kA<br />",
         "type": "scatter",
         "x": [
          19.0,
          19.5,
          20.0
         ],
         "y": [
          -4.89583333,
          -4.89583333,
          -4.89583333
         ]
        },
        {
         "hoverinfo": "text",
         "legendgroup": "lines",
         "line": {
          "color": "rgb(0.0,0.0,145.6818181818182)",
          "dash": "solid",
          "width": 2
         },
         "mode": "lines",
         "name": "lines",
         "showlegend": false,
         "text": "Line_21.0-22.0<br />I = 1.761 %<br />I_from = 0.004 kA<br />I_to = 0.004 kA<br />",
         "type": "scatter",
         "x": [
          20.0,
          20.5,
          21.0
         ],
         "y": [
          -4.89583333,
          -4.89583333,
          -4.89583333
         ]
        },
        {
         "hoverinfo": "text",
         "legendgroup": "lines",
         "line": {
          "color": "rgb(0.0,0.0,145.6818181818182)",
          "dash": "solid",
          "width": 2
         },
         "mode": "lines",
         "name": "lines",
         "showlegend": false,
         "text": "Line_22.0-23.0<br />I = 1.618 %<br />I_from = 0.003 kA<br />I_to = 0.003 kA<br />",
         "type": "scatter",
         "x": [
          21.0,
          21.5,
          22.0
         ],
         "y": [
          -4.89583333,
          -4.89583333,
          -4.89583333
         ]
        },
        {
         "hoverinfo": "text",
         "legendgroup": "lines",
         "line": {
          "color": "rgb(0.0,0.0,145.6818181818182)",
          "dash": "solid",
          "width": 2
         },
         "mode": "lines",
         "name": "lines",
         "showlegend": false,
         "text": "Line_23.0-24.0<br />I = 1.618 %<br />I_from = 0.003 kA<br />I_to = 0.003 kA<br />",
         "type": "scatter",
         "x": [
          22.0,
          22.5,
          23.0
         ],
         "y": [
          -4.89583333,
          -4.89583333,
          -4.89583333
         ]
        },
        {
         "hoverinfo": "text",
         "legendgroup": "lines",
         "line": {
          "color": "rgb(0.0,0.0,136.5909090909091)",
          "dash": "solid",
          "width": 2
         },
         "mode": "lines",
         "name": "lines",
         "showlegend": false,
         "text": "Line_24.0-25.0<br />I = 0.809 %<br />I_from = 0.002 kA<br />I_to = 0.002 kA<br />",
         "type": "scatter",
         "x": [
          23.0,
          23.5,
          24.0
         ],
         "y": [
          -4.89583333,
          -4.89583333,
          -4.89583333
         ]
        },
        {
         "hoverinfo": "text",
         "legendgroup": "lines",
         "line": {
          "color": "rgb(0.0,0.0,136.5909090909091)",
          "dash": "solid",
          "width": 2
         },
         "mode": "lines",
         "name": "lines",
         "showlegend": false,
         "text": "Line_25.0-26.0<br />I = 0.809 %<br />I_from = 0.002 kA<br />I_to = 0.002 kA<br />",
         "type": "scatter",
         "x": [
          24.0,
          24.5,
          25.0
         ],
         "y": [
          -4.89583333,
          -4.89583333,
          -4.89583333
         ]
        },
        {
         "hoverinfo": "text",
         "legendgroup": "lines",
         "line": {
          "color": "rgb(0.0,0.0,132.04545454545453)",
          "dash": "solid",
          "width": 2
         },
         "mode": "lines",
         "name": "lines",
         "showlegend": false,
         "text": "Line_26.0-27.0<br />I = 0.404 %<br />I_from = 0.001 kA<br />I_to = 0.001 kA<br />",
         "type": "scatter",
         "x": [
          25.0,
          25.5,
          26.0
         ],
         "y": [
          -4.89583333,
          -4.89583333,
          -4.89583333
         ]
        },
        {
         "hoverinfo": "text",
         "legendgroup": "lines",
         "line": {
          "color": "rgb(0.0,0.0,154.77272727272728)",
          "dash": "solid",
          "width": 2
         },
         "mode": "lines",
         "name": "lines",
         "showlegend": false,
         "text": "Line_3.0-28.0<br />I = 2.488 %<br />I_from = 0.005 kA<br />I_to = 0.005 kA<br />",
         "type": "scatter",
         "x": [
          2.0,
          2.5,
          3.0
         ],
         "y": [
          0.0,
          0.083333335,
          0.16666667
         ]
        },
        {
         "hoverinfo": "text",
         "legendgroup": "lines",
         "line": {
          "color": "rgb(0.0,0.0,145.6818181818182)",
          "dash": "solid",
          "width": 2
         },
         "mode": "lines",
         "name": "lines",
         "showlegend": false,
         "text": "Line_28.0-29.0<br />I = 1.781 %<br />I_from = 0.004 kA<br />I_to = 0.004 kA<br />",
         "type": "scatter",
         "x": [
          3.0,
          3.5,
          4.0
         ],
         "y": [
          0.16666667,
          0.16666667,
          0.16666667
         ]
        },
        {
         "hoverinfo": "text",
         "legendgroup": "lines",
         "line": {
          "color": "rgb(0.0,0.0,136.5909090909091)",
          "dash": "solid",
          "width": 2
         },
         "mode": "lines",
         "name": "lines",
         "showlegend": false,
         "text": "Line_29.0-30.0<br />I = 1.073 %<br />I_from = 0.002 kA<br />I_to = 0.002 kA<br />",
         "type": "scatter",
         "x": [
          4.0,
          4.5,
          5.0
         ],
         "y": [
          0.16666667,
          0.16666667,
          0.16666667
         ]
        },
        {
         "hoverinfo": "text",
         "legendgroup": "lines",
         "line": {
          "color": "rgb(0.0,0.0,136.5909090909091)",
          "dash": "solid",
          "width": 2
         },
         "mode": "lines",
         "name": "lines",
         "showlegend": false,
         "text": "Line_30.0-31.0<br />I = 1.073 %<br />I_from = 0.002 kA<br />I_to = 0.002 kA<br />",
         "type": "scatter",
         "x": [
          5.0,
          5.5,
          6.0
         ],
         "y": [
          0.16666667,
          0.16666667,
          0.16666667
         ]
        },
        {
         "hoverinfo": "text",
         "legendgroup": "lines",
         "line": {
          "color": "rgb(0.0,0.0,136.5909090909091)",
          "dash": "solid",
          "width": 2
         },
         "mode": "lines",
         "name": "lines",
         "showlegend": false,
         "text": "Line_31.0-32.0<br />I = 1.073 %<br />I_from = 0.002 kA<br />I_to = 0.002 kA<br />",
         "type": "scatter",
         "x": [
          6.0,
          6.5,
          7.0
         ],
         "y": [
          0.16666667,
          0.16666667,
          0.16666667
         ]
        },
        {
         "hoverinfo": "text",
         "legendgroup": "lines",
         "line": {
          "color": "rgb(0.0,0.0,136.5909090909091)",
          "dash": "solid",
          "width": 2
         },
         "mode": "lines",
         "name": "lines",
         "showlegend": false,
         "text": "Line_32.0-33.0<br />I = 1.073 %<br />I_from = 0.002 kA<br />I_to = 0.002 kA<br />",
         "type": "scatter",
         "x": [
          7.0,
          7.5,
          8.0
         ],
         "y": [
          0.16666667,
          0.16666667,
          0.16666667
         ]
        },
        {
         "hoverinfo": "text",
         "legendgroup": "lines",
         "line": {
          "color": "rgb(0.0,0.0,132.04545454545453)",
          "dash": "solid",
          "width": 2
         },
         "mode": "lines",
         "name": "lines",
         "showlegend": false,
         "text": "Line_33.0-34.0<br />I = 0.692 %<br />I_from = 0.001 kA<br />I_to = 0.001 kA<br />",
         "type": "scatter",
         "x": [
          8.0,
          8.5,
          9.0
         ],
         "y": [
          0.16666667,
          0.16666667,
          0.16666667
         ]
        },
        {
         "hoverinfo": "text",
         "legendgroup": "lines",
         "line": {
          "color": "rgb(0.0,0.0,127.5)",
          "dash": "solid",
          "width": 2
         },
         "mode": "lines",
         "name": "lines",
         "showlegend": false,
         "text": "Line_34.0-35.0<br />I = 0.16 %<br />I_from = 0.0 kA<br />I_to = 0.0 kA<br />",
         "type": "scatter",
         "x": [
          9.0,
          9.5,
          10.0
         ],
         "y": [
          0.16666667,
          0.16666667,
          0.16666667
         ]
        },
        {
         "hoverinfo": "text",
         "legendgroup": "lines",
         "line": {
          "color": "rgb(183.06451612903223,255.0,63.70967741935485)",
          "dash": "solid",
          "width": 2
         },
         "mode": "lines",
         "name": "lines",
         "showlegend": false,
         "text": "Line_3.0-36.0<br />I = 57.174 %<br />I_from = 0.114 kA<br />I_to = 0.114 kA<br />",
         "type": "scatter",
         "x": [
          2.0,
          2.5,
          3.0
         ],
         "y": [
          0.0,
          0.583333335,
          1.16666667
         ]
        },
        {
         "hoverinfo": "text",
         "legendgroup": "lines",
         "line": {
          "color": "rgb(176.61290322580643,255.0,70.16129032258064)",
          "dash": "solid",
          "width": 2
         },
         "mode": "lines",
         "name": "lines",
         "showlegend": false,
         "text": "Line_36.0-37.0<br />I = 56.483 %<br />I_from = 0.113 kA<br />I_to = 0.113 kA<br />",
         "type": "scatter",
         "x": [
          3.0,
          3.5,
          4.0
         ],
         "y": [
          1.16666667,
          1.16666667,
          1.16666667
         ]
        },
        {
         "hoverinfo": "text",
         "legendgroup": "lines",
         "line": {
          "color": "rgb(170.16129032258064,255.0,76.61290322580645)",
          "dash": "solid",
          "width": 2
         },
         "mode": "lines",
         "name": "lines",
         "showlegend": false,
         "text": "Line_37.0-38.0<br />I = 55.791 %<br />I_from = 0.112 kA<br />I_to = 0.112 kA<br />",
         "type": "scatter",
         "x": [
          4.0,
          4.5,
          5.0
         ],
         "y": [
          1.16666667,
          1.16666667,
          1.16666667
         ]
        },
        {
         "hoverinfo": "text",
         "legendgroup": "lines",
         "line": {
          "color": "rgb(170.16129032258064,255.0,76.61290322580645)",
          "dash": "solid",
          "width": 2
         },
         "mode": "lines",
         "name": "lines",
         "showlegend": false,
         "text": "Line_38.0-39.0<br />I = 55.791 %<br />I_from = 0.112 kA<br />I_to = 0.112 kA<br />",
         "type": "scatter",
         "x": [
          5.0,
          5.5,
          6.0
         ],
         "y": [
          1.16666667,
          1.16666667,
          1.16666667
         ]
        },
        {
         "hoverinfo": "text",
         "legendgroup": "lines",
         "line": {
          "color": "rgb(166.93548387096772,255.0,79.83870967741936)",
          "dash": "solid",
          "width": 2
         },
         "mode": "lines",
         "name": "lines",
         "showlegend": false,
         "text": "Line_39.0-40.0<br />I = 55.152 %<br />I_from = 0.11 kA<br />I_to = 0.11 kA<br />",
         "type": "scatter",
         "x": [
          6.0,
          6.5,
          7.0
         ],
         "y": [
          1.16666667,
          1.16666667,
          1.16666667
         ]
        },
        {
         "hoverinfo": "text",
         "legendgroup": "lines",
         "line": {
          "color": "rgb(160.48387096774192,255.0,86.29032258064515)",
          "dash": "solid",
          "width": 2
         },
         "mode": "lines",
         "name": "lines",
         "showlegend": false,
         "text": "Line_40.0-41.0<br />I = 54.514 %<br />I_from = 0.109 kA<br />I_to = 0.109 kA<br />",
         "type": "scatter",
         "x": [
          7.0,
          7.5,
          8.0
         ],
         "y": [
          1.16666667,
          1.16666667,
          1.16666667
         ]
        },
        {
         "hoverinfo": "text",
         "legendgroup": "lines",
         "line": {
          "color": "rgb(160.48387096774192,255.0,86.29032258064515)",
          "dash": "solid",
          "width": 2
         },
         "mode": "lines",
         "name": "lines",
         "showlegend": false,
         "text": "Line_41.0-42.0<br />I = 54.48 %<br />I_from = 0.109 kA<br />I_to = 0.109 kA<br />",
         "type": "scatter",
         "x": [
          8.0,
          8.5,
          9.0
         ],
         "y": [
          1.16666667,
          1.16666667,
          1.16666667
         ]
        },
        {
         "hoverinfo": "text",
         "legendgroup": "lines",
         "line": {
          "color": "rgb(160.48387096774192,255.0,86.29032258064515)",
          "dash": "solid",
          "width": 2
         },
         "mode": "lines",
         "name": "lines",
         "showlegend": false,
         "text": "Line_42.0-43.0<br />I = 54.48 %<br />I_from = 0.109 kA<br />I_to = 0.109 kA<br />",
         "type": "scatter",
         "x": [
          9.0,
          9.5,
          10.0
         ],
         "y": [
          1.16666667,
          1.16666667,
          1.16666667
         ]
        },
        {
         "hoverinfo": "text",
         "legendgroup": "lines",
         "line": {
          "color": "rgb(160.48387096774192,255.0,86.29032258064515)",
          "dash": "solid",
          "width": 2
         },
         "mode": "lines",
         "name": "lines",
         "showlegend": false,
         "text": "Line_43.0-44.0<br />I = 54.317 %<br />I_from = 0.109 kA<br />I_to = 0.109 kA<br />",
         "type": "scatter",
         "x": [
          10.0,
          10.5,
          11.0
         ],
         "y": [
          1.16666667,
          1.16666667,
          1.16666667
         ]
        },
        {
         "hoverinfo": "text",
         "legendgroup": "lines",
         "line": {
          "color": "rgb(0.0,0.0,150.22727272727272)",
          "dash": "solid",
          "width": 2
         },
         "mode": "lines",
         "name": "lines",
         "showlegend": false,
         "text": "Line_44.0-45.0<br />I = 2.148 %<br />I_from = 0.004 kA<br />I_to = 0.004 kA<br />",
         "type": "scatter",
         "x": [
          11.0,
          11.5,
          12.0
         ],
         "y": [
          1.16666667,
          1.16666667,
          1.16666667
         ]
        },
        {
         "hoverinfo": "text",
         "legendgroup": "lines",
         "line": {
          "color": "rgb(0.0,0.0,136.5909090909091)",
          "dash": "solid",
          "width": 2
         },
         "mode": "lines",
         "name": "lines",
         "showlegend": false,
         "text": "Line_45.0-46.0<br />I = 1.074 %<br />I_from = 0.002 kA<br />I_to = 0.002 kA<br />",
         "type": "scatter",
         "x": [
          12.0,
          12.5,
          13.0
         ],
         "y": [
          1.16666667,
          1.16666667,
          1.16666667
         ]
        },
        {
         "hoverinfo": "text",
         "legendgroup": "lines",
         "line": {
          "color": "rgb(76.61290322580645,255.0,170.16129032258064)",
          "dash": "solid",
          "width": 2
         },
         "mode": "lines",
         "name": "lines",
         "showlegend": false,
         "text": "Line_4.0-47.0<br />I = 44.358 %<br />I_from = 0.133 kA<br />I_to = 0.133 kA<br />",
         "type": "scatter",
         "x": [
          3.0,
          3.5,
          4.0
         ],
         "y": [
          -1.33333333,
          -1.08333333,
          -0.83333333
         ]
        },
        {
         "hoverinfo": "text",
         "legendgroup": "lines",
         "line": {
          "color": "rgb(76.61290322580645,255.0,170.16129032258064)",
          "dash": "solid",
          "width": 2
         },
         "mode": "lines",
         "name": "lines",
         "showlegend": false,
         "text": "Line_47.0-48.0<br />I = 44.358 %<br />I_from = 0.133 kA<br />I_to = 0.133 kA<br />",
         "type": "scatter",
         "x": [
          4.0,
          4.5,
          5.0
         ],
         "y": [
          -0.83333333,
          -0.83333333,
          -0.83333333
         ]
        },
        {
         "hoverinfo": "text",
         "legendgroup": "lines",
         "line": {
          "color": "rgb(63.70967741935483,255.0,183.06451612903228)",
          "dash": "solid",
          "width": 2
         },
         "mode": "lines",
         "name": "lines",
         "showlegend": false,
         "text": "Line_48.0-49.0<br />I = 42.921 %<br />I_from = 0.129 kA<br />I_to = 0.129 kA<br />",
         "type": "scatter",
         "x": [
          5.0,
          5.5,
          6.0
         ],
         "y": [
          -0.83333333,
          -0.83333333,
          -0.83333333
         ]
        },
        {
         "hoverinfo": "text",
         "legendgroup": "lines",
         "line": {
          "color": "rgb(5.645161290322579,236.5,241.12903225806454)",
          "dash": "solid",
          "width": 2
         },
         "mode": "lines",
         "name": "lines",
         "showlegend": false,
         "text": "Line_49.0-50.0<br />I = 35.845 %<br />I_from = 0.108 kA<br />I_to = 0.108 kA<br />",
         "type": "scatter",
         "x": [
          6.0,
          6.5,
          7.0
         ],
         "y": [
          -0.83333333,
          -0.83333333,
          -0.83333333
         ]
        },
        {
         "hoverinfo": "text",
         "legendgroup": "lines",
         "line": {
          "color": "rgb(0.0,0.0,141.13636363636363)",
          "dash": "solid",
          "width": 2
         },
         "mode": "lines",
         "name": "lines",
         "showlegend": false,
         "text": "Line_8.0-51.0<br />I = 1.211 %<br />I_from = 0.002 kA<br />I_to = 0.002 kA<br />",
         "type": "scatter",
         "x": [
          7.0,
          7.5,
          8.0
         ],
         "y": [
          -1.83333333,
          -1.36458333,
          -0.89583333
         ]
        },
        {
         "hoverinfo": "text",
         "legendgroup": "lines",
         "line": {
          "color": "rgb(0.0,0.0,127.5)",
          "dash": "solid",
          "width": 2
         },
         "mode": "lines",
         "name": "lines",
         "showlegend": false,
         "text": "Line_51.0-52.0<br />I = 0.101 %<br />I_from = 0.0 kA<br />I_to = 0.0 kA<br />",
         "type": "scatter",
         "x": [
          8.0,
          8.5,
          9.0
         ],
         "y": [
          -0.89583333,
          -0.89583333,
          -0.89583333
         ]
        },
        {
         "hoverinfo": "text",
         "legendgroup": "lines",
         "line": {
          "color": "rgb(0.0,0.0,168.4090909090909)",
          "dash": "solid",
          "width": 2
         },
         "mode": "lines",
         "name": "lines",
         "showlegend": false,
         "text": "Line_9.0-53.0<br />I = 3.768 %<br />I_from = 0.011 kA<br />I_to = 0.011 kA<br />",
         "type": "scatter",
         "x": [
          8.0,
          8.5,
          9.0
         ],
         "y": [
          -2.77083333,
          -2.33333333,
          -1.89583333
         ]
        },
        {
         "hoverinfo": "text",
         "legendgroup": "lines",
         "line": {
          "color": "rgb(0.0,0.0,168.4090909090909)",
          "dash": "solid",
          "width": 2
         },
         "mode": "lines",
         "name": "lines",
         "showlegend": false,
         "text": "Line_53.0-54.0<br />I = 3.696 %<br />I_from = 0.011 kA<br />I_to = 0.011 kA<br />",
         "type": "scatter",
         "x": [
          9.0,
          9.5,
          10.0
         ],
         "y": [
          -1.89583333,
          -1.89583333,
          -1.89583333
         ]
        },
        {
         "hoverinfo": "text",
         "legendgroup": "lines",
         "line": {
          "color": "rgb(0.0,0.0,163.86363636363635)",
          "dash": "solid",
          "width": 2
         },
         "mode": "lines",
         "name": "lines",
         "showlegend": false,
         "text": "Line_54.0-55.0<br />I = 3.268 %<br />I_from = 0.01 kA<br />I_to = 0.01 kA<br />",
         "type": "scatter",
         "x": [
          10.0,
          10.5,
          11.0
         ],
         "y": [
          -1.89583333,
          -1.89583333,
          -1.89583333
         ]
        },
        {
         "hoverinfo": "text",
         "legendgroup": "lines",
         "line": {
          "color": "rgb(0.0,0.0,159.3181818181818)",
          "dash": "solid",
          "width": 2
         },
         "mode": "lines",
         "name": "lines",
         "showlegend": false,
         "text": "Line_55.0-56.0<br />I = 2.896 %<br />I_from = 0.009 kA<br />I_to = 0.009 kA<br />",
         "type": "scatter",
         "x": [
          11.0,
          11.5,
          12.0
         ],
         "y": [
          -1.89583333,
          -1.89583333,
          -1.89583333
         ]
        },
        {
         "hoverinfo": "text",
         "legendgroup": "lines",
         "line": {
          "color": "rgb(0.0,0.0,159.3181818181818)",
          "dash": "solid",
          "width": 2
         },
         "mode": "lines",
         "name": "lines",
         "showlegend": false,
         "text": "Line_56.0-57.0<br />I = 2.896 %<br />I_from = 0.009 kA<br />I_to = 0.009 kA<br />",
         "type": "scatter",
         "x": [
          12.0,
          12.5,
          13.0
         ],
         "y": [
          -1.89583333,
          -1.89583333,
          -1.89583333
         ]
        },
        {
         "hoverinfo": "text",
         "legendgroup": "lines",
         "line": {
          "color": "rgb(0.0,0.0,159.3181818181818)",
          "dash": "solid",
          "width": 2
         },
         "mode": "lines",
         "name": "lines",
         "showlegend": false,
         "text": "Line_57.0-58.0<br />I = 2.896 %<br />I_from = 0.009 kA<br />I_to = 0.009 kA<br />",
         "type": "scatter",
         "x": [
          13.0,
          13.5,
          14.0
         ],
         "y": [
          -1.89583333,
          -1.89583333,
          -1.89583333
         ]
        },
        {
         "hoverinfo": "text",
         "legendgroup": "lines",
         "line": {
          "color": "rgb(0.0,0.0,159.3181818181818)",
          "dash": "solid",
          "width": 2
         },
         "mode": "lines",
         "name": "lines",
         "showlegend": false,
         "text": "Line_58.0-59.0<br />I = 2.896 %<br />I_from = 0.009 kA<br />I_to = 0.009 kA<br />",
         "type": "scatter",
         "x": [
          14.0,
          14.5,
          15.0
         ],
         "y": [
          -1.89583333,
          -1.89583333,
          -1.89583333
         ]
        },
        {
         "hoverinfo": "text",
         "legendgroup": "lines",
         "line": {
          "color": "rgb(0.0,168.49999999999994,255.0)",
          "dash": "solid",
          "width": 2
         },
         "mode": "lines",
         "name": "lines",
         "showlegend": false,
         "text": "Line_59.0-60.0<br />I = 29.223 %<br />I_from = 0.088 kA<br />I_to = 0.088 kA<br />",
         "type": "scatter",
         "x": [
          15.0,
          15.5,
          16.0
         ],
         "y": [
          -1.89583333,
          -1.89583333,
          -1.89583333
         ]
        },
        {
         "hoverinfo": "text",
         "legendgroup": "lines",
         "line": {
          "color": "rgb(0.0,168.49999999999994,255.0)",
          "dash": "solid",
          "width": 2
         },
         "mode": "lines",
         "name": "lines",
         "showlegend": false,
         "text": "Line_60.0-61.0<br />I = 29.223 %<br />I_from = 0.088 kA<br />I_to = 0.088 kA<br />",
         "type": "scatter",
         "x": [
          16.0,
          16.5,
          17.0
         ],
         "y": [
          -1.89583333,
          -1.89583333,
          -1.89583333
         ]
        },
        {
         "hoverinfo": "text",
         "legendgroup": "lines",
         "line": {
          "color": "rgb(0.0,0.0,195.68181818181816)",
          "dash": "solid",
          "width": 2
         },
         "mode": "lines",
         "name": "lines",
         "showlegend": false,
         "text": "Line_61.0-62.0<br />I = 5.96 %<br />I_from = 0.018 kA<br />I_to = 0.018 kA<br />",
         "type": "scatter",
         "x": [
          17.0,
          17.5,
          18.0
         ],
         "y": [
          -1.89583333,
          -1.89583333,
          -1.89583333
         ]
        },
        {
         "hoverinfo": "text",
         "legendgroup": "lines",
         "line": {
          "color": "rgb(0.0,0.0,186.5909090909091)",
          "dash": "solid",
          "width": 2
         },
         "mode": "lines",
         "name": "lines",
         "showlegend": false,
         "text": "Line_62.0-63.0<br />I = 5.36 %<br />I_from = 0.016 kA<br />I_to = 0.016 kA<br />",
         "type": "scatter",
         "x": [
          18.0,
          18.5,
          19.0
         ],
         "y": [
          -1.89583333,
          -1.89583333,
          -1.89583333
         ]
        },
        {
         "hoverinfo": "text",
         "legendgroup": "lines",
         "line": {
          "color": "rgb(0.0,0.0,186.5909090909091)",
          "dash": "solid",
          "width": 2
         },
         "mode": "lines",
         "name": "lines",
         "showlegend": false,
         "text": "Line_63.0-64.0<br />I = 5.36 %<br />I_from = 0.016 kA<br />I_to = 0.016 kA<br />",
         "type": "scatter",
         "x": [
          19.0,
          19.5,
          20.0
         ],
         "y": [
          -1.89583333,
          -1.89583333,
          -1.89583333
         ]
        },
        {
         "hoverinfo": "text",
         "legendgroup": "lines",
         "line": {
          "color": "rgb(0.0,0.0,136.5909090909091)",
          "dash": "solid",
          "width": 2
         },
         "mode": "lines",
         "name": "lines",
         "showlegend": false,
         "text": "Line_64.0-65.0<br />I = 1.105 %<br />I_from = 0.003 kA<br />I_to = 0.003 kA<br />",
         "type": "scatter",
         "x": [
          20.0,
          20.5,
          21.0
         ],
         "y": [
          -1.89583333,
          -1.89583333,
          -1.89583333
         ]
        },
        {
         "hoverinfo": "text",
         "legendgroup": "lines",
         "line": {
          "color": "rgb(0.0,0.0,136.5909090909091)",
          "dash": "solid",
          "width": 2
         },
         "mode": "lines",
         "name": "lines",
         "showlegend": false,
         "text": "Line_11.0-66.0<br />I = 1.012 %<br />I_from = 0.002 kA<br />I_to = 0.002 kA<br />",
         "type": "scatter",
         "x": [
          10.0,
          10.5,
          11.0
         ],
         "y": [
          -3.64583333,
          -3.27083333,
          -2.89583333
         ]
        },
        {
         "hoverinfo": "text",
         "legendgroup": "lines",
         "line": {
          "color": "rgb(0.0,0.0,132.04545454545453)",
          "dash": "solid",
          "width": 2
         },
         "mode": "lines",
         "name": "lines",
         "showlegend": false,
         "text": "Line_66.0-67.0<br />I = 0.506 %<br />I_from = 0.001 kA<br />I_to = 0.001 kA<br />",
         "type": "scatter",
         "x": [
          11.0,
          11.5,
          12.0
         ],
         "y": [
          -2.89583333,
          -2.89583333,
          -2.89583333
         ]
        },
        {
         "hoverinfo": "text",
         "legendgroup": "lines",
         "line": {
          "color": "rgb(255.0,63.1481481481482,0.0)",
          "dash": "solid",
          "width": 2
         },
         "mode": "lines",
         "name": "lines",
         "showlegend": false,
         "text": "Line_12.0-68.0<br />I = 84.072 %<br />I_from = 0.168 kA<br />I_to = 0.168 kA<br />",
         "type": "scatter",
         "x": [
          11.0,
          11.5,
          12.0
         ],
         "y": [
          -4.39583333,
          -4.14583333,
          -3.89583333
         ]
        },
        {
         "hoverinfo": "text",
         "legendgroup": "lines",
         "line": {
          "color": "rgb(8.870967741935482,240.5,237.90322580645162)",
          "dash": "solid",
          "width": 2
         },
         "mode": "lines",
         "name": "lines",
         "showlegend": false,
         "text": "Line_68.0-69.0<br />I = 36.127 %<br />I_from = 0.072 kA<br />I_to = 0.072 kA<br />",
         "type": "scatter",
         "x": [
          12.0,
          12.5,
          13.0
         ],
         "y": [
          -3.89583333,
          -3.89583333,
          -3.89583333
         ]
        },
        {
         "hoverinfo": "text",
         "legendgroup": "lines",
         "line": {
          "color": "rgb(66.93548387096773,255.0,179.83870967741936)",
          "dash": "solid",
          "width": 2
         },
         "mode": "lines",
         "name": "lines",
         "showlegend": false,
         "text": "Tie_Line_50-59<br />I = 43.129 %<br />I_from = 0.086 kA<br />I_to = 0.086 kA<br />",
         "type": "scatter",
         "x": [
          7.0,
          11.0,
          15.0
         ],
         "y": [
          -0.83333333,
          -1.36458333,
          -1.89583333
         ]
        },
        {
         "hoverinfo": "text",
         "legendgroup": "lines",
         "line": {
          "color": "rgb(141.12903225806448,255.0,105.64516129032258)",
          "dash": "solid",
          "width": 2
         },
         "mode": "lines",
         "name": "lines",
         "showlegend": false,
         "text": "Tie_Line_11-44<br />I = 52.217 %<br />I_from = 0.104 kA<br />I_to = 0.104 kA<br />",
         "type": "scatter",
         "x": [
          10.0,
          10.5,
          11.0
         ],
         "y": [
          -3.64583333,
          -1.23958333,
          1.16666667
         ]
        },
        {
         "hoverinfo": "text",
         "legendgroup": "disconnected lines",
         "line": {
          "color": "rgb(128, 128, 128)",
          "dash": "dot",
          "width": 1.0
         },
         "mode": "lines",
         "name": "disconnected branches",
         "showlegend": true,
         "text": "Tie_Line_13-21<br />I = 0.0 %<br />I_from = 0.0 kA<br />I_to = 0.0 kA<br />",
         "type": "scatter",
         "x": [
          12.0,
          16.0,
          20.0
         ],
         "y": [
          -4.89583333,
          -4.89583333,
          -4.89583333
         ]
        },
        {
         "hoverinfo": "text",
         "legendgroup": "disconnected lines",
         "line": {
          "color": "rgb(128, 128, 128)",
          "dash": "dot",
          "width": 1.0
         },
         "mode": "lines",
         "name": "disconnected branches",
         "showlegend": false,
         "text": "Tie_Line_65-27<br />I = 0.0 %<br />I_from = 0.0 kA<br />I_to = 0.0 kA<br />",
         "type": "scatter",
         "x": [
          21.0,
          23.5,
          26.0
         ],
         "y": [
          -1.89583333,
          -3.3958333300000003,
          -4.89583333
         ]
        },
        {
         "hoverinfo": "text",
         "legendgroup": "lines",
         "marker": {
          "color": "rgb(128, 128, 128)",
          "size": 1,
          "symbol": "circle"
         },
         "mode": "markers",
         "name": "edge_center",
         "showlegend": false,
         "text": [
          "Line_1.0-2.0<br />I = 90.261 %<br />I_from = 0.361 kA<br />I_to = 0.361 kA<br />",
          "Line_2.0-3.0<br />I = 90.261 %<br />I_from = 0.361 kA<br />I_to = 0.361 kA<br />",
          "Line_3.0-4.0<br />I = 60.522 %<br />I_from = 0.242 kA<br />I_to = 0.242 kA<br />",
          "Line_4.0-5.0<br />I = 30.952 %<br />I_from = 0.124 kA<br />I_to = 0.124 kA<br />",
          "Line_5.0-6.0<br />I = 30.952 %<br />I_from = 0.124 kA<br />I_to = 0.124 kA<br />",
          "Line_6.0-7.0<br />I = 30.924 %<br />I_from = 0.124 kA<br />I_to = 0.124 kA<br />",
          "Line_7.0-8.0<br />I = 30.481 %<br />I_from = 0.122 kA<br />I_to = 0.122 kA<br />",
          "Line_8.0-9.0<br />I = 29.198 %<br />I_from = 0.117 kA<br />I_to = 0.117 kA<br />",
          "Line_9.0-10.0<br />I = 26.149 %<br />I_from = 0.105 kA<br />I_to = 0.105 kA<br />",
          "Line_10.0-11.0<br />I = 51.717 %<br />I_from = 0.103 kA<br />I_to = 0.103 kA<br />",
          "Line_11.0-12.0<br />I = 96.29 %<br />I_from = 0.193 kA<br />I_to = 0.193 kA<br />",
          "Line_12.0-13.0<br />I = 10.051 %<br />I_from = 0.02 kA<br />I_to = 0.02 kA<br />",
          "Line_13.0-14.0<br />I = 9.831 %<br />I_from = 0.02 kA<br />I_to = 0.02 kA<br />",
          "Line_14.0-15.0<br />I = 9.604 %<br />I_from = 0.019 kA<br />I_to = 0.019 kA<br />",
          "Line_15.0-16.0<br />I = 9.604 %<br />I_from = 0.019 kA<br />I_to = 0.019 kA<br />",
          "Line_16.0-17.0<br />I = 8.326 %<br />I_from = 0.017 kA<br />I_to = 0.017 kA<br />",
          "Line_17.0-18.0<br />I = 6.699 %<br />I_from = 0.013 kA<br />I_to = 0.013 kA<br />",
          "Line_18.0-19.0<br />I = 5.074 %<br />I_from = 0.01 kA<br />I_to = 0.01 kA<br />",
          "Line_19.0-20.0<br />I = 5.074 %<br />I_from = 0.01 kA<br />I_to = 0.01 kA<br />",
          "Line_20.0-21.0<br />I = 5.047 %<br />I_from = 0.01 kA<br />I_to = 0.01 kA<br />",
          "Line_21.0-22.0<br />I = 1.761 %<br />I_from = 0.004 kA<br />I_to = 0.004 kA<br />",
          "Line_22.0-23.0<br />I = 1.618 %<br />I_from = 0.003 kA<br />I_to = 0.003 kA<br />",
          "Line_23.0-24.0<br />I = 1.618 %<br />I_from = 0.003 kA<br />I_to = 0.003 kA<br />",
          "Line_24.0-25.0<br />I = 0.809 %<br />I_from = 0.002 kA<br />I_to = 0.002 kA<br />",
          "Line_25.0-26.0<br />I = 0.809 %<br />I_from = 0.002 kA<br />I_to = 0.002 kA<br />",
          "Line_26.0-27.0<br />I = 0.404 %<br />I_from = 0.001 kA<br />I_to = 0.001 kA<br />",
          "Line_3.0-28.0<br />I = 2.488 %<br />I_from = 0.005 kA<br />I_to = 0.005 kA<br />",
          "Line_28.0-29.0<br />I = 1.781 %<br />I_from = 0.004 kA<br />I_to = 0.004 kA<br />",
          "Line_29.0-30.0<br />I = 1.073 %<br />I_from = 0.002 kA<br />I_to = 0.002 kA<br />",
          "Line_30.0-31.0<br />I = 1.073 %<br />I_from = 0.002 kA<br />I_to = 0.002 kA<br />",
          "Line_31.0-32.0<br />I = 1.073 %<br />I_from = 0.002 kA<br />I_to = 0.002 kA<br />",
          "Line_32.0-33.0<br />I = 1.073 %<br />I_from = 0.002 kA<br />I_to = 0.002 kA<br />",
          "Line_33.0-34.0<br />I = 0.692 %<br />I_from = 0.001 kA<br />I_to = 0.001 kA<br />",
          "Line_34.0-35.0<br />I = 0.16 %<br />I_from = 0.0 kA<br />I_to = 0.0 kA<br />",
          "Line_3.0-36.0<br />I = 57.174 %<br />I_from = 0.114 kA<br />I_to = 0.114 kA<br />",
          "Line_36.0-37.0<br />I = 56.483 %<br />I_from = 0.113 kA<br />I_to = 0.113 kA<br />",
          "Line_37.0-38.0<br />I = 55.791 %<br />I_from = 0.112 kA<br />I_to = 0.112 kA<br />",
          "Line_38.0-39.0<br />I = 55.791 %<br />I_from = 0.112 kA<br />I_to = 0.112 kA<br />",
          "Line_39.0-40.0<br />I = 55.152 %<br />I_from = 0.11 kA<br />I_to = 0.11 kA<br />",
          "Line_40.0-41.0<br />I = 54.514 %<br />I_from = 0.109 kA<br />I_to = 0.109 kA<br />",
          "Line_41.0-42.0<br />I = 54.48 %<br />I_from = 0.109 kA<br />I_to = 0.109 kA<br />",
          "Line_42.0-43.0<br />I = 54.48 %<br />I_from = 0.109 kA<br />I_to = 0.109 kA<br />",
          "Line_43.0-44.0<br />I = 54.317 %<br />I_from = 0.109 kA<br />I_to = 0.109 kA<br />",
          "Line_44.0-45.0<br />I = 2.148 %<br />I_from = 0.004 kA<br />I_to = 0.004 kA<br />",
          "Line_45.0-46.0<br />I = 1.074 %<br />I_from = 0.002 kA<br />I_to = 0.002 kA<br />",
          "Line_4.0-47.0<br />I = 44.358 %<br />I_from = 0.133 kA<br />I_to = 0.133 kA<br />",
          "Line_47.0-48.0<br />I = 44.358 %<br />I_from = 0.133 kA<br />I_to = 0.133 kA<br />",
          "Line_48.0-49.0<br />I = 42.921 %<br />I_from = 0.129 kA<br />I_to = 0.129 kA<br />",
          "Line_49.0-50.0<br />I = 35.845 %<br />I_from = 0.108 kA<br />I_to = 0.108 kA<br />",
          "Line_8.0-51.0<br />I = 1.211 %<br />I_from = 0.002 kA<br />I_to = 0.002 kA<br />",
          "Line_51.0-52.0<br />I = 0.101 %<br />I_from = 0.0 kA<br />I_to = 0.0 kA<br />",
          "Line_9.0-53.0<br />I = 3.768 %<br />I_from = 0.011 kA<br />I_to = 0.011 kA<br />",
          "Line_53.0-54.0<br />I = 3.696 %<br />I_from = 0.011 kA<br />I_to = 0.011 kA<br />",
          "Line_54.0-55.0<br />I = 3.268 %<br />I_from = 0.01 kA<br />I_to = 0.01 kA<br />",
          "Line_55.0-56.0<br />I = 2.896 %<br />I_from = 0.009 kA<br />I_to = 0.009 kA<br />",
          "Line_56.0-57.0<br />I = 2.896 %<br />I_from = 0.009 kA<br />I_to = 0.009 kA<br />",
          "Line_57.0-58.0<br />I = 2.896 %<br />I_from = 0.009 kA<br />I_to = 0.009 kA<br />",
          "Line_58.0-59.0<br />I = 2.896 %<br />I_from = 0.009 kA<br />I_to = 0.009 kA<br />",
          "Line_59.0-60.0<br />I = 29.223 %<br />I_from = 0.088 kA<br />I_to = 0.088 kA<br />",
          "Line_60.0-61.0<br />I = 29.223 %<br />I_from = 0.088 kA<br />I_to = 0.088 kA<br />",
          "Line_61.0-62.0<br />I = 5.96 %<br />I_from = 0.018 kA<br />I_to = 0.018 kA<br />",
          "Line_62.0-63.0<br />I = 5.36 %<br />I_from = 0.016 kA<br />I_to = 0.016 kA<br />",
          "Line_63.0-64.0<br />I = 5.36 %<br />I_from = 0.016 kA<br />I_to = 0.016 kA<br />",
          "Line_64.0-65.0<br />I = 1.105 %<br />I_from = 0.003 kA<br />I_to = 0.003 kA<br />",
          "Line_11.0-66.0<br />I = 1.012 %<br />I_from = 0.002 kA<br />I_to = 0.002 kA<br />",
          "Line_66.0-67.0<br />I = 0.506 %<br />I_from = 0.001 kA<br />I_to = 0.001 kA<br />",
          "Line_12.0-68.0<br />I = 84.072 %<br />I_from = 0.168 kA<br />I_to = 0.168 kA<br />",
          "Line_68.0-69.0<br />I = 36.127 %<br />I_from = 0.072 kA<br />I_to = 0.072 kA<br />",
          "Tie_Line_50-59<br />I = 43.129 %<br />I_from = 0.086 kA<br />I_to = 0.086 kA<br />",
          "Tie_Line_11-44<br />I = 52.217 %<br />I_from = 0.104 kA<br />I_to = 0.104 kA<br />",
          "Tie_Line_13-21<br />I = 0.0 %<br />I_from = 0.0 kA<br />I_to = 0.0 kA<br />",
          "Tie_Line_65-27<br />I = 0.0 %<br />I_from = 0.0 kA<br />I_to = 0.0 kA<br />"
         ],
         "type": "scatter",
         "x": [
          0.5
         ],
         "y": [
          0.0
         ]
        },
        {
         "hoverinfo": "text",
         "marker": {
          "color": "rgb(128, 128, 128)",
          "size": 20,
          "symbol": "square"
         },
         "mode": "markers",
         "name": "external_grid",
         "text": [
          "Bus_1"
         ],
         "type": "scatter",
         "x": [
          0.0
         ],
         "y": [
          0.0
         ]
        },
        {
         "hoverinfo": "text",
         "marker": {
          "cmax": 1.1,
          "cmin": 0.9,
          "color": {
           "bdata": "exSuR+F68D9Fvgb3snrwP/Nd8KaEevA/41UYJyp68D9L7M6CdXjwPw0o6dZRX/A/WQYDRDtF8D8VfVH4DT/wPyq0CE30O/A/nGgpkf0N8D+FPMDRqQPwP158UauBae8/XqqBaOZR7z/twBHNfzrvPxBXMnhVI+8/zKYgggcf7z8dykEt7BfvP+9gB8XZF+8/rs4gdxkU7z867pAysRHvP2LwO37NDe8/WJRuRr8N7z8kh3W3Kg3vPy0gGlznC+8/iYZrvokK7z/22AqF+QnvP3yVtxfRCe8/jamQnn168D9g3f2hNHrwP1Ug0FO5efA/jyydkaN58D9e4MbGNnnwP8ThnPYxePA/Gtgtbtx28D+AkPLNl3bwP27Lhfb7efA/BtkxdVpy8D+/QOapSWnwP2OJDvKrZvA/LqRvz4Rm8D82BWQvjCnwPz4C4rOuD/A/+RM+ekQM8D9FwnznewvwP6wPTgwVC/A/rnuhnBQL8D/LsHUYlHnwPwoMH2IBa/A/HPai5RI78D9pTnqusi/wPw02GSfqPvA/0stkieA+8D9rzFtKxjrwP0fHBfptOfA/UriQHs438D+zCuUBbjbwP7i0mOaqLvA/QHDYndcq8D91ltqJWynwP4HJ0tKPFvA/VBJHgsb17z/Z25bzm/PvPwPgBI218O8/y9JsH3/i7z+y2PiOM97vP9KVRxZwA/A/Dy1Aam8D8D9r0mZwiN3uPxRfqZMm3e4/",
           "dtype": "f8"
          },
          "colorbar": {
           "thickness": 10,
           "title": {
            "side": "right",
            "text": "Bus Voltage [pu]"
           },
           "x": 1.0
          },
          "colorscale": [
           [
            0.0,
            "rgb(0,0,131)"
           ],
           [
            0.2,
            "rgb(0,60,170)"
           ],
           [
            0.4,
            "rgb(5,255,255)"
           ],
           [
            0.6,
            "rgb(255,255,0)"
           ],
           [
            0.8,
            "rgb(250,0,0)"
           ],
           [
            1.0,
            "rgb(128,0,0)"
           ]
          ],
          "size": 10,
          "symbol": "circle"
         },
         "mode": "markers",
         "name": "buses",
         "text": [
          "Bus_1<br />V_m = 1.03 pu<br />V_m = 13.04 kV<br />V_a = 0.0 deg",
          "Bus_2<br />V_m = 1.03 pu<br />V_m = 13.039 kV<br />V_a = -0.003 deg",
          "Bus_3<br />V_m = 1.03 pu<br />V_m = 13.039 kV<br />V_a = -0.005 deg",
          "Bus_4<br />V_m = 1.03 pu<br />V_m = 13.038 kV<br />V_a = -0.011 deg",
          "Bus_5<br />V_m = 1.029 pu<br />V_m = 13.032 kV<br />V_a = -0.039 deg",
          "Bus_6<br />V_m = 1.023 pu<br />V_m = 12.955 kV<br />V_a = -0.222 deg",
          "Bus_7<br />V_m = 1.017 pu<br />V_m = 12.874 kV<br />V_a = -0.414 deg",
          "Bus_8<br />V_m = 1.015 pu<br />V_m = 12.855 kV<br />V_a = -0.462 deg",
          "Bus_9<br />V_m = 1.015 pu<br />V_m = 12.845 kV<br />V_a = -0.488 deg",
          "Bus_10<br />V_m = 1.003 pu<br />V_m = 12.703 kV<br />V_a = -0.78 deg",
          "Bus_11<br />V_m = 1.001 pu<br />V_m = 12.671 kV<br />V_a = -0.848 deg",
          "Bus_12<br />V_m = 0.982 pu<br />V_m = 12.427 kV<br />V_a = -1.097 deg",
          "Bus_13<br />V_m = 0.979 pu<br />V_m = 12.391 kV<br />V_a = -1.052 deg",
          "Bus_14<br />V_m = 0.976 pu<br />V_m = 12.355 kV<br />V_a = -1.007 deg",
          "Bus_15<br />V_m = 0.973 pu<br />V_m = 12.319 kV<br />V_a = -0.962 deg",
          "Bus_16<br />V_m = 0.973 pu<br />V_m = 12.312 kV<br />V_a = -0.954 deg",
          "Bus_17<br />V_m = 0.972 pu<br />V_m = 12.301 kV<br />V_a = -0.94 deg",
          "Bus_18<br />V_m = 0.972 pu<br />V_m = 12.301 kV<br />V_a = -0.94 deg",
          "Bus_19<br />V_m = 0.971 pu<br />V_m = 12.295 kV<br />V_a = -0.932 deg",
          "Bus_20<br />V_m = 0.971 pu<br />V_m = 12.292 kV<br />V_a = -0.926 deg",
          "Bus_21<br />V_m = 0.97 pu<br />V_m = 12.286 kV<br />V_a = -0.918 deg",
          "Bus_22<br />V_m = 0.97 pu<br />V_m = 12.286 kV<br />V_a = -0.917 deg",
          "Bus_23<br />V_m = 0.97 pu<br />V_m = 12.285 kV<br />V_a = -0.916 deg",
          "Bus_24<br />V_m = 0.97 pu<br />V_m = 12.283 kV<br />V_a = -0.913 deg",
          "Bus_25<br />V_m = 0.97 pu<br />V_m = 12.281 kV<br />V_a = -0.91 deg",
          "Bus_26<br />V_m = 0.97 pu<br />V_m = 12.28 kV<br />V_a = -0.909 deg",
          "Bus_27<br />V_m = 0.97 pu<br />V_m = 12.28 kV<br />V_a = -0.909 deg",
          "Bus_28<br />V_m = 1.03 pu<br />V_m = 13.039 kV<br />V_a = -0.005 deg",
          "Bus_29<br />V_m = 1.03 pu<br />V_m = 13.038 kV<br />V_a = -0.008 deg",
          "Bus_30<br />V_m = 1.03 pu<br />V_m = 13.036 kV<br />V_a = -0.006 deg",
          "Bus_31<br />V_m = 1.03 pu<br />V_m = 13.036 kV<br />V_a = -0.006 deg",
          "Bus_32<br />V_m = 1.03 pu<br />V_m = 13.035 kV<br />V_a = -0.004 deg",
          "Bus_33<br />V_m = 1.029 pu<br />V_m = 13.032 kV<br />V_a = 0.0 deg",
          "Bus_34<br />V_m = 1.029 pu<br />V_m = 13.027 kV<br />V_a = 0.006 deg",
          "Bus_35<br />V_m = 1.029 pu<br />V_m = 13.027 kV<br />V_a = 0.007 deg",
          "Bus_36<br />V_m = 1.03 pu<br />V_m = 13.037 kV<br />V_a = -0.012 deg",
          "Bus_37<br />V_m = 1.028 pu<br />V_m = 13.013 kV<br />V_a = -0.114 deg",
          "Bus_38<br />V_m = 1.026 pu<br />V_m = 12.985 kV<br />V_a = -0.176 deg",
          "Bus_39<br />V_m = 1.025 pu<br />V_m = 12.977 kV<br />V_a = -0.194 deg",
          "Bus_40<br />V_m = 1.025 pu<br />V_m = 12.977 kV<br />V_a = -0.195 deg",
          "Bus_41<br />V_m = 1.01 pu<br />V_m = 12.788 kV<br />V_a = -0.622 deg",
          "Bus_42<br />V_m = 1.004 pu<br />V_m = 12.708 kV<br />V_a = -0.807 deg",
          "Bus_43<br />V_m = 1.003 pu<br />V_m = 12.698 kV<br />V_a = -0.832 deg",
          "Bus_44<br />V_m = 1.003 pu<br />V_m = 12.695 kV<br />V_a = -0.838 deg",
          "Bus_45<br />V_m = 1.003 pu<br />V_m = 12.694 kV<br />V_a = -0.84 deg",
          "Bus_46<br />V_m = 1.003 pu<br />V_m = 12.694 kV<br />V_a = -0.84 deg",
          "Bus_47<br />V_m = 1.03 pu<br />V_m = 13.036 kV<br />V_a = -0.015 deg",
          "Bus_48<br />V_m = 1.026 pu<br />V_m = 12.991 kV<br />V_a = -0.128 deg",
          "Bus_49<br />V_m = 1.014 pu<br />V_m = 12.843 kV<br />V_a = -0.506 deg",
          "Bus_50<br />V_m = 1.012 pu<br />V_m = 12.807 kV<br />V_a = -0.595 deg",
          "Bus_51<br />V_m = 1.015 pu<br />V_m = 12.854 kV<br />V_a = -0.462 deg",
          "Bus_52<br />V_m = 1.015 pu<br />V_m = 12.854 kV<br />V_a = -0.461 deg",
          "Bus_53<br />V_m = 1.014 pu<br />V_m = 12.842 kV<br />V_a = -0.493 deg",
          "Bus_54<br />V_m = 1.014 pu<br />V_m = 12.838 kV<br />V_a = -0.499 deg",
          "Bus_55<br />V_m = 1.014 pu<br />V_m = 12.832 kV<br />V_a = -0.508 deg",
          "Bus_56<br />V_m = 1.013 pu<br />V_m = 12.828 kV<br />V_a = -0.517 deg",
          "Bus_57<br />V_m = 1.011 pu<br />V_m = 12.804 kV<br />V_a = -0.552 deg",
          "Bus_58<br />V_m = 1.01 pu<br />V_m = 12.792 kV<br />V_a = -0.57 deg",
          "Bus_59<br />V_m = 1.01 pu<br />V_m = 12.788 kV<br />V_a = -0.576 deg",
          "Bus_60<br />V_m = 1.006 pu<br />V_m = 12.73 kV<br />V_a = -0.489 deg",
          "Bus_61<br />V_m = 0.999 pu<br />V_m = 12.644 kV<br />V_a = -0.431 deg",
          "Bus_62<br />V_m = 0.998 pu<br />V_m = 12.641 kV<br />V_a = -0.429 deg",
          "Bus_63<br />V_m = 0.998 pu<br />V_m = 12.636 kV<br />V_a = -0.426 deg",
          "Bus_64<br />V_m = 0.996 pu<br />V_m = 12.614 kV<br />V_a = -0.411 deg",
          "Bus_65<br />V_m = 0.996 pu<br />V_m = 12.608 kV<br />V_a = -0.407 deg",
          "Bus_66<br />V_m = 1.001 pu<br />V_m = 12.671 kV<br />V_a = -0.847 deg",
          "Bus_67<br />V_m = 1.001 pu<br />V_m = 12.671 kV<br />V_a = -0.847 deg",
          "Bus_68<br />V_m = 0.965 pu<br />V_m = 12.211 kV<br />V_a = -1.414 deg",
          "Bus_69<br />V_m = 0.964 pu<br />V_m = 12.211 kV<br />V_a = -1.415 deg"
         ],
         "type": "scatter",
         "x": [
          0.0,
          1.0,
          2.0,
          3.0,
          4.0,
          5.0,
          6.0,
          7.0,
          8.0,
          9.0,
          10.0,
          11.0,
          12.0,
          13.0,
          14.0,
          15.0,
          16.0,
          17.0,
          18.0,
          19.0,
          20.0,
          21.0,
          22.0,
          23.0,
          24.0,
          25.0,
          26.0,
          3.0,
          4.0,
          5.0,
          6.0,
          7.0,
          8.0,
          9.0,
          10.0,
          3.0,
          4.0,
          5.0,
          6.0,
          7.0,
          8.0,
          9.0,
          10.0,
          11.0,
          12.0,
          13.0,
          4.0,
          5.0,
          6.0,
          7.0,
          8.0,
          9.0,
          9.0,
          10.0,
          11.0,
          12.0,
          13.0,
          14.0,
          15.0,
          16.0,
          17.0,
          18.0,
          19.0,
          20.0,
          21.0,
          11.0,
          12.0,
          12.0,
          13.0
         ],
         "y": [
          0.0,
          0.0,
          0.0,
          -1.33333333,
          -1.83333333,
          -1.83333333,
          -1.83333333,
          -1.83333333,
          -2.77083333,
          -3.64583333,
          -3.64583333,
          -4.39583333,
          -4.89583333,
          -4.89583333,
          -4.89583333,
          -4.89583333,
          -4.89583333,
          -4.89583333,
          -4.89583333,
          -4.89583333,
          -4.89583333,
          -4.89583333,
          -4.89583333,
          -4.89583333,
          -4.89583333,
          -4.89583333,
          -4.89583333,
          0.16666667,
          0.16666667,
          0.16666667,
          0.16666667,
          0.16666667,
          0.16666667,
          0.16666667,
          0.16666667,
          1.16666667,
          1.16666667,
          1.16666667,
          1.16666667,
          1.16666667,
          1.16666667,
          1.16666667,
          1.16666667,
          1.16666667,
          1.16666667,
          1.16666667,
          -0.83333333,
          -0.83333333,
          -0.83333333,
          -0.83333333,
          -0.89583333,
          -0.89583333,
          -1.89583333,
          -1.89583333,
          -1.89583333,
          -1.89583333,
          -1.89583333,
          -1.89583333,
          -1.89583333,
          -1.89583333,
          -1.89583333,
          -1.89583333,
          -1.89583333,
          -1.89583333,
          -1.89583333,
          -2.89583333,
          -2.89583333,
          -3.89583333,
          -3.89583333
         ]
        }
       ],
       "layout": {
        "autosize": true,
        "height": 163.22115384615384,
        "hovermode": "closest",
        "legend": {
         "itemsizing": "constant"
        },
        "margin": {
         "b": 5,
         "l": 5,
         "r": 5,
         "t": 5
        },
        "showlegend": false,
        "template": {
         "data": {
          "bar": [
           {
            "error_x": {
             "color": "#2a3f5f"
            },
            "error_y": {
             "color": "#2a3f5f"
            },
            "marker": {
             "line": {
              "color": "#E5ECF6",
              "width": 0.5
             },
             "pattern": {
              "fillmode": "overlay",
              "size": 10,
              "solidity": 0.2
             }
            },
            "type": "bar"
           }
          ],
          "barpolar": [
           {
            "marker": {
             "line": {
              "color": "#E5ECF6",
              "width": 0.5
             },
             "pattern": {
              "fillmode": "overlay",
              "size": 10,
              "solidity": 0.2
             }
            },
            "type": "barpolar"
           }
          ],
          "carpet": [
           {
            "aaxis": {
             "endlinecolor": "#2a3f5f",
             "gridcolor": "white",
             "linecolor": "white",
             "minorgridcolor": "white",
             "startlinecolor": "#2a3f5f"
            },
            "baxis": {
             "endlinecolor": "#2a3f5f",
             "gridcolor": "white",
             "linecolor": "white",
             "minorgridcolor": "white",
             "startlinecolor": "#2a3f5f"
            },
            "type": "carpet"
           }
          ],
          "choropleth": [
           {
            "colorbar": {
             "outlinewidth": 0,
             "ticks": ""
            },
            "type": "choropleth"
           }
          ],
          "contour": [
           {
            "colorbar": {
             "outlinewidth": 0,
             "ticks": ""
            },
            "colorscale": [
             [
              0.0,
              "#0d0887"
             ],
             [
              0.1111111111111111,
              "#46039f"
             ],
             [
              0.2222222222222222,
              "#7201a8"
             ],
             [
              0.3333333333333333,
              "#9c179e"
             ],
             [
              0.4444444444444444,
              "#bd3786"
             ],
             [
              0.5555555555555556,
              "#d8576b"
             ],
             [
              0.6666666666666666,
              "#ed7953"
             ],
             [
              0.7777777777777778,
              "#fb9f3a"
             ],
             [
              0.8888888888888888,
              "#fdca26"
             ],
             [
              1.0,
              "#f0f921"
             ]
            ],
            "type": "contour"
           }
          ],
          "contourcarpet": [
           {
            "colorbar": {
             "outlinewidth": 0,
             "ticks": ""
            },
            "type": "contourcarpet"
           }
          ],
          "heatmap": [
           {
            "colorbar": {
             "outlinewidth": 0,
             "ticks": ""
            },
            "colorscale": [
             [
              0.0,
              "#0d0887"
             ],
             [
              0.1111111111111111,
              "#46039f"
             ],
             [
              0.2222222222222222,
              "#7201a8"
             ],
             [
              0.3333333333333333,
              "#9c179e"
             ],
             [
              0.4444444444444444,
              "#bd3786"
             ],
             [
              0.5555555555555556,
              "#d8576b"
             ],
             [
              0.6666666666666666,
              "#ed7953"
             ],
             [
              0.7777777777777778,
              "#fb9f3a"
             ],
             [
              0.8888888888888888,
              "#fdca26"
             ],
             [
              1.0,
              "#f0f921"
             ]
            ],
            "type": "heatmap"
           }
          ],
          "histogram": [
           {
            "marker": {
             "pattern": {
              "fillmode": "overlay",
              "size": 10,
              "solidity": 0.2
             }
            },
            "type": "histogram"
           }
          ],
          "histogram2d": [
           {
            "colorbar": {
             "outlinewidth": 0,
             "ticks": ""
            },
            "colorscale": [
             [
              0.0,
              "#0d0887"
             ],
             [
              0.1111111111111111,
              "#46039f"
             ],
             [
              0.2222222222222222,
              "#7201a8"
             ],
             [
              0.3333333333333333,
              "#9c179e"
             ],
             [
              0.4444444444444444,
              "#bd3786"
             ],
             [
              0.5555555555555556,
              "#d8576b"
             ],
             [
              0.6666666666666666,
              "#ed7953"
             ],
             [
              0.7777777777777778,
              "#fb9f3a"
             ],
             [
              0.8888888888888888,
              "#fdca26"
             ],
             [
              1.0,
              "#f0f921"
             ]
            ],
            "type": "histogram2d"
           }
          ],
          "histogram2dcontour": [
           {
            "colorbar": {
             "outlinewidth": 0,
             "ticks": ""
            },
            "colorscale": [
             [
              0.0,
              "#0d0887"
             ],
             [
              0.1111111111111111,
              "#46039f"
             ],
             [
              0.2222222222222222,
              "#7201a8"
             ],
             [
              0.3333333333333333,
              "#9c179e"
             ],
             [
              0.4444444444444444,
              "#bd3786"
             ],
             [
              0.5555555555555556,
              "#d8576b"
             ],
             [
              0.6666666666666666,
              "#ed7953"
             ],
             [
              0.7777777777777778,
              "#fb9f3a"
             ],
             [
              0.8888888888888888,
              "#fdca26"
             ],
             [
              1.0,
              "#f0f921"
             ]
            ],
            "type": "histogram2dcontour"
           }
          ],
          "mesh3d": [
           {
            "colorbar": {
             "outlinewidth": 0,
             "ticks": ""
            },
            "type": "mesh3d"
           }
          ],
          "parcoords": [
           {
            "line": {
             "colorbar": {
              "outlinewidth": 0,
              "ticks": ""
             }
            },
            "type": "parcoords"
           }
          ],
          "pie": [
           {
            "automargin": true,
            "type": "pie"
           }
          ],
          "scatter": [
           {
            "fillpattern": {
             "fillmode": "overlay",
             "size": 10,
             "solidity": 0.2
            },
            "type": "scatter"
           }
          ],
          "scatter3d": [
           {
            "line": {
             "colorbar": {
              "outlinewidth": 0,
              "ticks": ""
             }
            },
            "marker": {
             "colorbar": {
              "outlinewidth": 0,
              "ticks": ""
             }
            },
            "type": "scatter3d"
           }
          ],
          "scattercarpet": [
           {
            "marker": {
             "colorbar": {
              "outlinewidth": 0,
              "ticks": ""
             }
            },
            "type": "scattercarpet"
           }
          ],
          "scattergeo": [
           {
            "marker": {
             "colorbar": {
              "outlinewidth": 0,
              "ticks": ""
             }
            },
            "type": "scattergeo"
           }
          ],
          "scattergl": [
           {
            "marker": {
             "colorbar": {
              "outlinewidth": 0,
              "ticks": ""
             }
            },
            "type": "scattergl"
           }
          ],
          "scattermap": [
           {
            "marker": {
             "colorbar": {
              "outlinewidth": 0,
              "ticks": ""
             }
            },
            "type": "scattermap"
           }
          ],
          "scattermapbox": [
           {
            "marker": {
             "colorbar": {
              "outlinewidth": 0,
              "ticks": ""
             }
            },
            "type": "scattermapbox"
           }
          ],
          "scatterpolar": [
           {
            "marker": {
             "colorbar": {
              "outlinewidth": 0,
              "ticks": ""
             }
            },
            "type": "scatterpolar"
           }
          ],
          "scatterpolargl": [
           {
            "marker": {
             "colorbar": {
              "outlinewidth": 0,
              "ticks": ""
             }
            },
            "type": "scatterpolargl"
           }
          ],
          "scatterternary": [
           {
            "marker": {
             "colorbar": {
              "outlinewidth": 0,
              "ticks": ""
             }
            },
            "type": "scatterternary"
           }
          ],
          "surface": [
           {
            "colorbar": {
             "outlinewidth": 0,
             "ticks": ""
            },
            "colorscale": [
             [
              0.0,
              "#0d0887"
             ],
             [
              0.1111111111111111,
              "#46039f"
             ],
             [
              0.2222222222222222,
              "#7201a8"
             ],
             [
              0.3333333333333333,
              "#9c179e"
             ],
             [
              0.4444444444444444,
              "#bd3786"
             ],
             [
              0.5555555555555556,
              "#d8576b"
             ],
             [
              0.6666666666666666,
              "#ed7953"
             ],
             [
              0.7777777777777778,
              "#fb9f3a"
             ],
             [
              0.8888888888888888,
              "#fdca26"
             ],
             [
              1.0,
              "#f0f921"
             ]
            ],
            "type": "surface"
           }
          ],
          "table": [
           {
            "cells": {
             "fill": {
              "color": "#EBF0F8"
             },
             "line": {
              "color": "white"
             }
            },
            "header": {
             "fill": {
              "color": "#C8D4E3"
             },
             "line": {
              "color": "white"
             }
            },
            "type": "table"
           }
          ]
         },
         "layout": {
          "annotationdefaults": {
           "arrowcolor": "#2a3f5f",
           "arrowhead": 0,
           "arrowwidth": 1
          },
          "autotypenumbers": "strict",
          "coloraxis": {
           "colorbar": {
            "outlinewidth": 0,
            "ticks": ""
           }
          },
          "colorscale": {
           "diverging": [
            [
             0,
             "#8e0152"
            ],
            [
             0.1,
             "#c51b7d"
            ],
            [
             0.2,
             "#de77ae"
            ],
            [
             0.3,
             "#f1b6da"
            ],
            [
             0.4,
             "#fde0ef"
            ],
            [
             0.5,
             "#f7f7f7"
            ],
            [
             0.6,
             "#e6f5d0"
            ],
            [
             0.7,
             "#b8e186"
            ],
            [
             0.8,
             "#7fbc41"
            ],
            [
             0.9,
             "#4d9221"
            ],
            [
             1,
             "#276419"
            ]
           ],
           "sequential": [
            [
             0.0,
             "#0d0887"
            ],
            [
             0.1111111111111111,
             "#46039f"
            ],
            [
             0.2222222222222222,
             "#7201a8"
            ],
            [
             0.3333333333333333,
             "#9c179e"
            ],
            [
             0.4444444444444444,
             "#bd3786"
            ],
            [
             0.5555555555555556,
             "#d8576b"
            ],
            [
             0.6666666666666666,
             "#ed7953"
            ],
            [
             0.7777777777777778,
             "#fb9f3a"
            ],
            [
             0.8888888888888888,
             "#fdca26"
            ],
            [
             1.0,
             "#f0f921"
            ]
           ],
           "sequentialminus": [
            [
             0.0,
             "#0d0887"
            ],
            [
             0.1111111111111111,
             "#46039f"
            ],
            [
             0.2222222222222222,
             "#7201a8"
            ],
            [
             0.3333333333333333,
             "#9c179e"
            ],
            [
             0.4444444444444444,
             "#bd3786"
            ],
            [
             0.5555555555555556,
             "#d8576b"
            ],
            [
             0.6666666666666666,
             "#ed7953"
            ],
            [
             0.7777777777777778,
             "#fb9f3a"
            ],
            [
             0.8888888888888888,
             "#fdca26"
            ],
            [
             1.0,
             "#f0f921"
            ]
           ]
          },
          "colorway": [
           "#636efa",
           "#EF553B",
           "#00cc96",
           "#ab63fa",
           "#FFA15A",
           "#19d3f3",
           "#FF6692",
           "#B6E880",
           "#FF97FF",
           "#FECB52"
          ],
          "font": {
           "color": "#2a3f5f"
          },
          "geo": {
           "bgcolor": "white",
           "lakecolor": "white",
           "landcolor": "#E5ECF6",
           "showlakes": true,
           "showland": true,
           "subunitcolor": "white"
          },
          "hoverlabel": {
           "align": "left"
          },
          "hovermode": "closest",
          "mapbox": {
           "style": "light"
          },
          "paper_bgcolor": "white",
          "plot_bgcolor": "#E5ECF6",
          "polar": {
           "angularaxis": {
            "gridcolor": "white",
            "linecolor": "white",
            "ticks": ""
           },
           "bgcolor": "#E5ECF6",
           "radialaxis": {
            "gridcolor": "white",
            "linecolor": "white",
            "ticks": ""
           }
          },
          "scene": {
           "xaxis": {
            "backgroundcolor": "#E5ECF6",
            "gridcolor": "white",
            "gridwidth": 2,
            "linecolor": "white",
            "showbackground": true,
            "ticks": "",
            "zerolinecolor": "white"
           },
           "yaxis": {
            "backgroundcolor": "#E5ECF6",
            "gridcolor": "white",
            "gridwidth": 2,
            "linecolor": "white",
            "showbackground": true,
            "ticks": "",
            "zerolinecolor": "white"
           },
           "zaxis": {
            "backgroundcolor": "#E5ECF6",
            "gridcolor": "white",
            "gridwidth": 2,
            "linecolor": "white",
            "showbackground": true,
            "ticks": "",
            "zerolinecolor": "white"
           }
          },
          "shapedefaults": {
           "line": {
            "color": "#2a3f5f"
           }
          },
          "ternary": {
           "aaxis": {
            "gridcolor": "white",
            "linecolor": "white",
            "ticks": ""
           },
           "baxis": {
            "gridcolor": "white",
            "linecolor": "white",
            "ticks": ""
           },
           "bgcolor": "#E5ECF6",
           "caxis": {
            "gridcolor": "white",
            "linecolor": "white",
            "ticks": ""
           }
          },
          "title": {
           "x": 0.05
          },
          "xaxis": {
           "automargin": true,
           "gridcolor": "white",
           "linecolor": "white",
           "ticks": "",
           "title": {
            "standoff": 15
           },
           "zerolinecolor": "white",
           "zerolinewidth": 2
          },
          "yaxis": {
           "automargin": true,
           "gridcolor": "white",
           "linecolor": "white",
           "ticks": "",
           "title": {
            "standoff": 15
           },
           "zerolinecolor": "white",
           "zerolinewidth": 2
          }
         }
        },
        "title": {
         "font": {
          "size": 16
         }
        },
        "width": 700.0,
        "xaxis": {
         "showgrid": false,
         "showticklabels": false,
         "zeroline": false
        },
        "yaxis": {
         "showgrid": false,
         "showticklabels": false,
         "zeroline": false
        }
       }
      }
     },
     "metadata": {},
     "output_type": "display_data"
    }
   ],
   "source": [
    "network.switch.loc[0, \"closed\"] = True\n",
    "pp.runpp(network)\n",
    "pp.plotting.plotly.pf_res_plotly(network, auto_open=False)"
   ]
  },
  {
   "cell_type": "code",
   "execution_count": 554,
   "id": "84027753d97ef646",
   "metadata": {
    "ExecuteTime": {
     "end_time": "2025-07-22T01:41:46.542614Z",
     "start_time": "2025-07-22T01:41:46.537752Z"
    }
   },
   "outputs": [
    {
     "data": {
      "text/html": [
       "<div>\n",
       "<style scoped>\n",
       "    .dataframe tbody tr th:only-of-type {\n",
       "        vertical-align: middle;\n",
       "    }\n",
       "\n",
       "    .dataframe tbody tr th {\n",
       "        vertical-align: top;\n",
       "    }\n",
       "\n",
       "    .dataframe thead th {\n",
       "        text-align: right;\n",
       "    }\n",
       "</style>\n",
       "<table border=\"1\" class=\"dataframe\">\n",
       "  <thead>\n",
       "    <tr style=\"text-align: right;\">\n",
       "      <th></th>\n",
       "      <th>vm_pu</th>\n",
       "      <th>va_degree</th>\n",
       "      <th>p_mw</th>\n",
       "      <th>q_mvar</th>\n",
       "    </tr>\n",
       "  </thead>\n",
       "  <tbody>\n",
       "  </tbody>\n",
       "</table>\n",
       "</div>"
      ],
      "text/plain": [
       "Empty DataFrame\n",
       "Columns: [vm_pu, va_degree, p_mw, q_mvar]\n",
       "Index: []"
      ]
     },
     "execution_count": 554,
     "metadata": {},
     "output_type": "execute_result"
    }
   ],
   "source": [
    "network.res_bus[(network.res_bus.vm_pu > 1.05) | (network.res_bus.vm_pu < 0.95)]"
   ]
  },
  {
   "cell_type": "code",
   "execution_count": 555,
   "id": "47dc567694826d91",
   "metadata": {
    "ExecuteTime": {
     "end_time": "2025-07-22T01:41:46.589508Z",
     "start_time": "2025-07-22T01:41:46.585156Z"
    }
   },
   "outputs": [
    {
     "data": {
      "text/html": [
       "<div>\n",
       "<style scoped>\n",
       "    .dataframe tbody tr th:only-of-type {\n",
       "        vertical-align: middle;\n",
       "    }\n",
       "\n",
       "    .dataframe tbody tr th {\n",
       "        vertical-align: top;\n",
       "    }\n",
       "\n",
       "    .dataframe thead th {\n",
       "        text-align: right;\n",
       "    }\n",
       "</style>\n",
       "<table border=\"1\" class=\"dataframe\">\n",
       "  <thead>\n",
       "    <tr style=\"text-align: right;\">\n",
       "      <th></th>\n",
       "      <th>p_from_mw</th>\n",
       "      <th>q_from_mvar</th>\n",
       "      <th>p_to_mw</th>\n",
       "      <th>q_to_mvar</th>\n",
       "      <th>pl_mw</th>\n",
       "      <th>ql_mvar</th>\n",
       "      <th>i_from_ka</th>\n",
       "      <th>i_to_ka</th>\n",
       "      <th>i_ka</th>\n",
       "      <th>vm_from_pu</th>\n",
       "      <th>va_from_degree</th>\n",
       "      <th>vm_to_pu</th>\n",
       "      <th>va_to_degree</th>\n",
       "      <th>loading_percent</th>\n",
       "    </tr>\n",
       "  </thead>\n",
       "  <tbody>\n",
       "  </tbody>\n",
       "</table>\n",
       "</div>"
      ],
      "text/plain": [
       "Empty DataFrame\n",
       "Columns: [p_from_mw, q_from_mvar, p_to_mw, q_to_mvar, pl_mw, ql_mvar, i_from_ka, i_to_ka, i_ka, vm_from_pu, va_from_degree, vm_to_pu, va_to_degree, loading_percent]\n",
       "Index: []"
      ]
     },
     "execution_count": 555,
     "metadata": {},
     "output_type": "execute_result"
    }
   ],
   "source": [
    "network.res_line[network.res_line.loading_percent > 100]"
   ]
  },
  {
   "cell_type": "markdown",
   "id": "6422ec225eb0758b",
   "metadata": {},
   "source": "Violations can be resolved by closing switch `Tie_Line_Switch_50-59` and `Tie_Line_Switch_11-44`"
  },
  {
   "cell_type": "code",
   "execution_count": 556,
   "id": "58de3c3065d1f49c",
   "metadata": {
    "ExecuteTime": {
     "end_time": "2025-07-22T01:41:46.668038Z",
     "start_time": "2025-07-22T01:41:46.647594Z"
    }
   },
   "outputs": [],
   "source": [
    "test_case_dir = test_dir / \"ieee69_2_medium_loads\"\n",
    "test_case_dir.mkdir(parents=True, exist_ok=True)\n",
    "\n",
    "pp.to_json(test_network1, test_case_dir / \"network.json\")\n",
    "\n",
    "with open(test_case_dir / \"metadata.json\", \"+w\") as f:\n",
    "    json.dump(\n",
    "        {\n",
    "            \"base_network\": \"ieee69\",\n",
    "            \"severity\": \"light\",\n",
    "            \"test_case\": \"2_medium_loads\",\n",
    "            \"solutions\": [\n",
    "                {\n",
    "                    \"switch\": [\n",
    "                        {\"name\": \"Tie_Line_Switch_50-59\", \"closed\": True},\n",
    "                        {\"name\": \"Tie_Line_Switch_11-44\", \"closed\": True},\n",
    "                    ],\n",
    "                }\n",
    "            ],\n",
    "        },\n",
    "        f,\n",
    "        indent=2,\n",
    "    )"
   ]
  },
  {
   "cell_type": "markdown",
   "id": "e1e30ffb25ade4d2",
   "metadata": {},
   "source": "## Test case 2: One large load"
  },
  {
   "cell_type": "code",
   "execution_count": 557,
   "id": "80d0318611974e2b",
   "metadata": {
    "ExecuteTime": {
     "end_time": "2025-07-22T01:41:46.840247Z",
     "start_time": "2025-07-22T01:41:46.717274Z"
    }
   },
   "outputs": [
    {
     "data": {
      "application/vnd.plotly.v1+json": {
       "config": {
        "plotlyServerURL": "https://plot.ly"
       },
       "data": [
        {
         "hoverinfo": "text",
         "legendgroup": "lines",
         "line": {
          "color": "rgb(127.5,0.0,0.0)",
          "dash": "solid",
          "width": 2
         },
         "mode": "lines",
         "name": "lines",
         "showlegend": true,
         "text": "Line_1.0-2.0<br />I = 132.569 %<br />I_from = 0.53 kA<br />I_to = 0.53 kA<br />",
         "type": "scatter",
         "x": [
          0.0,
          0.5,
          1.0
         ],
         "y": [
          0.0,
          0.0,
          0.0
         ]
        },
        {
         "hoverinfo": "text",
         "legendgroup": "lines",
         "line": {
          "color": "rgb(127.5,0.0,0.0)",
          "dash": "solid",
          "width": 2
         },
         "mode": "lines",
         "name": "lines",
         "showlegend": false,
         "text": "Line_2.0-3.0<br />I = 132.569 %<br />I_from = 0.53 kA<br />I_to = 0.53 kA<br />",
         "type": "scatter",
         "x": [
          1.0,
          1.5,
          2.0
         ],
         "y": [
          0.0,
          0.0,
          0.0
         ]
        },
        {
         "hoverinfo": "text",
         "legendgroup": "lines",
         "line": {
          "color": "rgb(124.99999999999999,255.0,121.77419354838709)",
          "dash": "solid",
          "width": 2
         },
         "mode": "lines",
         "name": "lines",
         "showlegend": false,
         "text": "Line_3.0-4.0<br />I = 50.339 %<br />I_from = 0.201 kA<br />I_to = 0.201 kA<br />",
         "type": "scatter",
         "x": [
          2.0,
          2.5,
          3.0
         ],
         "y": [
          0.0,
          -0.666666665,
          -1.33333333
         ]
        },
        {
         "hoverinfo": "text",
         "legendgroup": "lines",
         "line": {
          "color": "rgb(31.4516129032258,255.0,215.3225806451613)",
          "dash": "solid",
          "width": 2
         },
         "mode": "lines",
         "name": "lines",
         "showlegend": false,
         "text": "Line_4.0-5.0<br />I = 38.747 %<br />I_from = 0.155 kA<br />I_to = 0.155 kA<br />",
         "type": "scatter",
         "x": [
          3.0,
          3.5,
          4.0
         ],
         "y": [
          -1.33333333,
          -1.58333333,
          -1.83333333
         ]
        },
        {
         "hoverinfo": "text",
         "legendgroup": "lines",
         "line": {
          "color": "rgb(31.4516129032258,255.0,215.3225806451613)",
          "dash": "solid",
          "width": 2
         },
         "mode": "lines",
         "name": "lines",
         "showlegend": false,
         "text": "Line_5.0-6.0<br />I = 38.747 %<br />I_from = 0.155 kA<br />I_to = 0.155 kA<br />",
         "type": "scatter",
         "x": [
          4.0,
          4.5,
          5.0
         ],
         "y": [
          -1.83333333,
          -1.83333333,
          -1.83333333
         ]
        },
        {
         "hoverinfo": "text",
         "legendgroup": "lines",
         "line": {
          "color": "rgb(31.4516129032258,255.0,215.3225806451613)",
          "dash": "solid",
          "width": 2
         },
         "mode": "lines",
         "name": "lines",
         "showlegend": false,
         "text": "Line_6.0-7.0<br />I = 38.709 %<br />I_from = 0.155 kA<br />I_to = 0.155 kA<br />",
         "type": "scatter",
         "x": [
          5.0,
          5.5,
          6.0
         ],
         "y": [
          -1.83333333,
          -1.83333333,
          -1.83333333
         ]
        },
        {
         "hoverinfo": "text",
         "legendgroup": "lines",
         "line": {
          "color": "rgb(24.999999999999996,255.0,221.7741935483871)",
          "dash": "solid",
          "width": 2
         },
         "mode": "lines",
         "name": "lines",
         "showlegend": false,
         "text": "Line_7.0-8.0<br />I = 38.143 %<br />I_from = 0.153 kA<br />I_to = 0.153 kA<br />",
         "type": "scatter",
         "x": [
          6.0,
          6.5,
          7.0
         ],
         "y": [
          -1.83333333,
          -1.83333333,
          -1.83333333
         ]
        },
        {
         "hoverinfo": "text",
         "legendgroup": "lines",
         "line": {
          "color": "rgb(12.096774193548386,244.5,234.67741935483872)",
          "dash": "solid",
          "width": 2
         },
         "mode": "lines",
         "name": "lines",
         "showlegend": false,
         "text": "Line_8.0-9.0<br />I = 36.49 %<br />I_from = 0.146 kA<br />I_to = 0.146 kA<br />",
         "type": "scatter",
         "x": [
          7.0,
          7.5,
          8.0
         ],
         "y": [
          -1.83333333,
          -2.30208333,
          -2.77083333
         ]
        },
        {
         "hoverinfo": "text",
         "legendgroup": "lines",
         "line": {
          "color": "rgb(0.0,0.0,250.22727272727272)",
          "dash": "solid",
          "width": 2
         },
         "mode": "lines",
         "name": "lines",
         "showlegend": false,
         "text": "Line_9.0-10.0<br />I = 10.674 %<br />I_from = 0.043 kA<br />I_to = 0.043 kA<br />",
         "type": "scatter",
         "x": [
          8.0,
          8.5,
          9.0
         ],
         "y": [
          -2.77083333,
          -3.20833333,
          -3.64583333
         ]
        },
        {
         "hoverinfo": "text",
         "legendgroup": "lines",
         "line": {
          "color": "rgb(0.0,80.5,255.0)",
          "dash": "solid",
          "width": 2
         },
         "mode": "lines",
         "name": "lines",
         "showlegend": false,
         "text": "Line_10.0-11.0<br />I = 20.579 %<br />I_from = 0.041 kA<br />I_to = 0.041 kA<br />",
         "type": "scatter",
         "x": [
          9.0,
          9.5,
          10.0
         ],
         "y": [
          -3.64583333,
          -3.64583333,
          -3.64583333
         ]
        },
        {
         "hoverinfo": "text",
         "legendgroup": "lines",
         "line": {
          "color": "rgb(0.0,28.5,255.0)",
          "dash": "solid",
          "width": 2
         },
         "mode": "lines",
         "name": "lines",
         "showlegend": false,
         "text": "Line_11.0-12.0<br />I = 15.511 %<br />I_from = 0.031 kA<br />I_to = 0.031 kA<br />",
         "type": "scatter",
         "x": [
          10.0,
          10.5,
          11.0
         ],
         "y": [
          -3.64583333,
          -4.02083333,
          -4.39583333
         ]
        },
        {
         "hoverinfo": "text",
         "legendgroup": "lines",
         "line": {
          "color": "rgb(0.0,0.0,241.13636363636363)",
          "dash": "solid",
          "width": 2
         },
         "mode": "lines",
         "name": "lines",
         "showlegend": false,
         "text": "Line_12.0-13.0<br />I = 9.871 %<br />I_from = 0.02 kA<br />I_to = 0.02 kA<br />",
         "type": "scatter",
         "x": [
          11.0,
          11.5,
          12.0
         ],
         "y": [
          -4.39583333,
          -4.64583333,
          -4.89583333
         ]
        },
        {
         "hoverinfo": "text",
         "legendgroup": "lines",
         "line": {
          "color": "rgb(0.0,0.0,236.59090909090907)",
          "dash": "solid",
          "width": 2
         },
         "mode": "lines",
         "name": "lines",
         "showlegend": false,
         "text": "Line_13.0-14.0<br />I = 9.655 %<br />I_from = 0.019 kA<br />I_to = 0.019 kA<br />",
         "type": "scatter",
         "x": [
          12.0,
          12.5,
          13.0
         ],
         "y": [
          -4.89583333,
          -4.89583333,
          -4.89583333
         ]
        },
        {
         "hoverinfo": "text",
         "legendgroup": "lines",
         "line": {
          "color": "rgb(0.0,0.0,236.59090909090907)",
          "dash": "solid",
          "width": 2
         },
         "mode": "lines",
         "name": "lines",
         "showlegend": false,
         "text": "Line_14.0-15.0<br />I = 9.432 %<br />I_from = 0.019 kA<br />I_to = 0.019 kA<br />",
         "type": "scatter",
         "x": [
          13.0,
          13.5,
          14.0
         ],
         "y": [
          -4.89583333,
          -4.89583333,
          -4.89583333
         ]
        },
        {
         "hoverinfo": "text",
         "legendgroup": "lines",
         "line": {
          "color": "rgb(0.0,0.0,236.59090909090907)",
          "dash": "solid",
          "width": 2
         },
         "mode": "lines",
         "name": "lines",
         "showlegend": false,
         "text": "Line_15.0-16.0<br />I = 9.432 %<br />I_from = 0.019 kA<br />I_to = 0.019 kA<br />",
         "type": "scatter",
         "x": [
          14.0,
          14.5,
          15.0
         ],
         "y": [
          -4.89583333,
          -4.89583333,
          -4.89583333
         ]
        },
        {
         "hoverinfo": "text",
         "legendgroup": "lines",
         "line": {
          "color": "rgb(0.0,0.0,218.4090909090909)",
          "dash": "solid",
          "width": 2
         },
         "mode": "lines",
         "name": "lines",
         "showlegend": false,
         "text": "Line_16.0-17.0<br />I = 8.177 %<br />I_from = 0.016 kA<br />I_to = 0.016 kA<br />",
         "type": "scatter",
         "x": [
          15.0,
          15.5,
          16.0
         ],
         "y": [
          -4.89583333,
          -4.89583333,
          -4.89583333
         ]
        },
        {
         "hoverinfo": "text",
         "legendgroup": "lines",
         "line": {
          "color": "rgb(0.0,0.0,200.22727272727272)",
          "dash": "solid",
          "width": 2
         },
         "mode": "lines",
         "name": "lines",
         "showlegend": false,
         "text": "Line_17.0-18.0<br />I = 6.579 %<br />I_from = 0.013 kA<br />I_to = 0.013 kA<br />",
         "type": "scatter",
         "x": [
          16.0,
          16.5,
          17.0
         ],
         "y": [
          -4.89583333,
          -4.89583333,
          -4.89583333
         ]
        },
        {
         "hoverinfo": "text",
         "legendgroup": "lines",
         "line": {
          "color": "rgb(0.0,0.0,182.04545454545453)",
          "dash": "solid",
          "width": 2
         },
         "mode": "lines",
         "name": "lines",
         "showlegend": false,
         "text": "Line_18.0-19.0<br />I = 4.983 %<br />I_from = 0.01 kA<br />I_to = 0.01 kA<br />",
         "type": "scatter",
         "x": [
          17.0,
          17.5,
          18.0
         ],
         "y": [
          -4.89583333,
          -4.89583333,
          -4.89583333
         ]
        },
        {
         "hoverinfo": "text",
         "legendgroup": "lines",
         "line": {
          "color": "rgb(0.0,0.0,182.04545454545453)",
          "dash": "solid",
          "width": 2
         },
         "mode": "lines",
         "name": "lines",
         "showlegend": false,
         "text": "Line_19.0-20.0<br />I = 4.983 %<br />I_from = 0.01 kA<br />I_to = 0.01 kA<br />",
         "type": "scatter",
         "x": [
          18.0,
          18.5,
          19.0
         ],
         "y": [
          -4.89583333,
          -4.89583333,
          -4.89583333
         ]
        },
        {
         "hoverinfo": "text",
         "legendgroup": "lines",
         "line": {
          "color": "rgb(0.0,0.0,182.04545454545453)",
          "dash": "solid",
          "width": 2
         },
         "mode": "lines",
         "name": "lines",
         "showlegend": false,
         "text": "Line_20.0-21.0<br />I = 4.956 %<br />I_from = 0.01 kA<br />I_to = 0.01 kA<br />",
         "type": "scatter",
         "x": [
          19.0,
          19.5,
          20.0
         ],
         "y": [
          -4.89583333,
          -4.89583333,
          -4.89583333
         ]
        },
        {
         "hoverinfo": "text",
         "legendgroup": "lines",
         "line": {
          "color": "rgb(0.0,0.0,145.6818181818182)",
          "dash": "solid",
          "width": 2
         },
         "mode": "lines",
         "name": "lines",
         "showlegend": false,
         "text": "Line_21.0-22.0<br />I = 1.729 %<br />I_from = 0.003 kA<br />I_to = 0.003 kA<br />",
         "type": "scatter",
         "x": [
          20.0,
          20.5,
          21.0
         ],
         "y": [
          -4.89583333,
          -4.89583333,
          -4.89583333
         ]
        },
        {
         "hoverinfo": "text",
         "legendgroup": "lines",
         "line": {
          "color": "rgb(0.0,0.0,145.6818181818182)",
          "dash": "solid",
          "width": 2
         },
         "mode": "lines",
         "name": "lines",
         "showlegend": false,
         "text": "Line_22.0-23.0<br />I = 1.589 %<br />I_from = 0.003 kA<br />I_to = 0.003 kA<br />",
         "type": "scatter",
         "x": [
          21.0,
          21.5,
          22.0
         ],
         "y": [
          -4.89583333,
          -4.89583333,
          -4.89583333
         ]
        },
        {
         "hoverinfo": "text",
         "legendgroup": "lines",
         "line": {
          "color": "rgb(0.0,0.0,145.6818181818182)",
          "dash": "solid",
          "width": 2
         },
         "mode": "lines",
         "name": "lines",
         "showlegend": false,
         "text": "Line_23.0-24.0<br />I = 1.589 %<br />I_from = 0.003 kA<br />I_to = 0.003 kA<br />",
         "type": "scatter",
         "x": [
          22.0,
          22.5,
          23.0
         ],
         "y": [
          -4.89583333,
          -4.89583333,
          -4.89583333
         ]
        },
        {
         "hoverinfo": "text",
         "legendgroup": "lines",
         "line": {
          "color": "rgb(0.0,0.0,136.5909090909091)",
          "dash": "solid",
          "width": 2
         },
         "mode": "lines",
         "name": "lines",
         "showlegend": false,
         "text": "Line_24.0-25.0<br />I = 0.794 %<br />I_from = 0.002 kA<br />I_to = 0.002 kA<br />",
         "type": "scatter",
         "x": [
          23.0,
          23.5,
          24.0
         ],
         "y": [
          -4.89583333,
          -4.89583333,
          -4.89583333
         ]
        },
        {
         "hoverinfo": "text",
         "legendgroup": "lines",
         "line": {
          "color": "rgb(0.0,0.0,136.5909090909091)",
          "dash": "solid",
          "width": 2
         },
         "mode": "lines",
         "name": "lines",
         "showlegend": false,
         "text": "Line_25.0-26.0<br />I = 0.794 %<br />I_from = 0.002 kA<br />I_to = 0.002 kA<br />",
         "type": "scatter",
         "x": [
          24.0,
          24.5,
          25.0
         ],
         "y": [
          -4.89583333,
          -4.89583333,
          -4.89583333
         ]
        },
        {
         "hoverinfo": "text",
         "legendgroup": "lines",
         "line": {
          "color": "rgb(0.0,0.0,132.04545454545453)",
          "dash": "solid",
          "width": 2
         },
         "mode": "lines",
         "name": "lines",
         "showlegend": false,
         "text": "Line_26.0-27.0<br />I = 0.397 %<br />I_from = 0.001 kA<br />I_to = 0.001 kA<br />",
         "type": "scatter",
         "x": [
          25.0,
          25.5,
          26.0
         ],
         "y": [
          -4.89583333,
          -4.89583333,
          -4.89583333
         ]
        },
        {
         "hoverinfo": "text",
         "legendgroup": "lines",
         "line": {
          "color": "rgb(0.0,0.0,154.77272727272728)",
          "dash": "solid",
          "width": 2
         },
         "mode": "lines",
         "name": "lines",
         "showlegend": false,
         "text": "Line_3.0-28.0<br />I = 2.488 %<br />I_from = 0.005 kA<br />I_to = 0.005 kA<br />",
         "type": "scatter",
         "x": [
          2.0,
          2.5,
          3.0
         ],
         "y": [
          0.0,
          0.083333335,
          0.16666667
         ]
        },
        {
         "hoverinfo": "text",
         "legendgroup": "lines",
         "line": {
          "color": "rgb(0.0,0.0,145.6818181818182)",
          "dash": "solid",
          "width": 2
         },
         "mode": "lines",
         "name": "lines",
         "showlegend": false,
         "text": "Line_28.0-29.0<br />I = 1.781 %<br />I_from = 0.004 kA<br />I_to = 0.004 kA<br />",
         "type": "scatter",
         "x": [
          3.0,
          3.5,
          4.0
         ],
         "y": [
          0.16666667,
          0.16666667,
          0.16666667
         ]
        },
        {
         "hoverinfo": "text",
         "legendgroup": "lines",
         "line": {
          "color": "rgb(0.0,0.0,136.5909090909091)",
          "dash": "solid",
          "width": 2
         },
         "mode": "lines",
         "name": "lines",
         "showlegend": false,
         "text": "Line_29.0-30.0<br />I = 1.073 %<br />I_from = 0.002 kA<br />I_to = 0.002 kA<br />",
         "type": "scatter",
         "x": [
          4.0,
          4.5,
          5.0
         ],
         "y": [
          0.16666667,
          0.16666667,
          0.16666667
         ]
        },
        {
         "hoverinfo": "text",
         "legendgroup": "lines",
         "line": {
          "color": "rgb(0.0,0.0,136.5909090909091)",
          "dash": "solid",
          "width": 2
         },
         "mode": "lines",
         "name": "lines",
         "showlegend": false,
         "text": "Line_30.0-31.0<br />I = 1.073 %<br />I_from = 0.002 kA<br />I_to = 0.002 kA<br />",
         "type": "scatter",
         "x": [
          5.0,
          5.5,
          6.0
         ],
         "y": [
          0.16666667,
          0.16666667,
          0.16666667
         ]
        },
        {
         "hoverinfo": "text",
         "legendgroup": "lines",
         "line": {
          "color": "rgb(0.0,0.0,136.5909090909091)",
          "dash": "solid",
          "width": 2
         },
         "mode": "lines",
         "name": "lines",
         "showlegend": false,
         "text": "Line_31.0-32.0<br />I = 1.073 %<br />I_from = 0.002 kA<br />I_to = 0.002 kA<br />",
         "type": "scatter",
         "x": [
          6.0,
          6.5,
          7.0
         ],
         "y": [
          0.16666667,
          0.16666667,
          0.16666667
         ]
        },
        {
         "hoverinfo": "text",
         "legendgroup": "lines",
         "line": {
          "color": "rgb(0.0,0.0,136.5909090909091)",
          "dash": "solid",
          "width": 2
         },
         "mode": "lines",
         "name": "lines",
         "showlegend": false,
         "text": "Line_32.0-33.0<br />I = 1.073 %<br />I_from = 0.002 kA<br />I_to = 0.002 kA<br />",
         "type": "scatter",
         "x": [
          7.0,
          7.5,
          8.0
         ],
         "y": [
          0.16666667,
          0.16666667,
          0.16666667
         ]
        },
        {
         "hoverinfo": "text",
         "legendgroup": "lines",
         "line": {
          "color": "rgb(0.0,0.0,132.04545454545453)",
          "dash": "solid",
          "width": 2
         },
         "mode": "lines",
         "name": "lines",
         "showlegend": false,
         "text": "Line_33.0-34.0<br />I = 0.692 %<br />I_from = 0.001 kA<br />I_to = 0.001 kA<br />",
         "type": "scatter",
         "x": [
          8.0,
          8.5,
          9.0
         ],
         "y": [
          0.16666667,
          0.16666667,
          0.16666667
         ]
        },
        {
         "hoverinfo": "text",
         "legendgroup": "lines",
         "line": {
          "color": "rgb(0.0,0.0,127.5)",
          "dash": "solid",
          "width": 2
         },
         "mode": "lines",
         "name": "lines",
         "showlegend": false,
         "text": "Line_34.0-35.0<br />I = 0.16 %<br />I_from = 0.0 kA<br />I_to = 0.0 kA<br />",
         "type": "scatter",
         "x": [
          9.0,
          9.5,
          10.0
         ],
         "y": [
          0.16666667,
          0.16666667,
          0.16666667
         ]
        },
        {
         "hoverinfo": "text",
         "legendgroup": "lines",
         "line": {
          "color": "rgb(127.5,0.0,0.0)",
          "dash": "solid",
          "width": 2
         },
         "mode": "lines",
         "name": "lines",
         "showlegend": false,
         "text": "Line_3.0-36.0<br />I = 170.4 %<br />I_from = 0.341 kA<br />I_to = 0.341 kA<br />",
         "type": "scatter",
         "x": [
          2.0,
          2.5,
          3.0
         ],
         "y": [
          0.0,
          0.583333335,
          1.16666667
         ]
        },
        {
         "hoverinfo": "text",
         "legendgroup": "lines",
         "line": {
          "color": "rgb(127.5,0.0,0.0)",
          "dash": "solid",
          "width": 2
         },
         "mode": "lines",
         "name": "lines",
         "showlegend": false,
         "text": "Line_36.0-37.0<br />I = 169.789 %<br />I_from = 0.34 kA<br />I_to = 0.34 kA<br />",
         "type": "scatter",
         "x": [
          3.0,
          3.5,
          4.0
         ],
         "y": [
          1.16666667,
          1.16666667,
          1.16666667
         ]
        },
        {
         "hoverinfo": "text",
         "legendgroup": "lines",
         "line": {
          "color": "rgb(127.5,0.0,0.0)",
          "dash": "solid",
          "width": 2
         },
         "mode": "lines",
         "name": "lines",
         "showlegend": false,
         "text": "Line_37.0-38.0<br />I = 169.178 %<br />I_from = 0.338 kA<br />I_to = 0.338 kA<br />",
         "type": "scatter",
         "x": [
          4.0,
          4.5,
          5.0
         ],
         "y": [
          1.16666667,
          1.16666667,
          1.16666667
         ]
        },
        {
         "hoverinfo": "text",
         "legendgroup": "lines",
         "line": {
          "color": "rgb(127.5,0.0,0.0)",
          "dash": "solid",
          "width": 2
         },
         "mode": "lines",
         "name": "lines",
         "showlegend": false,
         "text": "Line_38.0-39.0<br />I = 169.178 %<br />I_from = 0.338 kA<br />I_to = 0.338 kA<br />",
         "type": "scatter",
         "x": [
          5.0,
          5.5,
          6.0
         ],
         "y": [
          1.16666667,
          1.16666667,
          1.16666667
         ]
        },
        {
         "hoverinfo": "text",
         "legendgroup": "lines",
         "line": {
          "color": "rgb(127.5,0.0,0.0)",
          "dash": "solid",
          "width": 2
         },
         "mode": "lines",
         "name": "lines",
         "showlegend": false,
         "text": "Line_39.0-40.0<br />I = 168.615 %<br />I_from = 0.337 kA<br />I_to = 0.337 kA<br />",
         "type": "scatter",
         "x": [
          6.0,
          6.5,
          7.0
         ],
         "y": [
          1.16666667,
          1.16666667,
          1.16666667
         ]
        },
        {
         "hoverinfo": "text",
         "legendgroup": "lines",
         "line": {
          "color": "rgb(127.5,0.0,0.0)",
          "dash": "solid",
          "width": 2
         },
         "mode": "lines",
         "name": "lines",
         "showlegend": false,
         "text": "Line_40.0-41.0<br />I = 168.052 %<br />I_from = 0.336 kA<br />I_to = 0.336 kA<br />",
         "type": "scatter",
         "x": [
          7.0,
          7.5,
          8.0
         ],
         "y": [
          1.16666667,
          1.16666667,
          1.16666667
         ]
        },
        {
         "hoverinfo": "text",
         "legendgroup": "lines",
         "line": {
          "color": "rgb(127.5,0.0,0.0)",
          "dash": "solid",
          "width": 2
         },
         "mode": "lines",
         "name": "lines",
         "showlegend": false,
         "text": "Line_41.0-42.0<br />I = 168.023 %<br />I_from = 0.336 kA<br />I_to = 0.336 kA<br />",
         "type": "scatter",
         "x": [
          8.0,
          8.5,
          9.0
         ],
         "y": [
          1.16666667,
          1.16666667,
          1.16666667
         ]
        },
        {
         "hoverinfo": "text",
         "legendgroup": "lines",
         "line": {
          "color": "rgb(127.5,0.0,0.0)",
          "dash": "solid",
          "width": 2
         },
         "mode": "lines",
         "name": "lines",
         "showlegend": false,
         "text": "Line_42.0-43.0<br />I = 168.023 %<br />I_from = 0.336 kA<br />I_to = 0.336 kA<br />",
         "type": "scatter",
         "x": [
          9.0,
          9.5,
          10.0
         ],
         "y": [
          1.16666667,
          1.16666667,
          1.16666667
         ]
        },
        {
         "hoverinfo": "text",
         "legendgroup": "lines",
         "line": {
          "color": "rgb(127.5,0.0,0.0)",
          "dash": "solid",
          "width": 2
         },
         "mode": "lines",
         "name": "lines",
         "showlegend": false,
         "text": "Line_43.0-44.0<br />I = 167.88 %<br />I_from = 0.336 kA<br />I_to = 0.336 kA<br />",
         "type": "scatter",
         "x": [
          10.0,
          10.5,
          11.0
         ],
         "y": [
          1.16666667,
          1.16666667,
          1.16666667
         ]
        },
        {
         "hoverinfo": "text",
         "legendgroup": "lines",
         "line": {
          "color": "rgb(127.5,0.0,0.0)",
          "dash": "solid",
          "width": 2
         },
         "mode": "lines",
         "name": "lines",
         "showlegend": false,
         "text": "Line_44.0-45.0<br />I = 167.88 %<br />I_from = 0.336 kA<br />I_to = 0.336 kA<br />",
         "type": "scatter",
         "x": [
          11.0,
          11.5,
          12.0
         ],
         "y": [
          1.16666667,
          1.16666667,
          1.16666667
         ]
        },
        {
         "hoverinfo": "text",
         "legendgroup": "lines",
         "line": {
          "color": "rgb(127.5,0.0,0.0)",
          "dash": "solid",
          "width": 2
         },
         "mode": "lines",
         "name": "lines",
         "showlegend": false,
         "text": "Line_45.0-46.0<br />I = 166.946 %<br />I_from = 0.334 kA<br />I_to = 0.334 kA<br />",
         "type": "scatter",
         "x": [
          12.0,
          12.5,
          13.0
         ],
         "y": [
          1.16666667,
          1.16666667,
          1.16666667
         ]
        },
        {
         "hoverinfo": "text",
         "legendgroup": "lines",
         "line": {
          "color": "rgb(0.0,28.5,255.0)",
          "dash": "solid",
          "width": 2
         },
         "mode": "lines",
         "name": "lines",
         "showlegend": false,
         "text": "Line_4.0-47.0<br />I = 15.459 %<br />I_from = 0.046 kA<br />I_to = 0.046 kA<br />",
         "type": "scatter",
         "x": [
          3.0,
          3.5,
          4.0
         ],
         "y": [
          -1.33333333,
          -1.08333333,
          -0.83333333
         ]
        },
        {
         "hoverinfo": "text",
         "legendgroup": "lines",
         "line": {
          "color": "rgb(0.0,28.5,255.0)",
          "dash": "solid",
          "width": 2
         },
         "mode": "lines",
         "name": "lines",
         "showlegend": false,
         "text": "Line_47.0-48.0<br />I = 15.459 %<br />I_from = 0.046 kA<br />I_to = 0.046 kA<br />",
         "type": "scatter",
         "x": [
          4.0,
          4.5,
          5.0
         ],
         "y": [
          -0.83333333,
          -0.83333333,
          -0.83333333
         ]
        },
        {
         "hoverinfo": "text",
         "legendgroup": "lines",
         "line": {
          "color": "rgb(0.0,12.5,255.0)",
          "dash": "solid",
          "width": 2
         },
         "mode": "lines",
         "name": "lines",
         "showlegend": false,
         "text": "Line_48.0-49.0<br />I = 14.024 %<br />I_from = 0.042 kA<br />I_to = 0.042 kA<br />",
         "type": "scatter",
         "x": [
          5.0,
          5.5,
          6.0
         ],
         "y": [
          -0.83333333,
          -0.83333333,
          -0.83333333
         ]
        },
        {
         "hoverinfo": "text",
         "legendgroup": "lines",
         "line": {
          "color": "rgb(0.0,0.0,204.77272727272725)",
          "dash": "solid",
          "width": 2
         },
         "mode": "lines",
         "name": "lines",
         "showlegend": false,
         "text": "Line_49.0-50.0<br />I = 7.014 %<br />I_from = 0.021 kA<br />I_to = 0.021 kA<br />",
         "type": "scatter",
         "x": [
          6.0,
          6.5,
          7.0
         ],
         "y": [
          -0.83333333,
          -0.83333333,
          -0.83333333
         ]
        },
        {
         "hoverinfo": "text",
         "legendgroup": "lines",
         "line": {
          "color": "rgb(0.0,0.0,141.13636363636363)",
          "dash": "solid",
          "width": 2
         },
         "mode": "lines",
         "name": "lines",
         "showlegend": false,
         "text": "Line_8.0-51.0<br />I = 1.218 %<br />I_from = 0.002 kA<br />I_to = 0.002 kA<br />",
         "type": "scatter",
         "x": [
          7.0,
          7.5,
          8.0
         ],
         "y": [
          -1.83333333,
          -1.36458333,
          -0.89583333
         ]
        },
        {
         "hoverinfo": "text",
         "legendgroup": "lines",
         "line": {
          "color": "rgb(0.0,0.0,127.5)",
          "dash": "solid",
          "width": 2
         },
         "mode": "lines",
         "name": "lines",
         "showlegend": false,
         "text": "Line_51.0-52.0<br />I = 0.102 %<br />I_from = 0.0 kA<br />I_to = 0.0 kA<br />",
         "type": "scatter",
         "x": [
          8.0,
          8.5,
          9.0
         ],
         "y": [
          -0.89583333,
          -0.89583333,
          -0.89583333
         ]
        },
        {
         "hoverinfo": "text",
         "legendgroup": "lines",
         "line": {
          "color": "rgb(0.0,216.5,255.0)",
          "dash": "solid",
          "width": 2
         },
         "mode": "lines",
         "name": "lines",
         "showlegend": false,
         "text": "Line_9.0-53.0<br />I = 33.86 %<br />I_from = 0.102 kA<br />I_to = 0.102 kA<br />",
         "type": "scatter",
         "x": [
          8.0,
          8.5,
          9.0
         ],
         "y": [
          -2.77083333,
          -2.33333333,
          -1.89583333
         ]
        },
        {
         "hoverinfo": "text",
         "legendgroup": "lines",
         "line": {
          "color": "rgb(0.0,216.5,255.0)",
          "dash": "solid",
          "width": 2
         },
         "mode": "lines",
         "name": "lines",
         "showlegend": false,
         "text": "Line_53.0-54.0<br />I = 33.776 %<br />I_from = 0.101 kA<br />I_to = 0.101 kA<br />",
         "type": "scatter",
         "x": [
          9.0,
          9.5,
          10.0
         ],
         "y": [
          -1.89583333,
          -1.89583333,
          -1.89583333
         ]
        },
        {
         "hoverinfo": "text",
         "legendgroup": "lines",
         "line": {
          "color": "rgb(0.0,212.5,255.0)",
          "dash": "solid",
          "width": 2
         },
         "mode": "lines",
         "name": "lines",
         "showlegend": false,
         "text": "Line_54.0-55.0<br />I = 33.283 %<br />I_from = 0.1 kA<br />I_to = 0.1 kA<br />",
         "type": "scatter",
         "x": [
          10.0,
          10.5,
          11.0
         ],
         "y": [
          -1.89583333,
          -1.89583333,
          -1.89583333
         ]
        },
        {
         "hoverinfo": "text",
         "legendgroup": "lines",
         "line": {
          "color": "rgb(0.0,208.5,255.0)",
          "dash": "solid",
          "width": 2
         },
         "mode": "lines",
         "name": "lines",
         "showlegend": false,
         "text": "Line_55.0-56.0<br />I = 32.833 %<br />I_from = 0.098 kA<br />I_to = 0.098 kA<br />",
         "type": "scatter",
         "x": [
          11.0,
          11.5,
          12.0
         ],
         "y": [
          -1.89583333,
          -1.89583333,
          -1.89583333
         ]
        },
        {
         "hoverinfo": "text",
         "legendgroup": "lines",
         "line": {
          "color": "rgb(0.0,208.5,255.0)",
          "dash": "solid",
          "width": 2
         },
         "mode": "lines",
         "name": "lines",
         "showlegend": false,
         "text": "Line_56.0-57.0<br />I = 32.833 %<br />I_from = 0.098 kA<br />I_to = 0.098 kA<br />",
         "type": "scatter",
         "x": [
          12.0,
          12.5,
          13.0
         ],
         "y": [
          -1.89583333,
          -1.89583333,
          -1.89583333
         ]
        },
        {
         "hoverinfo": "text",
         "legendgroup": "lines",
         "line": {
          "color": "rgb(0.0,208.5,255.0)",
          "dash": "solid",
          "width": 2
         },
         "mode": "lines",
         "name": "lines",
         "showlegend": false,
         "text": "Line_57.0-58.0<br />I = 32.833 %<br />I_from = 0.098 kA<br />I_to = 0.098 kA<br />",
         "type": "scatter",
         "x": [
          13.0,
          13.5,
          14.0
         ],
         "y": [
          -1.89583333,
          -1.89583333,
          -1.89583333
         ]
        },
        {
         "hoverinfo": "text",
         "legendgroup": "lines",
         "line": {
          "color": "rgb(0.0,208.5,255.0)",
          "dash": "solid",
          "width": 2
         },
         "mode": "lines",
         "name": "lines",
         "showlegend": false,
         "text": "Line_58.0-59.0<br />I = 32.833 %<br />I_from = 0.098 kA<br />I_to = 0.098 kA<br />",
         "type": "scatter",
         "x": [
          14.0,
          14.5,
          15.0
         ],
         "y": [
          -1.89583333,
          -1.89583333,
          -1.89583333
         ]
        },
        {
         "hoverinfo": "text",
         "legendgroup": "lines",
         "line": {
          "color": "rgb(0.0,188.5,255.0)",
          "dash": "solid",
          "width": 2
         },
         "mode": "lines",
         "name": "lines",
         "showlegend": false,
         "text": "Line_59.0-60.0<br />I = 30.877 %<br />I_from = 0.093 kA<br />I_to = 0.093 kA<br />",
         "type": "scatter",
         "x": [
          15.0,
          15.5,
          16.0
         ],
         "y": [
          -1.89583333,
          -1.89583333,
          -1.89583333
         ]
        },
        {
         "hoverinfo": "text",
         "legendgroup": "lines",
         "line": {
          "color": "rgb(0.0,188.5,255.0)",
          "dash": "solid",
          "width": 2
         },
         "mode": "lines",
         "name": "lines",
         "showlegend": false,
         "text": "Line_60.0-61.0<br />I = 30.877 %<br />I_from = 0.093 kA<br />I_to = 0.093 kA<br />",
         "type": "scatter",
         "x": [
          16.0,
          16.5,
          17.0
         ],
         "y": [
          -1.89583333,
          -1.89583333,
          -1.89583333
         ]
        },
        {
         "hoverinfo": "text",
         "legendgroup": "lines",
         "line": {
          "color": "rgb(0.0,0.0,200.22727272727272)",
          "dash": "solid",
          "width": 2
         },
         "mode": "lines",
         "name": "lines",
         "showlegend": false,
         "text": "Line_61.0-62.0<br />I = 6.299 %<br />I_from = 0.019 kA<br />I_to = 0.019 kA<br />",
         "type": "scatter",
         "x": [
          17.0,
          17.5,
          18.0
         ],
         "y": [
          -1.89583333,
          -1.89583333,
          -1.89583333
         ]
        },
        {
         "hoverinfo": "text",
         "legendgroup": "lines",
         "line": {
          "color": "rgb(0.0,0.0,191.13636363636363)",
          "dash": "solid",
          "width": 2
         },
         "mode": "lines",
         "name": "lines",
         "showlegend": false,
         "text": "Line_62.0-63.0<br />I = 5.665 %<br />I_from = 0.017 kA<br />I_to = 0.017 kA<br />",
         "type": "scatter",
         "x": [
          18.0,
          18.5,
          19.0
         ],
         "y": [
          -1.89583333,
          -1.89583333,
          -1.89583333
         ]
        },
        {
         "hoverinfo": "text",
         "legendgroup": "lines",
         "line": {
          "color": "rgb(0.0,0.0,191.13636363636363)",
          "dash": "solid",
          "width": 2
         },
         "mode": "lines",
         "name": "lines",
         "showlegend": false,
         "text": "Line_63.0-64.0<br />I = 5.665 %<br />I_from = 0.017 kA<br />I_to = 0.017 kA<br />",
         "type": "scatter",
         "x": [
          19.0,
          19.5,
          20.0
         ],
         "y": [
          -1.89583333,
          -1.89583333,
          -1.89583333
         ]
        },
        {
         "hoverinfo": "text",
         "legendgroup": "lines",
         "line": {
          "color": "rgb(0.0,0.0,136.5909090909091)",
          "dash": "solid",
          "width": 2
         },
         "mode": "lines",
         "name": "lines",
         "showlegend": false,
         "text": "Line_64.0-65.0<br />I = 1.168 %<br />I_from = 0.004 kA<br />I_to = 0.004 kA<br />",
         "type": "scatter",
         "x": [
          20.0,
          20.5,
          21.0
         ],
         "y": [
          -1.89583333,
          -1.89583333,
          -1.89583333
         ]
        },
        {
         "hoverinfo": "text",
         "legendgroup": "lines",
         "line": {
          "color": "rgb(0.0,0.0,136.5909090909091)",
          "dash": "solid",
          "width": 2
         },
         "mode": "lines",
         "name": "lines",
         "showlegend": false,
         "text": "Line_11.0-66.0<br />I = 1.01 %<br />I_from = 0.002 kA<br />I_to = 0.002 kA<br />",
         "type": "scatter",
         "x": [
          10.0,
          10.5,
          11.0
         ],
         "y": [
          -3.64583333,
          -3.27083333,
          -2.89583333
         ]
        },
        {
         "hoverinfo": "text",
         "legendgroup": "lines",
         "line": {
          "color": "rgb(0.0,0.0,132.04545454545453)",
          "dash": "solid",
          "width": 2
         },
         "mode": "lines",
         "name": "lines",
         "showlegend": false,
         "text": "Line_66.0-67.0<br />I = 0.505 %<br />I_from = 0.001 kA<br />I_to = 0.001 kA<br />",
         "type": "scatter",
         "x": [
          11.0,
          11.5,
          12.0
         ],
         "y": [
          -2.89583333,
          -2.89583333,
          -2.89583333
         ]
        },
        {
         "hoverinfo": "text",
         "legendgroup": "lines",
         "line": {
          "color": "rgb(0.0,0.0,145.6818181818182)",
          "dash": "solid",
          "width": 2
         },
         "mode": "lines",
         "name": "lines",
         "showlegend": false,
         "text": "Line_12.0-68.0<br />I = 1.571 %<br />I_from = 0.003 kA<br />I_to = 0.003 kA<br />",
         "type": "scatter",
         "x": [
          11.0,
          11.5,
          12.0
         ],
         "y": [
          -4.39583333,
          -4.14583333,
          -3.89583333
         ]
        },
        {
         "hoverinfo": "text",
         "legendgroup": "lines",
         "line": {
          "color": "rgb(0.0,0.0,136.5909090909091)",
          "dash": "solid",
          "width": 2
         },
         "mode": "lines",
         "name": "lines",
         "showlegend": false,
         "text": "Line_68.0-69.0<br />I = 0.785 %<br />I_from = 0.002 kA<br />I_to = 0.002 kA<br />",
         "type": "scatter",
         "x": [
          12.0,
          12.5,
          13.0
         ],
         "y": [
          -3.89583333,
          -3.89583333,
          -3.89583333
         ]
        },
        {
         "hoverinfo": "text",
         "legendgroup": "disconnected lines",
         "line": {
          "color": "rgb(128, 128, 128)",
          "dash": "dot",
          "width": 1.0
         },
         "mode": "lines",
         "name": "disconnected branches",
         "showlegend": true,
         "text": "Tie_Line_50-59<br />I = 0.0 %<br />I_from = 0.0 kA<br />I_to = 0.0 kA<br />",
         "type": "scatter",
         "x": [
          7.0,
          11.0,
          15.0
         ],
         "y": [
          -0.83333333,
          -1.36458333,
          -1.89583333
         ]
        },
        {
         "hoverinfo": "text",
         "legendgroup": "disconnected lines",
         "line": {
          "color": "rgb(128, 128, 128)",
          "dash": "dot",
          "width": 1.0
         },
         "mode": "lines",
         "name": "disconnected branches",
         "showlegend": false,
         "text": "Tie_Line_11-44<br />I = 0.0 %<br />I_from = 0.0 kA<br />I_to = 0.0 kA<br />",
         "type": "scatter",
         "x": [
          10.0,
          10.5,
          11.0
         ],
         "y": [
          -3.64583333,
          -1.23958333,
          1.16666667
         ]
        },
        {
         "hoverinfo": "text",
         "legendgroup": "disconnected lines",
         "line": {
          "color": "rgb(128, 128, 128)",
          "dash": "dot",
          "width": 1.0
         },
         "mode": "lines",
         "name": "disconnected branches",
         "showlegend": false,
         "text": "Tie_Line_13-21<br />I = 0.0 %<br />I_from = 0.0 kA<br />I_to = 0.0 kA<br />",
         "type": "scatter",
         "x": [
          12.0,
          16.0,
          20.0
         ],
         "y": [
          -4.89583333,
          -4.89583333,
          -4.89583333
         ]
        },
        {
         "hoverinfo": "text",
         "legendgroup": "disconnected lines",
         "line": {
          "color": "rgb(128, 128, 128)",
          "dash": "dot",
          "width": 1.0
         },
         "mode": "lines",
         "name": "disconnected branches",
         "showlegend": false,
         "text": "Tie_Line_65-27<br />I = 0.0 %<br />I_from = 0.0 kA<br />I_to = 0.0 kA<br />",
         "type": "scatter",
         "x": [
          21.0,
          23.5,
          26.0
         ],
         "y": [
          -1.89583333,
          -3.3958333300000003,
          -4.89583333
         ]
        },
        {
         "hoverinfo": "text",
         "legendgroup": "lines",
         "marker": {
          "color": "rgb(128, 128, 128)",
          "size": 1,
          "symbol": "circle"
         },
         "mode": "markers",
         "name": "edge_center",
         "showlegend": false,
         "text": [
          "Line_1.0-2.0<br />I = 132.569 %<br />I_from = 0.53 kA<br />I_to = 0.53 kA<br />",
          "Line_2.0-3.0<br />I = 132.569 %<br />I_from = 0.53 kA<br />I_to = 0.53 kA<br />",
          "Line_3.0-4.0<br />I = 50.339 %<br />I_from = 0.201 kA<br />I_to = 0.201 kA<br />",
          "Line_4.0-5.0<br />I = 38.747 %<br />I_from = 0.155 kA<br />I_to = 0.155 kA<br />",
          "Line_5.0-6.0<br />I = 38.747 %<br />I_from = 0.155 kA<br />I_to = 0.155 kA<br />",
          "Line_6.0-7.0<br />I = 38.709 %<br />I_from = 0.155 kA<br />I_to = 0.155 kA<br />",
          "Line_7.0-8.0<br />I = 38.143 %<br />I_from = 0.153 kA<br />I_to = 0.153 kA<br />",
          "Line_8.0-9.0<br />I = 36.49 %<br />I_from = 0.146 kA<br />I_to = 0.146 kA<br />",
          "Line_9.0-10.0<br />I = 10.674 %<br />I_from = 0.043 kA<br />I_to = 0.043 kA<br />",
          "Line_10.0-11.0<br />I = 20.579 %<br />I_from = 0.041 kA<br />I_to = 0.041 kA<br />",
          "Line_11.0-12.0<br />I = 15.511 %<br />I_from = 0.031 kA<br />I_to = 0.031 kA<br />",
          "Line_12.0-13.0<br />I = 9.871 %<br />I_from = 0.02 kA<br />I_to = 0.02 kA<br />",
          "Line_13.0-14.0<br />I = 9.655 %<br />I_from = 0.019 kA<br />I_to = 0.019 kA<br />",
          "Line_14.0-15.0<br />I = 9.432 %<br />I_from = 0.019 kA<br />I_to = 0.019 kA<br />",
          "Line_15.0-16.0<br />I = 9.432 %<br />I_from = 0.019 kA<br />I_to = 0.019 kA<br />",
          "Line_16.0-17.0<br />I = 8.177 %<br />I_from = 0.016 kA<br />I_to = 0.016 kA<br />",
          "Line_17.0-18.0<br />I = 6.579 %<br />I_from = 0.013 kA<br />I_to = 0.013 kA<br />",
          "Line_18.0-19.0<br />I = 4.983 %<br />I_from = 0.01 kA<br />I_to = 0.01 kA<br />",
          "Line_19.0-20.0<br />I = 4.983 %<br />I_from = 0.01 kA<br />I_to = 0.01 kA<br />",
          "Line_20.0-21.0<br />I = 4.956 %<br />I_from = 0.01 kA<br />I_to = 0.01 kA<br />",
          "Line_21.0-22.0<br />I = 1.729 %<br />I_from = 0.003 kA<br />I_to = 0.003 kA<br />",
          "Line_22.0-23.0<br />I = 1.589 %<br />I_from = 0.003 kA<br />I_to = 0.003 kA<br />",
          "Line_23.0-24.0<br />I = 1.589 %<br />I_from = 0.003 kA<br />I_to = 0.003 kA<br />",
          "Line_24.0-25.0<br />I = 0.794 %<br />I_from = 0.002 kA<br />I_to = 0.002 kA<br />",
          "Line_25.0-26.0<br />I = 0.794 %<br />I_from = 0.002 kA<br />I_to = 0.002 kA<br />",
          "Line_26.0-27.0<br />I = 0.397 %<br />I_from = 0.001 kA<br />I_to = 0.001 kA<br />",
          "Line_3.0-28.0<br />I = 2.488 %<br />I_from = 0.005 kA<br />I_to = 0.005 kA<br />",
          "Line_28.0-29.0<br />I = 1.781 %<br />I_from = 0.004 kA<br />I_to = 0.004 kA<br />",
          "Line_29.0-30.0<br />I = 1.073 %<br />I_from = 0.002 kA<br />I_to = 0.002 kA<br />",
          "Line_30.0-31.0<br />I = 1.073 %<br />I_from = 0.002 kA<br />I_to = 0.002 kA<br />",
          "Line_31.0-32.0<br />I = 1.073 %<br />I_from = 0.002 kA<br />I_to = 0.002 kA<br />",
          "Line_32.0-33.0<br />I = 1.073 %<br />I_from = 0.002 kA<br />I_to = 0.002 kA<br />",
          "Line_33.0-34.0<br />I = 0.692 %<br />I_from = 0.001 kA<br />I_to = 0.001 kA<br />",
          "Line_34.0-35.0<br />I = 0.16 %<br />I_from = 0.0 kA<br />I_to = 0.0 kA<br />",
          "Line_3.0-36.0<br />I = 170.4 %<br />I_from = 0.341 kA<br />I_to = 0.341 kA<br />",
          "Line_36.0-37.0<br />I = 169.789 %<br />I_from = 0.34 kA<br />I_to = 0.34 kA<br />",
          "Line_37.0-38.0<br />I = 169.178 %<br />I_from = 0.338 kA<br />I_to = 0.338 kA<br />",
          "Line_38.0-39.0<br />I = 169.178 %<br />I_from = 0.338 kA<br />I_to = 0.338 kA<br />",
          "Line_39.0-40.0<br />I = 168.615 %<br />I_from = 0.337 kA<br />I_to = 0.337 kA<br />",
          "Line_40.0-41.0<br />I = 168.052 %<br />I_from = 0.336 kA<br />I_to = 0.336 kA<br />",
          "Line_41.0-42.0<br />I = 168.023 %<br />I_from = 0.336 kA<br />I_to = 0.336 kA<br />",
          "Line_42.0-43.0<br />I = 168.023 %<br />I_from = 0.336 kA<br />I_to = 0.336 kA<br />",
          "Line_43.0-44.0<br />I = 167.88 %<br />I_from = 0.336 kA<br />I_to = 0.336 kA<br />",
          "Line_44.0-45.0<br />I = 167.88 %<br />I_from = 0.336 kA<br />I_to = 0.336 kA<br />",
          "Line_45.0-46.0<br />I = 166.946 %<br />I_from = 0.334 kA<br />I_to = 0.334 kA<br />",
          "Line_4.0-47.0<br />I = 15.459 %<br />I_from = 0.046 kA<br />I_to = 0.046 kA<br />",
          "Line_47.0-48.0<br />I = 15.459 %<br />I_from = 0.046 kA<br />I_to = 0.046 kA<br />",
          "Line_48.0-49.0<br />I = 14.024 %<br />I_from = 0.042 kA<br />I_to = 0.042 kA<br />",
          "Line_49.0-50.0<br />I = 7.014 %<br />I_from = 0.021 kA<br />I_to = 0.021 kA<br />",
          "Line_8.0-51.0<br />I = 1.218 %<br />I_from = 0.002 kA<br />I_to = 0.002 kA<br />",
          "Line_51.0-52.0<br />I = 0.102 %<br />I_from = 0.0 kA<br />I_to = 0.0 kA<br />",
          "Line_9.0-53.0<br />I = 33.86 %<br />I_from = 0.102 kA<br />I_to = 0.102 kA<br />",
          "Line_53.0-54.0<br />I = 33.776 %<br />I_from = 0.101 kA<br />I_to = 0.101 kA<br />",
          "Line_54.0-55.0<br />I = 33.283 %<br />I_from = 0.1 kA<br />I_to = 0.1 kA<br />",
          "Line_55.0-56.0<br />I = 32.833 %<br />I_from = 0.098 kA<br />I_to = 0.098 kA<br />",
          "Line_56.0-57.0<br />I = 32.833 %<br />I_from = 0.098 kA<br />I_to = 0.098 kA<br />",
          "Line_57.0-58.0<br />I = 32.833 %<br />I_from = 0.098 kA<br />I_to = 0.098 kA<br />",
          "Line_58.0-59.0<br />I = 32.833 %<br />I_from = 0.098 kA<br />I_to = 0.098 kA<br />",
          "Line_59.0-60.0<br />I = 30.877 %<br />I_from = 0.093 kA<br />I_to = 0.093 kA<br />",
          "Line_60.0-61.0<br />I = 30.877 %<br />I_from = 0.093 kA<br />I_to = 0.093 kA<br />",
          "Line_61.0-62.0<br />I = 6.299 %<br />I_from = 0.019 kA<br />I_to = 0.019 kA<br />",
          "Line_62.0-63.0<br />I = 5.665 %<br />I_from = 0.017 kA<br />I_to = 0.017 kA<br />",
          "Line_63.0-64.0<br />I = 5.665 %<br />I_from = 0.017 kA<br />I_to = 0.017 kA<br />",
          "Line_64.0-65.0<br />I = 1.168 %<br />I_from = 0.004 kA<br />I_to = 0.004 kA<br />",
          "Line_11.0-66.0<br />I = 1.01 %<br />I_from = 0.002 kA<br />I_to = 0.002 kA<br />",
          "Line_66.0-67.0<br />I = 0.505 %<br />I_from = 0.001 kA<br />I_to = 0.001 kA<br />",
          "Line_12.0-68.0<br />I = 1.571 %<br />I_from = 0.003 kA<br />I_to = 0.003 kA<br />",
          "Line_68.0-69.0<br />I = 0.785 %<br />I_from = 0.002 kA<br />I_to = 0.002 kA<br />",
          "Tie_Line_50-59<br />I = 0.0 %<br />I_from = 0.0 kA<br />I_to = 0.0 kA<br />",
          "Tie_Line_11-44<br />I = 0.0 %<br />I_from = 0.0 kA<br />I_to = 0.0 kA<br />",
          "Tie_Line_13-21<br />I = 0.0 %<br />I_from = 0.0 kA<br />I_to = 0.0 kA<br />",
          "Tie_Line_65-27<br />I = 0.0 %<br />I_from = 0.0 kA<br />I_to = 0.0 kA<br />"
         ],
         "type": "scatter",
         "x": [
          0.5
         ],
         "y": [
          0.0
         ]
        },
        {
         "hoverinfo": "text",
         "marker": {
          "color": "rgb(128, 128, 128)",
          "size": 20,
          "symbol": "square"
         },
         "mode": "markers",
         "name": "external_grid",
         "text": [
          "Bus_1"
         ],
         "type": "scatter",
         "x": [
          0.0
         ],
         "y": [
          0.0
         ]
        },
        {
         "hoverinfo": "text",
         "marker": {
          "cmax": 1.1,
          "cmin": 0.9,
          "color": {
           "bdata": "exSuR+F68D+Q+/0Do3rwP3UjtMFkevA/+9gG1gV68D+VBy2Ux3bwP1rxLmNqU/A/ybN07aMu8D9ogZ/A3iXwPyHwfY5iIfA/qSW8OY4N8D+VR5z2LwnwP56qt8xO+e8/wiLODiDi7z9kQe4EJcvvP4jyAihltO8/53td+Sqw7z8yKmRPMKnvP713zjseqe8/I4rOMG+l7z9petf/EaPvP6xcrTBAn+8/hYpROjKf7z95ri1XoJ7vP4RzPcxine8/fVQ7eAuc7z83PN3WfZvvP+kGqyNWm+8//89GuV168D/hnia8FHrwP8rQCW2ZefA/jq2sqoN58D/1dAPfFnnwP23S3wwSePA/5oPagbx28D8zJxrhd3bwP4B2eUtdefA/LsTUYJ9q8D95ohdf3VTwPwFUarSaTvA/SrA7ZjxO8D9iAdIyi3nvP2KvwVJRAe8/XeKV75Xx7j8J3zXSD+7uPxiTXYWHxO4/+LJ/3jDE7j+N4YXd0nnwP12AivXedPA/R3nGAZZl8D9haqFga2PwP4nVibe6JfA/NcrVCrEl8D/cVzy6XhbwP8e9teyMCfA/M37UP7zv7z9CU+5PM83vP+lTgtKNG+8/A1TjyB/E7j+ObzdUTqLuP/U9McCVeu4/rb5g3xpA7j8cLBHR0D3uP2glXDrAOu4/Jy8cDbsr7j9ANXzzMCfuP1BqB0/2CPA/0EU7o/UI8D9b2o9SsPbvPyxi7i2u9u8/",
           "dtype": "f8"
          },
          "colorbar": {
           "thickness": 10,
           "title": {
            "side": "right",
            "text": "Bus Voltage [pu]"
           },
           "x": 1.0
          },
          "colorscale": [
           [
            0.0,
            "rgb(0,0,131)"
           ],
           [
            0.2,
            "rgb(0,60,170)"
           ],
           [
            0.4,
            "rgb(5,255,255)"
           ],
           [
            0.6,
            "rgb(255,255,0)"
           ],
           [
            0.8,
            "rgb(250,0,0)"
           ],
           [
            1.0,
            "rgb(128,0,0)"
           ]
          ],
          "size": 10,
          "symbol": "circle"
         },
         "mode": "markers",
         "name": "buses",
         "text": [
          "Bus_1<br />V_m = 1.03 pu<br />V_m = 13.04 kV<br />V_a = 0.0 deg",
          "Bus_2<br />V_m = 1.03 pu<br />V_m = 13.039 kV<br />V_a = -0.004 deg",
          "Bus_3<br />V_m = 1.03 pu<br />V_m = 13.038 kV<br />V_a = -0.008 deg",
          "Bus_4<br />V_m = 1.03 pu<br />V_m = 13.037 kV<br />V_a = -0.011 deg",
          "Bus_5<br />V_m = 1.029 pu<br />V_m = 13.027 kV<br />V_a = -0.023 deg",
          "Bus_6<br />V_m = 1.02 pu<br />V_m = 12.918 kV<br />V_a = 0.041 deg",
          "Bus_7<br />V_m = 1.011 pu<br />V_m = 12.804 kV<br />V_a = 0.108 deg",
          "Bus_8<br />V_m = 1.009 pu<br />V_m = 12.777 kV<br />V_a = 0.125 deg",
          "Bus_9<br />V_m = 1.008 pu<br />V_m = 12.763 kV<br />V_a = 0.133 deg",
          "Bus_10<br />V_m = 1.003 pu<br />V_m = 12.702 kV<br />V_a = 0.213 deg",
          "Bus_11<br />V_m = 1.002 pu<br />V_m = 12.688 kV<br />V_a = 0.23 deg",
          "Bus_12<br />V_m = 0.999 pu<br />V_m = 12.65 kV<br />V_a = 0.28 deg",
          "Bus_13<br />V_m = 0.996 pu<br />V_m = 12.614 kV<br />V_a = 0.323 deg",
          "Bus_14<br />V_m = 0.994 pu<br />V_m = 12.578 kV<br />V_a = 0.367 deg",
          "Bus_15<br />V_m = 0.991 pu<br />V_m = 12.543 kV<br />V_a = 0.41 deg",
          "Bus_16<br />V_m = 0.99 pu<br />V_m = 12.537 kV<br />V_a = 0.418 deg",
          "Bus_17<br />V_m = 0.989 pu<br />V_m = 12.526 kV<br />V_a = 0.431 deg",
          "Bus_18<br />V_m = 0.989 pu<br />V_m = 12.526 kV<br />V_a = 0.431 deg",
          "Bus_19<br />V_m = 0.989 pu<br />V_m = 12.52 kV<br />V_a = 0.439 deg",
          "Bus_20<br />V_m = 0.989 pu<br />V_m = 12.516 kV<br />V_a = 0.444 deg",
          "Bus_21<br />V_m = 0.988 pu<br />V_m = 12.51 kV<br />V_a = 0.453 deg",
          "Bus_22<br />V_m = 0.988 pu<br />V_m = 12.51 kV<br />V_a = 0.453 deg",
          "Bus_23<br />V_m = 0.988 pu<br />V_m = 12.51 kV<br />V_a = 0.454 deg",
          "Bus_24<br />V_m = 0.988 pu<br />V_m = 12.508 kV<br />V_a = 0.457 deg",
          "Bus_25<br />V_m = 0.988 pu<br />V_m = 12.506 kV<br />V_a = 0.46 deg",
          "Bus_26<br />V_m = 0.988 pu<br />V_m = 12.505 kV<br />V_a = 0.461 deg",
          "Bus_27<br />V_m = 0.988 pu<br />V_m = 12.504 kV<br />V_a = 0.461 deg",
          "Bus_28<br />V_m = 1.03 pu<br />V_m = 13.038 kV<br />V_a = -0.008 deg",
          "Bus_29<br />V_m = 1.03 pu<br />V_m = 13.037 kV<br />V_a = -0.011 deg",
          "Bus_30<br />V_m = 1.03 pu<br />V_m = 13.036 kV<br />V_a = -0.009 deg",
          "Bus_31<br />V_m = 1.03 pu<br />V_m = 13.036 kV<br />V_a = -0.008 deg",
          "Bus_32<br />V_m = 1.03 pu<br />V_m = 13.034 kV<br />V_a = -0.007 deg",
          "Bus_33<br />V_m = 1.029 pu<br />V_m = 13.031 kV<br />V_a = -0.003 deg",
          "Bus_34<br />V_m = 1.029 pu<br />V_m = 13.027 kV<br />V_a = 0.003 deg",
          "Bus_35<br />V_m = 1.029 pu<br />V_m = 13.026 kV<br />V_a = 0.004 deg",
          "Bus_36<br />V_m = 1.03 pu<br />V_m = 13.035 kV<br />V_a = -0.035 deg",
          "Bus_37<br />V_m = 1.026 pu<br />V_m = 12.99 kV<br />V_a = -0.424 deg",
          "Bus_38<br />V_m = 1.021 pu<br />V_m = 12.922 kV<br />V_a = -0.72 deg",
          "Bus_39<br />V_m = 1.019 pu<br />V_m = 12.903 kV<br />V_a = -0.806 deg",
          "Bus_40<br />V_m = 1.019 pu<br />V_m = 12.902 kV<br />V_a = -0.811 deg",
          "Bus_41<br />V_m = 0.984 pu<br />V_m = 12.452 kV<br />V_a = -2.946 deg",
          "Bus_42<br />V_m = 0.969 pu<br />V_m = 12.266 kV<br />V_a = -3.902 deg",
          "Bus_43<br />V_m = 0.967 pu<br />V_m = 12.242 kV<br />V_a = -4.03 deg",
          "Bus_44<br />V_m = 0.967 pu<br />V_m = 12.237 kV<br />V_a = -4.061 deg",
          "Bus_45<br />V_m = 0.961 pu<br />V_m = 12.172 kV<br />V_a = -4.433 deg",
          "Bus_46<br />V_m = 0.961 pu<br />V_m = 12.172 kV<br />V_a = -4.436 deg",
          "Bus_47<br />V_m = 1.03 pu<br />V_m = 13.037 kV<br />V_a = -0.013 deg",
          "Bus_48<br />V_m = 1.029 pu<br />V_m = 13.021 kV<br />V_a = -0.055 deg",
          "Bus_49<br />V_m = 1.025 pu<br />V_m = 12.974 kV<br />V_a = -0.186 deg",
          "Bus_50<br />V_m = 1.024 pu<br />V_m = 12.967 kV<br />V_a = -0.205 deg",
          "Bus_51<br />V_m = 1.009 pu<br />V_m = 12.777 kV<br />V_a = 0.125 deg",
          "Bus_52<br />V_m = 1.009 pu<br />V_m = 12.776 kV<br />V_a = 0.125 deg",
          "Bus_53<br />V_m = 1.005 pu<br />V_m = 12.729 kV<br />V_a = 0.154 deg",
          "Bus_54<br />V_m = 1.002 pu<br />V_m = 12.69 kV<br />V_a = 0.178 deg",
          "Bus_55<br />V_m = 0.998 pu<br />V_m = 12.635 kV<br />V_a = 0.211 deg",
          "Bus_56<br />V_m = 0.994 pu<br />V_m = 12.581 kV<br />V_a = 0.244 deg",
          "Bus_57<br />V_m = 0.972 pu<br />V_m = 12.307 kV<br />V_a = 0.616 deg",
          "Bus_58<br />V_m = 0.961 pu<br />V_m = 12.172 kV<br />V_a = 0.805 deg",
          "Bus_59<br />V_m = 0.957 pu<br />V_m = 12.12 kV<br />V_a = 0.88 deg",
          "Bus_60<br />V_m = 0.952 pu<br />V_m = 12.058 kV<br />V_a = 0.978 deg",
          "Bus_61<br />V_m = 0.945 pu<br />V_m = 11.968 kV<br />V_a = 1.042 deg",
          "Bus_62<br />V_m = 0.945 pu<br />V_m = 11.964 kV<br />V_a = 1.045 deg",
          "Bus_63<br />V_m = 0.945 pu<br />V_m = 11.96 kV<br />V_a = 1.048 deg",
          "Bus_64<br />V_m = 0.943 pu<br />V_m = 11.936 kV<br />V_a = 1.065 deg",
          "Bus_65<br />V_m = 0.942 pu<br />V_m = 11.929 kV<br />V_a = 1.07 deg",
          "Bus_66<br />V_m = 1.002 pu<br />V_m = 12.688 kV<br />V_a = 0.231 deg",
          "Bus_67<br />V_m = 1.002 pu<br />V_m = 12.688 kV<br />V_a = 0.231 deg",
          "Bus_68<br />V_m = 0.999 pu<br />V_m = 12.646 kV<br />V_a = 0.285 deg",
          "Bus_69<br />V_m = 0.999 pu<br />V_m = 12.646 kV<br />V_a = 0.285 deg"
         ],
         "type": "scatter",
         "x": [
          0.0,
          1.0,
          2.0,
          3.0,
          4.0,
          5.0,
          6.0,
          7.0,
          8.0,
          9.0,
          10.0,
          11.0,
          12.0,
          13.0,
          14.0,
          15.0,
          16.0,
          17.0,
          18.0,
          19.0,
          20.0,
          21.0,
          22.0,
          23.0,
          24.0,
          25.0,
          26.0,
          3.0,
          4.0,
          5.0,
          6.0,
          7.0,
          8.0,
          9.0,
          10.0,
          3.0,
          4.0,
          5.0,
          6.0,
          7.0,
          8.0,
          9.0,
          10.0,
          11.0,
          12.0,
          13.0,
          4.0,
          5.0,
          6.0,
          7.0,
          8.0,
          9.0,
          9.0,
          10.0,
          11.0,
          12.0,
          13.0,
          14.0,
          15.0,
          16.0,
          17.0,
          18.0,
          19.0,
          20.0,
          21.0,
          11.0,
          12.0,
          12.0,
          13.0
         ],
         "y": [
          0.0,
          0.0,
          0.0,
          -1.33333333,
          -1.83333333,
          -1.83333333,
          -1.83333333,
          -1.83333333,
          -2.77083333,
          -3.64583333,
          -3.64583333,
          -4.39583333,
          -4.89583333,
          -4.89583333,
          -4.89583333,
          -4.89583333,
          -4.89583333,
          -4.89583333,
          -4.89583333,
          -4.89583333,
          -4.89583333,
          -4.89583333,
          -4.89583333,
          -4.89583333,
          -4.89583333,
          -4.89583333,
          -4.89583333,
          0.16666667,
          0.16666667,
          0.16666667,
          0.16666667,
          0.16666667,
          0.16666667,
          0.16666667,
          0.16666667,
          1.16666667,
          1.16666667,
          1.16666667,
          1.16666667,
          1.16666667,
          1.16666667,
          1.16666667,
          1.16666667,
          1.16666667,
          1.16666667,
          1.16666667,
          -0.83333333,
          -0.83333333,
          -0.83333333,
          -0.83333333,
          -0.89583333,
          -0.89583333,
          -1.89583333,
          -1.89583333,
          -1.89583333,
          -1.89583333,
          -1.89583333,
          -1.89583333,
          -1.89583333,
          -1.89583333,
          -1.89583333,
          -1.89583333,
          -1.89583333,
          -1.89583333,
          -1.89583333,
          -2.89583333,
          -2.89583333,
          -3.89583333,
          -3.89583333
         ]
        }
       ],
       "layout": {
        "autosize": true,
        "height": 163.22115384615384,
        "hovermode": "closest",
        "legend": {
         "itemsizing": "constant"
        },
        "margin": {
         "b": 5,
         "l": 5,
         "r": 5,
         "t": 5
        },
        "showlegend": false,
        "template": {
         "data": {
          "bar": [
           {
            "error_x": {
             "color": "#2a3f5f"
            },
            "error_y": {
             "color": "#2a3f5f"
            },
            "marker": {
             "line": {
              "color": "#E5ECF6",
              "width": 0.5
             },
             "pattern": {
              "fillmode": "overlay",
              "size": 10,
              "solidity": 0.2
             }
            },
            "type": "bar"
           }
          ],
          "barpolar": [
           {
            "marker": {
             "line": {
              "color": "#E5ECF6",
              "width": 0.5
             },
             "pattern": {
              "fillmode": "overlay",
              "size": 10,
              "solidity": 0.2
             }
            },
            "type": "barpolar"
           }
          ],
          "carpet": [
           {
            "aaxis": {
             "endlinecolor": "#2a3f5f",
             "gridcolor": "white",
             "linecolor": "white",
             "minorgridcolor": "white",
             "startlinecolor": "#2a3f5f"
            },
            "baxis": {
             "endlinecolor": "#2a3f5f",
             "gridcolor": "white",
             "linecolor": "white",
             "minorgridcolor": "white",
             "startlinecolor": "#2a3f5f"
            },
            "type": "carpet"
           }
          ],
          "choropleth": [
           {
            "colorbar": {
             "outlinewidth": 0,
             "ticks": ""
            },
            "type": "choropleth"
           }
          ],
          "contour": [
           {
            "colorbar": {
             "outlinewidth": 0,
             "ticks": ""
            },
            "colorscale": [
             [
              0.0,
              "#0d0887"
             ],
             [
              0.1111111111111111,
              "#46039f"
             ],
             [
              0.2222222222222222,
              "#7201a8"
             ],
             [
              0.3333333333333333,
              "#9c179e"
             ],
             [
              0.4444444444444444,
              "#bd3786"
             ],
             [
              0.5555555555555556,
              "#d8576b"
             ],
             [
              0.6666666666666666,
              "#ed7953"
             ],
             [
              0.7777777777777778,
              "#fb9f3a"
             ],
             [
              0.8888888888888888,
              "#fdca26"
             ],
             [
              1.0,
              "#f0f921"
             ]
            ],
            "type": "contour"
           }
          ],
          "contourcarpet": [
           {
            "colorbar": {
             "outlinewidth": 0,
             "ticks": ""
            },
            "type": "contourcarpet"
           }
          ],
          "heatmap": [
           {
            "colorbar": {
             "outlinewidth": 0,
             "ticks": ""
            },
            "colorscale": [
             [
              0.0,
              "#0d0887"
             ],
             [
              0.1111111111111111,
              "#46039f"
             ],
             [
              0.2222222222222222,
              "#7201a8"
             ],
             [
              0.3333333333333333,
              "#9c179e"
             ],
             [
              0.4444444444444444,
              "#bd3786"
             ],
             [
              0.5555555555555556,
              "#d8576b"
             ],
             [
              0.6666666666666666,
              "#ed7953"
             ],
             [
              0.7777777777777778,
              "#fb9f3a"
             ],
             [
              0.8888888888888888,
              "#fdca26"
             ],
             [
              1.0,
              "#f0f921"
             ]
            ],
            "type": "heatmap"
           }
          ],
          "histogram": [
           {
            "marker": {
             "pattern": {
              "fillmode": "overlay",
              "size": 10,
              "solidity": 0.2
             }
            },
            "type": "histogram"
           }
          ],
          "histogram2d": [
           {
            "colorbar": {
             "outlinewidth": 0,
             "ticks": ""
            },
            "colorscale": [
             [
              0.0,
              "#0d0887"
             ],
             [
              0.1111111111111111,
              "#46039f"
             ],
             [
              0.2222222222222222,
              "#7201a8"
             ],
             [
              0.3333333333333333,
              "#9c179e"
             ],
             [
              0.4444444444444444,
              "#bd3786"
             ],
             [
              0.5555555555555556,
              "#d8576b"
             ],
             [
              0.6666666666666666,
              "#ed7953"
             ],
             [
              0.7777777777777778,
              "#fb9f3a"
             ],
             [
              0.8888888888888888,
              "#fdca26"
             ],
             [
              1.0,
              "#f0f921"
             ]
            ],
            "type": "histogram2d"
           }
          ],
          "histogram2dcontour": [
           {
            "colorbar": {
             "outlinewidth": 0,
             "ticks": ""
            },
            "colorscale": [
             [
              0.0,
              "#0d0887"
             ],
             [
              0.1111111111111111,
              "#46039f"
             ],
             [
              0.2222222222222222,
              "#7201a8"
             ],
             [
              0.3333333333333333,
              "#9c179e"
             ],
             [
              0.4444444444444444,
              "#bd3786"
             ],
             [
              0.5555555555555556,
              "#d8576b"
             ],
             [
              0.6666666666666666,
              "#ed7953"
             ],
             [
              0.7777777777777778,
              "#fb9f3a"
             ],
             [
              0.8888888888888888,
              "#fdca26"
             ],
             [
              1.0,
              "#f0f921"
             ]
            ],
            "type": "histogram2dcontour"
           }
          ],
          "mesh3d": [
           {
            "colorbar": {
             "outlinewidth": 0,
             "ticks": ""
            },
            "type": "mesh3d"
           }
          ],
          "parcoords": [
           {
            "line": {
             "colorbar": {
              "outlinewidth": 0,
              "ticks": ""
             }
            },
            "type": "parcoords"
           }
          ],
          "pie": [
           {
            "automargin": true,
            "type": "pie"
           }
          ],
          "scatter": [
           {
            "fillpattern": {
             "fillmode": "overlay",
             "size": 10,
             "solidity": 0.2
            },
            "type": "scatter"
           }
          ],
          "scatter3d": [
           {
            "line": {
             "colorbar": {
              "outlinewidth": 0,
              "ticks": ""
             }
            },
            "marker": {
             "colorbar": {
              "outlinewidth": 0,
              "ticks": ""
             }
            },
            "type": "scatter3d"
           }
          ],
          "scattercarpet": [
           {
            "marker": {
             "colorbar": {
              "outlinewidth": 0,
              "ticks": ""
             }
            },
            "type": "scattercarpet"
           }
          ],
          "scattergeo": [
           {
            "marker": {
             "colorbar": {
              "outlinewidth": 0,
              "ticks": ""
             }
            },
            "type": "scattergeo"
           }
          ],
          "scattergl": [
           {
            "marker": {
             "colorbar": {
              "outlinewidth": 0,
              "ticks": ""
             }
            },
            "type": "scattergl"
           }
          ],
          "scattermap": [
           {
            "marker": {
             "colorbar": {
              "outlinewidth": 0,
              "ticks": ""
             }
            },
            "type": "scattermap"
           }
          ],
          "scattermapbox": [
           {
            "marker": {
             "colorbar": {
              "outlinewidth": 0,
              "ticks": ""
             }
            },
            "type": "scattermapbox"
           }
          ],
          "scatterpolar": [
           {
            "marker": {
             "colorbar": {
              "outlinewidth": 0,
              "ticks": ""
             }
            },
            "type": "scatterpolar"
           }
          ],
          "scatterpolargl": [
           {
            "marker": {
             "colorbar": {
              "outlinewidth": 0,
              "ticks": ""
             }
            },
            "type": "scatterpolargl"
           }
          ],
          "scatterternary": [
           {
            "marker": {
             "colorbar": {
              "outlinewidth": 0,
              "ticks": ""
             }
            },
            "type": "scatterternary"
           }
          ],
          "surface": [
           {
            "colorbar": {
             "outlinewidth": 0,
             "ticks": ""
            },
            "colorscale": [
             [
              0.0,
              "#0d0887"
             ],
             [
              0.1111111111111111,
              "#46039f"
             ],
             [
              0.2222222222222222,
              "#7201a8"
             ],
             [
              0.3333333333333333,
              "#9c179e"
             ],
             [
              0.4444444444444444,
              "#bd3786"
             ],
             [
              0.5555555555555556,
              "#d8576b"
             ],
             [
              0.6666666666666666,
              "#ed7953"
             ],
             [
              0.7777777777777778,
              "#fb9f3a"
             ],
             [
              0.8888888888888888,
              "#fdca26"
             ],
             [
              1.0,
              "#f0f921"
             ]
            ],
            "type": "surface"
           }
          ],
          "table": [
           {
            "cells": {
             "fill": {
              "color": "#EBF0F8"
             },
             "line": {
              "color": "white"
             }
            },
            "header": {
             "fill": {
              "color": "#C8D4E3"
             },
             "line": {
              "color": "white"
             }
            },
            "type": "table"
           }
          ]
         },
         "layout": {
          "annotationdefaults": {
           "arrowcolor": "#2a3f5f",
           "arrowhead": 0,
           "arrowwidth": 1
          },
          "autotypenumbers": "strict",
          "coloraxis": {
           "colorbar": {
            "outlinewidth": 0,
            "ticks": ""
           }
          },
          "colorscale": {
           "diverging": [
            [
             0,
             "#8e0152"
            ],
            [
             0.1,
             "#c51b7d"
            ],
            [
             0.2,
             "#de77ae"
            ],
            [
             0.3,
             "#f1b6da"
            ],
            [
             0.4,
             "#fde0ef"
            ],
            [
             0.5,
             "#f7f7f7"
            ],
            [
             0.6,
             "#e6f5d0"
            ],
            [
             0.7,
             "#b8e186"
            ],
            [
             0.8,
             "#7fbc41"
            ],
            [
             0.9,
             "#4d9221"
            ],
            [
             1,
             "#276419"
            ]
           ],
           "sequential": [
            [
             0.0,
             "#0d0887"
            ],
            [
             0.1111111111111111,
             "#46039f"
            ],
            [
             0.2222222222222222,
             "#7201a8"
            ],
            [
             0.3333333333333333,
             "#9c179e"
            ],
            [
             0.4444444444444444,
             "#bd3786"
            ],
            [
             0.5555555555555556,
             "#d8576b"
            ],
            [
             0.6666666666666666,
             "#ed7953"
            ],
            [
             0.7777777777777778,
             "#fb9f3a"
            ],
            [
             0.8888888888888888,
             "#fdca26"
            ],
            [
             1.0,
             "#f0f921"
            ]
           ],
           "sequentialminus": [
            [
             0.0,
             "#0d0887"
            ],
            [
             0.1111111111111111,
             "#46039f"
            ],
            [
             0.2222222222222222,
             "#7201a8"
            ],
            [
             0.3333333333333333,
             "#9c179e"
            ],
            [
             0.4444444444444444,
             "#bd3786"
            ],
            [
             0.5555555555555556,
             "#d8576b"
            ],
            [
             0.6666666666666666,
             "#ed7953"
            ],
            [
             0.7777777777777778,
             "#fb9f3a"
            ],
            [
             0.8888888888888888,
             "#fdca26"
            ],
            [
             1.0,
             "#f0f921"
            ]
           ]
          },
          "colorway": [
           "#636efa",
           "#EF553B",
           "#00cc96",
           "#ab63fa",
           "#FFA15A",
           "#19d3f3",
           "#FF6692",
           "#B6E880",
           "#FF97FF",
           "#FECB52"
          ],
          "font": {
           "color": "#2a3f5f"
          },
          "geo": {
           "bgcolor": "white",
           "lakecolor": "white",
           "landcolor": "#E5ECF6",
           "showlakes": true,
           "showland": true,
           "subunitcolor": "white"
          },
          "hoverlabel": {
           "align": "left"
          },
          "hovermode": "closest",
          "mapbox": {
           "style": "light"
          },
          "paper_bgcolor": "white",
          "plot_bgcolor": "#E5ECF6",
          "polar": {
           "angularaxis": {
            "gridcolor": "white",
            "linecolor": "white",
            "ticks": ""
           },
           "bgcolor": "#E5ECF6",
           "radialaxis": {
            "gridcolor": "white",
            "linecolor": "white",
            "ticks": ""
           }
          },
          "scene": {
           "xaxis": {
            "backgroundcolor": "#E5ECF6",
            "gridcolor": "white",
            "gridwidth": 2,
            "linecolor": "white",
            "showbackground": true,
            "ticks": "",
            "zerolinecolor": "white"
           },
           "yaxis": {
            "backgroundcolor": "#E5ECF6",
            "gridcolor": "white",
            "gridwidth": 2,
            "linecolor": "white",
            "showbackground": true,
            "ticks": "",
            "zerolinecolor": "white"
           },
           "zaxis": {
            "backgroundcolor": "#E5ECF6",
            "gridcolor": "white",
            "gridwidth": 2,
            "linecolor": "white",
            "showbackground": true,
            "ticks": "",
            "zerolinecolor": "white"
           }
          },
          "shapedefaults": {
           "line": {
            "color": "#2a3f5f"
           }
          },
          "ternary": {
           "aaxis": {
            "gridcolor": "white",
            "linecolor": "white",
            "ticks": ""
           },
           "baxis": {
            "gridcolor": "white",
            "linecolor": "white",
            "ticks": ""
           },
           "bgcolor": "#E5ECF6",
           "caxis": {
            "gridcolor": "white",
            "linecolor": "white",
            "ticks": ""
           }
          },
          "title": {
           "x": 0.05
          },
          "xaxis": {
           "automargin": true,
           "gridcolor": "white",
           "linecolor": "white",
           "ticks": "",
           "title": {
            "standoff": 15
           },
           "zerolinecolor": "white",
           "zerolinewidth": 2
          },
          "yaxis": {
           "automargin": true,
           "gridcolor": "white",
           "linecolor": "white",
           "ticks": "",
           "title": {
            "standoff": 15
           },
           "zerolinecolor": "white",
           "zerolinewidth": 2
          }
         }
        },
        "title": {
         "font": {
          "size": 16
         }
        },
        "width": 700.0,
        "xaxis": {
         "showgrid": false,
         "showticklabels": false,
         "zeroline": false
        },
        "yaxis": {
         "showgrid": false,
         "showticklabels": false,
         "zeroline": false
        }
       }
      }
     },
     "metadata": {},
     "output_type": "display_data"
    }
   ],
   "source": [
    "network = deepcopy(org_network)\n",
    "network.load.loc[network.load.bus == 45, \"p_mw\"] += 7\n",
    "test_network2 = deepcopy(network)\n",
    "pp.runpp(network)\n",
    "pp.plotting.plotly.pf_res_plotly(network, auto_open=False)"
   ]
  },
  {
   "cell_type": "code",
   "execution_count": 558,
   "id": "84b590d806537e39",
   "metadata": {
    "ExecuteTime": {
     "end_time": "2025-07-22T01:41:47.212490Z",
     "start_time": "2025-07-22T01:41:46.855574Z"
    }
   },
   "outputs": [
    {
     "data": {
      "application/vnd.plotly.v1+json": {
       "config": {
        "plotlyServerURL": "https://plot.ly"
       },
       "data": [
        {
         "hoverinfo": "text",
         "legendgroup": "lines",
         "line": {
          "color": "rgb(127.5,0.0,0.0)",
          "dash": "solid",
          "width": 2
         },
         "mode": "lines",
         "name": "lines",
         "showlegend": true,
         "text": "Line_1.0-2.0<br />I = 128.965 %<br />I_from = 0.516 kA<br />I_to = 0.516 kA<br />",
         "type": "scatter",
         "x": [
          0.0,
          0.5,
          1.0
         ],
         "y": [
          0.0,
          0.0,
          0.0
         ]
        },
        {
         "hoverinfo": "text",
         "legendgroup": "lines",
         "line": {
          "color": "rgb(127.5,0.0,0.0)",
          "dash": "solid",
          "width": 2
         },
         "mode": "lines",
         "name": "lines",
         "showlegend": false,
         "text": "Line_2.0-3.0<br />I = 128.965 %<br />I_from = 0.516 kA<br />I_to = 0.516 kA<br />",
         "type": "scatter",
         "x": [
          1.0,
          1.5,
          2.0
         ],
         "y": [
          0.0,
          0.0,
          0.0
         ]
        },
        {
         "hoverinfo": "text",
         "legendgroup": "lines",
         "line": {
          "color": "rgb(255.0,103.88888888888893,0.0)",
          "dash": "solid",
          "width": 2
         },
         "mode": "lines",
         "name": "lines",
         "showlegend": false,
         "text": "Line_3.0-4.0<br />I = 79.732 %<br />I_from = 0.319 kA<br />I_to = 0.319 kA<br />",
         "type": "scatter",
         "x": [
          2.0,
          2.5,
          3.0
         ],
         "y": [
          0.0,
          -0.666666665,
          -1.33333333
         ]
        },
        {
         "hoverinfo": "text",
         "legendgroup": "lines",
         "line": {
          "color": "rgb(86.29032258064514,255.0,160.48387096774195)",
          "dash": "solid",
          "width": 2
         },
         "mode": "lines",
         "name": "lines",
         "showlegend": false,
         "text": "Line_4.0-5.0<br />I = 45.387 %<br />I_from = 0.182 kA<br />I_to = 0.182 kA<br />",
         "type": "scatter",
         "x": [
          3.0,
          3.5,
          4.0
         ],
         "y": [
          -1.33333333,
          -1.58333333,
          -1.83333333
         ]
        },
        {
         "hoverinfo": "text",
         "legendgroup": "lines",
         "line": {
          "color": "rgb(86.29032258064514,255.0,160.48387096774195)",
          "dash": "solid",
          "width": 2
         },
         "mode": "lines",
         "name": "lines",
         "showlegend": false,
         "text": "Line_5.0-6.0<br />I = 45.387 %<br />I_from = 0.182 kA<br />I_to = 0.182 kA<br />",
         "type": "scatter",
         "x": [
          4.0,
          4.5,
          5.0
         ],
         "y": [
          -1.83333333,
          -1.83333333,
          -1.83333333
         ]
        },
        {
         "hoverinfo": "text",
         "legendgroup": "lines",
         "line": {
          "color": "rgb(86.29032258064514,255.0,160.48387096774195)",
          "dash": "solid",
          "width": 2
         },
         "mode": "lines",
         "name": "lines",
         "showlegend": false,
         "text": "Line_6.0-7.0<br />I = 45.361 %<br />I_from = 0.181 kA<br />I_to = 0.181 kA<br />",
         "type": "scatter",
         "x": [
          5.0,
          5.5,
          6.0
         ],
         "y": [
          -1.83333333,
          -1.83333333,
          -1.83333333
         ]
        },
        {
         "hoverinfo": "text",
         "legendgroup": "lines",
         "line": {
          "color": "rgb(83.06451612903224,255.0,163.70967741935485)",
          "dash": "solid",
          "width": 2
         },
         "mode": "lines",
         "name": "lines",
         "showlegend": false,
         "text": "Line_7.0-8.0<br />I = 44.942 %<br />I_from = 0.18 kA<br />I_to = 0.18 kA<br />",
         "type": "scatter",
         "x": [
          6.0,
          6.5,
          7.0
         ],
         "y": [
          -1.83333333,
          -1.83333333,
          -1.83333333
         ]
        },
        {
         "hoverinfo": "text",
         "legendgroup": "lines",
         "line": {
          "color": "rgb(70.16129032258063,255.0,176.61290322580646)",
          "dash": "solid",
          "width": 2
         },
         "mode": "lines",
         "name": "lines",
         "showlegend": false,
         "text": "Line_8.0-9.0<br />I = 43.722 %<br />I_from = 0.175 kA<br />I_to = 0.175 kA<br />",
         "type": "scatter",
         "x": [
          7.0,
          7.5,
          8.0
         ],
         "y": [
          -1.83333333,
          -2.30208333,
          -2.77083333
         ]
        },
        {
         "hoverinfo": "text",
         "legendgroup": "lines",
         "line": {
          "color": "rgb(63.70967741935483,255.0,183.06451612903228)",
          "dash": "solid",
          "width": 2
         },
         "mode": "lines",
         "name": "lines",
         "showlegend": false,
         "text": "Line_9.0-10.0<br />I = 42.809 %<br />I_from = 0.171 kA<br />I_to = 0.171 kA<br />",
         "type": "scatter",
         "x": [
          8.0,
          8.5,
          9.0
         ],
         "y": [
          -2.77083333,
          -3.20833333,
          -3.64583333
         ]
        },
        {
         "hoverinfo": "text",
         "legendgroup": "lines",
         "line": {
          "color": "rgb(255.0,55.74074074074078,0.0)",
          "dash": "solid",
          "width": 2
         },
         "mode": "lines",
         "name": "lines",
         "showlegend": false,
         "text": "Line_10.0-11.0<br />I = 85.049 %<br />I_from = 0.17 kA<br />I_to = 0.17 kA<br />",
         "type": "scatter",
         "x": [
          9.0,
          9.5,
          10.0
         ],
         "y": [
          -3.64583333,
          -3.64583333,
          -3.64583333
         ]
        },
        {
         "hoverinfo": "text",
         "legendgroup": "lines",
         "line": {
          "color": "rgb(0.0,0.0,255.0)",
          "dash": "solid",
          "width": 2
         },
         "mode": "lines",
         "name": "lines",
         "showlegend": false,
         "text": "Line_11.0-12.0<br />I = 12.18 %<br />I_from = 0.024 kA<br />I_to = 0.024 kA<br />",
         "type": "scatter",
         "x": [
          10.0,
          10.5,
          11.0
         ],
         "y": [
          -3.64583333,
          -4.02083333,
          -4.39583333
         ]
        },
        {
         "hoverinfo": "text",
         "legendgroup": "lines",
         "line": {
          "color": "rgb(0.0,0.0,222.95454545454544)",
          "dash": "solid",
          "width": 2
         },
         "mode": "lines",
         "name": "lines",
         "showlegend": false,
         "text": "Line_12.0-13.0<br />I = 8.268 %<br />I_from = 0.017 kA<br />I_to = 0.017 kA<br />",
         "type": "scatter",
         "x": [
          11.0,
          11.5,
          12.0
         ],
         "y": [
          -4.39583333,
          -4.64583333,
          -4.89583333
         ]
        },
        {
         "hoverinfo": "text",
         "legendgroup": "lines",
         "line": {
          "color": "rgb(0.0,0.0,141.13636363636363)",
          "dash": "solid",
          "width": 2
         },
         "mode": "lines",
         "name": "lines",
         "showlegend": false,
         "text": "Line_13.0-14.0<br />I = 1.53 %<br />I_from = 0.003 kA<br />I_to = 0.003 kA<br />",
         "type": "scatter",
         "x": [
          12.0,
          12.5,
          13.0
         ],
         "y": [
          -4.89583333,
          -4.89583333,
          -4.89583333
         ]
        },
        {
         "hoverinfo": "text",
         "legendgroup": "lines",
         "line": {
          "color": "rgb(0.0,0.0,141.13636363636363)",
          "dash": "solid",
          "width": 2
         },
         "mode": "lines",
         "name": "lines",
         "showlegend": false,
         "text": "Line_14.0-15.0<br />I = 1.307 %<br />I_from = 0.003 kA<br />I_to = 0.003 kA<br />",
         "type": "scatter",
         "x": [
          13.0,
          13.5,
          14.0
         ],
         "y": [
          -4.89583333,
          -4.89583333,
          -4.89583333
         ]
        },
        {
         "hoverinfo": "text",
         "legendgroup": "lines",
         "line": {
          "color": "rgb(0.0,0.0,141.13636363636363)",
          "dash": "solid",
          "width": 2
         },
         "mode": "lines",
         "name": "lines",
         "showlegend": false,
         "text": "Line_15.0-16.0<br />I = 1.307 %<br />I_from = 0.003 kA<br />I_to = 0.003 kA<br />",
         "type": "scatter",
         "x": [
          14.0,
          14.5,
          15.0
         ],
         "y": [
          -4.89583333,
          -4.89583333,
          -4.89583333
         ]
        },
        {
         "hoverinfo": "text",
         "legendgroup": "lines",
         "line": {
          "color": "rgb(0.0,0.0,127.5)",
          "dash": "solid",
          "width": 2
         },
         "mode": "lines",
         "name": "lines",
         "showlegend": false,
         "text": "Line_16.0-17.0<br />I = 0.199 %<br />I_from = 0.0 kA<br />I_to = 0.0 kA<br />",
         "type": "scatter",
         "x": [
          15.0,
          15.5,
          16.0
         ],
         "y": [
          -4.89583333,
          -4.89583333,
          -4.89583333
         ]
        },
        {
         "hoverinfo": "text",
         "legendgroup": "lines",
         "line": {
          "color": "rgb(0.0,0.0,145.6818181818182)",
          "dash": "solid",
          "width": 2
         },
         "mode": "lines",
         "name": "lines",
         "showlegend": false,
         "text": "Line_17.0-18.0<br />I = 1.606 %<br />I_from = 0.003 kA<br />I_to = 0.003 kA<br />",
         "type": "scatter",
         "x": [
          16.0,
          16.5,
          17.0
         ],
         "y": [
          -4.89583333,
          -4.89583333,
          -4.89583333
         ]
        },
        {
         "hoverinfo": "text",
         "legendgroup": "lines",
         "line": {
          "color": "rgb(0.0,0.0,163.86363636363635)",
          "dash": "solid",
          "width": 2
         },
         "mode": "lines",
         "name": "lines",
         "showlegend": false,
         "text": "Line_18.0-19.0<br />I = 3.21 %<br />I_from = 0.006 kA<br />I_to = 0.006 kA<br />",
         "type": "scatter",
         "x": [
          17.0,
          17.5,
          18.0
         ],
         "y": [
          -4.89583333,
          -4.89583333,
          -4.89583333
         ]
        },
        {
         "hoverinfo": "text",
         "legendgroup": "lines",
         "line": {
          "color": "rgb(0.0,0.0,163.86363636363635)",
          "dash": "solid",
          "width": 2
         },
         "mode": "lines",
         "name": "lines",
         "showlegend": false,
         "text": "Line_19.0-20.0<br />I = 3.21 %<br />I_from = 0.006 kA<br />I_to = 0.006 kA<br />",
         "type": "scatter",
         "x": [
          18.0,
          18.5,
          19.0
         ],
         "y": [
          -4.89583333,
          -4.89583333,
          -4.89583333
         ]
        },
        {
         "hoverinfo": "text",
         "legendgroup": "lines",
         "line": {
          "color": "rgb(0.0,0.0,163.86363636363635)",
          "dash": "solid",
          "width": 2
         },
         "mode": "lines",
         "name": "lines",
         "showlegend": false,
         "text": "Line_20.0-21.0<br />I = 3.237 %<br />I_from = 0.006 kA<br />I_to = 0.006 kA<br />",
         "type": "scatter",
         "x": [
          19.0,
          19.5,
          20.0
         ],
         "y": [
          -4.89583333,
          -4.89583333,
          -4.89583333
         ]
        },
        {
         "hoverinfo": "text",
         "legendgroup": "lines",
         "line": {
          "color": "rgb(0.0,0.0,222.95454545454544)",
          "dash": "solid",
          "width": 2
         },
         "mode": "lines",
         "name": "lines",
         "showlegend": false,
         "text": "Line_21.0-22.0<br />I = 8.591 %<br />I_from = 0.017 kA<br />I_to = 0.017 kA<br />",
         "type": "scatter",
         "x": [
          20.0,
          20.5,
          21.0
         ],
         "y": [
          -4.89583333,
          -4.89583333,
          -4.89583333
         ]
        },
        {
         "hoverinfo": "text",
         "legendgroup": "lines",
         "line": {
          "color": "rgb(0.0,0.0,227.49999999999997)",
          "dash": "solid",
          "width": 2
         },
         "mode": "lines",
         "name": "lines",
         "showlegend": false,
         "text": "Line_22.0-23.0<br />I = 8.661 %<br />I_from = 0.017 kA<br />I_to = 0.017 kA<br />",
         "type": "scatter",
         "x": [
          21.0,
          21.5,
          22.0
         ],
         "y": [
          -4.89583333,
          -4.89583333,
          -4.89583333
         ]
        },
        {
         "hoverinfo": "text",
         "legendgroup": "lines",
         "line": {
          "color": "rgb(0.0,0.0,227.49999999999997)",
          "dash": "solid",
          "width": 2
         },
         "mode": "lines",
         "name": "lines",
         "showlegend": false,
         "text": "Line_23.0-24.0<br />I = 8.661 %<br />I_from = 0.017 kA<br />I_to = 0.017 kA<br />",
         "type": "scatter",
         "x": [
          22.0,
          22.5,
          23.0
         ],
         "y": [
          -4.89583333,
          -4.89583333,
          -4.89583333
         ]
        },
        {
         "hoverinfo": "text",
         "legendgroup": "lines",
         "line": {
          "color": "rgb(0.0,0.0,232.04545454545453)",
          "dash": "solid",
          "width": 2
         },
         "mode": "lines",
         "name": "lines",
         "showlegend": false,
         "text": "Line_24.0-25.0<br />I = 9.077 %<br />I_from = 0.018 kA<br />I_to = 0.018 kA<br />",
         "type": "scatter",
         "x": [
          23.0,
          23.5,
          24.0
         ],
         "y": [
          -4.89583333,
          -4.89583333,
          -4.89583333
         ]
        },
        {
         "hoverinfo": "text",
         "legendgroup": "lines",
         "line": {
          "color": "rgb(0.0,0.0,232.04545454545453)",
          "dash": "solid",
          "width": 2
         },
         "mode": "lines",
         "name": "lines",
         "showlegend": false,
         "text": "Line_25.0-26.0<br />I = 9.077 %<br />I_from = 0.018 kA<br />I_to = 0.018 kA<br />",
         "type": "scatter",
         "x": [
          24.0,
          24.5,
          25.0
         ],
         "y": [
          -4.89583333,
          -4.89583333,
          -4.89583333
         ]
        },
        {
         "hoverinfo": "text",
         "legendgroup": "lines",
         "line": {
          "color": "rgb(0.0,0.0,232.04545454545453)",
          "dash": "solid",
          "width": 2
         },
         "mode": "lines",
         "name": "lines",
         "showlegend": false,
         "text": "Line_26.0-27.0<br />I = 9.304 %<br />I_from = 0.019 kA<br />I_to = 0.019 kA<br />",
         "type": "scatter",
         "x": [
          25.0,
          25.5,
          26.0
         ],
         "y": [
          -4.89583333,
          -4.89583333,
          -4.89583333
         ]
        },
        {
         "hoverinfo": "text",
         "legendgroup": "lines",
         "line": {
          "color": "rgb(0.0,0.0,154.77272727272728)",
          "dash": "solid",
          "width": 2
         },
         "mode": "lines",
         "name": "lines",
         "showlegend": false,
         "text": "Line_3.0-28.0<br />I = 2.488 %<br />I_from = 0.005 kA<br />I_to = 0.005 kA<br />",
         "type": "scatter",
         "x": [
          2.0,
          2.5,
          3.0
         ],
         "y": [
          0.0,
          0.083333335,
          0.16666667
         ]
        },
        {
         "hoverinfo": "text",
         "legendgroup": "lines",
         "line": {
          "color": "rgb(0.0,0.0,145.6818181818182)",
          "dash": "solid",
          "width": 2
         },
         "mode": "lines",
         "name": "lines",
         "showlegend": false,
         "text": "Line_28.0-29.0<br />I = 1.781 %<br />I_from = 0.004 kA<br />I_to = 0.004 kA<br />",
         "type": "scatter",
         "x": [
          3.0,
          3.5,
          4.0
         ],
         "y": [
          0.16666667,
          0.16666667,
          0.16666667
         ]
        },
        {
         "hoverinfo": "text",
         "legendgroup": "lines",
         "line": {
          "color": "rgb(0.0,0.0,136.5909090909091)",
          "dash": "solid",
          "width": 2
         },
         "mode": "lines",
         "name": "lines",
         "showlegend": false,
         "text": "Line_29.0-30.0<br />I = 1.073 %<br />I_from = 0.002 kA<br />I_to = 0.002 kA<br />",
         "type": "scatter",
         "x": [
          4.0,
          4.5,
          5.0
         ],
         "y": [
          0.16666667,
          0.16666667,
          0.16666667
         ]
        },
        {
         "hoverinfo": "text",
         "legendgroup": "lines",
         "line": {
          "color": "rgb(0.0,0.0,136.5909090909091)",
          "dash": "solid",
          "width": 2
         },
         "mode": "lines",
         "name": "lines",
         "showlegend": false,
         "text": "Line_30.0-31.0<br />I = 1.073 %<br />I_from = 0.002 kA<br />I_to = 0.002 kA<br />",
         "type": "scatter",
         "x": [
          5.0,
          5.5,
          6.0
         ],
         "y": [
          0.16666667,
          0.16666667,
          0.16666667
         ]
        },
        {
         "hoverinfo": "text",
         "legendgroup": "lines",
         "line": {
          "color": "rgb(0.0,0.0,136.5909090909091)",
          "dash": "solid",
          "width": 2
         },
         "mode": "lines",
         "name": "lines",
         "showlegend": false,
         "text": "Line_31.0-32.0<br />I = 1.073 %<br />I_from = 0.002 kA<br />I_to = 0.002 kA<br />",
         "type": "scatter",
         "x": [
          6.0,
          6.5,
          7.0
         ],
         "y": [
          0.16666667,
          0.16666667,
          0.16666667
         ]
        },
        {
         "hoverinfo": "text",
         "legendgroup": "lines",
         "line": {
          "color": "rgb(0.0,0.0,136.5909090909091)",
          "dash": "solid",
          "width": 2
         },
         "mode": "lines",
         "name": "lines",
         "showlegend": false,
         "text": "Line_32.0-33.0<br />I = 1.073 %<br />I_from = 0.002 kA<br />I_to = 0.002 kA<br />",
         "type": "scatter",
         "x": [
          7.0,
          7.5,
          8.0
         ],
         "y": [
          0.16666667,
          0.16666667,
          0.16666667
         ]
        },
        {
         "hoverinfo": "text",
         "legendgroup": "lines",
         "line": {
          "color": "rgb(0.0,0.0,132.04545454545453)",
          "dash": "solid",
          "width": 2
         },
         "mode": "lines",
         "name": "lines",
         "showlegend": false,
         "text": "Line_33.0-34.0<br />I = 0.692 %<br />I_from = 0.001 kA<br />I_to = 0.001 kA<br />",
         "type": "scatter",
         "x": [
          8.0,
          8.5,
          9.0
         ],
         "y": [
          0.16666667,
          0.16666667,
          0.16666667
         ]
        },
        {
         "hoverinfo": "text",
         "legendgroup": "lines",
         "line": {
          "color": "rgb(0.0,0.0,127.5)",
          "dash": "solid",
          "width": 2
         },
         "mode": "lines",
         "name": "lines",
         "showlegend": false,
         "text": "Line_34.0-35.0<br />I = 0.16 %<br />I_from = 0.0 kA<br />I_to = 0.0 kA<br />",
         "type": "scatter",
         "x": [
          9.0,
          9.5,
          10.0
         ],
         "y": [
          0.16666667,
          0.16666667,
          0.16666667
         ]
        },
        {
         "hoverinfo": "text",
         "legendgroup": "lines",
         "line": {
          "color": "rgb(159.31818181818184,0.0,0.0)",
          "dash": "solid",
          "width": 2
         },
         "mode": "lines",
         "name": "lines",
         "showlegend": false,
         "text": "Line_3.0-36.0<br />I = 96.958 %<br />I_from = 0.194 kA<br />I_to = 0.194 kA<br />",
         "type": "scatter",
         "x": [
          2.0,
          2.5,
          3.0
         ],
         "y": [
          0.0,
          0.583333335,
          1.16666667
         ]
        },
        {
         "hoverinfo": "text",
         "legendgroup": "lines",
         "line": {
          "color": "rgb(168.40909090909093,0.0,0.0)",
          "dash": "solid",
          "width": 2
         },
         "mode": "lines",
         "name": "lines",
         "showlegend": false,
         "text": "Line_36.0-37.0<br />I = 96.273 %<br />I_from = 0.193 kA<br />I_to = 0.193 kA<br />",
         "type": "scatter",
         "x": [
          3.0,
          3.5,
          4.0
         ],
         "y": [
          1.16666667,
          1.16666667,
          1.16666667
         ]
        },
        {
         "hoverinfo": "text",
         "legendgroup": "lines",
         "line": {
          "color": "rgb(177.50000000000017,0.0,0.0)",
          "dash": "solid",
          "width": 2
         },
         "mode": "lines",
         "name": "lines",
         "showlegend": false,
         "text": "Line_37.0-38.0<br />I = 95.587 %<br />I_from = 0.191 kA<br />I_to = 0.191 kA<br />",
         "type": "scatter",
         "x": [
          4.0,
          4.5,
          5.0
         ],
         "y": [
          1.16666667,
          1.16666667,
          1.16666667
         ]
        },
        {
         "hoverinfo": "text",
         "legendgroup": "lines",
         "line": {
          "color": "rgb(177.50000000000017,0.0,0.0)",
          "dash": "solid",
          "width": 2
         },
         "mode": "lines",
         "name": "lines",
         "showlegend": false,
         "text": "Line_38.0-39.0<br />I = 95.587 %<br />I_from = 0.191 kA<br />I_to = 0.191 kA<br />",
         "type": "scatter",
         "x": [
          5.0,
          5.5,
          6.0
         ],
         "y": [
          1.16666667,
          1.16666667,
          1.16666667
         ]
        },
        {
         "hoverinfo": "text",
         "legendgroup": "lines",
         "line": {
          "color": "rgb(182.0454545454546,0.0,0.0)",
          "dash": "solid",
          "width": 2
         },
         "mode": "lines",
         "name": "lines",
         "showlegend": false,
         "text": "Line_39.0-40.0<br />I = 94.953 %<br />I_from = 0.19 kA<br />I_to = 0.19 kA<br />",
         "type": "scatter",
         "x": [
          6.0,
          6.5,
          7.0
         ],
         "y": [
          1.16666667,
          1.16666667,
          1.16666667
         ]
        },
        {
         "hoverinfo": "text",
         "legendgroup": "lines",
         "line": {
          "color": "rgb(191.13636363636368,0.0,0.0)",
          "dash": "solid",
          "width": 2
         },
         "mode": "lines",
         "name": "lines",
         "showlegend": false,
         "text": "Line_40.0-41.0<br />I = 94.319 %<br />I_from = 0.189 kA<br />I_to = 0.189 kA<br />",
         "type": "scatter",
         "x": [
          7.0,
          7.5,
          8.0
         ],
         "y": [
          1.16666667,
          1.16666667,
          1.16666667
         ]
        },
        {
         "hoverinfo": "text",
         "legendgroup": "lines",
         "line": {
          "color": "rgb(191.13636363636368,0.0,0.0)",
          "dash": "solid",
          "width": 2
         },
         "mode": "lines",
         "name": "lines",
         "showlegend": false,
         "text": "Line_41.0-42.0<br />I = 94.285 %<br />I_from = 0.189 kA<br />I_to = 0.189 kA<br />",
         "type": "scatter",
         "x": [
          8.0,
          8.5,
          9.0
         ],
         "y": [
          1.16666667,
          1.16666667,
          1.16666667
         ]
        },
        {
         "hoverinfo": "text",
         "legendgroup": "lines",
         "line": {
          "color": "rgb(191.13636363636368,0.0,0.0)",
          "dash": "solid",
          "width": 2
         },
         "mode": "lines",
         "name": "lines",
         "showlegend": false,
         "text": "Line_42.0-43.0<br />I = 94.285 %<br />I_from = 0.189 kA<br />I_to = 0.189 kA<br />",
         "type": "scatter",
         "x": [
          9.0,
          9.5,
          10.0
         ],
         "y": [
          1.16666667,
          1.16666667,
          1.16666667
         ]
        },
        {
         "hoverinfo": "text",
         "legendgroup": "lines",
         "line": {
          "color": "rgb(195.68181818181822,0.0,0.0)",
          "dash": "solid",
          "width": 2
         },
         "mode": "lines",
         "name": "lines",
         "showlegend": false,
         "text": "Line_43.0-44.0<br />I = 94.121 %<br />I_from = 0.188 kA<br />I_to = 0.188 kA<br />",
         "type": "scatter",
         "x": [
          10.0,
          10.5,
          11.0
         ],
         "y": [
          1.16666667,
          1.16666667,
          1.16666667
         ]
        },
        {
         "hoverinfo": "text",
         "legendgroup": "lines",
         "line": {
          "color": "rgb(127.5,0.0,0.0)",
          "dash": "solid",
          "width": 2
         },
         "mode": "lines",
         "name": "lines",
         "showlegend": false,
         "text": "Line_44.0-45.0<br />I = 164.826 %<br />I_from = 0.33 kA<br />I_to = 0.33 kA<br />",
         "type": "scatter",
         "x": [
          11.0,
          11.5,
          12.0
         ],
         "y": [
          1.16666667,
          1.16666667,
          1.16666667
         ]
        },
        {
         "hoverinfo": "text",
         "legendgroup": "lines",
         "line": {
          "color": "rgb(127.5,0.0,0.0)",
          "dash": "solid",
          "width": 2
         },
         "mode": "lines",
         "name": "lines",
         "showlegend": false,
         "text": "Line_45.0-46.0<br />I = 163.91 %<br />I_from = 0.328 kA<br />I_to = 0.328 kA<br />",
         "type": "scatter",
         "x": [
          12.0,
          12.5,
          13.0
         ],
         "y": [
          1.16666667,
          1.16666667,
          1.16666667
         ]
        },
        {
         "hoverinfo": "text",
         "legendgroup": "lines",
         "line": {
          "color": "rgb(134.6774193548387,255.0,112.09677419354838)",
          "dash": "solid",
          "width": 2
         },
         "mode": "lines",
         "name": "lines",
         "showlegend": false,
         "text": "Line_4.0-47.0<br />I = 51.227 %<br />I_from = 0.154 kA<br />I_to = 0.154 kA<br />",
         "type": "scatter",
         "x": [
          3.0,
          3.5,
          4.0
         ],
         "y": [
          -1.33333333,
          -1.08333333,
          -0.83333333
         ]
        },
        {
         "hoverinfo": "text",
         "legendgroup": "lines",
         "line": {
          "color": "rgb(134.6774193548387,255.0,112.09677419354838)",
          "dash": "solid",
          "width": 2
         },
         "mode": "lines",
         "name": "lines",
         "showlegend": false,
         "text": "Line_47.0-48.0<br />I = 51.227 %<br />I_from = 0.154 kA<br />I_to = 0.154 kA<br />",
         "type": "scatter",
         "x": [
          4.0,
          4.5,
          5.0
         ],
         "y": [
          -0.83333333,
          -0.83333333,
          -0.83333333
         ]
        },
        {
         "hoverinfo": "text",
         "legendgroup": "lines",
         "line": {
          "color": "rgb(121.77419354838707,255.0,125.00000000000001)",
          "dash": "solid",
          "width": 2
         },
         "mode": "lines",
         "name": "lines",
         "showlegend": false,
         "text": "Line_48.0-49.0<br />I = 49.794 %<br />I_from = 0.149 kA<br />I_to = 0.149 kA<br />",
         "type": "scatter",
         "x": [
          5.0,
          5.5,
          6.0
         ],
         "y": [
          -0.83333333,
          -0.83333333,
          -0.83333333
         ]
        },
        {
         "hoverinfo": "text",
         "legendgroup": "lines",
         "line": {
          "color": "rgb(63.70967741935483,255.0,183.06451612903228)",
          "dash": "solid",
          "width": 2
         },
         "mode": "lines",
         "name": "lines",
         "showlegend": false,
         "text": "Line_49.0-50.0<br />I = 42.739 %<br />I_from = 0.128 kA<br />I_to = 0.128 kA<br />",
         "type": "scatter",
         "x": [
          6.0,
          6.5,
          7.0
         ],
         "y": [
          -0.83333333,
          -0.83333333,
          -0.83333333
         ]
        },
        {
         "hoverinfo": "text",
         "legendgroup": "lines",
         "line": {
          "color": "rgb(0.0,0.0,141.13636363636363)",
          "dash": "solid",
          "width": 2
         },
         "mode": "lines",
         "name": "lines",
         "showlegend": false,
         "text": "Line_8.0-51.0<br />I = 1.218 %<br />I_from = 0.002 kA<br />I_to = 0.002 kA<br />",
         "type": "scatter",
         "x": [
          7.0,
          7.5,
          8.0
         ],
         "y": [
          -1.83333333,
          -1.36458333,
          -0.89583333
         ]
        },
        {
         "hoverinfo": "text",
         "legendgroup": "lines",
         "line": {
          "color": "rgb(0.0,0.0,127.5)",
          "dash": "solid",
          "width": 2
         },
         "mode": "lines",
         "name": "lines",
         "showlegend": false,
         "text": "Line_51.0-52.0<br />I = 0.102 %<br />I_from = 0.0 kA<br />I_to = 0.0 kA<br />",
         "type": "scatter",
         "x": [
          8.0,
          8.5,
          9.0
         ],
         "y": [
          -0.89583333,
          -0.89583333,
          -0.89583333
         ]
        },
        {
         "hoverinfo": "text",
         "legendgroup": "lines",
         "line": {
          "color": "rgb(0.0,0.0,136.5909090909091)",
          "dash": "solid",
          "width": 2
         },
         "mode": "lines",
         "name": "lines",
         "showlegend": false,
         "text": "Line_9.0-53.0<br />I = 0.85 %<br />I_from = 0.003 kA<br />I_to = 0.003 kA<br />",
         "type": "scatter",
         "x": [
          8.0,
          8.5,
          9.0
         ],
         "y": [
          -2.77083333,
          -2.33333333,
          -1.89583333
         ]
        },
        {
         "hoverinfo": "text",
         "legendgroup": "lines",
         "line": {
          "color": "rgb(0.0,0.0,132.04545454545453)",
          "dash": "solid",
          "width": 2
         },
         "mode": "lines",
         "name": "lines",
         "showlegend": false,
         "text": "Line_53.0-54.0<br />I = 0.778 %<br />I_from = 0.002 kA<br />I_to = 0.002 kA<br />",
         "type": "scatter",
         "x": [
          9.0,
          9.5,
          10.0
         ],
         "y": [
          -1.89583333,
          -1.89583333,
          -1.89583333
         ]
        },
        {
         "hoverinfo": "text",
         "legendgroup": "lines",
         "line": {
          "color": "rgb(0.0,0.0,132.04545454545453)",
          "dash": "solid",
          "width": 2
         },
         "mode": "lines",
         "name": "lines",
         "showlegend": false,
         "text": "Line_54.0-55.0<br />I = 0.433 %<br />I_from = 0.001 kA<br />I_to = 0.001 kA<br />",
         "type": "scatter",
         "x": [
          10.0,
          10.5,
          11.0
         ],
         "y": [
          -1.89583333,
          -1.89583333,
          -1.89583333
         ]
        },
        {
         "hoverinfo": "text",
         "legendgroup": "lines",
         "line": {
          "color": "rgb(0.0,0.0,132.04545454545453)",
          "dash": "solid",
          "width": 2
         },
         "mode": "lines",
         "name": "lines",
         "showlegend": false,
         "text": "Line_55.0-56.0<br />I = 0.473 %<br />I_from = 0.001 kA<br />I_to = 0.001 kA<br />",
         "type": "scatter",
         "x": [
          11.0,
          11.5,
          12.0
         ],
         "y": [
          -1.89583333,
          -1.89583333,
          -1.89583333
         ]
        },
        {
         "hoverinfo": "text",
         "legendgroup": "lines",
         "line": {
          "color": "rgb(0.0,0.0,132.04545454545453)",
          "dash": "solid",
          "width": 2
         },
         "mode": "lines",
         "name": "lines",
         "showlegend": false,
         "text": "Line_56.0-57.0<br />I = 0.473 %<br />I_from = 0.001 kA<br />I_to = 0.001 kA<br />",
         "type": "scatter",
         "x": [
          12.0,
          12.5,
          13.0
         ],
         "y": [
          -1.89583333,
          -1.89583333,
          -1.89583333
         ]
        },
        {
         "hoverinfo": "text",
         "legendgroup": "lines",
         "line": {
          "color": "rgb(0.0,0.0,132.04545454545453)",
          "dash": "solid",
          "width": 2
         },
         "mode": "lines",
         "name": "lines",
         "showlegend": false,
         "text": "Line_57.0-58.0<br />I = 0.473 %<br />I_from = 0.001 kA<br />I_to = 0.001 kA<br />",
         "type": "scatter",
         "x": [
          13.0,
          13.5,
          14.0
         ],
         "y": [
          -1.89583333,
          -1.89583333,
          -1.89583333
         ]
        },
        {
         "hoverinfo": "text",
         "legendgroup": "lines",
         "line": {
          "color": "rgb(0.0,0.0,132.04545454545453)",
          "dash": "solid",
          "width": 2
         },
         "mode": "lines",
         "name": "lines",
         "showlegend": false,
         "text": "Line_58.0-59.0<br />I = 0.473 %<br />I_from = 0.001 kA<br />I_to = 0.001 kA<br />",
         "type": "scatter",
         "x": [
          14.0,
          14.5,
          15.0
         ],
         "y": [
          -1.89583333,
          -1.89583333,
          -1.89583333
         ]
        },
        {
         "hoverinfo": "text",
         "legendgroup": "lines",
         "line": {
          "color": "rgb(0.0,216.5,255.0)",
          "dash": "solid",
          "width": 2
         },
         "mode": "lines",
         "name": "lines",
         "showlegend": false,
         "text": "Line_59.0-60.0<br />I = 33.635 %<br />I_from = 0.101 kA<br />I_to = 0.101 kA<br />",
         "type": "scatter",
         "x": [
          15.0,
          15.5,
          16.0
         ],
         "y": [
          -1.89583333,
          -1.89583333,
          -1.89583333
         ]
        },
        {
         "hoverinfo": "text",
         "legendgroup": "lines",
         "line": {
          "color": "rgb(0.0,216.5,255.0)",
          "dash": "solid",
          "width": 2
         },
         "mode": "lines",
         "name": "lines",
         "showlegend": false,
         "text": "Line_60.0-61.0<br />I = 33.635 %<br />I_from = 0.101 kA<br />I_to = 0.101 kA<br />",
         "type": "scatter",
         "x": [
          16.0,
          16.5,
          17.0
         ],
         "y": [
          -1.89583333,
          -1.89583333,
          -1.89583333
         ]
        },
        {
         "hoverinfo": "text",
         "legendgroup": "lines",
         "line": {
          "color": "rgb(0.0,0.0,254.77272727272725)",
          "dash": "solid",
          "width": 2
         },
         "mode": "lines",
         "name": "lines",
         "showlegend": false,
         "text": "Line_61.0-62.0<br />I = 11.102 %<br />I_from = 0.033 kA<br />I_to = 0.033 kA<br />",
         "type": "scatter",
         "x": [
          17.0,
          17.5,
          18.0
         ],
         "y": [
          -1.89583333,
          -1.89583333,
          -1.89583333
         ]
        },
        {
         "hoverinfo": "text",
         "legendgroup": "lines",
         "line": {
          "color": "rgb(0.0,0.0,250.22727272727272)",
          "dash": "solid",
          "width": 2
         },
         "mode": "lines",
         "name": "lines",
         "showlegend": false,
         "text": "Line_62.0-63.0<br />I = 10.569 %<br />I_from = 0.032 kA<br />I_to = 0.032 kA<br />",
         "type": "scatter",
         "x": [
          18.0,
          18.5,
          19.0
         ],
         "y": [
          -1.89583333,
          -1.89583333,
          -1.89583333
         ]
        },
        {
         "hoverinfo": "text",
         "legendgroup": "lines",
         "line": {
          "color": "rgb(0.0,0.0,250.22727272727272)",
          "dash": "solid",
          "width": 2
         },
         "mode": "lines",
         "name": "lines",
         "showlegend": false,
         "text": "Line_63.0-64.0<br />I = 10.569 %<br />I_from = 0.032 kA<br />I_to = 0.032 kA<br />",
         "type": "scatter",
         "x": [
          19.0,
          19.5,
          20.0
         ],
         "y": [
          -1.89583333,
          -1.89583333,
          -1.89583333
         ]
        },
        {
         "hoverinfo": "text",
         "legendgroup": "lines",
         "line": {
          "color": "rgb(0.0,0.0,209.3181818181818)",
          "dash": "solid",
          "width": 2
         },
         "mode": "lines",
         "name": "lines",
         "showlegend": false,
         "text": "Line_64.0-65.0<br />I = 7.1 %<br />I_from = 0.021 kA<br />I_to = 0.021 kA<br />",
         "type": "scatter",
         "x": [
          20.0,
          20.5,
          21.0
         ],
         "y": [
          -1.89583333,
          -1.89583333,
          -1.89583333
         ]
        },
        {
         "hoverinfo": "text",
         "legendgroup": "lines",
         "line": {
          "color": "rgb(0.0,0.0,136.5909090909091)",
          "dash": "solid",
          "width": 2
         },
         "mode": "lines",
         "name": "lines",
         "showlegend": false,
         "text": "Line_11.0-66.0<br />I = 1.027 %<br />I_from = 0.002 kA<br />I_to = 0.002 kA<br />",
         "type": "scatter",
         "x": [
          10.0,
          10.5,
          11.0
         ],
         "y": [
          -3.64583333,
          -3.27083333,
          -2.89583333
         ]
        },
        {
         "hoverinfo": "text",
         "legendgroup": "lines",
         "line": {
          "color": "rgb(0.0,0.0,132.04545454545453)",
          "dash": "solid",
          "width": 2
         },
         "mode": "lines",
         "name": "lines",
         "showlegend": false,
         "text": "Line_66.0-67.0<br />I = 0.513 %<br />I_from = 0.001 kA<br />I_to = 0.001 kA<br />",
         "type": "scatter",
         "x": [
          11.0,
          11.5,
          12.0
         ],
         "y": [
          -2.89583333,
          -2.89583333,
          -2.89583333
         ]
        },
        {
         "hoverinfo": "text",
         "legendgroup": "lines",
         "line": {
          "color": "rgb(0.0,0.0,145.6818181818182)",
          "dash": "solid",
          "width": 2
         },
         "mode": "lines",
         "name": "lines",
         "showlegend": false,
         "text": "Line_12.0-68.0<br />I = 1.594 %<br />I_from = 0.003 kA<br />I_to = 0.003 kA<br />",
         "type": "scatter",
         "x": [
          11.0,
          11.5,
          12.0
         ],
         "y": [
          -4.39583333,
          -4.14583333,
          -3.89583333
         ]
        },
        {
         "hoverinfo": "text",
         "legendgroup": "lines",
         "line": {
          "color": "rgb(0.0,0.0,136.5909090909091)",
          "dash": "solid",
          "width": 2
         },
         "mode": "lines",
         "name": "lines",
         "showlegend": false,
         "text": "Line_68.0-69.0<br />I = 0.797 %<br />I_from = 0.002 kA<br />I_to = 0.002 kA<br />",
         "type": "scatter",
         "x": [
          12.0,
          12.5,
          13.0
         ],
         "y": [
          -3.89583333,
          -3.89583333,
          -3.89583333
         ]
        },
        {
         "hoverinfo": "text",
         "legendgroup": "lines",
         "line": {
          "color": "rgb(154.03225806451613,255.0,92.74193548387096)",
          "dash": "solid",
          "width": 2
         },
         "mode": "lines",
         "name": "lines",
         "showlegend": false,
         "text": "Tie_Line_50-59<br />I = 53.518 %<br />I_from = 0.107 kA<br />I_to = 0.107 kA<br />",
         "type": "scatter",
         "x": [
          7.0,
          11.0,
          15.0
         ],
         "y": [
          -0.83333333,
          -1.36458333,
          -1.89583333
         ]
        },
        {
         "hoverinfo": "text",
         "legendgroup": "lines",
         "line": {
          "color": "rgb(255.0,92.77777777777783,0.0)",
          "dash": "solid",
          "width": 2
         },
         "mode": "lines",
         "name": "lines",
         "showlegend": false,
         "text": "Tie_Line_11-44<br />I = 80.991 %<br />I_from = 0.162 kA<br />I_to = 0.162 kA<br />",
         "type": "scatter",
         "x": [
          10.0,
          10.5,
          11.0
         ],
         "y": [
          -3.64583333,
          -1.23958333,
          1.16666667
         ]
        },
        {
         "hoverinfo": "text",
         "legendgroup": "lines",
         "line": {
          "color": "rgb(0.0,0.0,213.86363636363635)",
          "dash": "solid",
          "width": 2
         },
         "mode": "lines",
         "name": "lines",
         "showlegend": false,
         "text": "Tie_Line_13-21<br />I = 7.435 %<br />I_from = 0.015 kA<br />I_to = 0.015 kA<br />",
         "type": "scatter",
         "x": [
          12.0,
          16.0,
          20.0
         ],
         "y": [
          -4.89583333,
          -4.89583333,
          -4.89583333
         ]
        },
        {
         "hoverinfo": "text",
         "legendgroup": "lines",
         "line": {
          "color": "rgb(0.0,0.0,236.59090909090907)",
          "dash": "solid",
          "width": 2
         },
         "mode": "lines",
         "name": "lines",
         "showlegend": false,
         "text": "Tie_Line_65-27<br />I = 9.541 %<br />I_from = 0.019 kA<br />I_to = 0.019 kA<br />",
         "type": "scatter",
         "x": [
          21.0,
          23.5,
          26.0
         ],
         "y": [
          -1.89583333,
          -3.3958333300000003,
          -4.89583333
         ]
        },
        {
         "hoverinfo": "text",
         "legendgroup": "lines",
         "marker": {
          "color": "rgb(128, 128, 128)",
          "size": 1,
          "symbol": "circle"
         },
         "mode": "markers",
         "name": "edge_center",
         "showlegend": false,
         "text": [
          "Line_1.0-2.0<br />I = 128.965 %<br />I_from = 0.516 kA<br />I_to = 0.516 kA<br />",
          "Line_2.0-3.0<br />I = 128.965 %<br />I_from = 0.516 kA<br />I_to = 0.516 kA<br />",
          "Line_3.0-4.0<br />I = 79.732 %<br />I_from = 0.319 kA<br />I_to = 0.319 kA<br />",
          "Line_4.0-5.0<br />I = 45.387 %<br />I_from = 0.182 kA<br />I_to = 0.182 kA<br />",
          "Line_5.0-6.0<br />I = 45.387 %<br />I_from = 0.182 kA<br />I_to = 0.182 kA<br />",
          "Line_6.0-7.0<br />I = 45.361 %<br />I_from = 0.181 kA<br />I_to = 0.181 kA<br />",
          "Line_7.0-8.0<br />I = 44.942 %<br />I_from = 0.18 kA<br />I_to = 0.18 kA<br />",
          "Line_8.0-9.0<br />I = 43.722 %<br />I_from = 0.175 kA<br />I_to = 0.175 kA<br />",
          "Line_9.0-10.0<br />I = 42.809 %<br />I_from = 0.171 kA<br />I_to = 0.171 kA<br />",
          "Line_10.0-11.0<br />I = 85.049 %<br />I_from = 0.17 kA<br />I_to = 0.17 kA<br />",
          "Line_11.0-12.0<br />I = 12.18 %<br />I_from = 0.024 kA<br />I_to = 0.024 kA<br />",
          "Line_12.0-13.0<br />I = 8.268 %<br />I_from = 0.017 kA<br />I_to = 0.017 kA<br />",
          "Line_13.0-14.0<br />I = 1.53 %<br />I_from = 0.003 kA<br />I_to = 0.003 kA<br />",
          "Line_14.0-15.0<br />I = 1.307 %<br />I_from = 0.003 kA<br />I_to = 0.003 kA<br />",
          "Line_15.0-16.0<br />I = 1.307 %<br />I_from = 0.003 kA<br />I_to = 0.003 kA<br />",
          "Line_16.0-17.0<br />I = 0.199 %<br />I_from = 0.0 kA<br />I_to = 0.0 kA<br />",
          "Line_17.0-18.0<br />I = 1.606 %<br />I_from = 0.003 kA<br />I_to = 0.003 kA<br />",
          "Line_18.0-19.0<br />I = 3.21 %<br />I_from = 0.006 kA<br />I_to = 0.006 kA<br />",
          "Line_19.0-20.0<br />I = 3.21 %<br />I_from = 0.006 kA<br />I_to = 0.006 kA<br />",
          "Line_20.0-21.0<br />I = 3.237 %<br />I_from = 0.006 kA<br />I_to = 0.006 kA<br />",
          "Line_21.0-22.0<br />I = 8.591 %<br />I_from = 0.017 kA<br />I_to = 0.017 kA<br />",
          "Line_22.0-23.0<br />I = 8.661 %<br />I_from = 0.017 kA<br />I_to = 0.017 kA<br />",
          "Line_23.0-24.0<br />I = 8.661 %<br />I_from = 0.017 kA<br />I_to = 0.017 kA<br />",
          "Line_24.0-25.0<br />I = 9.077 %<br />I_from = 0.018 kA<br />I_to = 0.018 kA<br />",
          "Line_25.0-26.0<br />I = 9.077 %<br />I_from = 0.018 kA<br />I_to = 0.018 kA<br />",
          "Line_26.0-27.0<br />I = 9.304 %<br />I_from = 0.019 kA<br />I_to = 0.019 kA<br />",
          "Line_3.0-28.0<br />I = 2.488 %<br />I_from = 0.005 kA<br />I_to = 0.005 kA<br />",
          "Line_28.0-29.0<br />I = 1.781 %<br />I_from = 0.004 kA<br />I_to = 0.004 kA<br />",
          "Line_29.0-30.0<br />I = 1.073 %<br />I_from = 0.002 kA<br />I_to = 0.002 kA<br />",
          "Line_30.0-31.0<br />I = 1.073 %<br />I_from = 0.002 kA<br />I_to = 0.002 kA<br />",
          "Line_31.0-32.0<br />I = 1.073 %<br />I_from = 0.002 kA<br />I_to = 0.002 kA<br />",
          "Line_32.0-33.0<br />I = 1.073 %<br />I_from = 0.002 kA<br />I_to = 0.002 kA<br />",
          "Line_33.0-34.0<br />I = 0.692 %<br />I_from = 0.001 kA<br />I_to = 0.001 kA<br />",
          "Line_34.0-35.0<br />I = 0.16 %<br />I_from = 0.0 kA<br />I_to = 0.0 kA<br />",
          "Line_3.0-36.0<br />I = 96.958 %<br />I_from = 0.194 kA<br />I_to = 0.194 kA<br />",
          "Line_36.0-37.0<br />I = 96.273 %<br />I_from = 0.193 kA<br />I_to = 0.193 kA<br />",
          "Line_37.0-38.0<br />I = 95.587 %<br />I_from = 0.191 kA<br />I_to = 0.191 kA<br />",
          "Line_38.0-39.0<br />I = 95.587 %<br />I_from = 0.191 kA<br />I_to = 0.191 kA<br />",
          "Line_39.0-40.0<br />I = 94.953 %<br />I_from = 0.19 kA<br />I_to = 0.19 kA<br />",
          "Line_40.0-41.0<br />I = 94.319 %<br />I_from = 0.189 kA<br />I_to = 0.189 kA<br />",
          "Line_41.0-42.0<br />I = 94.285 %<br />I_from = 0.189 kA<br />I_to = 0.189 kA<br />",
          "Line_42.0-43.0<br />I = 94.285 %<br />I_from = 0.189 kA<br />I_to = 0.189 kA<br />",
          "Line_43.0-44.0<br />I = 94.121 %<br />I_from = 0.188 kA<br />I_to = 0.188 kA<br />",
          "Line_44.0-45.0<br />I = 164.826 %<br />I_from = 0.33 kA<br />I_to = 0.33 kA<br />",
          "Line_45.0-46.0<br />I = 163.91 %<br />I_from = 0.328 kA<br />I_to = 0.328 kA<br />",
          "Line_4.0-47.0<br />I = 51.227 %<br />I_from = 0.154 kA<br />I_to = 0.154 kA<br />",
          "Line_47.0-48.0<br />I = 51.227 %<br />I_from = 0.154 kA<br />I_to = 0.154 kA<br />",
          "Line_48.0-49.0<br />I = 49.794 %<br />I_from = 0.149 kA<br />I_to = 0.149 kA<br />",
          "Line_49.0-50.0<br />I = 42.739 %<br />I_from = 0.128 kA<br />I_to = 0.128 kA<br />",
          "Line_8.0-51.0<br />I = 1.218 %<br />I_from = 0.002 kA<br />I_to = 0.002 kA<br />",
          "Line_51.0-52.0<br />I = 0.102 %<br />I_from = 0.0 kA<br />I_to = 0.0 kA<br />",
          "Line_9.0-53.0<br />I = 0.85 %<br />I_from = 0.003 kA<br />I_to = 0.003 kA<br />",
          "Line_53.0-54.0<br />I = 0.778 %<br />I_from = 0.002 kA<br />I_to = 0.002 kA<br />",
          "Line_54.0-55.0<br />I = 0.433 %<br />I_from = 0.001 kA<br />I_to = 0.001 kA<br />",
          "Line_55.0-56.0<br />I = 0.473 %<br />I_from = 0.001 kA<br />I_to = 0.001 kA<br />",
          "Line_56.0-57.0<br />I = 0.473 %<br />I_from = 0.001 kA<br />I_to = 0.001 kA<br />",
          "Line_57.0-58.0<br />I = 0.473 %<br />I_from = 0.001 kA<br />I_to = 0.001 kA<br />",
          "Line_58.0-59.0<br />I = 0.473 %<br />I_from = 0.001 kA<br />I_to = 0.001 kA<br />",
          "Line_59.0-60.0<br />I = 33.635 %<br />I_from = 0.101 kA<br />I_to = 0.101 kA<br />",
          "Line_60.0-61.0<br />I = 33.635 %<br />I_from = 0.101 kA<br />I_to = 0.101 kA<br />",
          "Line_61.0-62.0<br />I = 11.102 %<br />I_from = 0.033 kA<br />I_to = 0.033 kA<br />",
          "Line_62.0-63.0<br />I = 10.569 %<br />I_from = 0.032 kA<br />I_to = 0.032 kA<br />",
          "Line_63.0-64.0<br />I = 10.569 %<br />I_from = 0.032 kA<br />I_to = 0.032 kA<br />",
          "Line_64.0-65.0<br />I = 7.1 %<br />I_from = 0.021 kA<br />I_to = 0.021 kA<br />",
          "Line_11.0-66.0<br />I = 1.027 %<br />I_from = 0.002 kA<br />I_to = 0.002 kA<br />",
          "Line_66.0-67.0<br />I = 0.513 %<br />I_from = 0.001 kA<br />I_to = 0.001 kA<br />",
          "Line_12.0-68.0<br />I = 1.594 %<br />I_from = 0.003 kA<br />I_to = 0.003 kA<br />",
          "Line_68.0-69.0<br />I = 0.797 %<br />I_from = 0.002 kA<br />I_to = 0.002 kA<br />",
          "Tie_Line_50-59<br />I = 53.518 %<br />I_from = 0.107 kA<br />I_to = 0.107 kA<br />",
          "Tie_Line_11-44<br />I = 80.991 %<br />I_from = 0.162 kA<br />I_to = 0.162 kA<br />",
          "Tie_Line_13-21<br />I = 7.435 %<br />I_from = 0.015 kA<br />I_to = 0.015 kA<br />",
          "Tie_Line_65-27<br />I = 9.541 %<br />I_from = 0.019 kA<br />I_to = 0.019 kA<br />"
         ],
         "type": "scatter",
         "x": [
          0.5
         ],
         "y": [
          0.0
         ]
        },
        {
         "hoverinfo": "text",
         "marker": {
          "color": "rgb(128, 128, 128)",
          "size": 20,
          "symbol": "square"
         },
         "mode": "markers",
         "name": "external_grid",
         "text": [
          "Bus_1"
         ],
         "type": "scatter",
         "x": [
          0.0
         ],
         "y": [
          0.0
         ]
        },
        {
         "hoverinfo": "text",
         "marker": {
          "cmax": 1.1,
          "cmin": 0.9,
          "color": {
           "bdata": "exSuR+F68D+FBE0VpnrwP9z7SORqevA/sdVFoAZ68D/QWYvuvHfwP8J8i8ZUVPA/TF3LtqIv8D/mq6O/5ybwP4poN1JxIvA/Cluc9Sax7z/s4opR0I/vPxB/AXeYg+8/yInxN0B/7z8Ah4JZxXvvP9pJnb/IeO8/D40AqDp47z83jykgQHjvPxflyq9EeO8/8xMRZbl67z/4SVYNTXzvP+GkQQ7ifu8/uFLMGhZ/7z82EPgCcoHvP+AZEwSVhu8/C/vwPwuT7z9JntA/MJjvPyfDp7o6m+8/Jkfe22N68D+uSNneGnrwP+F26o+fefA/+HCVzYl58D/SyhQCHXnwP2VrUjAYePA/y4DMpcJ28D9uvSUFfnbwPwWKl7uMefA/q8W6AxZt8D8JYFUS5F3wPxX7AvGBWfA/l4TtCEBZ8D/M5IXtfeTvP5b2861Yje8/XFMmQtqB7z/wCssmOH/vP6Qay8hyVu8/YXF4tR1W7z/Zxle/ZnnwP7eKjIHfafA/49Wlzs028D/cwih3kirwP19B3bjDJvA/dPPHDLom8D/+b7ObLSLwPzzco6/mIfA/tnDY68Uh8D/oniVN4SHwP14HHN9DIvA/dj5Qe3Qi8D+82uQNhyLwP1GO6esPDPA/C1zY7LbX7z9Cbajv1tPvP9lvDa9lzu8/OLeHKryz7z+nCWOoUZ3vP7UwUyVbj+8/tWYtyFmP7z8MCL4y8IDvPyr0GQbugO8/",
           "dtype": "f8"
          },
          "colorbar": {
           "thickness": 10,
           "title": {
            "side": "right",
            "text": "Bus Voltage [pu]"
           },
           "x": 1.0
          },
          "colorscale": [
           [
            0.0,
            "rgb(0,0,131)"
           ],
           [
            0.2,
            "rgb(0,60,170)"
           ],
           [
            0.4,
            "rgb(5,255,255)"
           ],
           [
            0.6,
            "rgb(255,255,0)"
           ],
           [
            0.8,
            "rgb(250,0,0)"
           ],
           [
            1.0,
            "rgb(128,0,0)"
           ]
          ],
          "size": 10,
          "symbol": "circle"
         },
         "mode": "markers",
         "name": "buses",
         "text": [
          "Bus_1<br />V_m = 1.03 pu<br />V_m = 13.04 kV<br />V_a = 0.0 deg",
          "Bus_2<br />V_m = 1.03 pu<br />V_m = 13.039 kV<br />V_a = -0.004 deg",
          "Bus_3<br />V_m = 1.03 pu<br />V_m = 13.038 kV<br />V_a = -0.008 deg",
          "Bus_4<br />V_m = 1.03 pu<br />V_m = 13.037 kV<br />V_a = -0.016 deg",
          "Bus_5<br />V_m = 1.029 pu<br />V_m = 13.03 kV<br />V_a = -0.059 deg",
          "Bus_6<br />V_m = 1.021 pu<br />V_m = 12.921 kV<br />V_a = -0.362 deg",
          "Bus_7<br />V_m = 1.012 pu<br />V_m = 12.807 kV<br />V_a = -0.683 deg",
          "Bus_8<br />V_m = 1.009 pu<br />V_m = 12.78 kV<br />V_a = -0.762 deg",
          "Bus_9<br />V_m = 1.008 pu<br />V_m = 12.766 kV<br />V_a = -0.805 deg",
          "Bus_10<br />V_m = 0.99 pu<br />V_m = 12.538 kV<br />V_a = -1.328 deg",
          "Bus_11<br />V_m = 0.986 pu<br />V_m = 12.487 kV<br />V_a = -1.45 deg",
          "Bus_12<br />V_m = 0.985 pu<br />V_m = 12.468 kV<br />V_a = -1.334 deg",
          "Bus_13<br />V_m = 0.984 pu<br />V_m = 12.461 kV<br />V_a = -1.195 deg",
          "Bus_14<br />V_m = 0.984 pu<br />V_m = 12.456 kV<br />V_a = -1.184 deg",
          "Bus_15<br />V_m = 0.983 pu<br />V_m = 12.451 kV<br />V_a = -1.175 deg",
          "Bus_16<br />V_m = 0.983 pu<br />V_m = 12.45 kV<br />V_a = -1.173 deg",
          "Bus_17<br />V_m = 0.983 pu<br />V_m = 12.45 kV<br />V_a = -1.172 deg",
          "Bus_18<br />V_m = 0.983 pu<br />V_m = 12.45 kV<br />V_a = -1.172 deg",
          "Bus_19<br />V_m = 0.984 pu<br />V_m = 12.454 kV<br />V_a = -1.174 deg",
          "Bus_20<br />V_m = 0.984 pu<br />V_m = 12.456 kV<br />V_a = -1.176 deg",
          "Bus_21<br />V_m = 0.984 pu<br />V_m = 12.46 kV<br />V_a = -1.179 deg",
          "Bus_22<br />V_m = 0.984 pu<br />V_m = 12.461 kV<br />V_a = -1.177 deg",
          "Bus_23<br />V_m = 0.985 pu<br />V_m = 12.464 kV<br />V_a = -1.162 deg",
          "Bus_24<br />V_m = 0.985 pu<br />V_m = 12.472 kV<br />V_a = -1.127 deg",
          "Bus_25<br />V_m = 0.987 pu<br />V_m = 12.492 kV<br />V_a = -1.055 deg",
          "Bus_26<br />V_m = 0.987 pu<br />V_m = 12.5 kV<br />V_a = -1.026 deg",
          "Bus_27<br />V_m = 0.988 pu<br />V_m = 12.504 kV<br />V_a = -1.01 deg",
          "Bus_28<br />V_m = 1.03 pu<br />V_m = 13.038 kV<br />V_a = -0.008 deg",
          "Bus_29<br />V_m = 1.03 pu<br />V_m = 13.037 kV<br />V_a = -0.011 deg",
          "Bus_30<br />V_m = 1.03 pu<br />V_m = 13.036 kV<br />V_a = -0.009 deg",
          "Bus_31<br />V_m = 1.03 pu<br />V_m = 13.036 kV<br />V_a = -0.008 deg",
          "Bus_32<br />V_m = 1.03 pu<br />V_m = 13.034 kV<br />V_a = -0.007 deg",
          "Bus_33<br />V_m = 1.029 pu<br />V_m = 13.031 kV<br />V_a = -0.002 deg",
          "Bus_34<br />V_m = 1.029 pu<br />V_m = 13.027 kV<br />V_a = 0.003 deg",
          "Bus_35<br />V_m = 1.029 pu<br />V_m = 13.026 kV<br />V_a = 0.004 deg",
          "Bus_36<br />V_m = 1.03 pu<br />V_m = 13.036 kV<br />V_a = -0.021 deg",
          "Bus_37<br />V_m = 1.027 pu<br />V_m = 12.997 kV<br />V_a = -0.202 deg",
          "Bus_38<br />V_m = 1.023 pu<br />V_m = 12.95 kV<br />V_a = -0.316 deg",
          "Bus_39<br />V_m = 1.022 pu<br />V_m = 12.937 kV<br />V_a = -0.349 deg",
          "Bus_40<br />V_m = 1.022 pu<br />V_m = 12.936 kV<br />V_a = -0.351 deg",
          "Bus_41<br />V_m = 0.997 pu<br />V_m = 12.617 kV<br />V_a = -1.16 deg",
          "Bus_42<br />V_m = 0.986 pu<br />V_m = 12.483 kV<br />V_a = -1.517 deg",
          "Bus_43<br />V_m = 0.985 pu<br />V_m = 12.465 kV<br />V_a = -1.565 deg",
          "Bus_44<br />V_m = 0.984 pu<br />V_m = 12.461 kV<br />V_a = -1.577 deg",
          "Bus_45<br />V_m = 0.979 pu<br />V_m = 12.398 kV<br />V_a = -1.935 deg",
          "Bus_46<br />V_m = 0.979 pu<br />V_m = 12.397 kV<br />V_a = -1.938 deg",
          "Bus_47<br />V_m = 1.03 pu<br />V_m = 13.035 kV<br />V_a = -0.022 deg",
          "Bus_48<br />V_m = 1.026 pu<br />V_m = 12.987 kV<br />V_a = -0.18 deg",
          "Bus_49<br />V_m = 1.013 pu<br />V_m = 12.829 kV<br />V_a = -0.712 deg",
          "Bus_50<br />V_m = 1.01 pu<br />V_m = 12.792 kV<br />V_a = -0.846 deg",
          "Bus_51<br />V_m = 1.009 pu<br />V_m = 12.78 kV<br />V_a = -0.762 deg",
          "Bus_52<br />V_m = 1.009 pu<br />V_m = 12.78 kV<br />V_a = -0.762 deg",
          "Bus_53<br />V_m = 1.008 pu<br />V_m = 12.766 kV<br />V_a = -0.806 deg",
          "Bus_54<br />V_m = 1.008 pu<br />V_m = 12.765 kV<br />V_a = -0.808 deg",
          "Bus_55<br />V_m = 1.008 pu<br />V_m = 12.764 kV<br />V_a = -0.81 deg",
          "Bus_56<br />V_m = 1.008 pu<br />V_m = 12.765 kV<br />V_a = -0.813 deg",
          "Bus_57<br />V_m = 1.008 pu<br />V_m = 12.766 kV<br />V_a = -0.831 deg",
          "Bus_58<br />V_m = 1.008 pu<br />V_m = 12.766 kV<br />V_a = -0.84 deg",
          "Bus_59<br />V_m = 1.008 pu<br />V_m = 12.767 kV<br />V_a = -0.843 deg",
          "Bus_60<br />V_m = 1.003 pu<br />V_m = 12.697 kV<br />V_a = -0.788 deg",
          "Bus_61<br />V_m = 0.995 pu<br />V_m = 12.598 kV<br />V_a = -0.788 deg",
          "Bus_62<br />V_m = 0.995 pu<br />V_m = 12.592 kV<br />V_a = -0.797 deg",
          "Bus_63<br />V_m = 0.994 pu<br />V_m = 12.583 kV<br />V_a = -0.811 deg",
          "Bus_64<br />V_m = 0.991 pu<br />V_m = 12.542 kV<br />V_a = -0.878 deg",
          "Bus_65<br />V_m = 0.988 pu<br />V_m = 12.507 kV<br />V_a = -0.996 deg",
          "Bus_66<br />V_m = 0.986 pu<br />V_m = 12.486 kV<br />V_a = -1.449 deg",
          "Bus_67<br />V_m = 0.986 pu<br />V_m = 12.486 kV<br />V_a = -1.449 deg",
          "Bus_68<br />V_m = 0.984 pu<br />V_m = 12.464 kV<br />V_a = -1.328 deg",
          "Bus_69<br />V_m = 0.984 pu<br />V_m = 12.464 kV<br />V_a = -1.328 deg"
         ],
         "type": "scatter",
         "x": [
          0.0,
          1.0,
          2.0,
          3.0,
          4.0,
          5.0,
          6.0,
          7.0,
          8.0,
          9.0,
          10.0,
          11.0,
          12.0,
          13.0,
          14.0,
          15.0,
          16.0,
          17.0,
          18.0,
          19.0,
          20.0,
          21.0,
          22.0,
          23.0,
          24.0,
          25.0,
          26.0,
          3.0,
          4.0,
          5.0,
          6.0,
          7.0,
          8.0,
          9.0,
          10.0,
          3.0,
          4.0,
          5.0,
          6.0,
          7.0,
          8.0,
          9.0,
          10.0,
          11.0,
          12.0,
          13.0,
          4.0,
          5.0,
          6.0,
          7.0,
          8.0,
          9.0,
          9.0,
          10.0,
          11.0,
          12.0,
          13.0,
          14.0,
          15.0,
          16.0,
          17.0,
          18.0,
          19.0,
          20.0,
          21.0,
          11.0,
          12.0,
          12.0,
          13.0
         ],
         "y": [
          0.0,
          0.0,
          0.0,
          -1.33333333,
          -1.83333333,
          -1.83333333,
          -1.83333333,
          -1.83333333,
          -2.77083333,
          -3.64583333,
          -3.64583333,
          -4.39583333,
          -4.89583333,
          -4.89583333,
          -4.89583333,
          -4.89583333,
          -4.89583333,
          -4.89583333,
          -4.89583333,
          -4.89583333,
          -4.89583333,
          -4.89583333,
          -4.89583333,
          -4.89583333,
          -4.89583333,
          -4.89583333,
          -4.89583333,
          0.16666667,
          0.16666667,
          0.16666667,
          0.16666667,
          0.16666667,
          0.16666667,
          0.16666667,
          0.16666667,
          1.16666667,
          1.16666667,
          1.16666667,
          1.16666667,
          1.16666667,
          1.16666667,
          1.16666667,
          1.16666667,
          1.16666667,
          1.16666667,
          1.16666667,
          -0.83333333,
          -0.83333333,
          -0.83333333,
          -0.83333333,
          -0.89583333,
          -0.89583333,
          -1.89583333,
          -1.89583333,
          -1.89583333,
          -1.89583333,
          -1.89583333,
          -1.89583333,
          -1.89583333,
          -1.89583333,
          -1.89583333,
          -1.89583333,
          -1.89583333,
          -1.89583333,
          -1.89583333,
          -2.89583333,
          -2.89583333,
          -3.89583333,
          -3.89583333
         ]
        }
       ],
       "layout": {
        "autosize": true,
        "height": 163.22115384615384,
        "hovermode": "closest",
        "legend": {
         "itemsizing": "constant"
        },
        "margin": {
         "b": 5,
         "l": 5,
         "r": 5,
         "t": 5
        },
        "showlegend": false,
        "template": {
         "data": {
          "bar": [
           {
            "error_x": {
             "color": "#2a3f5f"
            },
            "error_y": {
             "color": "#2a3f5f"
            },
            "marker": {
             "line": {
              "color": "#E5ECF6",
              "width": 0.5
             },
             "pattern": {
              "fillmode": "overlay",
              "size": 10,
              "solidity": 0.2
             }
            },
            "type": "bar"
           }
          ],
          "barpolar": [
           {
            "marker": {
             "line": {
              "color": "#E5ECF6",
              "width": 0.5
             },
             "pattern": {
              "fillmode": "overlay",
              "size": 10,
              "solidity": 0.2
             }
            },
            "type": "barpolar"
           }
          ],
          "carpet": [
           {
            "aaxis": {
             "endlinecolor": "#2a3f5f",
             "gridcolor": "white",
             "linecolor": "white",
             "minorgridcolor": "white",
             "startlinecolor": "#2a3f5f"
            },
            "baxis": {
             "endlinecolor": "#2a3f5f",
             "gridcolor": "white",
             "linecolor": "white",
             "minorgridcolor": "white",
             "startlinecolor": "#2a3f5f"
            },
            "type": "carpet"
           }
          ],
          "choropleth": [
           {
            "colorbar": {
             "outlinewidth": 0,
             "ticks": ""
            },
            "type": "choropleth"
           }
          ],
          "contour": [
           {
            "colorbar": {
             "outlinewidth": 0,
             "ticks": ""
            },
            "colorscale": [
             [
              0.0,
              "#0d0887"
             ],
             [
              0.1111111111111111,
              "#46039f"
             ],
             [
              0.2222222222222222,
              "#7201a8"
             ],
             [
              0.3333333333333333,
              "#9c179e"
             ],
             [
              0.4444444444444444,
              "#bd3786"
             ],
             [
              0.5555555555555556,
              "#d8576b"
             ],
             [
              0.6666666666666666,
              "#ed7953"
             ],
             [
              0.7777777777777778,
              "#fb9f3a"
             ],
             [
              0.8888888888888888,
              "#fdca26"
             ],
             [
              1.0,
              "#f0f921"
             ]
            ],
            "type": "contour"
           }
          ],
          "contourcarpet": [
           {
            "colorbar": {
             "outlinewidth": 0,
             "ticks": ""
            },
            "type": "contourcarpet"
           }
          ],
          "heatmap": [
           {
            "colorbar": {
             "outlinewidth": 0,
             "ticks": ""
            },
            "colorscale": [
             [
              0.0,
              "#0d0887"
             ],
             [
              0.1111111111111111,
              "#46039f"
             ],
             [
              0.2222222222222222,
              "#7201a8"
             ],
             [
              0.3333333333333333,
              "#9c179e"
             ],
             [
              0.4444444444444444,
              "#bd3786"
             ],
             [
              0.5555555555555556,
              "#d8576b"
             ],
             [
              0.6666666666666666,
              "#ed7953"
             ],
             [
              0.7777777777777778,
              "#fb9f3a"
             ],
             [
              0.8888888888888888,
              "#fdca26"
             ],
             [
              1.0,
              "#f0f921"
             ]
            ],
            "type": "heatmap"
           }
          ],
          "histogram": [
           {
            "marker": {
             "pattern": {
              "fillmode": "overlay",
              "size": 10,
              "solidity": 0.2
             }
            },
            "type": "histogram"
           }
          ],
          "histogram2d": [
           {
            "colorbar": {
             "outlinewidth": 0,
             "ticks": ""
            },
            "colorscale": [
             [
              0.0,
              "#0d0887"
             ],
             [
              0.1111111111111111,
              "#46039f"
             ],
             [
              0.2222222222222222,
              "#7201a8"
             ],
             [
              0.3333333333333333,
              "#9c179e"
             ],
             [
              0.4444444444444444,
              "#bd3786"
             ],
             [
              0.5555555555555556,
              "#d8576b"
             ],
             [
              0.6666666666666666,
              "#ed7953"
             ],
             [
              0.7777777777777778,
              "#fb9f3a"
             ],
             [
              0.8888888888888888,
              "#fdca26"
             ],
             [
              1.0,
              "#f0f921"
             ]
            ],
            "type": "histogram2d"
           }
          ],
          "histogram2dcontour": [
           {
            "colorbar": {
             "outlinewidth": 0,
             "ticks": ""
            },
            "colorscale": [
             [
              0.0,
              "#0d0887"
             ],
             [
              0.1111111111111111,
              "#46039f"
             ],
             [
              0.2222222222222222,
              "#7201a8"
             ],
             [
              0.3333333333333333,
              "#9c179e"
             ],
             [
              0.4444444444444444,
              "#bd3786"
             ],
             [
              0.5555555555555556,
              "#d8576b"
             ],
             [
              0.6666666666666666,
              "#ed7953"
             ],
             [
              0.7777777777777778,
              "#fb9f3a"
             ],
             [
              0.8888888888888888,
              "#fdca26"
             ],
             [
              1.0,
              "#f0f921"
             ]
            ],
            "type": "histogram2dcontour"
           }
          ],
          "mesh3d": [
           {
            "colorbar": {
             "outlinewidth": 0,
             "ticks": ""
            },
            "type": "mesh3d"
           }
          ],
          "parcoords": [
           {
            "line": {
             "colorbar": {
              "outlinewidth": 0,
              "ticks": ""
             }
            },
            "type": "parcoords"
           }
          ],
          "pie": [
           {
            "automargin": true,
            "type": "pie"
           }
          ],
          "scatter": [
           {
            "fillpattern": {
             "fillmode": "overlay",
             "size": 10,
             "solidity": 0.2
            },
            "type": "scatter"
           }
          ],
          "scatter3d": [
           {
            "line": {
             "colorbar": {
              "outlinewidth": 0,
              "ticks": ""
             }
            },
            "marker": {
             "colorbar": {
              "outlinewidth": 0,
              "ticks": ""
             }
            },
            "type": "scatter3d"
           }
          ],
          "scattercarpet": [
           {
            "marker": {
             "colorbar": {
              "outlinewidth": 0,
              "ticks": ""
             }
            },
            "type": "scattercarpet"
           }
          ],
          "scattergeo": [
           {
            "marker": {
             "colorbar": {
              "outlinewidth": 0,
              "ticks": ""
             }
            },
            "type": "scattergeo"
           }
          ],
          "scattergl": [
           {
            "marker": {
             "colorbar": {
              "outlinewidth": 0,
              "ticks": ""
             }
            },
            "type": "scattergl"
           }
          ],
          "scattermap": [
           {
            "marker": {
             "colorbar": {
              "outlinewidth": 0,
              "ticks": ""
             }
            },
            "type": "scattermap"
           }
          ],
          "scattermapbox": [
           {
            "marker": {
             "colorbar": {
              "outlinewidth": 0,
              "ticks": ""
             }
            },
            "type": "scattermapbox"
           }
          ],
          "scatterpolar": [
           {
            "marker": {
             "colorbar": {
              "outlinewidth": 0,
              "ticks": ""
             }
            },
            "type": "scatterpolar"
           }
          ],
          "scatterpolargl": [
           {
            "marker": {
             "colorbar": {
              "outlinewidth": 0,
              "ticks": ""
             }
            },
            "type": "scatterpolargl"
           }
          ],
          "scatterternary": [
           {
            "marker": {
             "colorbar": {
              "outlinewidth": 0,
              "ticks": ""
             }
            },
            "type": "scatterternary"
           }
          ],
          "surface": [
           {
            "colorbar": {
             "outlinewidth": 0,
             "ticks": ""
            },
            "colorscale": [
             [
              0.0,
              "#0d0887"
             ],
             [
              0.1111111111111111,
              "#46039f"
             ],
             [
              0.2222222222222222,
              "#7201a8"
             ],
             [
              0.3333333333333333,
              "#9c179e"
             ],
             [
              0.4444444444444444,
              "#bd3786"
             ],
             [
              0.5555555555555556,
              "#d8576b"
             ],
             [
              0.6666666666666666,
              "#ed7953"
             ],
             [
              0.7777777777777778,
              "#fb9f3a"
             ],
             [
              0.8888888888888888,
              "#fdca26"
             ],
             [
              1.0,
              "#f0f921"
             ]
            ],
            "type": "surface"
           }
          ],
          "table": [
           {
            "cells": {
             "fill": {
              "color": "#EBF0F8"
             },
             "line": {
              "color": "white"
             }
            },
            "header": {
             "fill": {
              "color": "#C8D4E3"
             },
             "line": {
              "color": "white"
             }
            },
            "type": "table"
           }
          ]
         },
         "layout": {
          "annotationdefaults": {
           "arrowcolor": "#2a3f5f",
           "arrowhead": 0,
           "arrowwidth": 1
          },
          "autotypenumbers": "strict",
          "coloraxis": {
           "colorbar": {
            "outlinewidth": 0,
            "ticks": ""
           }
          },
          "colorscale": {
           "diverging": [
            [
             0,
             "#8e0152"
            ],
            [
             0.1,
             "#c51b7d"
            ],
            [
             0.2,
             "#de77ae"
            ],
            [
             0.3,
             "#f1b6da"
            ],
            [
             0.4,
             "#fde0ef"
            ],
            [
             0.5,
             "#f7f7f7"
            ],
            [
             0.6,
             "#e6f5d0"
            ],
            [
             0.7,
             "#b8e186"
            ],
            [
             0.8,
             "#7fbc41"
            ],
            [
             0.9,
             "#4d9221"
            ],
            [
             1,
             "#276419"
            ]
           ],
           "sequential": [
            [
             0.0,
             "#0d0887"
            ],
            [
             0.1111111111111111,
             "#46039f"
            ],
            [
             0.2222222222222222,
             "#7201a8"
            ],
            [
             0.3333333333333333,
             "#9c179e"
            ],
            [
             0.4444444444444444,
             "#bd3786"
            ],
            [
             0.5555555555555556,
             "#d8576b"
            ],
            [
             0.6666666666666666,
             "#ed7953"
            ],
            [
             0.7777777777777778,
             "#fb9f3a"
            ],
            [
             0.8888888888888888,
             "#fdca26"
            ],
            [
             1.0,
             "#f0f921"
            ]
           ],
           "sequentialminus": [
            [
             0.0,
             "#0d0887"
            ],
            [
             0.1111111111111111,
             "#46039f"
            ],
            [
             0.2222222222222222,
             "#7201a8"
            ],
            [
             0.3333333333333333,
             "#9c179e"
            ],
            [
             0.4444444444444444,
             "#bd3786"
            ],
            [
             0.5555555555555556,
             "#d8576b"
            ],
            [
             0.6666666666666666,
             "#ed7953"
            ],
            [
             0.7777777777777778,
             "#fb9f3a"
            ],
            [
             0.8888888888888888,
             "#fdca26"
            ],
            [
             1.0,
             "#f0f921"
            ]
           ]
          },
          "colorway": [
           "#636efa",
           "#EF553B",
           "#00cc96",
           "#ab63fa",
           "#FFA15A",
           "#19d3f3",
           "#FF6692",
           "#B6E880",
           "#FF97FF",
           "#FECB52"
          ],
          "font": {
           "color": "#2a3f5f"
          },
          "geo": {
           "bgcolor": "white",
           "lakecolor": "white",
           "landcolor": "#E5ECF6",
           "showlakes": true,
           "showland": true,
           "subunitcolor": "white"
          },
          "hoverlabel": {
           "align": "left"
          },
          "hovermode": "closest",
          "mapbox": {
           "style": "light"
          },
          "paper_bgcolor": "white",
          "plot_bgcolor": "#E5ECF6",
          "polar": {
           "angularaxis": {
            "gridcolor": "white",
            "linecolor": "white",
            "ticks": ""
           },
           "bgcolor": "#E5ECF6",
           "radialaxis": {
            "gridcolor": "white",
            "linecolor": "white",
            "ticks": ""
           }
          },
          "scene": {
           "xaxis": {
            "backgroundcolor": "#E5ECF6",
            "gridcolor": "white",
            "gridwidth": 2,
            "linecolor": "white",
            "showbackground": true,
            "ticks": "",
            "zerolinecolor": "white"
           },
           "yaxis": {
            "backgroundcolor": "#E5ECF6",
            "gridcolor": "white",
            "gridwidth": 2,
            "linecolor": "white",
            "showbackground": true,
            "ticks": "",
            "zerolinecolor": "white"
           },
           "zaxis": {
            "backgroundcolor": "#E5ECF6",
            "gridcolor": "white",
            "gridwidth": 2,
            "linecolor": "white",
            "showbackground": true,
            "ticks": "",
            "zerolinecolor": "white"
           }
          },
          "shapedefaults": {
           "line": {
            "color": "#2a3f5f"
           }
          },
          "ternary": {
           "aaxis": {
            "gridcolor": "white",
            "linecolor": "white",
            "ticks": ""
           },
           "baxis": {
            "gridcolor": "white",
            "linecolor": "white",
            "ticks": ""
           },
           "bgcolor": "#E5ECF6",
           "caxis": {
            "gridcolor": "white",
            "linecolor": "white",
            "ticks": ""
           }
          },
          "title": {
           "x": 0.05
          },
          "xaxis": {
           "automargin": true,
           "gridcolor": "white",
           "linecolor": "white",
           "ticks": "",
           "title": {
            "standoff": 15
           },
           "zerolinecolor": "white",
           "zerolinewidth": 2
          },
          "yaxis": {
           "automargin": true,
           "gridcolor": "white",
           "linecolor": "white",
           "ticks": "",
           "title": {
            "standoff": 15
           },
           "zerolinecolor": "white",
           "zerolinewidth": 2
          }
         }
        },
        "title": {
         "font": {
          "size": 16
         }
        },
        "width": 700.0,
        "xaxis": {
         "showgrid": false,
         "showticklabels": false,
         "zeroline": false
        },
        "yaxis": {
         "showgrid": false,
         "showticklabels": false,
         "zeroline": false
        }
       }
      }
     },
     "metadata": {},
     "output_type": "display_data"
    }
   ],
   "source": [
    "network.switch.loc[:, \"closed\"] = True\n",
    "pp.runpp(network)\n",
    "pp.plotting.plotly.pf_res_plotly(network, auto_open=False)"
   ]
  },
  {
   "cell_type": "code",
   "execution_count": 559,
   "id": "eb551f42adc45e35",
   "metadata": {
    "ExecuteTime": {
     "end_time": "2025-07-22T01:41:47.337516Z",
     "start_time": "2025-07-22T01:41:47.222399Z"
    }
   },
   "outputs": [
    {
     "data": {
      "application/vnd.plotly.v1+json": {
       "config": {
        "plotlyServerURL": "https://plot.ly"
       },
       "data": [
        {
         "hoverinfo": "text",
         "legendgroup": "lines",
         "line": {
          "color": "rgb(191.13636363636368,0.0,0.0)",
          "dash": "solid",
          "width": 2
         },
         "mode": "lines",
         "name": "lines",
         "showlegend": true,
         "text": "Line_1.0-2.0<br />I = 94.155 %<br />I_from = 0.377 kA<br />I_to = 0.377 kA<br />",
         "type": "scatter",
         "x": [
          0.0,
          0.5,
          1.0
         ],
         "y": [
          0.0,
          0.0,
          0.0
         ]
        },
        {
         "hoverinfo": "text",
         "legendgroup": "lines",
         "line": {
          "color": "rgb(191.13636363636368,0.0,0.0)",
          "dash": "solid",
          "width": 2
         },
         "mode": "lines",
         "name": "lines",
         "showlegend": false,
         "text": "Line_2.0-3.0<br />I = 94.155 %<br />I_from = 0.377 kA<br />I_to = 0.377 kA<br />",
         "type": "scatter",
         "x": [
          1.0,
          1.5,
          2.0
         ],
         "y": [
          0.0,
          0.0,
          0.0
         ]
        },
        {
         "hoverinfo": "text",
         "legendgroup": "lines",
         "line": {
          "color": "rgb(218.54838709677418,255.0,28.22580645161291)",
          "dash": "solid",
          "width": 2
         },
         "mode": "lines",
         "name": "lines",
         "showlegend": false,
         "text": "Line_3.0-4.0<br />I = 61.347 %<br />I_from = 0.245 kA<br />I_to = 0.245 kA<br />",
         "type": "scatter",
         "x": [
          2.0,
          2.5,
          3.0
         ],
         "y": [
          0.0,
          -0.666666665,
          -1.33333333
         ]
        },
        {
         "hoverinfo": "text",
         "legendgroup": "lines",
         "line": {
          "color": "rgb(0.0,192.5,255.0)",
          "dash": "solid",
          "width": 2
         },
         "mode": "lines",
         "name": "lines",
         "showlegend": false,
         "text": "Line_4.0-5.0<br />I = 31.265 %<br />I_from = 0.125 kA<br />I_to = 0.125 kA<br />",
         "type": "scatter",
         "x": [
          3.0,
          3.5,
          4.0
         ],
         "y": [
          -1.33333333,
          -1.58333333,
          -1.83333333
         ]
        },
        {
         "hoverinfo": "text",
         "legendgroup": "lines",
         "line": {
          "color": "rgb(0.0,192.5,255.0)",
          "dash": "solid",
          "width": 2
         },
         "mode": "lines",
         "name": "lines",
         "showlegend": false,
         "text": "Line_5.0-6.0<br />I = 31.265 %<br />I_from = 0.125 kA<br />I_to = 0.125 kA<br />",
         "type": "scatter",
         "x": [
          4.0,
          4.5,
          5.0
         ],
         "y": [
          -1.83333333,
          -1.83333333,
          -1.83333333
         ]
        },
        {
         "hoverinfo": "text",
         "legendgroup": "lines",
         "line": {
          "color": "rgb(0.0,188.5,255.0)",
          "dash": "solid",
          "width": 2
         },
         "mode": "lines",
         "name": "lines",
         "showlegend": false,
         "text": "Line_6.0-7.0<br />I = 31.237 %<br />I_from = 0.125 kA<br />I_to = 0.125 kA<br />",
         "type": "scatter",
         "x": [
          5.0,
          5.5,
          6.0
         ],
         "y": [
          -1.83333333,
          -1.83333333,
          -1.83333333
         ]
        },
        {
         "hoverinfo": "text",
         "legendgroup": "lines",
         "line": {
          "color": "rgb(0.0,184.5,255.0)",
          "dash": "solid",
          "width": 2
         },
         "mode": "lines",
         "name": "lines",
         "showlegend": false,
         "text": "Line_7.0-8.0<br />I = 30.8 %<br />I_from = 0.123 kA<br />I_to = 0.123 kA<br />",
         "type": "scatter",
         "x": [
          6.0,
          6.5,
          7.0
         ],
         "y": [
          -1.83333333,
          -1.83333333,
          -1.83333333
         ]
        },
        {
         "hoverinfo": "text",
         "legendgroup": "lines",
         "line": {
          "color": "rgb(0.0,172.5,255.0)",
          "dash": "solid",
          "width": 2
         },
         "mode": "lines",
         "name": "lines",
         "showlegend": false,
         "text": "Line_8.0-9.0<br />I = 29.531 %<br />I_from = 0.118 kA<br />I_to = 0.118 kA<br />",
         "type": "scatter",
         "x": [
          7.0,
          7.5,
          8.0
         ],
         "y": [
          -1.83333333,
          -2.30208333,
          -2.77083333
         ]
        },
        {
         "hoverinfo": "text",
         "legendgroup": "lines",
         "line": {
          "color": "rgb(0.0,140.5,255.0)",
          "dash": "solid",
          "width": 2
         },
         "mode": "lines",
         "name": "lines",
         "showlegend": false,
         "text": "Line_9.0-10.0<br />I = 26.468 %<br />I_from = 0.106 kA<br />I_to = 0.106 kA<br />",
         "type": "scatter",
         "x": [
          8.0,
          8.5,
          9.0
         ],
         "y": [
          -2.77083333,
          -3.20833333,
          -3.64583333
         ]
        },
        {
         "hoverinfo": "text",
         "legendgroup": "lines",
         "line": {
          "color": "rgb(144.3548387096774,255.0,102.41935483870967)",
          "dash": "solid",
          "width": 2
         },
         "mode": "lines",
         "name": "lines",
         "showlegend": false,
         "text": "Line_10.0-11.0<br />I = 52.356 %<br />I_from = 0.105 kA<br />I_to = 0.105 kA<br />",
         "type": "scatter",
         "x": [
          9.0,
          9.5,
          10.0
         ],
         "y": [
          -3.64583333,
          -3.64583333,
          -3.64583333
         ]
        },
        {
         "hoverinfo": "text",
         "legendgroup": "lines",
         "line": {
          "color": "rgb(0.0,28.5,255.0)",
          "dash": "solid",
          "width": 2
         },
         "mode": "lines",
         "name": "lines",
         "showlegend": false,
         "text": "Line_11.0-12.0<br />I = 15.36 %<br />I_from = 0.031 kA<br />I_to = 0.031 kA<br />",
         "type": "scatter",
         "x": [
          10.0,
          10.5,
          11.0
         ],
         "y": [
          -3.64583333,
          -4.02083333,
          -4.39583333
         ]
        },
        {
         "hoverinfo": "text",
         "legendgroup": "lines",
         "line": {
          "color": "rgb(0.0,0.0,241.13636363636363)",
          "dash": "solid",
          "width": 2
         },
         "mode": "lines",
         "name": "lines",
         "showlegend": false,
         "text": "Line_12.0-13.0<br />I = 9.834 %<br />I_from = 0.02 kA<br />I_to = 0.02 kA<br />",
         "type": "scatter",
         "x": [
          11.0,
          11.5,
          12.0
         ],
         "y": [
          -4.39583333,
          -4.64583333,
          -4.89583333
         ]
        },
        {
         "hoverinfo": "text",
         "legendgroup": "lines",
         "line": {
          "color": "rgb(0.0,0.0,145.6818181818182)",
          "dash": "solid",
          "width": 2
         },
         "mode": "lines",
         "name": "lines",
         "showlegend": false,
         "text": "Line_13.0-14.0<br />I = 1.671 %<br />I_from = 0.003 kA<br />I_to = 0.003 kA<br />",
         "type": "scatter",
         "x": [
          12.0,
          12.5,
          13.0
         ],
         "y": [
          -4.89583333,
          -4.89583333,
          -4.89583333
         ]
        },
        {
         "hoverinfo": "text",
         "legendgroup": "lines",
         "line": {
          "color": "rgb(0.0,0.0,141.13636363636363)",
          "dash": "solid",
          "width": 2
         },
         "mode": "lines",
         "name": "lines",
         "showlegend": false,
         "text": "Line_14.0-15.0<br />I = 1.449 %<br />I_from = 0.003 kA<br />I_to = 0.003 kA<br />",
         "type": "scatter",
         "x": [
          13.0,
          13.5,
          14.0
         ],
         "y": [
          -4.89583333,
          -4.89583333,
          -4.89583333
         ]
        },
        {
         "hoverinfo": "text",
         "legendgroup": "lines",
         "line": {
          "color": "rgb(0.0,0.0,141.13636363636363)",
          "dash": "solid",
          "width": 2
         },
         "mode": "lines",
         "name": "lines",
         "showlegend": false,
         "text": "Line_15.0-16.0<br />I = 1.449 %<br />I_from = 0.003 kA<br />I_to = 0.003 kA<br />",
         "type": "scatter",
         "x": [
          14.0,
          14.5,
          15.0
         ],
         "y": [
          -4.89583333,
          -4.89583333,
          -4.89583333
         ]
        },
        {
         "hoverinfo": "text",
         "legendgroup": "lines",
         "line": {
          "color": "rgb(0.0,0.0,127.5)",
          "dash": "solid",
          "width": 2
         },
         "mode": "lines",
         "name": "lines",
         "showlegend": false,
         "text": "Line_16.0-17.0<br />I = 0.2 %<br />I_from = 0.0 kA<br />I_to = 0.0 kA<br />",
         "type": "scatter",
         "x": [
          15.0,
          15.5,
          16.0
         ],
         "y": [
          -4.89583333,
          -4.89583333,
          -4.89583333
         ]
        },
        {
         "hoverinfo": "text",
         "legendgroup": "lines",
         "line": {
          "color": "rgb(0.0,0.0,141.13636363636363)",
          "dash": "solid",
          "width": 2
         },
         "mode": "lines",
         "name": "lines",
         "showlegend": false,
         "text": "Line_17.0-18.0<br />I = 1.395 %<br />I_from = 0.003 kA<br />I_to = 0.003 kA<br />",
         "type": "scatter",
         "x": [
          16.0,
          16.5,
          17.0
         ],
         "y": [
          -4.89583333,
          -4.89583333,
          -4.89583333
         ]
        },
        {
         "hoverinfo": "text",
         "legendgroup": "lines",
         "line": {
          "color": "rgb(0.0,0.0,159.3181818181818)",
          "dash": "solid",
          "width": 2
         },
         "mode": "lines",
         "name": "lines",
         "showlegend": false,
         "text": "Line_18.0-19.0<br />I = 2.988 %<br />I_from = 0.006 kA<br />I_to = 0.006 kA<br />",
         "type": "scatter",
         "x": [
          17.0,
          17.5,
          18.0
         ],
         "y": [
          -4.89583333,
          -4.89583333,
          -4.89583333
         ]
        },
        {
         "hoverinfo": "text",
         "legendgroup": "lines",
         "line": {
          "color": "rgb(0.0,0.0,159.3181818181818)",
          "dash": "solid",
          "width": 2
         },
         "mode": "lines",
         "name": "lines",
         "showlegend": false,
         "text": "Line_19.0-20.0<br />I = 2.988 %<br />I_from = 0.006 kA<br />I_to = 0.006 kA<br />",
         "type": "scatter",
         "x": [
          18.0,
          18.5,
          19.0
         ],
         "y": [
          -4.89583333,
          -4.89583333,
          -4.89583333
         ]
        },
        {
         "hoverinfo": "text",
         "legendgroup": "lines",
         "line": {
          "color": "rgb(0.0,0.0,159.3181818181818)",
          "dash": "solid",
          "width": 2
         },
         "mode": "lines",
         "name": "lines",
         "showlegend": false,
         "text": "Line_20.0-21.0<br />I = 3.015 %<br />I_from = 0.006 kA<br />I_to = 0.006 kA<br />",
         "type": "scatter",
         "x": [
          19.0,
          19.5,
          20.0
         ],
         "y": [
          -4.89583333,
          -4.89583333,
          -4.89583333
         ]
        },
        {
         "hoverinfo": "text",
         "legendgroup": "lines",
         "line": {
          "color": "rgb(0.0,0.0,163.86363636363635)",
          "dash": "solid",
          "width": 2
         },
         "mode": "lines",
         "name": "lines",
         "showlegend": false,
         "text": "Line_21.0-22.0<br />I = 3.271 %<br />I_from = 0.007 kA<br />I_to = 0.007 kA<br />",
         "type": "scatter",
         "x": [
          20.0,
          20.5,
          21.0
         ],
         "y": [
          -4.89583333,
          -4.89583333,
          -4.89583333
         ]
        },
        {
         "hoverinfo": "text",
         "legendgroup": "lines",
         "line": {
          "color": "rgb(0.0,0.0,163.86363636363635)",
          "dash": "solid",
          "width": 2
         },
         "mode": "lines",
         "name": "lines",
         "showlegend": false,
         "text": "Line_22.0-23.0<br />I = 3.215 %<br />I_from = 0.006 kA<br />I_to = 0.006 kA<br />",
         "type": "scatter",
         "x": [
          21.0,
          21.5,
          22.0
         ],
         "y": [
          -4.89583333,
          -4.89583333,
          -4.89583333
         ]
        },
        {
         "hoverinfo": "text",
         "legendgroup": "lines",
         "line": {
          "color": "rgb(0.0,0.0,163.86363636363635)",
          "dash": "solid",
          "width": 2
         },
         "mode": "lines",
         "name": "lines",
         "showlegend": false,
         "text": "Line_23.0-24.0<br />I = 3.215 %<br />I_from = 0.006 kA<br />I_to = 0.006 kA<br />",
         "type": "scatter",
         "x": [
          22.0,
          22.5,
          23.0
         ],
         "y": [
          -4.89583333,
          -4.89583333,
          -4.89583333
         ]
        },
        {
         "hoverinfo": "text",
         "legendgroup": "lines",
         "line": {
          "color": "rgb(0.0,0.0,159.3181818181818)",
          "dash": "solid",
          "width": 2
         },
         "mode": "lines",
         "name": "lines",
         "showlegend": false,
         "text": "Line_24.0-25.0<br />I = 2.996 %<br />I_from = 0.006 kA<br />I_to = 0.006 kA<br />",
         "type": "scatter",
         "x": [
          23.0,
          23.5,
          24.0
         ],
         "y": [
          -4.89583333,
          -4.89583333,
          -4.89583333
         ]
        },
        {
         "hoverinfo": "text",
         "legendgroup": "lines",
         "line": {
          "color": "rgb(0.0,0.0,159.3181818181818)",
          "dash": "solid",
          "width": 2
         },
         "mode": "lines",
         "name": "lines",
         "showlegend": false,
         "text": "Line_25.0-26.0<br />I = 2.996 %<br />I_from = 0.006 kA<br />I_to = 0.006 kA<br />",
         "type": "scatter",
         "x": [
          24.0,
          24.5,
          25.0
         ],
         "y": [
          -4.89583333,
          -4.89583333,
          -4.89583333
         ]
        },
        {
         "hoverinfo": "text",
         "legendgroup": "lines",
         "line": {
          "color": "rgb(0.0,0.0,159.3181818181818)",
          "dash": "solid",
          "width": 2
         },
         "mode": "lines",
         "name": "lines",
         "showlegend": false,
         "text": "Line_26.0-27.0<br />I = 2.961 %<br />I_from = 0.006 kA<br />I_to = 0.006 kA<br />",
         "type": "scatter",
         "x": [
          25.0,
          25.5,
          26.0
         ],
         "y": [
          -4.89583333,
          -4.89583333,
          -4.89583333
         ]
        },
        {
         "hoverinfo": "text",
         "legendgroup": "lines",
         "line": {
          "color": "rgb(0.0,0.0,154.77272727272728)",
          "dash": "solid",
          "width": 2
         },
         "mode": "lines",
         "name": "lines",
         "showlegend": false,
         "text": "Line_3.0-28.0<br />I = 2.488 %<br />I_from = 0.005 kA<br />I_to = 0.005 kA<br />",
         "type": "scatter",
         "x": [
          2.0,
          2.5,
          3.0
         ],
         "y": [
          0.0,
          0.083333335,
          0.16666667
         ]
        },
        {
         "hoverinfo": "text",
         "legendgroup": "lines",
         "line": {
          "color": "rgb(0.0,0.0,145.6818181818182)",
          "dash": "solid",
          "width": 2
         },
         "mode": "lines",
         "name": "lines",
         "showlegend": false,
         "text": "Line_28.0-29.0<br />I = 1.781 %<br />I_from = 0.004 kA<br />I_to = 0.004 kA<br />",
         "type": "scatter",
         "x": [
          3.0,
          3.5,
          4.0
         ],
         "y": [
          0.16666667,
          0.16666667,
          0.16666667
         ]
        },
        {
         "hoverinfo": "text",
         "legendgroup": "lines",
         "line": {
          "color": "rgb(0.0,0.0,136.5909090909091)",
          "dash": "solid",
          "width": 2
         },
         "mode": "lines",
         "name": "lines",
         "showlegend": false,
         "text": "Line_29.0-30.0<br />I = 1.073 %<br />I_from = 0.002 kA<br />I_to = 0.002 kA<br />",
         "type": "scatter",
         "x": [
          4.0,
          4.5,
          5.0
         ],
         "y": [
          0.16666667,
          0.16666667,
          0.16666667
         ]
        },
        {
         "hoverinfo": "text",
         "legendgroup": "lines",
         "line": {
          "color": "rgb(0.0,0.0,136.5909090909091)",
          "dash": "solid",
          "width": 2
         },
         "mode": "lines",
         "name": "lines",
         "showlegend": false,
         "text": "Line_30.0-31.0<br />I = 1.073 %<br />I_from = 0.002 kA<br />I_to = 0.002 kA<br />",
         "type": "scatter",
         "x": [
          5.0,
          5.5,
          6.0
         ],
         "y": [
          0.16666667,
          0.16666667,
          0.16666667
         ]
        },
        {
         "hoverinfo": "text",
         "legendgroup": "lines",
         "line": {
          "color": "rgb(0.0,0.0,136.5909090909091)",
          "dash": "solid",
          "width": 2
         },
         "mode": "lines",
         "name": "lines",
         "showlegend": false,
         "text": "Line_31.0-32.0<br />I = 1.073 %<br />I_from = 0.002 kA<br />I_to = 0.002 kA<br />",
         "type": "scatter",
         "x": [
          6.0,
          6.5,
          7.0
         ],
         "y": [
          0.16666667,
          0.16666667,
          0.16666667
         ]
        },
        {
         "hoverinfo": "text",
         "legendgroup": "lines",
         "line": {
          "color": "rgb(0.0,0.0,136.5909090909091)",
          "dash": "solid",
          "width": 2
         },
         "mode": "lines",
         "name": "lines",
         "showlegend": false,
         "text": "Line_32.0-33.0<br />I = 1.073 %<br />I_from = 0.002 kA<br />I_to = 0.002 kA<br />",
         "type": "scatter",
         "x": [
          7.0,
          7.5,
          8.0
         ],
         "y": [
          0.16666667,
          0.16666667,
          0.16666667
         ]
        },
        {
         "hoverinfo": "text",
         "legendgroup": "lines",
         "line": {
          "color": "rgb(0.0,0.0,132.04545454545453)",
          "dash": "solid",
          "width": 2
         },
         "mode": "lines",
         "name": "lines",
         "showlegend": false,
         "text": "Line_33.0-34.0<br />I = 0.692 %<br />I_from = 0.001 kA<br />I_to = 0.001 kA<br />",
         "type": "scatter",
         "x": [
          8.0,
          8.5,
          9.0
         ],
         "y": [
          0.16666667,
          0.16666667,
          0.16666667
         ]
        },
        {
         "hoverinfo": "text",
         "legendgroup": "lines",
         "line": {
          "color": "rgb(0.0,0.0,127.5)",
          "dash": "solid",
          "width": 2
         },
         "mode": "lines",
         "name": "lines",
         "showlegend": false,
         "text": "Line_34.0-35.0<br />I = 0.16 %<br />I_from = 0.0 kA<br />I_to = 0.0 kA<br />",
         "type": "scatter",
         "x": [
          9.0,
          9.5,
          10.0
         ],
         "y": [
          0.16666667,
          0.16666667,
          0.16666667
         ]
        },
        {
         "hoverinfo": "text",
         "legendgroup": "lines",
         "line": {
          "color": "rgb(234.6774193548387,255.0,12.096774193548399)",
          "dash": "solid",
          "width": 2
         },
         "mode": "lines",
         "name": "lines",
         "showlegend": false,
         "text": "Line_3.0-36.0<br />I = 63.391 %<br />I_from = 0.127 kA<br />I_to = 0.127 kA<br />",
         "type": "scatter",
         "x": [
          2.0,
          2.5,
          3.0
         ],
         "y": [
          0.0,
          0.583333335,
          1.16666667
         ]
        },
        {
         "hoverinfo": "text",
         "legendgroup": "lines",
         "line": {
          "color": "rgb(228.22580645161287,255.0,18.548387096774196)",
          "dash": "solid",
          "width": 2
         },
         "mode": "lines",
         "name": "lines",
         "showlegend": false,
         "text": "Line_36.0-37.0<br />I = 62.701 %<br />I_from = 0.125 kA<br />I_to = 0.125 kA<br />",
         "type": "scatter",
         "x": [
          3.0,
          3.5,
          4.0
         ],
         "y": [
          1.16666667,
          1.16666667,
          1.16666667
         ]
        },
        {
         "hoverinfo": "text",
         "legendgroup": "lines",
         "line": {
          "color": "rgb(221.77419354838705,255.0,24.999999999999996)",
          "dash": "solid",
          "width": 2
         },
         "mode": "lines",
         "name": "lines",
         "showlegend": false,
         "text": "Line_37.0-38.0<br />I = 62.01 %<br />I_from = 0.124 kA<br />I_to = 0.124 kA<br />",
         "type": "scatter",
         "x": [
          4.0,
          4.5,
          5.0
         ],
         "y": [
          1.16666667,
          1.16666667,
          1.16666667
         ]
        },
        {
         "hoverinfo": "text",
         "legendgroup": "lines",
         "line": {
          "color": "rgb(221.77419354838705,255.0,24.999999999999996)",
          "dash": "solid",
          "width": 2
         },
         "mode": "lines",
         "name": "lines",
         "showlegend": false,
         "text": "Line_38.0-39.0<br />I = 62.01 %<br />I_from = 0.124 kA<br />I_to = 0.124 kA<br />",
         "type": "scatter",
         "x": [
          5.0,
          5.5,
          6.0
         ],
         "y": [
          1.16666667,
          1.16666667,
          1.16666667
         ]
        },
        {
         "hoverinfo": "text",
         "legendgroup": "lines",
         "line": {
          "color": "rgb(218.54838709677418,255.0,28.22580645161291)",
          "dash": "solid",
          "width": 2
         },
         "mode": "lines",
         "name": "lines",
         "showlegend": false,
         "text": "Line_39.0-40.0<br />I = 61.372 %<br />I_from = 0.123 kA<br />I_to = 0.123 kA<br />",
         "type": "scatter",
         "x": [
          6.0,
          6.5,
          7.0
         ],
         "y": [
          1.16666667,
          1.16666667,
          1.16666667
         ]
        },
        {
         "hoverinfo": "text",
         "legendgroup": "lines",
         "line": {
          "color": "rgb(212.09677419354836,255.0,34.67741935483871)",
          "dash": "solid",
          "width": 2
         },
         "mode": "lines",
         "name": "lines",
         "showlegend": false,
         "text": "Line_40.0-41.0<br />I = 60.734 %<br />I_from = 0.121 kA<br />I_to = 0.121 kA<br />",
         "type": "scatter",
         "x": [
          7.0,
          7.5,
          8.0
         ],
         "y": [
          1.16666667,
          1.16666667,
          1.16666667
         ]
        },
        {
         "hoverinfo": "text",
         "legendgroup": "lines",
         "line": {
          "color": "rgb(212.09677419354836,255.0,34.67741935483871)",
          "dash": "solid",
          "width": 2
         },
         "mode": "lines",
         "name": "lines",
         "showlegend": false,
         "text": "Line_41.0-42.0<br />I = 60.7 %<br />I_from = 0.121 kA<br />I_to = 0.121 kA<br />",
         "type": "scatter",
         "x": [
          8.0,
          8.5,
          9.0
         ],
         "y": [
          1.16666667,
          1.16666667,
          1.16666667
         ]
        },
        {
         "hoverinfo": "text",
         "legendgroup": "lines",
         "line": {
          "color": "rgb(212.09677419354836,255.0,34.67741935483871)",
          "dash": "solid",
          "width": 2
         },
         "mode": "lines",
         "name": "lines",
         "showlegend": false,
         "text": "Line_42.0-43.0<br />I = 60.7 %<br />I_from = 0.121 kA<br />I_to = 0.121 kA<br />",
         "type": "scatter",
         "x": [
          9.0,
          9.5,
          10.0
         ],
         "y": [
          1.16666667,
          1.16666667,
          1.16666667
         ]
        },
        {
         "hoverinfo": "text",
         "legendgroup": "lines",
         "line": {
          "color": "rgb(208.87096774193546,255.0,37.90322580645162)",
          "dash": "solid",
          "width": 2
         },
         "mode": "lines",
         "name": "lines",
         "showlegend": false,
         "text": "Line_43.0-44.0<br />I = 60.537 %<br />I_from = 0.121 kA<br />I_to = 0.121 kA<br />",
         "type": "scatter",
         "x": [
          10.0,
          10.5,
          11.0
         ],
         "y": [
          1.16666667,
          1.16666667,
          1.16666667
         ]
        },
        {
         "hoverinfo": "text",
         "legendgroup": "lines",
         "line": {
          "color": "rgb(204.7727272727273,0.0,0.0)",
          "dash": "solid",
          "width": 2
         },
         "mode": "lines",
         "name": "lines",
         "showlegend": false,
         "text": "Line_44.0-45.0<br />I = 93.285 %<br />I_from = 0.187 kA<br />I_to = 0.187 kA<br />",
         "type": "scatter",
         "x": [
          11.0,
          11.5,
          12.0
         ],
         "y": [
          1.16666667,
          1.16666667,
          1.16666667
         ]
        },
        {
         "hoverinfo": "text",
         "legendgroup": "lines",
         "line": {
          "color": "rgb(213.8636363636364,0.0,0.0)",
          "dash": "solid",
          "width": 2
         },
         "mode": "lines",
         "name": "lines",
         "showlegend": false,
         "text": "Line_45.0-46.0<br />I = 92.382 %<br />I_from = 0.185 kA<br />I_to = 0.185 kA<br />",
         "type": "scatter",
         "x": [
          12.0,
          12.5,
          13.0
         ],
         "y": [
          1.16666667,
          1.16666667,
          1.16666667
         ]
        },
        {
         "hoverinfo": "text",
         "legendgroup": "lines",
         "line": {
          "color": "rgb(79.8387096774193,255.0,166.93548387096777)",
          "dash": "solid",
          "width": 2
         },
         "mode": "lines",
         "name": "lines",
         "showlegend": false,
         "text": "Line_4.0-47.0<br />I = 44.778 %<br />I_from = 0.134 kA<br />I_to = 0.134 kA<br />",
         "type": "scatter",
         "x": [
          3.0,
          3.5,
          4.0
         ],
         "y": [
          -1.33333333,
          -1.08333333,
          -0.83333333
         ]
        },
        {
         "hoverinfo": "text",
         "legendgroup": "lines",
         "line": {
          "color": "rgb(79.8387096774193,255.0,166.93548387096777)",
          "dash": "solid",
          "width": 2
         },
         "mode": "lines",
         "name": "lines",
         "showlegend": false,
         "text": "Line_47.0-48.0<br />I = 44.778 %<br />I_from = 0.134 kA<br />I_to = 0.134 kA<br />",
         "type": "scatter",
         "x": [
          4.0,
          4.5,
          5.0
         ],
         "y": [
          -0.83333333,
          -0.83333333,
          -0.83333333
         ]
        },
        {
         "hoverinfo": "text",
         "legendgroup": "lines",
         "line": {
          "color": "rgb(66.93548387096773,255.0,179.83870967741936)",
          "dash": "solid",
          "width": 2
         },
         "mode": "lines",
         "name": "lines",
         "showlegend": false,
         "text": "Line_48.0-49.0<br />I = 43.34 %<br />I_from = 0.13 kA<br />I_to = 0.13 kA<br />",
         "type": "scatter",
         "x": [
          5.0,
          5.5,
          6.0
         ],
         "y": [
          -0.83333333,
          -0.83333333,
          -0.83333333
         ]
        },
        {
         "hoverinfo": "text",
         "legendgroup": "lines",
         "line": {
          "color": "rgb(8.870967741935482,240.5,237.90322580645162)",
          "dash": "solid",
          "width": 2
         },
         "mode": "lines",
         "name": "lines",
         "showlegend": false,
         "text": "Line_49.0-50.0<br />I = 36.259 %<br />I_from = 0.109 kA<br />I_to = 0.109 kA<br />",
         "type": "scatter",
         "x": [
          6.0,
          6.5,
          7.0
         ],
         "y": [
          -0.83333333,
          -0.83333333,
          -0.83333333
         ]
        },
        {
         "hoverinfo": "text",
         "legendgroup": "lines",
         "line": {
          "color": "rgb(0.0,0.0,141.13636363636363)",
          "dash": "solid",
          "width": 2
         },
         "mode": "lines",
         "name": "lines",
         "showlegend": false,
         "text": "Line_8.0-51.0<br />I = 1.211 %<br />I_from = 0.002 kA<br />I_to = 0.002 kA<br />",
         "type": "scatter",
         "x": [
          7.0,
          7.5,
          8.0
         ],
         "y": [
          -1.83333333,
          -1.36458333,
          -0.89583333
         ]
        },
        {
         "hoverinfo": "text",
         "legendgroup": "lines",
         "line": {
          "color": "rgb(0.0,0.0,127.5)",
          "dash": "solid",
          "width": 2
         },
         "mode": "lines",
         "name": "lines",
         "showlegend": false,
         "text": "Line_51.0-52.0<br />I = 0.101 %<br />I_from = 0.0 kA<br />I_to = 0.0 kA<br />",
         "type": "scatter",
         "x": [
          8.0,
          8.5,
          9.0
         ],
         "y": [
          -0.89583333,
          -0.89583333,
          -0.89583333
         ]
        },
        {
         "hoverinfo": "text",
         "legendgroup": "lines",
         "line": {
          "color": "rgb(0.0,0.0,168.4090909090909)",
          "dash": "solid",
          "width": 2
         },
         "mode": "lines",
         "name": "lines",
         "showlegend": false,
         "text": "Line_9.0-53.0<br />I = 3.719 %<br />I_from = 0.011 kA<br />I_to = 0.011 kA<br />",
         "type": "scatter",
         "x": [
          8.0,
          8.5,
          9.0
         ],
         "y": [
          -2.77083333,
          -2.33333333,
          -1.89583333
         ]
        },
        {
         "hoverinfo": "text",
         "legendgroup": "lines",
         "line": {
          "color": "rgb(0.0,0.0,168.4090909090909)",
          "dash": "solid",
          "width": 2
         },
         "mode": "lines",
         "name": "lines",
         "showlegend": false,
         "text": "Line_53.0-54.0<br />I = 3.651 %<br />I_from = 0.011 kA<br />I_to = 0.011 kA<br />",
         "type": "scatter",
         "x": [
          9.0,
          9.5,
          10.0
         ],
         "y": [
          -1.89583333,
          -1.89583333,
          -1.89583333
         ]
        },
        {
         "hoverinfo": "text",
         "legendgroup": "lines",
         "line": {
          "color": "rgb(0.0,0.0,163.86363636363635)",
          "dash": "solid",
          "width": 2
         },
         "mode": "lines",
         "name": "lines",
         "showlegend": false,
         "text": "Line_54.0-55.0<br />I = 3.252 %<br />I_from = 0.01 kA<br />I_to = 0.01 kA<br />",
         "type": "scatter",
         "x": [
          10.0,
          10.5,
          11.0
         ],
         "y": [
          -1.89583333,
          -1.89583333,
          -1.89583333
         ]
        },
        {
         "hoverinfo": "text",
         "legendgroup": "lines",
         "line": {
          "color": "rgb(0.0,0.0,159.3181818181818)",
          "dash": "solid",
          "width": 2
         },
         "mode": "lines",
         "name": "lines",
         "showlegend": false,
         "text": "Line_55.0-56.0<br />I = 2.914 %<br />I_from = 0.009 kA<br />I_to = 0.009 kA<br />",
         "type": "scatter",
         "x": [
          11.0,
          11.5,
          12.0
         ],
         "y": [
          -1.89583333,
          -1.89583333,
          -1.89583333
         ]
        },
        {
         "hoverinfo": "text",
         "legendgroup": "lines",
         "line": {
          "color": "rgb(0.0,0.0,159.3181818181818)",
          "dash": "solid",
          "width": 2
         },
         "mode": "lines",
         "name": "lines",
         "showlegend": false,
         "text": "Line_56.0-57.0<br />I = 2.914 %<br />I_from = 0.009 kA<br />I_to = 0.009 kA<br />",
         "type": "scatter",
         "x": [
          12.0,
          12.5,
          13.0
         ],
         "y": [
          -1.89583333,
          -1.89583333,
          -1.89583333
         ]
        },
        {
         "hoverinfo": "text",
         "legendgroup": "lines",
         "line": {
          "color": "rgb(0.0,0.0,159.3181818181818)",
          "dash": "solid",
          "width": 2
         },
         "mode": "lines",
         "name": "lines",
         "showlegend": false,
         "text": "Line_57.0-58.0<br />I = 2.914 %<br />I_from = 0.009 kA<br />I_to = 0.009 kA<br />",
         "type": "scatter",
         "x": [
          13.0,
          13.5,
          14.0
         ],
         "y": [
          -1.89583333,
          -1.89583333,
          -1.89583333
         ]
        },
        {
         "hoverinfo": "text",
         "legendgroup": "lines",
         "line": {
          "color": "rgb(0.0,0.0,159.3181818181818)",
          "dash": "solid",
          "width": 2
         },
         "mode": "lines",
         "name": "lines",
         "showlegend": false,
         "text": "Line_58.0-59.0<br />I = 2.914 %<br />I_from = 0.009 kA<br />I_to = 0.009 kA<br />",
         "type": "scatter",
         "x": [
          14.0,
          14.5,
          15.0
         ],
         "y": [
          -1.89583333,
          -1.89583333,
          -1.89583333
         ]
        },
        {
         "hoverinfo": "text",
         "legendgroup": "lines",
         "line": {
          "color": "rgb(0.0,172.5,255.0)",
          "dash": "solid",
          "width": 2
         },
         "mode": "lines",
         "name": "lines",
         "showlegend": false,
         "text": "Line_59.0-60.0<br />I = 29.512 %<br />I_from = 0.089 kA<br />I_to = 0.089 kA<br />",
         "type": "scatter",
         "x": [
          15.0,
          15.5,
          16.0
         ],
         "y": [
          -1.89583333,
          -1.89583333,
          -1.89583333
         ]
        },
        {
         "hoverinfo": "text",
         "legendgroup": "lines",
         "line": {
          "color": "rgb(0.0,172.5,255.0)",
          "dash": "solid",
          "width": 2
         },
         "mode": "lines",
         "name": "lines",
         "showlegend": false,
         "text": "Line_60.0-61.0<br />I = 29.512 %<br />I_from = 0.089 kA<br />I_to = 0.089 kA<br />",
         "type": "scatter",
         "x": [
          16.0,
          16.5,
          17.0
         ],
         "y": [
          -1.89583333,
          -1.89583333,
          -1.89583333
         ]
        },
        {
         "hoverinfo": "text",
         "legendgroup": "lines",
         "line": {
          "color": "rgb(0.0,0.0,200.22727272727272)",
          "dash": "solid",
          "width": 2
         },
         "mode": "lines",
         "name": "lines",
         "showlegend": false,
         "text": "Line_61.0-62.0<br />I = 6.487 %<br />I_from = 0.019 kA<br />I_to = 0.019 kA<br />",
         "type": "scatter",
         "x": [
          17.0,
          17.5,
          18.0
         ],
         "y": [
          -1.89583333,
          -1.89583333,
          -1.89583333
         ]
        },
        {
         "hoverinfo": "text",
         "legendgroup": "lines",
         "line": {
          "color": "rgb(0.0,0.0,195.68181818181816)",
          "dash": "solid",
          "width": 2
         },
         "mode": "lines",
         "name": "lines",
         "showlegend": false,
         "text": "Line_62.0-63.0<br />I = 5.919 %<br />I_from = 0.018 kA<br />I_to = 0.018 kA<br />",
         "type": "scatter",
         "x": [
          18.0,
          18.5,
          19.0
         ],
         "y": [
          -1.89583333,
          -1.89583333,
          -1.89583333
         ]
        },
        {
         "hoverinfo": "text",
         "legendgroup": "lines",
         "line": {
          "color": "rgb(0.0,0.0,195.68181818181816)",
          "dash": "solid",
          "width": 2
         },
         "mode": "lines",
         "name": "lines",
         "showlegend": false,
         "text": "Line_63.0-64.0<br />I = 5.919 %<br />I_from = 0.018 kA<br />I_to = 0.018 kA<br />",
         "type": "scatter",
         "x": [
          19.0,
          19.5,
          20.0
         ],
         "y": [
          -1.89583333,
          -1.89583333,
          -1.89583333
         ]
        },
        {
         "hoverinfo": "text",
         "legendgroup": "lines",
         "line": {
          "color": "rgb(0.0,0.0,154.77272727272728)",
          "dash": "solid",
          "width": 2
         },
         "mode": "lines",
         "name": "lines",
         "showlegend": false,
         "text": "Line_64.0-65.0<br />I = 2.377 %<br />I_from = 0.007 kA<br />I_to = 0.007 kA<br />",
         "type": "scatter",
         "x": [
          20.0,
          20.5,
          21.0
         ],
         "y": [
          -1.89583333,
          -1.89583333,
          -1.89583333
         ]
        },
        {
         "hoverinfo": "text",
         "legendgroup": "lines",
         "line": {
          "color": "rgb(0.0,0.0,136.5909090909091)",
          "dash": "solid",
          "width": 2
         },
         "mode": "lines",
         "name": "lines",
         "showlegend": false,
         "text": "Line_11.0-66.0<br />I = 1.012 %<br />I_from = 0.002 kA<br />I_to = 0.002 kA<br />",
         "type": "scatter",
         "x": [
          10.0,
          10.5,
          11.0
         ],
         "y": [
          -3.64583333,
          -3.27083333,
          -2.89583333
         ]
        },
        {
         "hoverinfo": "text",
         "legendgroup": "lines",
         "line": {
          "color": "rgb(0.0,0.0,132.04545454545453)",
          "dash": "solid",
          "width": 2
         },
         "mode": "lines",
         "name": "lines",
         "showlegend": false,
         "text": "Line_66.0-67.0<br />I = 0.506 %<br />I_from = 0.001 kA<br />I_to = 0.001 kA<br />",
         "type": "scatter",
         "x": [
          11.0,
          11.5,
          12.0
         ],
         "y": [
          -2.89583333,
          -2.89583333,
          -2.89583333
         ]
        },
        {
         "hoverinfo": "text",
         "legendgroup": "lines",
         "line": {
          "color": "rgb(0.0,0.0,145.6818181818182)",
          "dash": "solid",
          "width": 2
         },
         "mode": "lines",
         "name": "lines",
         "showlegend": false,
         "text": "Line_12.0-68.0<br />I = 1.573 %<br />I_from = 0.003 kA<br />I_to = 0.003 kA<br />",
         "type": "scatter",
         "x": [
          11.0,
          11.5,
          12.0
         ],
         "y": [
          -4.39583333,
          -4.14583333,
          -3.89583333
         ]
        },
        {
         "hoverinfo": "text",
         "legendgroup": "lines",
         "line": {
          "color": "rgb(0.0,0.0,136.5909090909091)",
          "dash": "solid",
          "width": 2
         },
         "mode": "lines",
         "name": "lines",
         "showlegend": false,
         "text": "Line_68.0-69.0<br />I = 0.786 %<br />I_from = 0.002 kA<br />I_to = 0.002 kA<br />",
         "type": "scatter",
         "x": [
          12.0,
          12.5,
          13.0
         ],
         "y": [
          -3.89583333,
          -3.89583333,
          -3.89583333
         ]
        },
        {
         "hoverinfo": "text",
         "legendgroup": "lines",
         "line": {
          "color": "rgb(70.16129032258063,255.0,176.61290322580646)",
          "dash": "solid",
          "width": 2
         },
         "mode": "lines",
         "name": "lines",
         "showlegend": false,
         "text": "Tie_Line_50-59<br />I = 43.739 %<br />I_from = 0.087 kA<br />I_to = 0.087 kA<br />",
         "type": "scatter",
         "x": [
          7.0,
          11.0,
          15.0
         ],
         "y": [
          -0.83333333,
          -1.36458333,
          -1.89583333
         ]
        },
        {
         "hoverinfo": "text",
         "legendgroup": "lines",
         "line": {
          "color": "rgb(60.48387096774193,255.0,186.29032258064518)",
          "dash": "solid",
          "width": 2
         },
         "mode": "lines",
         "name": "lines",
         "showlegend": false,
         "text": "Tie_Line_11-44<br />I = 42.303 %<br />I_from = 0.085 kA<br />I_to = 0.085 kA<br />",
         "type": "scatter",
         "x": [
          10.0,
          10.5,
          11.0
         ],
         "y": [
          -3.64583333,
          -1.23958333,
          1.16666667
         ]
        },
        {
         "hoverinfo": "text",
         "legendgroup": "lines",
         "line": {
          "color": "rgb(0.0,0.0,218.4090909090909)",
          "dash": "solid",
          "width": 2
         },
         "mode": "lines",
         "name": "lines",
         "showlegend": false,
         "text": "Tie_Line_13-21<br />I = 8.046 %<br />I_from = 0.016 kA<br />I_to = 0.016 kA<br />",
         "type": "scatter",
         "x": [
          12.0,
          16.0,
          20.0
         ],
         "y": [
          -4.89583333,
          -4.89583333,
          -4.89583333
         ]
        },
        {
         "hoverinfo": "text",
         "legendgroup": "lines",
         "line": {
          "color": "rgb(0.0,0.0,159.3181818181818)",
          "dash": "solid",
          "width": 2
         },
         "mode": "lines",
         "name": "lines",
         "showlegend": false,
         "text": "Tie_Line_65-27<br />I = 2.977 %<br />I_from = 0.006 kA<br />I_to = 0.006 kA<br />",
         "type": "scatter",
         "x": [
          21.0,
          23.5,
          26.0
         ],
         "y": [
          -1.89583333,
          -3.3958333300000003,
          -4.89583333
         ]
        },
        {
         "hoverinfo": "text",
         "legendgroup": "lines",
         "marker": {
          "color": "rgb(128, 128, 128)",
          "size": 1,
          "symbol": "circle"
         },
         "mode": "markers",
         "name": "edge_center",
         "showlegend": false,
         "text": [
          "Line_1.0-2.0<br />I = 94.155 %<br />I_from = 0.377 kA<br />I_to = 0.377 kA<br />",
          "Line_2.0-3.0<br />I = 94.155 %<br />I_from = 0.377 kA<br />I_to = 0.377 kA<br />",
          "Line_3.0-4.0<br />I = 61.347 %<br />I_from = 0.245 kA<br />I_to = 0.245 kA<br />",
          "Line_4.0-5.0<br />I = 31.265 %<br />I_from = 0.125 kA<br />I_to = 0.125 kA<br />",
          "Line_5.0-6.0<br />I = 31.265 %<br />I_from = 0.125 kA<br />I_to = 0.125 kA<br />",
          "Line_6.0-7.0<br />I = 31.237 %<br />I_from = 0.125 kA<br />I_to = 0.125 kA<br />",
          "Line_7.0-8.0<br />I = 30.8 %<br />I_from = 0.123 kA<br />I_to = 0.123 kA<br />",
          "Line_8.0-9.0<br />I = 29.531 %<br />I_from = 0.118 kA<br />I_to = 0.118 kA<br />",
          "Line_9.0-10.0<br />I = 26.468 %<br />I_from = 0.106 kA<br />I_to = 0.106 kA<br />",
          "Line_10.0-11.0<br />I = 52.356 %<br />I_from = 0.105 kA<br />I_to = 0.105 kA<br />",
          "Line_11.0-12.0<br />I = 15.36 %<br />I_from = 0.031 kA<br />I_to = 0.031 kA<br />",
          "Line_12.0-13.0<br />I = 9.834 %<br />I_from = 0.02 kA<br />I_to = 0.02 kA<br />",
          "Line_13.0-14.0<br />I = 1.671 %<br />I_from = 0.003 kA<br />I_to = 0.003 kA<br />",
          "Line_14.0-15.0<br />I = 1.449 %<br />I_from = 0.003 kA<br />I_to = 0.003 kA<br />",
          "Line_15.0-16.0<br />I = 1.449 %<br />I_from = 0.003 kA<br />I_to = 0.003 kA<br />",
          "Line_16.0-17.0<br />I = 0.2 %<br />I_from = 0.0 kA<br />I_to = 0.0 kA<br />",
          "Line_17.0-18.0<br />I = 1.395 %<br />I_from = 0.003 kA<br />I_to = 0.003 kA<br />",
          "Line_18.0-19.0<br />I = 2.988 %<br />I_from = 0.006 kA<br />I_to = 0.006 kA<br />",
          "Line_19.0-20.0<br />I = 2.988 %<br />I_from = 0.006 kA<br />I_to = 0.006 kA<br />",
          "Line_20.0-21.0<br />I = 3.015 %<br />I_from = 0.006 kA<br />I_to = 0.006 kA<br />",
          "Line_21.0-22.0<br />I = 3.271 %<br />I_from = 0.007 kA<br />I_to = 0.007 kA<br />",
          "Line_22.0-23.0<br />I = 3.215 %<br />I_from = 0.006 kA<br />I_to = 0.006 kA<br />",
          "Line_23.0-24.0<br />I = 3.215 %<br />I_from = 0.006 kA<br />I_to = 0.006 kA<br />",
          "Line_24.0-25.0<br />I = 2.996 %<br />I_from = 0.006 kA<br />I_to = 0.006 kA<br />",
          "Line_25.0-26.0<br />I = 2.996 %<br />I_from = 0.006 kA<br />I_to = 0.006 kA<br />",
          "Line_26.0-27.0<br />I = 2.961 %<br />I_from = 0.006 kA<br />I_to = 0.006 kA<br />",
          "Line_3.0-28.0<br />I = 2.488 %<br />I_from = 0.005 kA<br />I_to = 0.005 kA<br />",
          "Line_28.0-29.0<br />I = 1.781 %<br />I_from = 0.004 kA<br />I_to = 0.004 kA<br />",
          "Line_29.0-30.0<br />I = 1.073 %<br />I_from = 0.002 kA<br />I_to = 0.002 kA<br />",
          "Line_30.0-31.0<br />I = 1.073 %<br />I_from = 0.002 kA<br />I_to = 0.002 kA<br />",
          "Line_31.0-32.0<br />I = 1.073 %<br />I_from = 0.002 kA<br />I_to = 0.002 kA<br />",
          "Line_32.0-33.0<br />I = 1.073 %<br />I_from = 0.002 kA<br />I_to = 0.002 kA<br />",
          "Line_33.0-34.0<br />I = 0.692 %<br />I_from = 0.001 kA<br />I_to = 0.001 kA<br />",
          "Line_34.0-35.0<br />I = 0.16 %<br />I_from = 0.0 kA<br />I_to = 0.0 kA<br />",
          "Line_3.0-36.0<br />I = 63.391 %<br />I_from = 0.127 kA<br />I_to = 0.127 kA<br />",
          "Line_36.0-37.0<br />I = 62.701 %<br />I_from = 0.125 kA<br />I_to = 0.125 kA<br />",
          "Line_37.0-38.0<br />I = 62.01 %<br />I_from = 0.124 kA<br />I_to = 0.124 kA<br />",
          "Line_38.0-39.0<br />I = 62.01 %<br />I_from = 0.124 kA<br />I_to = 0.124 kA<br />",
          "Line_39.0-40.0<br />I = 61.372 %<br />I_from = 0.123 kA<br />I_to = 0.123 kA<br />",
          "Line_40.0-41.0<br />I = 60.734 %<br />I_from = 0.121 kA<br />I_to = 0.121 kA<br />",
          "Line_41.0-42.0<br />I = 60.7 %<br />I_from = 0.121 kA<br />I_to = 0.121 kA<br />",
          "Line_42.0-43.0<br />I = 60.7 %<br />I_from = 0.121 kA<br />I_to = 0.121 kA<br />",
          "Line_43.0-44.0<br />I = 60.537 %<br />I_from = 0.121 kA<br />I_to = 0.121 kA<br />",
          "Line_44.0-45.0<br />I = 93.285 %<br />I_from = 0.187 kA<br />I_to = 0.187 kA<br />",
          "Line_45.0-46.0<br />I = 92.382 %<br />I_from = 0.185 kA<br />I_to = 0.185 kA<br />",
          "Line_4.0-47.0<br />I = 44.778 %<br />I_from = 0.134 kA<br />I_to = 0.134 kA<br />",
          "Line_47.0-48.0<br />I = 44.778 %<br />I_from = 0.134 kA<br />I_to = 0.134 kA<br />",
          "Line_48.0-49.0<br />I = 43.34 %<br />I_from = 0.13 kA<br />I_to = 0.13 kA<br />",
          "Line_49.0-50.0<br />I = 36.259 %<br />I_from = 0.109 kA<br />I_to = 0.109 kA<br />",
          "Line_8.0-51.0<br />I = 1.211 %<br />I_from = 0.002 kA<br />I_to = 0.002 kA<br />",
          "Line_51.0-52.0<br />I = 0.101 %<br />I_from = 0.0 kA<br />I_to = 0.0 kA<br />",
          "Line_9.0-53.0<br />I = 3.719 %<br />I_from = 0.011 kA<br />I_to = 0.011 kA<br />",
          "Line_53.0-54.0<br />I = 3.651 %<br />I_from = 0.011 kA<br />I_to = 0.011 kA<br />",
          "Line_54.0-55.0<br />I = 3.252 %<br />I_from = 0.01 kA<br />I_to = 0.01 kA<br />",
          "Line_55.0-56.0<br />I = 2.914 %<br />I_from = 0.009 kA<br />I_to = 0.009 kA<br />",
          "Line_56.0-57.0<br />I = 2.914 %<br />I_from = 0.009 kA<br />I_to = 0.009 kA<br />",
          "Line_57.0-58.0<br />I = 2.914 %<br />I_from = 0.009 kA<br />I_to = 0.009 kA<br />",
          "Line_58.0-59.0<br />I = 2.914 %<br />I_from = 0.009 kA<br />I_to = 0.009 kA<br />",
          "Line_59.0-60.0<br />I = 29.512 %<br />I_from = 0.089 kA<br />I_to = 0.089 kA<br />",
          "Line_60.0-61.0<br />I = 29.512 %<br />I_from = 0.089 kA<br />I_to = 0.089 kA<br />",
          "Line_61.0-62.0<br />I = 6.487 %<br />I_from = 0.019 kA<br />I_to = 0.019 kA<br />",
          "Line_62.0-63.0<br />I = 5.919 %<br />I_from = 0.018 kA<br />I_to = 0.018 kA<br />",
          "Line_63.0-64.0<br />I = 5.919 %<br />I_from = 0.018 kA<br />I_to = 0.018 kA<br />",
          "Line_64.0-65.0<br />I = 2.377 %<br />I_from = 0.007 kA<br />I_to = 0.007 kA<br />",
          "Line_11.0-66.0<br />I = 1.012 %<br />I_from = 0.002 kA<br />I_to = 0.002 kA<br />",
          "Line_66.0-67.0<br />I = 0.506 %<br />I_from = 0.001 kA<br />I_to = 0.001 kA<br />",
          "Line_12.0-68.0<br />I = 1.573 %<br />I_from = 0.003 kA<br />I_to = 0.003 kA<br />",
          "Line_68.0-69.0<br />I = 0.786 %<br />I_from = 0.002 kA<br />I_to = 0.002 kA<br />",
          "Tie_Line_50-59<br />I = 43.739 %<br />I_from = 0.087 kA<br />I_to = 0.087 kA<br />",
          "Tie_Line_11-44<br />I = 42.303 %<br />I_from = 0.085 kA<br />I_to = 0.085 kA<br />",
          "Tie_Line_13-21<br />I = 8.046 %<br />I_from = 0.016 kA<br />I_to = 0.016 kA<br />",
          "Tie_Line_65-27<br />I = 2.977 %<br />I_from = 0.006 kA<br />I_to = 0.006 kA<br />"
         ],
         "type": "scatter",
         "x": [
          0.5
         ],
         "y": [
          0.0
         ]
        },
        {
         "hoverinfo": "text",
         "marker": {
          "color": "rgb(128, 128, 128)",
          "size": 20,
          "symbol": "square"
         },
         "mode": "markers",
         "name": "external_grid",
         "text": [
          "Bus_1"
         ],
         "type": "scatter",
         "x": [
          0.0
         ],
         "y": [
          0.0
         ]
        },
        {
         "hoverinfo": "text",
         "marker": {
          "cmax": 1.1,
          "cmin": 0.9,
          "color": {
           "bdata": "exSuR+F68D+1cZjisXrwP4/gJX6CevA/nyrzZSl68D/FF+nmd3jwPyRAOcREX/A/Ux6I/R5F8D+F30Up7j7wP+f7VZ7SO/A/PJ8O62cN8D+Nj/Pa+QLwP3aE+F3x7u8/TPUSAMba7z+D9K8M0NbvP+fWfyVV0+8/2bZJla/S7z9sHexJhdLvP4AzqDOJ0u8/gTsFNM3U7z/ejqSJQdbvP5HTS7Kj2O8/Rw6C35/Y7z9cbnO6gNjvP2NAtxM92O8/F0chXgDZ7z+l8KIuUdnvP/fNOQem2e8/FkDFdXt68D9v4Sh5MnrwPzH16iq3efA/USa1aKF58D+kktCdNHnwP9tYhM0vePA/f3noRNp28D90L6SklXbwP8gR7QvsefA/LShbPoNx8D9BNxs/eWfwP3J9/aaTZPA/s9t1Q2hk8D+oExk9viDwP757HYoMBPA/17Wj1EIA8D+TuKHByP7vP6PZejGY5+8/5Op4EWjn7z+Tun8klXnwPxpnev0ua/A/X7F4y9w78D8vFM4QqjDwPy92x1fKPvA/mzcAusA+8D8ZvQ3kszrwP1sLmWttOfA/cwNGjOY38D9sb9UxnzbwPxOPo9I5L/A/SED435Qr8D+51cyOKirwP4B/xmrOFvA/UFHznkn17z83z+MK7/LvP2Of5hzB7+8/j1xEoizg7z88qEMu4tnvP3ReAB3AAvA/6ZLxcL8C8D/RXAsKUuzvPwW0t+RP7O8/",
           "dtype": "f8"
          },
          "colorbar": {
           "thickness": 10,
           "title": {
            "side": "right",
            "text": "Bus Voltage [pu]"
           },
           "x": 1.0
          },
          "colorscale": [
           [
            0.0,
            "rgb(0,0,131)"
           ],
           [
            0.2,
            "rgb(0,60,170)"
           ],
           [
            0.4,
            "rgb(5,255,255)"
           ],
           [
            0.6,
            "rgb(255,255,0)"
           ],
           [
            0.8,
            "rgb(250,0,0)"
           ],
           [
            1.0,
            "rgb(128,0,0)"
           ]
          ],
          "size": 10,
          "symbol": "circle"
         },
         "mode": "markers",
         "name": "buses",
         "text": [
          "Bus_1<br />V_m = 1.03 pu<br />V_m = 13.04 kV<br />V_a = 0.0 deg",
          "Bus_2<br />V_m = 1.03 pu<br />V_m = 13.039 kV<br />V_a = -0.003 deg",
          "Bus_3<br />V_m = 1.03 pu<br />V_m = 13.039 kV<br />V_a = -0.006 deg",
          "Bus_4<br />V_m = 1.03 pu<br />V_m = 13.038 kV<br />V_a = -0.011 deg",
          "Bus_5<br />V_m = 1.029 pu<br />V_m = 13.032 kV<br />V_a = -0.04 deg",
          "Bus_6<br />V_m = 1.023 pu<br />V_m = 12.954 kV<br />V_a = -0.229 deg",
          "Bus_7<br />V_m = 1.017 pu<br />V_m = 12.874 kV<br />V_a = -0.429 deg",
          "Bus_8<br />V_m = 1.015 pu<br />V_m = 12.855 kV<br />V_a = -0.478 deg",
          "Bus_9<br />V_m = 1.015 pu<br />V_m = 12.845 kV<br />V_a = -0.505 deg",
          "Bus_10<br />V_m = 1.003 pu<br />V_m = 12.701 kV<br />V_a = -0.804 deg",
          "Bus_11<br />V_m = 1.001 pu<br />V_m = 12.669 kV<br />V_a = -0.874 deg",
          "Bus_12<br />V_m = 0.998 pu<br />V_m = 12.634 kV<br />V_a = -0.792 deg",
          "Bus_13<br />V_m = 0.995 pu<br />V_m = 12.602 kV<br />V_a = -0.702 deg",
          "Bus_14<br />V_m = 0.995 pu<br />V_m = 12.596 kV<br />V_a = -0.694 deg",
          "Bus_15<br />V_m = 0.995 pu<br />V_m = 12.591 kV<br />V_a = -0.687 deg",
          "Bus_16<br />V_m = 0.994 pu<br />V_m = 12.59 kV<br />V_a = -0.686 deg",
          "Bus_17<br />V_m = 0.994 pu<br />V_m = 12.59 kV<br />V_a = -0.685 deg",
          "Bus_18<br />V_m = 0.994 pu<br />V_m = 12.59 kV<br />V_a = -0.685 deg",
          "Bus_19<br />V_m = 0.995 pu<br />V_m = 12.593 kV<br />V_a = -0.689 deg",
          "Bus_20<br />V_m = 0.995 pu<br />V_m = 12.595 kV<br />V_a = -0.691 deg",
          "Bus_21<br />V_m = 0.995 pu<br />V_m = 12.599 kV<br />V_a = -0.694 deg",
          "Bus_22<br />V_m = 0.995 pu<br />V_m = 12.599 kV<br />V_a = -0.693 deg",
          "Bus_23<br />V_m = 0.995 pu<br />V_m = 12.599 kV<br />V_a = -0.685 deg",
          "Bus_24<br />V_m = 0.995 pu<br />V_m = 12.599 kV<br />V_a = -0.667 deg",
          "Bus_25<br />V_m = 0.995 pu<br />V_m = 12.6 kV<br />V_a = -0.63 deg",
          "Bus_26<br />V_m = 0.995 pu<br />V_m = 12.6 kV<br />V_a = -0.614 deg",
          "Bus_27<br />V_m = 0.995 pu<br />V_m = 12.601 kV<br />V_a = -0.606 deg",
          "Bus_28<br />V_m = 1.03 pu<br />V_m = 13.039 kV<br />V_a = -0.006 deg",
          "Bus_29<br />V_m = 1.03 pu<br />V_m = 13.038 kV<br />V_a = -0.008 deg",
          "Bus_30<br />V_m = 1.03 pu<br />V_m = 13.036 kV<br />V_a = -0.006 deg",
          "Bus_31<br />V_m = 1.03 pu<br />V_m = 13.036 kV<br />V_a = -0.006 deg",
          "Bus_32<br />V_m = 1.03 pu<br />V_m = 13.035 kV<br />V_a = -0.004 deg",
          "Bus_33<br />V_m = 1.029 pu<br />V_m = 13.031 kV<br />V_a = 0.0 deg",
          "Bus_34<br />V_m = 1.029 pu<br />V_m = 13.027 kV<br />V_a = 0.006 deg",
          "Bus_35<br />V_m = 1.029 pu<br />V_m = 13.027 kV<br />V_a = 0.007 deg",
          "Bus_36<br />V_m = 1.03 pu<br />V_m = 13.037 kV<br />V_a = -0.013 deg",
          "Bus_37<br />V_m = 1.028 pu<br />V_m = 13.011 kV<br />V_a = -0.128 deg",
          "Bus_38<br />V_m = 1.025 pu<br />V_m = 12.98 kV<br />V_a = -0.197 deg",
          "Bus_39<br />V_m = 1.025 pu<br />V_m = 12.971 kV<br />V_a = -0.217 deg",
          "Bus_40<br />V_m = 1.025 pu<br />V_m = 12.97 kV<br />V_a = -0.218 deg",
          "Bus_41<br />V_m = 1.008 pu<br />V_m = 12.761 kV<br />V_a = -0.702 deg",
          "Bus_42<br />V_m = 1.001 pu<br />V_m = 12.673 kV<br />V_a = -0.912 deg",
          "Bus_43<br />V_m = 1.0 pu<br />V_m = 12.661 kV<br />V_a = -0.94 deg",
          "Bus_44<br />V_m = 1.0 pu<br />V_m = 12.658 kV<br />V_a = -0.947 deg",
          "Bus_45<br />V_m = 0.997 pu<br />V_m = 12.622 kV<br />V_a = -1.146 deg",
          "Bus_46<br />V_m = 0.997 pu<br />V_m = 12.622 kV<br />V_a = -1.148 deg",
          "Bus_47<br />V_m = 1.03 pu<br />V_m = 13.036 kV<br />V_a = -0.016 deg",
          "Bus_48<br />V_m = 1.026 pu<br />V_m = 12.991 kV<br />V_a = -0.137 deg",
          "Bus_49<br />V_m = 1.015 pu<br />V_m = 12.845 kV<br />V_a = -0.543 deg",
          "Bus_50<br />V_m = 1.012 pu<br />V_m = 12.81 kV<br />V_a = -0.641 deg",
          "Bus_51<br />V_m = 1.015 pu<br />V_m = 12.854 kV<br />V_a = -0.478 deg",
          "Bus_52<br />V_m = 1.015 pu<br />V_m = 12.854 kV<br />V_a = -0.478 deg",
          "Bus_53<br />V_m = 1.014 pu<br />V_m = 12.841 kV<br />V_a = -0.512 deg",
          "Bus_54<br />V_m = 1.014 pu<br />V_m = 12.837 kV<br />V_a = -0.52 deg",
          "Bus_55<br />V_m = 1.014 pu<br />V_m = 12.833 kV<br />V_a = -0.531 deg",
          "Bus_56<br />V_m = 1.013 pu<br />V_m = 12.829 kV<br />V_a = -0.543 deg",
          "Bus_57<br />V_m = 1.012 pu<br />V_m = 12.806 kV<br />V_a = -0.593 deg",
          "Bus_58<br />V_m = 1.011 pu<br />V_m = 12.795 kV<br />V_a = -0.617 deg",
          "Bus_59<br />V_m = 1.01 pu<br />V_m = 12.79 kV<br />V_a = -0.627 deg",
          "Bus_60<br />V_m = 1.006 pu<br />V_m = 12.73 kV<br />V_a = -0.556 deg",
          "Bus_61<br />V_m = 0.999 pu<br />V_m = 12.643 kV<br />V_a = -0.524 deg",
          "Bus_62<br />V_m = 0.998 pu<br />V_m = 12.64 kV<br />V_a = -0.526 deg",
          "Bus_63<br />V_m = 0.998 pu<br />V_m = 12.635 kV<br />V_a = -0.531 deg",
          "Bus_64<br />V_m = 0.996 pu<br />V_m = 12.611 kV<br />V_a = -0.552 deg",
          "Bus_65<br />V_m = 0.995 pu<br />V_m = 12.601 kV<br />V_a = -0.6 deg",
          "Bus_66<br />V_m = 1.001 pu<br />V_m = 12.669 kV<br />V_a = -0.873 deg",
          "Bus_67<br />V_m = 1.001 pu<br />V_m = 12.668 kV<br />V_a = -0.873 deg",
          "Bus_68<br />V_m = 0.998 pu<br />V_m = 12.63 kV<br />V_a = -0.787 deg",
          "Bus_69<br />V_m = 0.998 pu<br />V_m = 12.63 kV<br />V_a = -0.786 deg"
         ],
         "type": "scatter",
         "x": [
          0.0,
          1.0,
          2.0,
          3.0,
          4.0,
          5.0,
          6.0,
          7.0,
          8.0,
          9.0,
          10.0,
          11.0,
          12.0,
          13.0,
          14.0,
          15.0,
          16.0,
          17.0,
          18.0,
          19.0,
          20.0,
          21.0,
          22.0,
          23.0,
          24.0,
          25.0,
          26.0,
          3.0,
          4.0,
          5.0,
          6.0,
          7.0,
          8.0,
          9.0,
          10.0,
          3.0,
          4.0,
          5.0,
          6.0,
          7.0,
          8.0,
          9.0,
          10.0,
          11.0,
          12.0,
          13.0,
          4.0,
          5.0,
          6.0,
          7.0,
          8.0,
          9.0,
          9.0,
          10.0,
          11.0,
          12.0,
          13.0,
          14.0,
          15.0,
          16.0,
          17.0,
          18.0,
          19.0,
          20.0,
          21.0,
          11.0,
          12.0,
          12.0,
          13.0
         ],
         "y": [
          0.0,
          0.0,
          0.0,
          -1.33333333,
          -1.83333333,
          -1.83333333,
          -1.83333333,
          -1.83333333,
          -2.77083333,
          -3.64583333,
          -3.64583333,
          -4.39583333,
          -4.89583333,
          -4.89583333,
          -4.89583333,
          -4.89583333,
          -4.89583333,
          -4.89583333,
          -4.89583333,
          -4.89583333,
          -4.89583333,
          -4.89583333,
          -4.89583333,
          -4.89583333,
          -4.89583333,
          -4.89583333,
          -4.89583333,
          0.16666667,
          0.16666667,
          0.16666667,
          0.16666667,
          0.16666667,
          0.16666667,
          0.16666667,
          0.16666667,
          1.16666667,
          1.16666667,
          1.16666667,
          1.16666667,
          1.16666667,
          1.16666667,
          1.16666667,
          1.16666667,
          1.16666667,
          1.16666667,
          1.16666667,
          -0.83333333,
          -0.83333333,
          -0.83333333,
          -0.83333333,
          -0.89583333,
          -0.89583333,
          -1.89583333,
          -1.89583333,
          -1.89583333,
          -1.89583333,
          -1.89583333,
          -1.89583333,
          -1.89583333,
          -1.89583333,
          -1.89583333,
          -1.89583333,
          -1.89583333,
          -1.89583333,
          -1.89583333,
          -2.89583333,
          -2.89583333,
          -3.89583333,
          -3.89583333
         ]
        }
       ],
       "layout": {
        "autosize": true,
        "height": 163.22115384615384,
        "hovermode": "closest",
        "legend": {
         "itemsizing": "constant"
        },
        "margin": {
         "b": 5,
         "l": 5,
         "r": 5,
         "t": 5
        },
        "showlegend": false,
        "template": {
         "data": {
          "bar": [
           {
            "error_x": {
             "color": "#2a3f5f"
            },
            "error_y": {
             "color": "#2a3f5f"
            },
            "marker": {
             "line": {
              "color": "#E5ECF6",
              "width": 0.5
             },
             "pattern": {
              "fillmode": "overlay",
              "size": 10,
              "solidity": 0.2
             }
            },
            "type": "bar"
           }
          ],
          "barpolar": [
           {
            "marker": {
             "line": {
              "color": "#E5ECF6",
              "width": 0.5
             },
             "pattern": {
              "fillmode": "overlay",
              "size": 10,
              "solidity": 0.2
             }
            },
            "type": "barpolar"
           }
          ],
          "carpet": [
           {
            "aaxis": {
             "endlinecolor": "#2a3f5f",
             "gridcolor": "white",
             "linecolor": "white",
             "minorgridcolor": "white",
             "startlinecolor": "#2a3f5f"
            },
            "baxis": {
             "endlinecolor": "#2a3f5f",
             "gridcolor": "white",
             "linecolor": "white",
             "minorgridcolor": "white",
             "startlinecolor": "#2a3f5f"
            },
            "type": "carpet"
           }
          ],
          "choropleth": [
           {
            "colorbar": {
             "outlinewidth": 0,
             "ticks": ""
            },
            "type": "choropleth"
           }
          ],
          "contour": [
           {
            "colorbar": {
             "outlinewidth": 0,
             "ticks": ""
            },
            "colorscale": [
             [
              0.0,
              "#0d0887"
             ],
             [
              0.1111111111111111,
              "#46039f"
             ],
             [
              0.2222222222222222,
              "#7201a8"
             ],
             [
              0.3333333333333333,
              "#9c179e"
             ],
             [
              0.4444444444444444,
              "#bd3786"
             ],
             [
              0.5555555555555556,
              "#d8576b"
             ],
             [
              0.6666666666666666,
              "#ed7953"
             ],
             [
              0.7777777777777778,
              "#fb9f3a"
             ],
             [
              0.8888888888888888,
              "#fdca26"
             ],
             [
              1.0,
              "#f0f921"
             ]
            ],
            "type": "contour"
           }
          ],
          "contourcarpet": [
           {
            "colorbar": {
             "outlinewidth": 0,
             "ticks": ""
            },
            "type": "contourcarpet"
           }
          ],
          "heatmap": [
           {
            "colorbar": {
             "outlinewidth": 0,
             "ticks": ""
            },
            "colorscale": [
             [
              0.0,
              "#0d0887"
             ],
             [
              0.1111111111111111,
              "#46039f"
             ],
             [
              0.2222222222222222,
              "#7201a8"
             ],
             [
              0.3333333333333333,
              "#9c179e"
             ],
             [
              0.4444444444444444,
              "#bd3786"
             ],
             [
              0.5555555555555556,
              "#d8576b"
             ],
             [
              0.6666666666666666,
              "#ed7953"
             ],
             [
              0.7777777777777778,
              "#fb9f3a"
             ],
             [
              0.8888888888888888,
              "#fdca26"
             ],
             [
              1.0,
              "#f0f921"
             ]
            ],
            "type": "heatmap"
           }
          ],
          "histogram": [
           {
            "marker": {
             "pattern": {
              "fillmode": "overlay",
              "size": 10,
              "solidity": 0.2
             }
            },
            "type": "histogram"
           }
          ],
          "histogram2d": [
           {
            "colorbar": {
             "outlinewidth": 0,
             "ticks": ""
            },
            "colorscale": [
             [
              0.0,
              "#0d0887"
             ],
             [
              0.1111111111111111,
              "#46039f"
             ],
             [
              0.2222222222222222,
              "#7201a8"
             ],
             [
              0.3333333333333333,
              "#9c179e"
             ],
             [
              0.4444444444444444,
              "#bd3786"
             ],
             [
              0.5555555555555556,
              "#d8576b"
             ],
             [
              0.6666666666666666,
              "#ed7953"
             ],
             [
              0.7777777777777778,
              "#fb9f3a"
             ],
             [
              0.8888888888888888,
              "#fdca26"
             ],
             [
              1.0,
              "#f0f921"
             ]
            ],
            "type": "histogram2d"
           }
          ],
          "histogram2dcontour": [
           {
            "colorbar": {
             "outlinewidth": 0,
             "ticks": ""
            },
            "colorscale": [
             [
              0.0,
              "#0d0887"
             ],
             [
              0.1111111111111111,
              "#46039f"
             ],
             [
              0.2222222222222222,
              "#7201a8"
             ],
             [
              0.3333333333333333,
              "#9c179e"
             ],
             [
              0.4444444444444444,
              "#bd3786"
             ],
             [
              0.5555555555555556,
              "#d8576b"
             ],
             [
              0.6666666666666666,
              "#ed7953"
             ],
             [
              0.7777777777777778,
              "#fb9f3a"
             ],
             [
              0.8888888888888888,
              "#fdca26"
             ],
             [
              1.0,
              "#f0f921"
             ]
            ],
            "type": "histogram2dcontour"
           }
          ],
          "mesh3d": [
           {
            "colorbar": {
             "outlinewidth": 0,
             "ticks": ""
            },
            "type": "mesh3d"
           }
          ],
          "parcoords": [
           {
            "line": {
             "colorbar": {
              "outlinewidth": 0,
              "ticks": ""
             }
            },
            "type": "parcoords"
           }
          ],
          "pie": [
           {
            "automargin": true,
            "type": "pie"
           }
          ],
          "scatter": [
           {
            "fillpattern": {
             "fillmode": "overlay",
             "size": 10,
             "solidity": 0.2
            },
            "type": "scatter"
           }
          ],
          "scatter3d": [
           {
            "line": {
             "colorbar": {
              "outlinewidth": 0,
              "ticks": ""
             }
            },
            "marker": {
             "colorbar": {
              "outlinewidth": 0,
              "ticks": ""
             }
            },
            "type": "scatter3d"
           }
          ],
          "scattercarpet": [
           {
            "marker": {
             "colorbar": {
              "outlinewidth": 0,
              "ticks": ""
             }
            },
            "type": "scattercarpet"
           }
          ],
          "scattergeo": [
           {
            "marker": {
             "colorbar": {
              "outlinewidth": 0,
              "ticks": ""
             }
            },
            "type": "scattergeo"
           }
          ],
          "scattergl": [
           {
            "marker": {
             "colorbar": {
              "outlinewidth": 0,
              "ticks": ""
             }
            },
            "type": "scattergl"
           }
          ],
          "scattermap": [
           {
            "marker": {
             "colorbar": {
              "outlinewidth": 0,
              "ticks": ""
             }
            },
            "type": "scattermap"
           }
          ],
          "scattermapbox": [
           {
            "marker": {
             "colorbar": {
              "outlinewidth": 0,
              "ticks": ""
             }
            },
            "type": "scattermapbox"
           }
          ],
          "scatterpolar": [
           {
            "marker": {
             "colorbar": {
              "outlinewidth": 0,
              "ticks": ""
             }
            },
            "type": "scatterpolar"
           }
          ],
          "scatterpolargl": [
           {
            "marker": {
             "colorbar": {
              "outlinewidth": 0,
              "ticks": ""
             }
            },
            "type": "scatterpolargl"
           }
          ],
          "scatterternary": [
           {
            "marker": {
             "colorbar": {
              "outlinewidth": 0,
              "ticks": ""
             }
            },
            "type": "scatterternary"
           }
          ],
          "surface": [
           {
            "colorbar": {
             "outlinewidth": 0,
             "ticks": ""
            },
            "colorscale": [
             [
              0.0,
              "#0d0887"
             ],
             [
              0.1111111111111111,
              "#46039f"
             ],
             [
              0.2222222222222222,
              "#7201a8"
             ],
             [
              0.3333333333333333,
              "#9c179e"
             ],
             [
              0.4444444444444444,
              "#bd3786"
             ],
             [
              0.5555555555555556,
              "#d8576b"
             ],
             [
              0.6666666666666666,
              "#ed7953"
             ],
             [
              0.7777777777777778,
              "#fb9f3a"
             ],
             [
              0.8888888888888888,
              "#fdca26"
             ],
             [
              1.0,
              "#f0f921"
             ]
            ],
            "type": "surface"
           }
          ],
          "table": [
           {
            "cells": {
             "fill": {
              "color": "#EBF0F8"
             },
             "line": {
              "color": "white"
             }
            },
            "header": {
             "fill": {
              "color": "#C8D4E3"
             },
             "line": {
              "color": "white"
             }
            },
            "type": "table"
           }
          ]
         },
         "layout": {
          "annotationdefaults": {
           "arrowcolor": "#2a3f5f",
           "arrowhead": 0,
           "arrowwidth": 1
          },
          "autotypenumbers": "strict",
          "coloraxis": {
           "colorbar": {
            "outlinewidth": 0,
            "ticks": ""
           }
          },
          "colorscale": {
           "diverging": [
            [
             0,
             "#8e0152"
            ],
            [
             0.1,
             "#c51b7d"
            ],
            [
             0.2,
             "#de77ae"
            ],
            [
             0.3,
             "#f1b6da"
            ],
            [
             0.4,
             "#fde0ef"
            ],
            [
             0.5,
             "#f7f7f7"
            ],
            [
             0.6,
             "#e6f5d0"
            ],
            [
             0.7,
             "#b8e186"
            ],
            [
             0.8,
             "#7fbc41"
            ],
            [
             0.9,
             "#4d9221"
            ],
            [
             1,
             "#276419"
            ]
           ],
           "sequential": [
            [
             0.0,
             "#0d0887"
            ],
            [
             0.1111111111111111,
             "#46039f"
            ],
            [
             0.2222222222222222,
             "#7201a8"
            ],
            [
             0.3333333333333333,
             "#9c179e"
            ],
            [
             0.4444444444444444,
             "#bd3786"
            ],
            [
             0.5555555555555556,
             "#d8576b"
            ],
            [
             0.6666666666666666,
             "#ed7953"
            ],
            [
             0.7777777777777778,
             "#fb9f3a"
            ],
            [
             0.8888888888888888,
             "#fdca26"
            ],
            [
             1.0,
             "#f0f921"
            ]
           ],
           "sequentialminus": [
            [
             0.0,
             "#0d0887"
            ],
            [
             0.1111111111111111,
             "#46039f"
            ],
            [
             0.2222222222222222,
             "#7201a8"
            ],
            [
             0.3333333333333333,
             "#9c179e"
            ],
            [
             0.4444444444444444,
             "#bd3786"
            ],
            [
             0.5555555555555556,
             "#d8576b"
            ],
            [
             0.6666666666666666,
             "#ed7953"
            ],
            [
             0.7777777777777778,
             "#fb9f3a"
            ],
            [
             0.8888888888888888,
             "#fdca26"
            ],
            [
             1.0,
             "#f0f921"
            ]
           ]
          },
          "colorway": [
           "#636efa",
           "#EF553B",
           "#00cc96",
           "#ab63fa",
           "#FFA15A",
           "#19d3f3",
           "#FF6692",
           "#B6E880",
           "#FF97FF",
           "#FECB52"
          ],
          "font": {
           "color": "#2a3f5f"
          },
          "geo": {
           "bgcolor": "white",
           "lakecolor": "white",
           "landcolor": "#E5ECF6",
           "showlakes": true,
           "showland": true,
           "subunitcolor": "white"
          },
          "hoverlabel": {
           "align": "left"
          },
          "hovermode": "closest",
          "mapbox": {
           "style": "light"
          },
          "paper_bgcolor": "white",
          "plot_bgcolor": "#E5ECF6",
          "polar": {
           "angularaxis": {
            "gridcolor": "white",
            "linecolor": "white",
            "ticks": ""
           },
           "bgcolor": "#E5ECF6",
           "radialaxis": {
            "gridcolor": "white",
            "linecolor": "white",
            "ticks": ""
           }
          },
          "scene": {
           "xaxis": {
            "backgroundcolor": "#E5ECF6",
            "gridcolor": "white",
            "gridwidth": 2,
            "linecolor": "white",
            "showbackground": true,
            "ticks": "",
            "zerolinecolor": "white"
           },
           "yaxis": {
            "backgroundcolor": "#E5ECF6",
            "gridcolor": "white",
            "gridwidth": 2,
            "linecolor": "white",
            "showbackground": true,
            "ticks": "",
            "zerolinecolor": "white"
           },
           "zaxis": {
            "backgroundcolor": "#E5ECF6",
            "gridcolor": "white",
            "gridwidth": 2,
            "linecolor": "white",
            "showbackground": true,
            "ticks": "",
            "zerolinecolor": "white"
           }
          },
          "shapedefaults": {
           "line": {
            "color": "#2a3f5f"
           }
          },
          "ternary": {
           "aaxis": {
            "gridcolor": "white",
            "linecolor": "white",
            "ticks": ""
           },
           "baxis": {
            "gridcolor": "white",
            "linecolor": "white",
            "ticks": ""
           },
           "bgcolor": "#E5ECF6",
           "caxis": {
            "gridcolor": "white",
            "linecolor": "white",
            "ticks": ""
           }
          },
          "title": {
           "x": 0.05
          },
          "xaxis": {
           "automargin": true,
           "gridcolor": "white",
           "linecolor": "white",
           "ticks": "",
           "title": {
            "standoff": 15
           },
           "zerolinecolor": "white",
           "zerolinewidth": 2
          },
          "yaxis": {
           "automargin": true,
           "gridcolor": "white",
           "linecolor": "white",
           "ticks": "",
           "title": {
            "standoff": 15
           },
           "zerolinecolor": "white",
           "zerolinewidth": 2
          }
         }
        },
        "title": {
         "font": {
          "size": 16
         }
        },
        "width": 700.0,
        "xaxis": {
         "showgrid": false,
         "showticklabels": false,
         "zeroline": false
        },
        "yaxis": {
         "showgrid": false,
         "showticklabels": false,
         "zeroline": false
        }
       }
      }
     },
     "metadata": {},
     "output_type": "display_data"
    }
   ],
   "source": [
    "pp.create_storage(network, 45, p_mw=-1, max_e_mwh=1)\n",
    "pp.create_storage(network, 45, p_mw=-1, max_e_mwh=1)\n",
    "pp.create_storage(network, 45, p_mw=-1, max_e_mwh=1)\n",
    "pp.runpp(network)\n",
    "pp.plotting.plotly.pf_res_plotly(network, auto_open=False)"
   ]
  },
  {
   "cell_type": "code",
   "execution_count": 560,
   "id": "be7424949706c91a",
   "metadata": {
    "ExecuteTime": {
     "end_time": "2025-07-22T01:41:47.351073Z",
     "start_time": "2025-07-22T01:41:47.346189Z"
    }
   },
   "outputs": [
    {
     "data": {
      "text/html": [
       "<div>\n",
       "<style scoped>\n",
       "    .dataframe tbody tr th:only-of-type {\n",
       "        vertical-align: middle;\n",
       "    }\n",
       "\n",
       "    .dataframe tbody tr th {\n",
       "        vertical-align: top;\n",
       "    }\n",
       "\n",
       "    .dataframe thead th {\n",
       "        text-align: right;\n",
       "    }\n",
       "</style>\n",
       "<table border=\"1\" class=\"dataframe\">\n",
       "  <thead>\n",
       "    <tr style=\"text-align: right;\">\n",
       "      <th></th>\n",
       "      <th>vm_pu</th>\n",
       "      <th>va_degree</th>\n",
       "      <th>p_mw</th>\n",
       "      <th>q_mvar</th>\n",
       "    </tr>\n",
       "  </thead>\n",
       "  <tbody>\n",
       "  </tbody>\n",
       "</table>\n",
       "</div>"
      ],
      "text/plain": [
       "Empty DataFrame\n",
       "Columns: [vm_pu, va_degree, p_mw, q_mvar]\n",
       "Index: []"
      ]
     },
     "execution_count": 560,
     "metadata": {},
     "output_type": "execute_result"
    }
   ],
   "source": [
    "network.res_bus[(network.res_bus.vm_pu > 1.05) | (network.res_bus.vm_pu < 0.95)]"
   ]
  },
  {
   "cell_type": "code",
   "execution_count": 561,
   "id": "5aa469b54f76a52c",
   "metadata": {
    "ExecuteTime": {
     "end_time": "2025-07-22T01:41:47.389904Z",
     "start_time": "2025-07-22T01:41:47.385726Z"
    }
   },
   "outputs": [
    {
     "data": {
      "text/html": [
       "<div>\n",
       "<style scoped>\n",
       "    .dataframe tbody tr th:only-of-type {\n",
       "        vertical-align: middle;\n",
       "    }\n",
       "\n",
       "    .dataframe tbody tr th {\n",
       "        vertical-align: top;\n",
       "    }\n",
       "\n",
       "    .dataframe thead th {\n",
       "        text-align: right;\n",
       "    }\n",
       "</style>\n",
       "<table border=\"1\" class=\"dataframe\">\n",
       "  <thead>\n",
       "    <tr style=\"text-align: right;\">\n",
       "      <th></th>\n",
       "      <th>p_from_mw</th>\n",
       "      <th>q_from_mvar</th>\n",
       "      <th>p_to_mw</th>\n",
       "      <th>q_to_mvar</th>\n",
       "      <th>pl_mw</th>\n",
       "      <th>ql_mvar</th>\n",
       "      <th>i_from_ka</th>\n",
       "      <th>i_to_ka</th>\n",
       "      <th>i_ka</th>\n",
       "      <th>vm_from_pu</th>\n",
       "      <th>va_from_degree</th>\n",
       "      <th>vm_to_pu</th>\n",
       "      <th>va_to_degree</th>\n",
       "      <th>loading_percent</th>\n",
       "    </tr>\n",
       "  </thead>\n",
       "  <tbody>\n",
       "  </tbody>\n",
       "</table>\n",
       "</div>"
      ],
      "text/plain": [
       "Empty DataFrame\n",
       "Columns: [p_from_mw, q_from_mvar, p_to_mw, q_to_mvar, pl_mw, ql_mvar, i_from_ka, i_to_ka, i_ka, vm_from_pu, va_from_degree, vm_to_pu, va_to_degree, loading_percent]\n",
       "Index: []"
      ]
     },
     "execution_count": 561,
     "metadata": {},
     "output_type": "execute_result"
    }
   ],
   "source": [
    "network.res_line[network.res_line.loading_percent > 100]"
   ]
  },
  {
   "cell_type": "code",
   "execution_count": 562,
   "id": "1ac93f325ac618e0",
   "metadata": {
    "ExecuteTime": {
     "end_time": "2025-07-22T01:41:47.460020Z",
     "start_time": "2025-07-22T01:41:47.439643Z"
    }
   },
   "outputs": [],
   "source": [
    "test_case_dir = test_dir / \"ieee69_1_large_loads\"\n",
    "test_case_dir.mkdir(parents=True, exist_ok=True)\n",
    "\n",
    "pp.to_json(test_network2, test_case_dir / \"network.json\")\n",
    "\n",
    "with open(test_case_dir / \"metadata.json\", \"+w\") as f:\n",
    "    json.dump(\n",
    "        {\n",
    "            \"base_network\": \"ieee69\",\n",
    "            \"severity\": \"severe\",\n",
    "            \"test_case\": \"1_large_load\",\n",
    "            \"solutions\": [\n",
    "                {\n",
    "                    \"switch\": [\n",
    "                        {\"name\": \"Tie_Line_Switch_50-59\", \"closed\": True},\n",
    "                        {\"name\": \"Tie_Line_Switch_11-44\", \"closed\": True},\n",
    "                        {\"name\": \"Tie_Line_Switch_1-10\", \"closed\": True},\n",
    "                        {\"name\": \"Tie_Line_Switch_1-11\", \"closed\": True},\n",
    "                    ],\n",
    "                    \"battery\": [\n",
    "                        {\"bus\": 45, \"p_mw\": 1},\n",
    "                        {\"bus\": 45, \"p_mw\": 1},\n",
    "                        {\"bus\": 45, \"p_mw\": 1},\n",
    "                    ],\n",
    "                }\n",
    "            ],\n",
    "        },\n",
    "        f,\n",
    "        indent=2,\n",
    "    )"
   ]
  },
  {
   "cell_type": "markdown",
   "id": "6bd7887c8e9d1d78",
   "metadata": {},
   "source": "## Test Case 3: Line Drop"
  },
  {
   "cell_type": "code",
   "execution_count": 563,
   "id": "7f1b762f7b90244",
   "metadata": {
    "ExecuteTime": {
     "end_time": "2025-07-22T01:41:47.601812Z",
     "start_time": "2025-07-22T01:41:47.489348Z"
    }
   },
   "outputs": [
    {
     "data": {
      "application/vnd.plotly.v1+json": {
       "config": {
        "plotlyServerURL": "https://plot.ly"
       },
       "data": [
        {
         "hoverinfo": "text",
         "legendgroup": "lines",
         "line": {
          "color": "rgb(0.0,160.5,255.0)",
          "dash": "solid",
          "width": 2
         },
         "mode": "lines",
         "name": "lines",
         "showlegend": true,
         "text": "Line_1.0-2.0<br />I = 28.502 %<br />I_from = 0.114 kA<br />I_to = 0.114 kA<br />",
         "type": "scatter",
         "x": [
          0.0,
          0.5,
          1.0
         ],
         "y": [
          0.0,
          0.0,
          0.0
         ]
        },
        {
         "hoverinfo": "text",
         "legendgroup": "lines",
         "line": {
          "color": "rgb(0.0,160.5,255.0)",
          "dash": "solid",
          "width": 2
         },
         "mode": "lines",
         "name": "lines",
         "showlegend": false,
         "text": "Line_2.0-3.0<br />I = 28.502 %<br />I_from = 0.114 kA<br />I_to = 0.114 kA<br />",
         "type": "scatter",
         "x": [
          1.0,
          1.5,
          2.0
         ],
         "y": [
          0.0,
          0.0,
          0.0
         ]
        },
        {
         "hoverinfo": "text",
         "legendgroup": "lines",
         "line": {
          "color": "rgb(0.0,124.5,255.0)",
          "dash": "solid",
          "width": 2
         },
         "mode": "lines",
         "name": "lines",
         "showlegend": false,
         "text": "Line_3.0-4.0<br />I = 24.753 %<br />I_from = 0.099 kA<br />I_to = 0.099 kA<br />",
         "type": "scatter",
         "x": [
          2.0,
          2.5,
          3.0
         ],
         "y": [
          0.0,
          -0.666666665,
          -1.33333333
         ]
        },
        {
         "hoverinfo": "text",
         "legendgroup": "lines",
         "line": {
          "color": "rgb(0.0,4.499999999999972,255.0)",
          "dash": "solid",
          "width": 2
         },
         "mode": "lines",
         "name": "lines",
         "showlegend": false,
         "text": "Line_4.0-5.0<br />I = 13.162 %<br />I_from = 0.053 kA<br />I_to = 0.053 kA<br />",
         "type": "scatter",
         "x": [
          3.0,
          3.5,
          4.0
         ],
         "y": [
          -1.33333333,
          -1.58333333,
          -1.83333333
         ]
        },
        {
         "hoverinfo": "text",
         "legendgroup": "lines",
         "line": {
          "color": "rgb(0.0,4.499999999999972,255.0)",
          "dash": "solid",
          "width": 2
         },
         "mode": "lines",
         "name": "lines",
         "showlegend": false,
         "text": "Line_5.0-6.0<br />I = 13.162 %<br />I_from = 0.053 kA<br />I_to = 0.053 kA<br />",
         "type": "scatter",
         "x": [
          4.0,
          4.5,
          5.0
         ],
         "y": [
          -1.83333333,
          -1.83333333,
          -1.83333333
         ]
        },
        {
         "hoverinfo": "text",
         "legendgroup": "lines",
         "line": {
          "color": "rgb(0.0,4.499999999999972,255.0)",
          "dash": "solid",
          "width": 2
         },
         "mode": "lines",
         "name": "lines",
         "showlegend": false,
         "text": "Line_6.0-7.0<br />I = 13.124 %<br />I_from = 0.052 kA<br />I_to = 0.052 kA<br />",
         "type": "scatter",
         "x": [
          5.0,
          5.5,
          6.0
         ],
         "y": [
          -1.83333333,
          -1.83333333,
          -1.83333333
         ]
        },
        {
         "hoverinfo": "text",
         "legendgroup": "lines",
         "line": {
          "color": "rgb(0.0,0.5,255.0)",
          "dash": "solid",
          "width": 2
         },
         "mode": "lines",
         "name": "lines",
         "showlegend": false,
         "text": "Line_7.0-8.0<br />I = 12.564 %<br />I_from = 0.05 kA<br />I_to = 0.05 kA<br />",
         "type": "scatter",
         "x": [
          6.0,
          6.5,
          7.0
         ],
         "y": [
          -1.83333333,
          -1.83333333,
          -1.83333333
         ]
        },
        {
         "hoverinfo": "text",
         "legendgroup": "lines",
         "line": {
          "color": "rgb(0.0,0.0,250.22727272727272)",
          "dash": "solid",
          "width": 2
         },
         "mode": "lines",
         "name": "lines",
         "showlegend": false,
         "text": "Line_8.0-9.0<br />I = 10.933 %<br />I_from = 0.044 kA<br />I_to = 0.044 kA<br />",
         "type": "scatter",
         "x": [
          7.0,
          7.5,
          8.0
         ],
         "y": [
          -1.83333333,
          -2.30208333,
          -2.77083333
         ]
        },
        {
         "hoverinfo": "text",
         "legendgroup": "lines",
         "line": {
          "color": "rgb(0.0,0.0,245.68181818181816)",
          "dash": "solid",
          "width": 2
         },
         "mode": "lines",
         "name": "lines",
         "showlegend": false,
         "text": "Line_9.0-10.0<br />I = 10.519 %<br />I_from = 0.042 kA<br />I_to = 0.042 kA<br />",
         "type": "scatter",
         "x": [
          8.0,
          8.5,
          9.0
         ],
         "y": [
          -2.77083333,
          -3.20833333,
          -3.64583333
         ]
        },
        {
         "hoverinfo": "text",
         "legendgroup": "lines",
         "line": {
          "color": "rgb(0.0,76.5,255.0)",
          "dash": "solid",
          "width": 2
         },
         "mode": "lines",
         "name": "lines",
         "showlegend": false,
         "text": "Line_10.0-11.0<br />I = 20.28 %<br />I_from = 0.041 kA<br />I_to = 0.041 kA<br />",
         "type": "scatter",
         "x": [
          9.0,
          9.5,
          10.0
         ],
         "y": [
          -3.64583333,
          -3.64583333,
          -3.64583333
         ]
        },
        {
         "hoverinfo": "text",
         "legendgroup": "lines",
         "line": {
          "color": "rgb(0.0,28.5,255.0)",
          "dash": "solid",
          "width": 2
         },
         "mode": "lines",
         "name": "lines",
         "showlegend": false,
         "text": "Line_11.0-12.0<br />I = 15.284 %<br />I_from = 0.031 kA<br />I_to = 0.031 kA<br />",
         "type": "scatter",
         "x": [
          10.0,
          10.5,
          11.0
         ],
         "y": [
          -3.64583333,
          -4.02083333,
          -4.39583333
         ]
        },
        {
         "hoverinfo": "text",
         "legendgroup": "lines",
         "line": {
          "color": "rgb(0.0,0.0,236.59090909090907)",
          "dash": "solid",
          "width": 2
         },
         "mode": "lines",
         "name": "lines",
         "showlegend": false,
         "text": "Line_12.0-13.0<br />I = 9.725 %<br />I_from = 0.019 kA<br />I_to = 0.019 kA<br />",
         "type": "scatter",
         "x": [
          11.0,
          11.5,
          12.0
         ],
         "y": [
          -4.39583333,
          -4.64583333,
          -4.89583333
         ]
        },
        {
         "hoverinfo": "text",
         "legendgroup": "lines",
         "line": {
          "color": "rgb(0.0,0.0,236.59090909090907)",
          "dash": "solid",
          "width": 2
         },
         "mode": "lines",
         "name": "lines",
         "showlegend": false,
         "text": "Line_13.0-14.0<br />I = 9.513 %<br />I_from = 0.019 kA<br />I_to = 0.019 kA<br />",
         "type": "scatter",
         "x": [
          12.0,
          12.5,
          13.0
         ],
         "y": [
          -4.89583333,
          -4.89583333,
          -4.89583333
         ]
        },
        {
         "hoverinfo": "text",
         "legendgroup": "lines",
         "line": {
          "color": "rgb(0.0,0.0,232.04545454545453)",
          "dash": "solid",
          "width": 2
         },
         "mode": "lines",
         "name": "lines",
         "showlegend": false,
         "text": "Line_14.0-15.0<br />I = 9.293 %<br />I_from = 0.019 kA<br />I_to = 0.019 kA<br />",
         "type": "scatter",
         "x": [
          13.0,
          13.5,
          14.0
         ],
         "y": [
          -4.89583333,
          -4.89583333,
          -4.89583333
         ]
        },
        {
         "hoverinfo": "text",
         "legendgroup": "lines",
         "line": {
          "color": "rgb(0.0,0.0,232.04545454545453)",
          "dash": "solid",
          "width": 2
         },
         "mode": "lines",
         "name": "lines",
         "showlegend": false,
         "text": "Line_15.0-16.0<br />I = 9.293 %<br />I_from = 0.019 kA<br />I_to = 0.019 kA<br />",
         "type": "scatter",
         "x": [
          14.0,
          14.5,
          15.0
         ],
         "y": [
          -4.89583333,
          -4.89583333,
          -4.89583333
         ]
        },
        {
         "hoverinfo": "text",
         "legendgroup": "lines",
         "line": {
          "color": "rgb(0.0,0.0,218.4090909090909)",
          "dash": "solid",
          "width": 2
         },
         "mode": "lines",
         "name": "lines",
         "showlegend": false,
         "text": "Line_16.0-17.0<br />I = 8.057 %<br />I_from = 0.016 kA<br />I_to = 0.016 kA<br />",
         "type": "scatter",
         "x": [
          15.0,
          15.5,
          16.0
         ],
         "y": [
          -4.89583333,
          -4.89583333,
          -4.89583333
         ]
        },
        {
         "hoverinfo": "text",
         "legendgroup": "lines",
         "line": {
          "color": "rgb(0.0,0.0,200.22727272727272)",
          "dash": "solid",
          "width": 2
         },
         "mode": "lines",
         "name": "lines",
         "showlegend": false,
         "text": "Line_17.0-18.0<br />I = 6.482 %<br />I_from = 0.013 kA<br />I_to = 0.013 kA<br />",
         "type": "scatter",
         "x": [
          16.0,
          16.5,
          17.0
         ],
         "y": [
          -4.89583333,
          -4.89583333,
          -4.89583333
         ]
        },
        {
         "hoverinfo": "text",
         "legendgroup": "lines",
         "line": {
          "color": "rgb(0.0,0.0,182.04545454545453)",
          "dash": "solid",
          "width": 2
         },
         "mode": "lines",
         "name": "lines",
         "showlegend": false,
         "text": "Line_18.0-19.0<br />I = 4.91 %<br />I_from = 0.01 kA<br />I_to = 0.01 kA<br />",
         "type": "scatter",
         "x": [
          17.0,
          17.5,
          18.0
         ],
         "y": [
          -4.89583333,
          -4.89583333,
          -4.89583333
         ]
        },
        {
         "hoverinfo": "text",
         "legendgroup": "lines",
         "line": {
          "color": "rgb(0.0,0.0,182.04545454545453)",
          "dash": "solid",
          "width": 2
         },
         "mode": "lines",
         "name": "lines",
         "showlegend": false,
         "text": "Line_19.0-20.0<br />I = 4.91 %<br />I_from = 0.01 kA<br />I_to = 0.01 kA<br />",
         "type": "scatter",
         "x": [
          18.0,
          18.5,
          19.0
         ],
         "y": [
          -4.89583333,
          -4.89583333,
          -4.89583333
         ]
        },
        {
         "hoverinfo": "text",
         "legendgroup": "lines",
         "line": {
          "color": "rgb(0.0,0.0,182.04545454545453)",
          "dash": "solid",
          "width": 2
         },
         "mode": "lines",
         "name": "lines",
         "showlegend": false,
         "text": "Line_20.0-21.0<br />I = 4.883 %<br />I_from = 0.01 kA<br />I_to = 0.01 kA<br />",
         "type": "scatter",
         "x": [
          19.0,
          19.5,
          20.0
         ],
         "y": [
          -4.89583333,
          -4.89583333,
          -4.89583333
         ]
        },
        {
         "hoverinfo": "text",
         "legendgroup": "lines",
         "line": {
          "color": "rgb(0.0,0.0,145.6818181818182)",
          "dash": "solid",
          "width": 2
         },
         "mode": "lines",
         "name": "lines",
         "showlegend": false,
         "text": "Line_21.0-22.0<br />I = 1.704 %<br />I_from = 0.003 kA<br />I_to = 0.003 kA<br />",
         "type": "scatter",
         "x": [
          20.0,
          20.5,
          21.0
         ],
         "y": [
          -4.89583333,
          -4.89583333,
          -4.89583333
         ]
        },
        {
         "hoverinfo": "text",
         "legendgroup": "lines",
         "line": {
          "color": "rgb(0.0,0.0,145.6818181818182)",
          "dash": "solid",
          "width": 2
         },
         "mode": "lines",
         "name": "lines",
         "showlegend": false,
         "text": "Line_22.0-23.0<br />I = 1.565 %<br />I_from = 0.003 kA<br />I_to = 0.003 kA<br />",
         "type": "scatter",
         "x": [
          21.0,
          21.5,
          22.0
         ],
         "y": [
          -4.89583333,
          -4.89583333,
          -4.89583333
         ]
        },
        {
         "hoverinfo": "text",
         "legendgroup": "lines",
         "line": {
          "color": "rgb(0.0,0.0,145.6818181818182)",
          "dash": "solid",
          "width": 2
         },
         "mode": "lines",
         "name": "lines",
         "showlegend": false,
         "text": "Line_23.0-24.0<br />I = 1.565 %<br />I_from = 0.003 kA<br />I_to = 0.003 kA<br />",
         "type": "scatter",
         "x": [
          22.0,
          22.5,
          23.0
         ],
         "y": [
          -4.89583333,
          -4.89583333,
          -4.89583333
         ]
        },
        {
         "hoverinfo": "text",
         "legendgroup": "lines",
         "line": {
          "color": "rgb(0.0,0.0,136.5909090909091)",
          "dash": "solid",
          "width": 2
         },
         "mode": "lines",
         "name": "lines",
         "showlegend": false,
         "text": "Line_24.0-25.0<br />I = 0.783 %<br />I_from = 0.002 kA<br />I_to = 0.002 kA<br />",
         "type": "scatter",
         "x": [
          23.0,
          23.5,
          24.0
         ],
         "y": [
          -4.89583333,
          -4.89583333,
          -4.89583333
         ]
        },
        {
         "hoverinfo": "text",
         "legendgroup": "lines",
         "line": {
          "color": "rgb(0.0,0.0,136.5909090909091)",
          "dash": "solid",
          "width": 2
         },
         "mode": "lines",
         "name": "lines",
         "showlegend": false,
         "text": "Line_25.0-26.0<br />I = 0.783 %<br />I_from = 0.002 kA<br />I_to = 0.002 kA<br />",
         "type": "scatter",
         "x": [
          24.0,
          24.5,
          25.0
         ],
         "y": [
          -4.89583333,
          -4.89583333,
          -4.89583333
         ]
        },
        {
         "hoverinfo": "text",
         "legendgroup": "lines",
         "line": {
          "color": "rgb(0.0,0.0,132.04545454545453)",
          "dash": "solid",
          "width": 2
         },
         "mode": "lines",
         "name": "lines",
         "showlegend": false,
         "text": "Line_26.0-27.0<br />I = 0.391 %<br />I_from = 0.001 kA<br />I_to = 0.001 kA<br />",
         "type": "scatter",
         "x": [
          25.0,
          25.5,
          26.0
         ],
         "y": [
          -4.89583333,
          -4.89583333,
          -4.89583333
         ]
        },
        {
         "hoverinfo": "text",
         "legendgroup": "lines",
         "line": {
          "color": "rgb(0.0,0.0,154.77272727272728)",
          "dash": "solid",
          "width": 2
         },
         "mode": "lines",
         "name": "lines",
         "showlegend": false,
         "text": "Line_3.0-28.0<br />I = 2.488 %<br />I_from = 0.005 kA<br />I_to = 0.005 kA<br />",
         "type": "scatter",
         "x": [
          2.0,
          2.5,
          3.0
         ],
         "y": [
          0.0,
          0.083333335,
          0.16666667
         ]
        },
        {
         "hoverinfo": "text",
         "legendgroup": "lines",
         "line": {
          "color": "rgb(0.0,0.0,145.6818181818182)",
          "dash": "solid",
          "width": 2
         },
         "mode": "lines",
         "name": "lines",
         "showlegend": false,
         "text": "Line_28.0-29.0<br />I = 1.781 %<br />I_from = 0.004 kA<br />I_to = 0.004 kA<br />",
         "type": "scatter",
         "x": [
          3.0,
          3.5,
          4.0
         ],
         "y": [
          0.16666667,
          0.16666667,
          0.16666667
         ]
        },
        {
         "hoverinfo": "text",
         "legendgroup": "lines",
         "line": {
          "color": "rgb(0.0,0.0,136.5909090909091)",
          "dash": "solid",
          "width": 2
         },
         "mode": "lines",
         "name": "lines",
         "showlegend": false,
         "text": "Line_29.0-30.0<br />I = 1.073 %<br />I_from = 0.002 kA<br />I_to = 0.002 kA<br />",
         "type": "scatter",
         "x": [
          4.0,
          4.5,
          5.0
         ],
         "y": [
          0.16666667,
          0.16666667,
          0.16666667
         ]
        },
        {
         "hoverinfo": "text",
         "legendgroup": "lines",
         "line": {
          "color": "rgb(0.0,0.0,136.5909090909091)",
          "dash": "solid",
          "width": 2
         },
         "mode": "lines",
         "name": "lines",
         "showlegend": false,
         "text": "Line_30.0-31.0<br />I = 1.073 %<br />I_from = 0.002 kA<br />I_to = 0.002 kA<br />",
         "type": "scatter",
         "x": [
          5.0,
          5.5,
          6.0
         ],
         "y": [
          0.16666667,
          0.16666667,
          0.16666667
         ]
        },
        {
         "hoverinfo": "text",
         "legendgroup": "lines",
         "line": {
          "color": "rgb(0.0,0.0,136.5909090909091)",
          "dash": "solid",
          "width": 2
         },
         "mode": "lines",
         "name": "lines",
         "showlegend": false,
         "text": "Line_31.0-32.0<br />I = 1.073 %<br />I_from = 0.002 kA<br />I_to = 0.002 kA<br />",
         "type": "scatter",
         "x": [
          6.0,
          6.5,
          7.0
         ],
         "y": [
          0.16666667,
          0.16666667,
          0.16666667
         ]
        },
        {
         "hoverinfo": "text",
         "legendgroup": "lines",
         "line": {
          "color": "rgb(0.0,0.0,136.5909090909091)",
          "dash": "solid",
          "width": 2
         },
         "mode": "lines",
         "name": "lines",
         "showlegend": false,
         "text": "Line_32.0-33.0<br />I = 1.073 %<br />I_from = 0.002 kA<br />I_to = 0.002 kA<br />",
         "type": "scatter",
         "x": [
          7.0,
          7.5,
          8.0
         ],
         "y": [
          0.16666667,
          0.16666667,
          0.16666667
         ]
        },
        {
         "hoverinfo": "text",
         "legendgroup": "lines",
         "line": {
          "color": "rgb(0.0,0.0,132.04545454545453)",
          "dash": "solid",
          "width": 2
         },
         "mode": "lines",
         "name": "lines",
         "showlegend": false,
         "text": "Line_33.0-34.0<br />I = 0.692 %<br />I_from = 0.001 kA<br />I_to = 0.001 kA<br />",
         "type": "scatter",
         "x": [
          8.0,
          8.5,
          9.0
         ],
         "y": [
          0.16666667,
          0.16666667,
          0.16666667
         ]
        },
        {
         "hoverinfo": "text",
         "legendgroup": "lines",
         "line": {
          "color": "rgb(0.0,0.0,127.5)",
          "dash": "solid",
          "width": 2
         },
         "mode": "lines",
         "name": "lines",
         "showlegend": false,
         "text": "Line_34.0-35.0<br />I = 0.16 %<br />I_from = 0.0 kA<br />I_to = 0.0 kA<br />",
         "type": "scatter",
         "x": [
          9.0,
          9.5,
          10.0
         ],
         "y": [
          0.16666667,
          0.16666667,
          0.16666667
         ]
        },
        {
         "hoverinfo": "text",
         "legendgroup": "lines",
         "line": {
          "color": "rgb(0.0,0.0,182.04545454545453)",
          "dash": "solid",
          "width": 2
         },
         "mode": "lines",
         "name": "lines",
         "showlegend": false,
         "text": "Line_3.0-36.0<br />I = 5.009 %<br />I_from = 0.01 kA<br />I_to = 0.01 kA<br />",
         "type": "scatter",
         "x": [
          2.0,
          2.5,
          3.0
         ],
         "y": [
          0.0,
          0.583333335,
          1.16666667
         ]
        },
        {
         "hoverinfo": "text",
         "legendgroup": "lines",
         "line": {
          "color": "rgb(0.0,0.0,177.5)",
          "dash": "solid",
          "width": 2
         },
         "mode": "lines",
         "name": "lines",
         "showlegend": false,
         "text": "Line_36.0-37.0<br />I = 4.302 %<br />I_from = 0.009 kA<br />I_to = 0.009 kA<br />",
         "type": "scatter",
         "x": [
          3.0,
          3.5,
          4.0
         ],
         "y": [
          1.16666667,
          1.16666667,
          1.16666667
         ]
        },
        {
         "hoverinfo": "text",
         "legendgroup": "lines",
         "line": {
          "color": "rgb(0.0,0.0,168.4090909090909)",
          "dash": "solid",
          "width": 2
         },
         "mode": "lines",
         "name": "lines",
         "showlegend": false,
         "text": "Line_37.0-38.0<br />I = 3.594 %<br />I_from = 0.007 kA<br />I_to = 0.007 kA<br />",
         "type": "scatter",
         "x": [
          4.0,
          4.5,
          5.0
         ],
         "y": [
          1.16666667,
          1.16666667,
          1.16666667
         ]
        },
        {
         "hoverinfo": "text",
         "legendgroup": "lines",
         "line": {
          "color": "rgb(0.0,0.0,168.4090909090909)",
          "dash": "solid",
          "width": 2
         },
         "mode": "lines",
         "name": "lines",
         "showlegend": false,
         "text": "Line_38.0-39.0<br />I = 3.594 %<br />I_from = 0.007 kA<br />I_to = 0.007 kA<br />",
         "type": "scatter",
         "x": [
          5.0,
          5.5,
          6.0
         ],
         "y": [
          1.16666667,
          1.16666667,
          1.16666667
         ]
        },
        {
         "hoverinfo": "text",
         "legendgroup": "lines",
         "line": {
          "color": "rgb(0.0,0.0,159.3181818181818)",
          "dash": "solid",
          "width": 2
         },
         "mode": "lines",
         "name": "lines",
         "showlegend": false,
         "text": "Line_39.0-40.0<br />I = 2.943 %<br />I_from = 0.006 kA<br />I_to = 0.006 kA<br />",
         "type": "scatter",
         "x": [
          6.0,
          6.5,
          7.0
         ],
         "y": [
          1.16666667,
          1.16666667,
          1.16666667
         ]
        },
        {
         "hoverinfo": "text",
         "legendgroup": "lines",
         "line": {
          "color": "rgb(0.0,0.0,150.22727272727272)",
          "dash": "solid",
          "width": 2
         },
         "mode": "lines",
         "name": "lines",
         "showlegend": false,
         "text": "Line_40.0-41.0<br />I = 2.292 %<br />I_from = 0.005 kA<br />I_to = 0.005 kA<br />",
         "type": "scatter",
         "x": [
          7.0,
          7.5,
          8.0
         ],
         "y": [
          1.16666667,
          1.16666667,
          1.16666667
         ]
        },
        {
         "hoverinfo": "text",
         "legendgroup": "lines",
         "line": {
          "color": "rgb(0.0,0.0,150.22727272727272)",
          "dash": "solid",
          "width": 2
         },
         "mode": "lines",
         "name": "lines",
         "showlegend": false,
         "text": "Line_41.0-42.0<br />I = 2.257 %<br />I_from = 0.005 kA<br />I_to = 0.005 kA<br />",
         "type": "scatter",
         "x": [
          8.0,
          8.5,
          9.0
         ],
         "y": [
          1.16666667,
          1.16666667,
          1.16666667
         ]
        },
        {
         "hoverinfo": "text",
         "legendgroup": "lines",
         "line": {
          "color": "rgb(0.0,0.0,150.22727272727272)",
          "dash": "solid",
          "width": 2
         },
         "mode": "lines",
         "name": "lines",
         "showlegend": false,
         "text": "Line_42.0-43.0<br />I = 2.257 %<br />I_from = 0.005 kA<br />I_to = 0.005 kA<br />",
         "type": "scatter",
         "x": [
          9.0,
          9.5,
          10.0
         ],
         "y": [
          1.16666667,
          1.16666667,
          1.16666667
         ]
        },
        {
         "hoverinfo": "text",
         "legendgroup": "lines",
         "line": {
          "color": "rgb(0.0,0.0,150.22727272727272)",
          "dash": "solid",
          "width": 2
         },
         "mode": "lines",
         "name": "lines",
         "showlegend": false,
         "text": "Line_43.0-44.0<br />I = 2.094 %<br />I_from = 0.004 kA<br />I_to = 0.004 kA<br />",
         "type": "scatter",
         "x": [
          10.0,
          10.5,
          11.0
         ],
         "y": [
          1.16666667,
          1.16666667,
          1.16666667
         ]
        },
        {
         "hoverinfo": "text",
         "legendgroup": "lines",
         "line": {
          "color": "rgb(0.0,0.0,150.22727272727272)",
          "dash": "solid",
          "width": 2
         },
         "mode": "lines",
         "name": "lines",
         "showlegend": false,
         "text": "Line_44.0-45.0<br />I = 2.094 %<br />I_from = 0.004 kA<br />I_to = 0.004 kA<br />",
         "type": "scatter",
         "x": [
          11.0,
          11.5,
          12.0
         ],
         "y": [
          1.16666667,
          1.16666667,
          1.16666667
         ]
        },
        {
         "hoverinfo": "text",
         "legendgroup": "lines",
         "line": {
          "color": "rgb(0.0,0.0,136.5909090909091)",
          "dash": "solid",
          "width": 2
         },
         "mode": "lines",
         "name": "lines",
         "showlegend": false,
         "text": "Line_45.0-46.0<br />I = 1.047 %<br />I_from = 0.002 kA<br />I_to = 0.002 kA<br />",
         "type": "scatter",
         "x": [
          12.0,
          12.5,
          13.0
         ],
         "y": [
          1.16666667,
          1.16666667,
          1.16666667
         ]
        },
        {
         "hoverinfo": "text",
         "legendgroup": "lines",
         "line": {
          "color": "rgb(0.0,28.5,255.0)",
          "dash": "solid",
          "width": 2
         },
         "mode": "lines",
         "name": "lines",
         "showlegend": false,
         "text": "Line_4.0-47.0<br />I = 15.457 %<br />I_from = 0.046 kA<br />I_to = 0.046 kA<br />",
         "type": "scatter",
         "x": [
          3.0,
          3.5,
          4.0
         ],
         "y": [
          -1.33333333,
          -1.08333333,
          -0.83333333
         ]
        },
        {
         "hoverinfo": "text",
         "legendgroup": "lines",
         "line": {
          "color": "rgb(0.0,28.5,255.0)",
          "dash": "solid",
          "width": 2
         },
         "mode": "lines",
         "name": "lines",
         "showlegend": false,
         "text": "Line_47.0-48.0<br />I = 15.457 %<br />I_from = 0.046 kA<br />I_to = 0.046 kA<br />",
         "type": "scatter",
         "x": [
          4.0,
          4.5,
          5.0
         ],
         "y": [
          -0.83333333,
          -0.83333333,
          -0.83333333
         ]
        },
        {
         "hoverinfo": "text",
         "legendgroup": "lines",
         "line": {
          "color": "rgb(0.0,12.5,255.0)",
          "dash": "solid",
          "width": 2
         },
         "mode": "lines",
         "name": "lines",
         "showlegend": false,
         "text": "Line_48.0-49.0<br />I = 14.022 %<br />I_from = 0.042 kA<br />I_to = 0.042 kA<br />",
         "type": "scatter",
         "x": [
          5.0,
          5.5,
          6.0
         ],
         "y": [
          -0.83333333,
          -0.83333333,
          -0.83333333
         ]
        },
        {
         "hoverinfo": "text",
         "legendgroup": "lines",
         "line": {
          "color": "rgb(0.0,0.0,204.77272727272725)",
          "dash": "solid",
          "width": 2
         },
         "mode": "lines",
         "name": "lines",
         "showlegend": false,
         "text": "Line_49.0-50.0<br />I = 7.013 %<br />I_from = 0.021 kA<br />I_to = 0.021 kA<br />",
         "type": "scatter",
         "x": [
          6.0,
          6.5,
          7.0
         ],
         "y": [
          -0.83333333,
          -0.83333333,
          -0.83333333
         ]
        },
        {
         "hoverinfo": "text",
         "legendgroup": "lines",
         "line": {
          "color": "rgb(0.0,0.0,141.13636363636363)",
          "dash": "solid",
          "width": 2
         },
         "mode": "lines",
         "name": "lines",
         "showlegend": false,
         "text": "Line_8.0-51.0<br />I = 1.202 %<br />I_from = 0.002 kA<br />I_to = 0.002 kA<br />",
         "type": "scatter",
         "x": [
          7.0,
          7.5,
          8.0
         ],
         "y": [
          -1.83333333,
          -1.36458333,
          -0.89583333
         ]
        },
        {
         "hoverinfo": "text",
         "legendgroup": "lines",
         "line": {
          "color": "rgb(0.0,0.0,127.5)",
          "dash": "solid",
          "width": 2
         },
         "mode": "lines",
         "name": "lines",
         "showlegend": false,
         "text": "Line_51.0-52.0<br />I = 0.1 %<br />I_from = 0.0 kA<br />I_to = 0.0 kA<br />",
         "type": "scatter",
         "x": [
          8.0,
          8.5,
          9.0
         ],
         "y": [
          -0.89583333,
          -0.89583333,
          -0.89583333
         ]
        },
        {
         "hoverinfo": "text",
         "legendgroup": "lines",
         "line": {
          "color": "rgb(0.0,0.0,0.0)",
          "dash": "solid",
          "width": 2
         },
         "mode": "lines",
         "name": "lines",
         "showlegend": false,
         "text": "Line_53.0-54.0<br />I = nan %<br />I_from = nan kA<br />I_to = nan kA<br />",
         "type": "scatter",
         "x": [
          9.0,
          9.5,
          10.0
         ],
         "y": [
          -1.89583333,
          -1.89583333,
          -1.89583333
         ]
        },
        {
         "hoverinfo": "text",
         "legendgroup": "lines",
         "line": {
          "color": "rgb(0.0,0.0,0.0)",
          "dash": "solid",
          "width": 2
         },
         "mode": "lines",
         "name": "lines",
         "showlegend": false,
         "text": "Line_54.0-55.0<br />I = nan %<br />I_from = nan kA<br />I_to = nan kA<br />",
         "type": "scatter",
         "x": [
          10.0,
          10.5,
          11.0
         ],
         "y": [
          -1.89583333,
          -1.89583333,
          -1.89583333
         ]
        },
        {
         "hoverinfo": "text",
         "legendgroup": "lines",
         "line": {
          "color": "rgb(0.0,0.0,0.0)",
          "dash": "solid",
          "width": 2
         },
         "mode": "lines",
         "name": "lines",
         "showlegend": false,
         "text": "Line_55.0-56.0<br />I = nan %<br />I_from = nan kA<br />I_to = nan kA<br />",
         "type": "scatter",
         "x": [
          11.0,
          11.5,
          12.0
         ],
         "y": [
          -1.89583333,
          -1.89583333,
          -1.89583333
         ]
        },
        {
         "hoverinfo": "text",
         "legendgroup": "lines",
         "line": {
          "color": "rgb(0.0,0.0,0.0)",
          "dash": "solid",
          "width": 2
         },
         "mode": "lines",
         "name": "lines",
         "showlegend": false,
         "text": "Line_56.0-57.0<br />I = nan %<br />I_from = nan kA<br />I_to = nan kA<br />",
         "type": "scatter",
         "x": [
          12.0,
          12.5,
          13.0
         ],
         "y": [
          -1.89583333,
          -1.89583333,
          -1.89583333
         ]
        },
        {
         "hoverinfo": "text",
         "legendgroup": "lines",
         "line": {
          "color": "rgb(0.0,0.0,0.0)",
          "dash": "solid",
          "width": 2
         },
         "mode": "lines",
         "name": "lines",
         "showlegend": false,
         "text": "Line_57.0-58.0<br />I = nan %<br />I_from = nan kA<br />I_to = nan kA<br />",
         "type": "scatter",
         "x": [
          13.0,
          13.5,
          14.0
         ],
         "y": [
          -1.89583333,
          -1.89583333,
          -1.89583333
         ]
        },
        {
         "hoverinfo": "text",
         "legendgroup": "lines",
         "line": {
          "color": "rgb(0.0,0.0,0.0)",
          "dash": "solid",
          "width": 2
         },
         "mode": "lines",
         "name": "lines",
         "showlegend": false,
         "text": "Line_58.0-59.0<br />I = nan %<br />I_from = nan kA<br />I_to = nan kA<br />",
         "type": "scatter",
         "x": [
          14.0,
          14.5,
          15.0
         ],
         "y": [
          -1.89583333,
          -1.89583333,
          -1.89583333
         ]
        },
        {
         "hoverinfo": "text",
         "legendgroup": "lines",
         "line": {
          "color": "rgb(0.0,0.0,0.0)",
          "dash": "solid",
          "width": 2
         },
         "mode": "lines",
         "name": "lines",
         "showlegend": false,
         "text": "Line_59.0-60.0<br />I = nan %<br />I_from = nan kA<br />I_to = nan kA<br />",
         "type": "scatter",
         "x": [
          15.0,
          15.5,
          16.0
         ],
         "y": [
          -1.89583333,
          -1.89583333,
          -1.89583333
         ]
        },
        {
         "hoverinfo": "text",
         "legendgroup": "lines",
         "line": {
          "color": "rgb(0.0,0.0,0.0)",
          "dash": "solid",
          "width": 2
         },
         "mode": "lines",
         "name": "lines",
         "showlegend": false,
         "text": "Line_60.0-61.0<br />I = nan %<br />I_from = nan kA<br />I_to = nan kA<br />",
         "type": "scatter",
         "x": [
          16.0,
          16.5,
          17.0
         ],
         "y": [
          -1.89583333,
          -1.89583333,
          -1.89583333
         ]
        },
        {
         "hoverinfo": "text",
         "legendgroup": "lines",
         "line": {
          "color": "rgb(0.0,0.0,0.0)",
          "dash": "solid",
          "width": 2
         },
         "mode": "lines",
         "name": "lines",
         "showlegend": false,
         "text": "Line_61.0-62.0<br />I = nan %<br />I_from = nan kA<br />I_to = nan kA<br />",
         "type": "scatter",
         "x": [
          17.0,
          17.5,
          18.0
         ],
         "y": [
          -1.89583333,
          -1.89583333,
          -1.89583333
         ]
        },
        {
         "hoverinfo": "text",
         "legendgroup": "lines",
         "line": {
          "color": "rgb(0.0,0.0,0.0)",
          "dash": "solid",
          "width": 2
         },
         "mode": "lines",
         "name": "lines",
         "showlegend": false,
         "text": "Line_62.0-63.0<br />I = nan %<br />I_from = nan kA<br />I_to = nan kA<br />",
         "type": "scatter",
         "x": [
          18.0,
          18.5,
          19.0
         ],
         "y": [
          -1.89583333,
          -1.89583333,
          -1.89583333
         ]
        },
        {
         "hoverinfo": "text",
         "legendgroup": "lines",
         "line": {
          "color": "rgb(0.0,0.0,0.0)",
          "dash": "solid",
          "width": 2
         },
         "mode": "lines",
         "name": "lines",
         "showlegend": false,
         "text": "Line_63.0-64.0<br />I = nan %<br />I_from = nan kA<br />I_to = nan kA<br />",
         "type": "scatter",
         "x": [
          19.0,
          19.5,
          20.0
         ],
         "y": [
          -1.89583333,
          -1.89583333,
          -1.89583333
         ]
        },
        {
         "hoverinfo": "text",
         "legendgroup": "lines",
         "line": {
          "color": "rgb(0.0,0.0,0.0)",
          "dash": "solid",
          "width": 2
         },
         "mode": "lines",
         "name": "lines",
         "showlegend": false,
         "text": "Line_64.0-65.0<br />I = nan %<br />I_from = nan kA<br />I_to = nan kA<br />",
         "type": "scatter",
         "x": [
          20.0,
          20.5,
          21.0
         ],
         "y": [
          -1.89583333,
          -1.89583333,
          -1.89583333
         ]
        },
        {
         "hoverinfo": "text",
         "legendgroup": "lines",
         "line": {
          "color": "rgb(0.0,0.0,136.5909090909091)",
          "dash": "solid",
          "width": 2
         },
         "mode": "lines",
         "name": "lines",
         "showlegend": false,
         "text": "Line_11.0-66.0<br />I = 0.996 %<br />I_from = 0.002 kA<br />I_to = 0.002 kA<br />",
         "type": "scatter",
         "x": [
          10.0,
          10.5,
          11.0
         ],
         "y": [
          -3.64583333,
          -3.27083333,
          -2.89583333
         ]
        },
        {
         "hoverinfo": "text",
         "legendgroup": "lines",
         "line": {
          "color": "rgb(0.0,0.0,132.04545454545453)",
          "dash": "solid",
          "width": 2
         },
         "mode": "lines",
         "name": "lines",
         "showlegend": false,
         "text": "Line_66.0-67.0<br />I = 0.498 %<br />I_from = 0.001 kA<br />I_to = 0.001 kA<br />",
         "type": "scatter",
         "x": [
          11.0,
          11.5,
          12.0
         ],
         "y": [
          -2.89583333,
          -2.89583333,
          -2.89583333
         ]
        },
        {
         "hoverinfo": "text",
         "legendgroup": "lines",
         "line": {
          "color": "rgb(0.0,0.0,141.13636363636363)",
          "dash": "solid",
          "width": 2
         },
         "mode": "lines",
         "name": "lines",
         "showlegend": false,
         "text": "Line_12.0-68.0<br />I = 1.548 %<br />I_from = 0.003 kA<br />I_to = 0.003 kA<br />",
         "type": "scatter",
         "x": [
          11.0,
          11.5,
          12.0
         ],
         "y": [
          -4.39583333,
          -4.14583333,
          -3.89583333
         ]
        },
        {
         "hoverinfo": "text",
         "legendgroup": "lines",
         "line": {
          "color": "rgb(0.0,0.0,132.04545454545453)",
          "dash": "solid",
          "width": 2
         },
         "mode": "lines",
         "name": "lines",
         "showlegend": false,
         "text": "Line_68.0-69.0<br />I = 0.774 %<br />I_from = 0.002 kA<br />I_to = 0.002 kA<br />",
         "type": "scatter",
         "x": [
          12.0,
          12.5,
          13.0
         ],
         "y": [
          -3.89583333,
          -3.89583333,
          -3.89583333
         ]
        },
        {
         "hoverinfo": "text",
         "legendgroup": "disconnected lines",
         "line": {
          "color": "rgb(128, 128, 128)",
          "dash": "dot",
          "width": 1.0
         },
         "mode": "lines",
         "name": "disconnected branches",
         "showlegend": true,
         "text": "Tie_Line_50-59<br />I = nan %<br />I_from = nan kA<br />I_to = nan kA<br />",
         "type": "scatter",
         "x": [
          7.0,
          11.0,
          15.0
         ],
         "y": [
          -0.83333333,
          -1.36458333,
          -1.89583333
         ]
        },
        {
         "hoverinfo": "text",
         "legendgroup": "disconnected lines",
         "line": {
          "color": "rgb(128, 128, 128)",
          "dash": "dot",
          "width": 1.0
         },
         "mode": "lines",
         "name": "disconnected branches",
         "showlegend": false,
         "text": "Tie_Line_11-44<br />I = 0.0 %<br />I_from = 0.0 kA<br />I_to = 0.0 kA<br />",
         "type": "scatter",
         "x": [
          10.0,
          10.5,
          11.0
         ],
         "y": [
          -3.64583333,
          -1.23958333,
          1.16666667
         ]
        },
        {
         "hoverinfo": "text",
         "legendgroup": "disconnected lines",
         "line": {
          "color": "rgb(128, 128, 128)",
          "dash": "dot",
          "width": 1.0
         },
         "mode": "lines",
         "name": "disconnected branches",
         "showlegend": false,
         "text": "Tie_Line_13-21<br />I = 0.0 %<br />I_from = 0.0 kA<br />I_to = 0.0 kA<br />",
         "type": "scatter",
         "x": [
          12.0,
          16.0,
          20.0
         ],
         "y": [
          -4.89583333,
          -4.89583333,
          -4.89583333
         ]
        },
        {
         "hoverinfo": "text",
         "legendgroup": "disconnected lines",
         "line": {
          "color": "rgb(128, 128, 128)",
          "dash": "dot",
          "width": 1.0
         },
         "mode": "lines",
         "name": "disconnected branches",
         "showlegend": false,
         "text": "Tie_Line_65-27<br />I = 0.0 %<br />I_from = 0.0 kA<br />I_to = 0.0 kA<br />",
         "type": "scatter",
         "x": [
          21.0,
          23.5,
          26.0
         ],
         "y": [
          -1.89583333,
          -3.3958333300000003,
          -4.89583333
         ]
        },
        {
         "hoverinfo": "text",
         "legendgroup": "lines",
         "marker": {
          "color": "rgb(128, 128, 128)",
          "size": 1,
          "symbol": "circle"
         },
         "mode": "markers",
         "name": "edge_center",
         "showlegend": false,
         "text": [
          "Line_1.0-2.0<br />I = 28.502 %<br />I_from = 0.114 kA<br />I_to = 0.114 kA<br />",
          "Line_2.0-3.0<br />I = 28.502 %<br />I_from = 0.114 kA<br />I_to = 0.114 kA<br />",
          "Line_3.0-4.0<br />I = 24.753 %<br />I_from = 0.099 kA<br />I_to = 0.099 kA<br />",
          "Line_4.0-5.0<br />I = 13.162 %<br />I_from = 0.053 kA<br />I_to = 0.053 kA<br />",
          "Line_5.0-6.0<br />I = 13.162 %<br />I_from = 0.053 kA<br />I_to = 0.053 kA<br />",
          "Line_6.0-7.0<br />I = 13.124 %<br />I_from = 0.052 kA<br />I_to = 0.052 kA<br />",
          "Line_7.0-8.0<br />I = 12.564 %<br />I_from = 0.05 kA<br />I_to = 0.05 kA<br />",
          "Line_8.0-9.0<br />I = 10.933 %<br />I_from = 0.044 kA<br />I_to = 0.044 kA<br />",
          "Line_9.0-10.0<br />I = 10.519 %<br />I_from = 0.042 kA<br />I_to = 0.042 kA<br />",
          "Line_10.0-11.0<br />I = 20.28 %<br />I_from = 0.041 kA<br />I_to = 0.041 kA<br />",
          "Line_11.0-12.0<br />I = 15.284 %<br />I_from = 0.031 kA<br />I_to = 0.031 kA<br />",
          "Line_12.0-13.0<br />I = 9.725 %<br />I_from = 0.019 kA<br />I_to = 0.019 kA<br />",
          "Line_13.0-14.0<br />I = 9.513 %<br />I_from = 0.019 kA<br />I_to = 0.019 kA<br />",
          "Line_14.0-15.0<br />I = 9.293 %<br />I_from = 0.019 kA<br />I_to = 0.019 kA<br />",
          "Line_15.0-16.0<br />I = 9.293 %<br />I_from = 0.019 kA<br />I_to = 0.019 kA<br />",
          "Line_16.0-17.0<br />I = 8.057 %<br />I_from = 0.016 kA<br />I_to = 0.016 kA<br />",
          "Line_17.0-18.0<br />I = 6.482 %<br />I_from = 0.013 kA<br />I_to = 0.013 kA<br />",
          "Line_18.0-19.0<br />I = 4.91 %<br />I_from = 0.01 kA<br />I_to = 0.01 kA<br />",
          "Line_19.0-20.0<br />I = 4.91 %<br />I_from = 0.01 kA<br />I_to = 0.01 kA<br />",
          "Line_20.0-21.0<br />I = 4.883 %<br />I_from = 0.01 kA<br />I_to = 0.01 kA<br />",
          "Line_21.0-22.0<br />I = 1.704 %<br />I_from = 0.003 kA<br />I_to = 0.003 kA<br />",
          "Line_22.0-23.0<br />I = 1.565 %<br />I_from = 0.003 kA<br />I_to = 0.003 kA<br />",
          "Line_23.0-24.0<br />I = 1.565 %<br />I_from = 0.003 kA<br />I_to = 0.003 kA<br />",
          "Line_24.0-25.0<br />I = 0.783 %<br />I_from = 0.002 kA<br />I_to = 0.002 kA<br />",
          "Line_25.0-26.0<br />I = 0.783 %<br />I_from = 0.002 kA<br />I_to = 0.002 kA<br />",
          "Line_26.0-27.0<br />I = 0.391 %<br />I_from = 0.001 kA<br />I_to = 0.001 kA<br />",
          "Line_3.0-28.0<br />I = 2.488 %<br />I_from = 0.005 kA<br />I_to = 0.005 kA<br />",
          "Line_28.0-29.0<br />I = 1.781 %<br />I_from = 0.004 kA<br />I_to = 0.004 kA<br />",
          "Line_29.0-30.0<br />I = 1.073 %<br />I_from = 0.002 kA<br />I_to = 0.002 kA<br />",
          "Line_30.0-31.0<br />I = 1.073 %<br />I_from = 0.002 kA<br />I_to = 0.002 kA<br />",
          "Line_31.0-32.0<br />I = 1.073 %<br />I_from = 0.002 kA<br />I_to = 0.002 kA<br />",
          "Line_32.0-33.0<br />I = 1.073 %<br />I_from = 0.002 kA<br />I_to = 0.002 kA<br />",
          "Line_33.0-34.0<br />I = 0.692 %<br />I_from = 0.001 kA<br />I_to = 0.001 kA<br />",
          "Line_34.0-35.0<br />I = 0.16 %<br />I_from = 0.0 kA<br />I_to = 0.0 kA<br />",
          "Line_3.0-36.0<br />I = 5.009 %<br />I_from = 0.01 kA<br />I_to = 0.01 kA<br />",
          "Line_36.0-37.0<br />I = 4.302 %<br />I_from = 0.009 kA<br />I_to = 0.009 kA<br />",
          "Line_37.0-38.0<br />I = 3.594 %<br />I_from = 0.007 kA<br />I_to = 0.007 kA<br />",
          "Line_38.0-39.0<br />I = 3.594 %<br />I_from = 0.007 kA<br />I_to = 0.007 kA<br />",
          "Line_39.0-40.0<br />I = 2.943 %<br />I_from = 0.006 kA<br />I_to = 0.006 kA<br />",
          "Line_40.0-41.0<br />I = 2.292 %<br />I_from = 0.005 kA<br />I_to = 0.005 kA<br />",
          "Line_41.0-42.0<br />I = 2.257 %<br />I_from = 0.005 kA<br />I_to = 0.005 kA<br />",
          "Line_42.0-43.0<br />I = 2.257 %<br />I_from = 0.005 kA<br />I_to = 0.005 kA<br />",
          "Line_43.0-44.0<br />I = 2.094 %<br />I_from = 0.004 kA<br />I_to = 0.004 kA<br />",
          "Line_44.0-45.0<br />I = 2.094 %<br />I_from = 0.004 kA<br />I_to = 0.004 kA<br />",
          "Line_45.0-46.0<br />I = 1.047 %<br />I_from = 0.002 kA<br />I_to = 0.002 kA<br />",
          "Line_4.0-47.0<br />I = 15.457 %<br />I_from = 0.046 kA<br />I_to = 0.046 kA<br />",
          "Line_47.0-48.0<br />I = 15.457 %<br />I_from = 0.046 kA<br />I_to = 0.046 kA<br />",
          "Line_48.0-49.0<br />I = 14.022 %<br />I_from = 0.042 kA<br />I_to = 0.042 kA<br />",
          "Line_49.0-50.0<br />I = 7.013 %<br />I_from = 0.021 kA<br />I_to = 0.021 kA<br />",
          "Line_8.0-51.0<br />I = 1.202 %<br />I_from = 0.002 kA<br />I_to = 0.002 kA<br />",
          "Line_51.0-52.0<br />I = 0.1 %<br />I_from = 0.0 kA<br />I_to = 0.0 kA<br />",
          "Line_53.0-54.0<br />I = nan %<br />I_from = nan kA<br />I_to = nan kA<br />",
          "Line_54.0-55.0<br />I = nan %<br />I_from = nan kA<br />I_to = nan kA<br />",
          "Line_55.0-56.0<br />I = nan %<br />I_from = nan kA<br />I_to = nan kA<br />",
          "Line_56.0-57.0<br />I = nan %<br />I_from = nan kA<br />I_to = nan kA<br />",
          "Line_57.0-58.0<br />I = nan %<br />I_from = nan kA<br />I_to = nan kA<br />",
          "Line_58.0-59.0<br />I = nan %<br />I_from = nan kA<br />I_to = nan kA<br />",
          "Line_59.0-60.0<br />I = nan %<br />I_from = nan kA<br />I_to = nan kA<br />",
          "Line_60.0-61.0<br />I = nan %<br />I_from = nan kA<br />I_to = nan kA<br />",
          "Line_61.0-62.0<br />I = nan %<br />I_from = nan kA<br />I_to = nan kA<br />",
          "Line_62.0-63.0<br />I = nan %<br />I_from = nan kA<br />I_to = nan kA<br />",
          "Line_63.0-64.0<br />I = nan %<br />I_from = nan kA<br />I_to = nan kA<br />",
          "Line_64.0-65.0<br />I = nan %<br />I_from = nan kA<br />I_to = nan kA<br />",
          "Line_11.0-66.0<br />I = 0.996 %<br />I_from = 0.002 kA<br />I_to = 0.002 kA<br />",
          "Line_66.0-67.0<br />I = 0.498 %<br />I_from = 0.001 kA<br />I_to = 0.001 kA<br />",
          "Line_12.0-68.0<br />I = 1.548 %<br />I_from = 0.003 kA<br />I_to = 0.003 kA<br />",
          "Line_68.0-69.0<br />I = 0.774 %<br />I_from = 0.002 kA<br />I_to = 0.002 kA<br />",
          "Tie_Line_50-59<br />I = nan %<br />I_from = nan kA<br />I_to = nan kA<br />",
          "Tie_Line_11-44<br />I = 0.0 %<br />I_from = 0.0 kA<br />I_to = 0.0 kA<br />",
          "Tie_Line_13-21<br />I = 0.0 %<br />I_from = 0.0 kA<br />I_to = 0.0 kA<br />",
          "Tie_Line_65-27<br />I = 0.0 %<br />I_from = 0.0 kA<br />I_to = 0.0 kA<br />"
         ],
         "type": "scatter",
         "x": [
          0.5
         ],
         "y": [
          0.0
         ]
        },
        {
         "hoverinfo": "text",
         "marker": {
          "color": "rgb(128, 128, 128)",
          "size": 20,
          "symbol": "square"
         },
         "mode": "markers",
         "name": "external_grid",
         "text": [
          "Bus_1"
         ],
         "type": "scatter",
         "x": [
          0.0
         ],
         "y": [
          0.0
         ]
        },
        {
         "hoverinfo": "text",
         "marker": {
          "cmax": 1.1,
          "cmin": 0.9,
          "color": {
           "bdata": "exSuR+F68D+5qYBNz3rwPwwRW1O9evA/iSs8e4568D9aanlTdHnwP8KGVLpxbfA/zGLAD/pg8D+X1fNpFl7wP2ALNz++XPA/6bif0DNJ8D+YF6jV5UTwPx27GTSMOPA/L8vDjCAt8D/ShHBdziHwP7ALO1OZFvA/sTLEM4QU8D+PaM4HFBHwP6a6HCALEfA/lxqxjjoP8D+JQ3xsEA7wPwuAXLouDPA/41+L2ScM8D+jtHD73wvwP9TCi41DC/A/QTH0a5oK8D+7kL+mVArwP5aPIBhBCvA/GpATS7Z68D9O+3tPbXrwP5P+9gLyefA/R/4OQdx58D/Mca93b3nwPw3TB6tqePA/q3ExJxV38D/VnOKH0HbwP8jKOUavevA/6jfFZAB68D+izx4HX3nwPyUapHIwefA/t946MS558D95n94CaHbwP73sVVw+dfA/2KNvCRd18D/aTKCQDnXwP1EJZUmqdPA/E/uE3Kl08D9sg2eEW3rwP+sZBcZndfA/QLKEUh9m8D/sjInD9GPwPxmtpdzyXfA/+xItUeld8D8AAAAAAAD4fwAAAAAAAPh/AAAAAAAA+H8AAAAAAAD4fwAAAAAAAPh/AAAAAAAA+H8AAAAAAAD4fwAAAAAAAPh/AAAAAAAA+H8AAAAAAAD4fwAAAAAAAPh/AAAAAAAA+H8AAAAAAAD4f7KOswGtRPA/OQJeWKxE8D+EuKrNQTfwPymAT79AN/A/",
           "dtype": "f8"
          },
          "colorbar": {
           "thickness": 10,
           "title": {
            "side": "right",
            "text": "Bus Voltage [pu]"
           },
           "x": 1.0
          },
          "colorscale": [
           [
            0.0,
            "rgb(0,0,131)"
           ],
           [
            0.2,
            "rgb(0,60,170)"
           ],
           [
            0.4,
            "rgb(5,255,255)"
           ],
           [
            0.6,
            "rgb(255,255,0)"
           ],
           [
            0.8,
            "rgb(250,0,0)"
           ],
           [
            1.0,
            "rgb(128,0,0)"
           ]
          ],
          "size": 10,
          "symbol": "circle"
         },
         "mode": "markers",
         "name": "buses",
         "text": [
          "Bus_1<br />V_m = 1.03 pu<br />V_m = 13.04 kV<br />V_a = 0.0 deg",
          "Bus_2<br />V_m = 1.03 pu<br />V_m = 13.04 kV<br />V_a = -0.001 deg",
          "Bus_3<br />V_m = 1.03 pu<br />V_m = 13.039 kV<br />V_a = -0.001 deg",
          "Bus_4<br />V_m = 1.03 pu<br />V_m = 13.039 kV<br />V_a = -0.003 deg",
          "Bus_5<br />V_m = 1.03 pu<br />V_m = 13.035 kV<br />V_a = -0.007 deg",
          "Bus_6<br />V_m = 1.027 pu<br />V_m = 12.998 kV<br />V_a = 0.015 deg",
          "Bus_7<br />V_m = 1.024 pu<br />V_m = 12.96 kV<br />V_a = 0.038 deg",
          "Bus_8<br />V_m = 1.023 pu<br />V_m = 12.951 kV<br />V_a = 0.043 deg",
          "Bus_9<br />V_m = 1.023 pu<br />V_m = 12.947 kV<br />V_a = 0.046 deg",
          "Bus_10<br />V_m = 1.018 pu<br />V_m = 12.886 kV<br />V_a = 0.123 deg",
          "Bus_11<br />V_m = 1.017 pu<br />V_m = 12.873 kV<br />V_a = 0.14 deg",
          "Bus_12<br />V_m = 1.014 pu<br />V_m = 12.835 kV<br />V_a = 0.188 deg",
          "Bus_13<br />V_m = 1.011 pu<br />V_m = 12.799 kV<br />V_a = 0.23 deg",
          "Bus_14<br />V_m = 1.008 pu<br />V_m = 12.764 kV<br />V_a = 0.273 deg",
          "Bus_15<br />V_m = 1.006 pu<br />V_m = 12.73 kV<br />V_a = 0.314 deg",
          "Bus_16<br />V_m = 1.005 pu<br />V_m = 12.723 kV<br />V_a = 0.322 deg",
          "Bus_17<br />V_m = 1.004 pu<br />V_m = 12.713 kV<br />V_a = 0.335 deg",
          "Bus_18<br />V_m = 1.004 pu<br />V_m = 12.713 kV<br />V_a = 0.335 deg",
          "Bus_19<br />V_m = 1.004 pu<br />V_m = 12.707 kV<br />V_a = 0.343 deg",
          "Bus_20<br />V_m = 1.003 pu<br />V_m = 12.703 kV<br />V_a = 0.348 deg",
          "Bus_21<br />V_m = 1.003 pu<br />V_m = 12.698 kV<br />V_a = 0.356 deg",
          "Bus_22<br />V_m = 1.003 pu<br />V_m = 12.698 kV<br />V_a = 0.356 deg",
          "Bus_23<br />V_m = 1.003 pu<br />V_m = 12.697 kV<br />V_a = 0.358 deg",
          "Bus_24<br />V_m = 1.003 pu<br />V_m = 12.695 kV<br />V_a = 0.36 deg",
          "Bus_25<br />V_m = 1.003 pu<br />V_m = 12.693 kV<br />V_a = 0.363 deg",
          "Bus_26<br />V_m = 1.003 pu<br />V_m = 12.692 kV<br />V_a = 0.364 deg",
          "Bus_27<br />V_m = 1.003 pu<br />V_m = 12.692 kV<br />V_a = 0.365 deg",
          "Bus_28<br />V_m = 1.03 pu<br />V_m = 13.039 kV<br />V_a = -0.001 deg",
          "Bus_29<br />V_m = 1.03 pu<br />V_m = 13.038 kV<br />V_a = -0.004 deg",
          "Bus_30<br />V_m = 1.03 pu<br />V_m = 13.037 kV<br />V_a = -0.002 deg",
          "Bus_31<br />V_m = 1.03 pu<br />V_m = 13.037 kV<br />V_a = -0.002 deg",
          "Bus_32<br />V_m = 1.03 pu<br />V_m = 13.035 kV<br />V_a = 0.0 deg",
          "Bus_33<br />V_m = 1.029 pu<br />V_m = 13.032 kV<br />V_a = 0.004 deg",
          "Bus_34<br />V_m = 1.029 pu<br />V_m = 13.028 kV<br />V_a = 0.01 deg",
          "Bus_35<br />V_m = 1.029 pu<br />V_m = 13.027 kV<br />V_a = 0.011 deg",
          "Bus_36<br />V_m = 1.03 pu<br />V_m = 13.039 kV<br />V_a = -0.002 deg",
          "Bus_37<br />V_m = 1.03 pu<br />V_m = 13.037 kV<br />V_a = -0.008 deg",
          "Bus_38<br />V_m = 1.03 pu<br />V_m = 13.035 kV<br />V_a = -0.01 deg",
          "Bus_39<br />V_m = 1.03 pu<br />V_m = 13.035 kV<br />V_a = -0.011 deg",
          "Bus_40<br />V_m = 1.03 pu<br />V_m = 13.035 kV<br />V_a = -0.011 deg",
          "Bus_41<br />V_m = 1.029 pu<br />V_m = 13.026 kV<br />V_a = -0.021 deg",
          "Bus_42<br />V_m = 1.029 pu<br />V_m = 13.022 kV<br />V_a = -0.025 deg",
          "Bus_43<br />V_m = 1.029 pu<br />V_m = 13.022 kV<br />V_a = -0.026 deg",
          "Bus_44<br />V_m = 1.029 pu<br />V_m = 13.022 kV<br />V_a = -0.026 deg",
          "Bus_45<br />V_m = 1.028 pu<br />V_m = 13.021 kV<br />V_a = -0.028 deg",
          "Bus_46<br />V_m = 1.028 pu<br />V_m = 13.021 kV<br />V_a = -0.028 deg",
          "Bus_47<br />V_m = 1.03 pu<br />V_m = 13.038 kV<br />V_a = -0.004 deg",
          "Bus_48<br />V_m = 1.029 pu<br />V_m = 13.023 kV<br />V_a = -0.047 deg",
          "Bus_49<br />V_m = 1.025 pu<br />V_m = 12.976 kV<br />V_a = -0.178 deg",
          "Bus_50<br />V_m = 1.024 pu<br />V_m = 12.969 kV<br />V_a = -0.196 deg",
          "Bus_51<br />V_m = 1.023 pu<br />V_m = 12.95 kV<br />V_a = 0.043 deg",
          "Bus_52<br />V_m = 1.023 pu<br />V_m = 12.95 kV<br />V_a = 0.044 deg",
          "Bus_53<br />V_m = nan pu<br />V_m = nan kV<br />V_a = nan deg",
          "Bus_54<br />V_m = nan pu<br />V_m = nan kV<br />V_a = nan deg",
          "Bus_55<br />V_m = nan pu<br />V_m = nan kV<br />V_a = nan deg",
          "Bus_56<br />V_m = nan pu<br />V_m = nan kV<br />V_a = nan deg",
          "Bus_57<br />V_m = nan pu<br />V_m = nan kV<br />V_a = nan deg",
          "Bus_58<br />V_m = nan pu<br />V_m = nan kV<br />V_a = nan deg",
          "Bus_59<br />V_m = nan pu<br />V_m = nan kV<br />V_a = nan deg",
          "Bus_60<br />V_m = nan pu<br />V_m = nan kV<br />V_a = nan deg",
          "Bus_61<br />V_m = nan pu<br />V_m = nan kV<br />V_a = nan deg",
          "Bus_62<br />V_m = nan pu<br />V_m = nan kV<br />V_a = nan deg",
          "Bus_63<br />V_m = nan pu<br />V_m = nan kV<br />V_a = nan deg",
          "Bus_64<br />V_m = nan pu<br />V_m = nan kV<br />V_a = nan deg",
          "Bus_65<br />V_m = nan pu<br />V_m = nan kV<br />V_a = nan deg",
          "Bus_66<br />V_m = 1.017 pu<br />V_m = 12.872 kV<br />V_a = 0.141 deg",
          "Bus_67<br />V_m = 1.017 pu<br />V_m = 12.872 kV<br />V_a = 0.141 deg",
          "Bus_68<br />V_m = 1.013 pu<br />V_m = 12.831 kV<br />V_a = 0.194 deg",
          "Bus_69<br />V_m = 1.013 pu<br />V_m = 12.831 kV<br />V_a = 0.194 deg"
         ],
         "type": "scatter",
         "x": [
          0.0,
          1.0,
          2.0,
          3.0,
          4.0,
          5.0,
          6.0,
          7.0,
          8.0,
          9.0,
          10.0,
          11.0,
          12.0,
          13.0,
          14.0,
          15.0,
          16.0,
          17.0,
          18.0,
          19.0,
          20.0,
          21.0,
          22.0,
          23.0,
          24.0,
          25.0,
          26.0,
          3.0,
          4.0,
          5.0,
          6.0,
          7.0,
          8.0,
          9.0,
          10.0,
          3.0,
          4.0,
          5.0,
          6.0,
          7.0,
          8.0,
          9.0,
          10.0,
          11.0,
          12.0,
          13.0,
          4.0,
          5.0,
          6.0,
          7.0,
          8.0,
          9.0,
          9.0,
          10.0,
          11.0,
          12.0,
          13.0,
          14.0,
          15.0,
          16.0,
          17.0,
          18.0,
          19.0,
          20.0,
          21.0,
          11.0,
          12.0,
          12.0,
          13.0
         ],
         "y": [
          0.0,
          0.0,
          0.0,
          -1.33333333,
          -1.83333333,
          -1.83333333,
          -1.83333333,
          -1.83333333,
          -2.77083333,
          -3.64583333,
          -3.64583333,
          -4.39583333,
          -4.89583333,
          -4.89583333,
          -4.89583333,
          -4.89583333,
          -4.89583333,
          -4.89583333,
          -4.89583333,
          -4.89583333,
          -4.89583333,
          -4.89583333,
          -4.89583333,
          -4.89583333,
          -4.89583333,
          -4.89583333,
          -4.89583333,
          0.16666667,
          0.16666667,
          0.16666667,
          0.16666667,
          0.16666667,
          0.16666667,
          0.16666667,
          0.16666667,
          1.16666667,
          1.16666667,
          1.16666667,
          1.16666667,
          1.16666667,
          1.16666667,
          1.16666667,
          1.16666667,
          1.16666667,
          1.16666667,
          1.16666667,
          -0.83333333,
          -0.83333333,
          -0.83333333,
          -0.83333333,
          -0.89583333,
          -0.89583333,
          -1.89583333,
          -1.89583333,
          -1.89583333,
          -1.89583333,
          -1.89583333,
          -1.89583333,
          -1.89583333,
          -1.89583333,
          -1.89583333,
          -1.89583333,
          -1.89583333,
          -1.89583333,
          -1.89583333,
          -2.89583333,
          -2.89583333,
          -3.89583333,
          -3.89583333
         ]
        }
       ],
       "layout": {
        "autosize": true,
        "height": 163.22115384615384,
        "hovermode": "closest",
        "legend": {
         "itemsizing": "constant"
        },
        "margin": {
         "b": 5,
         "l": 5,
         "r": 5,
         "t": 5
        },
        "showlegend": false,
        "template": {
         "data": {
          "bar": [
           {
            "error_x": {
             "color": "#2a3f5f"
            },
            "error_y": {
             "color": "#2a3f5f"
            },
            "marker": {
             "line": {
              "color": "#E5ECF6",
              "width": 0.5
             },
             "pattern": {
              "fillmode": "overlay",
              "size": 10,
              "solidity": 0.2
             }
            },
            "type": "bar"
           }
          ],
          "barpolar": [
           {
            "marker": {
             "line": {
              "color": "#E5ECF6",
              "width": 0.5
             },
             "pattern": {
              "fillmode": "overlay",
              "size": 10,
              "solidity": 0.2
             }
            },
            "type": "barpolar"
           }
          ],
          "carpet": [
           {
            "aaxis": {
             "endlinecolor": "#2a3f5f",
             "gridcolor": "white",
             "linecolor": "white",
             "minorgridcolor": "white",
             "startlinecolor": "#2a3f5f"
            },
            "baxis": {
             "endlinecolor": "#2a3f5f",
             "gridcolor": "white",
             "linecolor": "white",
             "minorgridcolor": "white",
             "startlinecolor": "#2a3f5f"
            },
            "type": "carpet"
           }
          ],
          "choropleth": [
           {
            "colorbar": {
             "outlinewidth": 0,
             "ticks": ""
            },
            "type": "choropleth"
           }
          ],
          "contour": [
           {
            "colorbar": {
             "outlinewidth": 0,
             "ticks": ""
            },
            "colorscale": [
             [
              0.0,
              "#0d0887"
             ],
             [
              0.1111111111111111,
              "#46039f"
             ],
             [
              0.2222222222222222,
              "#7201a8"
             ],
             [
              0.3333333333333333,
              "#9c179e"
             ],
             [
              0.4444444444444444,
              "#bd3786"
             ],
             [
              0.5555555555555556,
              "#d8576b"
             ],
             [
              0.6666666666666666,
              "#ed7953"
             ],
             [
              0.7777777777777778,
              "#fb9f3a"
             ],
             [
              0.8888888888888888,
              "#fdca26"
             ],
             [
              1.0,
              "#f0f921"
             ]
            ],
            "type": "contour"
           }
          ],
          "contourcarpet": [
           {
            "colorbar": {
             "outlinewidth": 0,
             "ticks": ""
            },
            "type": "contourcarpet"
           }
          ],
          "heatmap": [
           {
            "colorbar": {
             "outlinewidth": 0,
             "ticks": ""
            },
            "colorscale": [
             [
              0.0,
              "#0d0887"
             ],
             [
              0.1111111111111111,
              "#46039f"
             ],
             [
              0.2222222222222222,
              "#7201a8"
             ],
             [
              0.3333333333333333,
              "#9c179e"
             ],
             [
              0.4444444444444444,
              "#bd3786"
             ],
             [
              0.5555555555555556,
              "#d8576b"
             ],
             [
              0.6666666666666666,
              "#ed7953"
             ],
             [
              0.7777777777777778,
              "#fb9f3a"
             ],
             [
              0.8888888888888888,
              "#fdca26"
             ],
             [
              1.0,
              "#f0f921"
             ]
            ],
            "type": "heatmap"
           }
          ],
          "histogram": [
           {
            "marker": {
             "pattern": {
              "fillmode": "overlay",
              "size": 10,
              "solidity": 0.2
             }
            },
            "type": "histogram"
           }
          ],
          "histogram2d": [
           {
            "colorbar": {
             "outlinewidth": 0,
             "ticks": ""
            },
            "colorscale": [
             [
              0.0,
              "#0d0887"
             ],
             [
              0.1111111111111111,
              "#46039f"
             ],
             [
              0.2222222222222222,
              "#7201a8"
             ],
             [
              0.3333333333333333,
              "#9c179e"
             ],
             [
              0.4444444444444444,
              "#bd3786"
             ],
             [
              0.5555555555555556,
              "#d8576b"
             ],
             [
              0.6666666666666666,
              "#ed7953"
             ],
             [
              0.7777777777777778,
              "#fb9f3a"
             ],
             [
              0.8888888888888888,
              "#fdca26"
             ],
             [
              1.0,
              "#f0f921"
             ]
            ],
            "type": "histogram2d"
           }
          ],
          "histogram2dcontour": [
           {
            "colorbar": {
             "outlinewidth": 0,
             "ticks": ""
            },
            "colorscale": [
             [
              0.0,
              "#0d0887"
             ],
             [
              0.1111111111111111,
              "#46039f"
             ],
             [
              0.2222222222222222,
              "#7201a8"
             ],
             [
              0.3333333333333333,
              "#9c179e"
             ],
             [
              0.4444444444444444,
              "#bd3786"
             ],
             [
              0.5555555555555556,
              "#d8576b"
             ],
             [
              0.6666666666666666,
              "#ed7953"
             ],
             [
              0.7777777777777778,
              "#fb9f3a"
             ],
             [
              0.8888888888888888,
              "#fdca26"
             ],
             [
              1.0,
              "#f0f921"
             ]
            ],
            "type": "histogram2dcontour"
           }
          ],
          "mesh3d": [
           {
            "colorbar": {
             "outlinewidth": 0,
             "ticks": ""
            },
            "type": "mesh3d"
           }
          ],
          "parcoords": [
           {
            "line": {
             "colorbar": {
              "outlinewidth": 0,
              "ticks": ""
             }
            },
            "type": "parcoords"
           }
          ],
          "pie": [
           {
            "automargin": true,
            "type": "pie"
           }
          ],
          "scatter": [
           {
            "fillpattern": {
             "fillmode": "overlay",
             "size": 10,
             "solidity": 0.2
            },
            "type": "scatter"
           }
          ],
          "scatter3d": [
           {
            "line": {
             "colorbar": {
              "outlinewidth": 0,
              "ticks": ""
             }
            },
            "marker": {
             "colorbar": {
              "outlinewidth": 0,
              "ticks": ""
             }
            },
            "type": "scatter3d"
           }
          ],
          "scattercarpet": [
           {
            "marker": {
             "colorbar": {
              "outlinewidth": 0,
              "ticks": ""
             }
            },
            "type": "scattercarpet"
           }
          ],
          "scattergeo": [
           {
            "marker": {
             "colorbar": {
              "outlinewidth": 0,
              "ticks": ""
             }
            },
            "type": "scattergeo"
           }
          ],
          "scattergl": [
           {
            "marker": {
             "colorbar": {
              "outlinewidth": 0,
              "ticks": ""
             }
            },
            "type": "scattergl"
           }
          ],
          "scattermap": [
           {
            "marker": {
             "colorbar": {
              "outlinewidth": 0,
              "ticks": ""
             }
            },
            "type": "scattermap"
           }
          ],
          "scattermapbox": [
           {
            "marker": {
             "colorbar": {
              "outlinewidth": 0,
              "ticks": ""
             }
            },
            "type": "scattermapbox"
           }
          ],
          "scatterpolar": [
           {
            "marker": {
             "colorbar": {
              "outlinewidth": 0,
              "ticks": ""
             }
            },
            "type": "scatterpolar"
           }
          ],
          "scatterpolargl": [
           {
            "marker": {
             "colorbar": {
              "outlinewidth": 0,
              "ticks": ""
             }
            },
            "type": "scatterpolargl"
           }
          ],
          "scatterternary": [
           {
            "marker": {
             "colorbar": {
              "outlinewidth": 0,
              "ticks": ""
             }
            },
            "type": "scatterternary"
           }
          ],
          "surface": [
           {
            "colorbar": {
             "outlinewidth": 0,
             "ticks": ""
            },
            "colorscale": [
             [
              0.0,
              "#0d0887"
             ],
             [
              0.1111111111111111,
              "#46039f"
             ],
             [
              0.2222222222222222,
              "#7201a8"
             ],
             [
              0.3333333333333333,
              "#9c179e"
             ],
             [
              0.4444444444444444,
              "#bd3786"
             ],
             [
              0.5555555555555556,
              "#d8576b"
             ],
             [
              0.6666666666666666,
              "#ed7953"
             ],
             [
              0.7777777777777778,
              "#fb9f3a"
             ],
             [
              0.8888888888888888,
              "#fdca26"
             ],
             [
              1.0,
              "#f0f921"
             ]
            ],
            "type": "surface"
           }
          ],
          "table": [
           {
            "cells": {
             "fill": {
              "color": "#EBF0F8"
             },
             "line": {
              "color": "white"
             }
            },
            "header": {
             "fill": {
              "color": "#C8D4E3"
             },
             "line": {
              "color": "white"
             }
            },
            "type": "table"
           }
          ]
         },
         "layout": {
          "annotationdefaults": {
           "arrowcolor": "#2a3f5f",
           "arrowhead": 0,
           "arrowwidth": 1
          },
          "autotypenumbers": "strict",
          "coloraxis": {
           "colorbar": {
            "outlinewidth": 0,
            "ticks": ""
           }
          },
          "colorscale": {
           "diverging": [
            [
             0,
             "#8e0152"
            ],
            [
             0.1,
             "#c51b7d"
            ],
            [
             0.2,
             "#de77ae"
            ],
            [
             0.3,
             "#f1b6da"
            ],
            [
             0.4,
             "#fde0ef"
            ],
            [
             0.5,
             "#f7f7f7"
            ],
            [
             0.6,
             "#e6f5d0"
            ],
            [
             0.7,
             "#b8e186"
            ],
            [
             0.8,
             "#7fbc41"
            ],
            [
             0.9,
             "#4d9221"
            ],
            [
             1,
             "#276419"
            ]
           ],
           "sequential": [
            [
             0.0,
             "#0d0887"
            ],
            [
             0.1111111111111111,
             "#46039f"
            ],
            [
             0.2222222222222222,
             "#7201a8"
            ],
            [
             0.3333333333333333,
             "#9c179e"
            ],
            [
             0.4444444444444444,
             "#bd3786"
            ],
            [
             0.5555555555555556,
             "#d8576b"
            ],
            [
             0.6666666666666666,
             "#ed7953"
            ],
            [
             0.7777777777777778,
             "#fb9f3a"
            ],
            [
             0.8888888888888888,
             "#fdca26"
            ],
            [
             1.0,
             "#f0f921"
            ]
           ],
           "sequentialminus": [
            [
             0.0,
             "#0d0887"
            ],
            [
             0.1111111111111111,
             "#46039f"
            ],
            [
             0.2222222222222222,
             "#7201a8"
            ],
            [
             0.3333333333333333,
             "#9c179e"
            ],
            [
             0.4444444444444444,
             "#bd3786"
            ],
            [
             0.5555555555555556,
             "#d8576b"
            ],
            [
             0.6666666666666666,
             "#ed7953"
            ],
            [
             0.7777777777777778,
             "#fb9f3a"
            ],
            [
             0.8888888888888888,
             "#fdca26"
            ],
            [
             1.0,
             "#f0f921"
            ]
           ]
          },
          "colorway": [
           "#636efa",
           "#EF553B",
           "#00cc96",
           "#ab63fa",
           "#FFA15A",
           "#19d3f3",
           "#FF6692",
           "#B6E880",
           "#FF97FF",
           "#FECB52"
          ],
          "font": {
           "color": "#2a3f5f"
          },
          "geo": {
           "bgcolor": "white",
           "lakecolor": "white",
           "landcolor": "#E5ECF6",
           "showlakes": true,
           "showland": true,
           "subunitcolor": "white"
          },
          "hoverlabel": {
           "align": "left"
          },
          "hovermode": "closest",
          "mapbox": {
           "style": "light"
          },
          "paper_bgcolor": "white",
          "plot_bgcolor": "#E5ECF6",
          "polar": {
           "angularaxis": {
            "gridcolor": "white",
            "linecolor": "white",
            "ticks": ""
           },
           "bgcolor": "#E5ECF6",
           "radialaxis": {
            "gridcolor": "white",
            "linecolor": "white",
            "ticks": ""
           }
          },
          "scene": {
           "xaxis": {
            "backgroundcolor": "#E5ECF6",
            "gridcolor": "white",
            "gridwidth": 2,
            "linecolor": "white",
            "showbackground": true,
            "ticks": "",
            "zerolinecolor": "white"
           },
           "yaxis": {
            "backgroundcolor": "#E5ECF6",
            "gridcolor": "white",
            "gridwidth": 2,
            "linecolor": "white",
            "showbackground": true,
            "ticks": "",
            "zerolinecolor": "white"
           },
           "zaxis": {
            "backgroundcolor": "#E5ECF6",
            "gridcolor": "white",
            "gridwidth": 2,
            "linecolor": "white",
            "showbackground": true,
            "ticks": "",
            "zerolinecolor": "white"
           }
          },
          "shapedefaults": {
           "line": {
            "color": "#2a3f5f"
           }
          },
          "ternary": {
           "aaxis": {
            "gridcolor": "white",
            "linecolor": "white",
            "ticks": ""
           },
           "baxis": {
            "gridcolor": "white",
            "linecolor": "white",
            "ticks": ""
           },
           "bgcolor": "#E5ECF6",
           "caxis": {
            "gridcolor": "white",
            "linecolor": "white",
            "ticks": ""
           }
          },
          "title": {
           "x": 0.05
          },
          "xaxis": {
           "automargin": true,
           "gridcolor": "white",
           "linecolor": "white",
           "ticks": "",
           "title": {
            "standoff": 15
           },
           "zerolinecolor": "white",
           "zerolinewidth": 2
          },
          "yaxis": {
           "automargin": true,
           "gridcolor": "white",
           "linecolor": "white",
           "ticks": "",
           "title": {
            "standoff": 15
           },
           "zerolinecolor": "white",
           "zerolinewidth": 2
          }
         }
        },
        "title": {
         "font": {
          "size": 16
         }
        },
        "width": 700.0,
        "xaxis": {
         "showgrid": false,
         "showticklabels": false,
         "zeroline": false
        },
        "yaxis": {
         "showgrid": false,
         "showticklabels": false,
         "zeroline": false
        }
       }
      }
     },
     "metadata": {},
     "output_type": "display_data"
    }
   ],
   "source": [
    "network = deepcopy(org_network)\n",
    "pp.drop_lines(network, [51])\n",
    "test_network3 = deepcopy(network)\n",
    "pp.runpp(network)\n",
    "pp.plotting.plotly.pf_res_plotly(network, auto_open=False)"
   ]
  },
  {
   "cell_type": "code",
   "execution_count": 564,
   "id": "f2e7047f5f102ffe",
   "metadata": {
    "ExecuteTime": {
     "end_time": "2025-07-22T01:41:47.711388Z",
     "start_time": "2025-07-22T01:41:47.612101Z"
    }
   },
   "outputs": [
    {
     "data": {
      "application/vnd.plotly.v1+json": {
       "config": {
        "plotlyServerURL": "https://plot.ly"
       },
       "data": [
        {
         "hoverinfo": "text",
         "legendgroup": "lines",
         "line": {
          "color": "rgb(144.3548387096774,255.0,102.41935483870967)",
          "dash": "solid",
          "width": 2
         },
         "mode": "lines",
         "name": "lines",
         "showlegend": true,
         "text": "Line_1.0-2.0<br />I = 52.592 %<br />I_from = 0.21 kA<br />I_to = 0.21 kA<br />",
         "type": "scatter",
         "x": [
          0.0,
          0.5,
          1.0
         ],
         "y": [
          0.0,
          0.0,
          0.0
         ]
        },
        {
         "hoverinfo": "text",
         "legendgroup": "lines",
         "line": {
          "color": "rgb(144.3548387096774,255.0,102.41935483870967)",
          "dash": "solid",
          "width": 2
         },
         "mode": "lines",
         "name": "lines",
         "showlegend": false,
         "text": "Line_2.0-3.0<br />I = 52.592 %<br />I_from = 0.21 kA<br />I_to = 0.21 kA<br />",
         "type": "scatter",
         "x": [
          1.0,
          1.5,
          2.0
         ],
         "y": [
          0.0,
          0.0,
          0.0
         ]
        },
        {
         "hoverinfo": "text",
         "legendgroup": "lines",
         "line": {
          "color": "rgb(54.03225806451608,255.0,192.74193548387103)",
          "dash": "solid",
          "width": 2
         },
         "mode": "lines",
         "name": "lines",
         "showlegend": false,
         "text": "Line_3.0-4.0<br />I = 41.524 %<br />I_from = 0.166 kA<br />I_to = 0.166 kA<br />",
         "type": "scatter",
         "x": [
          2.0,
          2.5,
          3.0
         ],
         "y": [
          0.0,
          -0.666666665,
          -1.33333333
         ]
        },
        {
         "hoverinfo": "text",
         "legendgroup": "lines",
         "line": {
          "color": "rgb(0.0,0.0,245.68181818181816)",
          "dash": "solid",
          "width": 2
         },
         "mode": "lines",
         "name": "lines",
         "showlegend": false,
         "text": "Line_4.0-5.0<br />I = 10.217 %<br />I_from = 0.041 kA<br />I_to = 0.041 kA<br />",
         "type": "scatter",
         "x": [
          3.0,
          3.5,
          4.0
         ],
         "y": [
          -1.33333333,
          -1.58333333,
          -1.83333333
         ]
        },
        {
         "hoverinfo": "text",
         "legendgroup": "lines",
         "line": {
          "color": "rgb(0.0,0.0,245.68181818181816)",
          "dash": "solid",
          "width": 2
         },
         "mode": "lines",
         "name": "lines",
         "showlegend": false,
         "text": "Line_5.0-6.0<br />I = 10.217 %<br />I_from = 0.041 kA<br />I_to = 0.041 kA<br />",
         "type": "scatter",
         "x": [
          4.0,
          4.5,
          5.0
         ],
         "y": [
          -1.83333333,
          -1.83333333,
          -1.83333333
         ]
        },
        {
         "hoverinfo": "text",
         "legendgroup": "lines",
         "line": {
          "color": "rgb(0.0,0.0,245.68181818181816)",
          "dash": "solid",
          "width": 2
         },
         "mode": "lines",
         "name": "lines",
         "showlegend": false,
         "text": "Line_6.0-7.0<br />I = 10.182 %<br />I_from = 0.041 kA<br />I_to = 0.041 kA<br />",
         "type": "scatter",
         "x": [
          5.0,
          5.5,
          6.0
         ],
         "y": [
          -1.83333333,
          -1.83333333,
          -1.83333333
         ]
        },
        {
         "hoverinfo": "text",
         "legendgroup": "lines",
         "line": {
          "color": "rgb(0.0,0.0,236.59090909090907)",
          "dash": "solid",
          "width": 2
         },
         "mode": "lines",
         "name": "lines",
         "showlegend": false,
         "text": "Line_7.0-8.0<br />I = 9.658 %<br />I_from = 0.039 kA<br />I_to = 0.039 kA<br />",
         "type": "scatter",
         "x": [
          6.0,
          6.5,
          7.0
         ],
         "y": [
          -1.83333333,
          -1.83333333,
          -1.83333333
         ]
        },
        {
         "hoverinfo": "text",
         "legendgroup": "lines",
         "line": {
          "color": "rgb(0.0,0.0,218.4090909090909)",
          "dash": "solid",
          "width": 2
         },
         "mode": "lines",
         "name": "lines",
         "showlegend": false,
         "text": "Line_8.0-9.0<br />I = 8.146 %<br />I_from = 0.033 kA<br />I_to = 0.033 kA<br />",
         "type": "scatter",
         "x": [
          7.0,
          7.5,
          8.0
         ],
         "y": [
          -1.83333333,
          -2.30208333,
          -2.77083333
         ]
        },
        {
         "hoverinfo": "text",
         "legendgroup": "lines",
         "line": {
          "color": "rgb(0.0,0.0,213.86363636363635)",
          "dash": "solid",
          "width": 2
         },
         "mode": "lines",
         "name": "lines",
         "showlegend": false,
         "text": "Line_9.0-10.0<br />I = 7.771 %<br />I_from = 0.031 kA<br />I_to = 0.031 kA<br />",
         "type": "scatter",
         "x": [
          8.0,
          8.5,
          9.0
         ],
         "y": [
          -2.77083333,
          -3.20833333,
          -3.64583333
         ]
        },
        {
         "hoverinfo": "text",
         "legendgroup": "lines",
         "line": {
          "color": "rgb(0.0,24.5,255.0)",
          "dash": "solid",
          "width": 2
         },
         "mode": "lines",
         "name": "lines",
         "showlegend": false,
         "text": "Line_10.0-11.0<br />I = 14.854 %<br />I_from = 0.03 kA<br />I_to = 0.03 kA<br />",
         "type": "scatter",
         "x": [
          9.0,
          9.5,
          10.0
         ],
         "y": [
          -3.64583333,
          -3.64583333,
          -3.64583333
         ]
        },
        {
         "hoverinfo": "text",
         "legendgroup": "lines",
         "line": {
          "color": "rgb(0.0,112.5,255.0)",
          "dash": "solid",
          "width": 2
         },
         "mode": "lines",
         "name": "lines",
         "showlegend": false,
         "text": "Line_11.0-12.0<br />I = 23.559 %<br />I_from = 0.047 kA<br />I_to = 0.047 kA<br />",
         "type": "scatter",
         "x": [
          10.0,
          10.5,
          11.0
         ],
         "y": [
          -3.64583333,
          -4.02083333,
          -4.39583333
         ]
        },
        {
         "hoverinfo": "text",
         "legendgroup": "lines",
         "line": {
          "color": "rgb(0.0,56.5,255.0)",
          "dash": "solid",
          "width": 2
         },
         "mode": "lines",
         "name": "lines",
         "showlegend": false,
         "text": "Line_12.0-13.0<br />I = 18.19 %<br />I_from = 0.036 kA<br />I_to = 0.036 kA<br />",
         "type": "scatter",
         "x": [
          11.0,
          11.5,
          12.0
         ],
         "y": [
          -4.39583333,
          -4.64583333,
          -4.89583333
         ]
        },
        {
         "hoverinfo": "text",
         "legendgroup": "lines",
         "line": {
          "color": "rgb(0.0,0.0,145.6818181818182)",
          "dash": "solid",
          "width": 2
         },
         "mode": "lines",
         "name": "lines",
         "showlegend": false,
         "text": "Line_13.0-14.0<br />I = 1.917 %<br />I_from = 0.004 kA<br />I_to = 0.004 kA<br />",
         "type": "scatter",
         "x": [
          12.0,
          12.5,
          13.0
         ],
         "y": [
          -4.89583333,
          -4.89583333,
          -4.89583333
         ]
        },
        {
         "hoverinfo": "text",
         "legendgroup": "lines",
         "line": {
          "color": "rgb(0.0,0.0,145.6818181818182)",
          "dash": "solid",
          "width": 2
         },
         "mode": "lines",
         "name": "lines",
         "showlegend": false,
         "text": "Line_14.0-15.0<br />I = 1.701 %<br />I_from = 0.003 kA<br />I_to = 0.003 kA<br />",
         "type": "scatter",
         "x": [
          13.0,
          13.5,
          14.0
         ],
         "y": [
          -4.89583333,
          -4.89583333,
          -4.89583333
         ]
        },
        {
         "hoverinfo": "text",
         "legendgroup": "lines",
         "line": {
          "color": "rgb(0.0,0.0,145.6818181818182)",
          "dash": "solid",
          "width": 2
         },
         "mode": "lines",
         "name": "lines",
         "showlegend": false,
         "text": "Line_15.0-16.0<br />I = 1.701 %<br />I_from = 0.003 kA<br />I_to = 0.003 kA<br />",
         "type": "scatter",
         "x": [
          14.0,
          14.5,
          15.0
         ],
         "y": [
          -4.89583333,
          -4.89583333,
          -4.89583333
         ]
        },
        {
         "hoverinfo": "text",
         "legendgroup": "lines",
         "line": {
          "color": "rgb(0.0,0.0,132.04545454545453)",
          "dash": "solid",
          "width": 2
         },
         "mode": "lines",
         "name": "lines",
         "showlegend": false,
         "text": "Line_16.0-17.0<br />I = 0.525 %<br />I_from = 0.001 kA<br />I_to = 0.001 kA<br />",
         "type": "scatter",
         "x": [
          15.0,
          15.5,
          16.0
         ],
         "y": [
          -4.89583333,
          -4.89583333,
          -4.89583333
         ]
        },
        {
         "hoverinfo": "text",
         "legendgroup": "lines",
         "line": {
          "color": "rgb(0.0,0.0,136.5909090909091)",
          "dash": "solid",
          "width": 2
         },
         "mode": "lines",
         "name": "lines",
         "showlegend": false,
         "text": "Line_17.0-18.0<br />I = 1.139 %<br />I_from = 0.002 kA<br />I_to = 0.002 kA<br />",
         "type": "scatter",
         "x": [
          16.0,
          16.5,
          17.0
         ],
         "y": [
          -4.89583333,
          -4.89583333,
          -4.89583333
         ]
        },
        {
         "hoverinfo": "text",
         "legendgroup": "lines",
         "line": {
          "color": "rgb(0.0,0.0,154.77272727272728)",
          "dash": "solid",
          "width": 2
         },
         "mode": "lines",
         "name": "lines",
         "showlegend": false,
         "text": "Line_18.0-19.0<br />I = 2.693 %<br />I_from = 0.005 kA<br />I_to = 0.005 kA<br />",
         "type": "scatter",
         "x": [
          17.0,
          17.5,
          18.0
         ],
         "y": [
          -4.89583333,
          -4.89583333,
          -4.89583333
         ]
        },
        {
         "hoverinfo": "text",
         "legendgroup": "lines",
         "line": {
          "color": "rgb(0.0,0.0,154.77272727272728)",
          "dash": "solid",
          "width": 2
         },
         "mode": "lines",
         "name": "lines",
         "showlegend": false,
         "text": "Line_19.0-20.0<br />I = 2.693 %<br />I_from = 0.005 kA<br />I_to = 0.005 kA<br />",
         "type": "scatter",
         "x": [
          18.0,
          18.5,
          19.0
         ],
         "y": [
          -4.89583333,
          -4.89583333,
          -4.89583333
         ]
        },
        {
         "hoverinfo": "text",
         "legendgroup": "lines",
         "line": {
          "color": "rgb(0.0,0.0,154.77272727272728)",
          "dash": "solid",
          "width": 2
         },
         "mode": "lines",
         "name": "lines",
         "showlegend": false,
         "text": "Line_20.0-21.0<br />I = 2.719 %<br />I_from = 0.005 kA<br />I_to = 0.005 kA<br />",
         "type": "scatter",
         "x": [
          19.0,
          19.5,
          20.0
         ],
         "y": [
          -4.89583333,
          -4.89583333,
          -4.89583333
         ]
        },
        {
         "hoverinfo": "text",
         "legendgroup": "lines",
         "line": {
          "color": "rgb(0.0,0.0,250.22727272727272)",
          "dash": "solid",
          "width": 2
         },
         "mode": "lines",
         "name": "lines",
         "showlegend": false,
         "text": "Line_21.0-22.0<br />I = 10.635 %<br />I_from = 0.021 kA<br />I_to = 0.021 kA<br />",
         "type": "scatter",
         "x": [
          20.0,
          20.5,
          21.0
         ],
         "y": [
          -4.89583333,
          -4.89583333,
          -4.89583333
         ]
        },
        {
         "hoverinfo": "text",
         "legendgroup": "lines",
         "line": {
          "color": "rgb(0.0,0.0,245.68181818181816)",
          "dash": "solid",
          "width": 2
         },
         "mode": "lines",
         "name": "lines",
         "showlegend": false,
         "text": "Line_22.0-23.0<br />I = 10.513 %<br />I_from = 0.021 kA<br />I_to = 0.021 kA<br />",
         "type": "scatter",
         "x": [
          21.0,
          21.5,
          22.0
         ],
         "y": [
          -4.89583333,
          -4.89583333,
          -4.89583333
         ]
        },
        {
         "hoverinfo": "text",
         "legendgroup": "lines",
         "line": {
          "color": "rgb(0.0,0.0,245.68181818181816)",
          "dash": "solid",
          "width": 2
         },
         "mode": "lines",
         "name": "lines",
         "showlegend": false,
         "text": "Line_23.0-24.0<br />I = 10.513 %<br />I_from = 0.021 kA<br />I_to = 0.021 kA<br />",
         "type": "scatter",
         "x": [
          22.0,
          22.5,
          23.0
         ],
         "y": [
          -4.89583333,
          -4.89583333,
          -4.89583333
         ]
        },
        {
         "hoverinfo": "text",
         "legendgroup": "lines",
         "line": {
          "color": "rgb(0.0,0.0,241.13636363636363)",
          "dash": "solid",
          "width": 2
         },
         "mode": "lines",
         "name": "lines",
         "showlegend": false,
         "text": "Line_24.0-25.0<br />I = 9.831 %<br />I_from = 0.02 kA<br />I_to = 0.02 kA<br />",
         "type": "scatter",
         "x": [
          23.0,
          23.5,
          24.0
         ],
         "y": [
          -4.89583333,
          -4.89583333,
          -4.89583333
         ]
        },
        {
         "hoverinfo": "text",
         "legendgroup": "lines",
         "line": {
          "color": "rgb(0.0,0.0,241.13636363636363)",
          "dash": "solid",
          "width": 2
         },
         "mode": "lines",
         "name": "lines",
         "showlegend": false,
         "text": "Line_25.0-26.0<br />I = 9.831 %<br />I_from = 0.02 kA<br />I_to = 0.02 kA<br />",
         "type": "scatter",
         "x": [
          24.0,
          24.5,
          25.0
         ],
         "y": [
          -4.89583333,
          -4.89583333,
          -4.89583333
         ]
        },
        {
         "hoverinfo": "text",
         "legendgroup": "lines",
         "line": {
          "color": "rgb(0.0,0.0,236.59090909090907)",
          "dash": "solid",
          "width": 2
         },
         "mode": "lines",
         "name": "lines",
         "showlegend": false,
         "text": "Line_26.0-27.0<br />I = 9.496 %<br />I_from = 0.019 kA<br />I_to = 0.019 kA<br />",
         "type": "scatter",
         "x": [
          25.0,
          25.5,
          26.0
         ],
         "y": [
          -4.89583333,
          -4.89583333,
          -4.89583333
         ]
        },
        {
         "hoverinfo": "text",
         "legendgroup": "lines",
         "line": {
          "color": "rgb(0.0,0.0,154.77272727272728)",
          "dash": "solid",
          "width": 2
         },
         "mode": "lines",
         "name": "lines",
         "showlegend": false,
         "text": "Line_3.0-28.0<br />I = 2.488 %<br />I_from = 0.005 kA<br />I_to = 0.005 kA<br />",
         "type": "scatter",
         "x": [
          2.0,
          2.5,
          3.0
         ],
         "y": [
          0.0,
          0.083333335,
          0.16666667
         ]
        },
        {
         "hoverinfo": "text",
         "legendgroup": "lines",
         "line": {
          "color": "rgb(0.0,0.0,145.6818181818182)",
          "dash": "solid",
          "width": 2
         },
         "mode": "lines",
         "name": "lines",
         "showlegend": false,
         "text": "Line_28.0-29.0<br />I = 1.781 %<br />I_from = 0.004 kA<br />I_to = 0.004 kA<br />",
         "type": "scatter",
         "x": [
          3.0,
          3.5,
          4.0
         ],
         "y": [
          0.16666667,
          0.16666667,
          0.16666667
         ]
        },
        {
         "hoverinfo": "text",
         "legendgroup": "lines",
         "line": {
          "color": "rgb(0.0,0.0,136.5909090909091)",
          "dash": "solid",
          "width": 2
         },
         "mode": "lines",
         "name": "lines",
         "showlegend": false,
         "text": "Line_29.0-30.0<br />I = 1.073 %<br />I_from = 0.002 kA<br />I_to = 0.002 kA<br />",
         "type": "scatter",
         "x": [
          4.0,
          4.5,
          5.0
         ],
         "y": [
          0.16666667,
          0.16666667,
          0.16666667
         ]
        },
        {
         "hoverinfo": "text",
         "legendgroup": "lines",
         "line": {
          "color": "rgb(0.0,0.0,136.5909090909091)",
          "dash": "solid",
          "width": 2
         },
         "mode": "lines",
         "name": "lines",
         "showlegend": false,
         "text": "Line_30.0-31.0<br />I = 1.073 %<br />I_from = 0.002 kA<br />I_to = 0.002 kA<br />",
         "type": "scatter",
         "x": [
          5.0,
          5.5,
          6.0
         ],
         "y": [
          0.16666667,
          0.16666667,
          0.16666667
         ]
        },
        {
         "hoverinfo": "text",
         "legendgroup": "lines",
         "line": {
          "color": "rgb(0.0,0.0,136.5909090909091)",
          "dash": "solid",
          "width": 2
         },
         "mode": "lines",
         "name": "lines",
         "showlegend": false,
         "text": "Line_31.0-32.0<br />I = 1.073 %<br />I_from = 0.002 kA<br />I_to = 0.002 kA<br />",
         "type": "scatter",
         "x": [
          6.0,
          6.5,
          7.0
         ],
         "y": [
          0.16666667,
          0.16666667,
          0.16666667
         ]
        },
        {
         "hoverinfo": "text",
         "legendgroup": "lines",
         "line": {
          "color": "rgb(0.0,0.0,136.5909090909091)",
          "dash": "solid",
          "width": 2
         },
         "mode": "lines",
         "name": "lines",
         "showlegend": false,
         "text": "Line_32.0-33.0<br />I = 1.073 %<br />I_from = 0.002 kA<br />I_to = 0.002 kA<br />",
         "type": "scatter",
         "x": [
          7.0,
          7.5,
          8.0
         ],
         "y": [
          0.16666667,
          0.16666667,
          0.16666667
         ]
        },
        {
         "hoverinfo": "text",
         "legendgroup": "lines",
         "line": {
          "color": "rgb(0.0,0.0,132.04545454545453)",
          "dash": "solid",
          "width": 2
         },
         "mode": "lines",
         "name": "lines",
         "showlegend": false,
         "text": "Line_33.0-34.0<br />I = 0.692 %<br />I_from = 0.001 kA<br />I_to = 0.001 kA<br />",
         "type": "scatter",
         "x": [
          8.0,
          8.5,
          9.0
         ],
         "y": [
          0.16666667,
          0.16666667,
          0.16666667
         ]
        },
        {
         "hoverinfo": "text",
         "legendgroup": "lines",
         "line": {
          "color": "rgb(0.0,0.0,127.5)",
          "dash": "solid",
          "width": 2
         },
         "mode": "lines",
         "name": "lines",
         "showlegend": false,
         "text": "Line_34.0-35.0<br />I = 0.16 %<br />I_from = 0.0 kA<br />I_to = 0.0 kA<br />",
         "type": "scatter",
         "x": [
          9.0,
          9.5,
          10.0
         ],
         "y": [
          0.16666667,
          0.16666667,
          0.16666667
         ]
        },
        {
         "hoverinfo": "text",
         "legendgroup": "lines",
         "line": {
          "color": "rgb(0.0,72.5,255.0)",
          "dash": "solid",
          "width": 2
         },
         "mode": "lines",
         "name": "lines",
         "showlegend": false,
         "text": "Line_3.0-36.0<br />I = 19.698 %<br />I_from = 0.039 kA<br />I_to = 0.039 kA<br />",
         "type": "scatter",
         "x": [
          2.0,
          2.5,
          3.0
         ],
         "y": [
          0.0,
          0.583333335,
          1.16666667
         ]
        },
        {
         "hoverinfo": "text",
         "legendgroup": "lines",
         "line": {
          "color": "rgb(0.0,64.5,255.0)",
          "dash": "solid",
          "width": 2
         },
         "mode": "lines",
         "name": "lines",
         "showlegend": false,
         "text": "Line_36.0-37.0<br />I = 18.992 %<br />I_from = 0.038 kA<br />I_to = 0.038 kA<br />",
         "type": "scatter",
         "x": [
          3.0,
          3.5,
          4.0
         ],
         "y": [
          1.16666667,
          1.16666667,
          1.16666667
         ]
        },
        {
         "hoverinfo": "text",
         "legendgroup": "lines",
         "line": {
          "color": "rgb(0.0,56.5,255.0)",
          "dash": "solid",
          "width": 2
         },
         "mode": "lines",
         "name": "lines",
         "showlegend": false,
         "text": "Line_37.0-38.0<br />I = 18.286 %<br />I_from = 0.037 kA<br />I_to = 0.037 kA<br />",
         "type": "scatter",
         "x": [
          4.0,
          4.5,
          5.0
         ],
         "y": [
          1.16666667,
          1.16666667,
          1.16666667
         ]
        },
        {
         "hoverinfo": "text",
         "legendgroup": "lines",
         "line": {
          "color": "rgb(0.0,56.5,255.0)",
          "dash": "solid",
          "width": 2
         },
         "mode": "lines",
         "name": "lines",
         "showlegend": false,
         "text": "Line_38.0-39.0<br />I = 18.286 %<br />I_from = 0.037 kA<br />I_to = 0.037 kA<br />",
         "type": "scatter",
         "x": [
          5.0,
          5.5,
          6.0
         ],
         "y": [
          1.16666667,
          1.16666667,
          1.16666667
         ]
        },
        {
         "hoverinfo": "text",
         "legendgroup": "lines",
         "line": {
          "color": "rgb(0.0,52.49999999999997,255.0)",
          "dash": "solid",
          "width": 2
         },
         "mode": "lines",
         "name": "lines",
         "showlegend": false,
         "text": "Line_39.0-40.0<br />I = 17.636 %<br />I_from = 0.035 kA<br />I_to = 0.035 kA<br />",
         "type": "scatter",
         "x": [
          6.0,
          6.5,
          7.0
         ],
         "y": [
          1.16666667,
          1.16666667,
          1.16666667
         ]
        },
        {
         "hoverinfo": "text",
         "legendgroup": "lines",
         "line": {
          "color": "rgb(0.0,44.5,255.0)",
          "dash": "solid",
          "width": 2
         },
         "mode": "lines",
         "name": "lines",
         "showlegend": false,
         "text": "Line_40.0-41.0<br />I = 16.986 %<br />I_from = 0.034 kA<br />I_to = 0.034 kA<br />",
         "type": "scatter",
         "x": [
          7.0,
          7.5,
          8.0
         ],
         "y": [
          1.16666667,
          1.16666667,
          1.16666667
         ]
        },
        {
         "hoverinfo": "text",
         "legendgroup": "lines",
         "line": {
          "color": "rgb(0.0,44.5,255.0)",
          "dash": "solid",
          "width": 2
         },
         "mode": "lines",
         "name": "lines",
         "showlegend": false,
         "text": "Line_41.0-42.0<br />I = 16.951 %<br />I_from = 0.034 kA<br />I_to = 0.034 kA<br />",
         "type": "scatter",
         "x": [
          8.0,
          8.5,
          9.0
         ],
         "y": [
          1.16666667,
          1.16666667,
          1.16666667
         ]
        },
        {
         "hoverinfo": "text",
         "legendgroup": "lines",
         "line": {
          "color": "rgb(0.0,44.5,255.0)",
          "dash": "solid",
          "width": 2
         },
         "mode": "lines",
         "name": "lines",
         "showlegend": false,
         "text": "Line_42.0-43.0<br />I = 16.951 %<br />I_from = 0.034 kA<br />I_to = 0.034 kA<br />",
         "type": "scatter",
         "x": [
          9.0,
          9.5,
          10.0
         ],
         "y": [
          1.16666667,
          1.16666667,
          1.16666667
         ]
        },
        {
         "hoverinfo": "text",
         "legendgroup": "lines",
         "line": {
          "color": "rgb(0.0,40.5,255.0)",
          "dash": "solid",
          "width": 2
         },
         "mode": "lines",
         "name": "lines",
         "showlegend": false,
         "text": "Line_43.0-44.0<br />I = 16.786 %<br />I_from = 0.034 kA<br />I_to = 0.034 kA<br />",
         "type": "scatter",
         "x": [
          10.0,
          10.5,
          11.0
         ],
         "y": [
          1.16666667,
          1.16666667,
          1.16666667
         ]
        },
        {
         "hoverinfo": "text",
         "legendgroup": "lines",
         "line": {
          "color": "rgb(0.0,0.0,150.22727272727272)",
          "dash": "solid",
          "width": 2
         },
         "mode": "lines",
         "name": "lines",
         "showlegend": false,
         "text": "Line_44.0-45.0<br />I = 2.111 %<br />I_from = 0.004 kA<br />I_to = 0.004 kA<br />",
         "type": "scatter",
         "x": [
          11.0,
          11.5,
          12.0
         ],
         "y": [
          1.16666667,
          1.16666667,
          1.16666667
         ]
        },
        {
         "hoverinfo": "text",
         "legendgroup": "lines",
         "line": {
          "color": "rgb(0.0,0.0,136.5909090909091)",
          "dash": "solid",
          "width": 2
         },
         "mode": "lines",
         "name": "lines",
         "showlegend": false,
         "text": "Line_45.0-46.0<br />I = 1.055 %<br />I_from = 0.002 kA<br />I_to = 0.002 kA<br />",
         "type": "scatter",
         "x": [
          12.0,
          12.5,
          13.0
         ],
         "y": [
          1.16666667,
          1.16666667,
          1.16666667
         ]
        },
        {
         "hoverinfo": "text",
         "legendgroup": "lines",
         "line": {
          "color": "rgb(63.70967741935483,255.0,183.06451612903228)",
          "dash": "solid",
          "width": 2
         },
         "mode": "lines",
         "name": "lines",
         "showlegend": false,
         "text": "Line_4.0-47.0<br />I = 42.604 %<br />I_from = 0.128 kA<br />I_to = 0.128 kA<br />",
         "type": "scatter",
         "x": [
          3.0,
          3.5,
          4.0
         ],
         "y": [
          -1.33333333,
          -1.08333333,
          -0.83333333
         ]
        },
        {
         "hoverinfo": "text",
         "legendgroup": "lines",
         "line": {
          "color": "rgb(63.70967741935483,255.0,183.06451612903228)",
          "dash": "solid",
          "width": 2
         },
         "mode": "lines",
         "name": "lines",
         "showlegend": false,
         "text": "Line_47.0-48.0<br />I = 42.604 %<br />I_from = 0.128 kA<br />I_to = 0.128 kA<br />",
         "type": "scatter",
         "x": [
          4.0,
          4.5,
          5.0
         ],
         "y": [
          -0.83333333,
          -0.83333333,
          -0.83333333
         ]
        },
        {
         "hoverinfo": "text",
         "legendgroup": "lines",
         "line": {
          "color": "rgb(50.80645161290322,255.0,195.96774193548387)",
          "dash": "solid",
          "width": 2
         },
         "mode": "lines",
         "name": "lines",
         "showlegend": false,
         "text": "Line_48.0-49.0<br />I = 41.171 %<br />I_from = 0.124 kA<br />I_to = 0.124 kA<br />",
         "type": "scatter",
         "x": [
          5.0,
          5.5,
          6.0
         ],
         "y": [
          -0.83333333,
          -0.83333333,
          -0.83333333
         ]
        },
        {
         "hoverinfo": "text",
         "legendgroup": "lines",
         "line": {
          "color": "rgb(0.0,220.5,254.03225806451613)",
          "dash": "solid",
          "width": 2
         },
         "mode": "lines",
         "name": "lines",
         "showlegend": false,
         "text": "Line_49.0-50.0<br />I = 34.118 %<br />I_from = 0.102 kA<br />I_to = 0.102 kA<br />",
         "type": "scatter",
         "x": [
          6.0,
          6.5,
          7.0
         ],
         "y": [
          -0.83333333,
          -0.83333333,
          -0.83333333
         ]
        },
        {
         "hoverinfo": "text",
         "legendgroup": "lines",
         "line": {
          "color": "rgb(0.0,0.0,141.13636363636363)",
          "dash": "solid",
          "width": 2
         },
         "mode": "lines",
         "name": "lines",
         "showlegend": false,
         "text": "Line_8.0-51.0<br />I = 1.2 %<br />I_from = 0.002 kA<br />I_to = 0.002 kA<br />",
         "type": "scatter",
         "x": [
          7.0,
          7.5,
          8.0
         ],
         "y": [
          -1.83333333,
          -1.36458333,
          -0.89583333
         ]
        },
        {
         "hoverinfo": "text",
         "legendgroup": "lines",
         "line": {
          "color": "rgb(0.0,0.0,127.5)",
          "dash": "solid",
          "width": 2
         },
         "mode": "lines",
         "name": "lines",
         "showlegend": false,
         "text": "Line_51.0-52.0<br />I = 0.1 %<br />I_from = 0.0 kA<br />I_to = 0.0 kA<br />",
         "type": "scatter",
         "x": [
          8.0,
          8.5,
          9.0
         ],
         "y": [
          -0.89583333,
          -0.89583333,
          -0.89583333
         ]
        },
        {
         "hoverinfo": "text",
         "legendgroup": "lines",
         "line": {
          "color": "rgb(0.0,0.0,127.5)",
          "dash": "solid",
          "width": 2
         },
         "mode": "lines",
         "name": "lines",
         "showlegend": false,
         "text": "Line_53.0-54.0<br />I = 0.084 %<br />I_from = 0.0 kA<br />I_to = 0.0 kA<br />",
         "type": "scatter",
         "x": [
          9.0,
          9.5,
          10.0
         ],
         "y": [
          -1.89583333,
          -1.89583333,
          -1.89583333
         ]
        },
        {
         "hoverinfo": "text",
         "legendgroup": "lines",
         "line": {
          "color": "rgb(0.0,0.0,132.04545454545453)",
          "dash": "solid",
          "width": 2
         },
         "mode": "lines",
         "name": "lines",
         "showlegend": false,
         "text": "Line_54.0-55.0<br />I = 0.574 %<br />I_from = 0.002 kA<br />I_to = 0.002 kA<br />",
         "type": "scatter",
         "x": [
          10.0,
          10.5,
          11.0
         ],
         "y": [
          -1.89583333,
          -1.89583333,
          -1.89583333
         ]
        },
        {
         "hoverinfo": "text",
         "legendgroup": "lines",
         "line": {
          "color": "rgb(0.0,0.0,136.5909090909091)",
          "dash": "solid",
          "width": 2
         },
         "mode": "lines",
         "name": "lines",
         "showlegend": false,
         "text": "Line_55.0-56.0<br />I = 1.019 %<br />I_from = 0.003 kA<br />I_to = 0.003 kA<br />",
         "type": "scatter",
         "x": [
          11.0,
          11.5,
          12.0
         ],
         "y": [
          -1.89583333,
          -1.89583333,
          -1.89583333
         ]
        },
        {
         "hoverinfo": "text",
         "legendgroup": "lines",
         "line": {
          "color": "rgb(0.0,0.0,136.5909090909091)",
          "dash": "solid",
          "width": 2
         },
         "mode": "lines",
         "name": "lines",
         "showlegend": false,
         "text": "Line_56.0-57.0<br />I = 1.019 %<br />I_from = 0.003 kA<br />I_to = 0.003 kA<br />",
         "type": "scatter",
         "x": [
          12.0,
          12.5,
          13.0
         ],
         "y": [
          -1.89583333,
          -1.89583333,
          -1.89583333
         ]
        },
        {
         "hoverinfo": "text",
         "legendgroup": "lines",
         "line": {
          "color": "rgb(0.0,0.0,136.5909090909091)",
          "dash": "solid",
          "width": 2
         },
         "mode": "lines",
         "name": "lines",
         "showlegend": false,
         "text": "Line_57.0-58.0<br />I = 1.019 %<br />I_from = 0.003 kA<br />I_to = 0.003 kA<br />",
         "type": "scatter",
         "x": [
          13.0,
          13.5,
          14.0
         ],
         "y": [
          -1.89583333,
          -1.89583333,
          -1.89583333
         ]
        },
        {
         "hoverinfo": "text",
         "legendgroup": "lines",
         "line": {
          "color": "rgb(0.0,0.0,136.5909090909091)",
          "dash": "solid",
          "width": 2
         },
         "mode": "lines",
         "name": "lines",
         "showlegend": false,
         "text": "Line_58.0-59.0<br />I = 1.019 %<br />I_from = 0.003 kA<br />I_to = 0.003 kA<br />",
         "type": "scatter",
         "x": [
          14.0,
          14.5,
          15.0
         ],
         "y": [
          -1.89583333,
          -1.89583333,
          -1.89583333
         ]
        },
        {
         "hoverinfo": "text",
         "legendgroup": "lines",
         "line": {
          "color": "rgb(0.0,116.49999999999997,255.0)",
          "dash": "solid",
          "width": 2
         },
         "mode": "lines",
         "name": "lines",
         "showlegend": false,
         "text": "Line_59.0-60.0<br />I = 24.208 %<br />I_from = 0.073 kA<br />I_to = 0.073 kA<br />",
         "type": "scatter",
         "x": [
          15.0,
          15.5,
          16.0
         ],
         "y": [
          -1.89583333,
          -1.89583333,
          -1.89583333
         ]
        },
        {
         "hoverinfo": "text",
         "legendgroup": "lines",
         "line": {
          "color": "rgb(0.0,116.49999999999997,255.0)",
          "dash": "solid",
          "width": 2
         },
         "mode": "lines",
         "name": "lines",
         "showlegend": false,
         "text": "Line_60.0-61.0<br />I = 24.208 %<br />I_from = 0.073 kA<br />I_to = 0.073 kA<br />",
         "type": "scatter",
         "x": [
          16.0,
          16.5,
          17.0
         ],
         "y": [
          -1.89583333,
          -1.89583333,
          -1.89583333
         ]
        },
        {
         "hoverinfo": "text",
         "legendgroup": "lines",
         "line": {
          "color": "rgb(0.0,0.0,163.86363636363635)",
          "dash": "solid",
          "width": 2
         },
         "mode": "lines",
         "name": "lines",
         "showlegend": false,
         "text": "Line_61.0-62.0<br />I = 3.384 %<br />I_from = 0.01 kA<br />I_to = 0.01 kA<br />",
         "type": "scatter",
         "x": [
          17.0,
          17.5,
          18.0
         ],
         "y": [
          -1.89583333,
          -1.89583333,
          -1.89583333
         ]
        },
        {
         "hoverinfo": "text",
         "legendgroup": "lines",
         "line": {
          "color": "rgb(0.0,0.0,163.86363636363635)",
          "dash": "solid",
          "width": 2
         },
         "mode": "lines",
         "name": "lines",
         "showlegend": false,
         "text": "Line_62.0-63.0<br />I = 3.295 %<br />I_from = 0.01 kA<br />I_to = 0.01 kA<br />",
         "type": "scatter",
         "x": [
          18.0,
          18.5,
          19.0
         ],
         "y": [
          -1.89583333,
          -1.89583333,
          -1.89583333
         ]
        },
        {
         "hoverinfo": "text",
         "legendgroup": "lines",
         "line": {
          "color": "rgb(0.0,0.0,163.86363636363635)",
          "dash": "solid",
          "width": 2
         },
         "mode": "lines",
         "name": "lines",
         "showlegend": false,
         "text": "Line_63.0-64.0<br />I = 3.295 %<br />I_from = 0.01 kA<br />I_to = 0.01 kA<br />",
         "type": "scatter",
         "x": [
          19.0,
          19.5,
          20.0
         ],
         "y": [
          -1.89583333,
          -1.89583333,
          -1.89583333
         ]
        },
        {
         "hoverinfo": "text",
         "legendgroup": "lines",
         "line": {
          "color": "rgb(0.0,0.0,186.5909090909091)",
          "dash": "solid",
          "width": 2
         },
         "mode": "lines",
         "name": "lines",
         "showlegend": false,
         "text": "Line_64.0-65.0<br />I = 5.217 %<br />I_from = 0.016 kA<br />I_to = 0.016 kA<br />",
         "type": "scatter",
         "x": [
          20.0,
          20.5,
          21.0
         ],
         "y": [
          -1.89583333,
          -1.89583333,
          -1.89583333
         ]
        },
        {
         "hoverinfo": "text",
         "legendgroup": "lines",
         "line": {
          "color": "rgb(0.0,0.0,136.5909090909091)",
          "dash": "solid",
          "width": 2
         },
         "mode": "lines",
         "name": "lines",
         "showlegend": false,
         "text": "Line_11.0-66.0<br />I = 0.993 %<br />I_from = 0.002 kA<br />I_to = 0.002 kA<br />",
         "type": "scatter",
         "x": [
          10.0,
          10.5,
          11.0
         ],
         "y": [
          -3.64583333,
          -3.27083333,
          -2.89583333
         ]
        },
        {
         "hoverinfo": "text",
         "legendgroup": "lines",
         "line": {
          "color": "rgb(0.0,0.0,132.04545454545453)",
          "dash": "solid",
          "width": 2
         },
         "mode": "lines",
         "name": "lines",
         "showlegend": false,
         "text": "Line_66.0-67.0<br />I = 0.496 %<br />I_from = 0.001 kA<br />I_to = 0.001 kA<br />",
         "type": "scatter",
         "x": [
          11.0,
          11.5,
          12.0
         ],
         "y": [
          -2.89583333,
          -2.89583333,
          -2.89583333
         ]
        },
        {
         "hoverinfo": "text",
         "legendgroup": "lines",
         "line": {
          "color": "rgb(0.0,0.0,141.13636363636363)",
          "dash": "solid",
          "width": 2
         },
         "mode": "lines",
         "name": "lines",
         "showlegend": false,
         "text": "Line_12.0-68.0<br />I = 1.546 %<br />I_from = 0.003 kA<br />I_to = 0.003 kA<br />",
         "type": "scatter",
         "x": [
          11.0,
          11.5,
          12.0
         ],
         "y": [
          -4.39583333,
          -4.14583333,
          -3.89583333
         ]
        },
        {
         "hoverinfo": "text",
         "legendgroup": "lines",
         "line": {
          "color": "rgb(0.0,0.0,132.04545454545453)",
          "dash": "solid",
          "width": 2
         },
         "mode": "lines",
         "name": "lines",
         "showlegend": false,
         "text": "Line_68.0-69.0<br />I = 0.773 %<br />I_from = 0.002 kA<br />I_to = 0.002 kA<br />",
         "type": "scatter",
         "x": [
          12.0,
          12.5,
          13.0
         ],
         "y": [
          -3.89583333,
          -3.89583333,
          -3.89583333
         ]
        },
        {
         "hoverinfo": "text",
         "legendgroup": "lines",
         "line": {
          "color": "rgb(44.354838709677416,255.0,202.4193548387097)",
          "dash": "solid",
          "width": 2
         },
         "mode": "lines",
         "name": "lines",
         "showlegend": false,
         "text": "Tie_Line_50-59<br />I = 40.589 %<br />I_from = 0.081 kA<br />I_to = 0.081 kA<br />",
         "type": "scatter",
         "x": [
          7.0,
          11.0,
          15.0
         ],
         "y": [
          -0.83333333,
          -1.36458333,
          -1.89583333
         ]
        },
        {
         "hoverinfo": "text",
         "legendgroup": "lines",
         "line": {
          "color": "rgb(0.0,20.49999999999997,255.0)",
          "dash": "solid",
          "width": 2
         },
         "mode": "lines",
         "name": "lines",
         "showlegend": false,
         "text": "Tie_Line_11-44<br />I = 14.689 %<br />I_from = 0.029 kA<br />I_to = 0.029 kA<br />",
         "type": "scatter",
         "x": [
          10.0,
          10.5,
          11.0
         ],
         "y": [
          -3.64583333,
          -1.23958333,
          1.16666667
         ]
        },
        {
         "hoverinfo": "text",
         "legendgroup": "lines",
         "line": {
          "color": "rgb(0.0,36.49999999999997,255.0)",
          "dash": "solid",
          "width": 2
         },
         "mode": "lines",
         "name": "lines",
         "showlegend": false,
         "text": "Tie_Line_13-21<br />I = 16.08 %<br />I_from = 0.032 kA<br />I_to = 0.032 kA<br />",
         "type": "scatter",
         "x": [
          12.0,
          16.0,
          20.0
         ],
         "y": [
          -4.89583333,
          -4.89583333,
          -4.89583333
         ]
        },
        {
         "hoverinfo": "text",
         "legendgroup": "lines",
         "line": {
          "color": "rgb(0.0,0.0,232.04545454545453)",
          "dash": "solid",
          "width": 2
         },
         "mode": "lines",
         "name": "lines",
         "showlegend": false,
         "text": "Tie_Line_65-27<br />I = 9.164 %<br />I_from = 0.018 kA<br />I_to = 0.018 kA<br />",
         "type": "scatter",
         "x": [
          21.0,
          23.5,
          26.0
         ],
         "y": [
          -1.89583333,
          -3.3958333300000003,
          -4.89583333
         ]
        },
        {
         "hoverinfo": "text",
         "legendgroup": "lines",
         "marker": {
          "color": "rgb(128, 128, 128)",
          "size": 1,
          "symbol": "circle"
         },
         "mode": "markers",
         "name": "edge_center",
         "showlegend": false,
         "text": [
          "Line_1.0-2.0<br />I = 52.592 %<br />I_from = 0.21 kA<br />I_to = 0.21 kA<br />",
          "Line_2.0-3.0<br />I = 52.592 %<br />I_from = 0.21 kA<br />I_to = 0.21 kA<br />",
          "Line_3.0-4.0<br />I = 41.524 %<br />I_from = 0.166 kA<br />I_to = 0.166 kA<br />",
          "Line_4.0-5.0<br />I = 10.217 %<br />I_from = 0.041 kA<br />I_to = 0.041 kA<br />",
          "Line_5.0-6.0<br />I = 10.217 %<br />I_from = 0.041 kA<br />I_to = 0.041 kA<br />",
          "Line_6.0-7.0<br />I = 10.182 %<br />I_from = 0.041 kA<br />I_to = 0.041 kA<br />",
          "Line_7.0-8.0<br />I = 9.658 %<br />I_from = 0.039 kA<br />I_to = 0.039 kA<br />",
          "Line_8.0-9.0<br />I = 8.146 %<br />I_from = 0.033 kA<br />I_to = 0.033 kA<br />",
          "Line_9.0-10.0<br />I = 7.771 %<br />I_from = 0.031 kA<br />I_to = 0.031 kA<br />",
          "Line_10.0-11.0<br />I = 14.854 %<br />I_from = 0.03 kA<br />I_to = 0.03 kA<br />",
          "Line_11.0-12.0<br />I = 23.559 %<br />I_from = 0.047 kA<br />I_to = 0.047 kA<br />",
          "Line_12.0-13.0<br />I = 18.19 %<br />I_from = 0.036 kA<br />I_to = 0.036 kA<br />",
          "Line_13.0-14.0<br />I = 1.917 %<br />I_from = 0.004 kA<br />I_to = 0.004 kA<br />",
          "Line_14.0-15.0<br />I = 1.701 %<br />I_from = 0.003 kA<br />I_to = 0.003 kA<br />",
          "Line_15.0-16.0<br />I = 1.701 %<br />I_from = 0.003 kA<br />I_to = 0.003 kA<br />",
          "Line_16.0-17.0<br />I = 0.525 %<br />I_from = 0.001 kA<br />I_to = 0.001 kA<br />",
          "Line_17.0-18.0<br />I = 1.139 %<br />I_from = 0.002 kA<br />I_to = 0.002 kA<br />",
          "Line_18.0-19.0<br />I = 2.693 %<br />I_from = 0.005 kA<br />I_to = 0.005 kA<br />",
          "Line_19.0-20.0<br />I = 2.693 %<br />I_from = 0.005 kA<br />I_to = 0.005 kA<br />",
          "Line_20.0-21.0<br />I = 2.719 %<br />I_from = 0.005 kA<br />I_to = 0.005 kA<br />",
          "Line_21.0-22.0<br />I = 10.635 %<br />I_from = 0.021 kA<br />I_to = 0.021 kA<br />",
          "Line_22.0-23.0<br />I = 10.513 %<br />I_from = 0.021 kA<br />I_to = 0.021 kA<br />",
          "Line_23.0-24.0<br />I = 10.513 %<br />I_from = 0.021 kA<br />I_to = 0.021 kA<br />",
          "Line_24.0-25.0<br />I = 9.831 %<br />I_from = 0.02 kA<br />I_to = 0.02 kA<br />",
          "Line_25.0-26.0<br />I = 9.831 %<br />I_from = 0.02 kA<br />I_to = 0.02 kA<br />",
          "Line_26.0-27.0<br />I = 9.496 %<br />I_from = 0.019 kA<br />I_to = 0.019 kA<br />",
          "Line_3.0-28.0<br />I = 2.488 %<br />I_from = 0.005 kA<br />I_to = 0.005 kA<br />",
          "Line_28.0-29.0<br />I = 1.781 %<br />I_from = 0.004 kA<br />I_to = 0.004 kA<br />",
          "Line_29.0-30.0<br />I = 1.073 %<br />I_from = 0.002 kA<br />I_to = 0.002 kA<br />",
          "Line_30.0-31.0<br />I = 1.073 %<br />I_from = 0.002 kA<br />I_to = 0.002 kA<br />",
          "Line_31.0-32.0<br />I = 1.073 %<br />I_from = 0.002 kA<br />I_to = 0.002 kA<br />",
          "Line_32.0-33.0<br />I = 1.073 %<br />I_from = 0.002 kA<br />I_to = 0.002 kA<br />",
          "Line_33.0-34.0<br />I = 0.692 %<br />I_from = 0.001 kA<br />I_to = 0.001 kA<br />",
          "Line_34.0-35.0<br />I = 0.16 %<br />I_from = 0.0 kA<br />I_to = 0.0 kA<br />",
          "Line_3.0-36.0<br />I = 19.698 %<br />I_from = 0.039 kA<br />I_to = 0.039 kA<br />",
          "Line_36.0-37.0<br />I = 18.992 %<br />I_from = 0.038 kA<br />I_to = 0.038 kA<br />",
          "Line_37.0-38.0<br />I = 18.286 %<br />I_from = 0.037 kA<br />I_to = 0.037 kA<br />",
          "Line_38.0-39.0<br />I = 18.286 %<br />I_from = 0.037 kA<br />I_to = 0.037 kA<br />",
          "Line_39.0-40.0<br />I = 17.636 %<br />I_from = 0.035 kA<br />I_to = 0.035 kA<br />",
          "Line_40.0-41.0<br />I = 16.986 %<br />I_from = 0.034 kA<br />I_to = 0.034 kA<br />",
          "Line_41.0-42.0<br />I = 16.951 %<br />I_from = 0.034 kA<br />I_to = 0.034 kA<br />",
          "Line_42.0-43.0<br />I = 16.951 %<br />I_from = 0.034 kA<br />I_to = 0.034 kA<br />",
          "Line_43.0-44.0<br />I = 16.786 %<br />I_from = 0.034 kA<br />I_to = 0.034 kA<br />",
          "Line_44.0-45.0<br />I = 2.111 %<br />I_from = 0.004 kA<br />I_to = 0.004 kA<br />",
          "Line_45.0-46.0<br />I = 1.055 %<br />I_from = 0.002 kA<br />I_to = 0.002 kA<br />",
          "Line_4.0-47.0<br />I = 42.604 %<br />I_from = 0.128 kA<br />I_to = 0.128 kA<br />",
          "Line_47.0-48.0<br />I = 42.604 %<br />I_from = 0.128 kA<br />I_to = 0.128 kA<br />",
          "Line_48.0-49.0<br />I = 41.171 %<br />I_from = 0.124 kA<br />I_to = 0.124 kA<br />",
          "Line_49.0-50.0<br />I = 34.118 %<br />I_from = 0.102 kA<br />I_to = 0.102 kA<br />",
          "Line_8.0-51.0<br />I = 1.2 %<br />I_from = 0.002 kA<br />I_to = 0.002 kA<br />",
          "Line_51.0-52.0<br />I = 0.1 %<br />I_from = 0.0 kA<br />I_to = 0.0 kA<br />",
          "Line_53.0-54.0<br />I = 0.084 %<br />I_from = 0.0 kA<br />I_to = 0.0 kA<br />",
          "Line_54.0-55.0<br />I = 0.574 %<br />I_from = 0.002 kA<br />I_to = 0.002 kA<br />",
          "Line_55.0-56.0<br />I = 1.019 %<br />I_from = 0.003 kA<br />I_to = 0.003 kA<br />",
          "Line_56.0-57.0<br />I = 1.019 %<br />I_from = 0.003 kA<br />I_to = 0.003 kA<br />",
          "Line_57.0-58.0<br />I = 1.019 %<br />I_from = 0.003 kA<br />I_to = 0.003 kA<br />",
          "Line_58.0-59.0<br />I = 1.019 %<br />I_from = 0.003 kA<br />I_to = 0.003 kA<br />",
          "Line_59.0-60.0<br />I = 24.208 %<br />I_from = 0.073 kA<br />I_to = 0.073 kA<br />",
          "Line_60.0-61.0<br />I = 24.208 %<br />I_from = 0.073 kA<br />I_to = 0.073 kA<br />",
          "Line_61.0-62.0<br />I = 3.384 %<br />I_from = 0.01 kA<br />I_to = 0.01 kA<br />",
          "Line_62.0-63.0<br />I = 3.295 %<br />I_from = 0.01 kA<br />I_to = 0.01 kA<br />",
          "Line_63.0-64.0<br />I = 3.295 %<br />I_from = 0.01 kA<br />I_to = 0.01 kA<br />",
          "Line_64.0-65.0<br />I = 5.217 %<br />I_from = 0.016 kA<br />I_to = 0.016 kA<br />",
          "Line_11.0-66.0<br />I = 0.993 %<br />I_from = 0.002 kA<br />I_to = 0.002 kA<br />",
          "Line_66.0-67.0<br />I = 0.496 %<br />I_from = 0.001 kA<br />I_to = 0.001 kA<br />",
          "Line_12.0-68.0<br />I = 1.546 %<br />I_from = 0.003 kA<br />I_to = 0.003 kA<br />",
          "Line_68.0-69.0<br />I = 0.773 %<br />I_from = 0.002 kA<br />I_to = 0.002 kA<br />",
          "Tie_Line_50-59<br />I = 40.589 %<br />I_from = 0.081 kA<br />I_to = 0.081 kA<br />",
          "Tie_Line_11-44<br />I = 14.689 %<br />I_from = 0.029 kA<br />I_to = 0.029 kA<br />",
          "Tie_Line_13-21<br />I = 16.08 %<br />I_from = 0.032 kA<br />I_to = 0.032 kA<br />",
          "Tie_Line_65-27<br />I = 9.164 %<br />I_from = 0.018 kA<br />I_to = 0.018 kA<br />"
         ],
         "type": "scatter",
         "x": [
          0.5
         ],
         "y": [
          0.0
         ]
        },
        {
         "hoverinfo": "text",
         "marker": {
          "color": "rgb(128, 128, 128)",
          "size": 20,
          "symbol": "square"
         },
         "mode": "markers",
         "name": "external_grid",
         "text": [
          "Bus_1"
         ],
         "type": "scatter",
         "x": [
          0.0
         ],
         "y": [
          0.0
         ]
        },
        {
         "hoverinfo": "text",
         "marker": {
          "cmax": 1.1,
          "cmin": 0.9,
          "color": {
           "bdata": "exSuR+F68D8NwCLvv3rwP9lYsZaeevA/3pxFXFB68D+a4+mMkXnwPyKJ8TJPcPA/TFUYzrRm8D+c+4mjgmTwPx2iAzeJY/A/TqZVIqdU8D/KVZlpaVHwP7fdJTGvPfA/KoR8bJIn8D/xfiUROiXwP08T6QIdI/A/NFjXdrgi8D+EocuWfyLwPyiwVhGBIvA/wwg7iH8j8D8I3v7WIiTwPzDKxtQuJfA/37YIlAIl8D+5nwDlESPwP022DdTYHvA/kAbYul8W8D/894D84BLwPyjU3tn+EPA/3bdcjpd68D+J5DySTnrwP+eL0UTTefA/f+XAgr158D9hG5a4UHnwP4ZDB+pLePA/mbyyY/Z28D+Yq+PDsXbwP3tKp7JkevA/Psg+3zl38D+qWKv69HPwPx5T82cDc/A/+kxynPVy8D/IzDvE713wP3V37I8BVfA/xwh4kdNT8D/Kt+DBjVPwP8xo06woU/A/3eMTPyhT8D+bvnkmvXnwPwq3FWxxa/A/wnCfb2488D9rJowlTzHwP6AHKiRfZPA/OOFunFVk8D/JmQHL8yXwPx2989z7JfA/fyXonUkm8D+TAfdS0ibwP7id+PePKfA/qsN0zukq8D/ZMtOqbyvwP0Ft4yu3HPA/2A9zsHcG8D/tpXIcagbwPwcJ+WN/BvA/39DkDOgG8D9oY/iPuw/wP+icOsEwUfA/8e9mGDBR8D8a8kczZTzwP3JJQiVkPPA/",
           "dtype": "f8"
          },
          "colorbar": {
           "thickness": 10,
           "title": {
            "side": "right",
            "text": "Bus Voltage [pu]"
           },
           "x": 1.0
          },
          "colorscale": [
           [
            0.0,
            "rgb(0,0,131)"
           ],
           [
            0.2,
            "rgb(0,60,170)"
           ],
           [
            0.4,
            "rgb(5,255,255)"
           ],
           [
            0.6,
            "rgb(255,255,0)"
           ],
           [
            0.8,
            "rgb(250,0,0)"
           ],
           [
            1.0,
            "rgb(128,0,0)"
           ]
          ],
          "size": 10,
          "symbol": "circle"
         },
         "mode": "markers",
         "name": "buses",
         "text": [
          "Bus_1<br />V_m = 1.03 pu<br />V_m = 13.04 kV<br />V_a = 0.0 deg",
          "Bus_2<br />V_m = 1.03 pu<br />V_m = 13.039 kV<br />V_a = -0.001 deg",
          "Bus_3<br />V_m = 1.03 pu<br />V_m = 13.039 kV<br />V_a = -0.002 deg",
          "Bus_4<br />V_m = 1.03 pu<br />V_m = 13.038 kV<br />V_a = -0.005 deg",
          "Bus_5<br />V_m = 1.03 pu<br />V_m = 13.036 kV<br />V_a = -0.011 deg",
          "Bus_6<br />V_m = 1.027 pu<br />V_m = 13.007 kV<br />V_a = -0.034 deg",
          "Bus_7<br />V_m = 1.025 pu<br />V_m = 12.977 kV<br />V_a = -0.058 deg",
          "Bus_8<br />V_m = 1.025 pu<br />V_m = 12.971 kV<br />V_a = -0.064 deg",
          "Bus_9<br />V_m = 1.024 pu<br />V_m = 12.968 kV<br />V_a = -0.067 deg",
          "Bus_10<br />V_m = 1.021 pu<br />V_m = 12.922 kV<br />V_a = -0.096 deg",
          "Bus_11<br />V_m = 1.02 pu<br />V_m = 12.912 kV<br />V_a = -0.103 deg",
          "Bus_12<br />V_m = 1.015 pu<br />V_m = 12.851 kV<br />V_a = -0.082 deg",
          "Bus_13<br />V_m = 1.01 pu<br />V_m = 12.782 kV<br />V_a = -0.08 deg",
          "Bus_14<br />V_m = 1.009 pu<br />V_m = 12.775 kV<br />V_a = -0.076 deg",
          "Bus_15<br />V_m = 1.009 pu<br />V_m = 12.769 kV<br />V_a = -0.073 deg",
          "Bus_16<br />V_m = 1.008 pu<br />V_m = 12.767 kV<br />V_a = -0.073 deg",
          "Bus_17<br />V_m = 1.008 pu<br />V_m = 12.767 kV<br />V_a = -0.074 deg",
          "Bus_18<br />V_m = 1.008 pu<br />V_m = 12.767 kV<br />V_a = -0.074 deg",
          "Bus_19<br />V_m = 1.009 pu<br />V_m = 12.77 kV<br />V_a = -0.078 deg",
          "Bus_20<br />V_m = 1.009 pu<br />V_m = 12.772 kV<br />V_a = -0.081 deg",
          "Bus_21<br />V_m = 1.009 pu<br />V_m = 12.775 kV<br />V_a = -0.085 deg",
          "Bus_22<br />V_m = 1.009 pu<br />V_m = 12.774 kV<br />V_a = -0.086 deg",
          "Bus_23<br />V_m = 1.009 pu<br />V_m = 12.768 kV<br />V_a = -0.091 deg",
          "Bus_24<br />V_m = 1.008 pu<br />V_m = 12.755 kV<br />V_a = -0.102 deg",
          "Bus_25<br />V_m = 1.005 pu<br />V_m = 12.729 kV<br />V_a = -0.129 deg",
          "Bus_26<br />V_m = 1.005 pu<br />V_m = 12.718 kV<br />V_a = -0.14 deg",
          "Bus_27<br />V_m = 1.004 pu<br />V_m = 12.713 kV<br />V_a = -0.146 deg",
          "Bus_28<br />V_m = 1.03 pu<br />V_m = 13.039 kV<br />V_a = -0.002 deg",
          "Bus_29<br />V_m = 1.03 pu<br />V_m = 13.038 kV<br />V_a = -0.005 deg",
          "Bus_30<br />V_m = 1.03 pu<br />V_m = 13.037 kV<br />V_a = -0.003 deg",
          "Bus_31<br />V_m = 1.03 pu<br />V_m = 13.036 kV<br />V_a = -0.003 deg",
          "Bus_32<br />V_m = 1.03 pu<br />V_m = 13.035 kV<br />V_a = -0.001 deg",
          "Bus_33<br />V_m = 1.029 pu<br />V_m = 13.032 kV<br />V_a = 0.003 deg",
          "Bus_34<br />V_m = 1.029 pu<br />V_m = 13.028 kV<br />V_a = 0.009 deg",
          "Bus_35<br />V_m = 1.029 pu<br />V_m = 13.027 kV<br />V_a = 0.01 deg",
          "Bus_36<br />V_m = 1.03 pu<br />V_m = 13.038 kV<br />V_a = -0.004 deg",
          "Bus_37<br />V_m = 1.029 pu<br />V_m = 13.029 kV<br />V_a = -0.027 deg",
          "Bus_38<br />V_m = 1.028 pu<br />V_m = 13.018 kV<br />V_a = -0.035 deg",
          "Bus_39<br />V_m = 1.028 pu<br />V_m = 13.015 kV<br />V_a = -0.037 deg",
          "Bus_40<br />V_m = 1.028 pu<br />V_m = 13.015 kV<br />V_a = -0.037 deg",
          "Bus_41<br />V_m = 1.023 pu<br />V_m = 12.95 kV<br />V_a = -0.086 deg",
          "Bus_42<br />V_m = 1.021 pu<br />V_m = 12.923 kV<br />V_a = -0.107 deg",
          "Bus_43<br />V_m = 1.02 pu<br />V_m = 12.919 kV<br />V_a = -0.109 deg",
          "Bus_44<br />V_m = 1.02 pu<br />V_m = 12.918 kV<br />V_a = -0.11 deg",
          "Bus_45<br />V_m = 1.02 pu<br />V_m = 12.917 kV<br />V_a = -0.112 deg",
          "Bus_46<br />V_m = 1.02 pu<br />V_m = 12.917 kV<br />V_a = -0.112 deg",
          "Bus_47<br />V_m = 1.03 pu<br />V_m = 13.036 kV<br />V_a = -0.009 deg",
          "Bus_48<br />V_m = 1.026 pu<br />V_m = 12.992 kV<br />V_a = -0.11 deg",
          "Bus_49<br />V_m = 1.015 pu<br />V_m = 12.847 kV<br />V_a = -0.446 deg",
          "Bus_50<br />V_m = 1.012 pu<br />V_m = 12.812 kV<br />V_a = -0.524 deg",
          "Bus_51<br />V_m = 1.025 pu<br />V_m = 12.97 kV<br />V_a = -0.063 deg",
          "Bus_52<br />V_m = 1.024 pu<br />V_m = 12.97 kV<br />V_a = -0.063 deg",
          "Bus_53<br />V_m = 1.009 pu<br />V_m = 12.777 kV<br />V_a = -0.479 deg",
          "Bus_54<br />V_m = 1.009 pu<br />V_m = 12.777 kV<br />V_a = -0.479 deg",
          "Bus_55<br />V_m = 1.009 pu<br />V_m = 12.778 kV<br />V_a = -0.48 deg",
          "Bus_56<br />V_m = 1.009 pu<br />V_m = 12.78 kV<br />V_a = -0.481 deg",
          "Bus_57<br />V_m = 1.01 pu<br />V_m = 12.788 kV<br />V_a = -0.493 deg",
          "Bus_58<br />V_m = 1.01 pu<br />V_m = 12.793 kV<br />V_a = -0.499 deg",
          "Bus_59<br />V_m = 1.011 pu<br />V_m = 12.794 kV<br />V_a = -0.501 deg",
          "Bus_60<br />V_m = 1.007 pu<br />V_m = 12.749 kV<br />V_a = -0.4 deg",
          "Bus_61<br />V_m = 1.002 pu<br />V_m = 12.68 kV<br />V_a = -0.309 deg",
          "Bus_62<br />V_m = 1.002 pu<br />V_m = 12.68 kV<br />V_a = -0.301 deg",
          "Bus_63<br />V_m = 1.002 pu<br />V_m = 12.68 kV<br />V_a = -0.288 deg",
          "Bus_64<br />V_m = 1.002 pu<br />V_m = 12.681 kV<br />V_a = -0.227 deg",
          "Bus_65<br />V_m = 1.004 pu<br />V_m = 12.709 kV<br />V_a = -0.154 deg",
          "Bus_66<br />V_m = 1.02 pu<br />V_m = 12.911 kV<br />V_a = -0.102 deg",
          "Bus_67<br />V_m = 1.02 pu<br />V_m = 12.911 kV<br />V_a = -0.102 deg",
          "Bus_68<br />V_m = 1.015 pu<br />V_m = 12.847 kV<br />V_a = -0.077 deg",
          "Bus_69<br />V_m = 1.015 pu<br />V_m = 12.847 kV<br />V_a = -0.077 deg"
         ],
         "type": "scatter",
         "x": [
          0.0,
          1.0,
          2.0,
          3.0,
          4.0,
          5.0,
          6.0,
          7.0,
          8.0,
          9.0,
          10.0,
          11.0,
          12.0,
          13.0,
          14.0,
          15.0,
          16.0,
          17.0,
          18.0,
          19.0,
          20.0,
          21.0,
          22.0,
          23.0,
          24.0,
          25.0,
          26.0,
          3.0,
          4.0,
          5.0,
          6.0,
          7.0,
          8.0,
          9.0,
          10.0,
          3.0,
          4.0,
          5.0,
          6.0,
          7.0,
          8.0,
          9.0,
          10.0,
          11.0,
          12.0,
          13.0,
          4.0,
          5.0,
          6.0,
          7.0,
          8.0,
          9.0,
          9.0,
          10.0,
          11.0,
          12.0,
          13.0,
          14.0,
          15.0,
          16.0,
          17.0,
          18.0,
          19.0,
          20.0,
          21.0,
          11.0,
          12.0,
          12.0,
          13.0
         ],
         "y": [
          0.0,
          0.0,
          0.0,
          -1.33333333,
          -1.83333333,
          -1.83333333,
          -1.83333333,
          -1.83333333,
          -2.77083333,
          -3.64583333,
          -3.64583333,
          -4.39583333,
          -4.89583333,
          -4.89583333,
          -4.89583333,
          -4.89583333,
          -4.89583333,
          -4.89583333,
          -4.89583333,
          -4.89583333,
          -4.89583333,
          -4.89583333,
          -4.89583333,
          -4.89583333,
          -4.89583333,
          -4.89583333,
          -4.89583333,
          0.16666667,
          0.16666667,
          0.16666667,
          0.16666667,
          0.16666667,
          0.16666667,
          0.16666667,
          0.16666667,
          1.16666667,
          1.16666667,
          1.16666667,
          1.16666667,
          1.16666667,
          1.16666667,
          1.16666667,
          1.16666667,
          1.16666667,
          1.16666667,
          1.16666667,
          -0.83333333,
          -0.83333333,
          -0.83333333,
          -0.83333333,
          -0.89583333,
          -0.89583333,
          -1.89583333,
          -1.89583333,
          -1.89583333,
          -1.89583333,
          -1.89583333,
          -1.89583333,
          -1.89583333,
          -1.89583333,
          -1.89583333,
          -1.89583333,
          -1.89583333,
          -1.89583333,
          -1.89583333,
          -2.89583333,
          -2.89583333,
          -3.89583333,
          -3.89583333
         ]
        }
       ],
       "layout": {
        "autosize": true,
        "height": 163.22115384615384,
        "hovermode": "closest",
        "legend": {
         "itemsizing": "constant"
        },
        "margin": {
         "b": 5,
         "l": 5,
         "r": 5,
         "t": 5
        },
        "showlegend": false,
        "template": {
         "data": {
          "bar": [
           {
            "error_x": {
             "color": "#2a3f5f"
            },
            "error_y": {
             "color": "#2a3f5f"
            },
            "marker": {
             "line": {
              "color": "#E5ECF6",
              "width": 0.5
             },
             "pattern": {
              "fillmode": "overlay",
              "size": 10,
              "solidity": 0.2
             }
            },
            "type": "bar"
           }
          ],
          "barpolar": [
           {
            "marker": {
             "line": {
              "color": "#E5ECF6",
              "width": 0.5
             },
             "pattern": {
              "fillmode": "overlay",
              "size": 10,
              "solidity": 0.2
             }
            },
            "type": "barpolar"
           }
          ],
          "carpet": [
           {
            "aaxis": {
             "endlinecolor": "#2a3f5f",
             "gridcolor": "white",
             "linecolor": "white",
             "minorgridcolor": "white",
             "startlinecolor": "#2a3f5f"
            },
            "baxis": {
             "endlinecolor": "#2a3f5f",
             "gridcolor": "white",
             "linecolor": "white",
             "minorgridcolor": "white",
             "startlinecolor": "#2a3f5f"
            },
            "type": "carpet"
           }
          ],
          "choropleth": [
           {
            "colorbar": {
             "outlinewidth": 0,
             "ticks": ""
            },
            "type": "choropleth"
           }
          ],
          "contour": [
           {
            "colorbar": {
             "outlinewidth": 0,
             "ticks": ""
            },
            "colorscale": [
             [
              0.0,
              "#0d0887"
             ],
             [
              0.1111111111111111,
              "#46039f"
             ],
             [
              0.2222222222222222,
              "#7201a8"
             ],
             [
              0.3333333333333333,
              "#9c179e"
             ],
             [
              0.4444444444444444,
              "#bd3786"
             ],
             [
              0.5555555555555556,
              "#d8576b"
             ],
             [
              0.6666666666666666,
              "#ed7953"
             ],
             [
              0.7777777777777778,
              "#fb9f3a"
             ],
             [
              0.8888888888888888,
              "#fdca26"
             ],
             [
              1.0,
              "#f0f921"
             ]
            ],
            "type": "contour"
           }
          ],
          "contourcarpet": [
           {
            "colorbar": {
             "outlinewidth": 0,
             "ticks": ""
            },
            "type": "contourcarpet"
           }
          ],
          "heatmap": [
           {
            "colorbar": {
             "outlinewidth": 0,
             "ticks": ""
            },
            "colorscale": [
             [
              0.0,
              "#0d0887"
             ],
             [
              0.1111111111111111,
              "#46039f"
             ],
             [
              0.2222222222222222,
              "#7201a8"
             ],
             [
              0.3333333333333333,
              "#9c179e"
             ],
             [
              0.4444444444444444,
              "#bd3786"
             ],
             [
              0.5555555555555556,
              "#d8576b"
             ],
             [
              0.6666666666666666,
              "#ed7953"
             ],
             [
              0.7777777777777778,
              "#fb9f3a"
             ],
             [
              0.8888888888888888,
              "#fdca26"
             ],
             [
              1.0,
              "#f0f921"
             ]
            ],
            "type": "heatmap"
           }
          ],
          "histogram": [
           {
            "marker": {
             "pattern": {
              "fillmode": "overlay",
              "size": 10,
              "solidity": 0.2
             }
            },
            "type": "histogram"
           }
          ],
          "histogram2d": [
           {
            "colorbar": {
             "outlinewidth": 0,
             "ticks": ""
            },
            "colorscale": [
             [
              0.0,
              "#0d0887"
             ],
             [
              0.1111111111111111,
              "#46039f"
             ],
             [
              0.2222222222222222,
              "#7201a8"
             ],
             [
              0.3333333333333333,
              "#9c179e"
             ],
             [
              0.4444444444444444,
              "#bd3786"
             ],
             [
              0.5555555555555556,
              "#d8576b"
             ],
             [
              0.6666666666666666,
              "#ed7953"
             ],
             [
              0.7777777777777778,
              "#fb9f3a"
             ],
             [
              0.8888888888888888,
              "#fdca26"
             ],
             [
              1.0,
              "#f0f921"
             ]
            ],
            "type": "histogram2d"
           }
          ],
          "histogram2dcontour": [
           {
            "colorbar": {
             "outlinewidth": 0,
             "ticks": ""
            },
            "colorscale": [
             [
              0.0,
              "#0d0887"
             ],
             [
              0.1111111111111111,
              "#46039f"
             ],
             [
              0.2222222222222222,
              "#7201a8"
             ],
             [
              0.3333333333333333,
              "#9c179e"
             ],
             [
              0.4444444444444444,
              "#bd3786"
             ],
             [
              0.5555555555555556,
              "#d8576b"
             ],
             [
              0.6666666666666666,
              "#ed7953"
             ],
             [
              0.7777777777777778,
              "#fb9f3a"
             ],
             [
              0.8888888888888888,
              "#fdca26"
             ],
             [
              1.0,
              "#f0f921"
             ]
            ],
            "type": "histogram2dcontour"
           }
          ],
          "mesh3d": [
           {
            "colorbar": {
             "outlinewidth": 0,
             "ticks": ""
            },
            "type": "mesh3d"
           }
          ],
          "parcoords": [
           {
            "line": {
             "colorbar": {
              "outlinewidth": 0,
              "ticks": ""
             }
            },
            "type": "parcoords"
           }
          ],
          "pie": [
           {
            "automargin": true,
            "type": "pie"
           }
          ],
          "scatter": [
           {
            "fillpattern": {
             "fillmode": "overlay",
             "size": 10,
             "solidity": 0.2
            },
            "type": "scatter"
           }
          ],
          "scatter3d": [
           {
            "line": {
             "colorbar": {
              "outlinewidth": 0,
              "ticks": ""
             }
            },
            "marker": {
             "colorbar": {
              "outlinewidth": 0,
              "ticks": ""
             }
            },
            "type": "scatter3d"
           }
          ],
          "scattercarpet": [
           {
            "marker": {
             "colorbar": {
              "outlinewidth": 0,
              "ticks": ""
             }
            },
            "type": "scattercarpet"
           }
          ],
          "scattergeo": [
           {
            "marker": {
             "colorbar": {
              "outlinewidth": 0,
              "ticks": ""
             }
            },
            "type": "scattergeo"
           }
          ],
          "scattergl": [
           {
            "marker": {
             "colorbar": {
              "outlinewidth": 0,
              "ticks": ""
             }
            },
            "type": "scattergl"
           }
          ],
          "scattermap": [
           {
            "marker": {
             "colorbar": {
              "outlinewidth": 0,
              "ticks": ""
             }
            },
            "type": "scattermap"
           }
          ],
          "scattermapbox": [
           {
            "marker": {
             "colorbar": {
              "outlinewidth": 0,
              "ticks": ""
             }
            },
            "type": "scattermapbox"
           }
          ],
          "scatterpolar": [
           {
            "marker": {
             "colorbar": {
              "outlinewidth": 0,
              "ticks": ""
             }
            },
            "type": "scatterpolar"
           }
          ],
          "scatterpolargl": [
           {
            "marker": {
             "colorbar": {
              "outlinewidth": 0,
              "ticks": ""
             }
            },
            "type": "scatterpolargl"
           }
          ],
          "scatterternary": [
           {
            "marker": {
             "colorbar": {
              "outlinewidth": 0,
              "ticks": ""
             }
            },
            "type": "scatterternary"
           }
          ],
          "surface": [
           {
            "colorbar": {
             "outlinewidth": 0,
             "ticks": ""
            },
            "colorscale": [
             [
              0.0,
              "#0d0887"
             ],
             [
              0.1111111111111111,
              "#46039f"
             ],
             [
              0.2222222222222222,
              "#7201a8"
             ],
             [
              0.3333333333333333,
              "#9c179e"
             ],
             [
              0.4444444444444444,
              "#bd3786"
             ],
             [
              0.5555555555555556,
              "#d8576b"
             ],
             [
              0.6666666666666666,
              "#ed7953"
             ],
             [
              0.7777777777777778,
              "#fb9f3a"
             ],
             [
              0.8888888888888888,
              "#fdca26"
             ],
             [
              1.0,
              "#f0f921"
             ]
            ],
            "type": "surface"
           }
          ],
          "table": [
           {
            "cells": {
             "fill": {
              "color": "#EBF0F8"
             },
             "line": {
              "color": "white"
             }
            },
            "header": {
             "fill": {
              "color": "#C8D4E3"
             },
             "line": {
              "color": "white"
             }
            },
            "type": "table"
           }
          ]
         },
         "layout": {
          "annotationdefaults": {
           "arrowcolor": "#2a3f5f",
           "arrowhead": 0,
           "arrowwidth": 1
          },
          "autotypenumbers": "strict",
          "coloraxis": {
           "colorbar": {
            "outlinewidth": 0,
            "ticks": ""
           }
          },
          "colorscale": {
           "diverging": [
            [
             0,
             "#8e0152"
            ],
            [
             0.1,
             "#c51b7d"
            ],
            [
             0.2,
             "#de77ae"
            ],
            [
             0.3,
             "#f1b6da"
            ],
            [
             0.4,
             "#fde0ef"
            ],
            [
             0.5,
             "#f7f7f7"
            ],
            [
             0.6,
             "#e6f5d0"
            ],
            [
             0.7,
             "#b8e186"
            ],
            [
             0.8,
             "#7fbc41"
            ],
            [
             0.9,
             "#4d9221"
            ],
            [
             1,
             "#276419"
            ]
           ],
           "sequential": [
            [
             0.0,
             "#0d0887"
            ],
            [
             0.1111111111111111,
             "#46039f"
            ],
            [
             0.2222222222222222,
             "#7201a8"
            ],
            [
             0.3333333333333333,
             "#9c179e"
            ],
            [
             0.4444444444444444,
             "#bd3786"
            ],
            [
             0.5555555555555556,
             "#d8576b"
            ],
            [
             0.6666666666666666,
             "#ed7953"
            ],
            [
             0.7777777777777778,
             "#fb9f3a"
            ],
            [
             0.8888888888888888,
             "#fdca26"
            ],
            [
             1.0,
             "#f0f921"
            ]
           ],
           "sequentialminus": [
            [
             0.0,
             "#0d0887"
            ],
            [
             0.1111111111111111,
             "#46039f"
            ],
            [
             0.2222222222222222,
             "#7201a8"
            ],
            [
             0.3333333333333333,
             "#9c179e"
            ],
            [
             0.4444444444444444,
             "#bd3786"
            ],
            [
             0.5555555555555556,
             "#d8576b"
            ],
            [
             0.6666666666666666,
             "#ed7953"
            ],
            [
             0.7777777777777778,
             "#fb9f3a"
            ],
            [
             0.8888888888888888,
             "#fdca26"
            ],
            [
             1.0,
             "#f0f921"
            ]
           ]
          },
          "colorway": [
           "#636efa",
           "#EF553B",
           "#00cc96",
           "#ab63fa",
           "#FFA15A",
           "#19d3f3",
           "#FF6692",
           "#B6E880",
           "#FF97FF",
           "#FECB52"
          ],
          "font": {
           "color": "#2a3f5f"
          },
          "geo": {
           "bgcolor": "white",
           "lakecolor": "white",
           "landcolor": "#E5ECF6",
           "showlakes": true,
           "showland": true,
           "subunitcolor": "white"
          },
          "hoverlabel": {
           "align": "left"
          },
          "hovermode": "closest",
          "mapbox": {
           "style": "light"
          },
          "paper_bgcolor": "white",
          "plot_bgcolor": "#E5ECF6",
          "polar": {
           "angularaxis": {
            "gridcolor": "white",
            "linecolor": "white",
            "ticks": ""
           },
           "bgcolor": "#E5ECF6",
           "radialaxis": {
            "gridcolor": "white",
            "linecolor": "white",
            "ticks": ""
           }
          },
          "scene": {
           "xaxis": {
            "backgroundcolor": "#E5ECF6",
            "gridcolor": "white",
            "gridwidth": 2,
            "linecolor": "white",
            "showbackground": true,
            "ticks": "",
            "zerolinecolor": "white"
           },
           "yaxis": {
            "backgroundcolor": "#E5ECF6",
            "gridcolor": "white",
            "gridwidth": 2,
            "linecolor": "white",
            "showbackground": true,
            "ticks": "",
            "zerolinecolor": "white"
           },
           "zaxis": {
            "backgroundcolor": "#E5ECF6",
            "gridcolor": "white",
            "gridwidth": 2,
            "linecolor": "white",
            "showbackground": true,
            "ticks": "",
            "zerolinecolor": "white"
           }
          },
          "shapedefaults": {
           "line": {
            "color": "#2a3f5f"
           }
          },
          "ternary": {
           "aaxis": {
            "gridcolor": "white",
            "linecolor": "white",
            "ticks": ""
           },
           "baxis": {
            "gridcolor": "white",
            "linecolor": "white",
            "ticks": ""
           },
           "bgcolor": "#E5ECF6",
           "caxis": {
            "gridcolor": "white",
            "linecolor": "white",
            "ticks": ""
           }
          },
          "title": {
           "x": 0.05
          },
          "xaxis": {
           "automargin": true,
           "gridcolor": "white",
           "linecolor": "white",
           "ticks": "",
           "title": {
            "standoff": 15
           },
           "zerolinecolor": "white",
           "zerolinewidth": 2
          },
          "yaxis": {
           "automargin": true,
           "gridcolor": "white",
           "linecolor": "white",
           "ticks": "",
           "title": {
            "standoff": 15
           },
           "zerolinecolor": "white",
           "zerolinewidth": 2
          }
         }
        },
        "title": {
         "font": {
          "size": 16
         }
        },
        "width": 700.0,
        "xaxis": {
         "showgrid": false,
         "showticklabels": false,
         "zeroline": false
        },
        "yaxis": {
         "showgrid": false,
         "showticklabels": false,
         "zeroline": false
        }
       }
      }
     },
     "metadata": {},
     "output_type": "display_data"
    }
   ],
   "source": [
    "network.switch.loc[:, \"closed\"] = True\n",
    "pp.runpp(network)\n",
    "pp.plotting.plotly.pf_res_plotly(network, auto_open=False)"
   ]
  },
  {
   "cell_type": "code",
   "execution_count": 565,
   "id": "57759c080424ad0e",
   "metadata": {
    "ExecuteTime": {
     "end_time": "2025-07-22T01:41:47.724594Z",
     "start_time": "2025-07-22T01:41:47.720807Z"
    }
   },
   "outputs": [
    {
     "data": {
      "text/html": [
       "<div>\n",
       "<style scoped>\n",
       "    .dataframe tbody tr th:only-of-type {\n",
       "        vertical-align: middle;\n",
       "    }\n",
       "\n",
       "    .dataframe tbody tr th {\n",
       "        vertical-align: top;\n",
       "    }\n",
       "\n",
       "    .dataframe thead th {\n",
       "        text-align: right;\n",
       "    }\n",
       "</style>\n",
       "<table border=\"1\" class=\"dataframe\">\n",
       "  <thead>\n",
       "    <tr style=\"text-align: right;\">\n",
       "      <th></th>\n",
       "      <th>vm_pu</th>\n",
       "      <th>va_degree</th>\n",
       "      <th>p_mw</th>\n",
       "      <th>q_mvar</th>\n",
       "    </tr>\n",
       "  </thead>\n",
       "  <tbody>\n",
       "  </tbody>\n",
       "</table>\n",
       "</div>"
      ],
      "text/plain": [
       "Empty DataFrame\n",
       "Columns: [vm_pu, va_degree, p_mw, q_mvar]\n",
       "Index: []"
      ]
     },
     "execution_count": 565,
     "metadata": {},
     "output_type": "execute_result"
    }
   ],
   "source": [
    "network.res_bus[(network.res_bus.vm_pu > 1.05) | (network.res_bus.vm_pu < 0.95)]"
   ]
  },
  {
   "cell_type": "code",
   "execution_count": 566,
   "id": "5f72ef192f77155f",
   "metadata": {
    "ExecuteTime": {
     "end_time": "2025-07-22T01:41:47.774419Z",
     "start_time": "2025-07-22T01:41:47.769866Z"
    }
   },
   "outputs": [
    {
     "data": {
      "text/html": [
       "<div>\n",
       "<style scoped>\n",
       "    .dataframe tbody tr th:only-of-type {\n",
       "        vertical-align: middle;\n",
       "    }\n",
       "\n",
       "    .dataframe tbody tr th {\n",
       "        vertical-align: top;\n",
       "    }\n",
       "\n",
       "    .dataframe thead th {\n",
       "        text-align: right;\n",
       "    }\n",
       "</style>\n",
       "<table border=\"1\" class=\"dataframe\">\n",
       "  <thead>\n",
       "    <tr style=\"text-align: right;\">\n",
       "      <th></th>\n",
       "      <th>p_from_mw</th>\n",
       "      <th>q_from_mvar</th>\n",
       "      <th>p_to_mw</th>\n",
       "      <th>q_to_mvar</th>\n",
       "      <th>pl_mw</th>\n",
       "      <th>ql_mvar</th>\n",
       "      <th>i_from_ka</th>\n",
       "      <th>i_to_ka</th>\n",
       "      <th>i_ka</th>\n",
       "      <th>vm_from_pu</th>\n",
       "      <th>va_from_degree</th>\n",
       "      <th>vm_to_pu</th>\n",
       "      <th>va_to_degree</th>\n",
       "      <th>loading_percent</th>\n",
       "    </tr>\n",
       "  </thead>\n",
       "  <tbody>\n",
       "  </tbody>\n",
       "</table>\n",
       "</div>"
      ],
      "text/plain": [
       "Empty DataFrame\n",
       "Columns: [p_from_mw, q_from_mvar, p_to_mw, q_to_mvar, pl_mw, ql_mvar, i_from_ka, i_to_ka, i_ka, vm_from_pu, va_from_degree, vm_to_pu, va_to_degree, loading_percent]\n",
       "Index: []"
      ]
     },
     "execution_count": 566,
     "metadata": {},
     "output_type": "execute_result"
    }
   ],
   "source": [
    "network.res_line[network.res_line.loading_percent > 100]"
   ]
  },
  {
   "cell_type": "code",
   "execution_count": 567,
   "id": "c2b5449e0c3ba1ce",
   "metadata": {
    "ExecuteTime": {
     "end_time": "2025-07-22T01:41:47.856871Z",
     "start_time": "2025-07-22T01:41:47.835007Z"
    }
   },
   "outputs": [],
   "source": [
    "test_case_dir = test_dir / \"ieee69_drop_1_line\"\n",
    "test_case_dir.mkdir(parents=True, exist_ok=True)\n",
    "\n",
    "pp.to_json(test_network3, test_case_dir / \"network.json\")\n",
    "\n",
    "with open(test_case_dir / \"metadata.json\", \"+w\") as f:\n",
    "    json.dump(\n",
    "        {\n",
    "            \"base_network\": \"ieee69\",\n",
    "            \"severity\": \"severe\",\n",
    "            \"test_case\": \"drop_1_line\",\n",
    "            \"solutions\": [\n",
    "                {\n",
    "                    \"switch\": [\n",
    "                        {\"name\": \"Tie_Line_Switch_50-59\", \"closed\": True},\n",
    "                        {\"name\": \"Tie_Line_Switch_11-44\", \"closed\": True},\n",
    "                        {\"name\": \"Tie_Line_Switch_1-10\", \"closed\": True},\n",
    "                        {\"name\": \"Tie_Line_Switch_1-11\", \"closed\": True},\n",
    "                    ]\n",
    "                }\n",
    "            ],\n",
    "        },\n",
    "        f,\n",
    "        indent=2,\n",
    "    )"
   ]
  }
 ],
 "metadata": {
  "kernelspec": {
   "display_name": "Python 3",
   "language": "python",
   "name": "python3"
  },
  "language_info": {
   "codemirror_mode": {
    "name": "ipython",
    "version": 2
   },
   "file_extension": ".py",
   "mimetype": "text/x-python",
   "name": "python",
   "nbconvert_exporter": "python",
   "pygments_lexer": "ipython2",
   "version": "2.7.6"
  }
 },
 "nbformat": 4,
 "nbformat_minor": 5
}
