{
 "cells": [
  {
   "cell_type": "code",
   "id": "initial_id",
   "metadata": {
    "collapsed": true,
    "ExecuteTime": {
     "end_time": "2025-07-13T02:19:54.150314Z",
     "start_time": "2025-07-13T02:19:53.278415Z"
    }
   },
   "source": [
    "import pandapower as pp\n",
    "from faraday import DATA_DIR\n",
    "from faraday.tools.network_generator import NetworkGenerator"
   ],
   "outputs": [],
   "execution_count": 1
  },
  {
   "metadata": {},
   "cell_type": "markdown",
   "source": "## CIGRE MV Modified",
   "id": "1128dbe279fa2f8d"
  },
  {
   "metadata": {
    "ExecuteTime": {
     "end_time": "2025-07-13T02:19:55.691477Z",
     "start_time": "2025-07-13T02:19:54.154363Z"
    }
   },
   "cell_type": "code",
   "source": [
    "net = pp.networks.create_cigre_network_mv(with_der=\"pv_wind\")\n",
    "net.load[\"curtailable\"] = False\n",
    "pp.toolbox.drop_lines(net, [9])\n",
    "net.switch.loc[net.switch.name == \"S3\", \"closed\"] = True\n",
    "pp.runpp(net)\n",
    "pp.plotting.plotly.pf_res_plotly(net, auto_open=False)"
   ],
   "id": "a10475fd15c25d6f",
   "outputs": [
    {
     "data": {
      "application/vnd.plotly.v1+json": {
       "data": [
        {
         "hoverinfo": "text",
         "legendgroup": "lines",
         "line": {
          "color": "rgb(212.09677419354836,255.0,34.67741935483871)",
          "dash": "solid",
          "width": 2
         },
         "mode": "lines",
         "name": "lines",
         "showlegend": true,
         "text": "Line 1-2<br />I = 60.875 %<br />I_from = 0.088 kA<br />I_to = 0.088 kA<br />",
         "x": [
          4.0,
          4.0,
          4.0
         ],
         "y": [
          15.0,
          14.0,
          13.0
         ],
         "type": "scatter"
        },
        {
         "hoverinfo": "text",
         "legendgroup": "lines",
         "line": {
          "color": "rgb(218.54838709677418,255.0,28.22580645161291)",
          "dash": "solid",
          "width": 2
         },
         "mode": "lines",
         "name": "lines",
         "showlegend": false,
         "text": "Line 2-3<br />I = 61.601 %<br />I_from = 0.088 kA<br />I_to = 0.089 kA<br />",
         "x": [
          4.0,
          4.0,
          4.0
         ],
         "y": [
          13.0,
          12.0,
          11.0
         ],
         "type": "scatter"
        },
        {
         "hoverinfo": "text",
         "legendgroup": "lines",
         "line": {
          "color": "rgb(128.2258064516129,255.0,118.5483870967742)",
          "dash": "solid",
          "width": 2
         },
         "mode": "lines",
         "name": "lines",
         "showlegend": false,
         "text": "Line 3-4<br />I = 50.743 %<br />I_from = 0.073 kA<br />I_to = 0.074 kA<br />",
         "x": [
          4.0,
          3.25,
          2.5
         ],
         "y": [
          11.0,
          10.0,
          9.0
         ],
         "type": "scatter"
        },
        {
         "hoverinfo": "text",
         "legendgroup": "lines",
         "line": {
          "color": "rgb(0.0,140.5,255.0)",
          "dash": "solid",
          "width": 2
         },
         "mode": "lines",
         "name": "lines",
         "showlegend": false,
         "text": "Line 4-5<br />I = 26.281 %<br />I_from = 0.038 kA<br />I_to = 0.038 kA<br />",
         "x": [
          2.5,
          1.75,
          1.0
         ],
         "y": [
          9.0,
          8.0,
          7.0
         ],
         "type": "scatter"
        },
        {
         "hoverinfo": "text",
         "legendgroup": "lines",
         "line": {
          "color": "rgb(0.0,0.0,254.77272727272725)",
          "dash": "solid",
          "width": 2
         },
         "mode": "lines",
         "name": "lines",
         "showlegend": false,
         "text": "Line 5-6<br />I = 11.261 %<br />I_from = 0.016 kA<br />I_to = 0.016 kA<br />",
         "x": [
          1.0,
          1.0,
          1.0
         ],
         "y": [
          7.0,
          5.0,
          3.0
         ],
         "type": "scatter"
        },
        {
         "hoverinfo": "text",
         "legendgroup": "lines",
         "line": {
          "color": "rgb(0.0,176.5,255.0)",
          "dash": "solid",
          "width": 2
         },
         "mode": "lines",
         "name": "lines",
         "showlegend": false,
         "text": "Line 7-8<br />I = 29.858 %<br />I_from = 0.043 kA<br />I_to = 0.043 kA<br />",
         "x": [
          8.0,
          8.0,
          8.0
         ],
         "y": [
          3.0,
          4.0,
          5.0
         ],
         "type": "scatter"
        },
        {
         "hoverinfo": "text",
         "legendgroup": "lines",
         "line": {
          "color": "rgb(0.0,60.5,255.0)",
          "dash": "solid",
          "width": 2
         },
         "mode": "lines",
         "name": "lines",
         "showlegend": false,
         "text": "Line 8-9<br />I = 18.487 %<br />I_from = 0.027 kA<br />I_to = 0.027 kA<br />",
         "x": [
          8.0,
          7.0,
          6.0
         ],
         "y": [
          5.0,
          5.0,
          5.0
         ],
         "type": "scatter"
        },
        {
         "hoverinfo": "text",
         "legendgroup": "lines",
         "line": {
          "color": "rgb(0.0,0.5,255.0)",
          "dash": "solid",
          "width": 2
         },
         "mode": "lines",
         "name": "lines",
         "showlegend": false,
         "text": "Line 9-10<br />I = 12.88 %<br />I_from = 0.019 kA<br />I_to = 0.018 kA<br />",
         "x": [
          6.0,
          5.0,
          4.0
         ],
         "y": [
          5.0,
          5.0,
          5.0
         ],
         "type": "scatter"
        },
        {
         "hoverinfo": "text",
         "legendgroup": "lines",
         "line": {
          "color": "rgb(0.0,20.49999999999997,255.0)",
          "dash": "solid",
          "width": 2
         },
         "mode": "lines",
         "name": "lines",
         "showlegend": false,
         "text": "Line 10-11<br />I = 14.661 %<br />I_from = 0.021 kA<br />I_to = 0.021 kA<br />",
         "x": [
          4.0,
          4.0,
          4.0
         ],
         "y": [
          5.0,
          6.0,
          7.0
         ],
         "type": "scatter"
        },
        {
         "hoverinfo": "text",
         "legendgroup": "lines",
         "line": {
          "color": "rgb(0.0,0.0,236.59090909090907)",
          "dash": "solid",
          "width": 2
         },
         "mode": "lines",
         "name": "lines",
         "showlegend": false,
         "text": "Line 12-13<br />I = 9.476 %<br />I_from = 0.018 kA<br />I_to = 0.018 kA<br />",
         "x": [
          10.0,
          10.0,
          10.0
         ],
         "y": [
          15.0,
          13.0,
          11.0
         ],
         "type": "scatter"
        },
        {
         "hoverinfo": "text",
         "legendgroup": "lines",
         "line": {
          "color": "rgb(0.0,0.0,227.49999999999997)",
          "dash": "solid",
          "width": 2
         },
         "mode": "lines",
         "name": "lines",
         "showlegend": false,
         "text": "Line 13-14<br />I = 8.909 %<br />I_from = 0.017 kA<br />I_to = 0.017 kA<br />",
         "x": [
          10.0,
          10.0,
          10.0
         ],
         "y": [
          11.0,
          8.0,
          5.0
         ],
         "type": "scatter"
        },
        {
         "hoverinfo": "text",
         "legendgroup": "lines",
         "line": {
          "color": "rgb(0.0,64.5,255.0)",
          "dash": "solid",
          "width": 2
         },
         "mode": "lines",
         "name": "lines",
         "showlegend": false,
         "text": "Line 11-4<br />I = 19.001 %<br />I_from = 0.028 kA<br />I_to = 0.027 kA<br />",
         "x": [
          4.0,
          3.25,
          2.5
         ],
         "y": [
          7.0,
          8.0,
          9.0
         ],
         "type": "scatter"
        },
        {
         "hoverinfo": "text",
         "legendgroup": "disconnected lines",
         "line": {
          "color": "rgb(128, 128, 128)",
          "dash": "dot",
          "width": 1.0
         },
         "mode": "lines",
         "name": "disconnected branches",
         "showlegend": true,
         "text": "Line 6-7<br />I = 0.086 %<br />I_from = 0.0 kA<br />I_to = 0.0 kA<br />",
         "x": [
          1.0,
          4.5,
          8.0
         ],
         "y": [
          3.0,
          3.0,
          3.0
         ],
         "type": "scatter"
        },
        {
         "hoverinfo": "text",
         "legendgroup": "disconnected lines",
         "line": {
          "color": "rgb(128, 128, 128)",
          "dash": "dot",
          "width": 1.0
         },
         "mode": "lines",
         "name": "disconnected branches",
         "showlegend": false,
         "text": "Line 14-8<br />I = 0.037 %<br />I_from = 0.0 kA<br />I_to = 0.0 kA<br />",
         "x": [
          10.0,
          9.0,
          8.0
         ],
         "y": [
          5.0,
          5.0,
          5.0
         ],
         "type": "scatter"
        },
        {
         "hoverinfo": "text",
         "legendgroup": "lines",
         "marker": {
          "color": "rgb(128, 128, 128)",
          "size": 1,
          "symbol": "circle"
         },
         "mode": "markers",
         "name": "edge_center",
         "showlegend": false,
         "text": [
          "Line 1-2<br />I = 60.875 %<br />I_from = 0.088 kA<br />I_to = 0.088 kA<br />",
          "Line 2-3<br />I = 61.601 %<br />I_from = 0.088 kA<br />I_to = 0.089 kA<br />",
          "Line 3-4<br />I = 50.743 %<br />I_from = 0.073 kA<br />I_to = 0.074 kA<br />",
          "Line 4-5<br />I = 26.281 %<br />I_from = 0.038 kA<br />I_to = 0.038 kA<br />",
          "Line 5-6<br />I = 11.261 %<br />I_from = 0.016 kA<br />I_to = 0.016 kA<br />",
          "Line 7-8<br />I = 29.858 %<br />I_from = 0.043 kA<br />I_to = 0.043 kA<br />",
          "Line 8-9<br />I = 18.487 %<br />I_from = 0.027 kA<br />I_to = 0.027 kA<br />",
          "Line 9-10<br />I = 12.88 %<br />I_from = 0.019 kA<br />I_to = 0.018 kA<br />",
          "Line 10-11<br />I = 14.661 %<br />I_from = 0.021 kA<br />I_to = 0.021 kA<br />",
          "Line 12-13<br />I = 9.476 %<br />I_from = 0.018 kA<br />I_to = 0.018 kA<br />",
          "Line 13-14<br />I = 8.909 %<br />I_from = 0.017 kA<br />I_to = 0.017 kA<br />",
          "Line 11-4<br />I = 19.001 %<br />I_from = 0.028 kA<br />I_to = 0.027 kA<br />",
          "Line 6-7<br />I = 0.086 %<br />I_from = 0.0 kA<br />I_to = 0.0 kA<br />",
          "Line 14-8<br />I = 0.037 %<br />I_from = 0.0 kA<br />I_to = 0.0 kA<br />"
         ],
         "x": [
          4.0
         ],
         "y": [
          14.0
         ],
         "type": "scatter"
        },
        {
         "hoverinfo": "text",
         "legendgroup": "2W transformers",
         "line": {
          "color": "rgb(195.68181818181822,0.0,0.0)",
          "width": 3.0
         },
         "mode": "lines",
         "name": "2W transformers",
         "showlegend": true,
         "text": "Trafo 0-1<br />I = 93.852 %<br />I_hv = 0.123 kA<br />I_lv = 0.677 kA<br />",
         "x": [
          7.0,
          5.5,
          4.0
         ],
         "y": [
          16.0,
          15.5,
          15.0
         ],
         "type": "scatter"
        },
        {
         "hoverinfo": "text",
         "legendgroup": "2W transformers",
         "line": {
          "color": "rgb(255.0,59.44444444444448,0.0)",
          "width": 3.0
         },
         "mode": "lines",
         "name": "2W transformers",
         "showlegend": false,
         "text": "Trafo 0-12<br />I = 84.698 %<br />I_hv = 0.111 kA<br />I_lv = 0.611 kA<br />",
         "x": [
          7.0,
          8.5,
          10.0
         ],
         "y": [
          16.0,
          15.5,
          15.0
         ],
         "type": "scatter"
        },
        {
         "hoverinfo": "text",
         "legendgroup": "2W transformers",
         "marker": {
          "color": "rgb(255.0,59.44444444444448,0.0)",
          "size": 1,
          "symbol": "circle"
         },
         "mode": "markers",
         "name": "edge_center",
         "showlegend": false,
         "text": [
          "Trafo 0-1<br />I = 93.852 %<br />I_hv = 0.123 kA<br />I_lv = 0.677 kA<br />",
          "Trafo 0-12<br />I = 84.698 %<br />I_hv = 0.111 kA<br />I_lv = 0.611 kA<br />"
         ],
         "x": [
          5.5
         ],
         "y": [
          15.5
         ],
         "type": "scatter"
        },
        {
         "hoverinfo": "text",
         "marker": {
          "color": "rgb(128, 128, 128)",
          "size": 20,
          "symbol": "square"
         },
         "mode": "markers",
         "name": "external_grid",
         "text": [
          "Bus 0"
         ],
         "x": [
          7.0
         ],
         "y": [
          16.0
         ],
         "type": "scatter"
        },
        {
         "hoverinfo": "text",
         "marker": {
          "cmax": 1.1,
          "cmin": 0.9,
          "color": {
           "dtype": "f8",
           "bdata": "exSuR+F68D/34YEa5s7vPwUM5Z4ESO8/0HB1mZxx7j8gSJAs4FjuP3MOnoAET+4/n4BCPHxD7j8s17/y0mPuP6Y7TVkVS+4/OWIwF/BI7j+ycqsvdEzuP9uxau+JUO4/WQB8W5kA8D+o0CELtdnvPygSDkb+wu8/"
          },
          "colorbar": {
           "thickness": 10,
           "title": {
            "side": "right",
            "text": "Bus Voltage [pu]"
           },
           "x": 1.0
          },
          "colorscale": [
           [
            0.0,
            "rgb(0,0,131)"
           ],
           [
            0.2,
            "rgb(0,60,170)"
           ],
           [
            0.4,
            "rgb(5,255,255)"
           ],
           [
            0.6,
            "rgb(255,255,0)"
           ],
           [
            0.8,
            "rgb(250,0,0)"
           ],
           [
            1.0,
            "rgb(128,0,0)"
           ]
          ],
          "size": 10,
          "symbol": "circle"
         },
         "mode": "markers",
         "name": "buses",
         "text": [
          "Bus 0<br />V_m = 1.03 pu<br />V_m = 113.3 kV<br />V_a = 0.0 deg",
          "Bus 1<br />V_m = 0.994 pu<br />V_m = 19.88 kV<br />V_a = -36.046 deg",
          "Bus 2<br />V_m = 0.978 pu<br />V_m = 19.551 kV<br />V_a = -36.57 deg",
          "Bus 3<br />V_m = 0.951 pu<br />V_m = 19.027 kV<br />V_a = -37.404 deg",
          "Bus 4<br />V_m = 0.948 pu<br />V_m = 18.967 kV<br />V_a = -37.498 deg",
          "Bus 5<br />V_m = 0.947 pu<br />V_m = 18.943 kV<br />V_a = -37.563 deg",
          "Bus 6<br />V_m = 0.946 pu<br />V_m = 18.915 kV<br />V_a = -37.639 deg",
          "Bus 7<br />V_m = 0.95 pu<br />V_m = 18.994 kV<br />V_a = -37.115 deg",
          "Bus 8<br />V_m = 0.947 pu<br />V_m = 18.933 kV<br />V_a = -37.39 deg",
          "Bus 9<br />V_m = 0.946 pu<br />V_m = 18.928 kV<br />V_a = -37.426 deg",
          "Bus 10<br />V_m = 0.947 pu<br />V_m = 18.937 kV<br />V_a = -37.486 deg",
          "Bus 11<br />V_m = 0.947 pu<br />V_m = 18.947 kV<br />V_a = -37.497 deg",
          "Bus 12<br />V_m = 1.0 pu<br />V_m = 20.003 kV<br />V_a = -35.487 deg",
          "Bus 13<br />V_m = 0.995 pu<br />V_m = 19.907 kV<br />V_a = -35.538 deg",
          "Bus 14<br />V_m = 0.993 pu<br />V_m = 19.851 kV<br />V_a = -35.568 deg"
         ],
         "x": [
          7.0,
          4.0,
          4.0,
          4.0,
          2.5,
          1.0,
          1.0,
          8.0,
          8.0,
          6.0,
          4.0,
          4.0,
          10.0,
          10.0,
          10.0
         ],
         "y": [
          16.0,
          15.0,
          13.0,
          11.0,
          9.0,
          7.0,
          3.0,
          3.0,
          5.0,
          5.0,
          5.0,
          7.0,
          15.0,
          11.0,
          5.0
         ],
         "type": "scatter"
        }
       ],
       "layout": {
        "autosize": true,
        "hovermode": "closest",
        "legend": {
         "itemsizing": "constant"
        },
        "margin": {
         "b": 5,
         "l": 5,
         "r": 5,
         "t": 5
        },
        "showlegend": false,
        "title": {
         "font": {
          "size": 16
         }
        },
        "xaxis": {
         "showgrid": false,
         "showticklabels": false,
         "zeroline": false
        },
        "yaxis": {
         "showgrid": false,
         "showticklabels": false,
         "zeroline": false
        },
        "template": {
         "data": {
          "histogram2dcontour": [
           {
            "type": "histogram2dcontour",
            "colorbar": {
             "outlinewidth": 0,
             "ticks": ""
            },
            "colorscale": [
             [
              0.0,
              "#0d0887"
             ],
             [
              0.1111111111111111,
              "#46039f"
             ],
             [
              0.2222222222222222,
              "#7201a8"
             ],
             [
              0.3333333333333333,
              "#9c179e"
             ],
             [
              0.4444444444444444,
              "#bd3786"
             ],
             [
              0.5555555555555556,
              "#d8576b"
             ],
             [
              0.6666666666666666,
              "#ed7953"
             ],
             [
              0.7777777777777778,
              "#fb9f3a"
             ],
             [
              0.8888888888888888,
              "#fdca26"
             ],
             [
              1.0,
              "#f0f921"
             ]
            ]
           }
          ],
          "choropleth": [
           {
            "type": "choropleth",
            "colorbar": {
             "outlinewidth": 0,
             "ticks": ""
            }
           }
          ],
          "histogram2d": [
           {
            "type": "histogram2d",
            "colorbar": {
             "outlinewidth": 0,
             "ticks": ""
            },
            "colorscale": [
             [
              0.0,
              "#0d0887"
             ],
             [
              0.1111111111111111,
              "#46039f"
             ],
             [
              0.2222222222222222,
              "#7201a8"
             ],
             [
              0.3333333333333333,
              "#9c179e"
             ],
             [
              0.4444444444444444,
              "#bd3786"
             ],
             [
              0.5555555555555556,
              "#d8576b"
             ],
             [
              0.6666666666666666,
              "#ed7953"
             ],
             [
              0.7777777777777778,
              "#fb9f3a"
             ],
             [
              0.8888888888888888,
              "#fdca26"
             ],
             [
              1.0,
              "#f0f921"
             ]
            ]
           }
          ],
          "heatmap": [
           {
            "type": "heatmap",
            "colorbar": {
             "outlinewidth": 0,
             "ticks": ""
            },
            "colorscale": [
             [
              0.0,
              "#0d0887"
             ],
             [
              0.1111111111111111,
              "#46039f"
             ],
             [
              0.2222222222222222,
              "#7201a8"
             ],
             [
              0.3333333333333333,
              "#9c179e"
             ],
             [
              0.4444444444444444,
              "#bd3786"
             ],
             [
              0.5555555555555556,
              "#d8576b"
             ],
             [
              0.6666666666666666,
              "#ed7953"
             ],
             [
              0.7777777777777778,
              "#fb9f3a"
             ],
             [
              0.8888888888888888,
              "#fdca26"
             ],
             [
              1.0,
              "#f0f921"
             ]
            ]
           }
          ],
          "contourcarpet": [
           {
            "type": "contourcarpet",
            "colorbar": {
             "outlinewidth": 0,
             "ticks": ""
            }
           }
          ],
          "contour": [
           {
            "type": "contour",
            "colorbar": {
             "outlinewidth": 0,
             "ticks": ""
            },
            "colorscale": [
             [
              0.0,
              "#0d0887"
             ],
             [
              0.1111111111111111,
              "#46039f"
             ],
             [
              0.2222222222222222,
              "#7201a8"
             ],
             [
              0.3333333333333333,
              "#9c179e"
             ],
             [
              0.4444444444444444,
              "#bd3786"
             ],
             [
              0.5555555555555556,
              "#d8576b"
             ],
             [
              0.6666666666666666,
              "#ed7953"
             ],
             [
              0.7777777777777778,
              "#fb9f3a"
             ],
             [
              0.8888888888888888,
              "#fdca26"
             ],
             [
              1.0,
              "#f0f921"
             ]
            ]
           }
          ],
          "surface": [
           {
            "type": "surface",
            "colorbar": {
             "outlinewidth": 0,
             "ticks": ""
            },
            "colorscale": [
             [
              0.0,
              "#0d0887"
             ],
             [
              0.1111111111111111,
              "#46039f"
             ],
             [
              0.2222222222222222,
              "#7201a8"
             ],
             [
              0.3333333333333333,
              "#9c179e"
             ],
             [
              0.4444444444444444,
              "#bd3786"
             ],
             [
              0.5555555555555556,
              "#d8576b"
             ],
             [
              0.6666666666666666,
              "#ed7953"
             ],
             [
              0.7777777777777778,
              "#fb9f3a"
             ],
             [
              0.8888888888888888,
              "#fdca26"
             ],
             [
              1.0,
              "#f0f921"
             ]
            ]
           }
          ],
          "mesh3d": [
           {
            "type": "mesh3d",
            "colorbar": {
             "outlinewidth": 0,
             "ticks": ""
            }
           }
          ],
          "scatter": [
           {
            "fillpattern": {
             "fillmode": "overlay",
             "size": 10,
             "solidity": 0.2
            },
            "type": "scatter"
           }
          ],
          "parcoords": [
           {
            "type": "parcoords",
            "line": {
             "colorbar": {
              "outlinewidth": 0,
              "ticks": ""
             }
            }
           }
          ],
          "scatterpolargl": [
           {
            "type": "scatterpolargl",
            "marker": {
             "colorbar": {
              "outlinewidth": 0,
              "ticks": ""
             }
            }
           }
          ],
          "bar": [
           {
            "error_x": {
             "color": "#2a3f5f"
            },
            "error_y": {
             "color": "#2a3f5f"
            },
            "marker": {
             "line": {
              "color": "#E5ECF6",
              "width": 0.5
             },
             "pattern": {
              "fillmode": "overlay",
              "size": 10,
              "solidity": 0.2
             }
            },
            "type": "bar"
           }
          ],
          "scattergeo": [
           {
            "type": "scattergeo",
            "marker": {
             "colorbar": {
              "outlinewidth": 0,
              "ticks": ""
             }
            }
           }
          ],
          "scatterpolar": [
           {
            "type": "scatterpolar",
            "marker": {
             "colorbar": {
              "outlinewidth": 0,
              "ticks": ""
             }
            }
           }
          ],
          "histogram": [
           {
            "marker": {
             "pattern": {
              "fillmode": "overlay",
              "size": 10,
              "solidity": 0.2
             }
            },
            "type": "histogram"
           }
          ],
          "scattergl": [
           {
            "type": "scattergl",
            "marker": {
             "colorbar": {
              "outlinewidth": 0,
              "ticks": ""
             }
            }
           }
          ],
          "scatter3d": [
           {
            "type": "scatter3d",
            "line": {
             "colorbar": {
              "outlinewidth": 0,
              "ticks": ""
             }
            },
            "marker": {
             "colorbar": {
              "outlinewidth": 0,
              "ticks": ""
             }
            }
           }
          ],
          "scattermap": [
           {
            "type": "scattermap",
            "marker": {
             "colorbar": {
              "outlinewidth": 0,
              "ticks": ""
             }
            }
           }
          ],
          "scattermapbox": [
           {
            "type": "scattermapbox",
            "marker": {
             "colorbar": {
              "outlinewidth": 0,
              "ticks": ""
             }
            }
           }
          ],
          "scatterternary": [
           {
            "type": "scatterternary",
            "marker": {
             "colorbar": {
              "outlinewidth": 0,
              "ticks": ""
             }
            }
           }
          ],
          "scattercarpet": [
           {
            "type": "scattercarpet",
            "marker": {
             "colorbar": {
              "outlinewidth": 0,
              "ticks": ""
             }
            }
           }
          ],
          "carpet": [
           {
            "aaxis": {
             "endlinecolor": "#2a3f5f",
             "gridcolor": "white",
             "linecolor": "white",
             "minorgridcolor": "white",
             "startlinecolor": "#2a3f5f"
            },
            "baxis": {
             "endlinecolor": "#2a3f5f",
             "gridcolor": "white",
             "linecolor": "white",
             "minorgridcolor": "white",
             "startlinecolor": "#2a3f5f"
            },
            "type": "carpet"
           }
          ],
          "table": [
           {
            "cells": {
             "fill": {
              "color": "#EBF0F8"
             },
             "line": {
              "color": "white"
             }
            },
            "header": {
             "fill": {
              "color": "#C8D4E3"
             },
             "line": {
              "color": "white"
             }
            },
            "type": "table"
           }
          ],
          "barpolar": [
           {
            "marker": {
             "line": {
              "color": "#E5ECF6",
              "width": 0.5
             },
             "pattern": {
              "fillmode": "overlay",
              "size": 10,
              "solidity": 0.2
             }
            },
            "type": "barpolar"
           }
          ],
          "pie": [
           {
            "automargin": true,
            "type": "pie"
           }
          ]
         },
         "layout": {
          "autotypenumbers": "strict",
          "colorway": [
           "#636efa",
           "#EF553B",
           "#00cc96",
           "#ab63fa",
           "#FFA15A",
           "#19d3f3",
           "#FF6692",
           "#B6E880",
           "#FF97FF",
           "#FECB52"
          ],
          "font": {
           "color": "#2a3f5f"
          },
          "hovermode": "closest",
          "hoverlabel": {
           "align": "left"
          },
          "paper_bgcolor": "white",
          "plot_bgcolor": "#E5ECF6",
          "polar": {
           "bgcolor": "#E5ECF6",
           "angularaxis": {
            "gridcolor": "white",
            "linecolor": "white",
            "ticks": ""
           },
           "radialaxis": {
            "gridcolor": "white",
            "linecolor": "white",
            "ticks": ""
           }
          },
          "ternary": {
           "bgcolor": "#E5ECF6",
           "aaxis": {
            "gridcolor": "white",
            "linecolor": "white",
            "ticks": ""
           },
           "baxis": {
            "gridcolor": "white",
            "linecolor": "white",
            "ticks": ""
           },
           "caxis": {
            "gridcolor": "white",
            "linecolor": "white",
            "ticks": ""
           }
          },
          "coloraxis": {
           "colorbar": {
            "outlinewidth": 0,
            "ticks": ""
           }
          },
          "colorscale": {
           "sequential": [
            [
             0.0,
             "#0d0887"
            ],
            [
             0.1111111111111111,
             "#46039f"
            ],
            [
             0.2222222222222222,
             "#7201a8"
            ],
            [
             0.3333333333333333,
             "#9c179e"
            ],
            [
             0.4444444444444444,
             "#bd3786"
            ],
            [
             0.5555555555555556,
             "#d8576b"
            ],
            [
             0.6666666666666666,
             "#ed7953"
            ],
            [
             0.7777777777777778,
             "#fb9f3a"
            ],
            [
             0.8888888888888888,
             "#fdca26"
            ],
            [
             1.0,
             "#f0f921"
            ]
           ],
           "sequentialminus": [
            [
             0.0,
             "#0d0887"
            ],
            [
             0.1111111111111111,
             "#46039f"
            ],
            [
             0.2222222222222222,
             "#7201a8"
            ],
            [
             0.3333333333333333,
             "#9c179e"
            ],
            [
             0.4444444444444444,
             "#bd3786"
            ],
            [
             0.5555555555555556,
             "#d8576b"
            ],
            [
             0.6666666666666666,
             "#ed7953"
            ],
            [
             0.7777777777777778,
             "#fb9f3a"
            ],
            [
             0.8888888888888888,
             "#fdca26"
            ],
            [
             1.0,
             "#f0f921"
            ]
           ],
           "diverging": [
            [
             0,
             "#8e0152"
            ],
            [
             0.1,
             "#c51b7d"
            ],
            [
             0.2,
             "#de77ae"
            ],
            [
             0.3,
             "#f1b6da"
            ],
            [
             0.4,
             "#fde0ef"
            ],
            [
             0.5,
             "#f7f7f7"
            ],
            [
             0.6,
             "#e6f5d0"
            ],
            [
             0.7,
             "#b8e186"
            ],
            [
             0.8,
             "#7fbc41"
            ],
            [
             0.9,
             "#4d9221"
            ],
            [
             1,
             "#276419"
            ]
           ]
          },
          "xaxis": {
           "gridcolor": "white",
           "linecolor": "white",
           "ticks": "",
           "title": {
            "standoff": 15
           },
           "zerolinecolor": "white",
           "automargin": true,
           "zerolinewidth": 2
          },
          "yaxis": {
           "gridcolor": "white",
           "linecolor": "white",
           "ticks": "",
           "title": {
            "standoff": 15
           },
           "zerolinecolor": "white",
           "automargin": true,
           "zerolinewidth": 2
          },
          "scene": {
           "xaxis": {
            "backgroundcolor": "#E5ECF6",
            "gridcolor": "white",
            "linecolor": "white",
            "showbackground": true,
            "ticks": "",
            "zerolinecolor": "white",
            "gridwidth": 2
           },
           "yaxis": {
            "backgroundcolor": "#E5ECF6",
            "gridcolor": "white",
            "linecolor": "white",
            "showbackground": true,
            "ticks": "",
            "zerolinecolor": "white",
            "gridwidth": 2
           },
           "zaxis": {
            "backgroundcolor": "#E5ECF6",
            "gridcolor": "white",
            "linecolor": "white",
            "showbackground": true,
            "ticks": "",
            "zerolinecolor": "white",
            "gridwidth": 2
           }
          },
          "shapedefaults": {
           "line": {
            "color": "#2a3f5f"
           }
          },
          "annotationdefaults": {
           "arrowcolor": "#2a3f5f",
           "arrowhead": 0,
           "arrowwidth": 1
          },
          "geo": {
           "bgcolor": "white",
           "landcolor": "#E5ECF6",
           "subunitcolor": "white",
           "showland": true,
           "showlakes": true,
           "lakecolor": "white"
          },
          "title": {
           "x": 0.05
          },
          "mapbox": {
           "style": "light"
          }
         }
        },
        "width": 484.6153846153846,
        "height": 700.0
       },
       "config": {
        "plotlyServerURL": "https://plot.ly"
       }
      }
     },
     "metadata": {},
     "output_type": "display_data"
    }
   ],
   "execution_count": 2
  },
  {
   "metadata": {
    "ExecuteTime": {
     "end_time": "2025-07-13T02:19:55.807456Z",
     "start_time": "2025-07-13T02:19:55.787092Z"
    }
   },
   "cell_type": "code",
   "source": "pp.to_json(net, str(DATA_DIR / \"base_networks\" / \"cigre_mv_modified.json\"))",
   "id": "859a5c6df0409e6d",
   "outputs": [],
   "execution_count": 3
  },
  {
   "metadata": {},
   "cell_type": "markdown",
   "source": "## CIGRE MV",
   "id": "e5f15740d24f9393"
  },
  {
   "metadata": {
    "ExecuteTime": {
     "end_time": "2025-07-13T02:19:55.968423Z",
     "start_time": "2025-07-13T02:19:55.834680Z"
    }
   },
   "cell_type": "code",
   "source": [
    "net = pp.networks.create_cigre_network_mv(with_der=\"pv_wind\")\n",
    "net.load[\"curtailable\"] = False\n",
    "pp.runpp(net)\n",
    "pp.plotting.plotly.pf_res_plotly(net, auto_open=False)"
   ],
   "id": "5cec6b08b26f9bea",
   "outputs": [
    {
     "data": {
      "application/vnd.plotly.v1+json": {
       "data": [
        {
         "hoverinfo": "text",
         "legendgroup": "lines",
         "line": {
          "color": "rgb(212.09677419354836,255.0,34.67741935483871)",
          "dash": "solid",
          "width": 2
         },
         "mode": "lines",
         "name": "lines",
         "showlegend": true,
         "text": "Line 1-2<br />I = 60.611 %<br />I_from = 0.087 kA<br />I_to = 0.088 kA<br />",
         "x": [
          4.0,
          4.0,
          4.0
         ],
         "y": [
          15.0,
          14.0,
          13.0
         ],
         "type": "scatter"
        },
        {
         "hoverinfo": "text",
         "legendgroup": "lines",
         "line": {
          "color": "rgb(215.32258064516125,255.0,31.451612903225794)",
          "dash": "solid",
          "width": 2
         },
         "mode": "lines",
         "name": "lines",
         "showlegend": false,
         "text": "Line 2-3<br />I = 61.328 %<br />I_from = 0.088 kA<br />I_to = 0.089 kA<br />",
         "x": [
          4.0,
          4.0,
          4.0
         ],
         "y": [
          13.0,
          12.0,
          11.0
         ],
         "type": "scatter"
        },
        {
         "hoverinfo": "text",
         "legendgroup": "lines",
         "line": {
          "color": "rgb(0.0,228.5,247.58064516129033)",
          "dash": "solid",
          "width": 2
         },
         "mode": "lines",
         "name": "lines",
         "showlegend": false,
         "text": "Line 3-4<br />I = 35.102 %<br />I_from = 0.051 kA<br />I_to = 0.051 kA<br />",
         "x": [
          4.0,
          3.25,
          2.5
         ],
         "y": [
          11.0,
          10.0,
          9.0
         ],
         "type": "scatter"
        },
        {
         "hoverinfo": "text",
         "legendgroup": "lines",
         "line": {
          "color": "rgb(0.0,140.5,255.0)",
          "dash": "solid",
          "width": 2
         },
         "mode": "lines",
         "name": "lines",
         "showlegend": false,
         "text": "Line 4-5<br />I = 26.232 %<br />I_from = 0.038 kA<br />I_to = 0.038 kA<br />",
         "x": [
          2.5,
          1.75,
          1.0
         ],
         "y": [
          9.0,
          8.0,
          7.0
         ],
         "type": "scatter"
        },
        {
         "hoverinfo": "text",
         "legendgroup": "lines",
         "line": {
          "color": "rgb(0.0,0.0,254.77272727272725)",
          "dash": "solid",
          "width": 2
         },
         "mode": "lines",
         "name": "lines",
         "showlegend": false,
         "text": "Line 5-6<br />I = 11.24 %<br />I_from = 0.016 kA<br />I_to = 0.016 kA<br />",
         "x": [
          1.0,
          1.0,
          1.0
         ],
         "y": [
          7.0,
          5.0,
          3.0
         ],
         "type": "scatter"
        },
        {
         "hoverinfo": "text",
         "legendgroup": "lines",
         "line": {
          "color": "rgb(0.0,176.5,255.0)",
          "dash": "solid",
          "width": 2
         },
         "mode": "lines",
         "name": "lines",
         "showlegend": false,
         "text": "Line 7-8<br />I = 29.779 %<br />I_from = 0.043 kA<br />I_to = 0.043 kA<br />",
         "x": [
          8.0,
          8.0,
          8.0
         ],
         "y": [
          3.0,
          4.0,
          5.0
         ],
         "type": "scatter"
        },
        {
         "hoverinfo": "text",
         "legendgroup": "lines",
         "line": {
          "color": "rgb(0.0,188.5,255.0)",
          "dash": "solid",
          "width": 2
         },
         "mode": "lines",
         "name": "lines",
         "showlegend": false,
         "text": "Line 8-9<br />I = 31.137 %<br />I_from = 0.045 kA<br />I_to = 0.045 kA<br />",
         "x": [
          8.0,
          7.0,
          6.0
         ],
         "y": [
          5.0,
          5.0,
          5.0
         ],
         "type": "scatter"
        },
        {
         "hoverinfo": "text",
         "legendgroup": "lines",
         "line": {
          "color": "rgb(0.0,52.49999999999997,255.0)",
          "dash": "solid",
          "width": 2
         },
         "mode": "lines",
         "name": "lines",
         "showlegend": false,
         "text": "Line 9-10<br />I = 17.966 %<br />I_from = 0.026 kA<br />I_to = 0.026 kA<br />",
         "x": [
          6.0,
          5.0,
          4.0
         ],
         "y": [
          5.0,
          5.0,
          5.0
         ],
         "type": "scatter"
        },
        {
         "hoverinfo": "text",
         "legendgroup": "lines",
         "line": {
          "color": "rgb(0.0,0.0,204.77272727272725)",
          "dash": "solid",
          "width": 2
         },
         "mode": "lines",
         "name": "lines",
         "showlegend": false,
         "text": "Line 10-11<br />I = 6.903 %<br />I_from = 0.01 kA<br />I_to = 0.01 kA<br />",
         "x": [
          4.0,
          4.0,
          4.0
         ],
         "y": [
          5.0,
          6.0,
          7.0
         ],
         "type": "scatter"
        },
        {
         "hoverinfo": "text",
         "legendgroup": "lines",
         "line": {
          "color": "rgb(0.0,64.5,255.0)",
          "dash": "solid",
          "width": 2
         },
         "mode": "lines",
         "name": "lines",
         "showlegend": false,
         "text": "Line 3-8<br />I = 18.846 %<br />I_from = 0.027 kA<br />I_to = 0.027 kA<br />",
         "x": [
          4.0,
          6.0,
          8.0
         ],
         "y": [
          11.0,
          8.0,
          5.0
         ],
         "type": "scatter"
        },
        {
         "hoverinfo": "text",
         "legendgroup": "lines",
         "line": {
          "color": "rgb(0.0,0.0,236.59090909090907)",
          "dash": "solid",
          "width": 2
         },
         "mode": "lines",
         "name": "lines",
         "showlegend": false,
         "text": "Line 12-13<br />I = 9.476 %<br />I_from = 0.018 kA<br />I_to = 0.018 kA<br />",
         "x": [
          10.0,
          10.0,
          10.0
         ],
         "y": [
          15.0,
          13.0,
          11.0
         ],
         "type": "scatter"
        },
        {
         "hoverinfo": "text",
         "legendgroup": "lines",
         "line": {
          "color": "rgb(0.0,0.0,227.49999999999997)",
          "dash": "solid",
          "width": 2
         },
         "mode": "lines",
         "name": "lines",
         "showlegend": false,
         "text": "Line 13-14<br />I = 8.909 %<br />I_from = 0.017 kA<br />I_to = 0.017 kA<br />",
         "x": [
          10.0,
          10.0,
          10.0
         ],
         "y": [
          11.0,
          8.0,
          5.0
         ],
         "type": "scatter"
        },
        {
         "hoverinfo": "text",
         "legendgroup": "disconnected lines",
         "line": {
          "color": "rgb(128, 128, 128)",
          "dash": "dot",
          "width": 1.0
         },
         "mode": "lines",
         "name": "disconnected branches",
         "showlegend": true,
         "text": "Line 6-7<br />I = 0.086 %<br />I_from = 0.0 kA<br />I_to = 0.0 kA<br />",
         "x": [
          1.0,
          4.5,
          8.0
         ],
         "y": [
          3.0,
          3.0,
          3.0
         ],
         "type": "scatter"
        },
        {
         "hoverinfo": "text",
         "legendgroup": "disconnected lines",
         "line": {
          "color": "rgb(128, 128, 128)",
          "dash": "dot",
          "width": 1.0
         },
         "mode": "lines",
         "name": "disconnected branches",
         "showlegend": false,
         "text": "Line 11-4<br />I = 0.175 %<br />I_from = 0.0 kA<br />I_to = 0.0 kA<br />",
         "x": [
          4.0,
          3.25,
          2.5
         ],
         "y": [
          7.0,
          8.0,
          9.0
         ],
         "type": "scatter"
        },
        {
         "hoverinfo": "text",
         "legendgroup": "disconnected lines",
         "line": {
          "color": "rgb(128, 128, 128)",
          "dash": "dot",
          "width": 1.0
         },
         "mode": "lines",
         "name": "disconnected branches",
         "showlegend": false,
         "text": "Line 14-8<br />I = 0.037 %<br />I_from = 0.0 kA<br />I_to = 0.0 kA<br />",
         "x": [
          10.0,
          9.0,
          8.0
         ],
         "y": [
          5.0,
          5.0,
          5.0
         ],
         "type": "scatter"
        },
        {
         "hoverinfo": "text",
         "legendgroup": "lines",
         "marker": {
          "color": "rgb(128, 128, 128)",
          "size": 1,
          "symbol": "circle"
         },
         "mode": "markers",
         "name": "edge_center",
         "showlegend": false,
         "text": [
          "Line 1-2<br />I = 60.611 %<br />I_from = 0.087 kA<br />I_to = 0.088 kA<br />",
          "Line 2-3<br />I = 61.328 %<br />I_from = 0.088 kA<br />I_to = 0.089 kA<br />",
          "Line 3-4<br />I = 35.102 %<br />I_from = 0.051 kA<br />I_to = 0.051 kA<br />",
          "Line 4-5<br />I = 26.232 %<br />I_from = 0.038 kA<br />I_to = 0.038 kA<br />",
          "Line 5-6<br />I = 11.24 %<br />I_from = 0.016 kA<br />I_to = 0.016 kA<br />",
          "Line 7-8<br />I = 29.779 %<br />I_from = 0.043 kA<br />I_to = 0.043 kA<br />",
          "Line 8-9<br />I = 31.137 %<br />I_from = 0.045 kA<br />I_to = 0.045 kA<br />",
          "Line 9-10<br />I = 17.966 %<br />I_from = 0.026 kA<br />I_to = 0.026 kA<br />",
          "Line 10-11<br />I = 6.903 %<br />I_from = 0.01 kA<br />I_to = 0.01 kA<br />",
          "Line 3-8<br />I = 18.846 %<br />I_from = 0.027 kA<br />I_to = 0.027 kA<br />",
          "Line 12-13<br />I = 9.476 %<br />I_from = 0.018 kA<br />I_to = 0.018 kA<br />",
          "Line 13-14<br />I = 8.909 %<br />I_from = 0.017 kA<br />I_to = 0.017 kA<br />",
          "Line 6-7<br />I = 0.086 %<br />I_from = 0.0 kA<br />I_to = 0.0 kA<br />",
          "Line 11-4<br />I = 0.175 %<br />I_from = 0.0 kA<br />I_to = 0.0 kA<br />",
          "Line 14-8<br />I = 0.037 %<br />I_from = 0.0 kA<br />I_to = 0.0 kA<br />"
         ],
         "x": [
          4.0
         ],
         "y": [
          14.0
         ],
         "type": "scatter"
        },
        {
         "hoverinfo": "text",
         "legendgroup": "2W transformers",
         "line": {
          "color": "rgb(195.68181818181822,0.0,0.0)",
          "width": 3.0
         },
         "mode": "lines",
         "name": "2W transformers",
         "showlegend": true,
         "text": "Trafo 0-1<br />I = 93.808 %<br />I_hv = 0.123 kA<br />I_lv = 0.677 kA<br />",
         "x": [
          7.0,
          5.5,
          4.0
         ],
         "y": [
          16.0,
          15.5,
          15.0
         ],
         "type": "scatter"
        },
        {
         "hoverinfo": "text",
         "legendgroup": "2W transformers",
         "line": {
          "color": "rgb(255.0,59.44444444444448,0.0)",
          "width": 3.0
         },
         "mode": "lines",
         "name": "2W transformers",
         "showlegend": false,
         "text": "Trafo 0-12<br />I = 84.698 %<br />I_hv = 0.111 kA<br />I_lv = 0.611 kA<br />",
         "x": [
          7.0,
          8.5,
          10.0
         ],
         "y": [
          16.0,
          15.5,
          15.0
         ],
         "type": "scatter"
        },
        {
         "hoverinfo": "text",
         "legendgroup": "2W transformers",
         "marker": {
          "color": "rgb(255.0,59.44444444444448,0.0)",
          "size": 1,
          "symbol": "circle"
         },
         "mode": "markers",
         "name": "edge_center",
         "showlegend": false,
         "text": [
          "Trafo 0-1<br />I = 93.808 %<br />I_hv = 0.123 kA<br />I_lv = 0.677 kA<br />",
          "Trafo 0-12<br />I = 84.698 %<br />I_hv = 0.111 kA<br />I_lv = 0.611 kA<br />"
         ],
         "x": [
          5.5
         ],
         "y": [
          15.5
         ],
         "type": "scatter"
        },
        {
         "hoverinfo": "text",
         "marker": {
          "color": "rgb(128, 128, 128)",
          "size": 20,
          "symbol": "square"
         },
         "mode": "markers",
         "name": "external_grid",
         "text": [
          "Bus 0"
         ],
         "x": [
          7.0
         ],
         "y": [
          16.0
         ],
         "type": "scatter"
        },
        {
         "hoverinfo": "text",
         "marker": {
          "cmax": 1.1,
          "cmin": 0.9,
          "color": {
           "dtype": "f8",
           "bdata": "exSuR+F68D+NOyLv8M/vP2oO2pksSu8/ByerU4l17j/IlyXdKmfuP32KDCRUXe4/WhJDuNFR7j9GcntTanjuP3wS6dK8X+4/Nzl2/ixY7j/IhqAcpE7uP0nykcwhTe4/WwB8W5kA8D+u0CELtdnvPy4SDkb+wu8/"
          },
          "colorbar": {
           "thickness": 10,
           "title": {
            "side": "right",
            "text": "Bus Voltage [pu]"
           },
           "x": 1.0
          },
          "colorscale": [
           [
            0.0,
            "rgb(0,0,131)"
           ],
           [
            0.2,
            "rgb(0,60,170)"
           ],
           [
            0.4,
            "rgb(5,255,255)"
           ],
           [
            0.6,
            "rgb(255,255,0)"
           ],
           [
            0.8,
            "rgb(250,0,0)"
           ],
           [
            1.0,
            "rgb(128,0,0)"
           ]
          ],
          "size": 10,
          "symbol": "circle"
         },
         "mode": "markers",
         "name": "buses",
         "text": [
          "Bus 0<br />V_m = 1.03 pu<br />V_m = 113.3 kV<br />V_a = 0.0 deg",
          "Bus 1<br />V_m = 0.994 pu<br />V_m = 19.883 kV<br />V_a = -36.045 deg",
          "Bus 2<br />V_m = 0.978 pu<br />V_m = 19.556 kV<br />V_a = -36.573 deg",
          "Bus 3<br />V_m = 0.952 pu<br />V_m = 19.037 kV<br />V_a = -37.415 deg",
          "Bus 4<br />V_m = 0.95 pu<br />V_m = 19.002 kV<br />V_a = -37.509 deg",
          "Bus 5<br />V_m = 0.949 pu<br />V_m = 18.978 kV<br />V_a = -37.574 deg",
          "Bus 6<br />V_m = 0.947 pu<br />V_m = 18.95 kV<br />V_a = -37.65 deg",
          "Bus 7<br />V_m = 0.952 pu<br />V_m = 19.044 kV<br />V_a = -37.14 deg",
          "Bus 8<br />V_m = 0.949 pu<br />V_m = 18.984 kV<br />V_a = -37.414 deg",
          "Bus 9<br />V_m = 0.948 pu<br />V_m = 18.965 kV<br />V_a = -37.449 deg",
          "Bus 10<br />V_m = 0.947 pu<br />V_m = 18.942 kV<br />V_a = -37.508 deg",
          "Bus 11<br />V_m = 0.947 pu<br />V_m = 18.938 kV<br />V_a = -37.518 deg",
          "Bus 12<br />V_m = 1.0 pu<br />V_m = 20.003 kV<br />V_a = -35.487 deg",
          "Bus 13<br />V_m = 0.995 pu<br />V_m = 19.907 kV<br />V_a = -35.538 deg",
          "Bus 14<br />V_m = 0.993 pu<br />V_m = 19.851 kV<br />V_a = -35.568 deg"
         ],
         "x": [
          7.0,
          4.0,
          4.0,
          4.0,
          2.5,
          1.0,
          1.0,
          8.0,
          8.0,
          6.0,
          4.0,
          4.0,
          10.0,
          10.0,
          10.0
         ],
         "y": [
          16.0,
          15.0,
          13.0,
          11.0,
          9.0,
          7.0,
          3.0,
          3.0,
          5.0,
          5.0,
          5.0,
          7.0,
          15.0,
          11.0,
          5.0
         ],
         "type": "scatter"
        }
       ],
       "layout": {
        "autosize": true,
        "hovermode": "closest",
        "legend": {
         "itemsizing": "constant"
        },
        "margin": {
         "b": 5,
         "l": 5,
         "r": 5,
         "t": 5
        },
        "showlegend": false,
        "title": {
         "font": {
          "size": 16
         }
        },
        "xaxis": {
         "showgrid": false,
         "showticklabels": false,
         "zeroline": false
        },
        "yaxis": {
         "showgrid": false,
         "showticklabels": false,
         "zeroline": false
        },
        "template": {
         "data": {
          "histogram2dcontour": [
           {
            "type": "histogram2dcontour",
            "colorbar": {
             "outlinewidth": 0,
             "ticks": ""
            },
            "colorscale": [
             [
              0.0,
              "#0d0887"
             ],
             [
              0.1111111111111111,
              "#46039f"
             ],
             [
              0.2222222222222222,
              "#7201a8"
             ],
             [
              0.3333333333333333,
              "#9c179e"
             ],
             [
              0.4444444444444444,
              "#bd3786"
             ],
             [
              0.5555555555555556,
              "#d8576b"
             ],
             [
              0.6666666666666666,
              "#ed7953"
             ],
             [
              0.7777777777777778,
              "#fb9f3a"
             ],
             [
              0.8888888888888888,
              "#fdca26"
             ],
             [
              1.0,
              "#f0f921"
             ]
            ]
           }
          ],
          "choropleth": [
           {
            "type": "choropleth",
            "colorbar": {
             "outlinewidth": 0,
             "ticks": ""
            }
           }
          ],
          "histogram2d": [
           {
            "type": "histogram2d",
            "colorbar": {
             "outlinewidth": 0,
             "ticks": ""
            },
            "colorscale": [
             [
              0.0,
              "#0d0887"
             ],
             [
              0.1111111111111111,
              "#46039f"
             ],
             [
              0.2222222222222222,
              "#7201a8"
             ],
             [
              0.3333333333333333,
              "#9c179e"
             ],
             [
              0.4444444444444444,
              "#bd3786"
             ],
             [
              0.5555555555555556,
              "#d8576b"
             ],
             [
              0.6666666666666666,
              "#ed7953"
             ],
             [
              0.7777777777777778,
              "#fb9f3a"
             ],
             [
              0.8888888888888888,
              "#fdca26"
             ],
             [
              1.0,
              "#f0f921"
             ]
            ]
           }
          ],
          "heatmap": [
           {
            "type": "heatmap",
            "colorbar": {
             "outlinewidth": 0,
             "ticks": ""
            },
            "colorscale": [
             [
              0.0,
              "#0d0887"
             ],
             [
              0.1111111111111111,
              "#46039f"
             ],
             [
              0.2222222222222222,
              "#7201a8"
             ],
             [
              0.3333333333333333,
              "#9c179e"
             ],
             [
              0.4444444444444444,
              "#bd3786"
             ],
             [
              0.5555555555555556,
              "#d8576b"
             ],
             [
              0.6666666666666666,
              "#ed7953"
             ],
             [
              0.7777777777777778,
              "#fb9f3a"
             ],
             [
              0.8888888888888888,
              "#fdca26"
             ],
             [
              1.0,
              "#f0f921"
             ]
            ]
           }
          ],
          "contourcarpet": [
           {
            "type": "contourcarpet",
            "colorbar": {
             "outlinewidth": 0,
             "ticks": ""
            }
           }
          ],
          "contour": [
           {
            "type": "contour",
            "colorbar": {
             "outlinewidth": 0,
             "ticks": ""
            },
            "colorscale": [
             [
              0.0,
              "#0d0887"
             ],
             [
              0.1111111111111111,
              "#46039f"
             ],
             [
              0.2222222222222222,
              "#7201a8"
             ],
             [
              0.3333333333333333,
              "#9c179e"
             ],
             [
              0.4444444444444444,
              "#bd3786"
             ],
             [
              0.5555555555555556,
              "#d8576b"
             ],
             [
              0.6666666666666666,
              "#ed7953"
             ],
             [
              0.7777777777777778,
              "#fb9f3a"
             ],
             [
              0.8888888888888888,
              "#fdca26"
             ],
             [
              1.0,
              "#f0f921"
             ]
            ]
           }
          ],
          "surface": [
           {
            "type": "surface",
            "colorbar": {
             "outlinewidth": 0,
             "ticks": ""
            },
            "colorscale": [
             [
              0.0,
              "#0d0887"
             ],
             [
              0.1111111111111111,
              "#46039f"
             ],
             [
              0.2222222222222222,
              "#7201a8"
             ],
             [
              0.3333333333333333,
              "#9c179e"
             ],
             [
              0.4444444444444444,
              "#bd3786"
             ],
             [
              0.5555555555555556,
              "#d8576b"
             ],
             [
              0.6666666666666666,
              "#ed7953"
             ],
             [
              0.7777777777777778,
              "#fb9f3a"
             ],
             [
              0.8888888888888888,
              "#fdca26"
             ],
             [
              1.0,
              "#f0f921"
             ]
            ]
           }
          ],
          "mesh3d": [
           {
            "type": "mesh3d",
            "colorbar": {
             "outlinewidth": 0,
             "ticks": ""
            }
           }
          ],
          "scatter": [
           {
            "fillpattern": {
             "fillmode": "overlay",
             "size": 10,
             "solidity": 0.2
            },
            "type": "scatter"
           }
          ],
          "parcoords": [
           {
            "type": "parcoords",
            "line": {
             "colorbar": {
              "outlinewidth": 0,
              "ticks": ""
             }
            }
           }
          ],
          "scatterpolargl": [
           {
            "type": "scatterpolargl",
            "marker": {
             "colorbar": {
              "outlinewidth": 0,
              "ticks": ""
             }
            }
           }
          ],
          "bar": [
           {
            "error_x": {
             "color": "#2a3f5f"
            },
            "error_y": {
             "color": "#2a3f5f"
            },
            "marker": {
             "line": {
              "color": "#E5ECF6",
              "width": 0.5
             },
             "pattern": {
              "fillmode": "overlay",
              "size": 10,
              "solidity": 0.2
             }
            },
            "type": "bar"
           }
          ],
          "scattergeo": [
           {
            "type": "scattergeo",
            "marker": {
             "colorbar": {
              "outlinewidth": 0,
              "ticks": ""
             }
            }
           }
          ],
          "scatterpolar": [
           {
            "type": "scatterpolar",
            "marker": {
             "colorbar": {
              "outlinewidth": 0,
              "ticks": ""
             }
            }
           }
          ],
          "histogram": [
           {
            "marker": {
             "pattern": {
              "fillmode": "overlay",
              "size": 10,
              "solidity": 0.2
             }
            },
            "type": "histogram"
           }
          ],
          "scattergl": [
           {
            "type": "scattergl",
            "marker": {
             "colorbar": {
              "outlinewidth": 0,
              "ticks": ""
             }
            }
           }
          ],
          "scatter3d": [
           {
            "type": "scatter3d",
            "line": {
             "colorbar": {
              "outlinewidth": 0,
              "ticks": ""
             }
            },
            "marker": {
             "colorbar": {
              "outlinewidth": 0,
              "ticks": ""
             }
            }
           }
          ],
          "scattermap": [
           {
            "type": "scattermap",
            "marker": {
             "colorbar": {
              "outlinewidth": 0,
              "ticks": ""
             }
            }
           }
          ],
          "scattermapbox": [
           {
            "type": "scattermapbox",
            "marker": {
             "colorbar": {
              "outlinewidth": 0,
              "ticks": ""
             }
            }
           }
          ],
          "scatterternary": [
           {
            "type": "scatterternary",
            "marker": {
             "colorbar": {
              "outlinewidth": 0,
              "ticks": ""
             }
            }
           }
          ],
          "scattercarpet": [
           {
            "type": "scattercarpet",
            "marker": {
             "colorbar": {
              "outlinewidth": 0,
              "ticks": ""
             }
            }
           }
          ],
          "carpet": [
           {
            "aaxis": {
             "endlinecolor": "#2a3f5f",
             "gridcolor": "white",
             "linecolor": "white",
             "minorgridcolor": "white",
             "startlinecolor": "#2a3f5f"
            },
            "baxis": {
             "endlinecolor": "#2a3f5f",
             "gridcolor": "white",
             "linecolor": "white",
             "minorgridcolor": "white",
             "startlinecolor": "#2a3f5f"
            },
            "type": "carpet"
           }
          ],
          "table": [
           {
            "cells": {
             "fill": {
              "color": "#EBF0F8"
             },
             "line": {
              "color": "white"
             }
            },
            "header": {
             "fill": {
              "color": "#C8D4E3"
             },
             "line": {
              "color": "white"
             }
            },
            "type": "table"
           }
          ],
          "barpolar": [
           {
            "marker": {
             "line": {
              "color": "#E5ECF6",
              "width": 0.5
             },
             "pattern": {
              "fillmode": "overlay",
              "size": 10,
              "solidity": 0.2
             }
            },
            "type": "barpolar"
           }
          ],
          "pie": [
           {
            "automargin": true,
            "type": "pie"
           }
          ]
         },
         "layout": {
          "autotypenumbers": "strict",
          "colorway": [
           "#636efa",
           "#EF553B",
           "#00cc96",
           "#ab63fa",
           "#FFA15A",
           "#19d3f3",
           "#FF6692",
           "#B6E880",
           "#FF97FF",
           "#FECB52"
          ],
          "font": {
           "color": "#2a3f5f"
          },
          "hovermode": "closest",
          "hoverlabel": {
           "align": "left"
          },
          "paper_bgcolor": "white",
          "plot_bgcolor": "#E5ECF6",
          "polar": {
           "bgcolor": "#E5ECF6",
           "angularaxis": {
            "gridcolor": "white",
            "linecolor": "white",
            "ticks": ""
           },
           "radialaxis": {
            "gridcolor": "white",
            "linecolor": "white",
            "ticks": ""
           }
          },
          "ternary": {
           "bgcolor": "#E5ECF6",
           "aaxis": {
            "gridcolor": "white",
            "linecolor": "white",
            "ticks": ""
           },
           "baxis": {
            "gridcolor": "white",
            "linecolor": "white",
            "ticks": ""
           },
           "caxis": {
            "gridcolor": "white",
            "linecolor": "white",
            "ticks": ""
           }
          },
          "coloraxis": {
           "colorbar": {
            "outlinewidth": 0,
            "ticks": ""
           }
          },
          "colorscale": {
           "sequential": [
            [
             0.0,
             "#0d0887"
            ],
            [
             0.1111111111111111,
             "#46039f"
            ],
            [
             0.2222222222222222,
             "#7201a8"
            ],
            [
             0.3333333333333333,
             "#9c179e"
            ],
            [
             0.4444444444444444,
             "#bd3786"
            ],
            [
             0.5555555555555556,
             "#d8576b"
            ],
            [
             0.6666666666666666,
             "#ed7953"
            ],
            [
             0.7777777777777778,
             "#fb9f3a"
            ],
            [
             0.8888888888888888,
             "#fdca26"
            ],
            [
             1.0,
             "#f0f921"
            ]
           ],
           "sequentialminus": [
            [
             0.0,
             "#0d0887"
            ],
            [
             0.1111111111111111,
             "#46039f"
            ],
            [
             0.2222222222222222,
             "#7201a8"
            ],
            [
             0.3333333333333333,
             "#9c179e"
            ],
            [
             0.4444444444444444,
             "#bd3786"
            ],
            [
             0.5555555555555556,
             "#d8576b"
            ],
            [
             0.6666666666666666,
             "#ed7953"
            ],
            [
             0.7777777777777778,
             "#fb9f3a"
            ],
            [
             0.8888888888888888,
             "#fdca26"
            ],
            [
             1.0,
             "#f0f921"
            ]
           ],
           "diverging": [
            [
             0,
             "#8e0152"
            ],
            [
             0.1,
             "#c51b7d"
            ],
            [
             0.2,
             "#de77ae"
            ],
            [
             0.3,
             "#f1b6da"
            ],
            [
             0.4,
             "#fde0ef"
            ],
            [
             0.5,
             "#f7f7f7"
            ],
            [
             0.6,
             "#e6f5d0"
            ],
            [
             0.7,
             "#b8e186"
            ],
            [
             0.8,
             "#7fbc41"
            ],
            [
             0.9,
             "#4d9221"
            ],
            [
             1,
             "#276419"
            ]
           ]
          },
          "xaxis": {
           "gridcolor": "white",
           "linecolor": "white",
           "ticks": "",
           "title": {
            "standoff": 15
           },
           "zerolinecolor": "white",
           "automargin": true,
           "zerolinewidth": 2
          },
          "yaxis": {
           "gridcolor": "white",
           "linecolor": "white",
           "ticks": "",
           "title": {
            "standoff": 15
           },
           "zerolinecolor": "white",
           "automargin": true,
           "zerolinewidth": 2
          },
          "scene": {
           "xaxis": {
            "backgroundcolor": "#E5ECF6",
            "gridcolor": "white",
            "linecolor": "white",
            "showbackground": true,
            "ticks": "",
            "zerolinecolor": "white",
            "gridwidth": 2
           },
           "yaxis": {
            "backgroundcolor": "#E5ECF6",
            "gridcolor": "white",
            "linecolor": "white",
            "showbackground": true,
            "ticks": "",
            "zerolinecolor": "white",
            "gridwidth": 2
           },
           "zaxis": {
            "backgroundcolor": "#E5ECF6",
            "gridcolor": "white",
            "linecolor": "white",
            "showbackground": true,
            "ticks": "",
            "zerolinecolor": "white",
            "gridwidth": 2
           }
          },
          "shapedefaults": {
           "line": {
            "color": "#2a3f5f"
           }
          },
          "annotationdefaults": {
           "arrowcolor": "#2a3f5f",
           "arrowhead": 0,
           "arrowwidth": 1
          },
          "geo": {
           "bgcolor": "white",
           "landcolor": "#E5ECF6",
           "subunitcolor": "white",
           "showland": true,
           "showlakes": true,
           "lakecolor": "white"
          },
          "title": {
           "x": 0.05
          },
          "mapbox": {
           "style": "light"
          }
         }
        },
        "width": 484.6153846153846,
        "height": 700.0
       },
       "config": {
        "plotlyServerURL": "https://plot.ly"
       }
      }
     },
     "metadata": {},
     "output_type": "display_data"
    }
   ],
   "execution_count": 4
  },
  {
   "metadata": {
    "ExecuteTime": {
     "end_time": "2025-07-13T02:19:56.108900Z",
     "start_time": "2025-07-13T02:19:56.088049Z"
    }
   },
   "cell_type": "code",
   "source": "pp.to_json(net, str(DATA_DIR / \"base_networks\" / \"cigre_mv.json\"))",
   "id": "1bd0e32deba528f4",
   "outputs": [],
   "execution_count": 5
  },
  {
   "metadata": {},
   "cell_type": "markdown",
   "source": "## CASE 30",
   "id": "73903b0a751b190f"
  },
  {
   "metadata": {
    "ExecuteTime": {
     "end_time": "2025-07-13T02:19:56.561499Z",
     "start_time": "2025-07-13T02:19:56.141058Z"
    }
   },
   "cell_type": "code",
   "source": [
    "net = NetworkGenerator().fill_missing_names(pp.networks.case30())\n",
    "net.load[\"curtailable\"] = False\n",
    "net.line.loc[net.line.name==\"Line_6_to_8_9\", \"max_i_ka\"] *= 1.5\n",
    "pp.runpp(net)\n",
    "pp.plotting.plotly.pf_res_plotly(net, auto_open=False)"
   ],
   "id": "a9113e9cfa90e136",
   "outputs": [
    {
     "data": {
      "application/vnd.plotly.v1+json": {
       "data": [
        {
         "hoverinfo": "text",
         "legendgroup": "lines",
         "line": {
          "color": "rgb(0.0,0.0,232.04545454545453)",
          "dash": "solid",
          "width": 2
         },
         "mode": "lines",
         "name": "lines",
         "showlegend": true,
         "text": "Line_1_to_2_0<br />I = 9.246 %<br />I_from = 0.051 kA<br />I_to = 0.047 kA<br />",
         "x": [
          -1.72745671,
          -1.144736945,
          -0.56201718
         ],
         "y": [
          -3.18926495,
          -3.252058715,
          -3.31485248
         ],
         "type": "scatter"
        },
        {
         "hoverinfo": "text",
         "legendgroup": "lines",
         "line": {
          "color": "rgb(0.0,0.0,255.0)",
          "dash": "solid",
          "width": 2
         },
         "mode": "lines",
         "name": "lines",
         "showlegend": false,
         "text": "Line_1_to_3_1<br />I = 12.488 %<br />I_from = 0.067 kA<br />I_to = 0.069 kA<br />",
         "x": [
          -1.72745671,
          -1.659033685,
          -1.59061066
         ],
         "y": [
          -3.18926495,
          -3.66673355,
          -4.14420215
         ],
         "type": "scatter"
        },
        {
         "hoverinfo": "text",
         "legendgroup": "lines",
         "line": {
          "color": "rgb(0.0,148.5,255.0)",
          "dash": "solid",
          "width": 2
         },
         "mode": "lines",
         "name": "lines",
         "showlegend": false,
         "text": "Line_2_to_4_2<br />I = 27.045 %<br />I_from = 0.072 kA<br />I_to = 0.075 kA<br />",
         "x": [
          -0.56201718,
          -0.467355915,
          -0.37269465
         ],
         "y": [
          -3.31485248,
          -3.798880015,
          -4.28290755
         ],
         "type": "scatter"
        },
        {
         "hoverinfo": "text",
         "legendgroup": "lines",
         "line": {
          "color": "rgb(0.0,0.0,245.68181818181816)",
          "dash": "solid",
          "width": 2
         },
         "mode": "lines",
         "name": "lines",
         "showlegend": false,
         "text": "Line_3_to_4_3<br />I = 10.403 %<br />I_from = 0.058 kA<br />I_to = 0.058 kA<br />",
         "x": [
          -1.59061066,
          -0.981652655,
          -0.37269465
         ],
         "y": [
          -4.14420215,
          -4.2135548499999995,
          -4.28290755
         ],
         "type": "scatter"
        },
        {
         "hoverinfo": "text",
         "legendgroup": "lines",
         "line": {
          "color": "rgb(0.0,0.0,255.0)",
          "dash": "solid",
          "width": 2
         },
         "mode": "lines",
         "name": "lines",
         "showlegend": false,
         "text": "Line_2_to_5_4<br />I = 11.707 %<br />I_from = 0.062 kA<br />I_to = 0.065 kA<br />",
         "x": [
          -0.56201718,
          -0.8079004,
          -1.05378362
         ],
         "y": [
          -3.31485248,
          -2.7771494150000002,
          -2.23944635
         ],
         "type": "scatter"
        },
        {
         "hoverinfo": "text",
         "legendgroup": "lines",
         "line": {
          "color": "rgb(0.0,220.5,254.03225806451613)",
          "dash": "solid",
          "width": 2
         },
         "mode": "lines",
         "name": "lines",
         "showlegend": false,
         "text": "Line_2_to_6_5<br />I = 34.334 %<br />I_from = 0.092 kA<br />I_to = 0.095 kA<br />",
         "x": [
          -0.56201718,
          -0.015554390000000029,
          0.5309084
         ],
         "y": [
          -3.31485248,
          -3.374062425,
          -3.43327237
         ],
         "type": "scatter"
        },
        {
         "hoverinfo": "text",
         "legendgroup": "lines",
         "line": {
          "color": "rgb(0.0,164.5,255.0)",
          "dash": "solid",
          "width": 2
         },
         "mode": "lines",
         "name": "lines",
         "showlegend": false,
         "text": "Line_4_to_6_6<br />I = 28.586 %<br />I_from = 0.11 kA<br />I_to = 0.11 kA<br />",
         "x": [
          -0.37269465,
          0.07910687499999997,
          0.5309084
         ],
         "y": [
          -4.28290755,
          -3.85808996,
          -3.43327237
         ],
         "type": "scatter"
        },
        {
         "hoverinfo": "text",
         "legendgroup": "lines",
         "line": {
          "color": "rgb(0.0,100.49999999999997,255.0)",
          "dash": "solid",
          "width": 2
         },
         "mode": "lines",
         "name": "lines",
         "showlegend": false,
         "text": "Line_5_to_7_7<br />I = 22.454 %<br />I_from = 0.065 kA<br />I_to = 0.067 kA<br />",
         "x": [
          -1.05378362,
          -0.5605813749999999,
          -0.06737913
         ],
         "y": [
          -2.23944635,
          -2.31566683,
          -2.39188731
         ],
         "type": "scatter"
        },
        {
         "hoverinfo": "text",
         "legendgroup": "lines",
         "line": {
          "color": "rgb(0.0,0.0,218.4090909090909)",
          "dash": "solid",
          "width": 2
         },
         "mode": "lines",
         "name": "lines",
         "showlegend": false,
         "text": "Line_6_to_7_8<br />I = 8.013 %<br />I_from = 0.043 kA<br />I_to = 0.045 kA<br />",
         "x": [
          0.5309084,
          0.23176463499999997,
          -0.06737913
         ],
         "y": [
          -3.43327237,
          -2.9125798400000003,
          -2.39188731
         ],
         "type": "scatter"
        },
        {
         "hoverinfo": "text",
         "legendgroup": "lines",
         "line": {
          "color": "rgb(255.0,155.7407407407408,0.0)",
          "dash": "solid",
          "width": 2
         },
         "mode": "lines",
         "name": "lines",
         "showlegend": false,
         "text": "Line_6_to_8_9<br />I = 74.554 %<br />I_from = 0.153 kA<br />I_to = 0.153 kA<br />",
         "x": [
          0.5309084,
          0.7989117299999999,
          1.06691506
         ],
         "y": [
          -3.43327237,
          -2.93221524,
          -2.43115811
         ],
         "type": "scatter"
        },
        {
         "hoverinfo": "text",
         "legendgroup": "lines",
         "line": {
          "color": "rgb(0.0,0.0,250.22727272727272)",
          "dash": "solid",
          "width": 2
         },
         "mode": "lines",
         "name": "lines",
         "showlegend": false,
         "text": "Line_6_to_9_10<br />I = 10.578 %<br />I_from = 0.029 kA<br />I_to = 0.029 kA<br />",
         "x": [
          0.5309084,
          0.817345075,
          1.10378175
         ],
         "y": [
          -3.43327237,
          -3.3104080849999997,
          -3.1875438
         ],
         "type": "scatter"
        },
        {
         "hoverinfo": "text",
         "legendgroup": "lines",
         "line": {
          "color": "rgb(0.0,0.0,255.0)",
          "dash": "solid",
          "width": 2
         },
         "mode": "lines",
         "name": "lines",
         "showlegend": false,
         "text": "Line_6_to_10_11<br />I = 12.278 %<br />I_from = 0.017 kA<br />I_to = 0.017 kA<br />",
         "x": [
          0.5309084,
          0.846803945,
          1.16269949
         ],
         "y": [
          -3.43327237,
          -3.865560975,
          -4.29784958
         ],
         "type": "scatter"
        },
        {
         "hoverinfo": "text",
         "legendgroup": "lines",
         "line": {
          "color": "rgb(0.0,0.0,127.5)",
          "dash": "solid",
          "width": 2
         },
         "mode": "lines",
         "name": "lines",
         "showlegend": false,
         "text": "Line_9_to_11_12<br />I = 0.0 %<br />I_from = 0.0 kA<br />I_to = 0.0 kA<br />",
         "x": [
          1.10378175,
          1.05793482,
          1.01208789
         ],
         "y": [
          -3.1875438,
          -2.46451495,
          -1.7414861
         ],
         "type": "scatter"
        },
        {
         "hoverinfo": "text",
         "legendgroup": "lines",
         "line": {
          "color": "rgb(0.0,0.0,250.22727272727272)",
          "dash": "solid",
          "width": 2
         },
         "mode": "lines",
         "name": "lines",
         "showlegend": false,
         "text": "Line_9_to_10_13<br />I = 10.578 %<br />I_from = 0.029 kA<br />I_to = 0.029 kA<br />",
         "x": [
          1.10378175,
          1.13324062,
          1.16269949
         ],
         "y": [
          -3.1875438,
          -3.74269669,
          -4.29784958
         ],
         "type": "scatter"
        },
        {
         "hoverinfo": "text",
         "legendgroup": "lines",
         "line": {
          "color": "rgb(0.0,0.0,172.95454545454544)",
          "dash": "solid",
          "width": 2
         },
         "mode": "lines",
         "name": "lines",
         "showlegend": false,
         "text": "Line_4_to_12_14<br />I = 4.119 %<br />I_from = 0.011 kA<br />I_to = 0.011 kA<br />",
         "x": [
          -0.37269465,
          -0.31053251000000004,
          -0.24837037
         ],
         "y": [
          -4.28290755,
          -4.9920337450000005,
          -5.70115994
         ],
         "type": "scatter"
        },
        {
         "hoverinfo": "text",
         "legendgroup": "lines",
         "line": {
          "color": "rgb(202.41935483870967,255.0,44.35483870967742)",
          "dash": "solid",
          "width": 2
         },
         "mode": "lines",
         "name": "lines",
         "showlegend": false,
         "text": "Line_12_to_13_15<br />I = 59.542 %<br />I_from = 0.166 kA<br />I_to = 0.166 kA<br />",
         "x": [
          -0.24837037,
          -0.79994002,
          -1.35150967
         ],
         "y": [
          -5.70115994,
          -6.03301106,
          -6.36486218
         ],
         "type": "scatter"
        },
        {
         "hoverinfo": "text",
         "legendgroup": "lines",
         "line": {
          "color": "rgb(0.0,48.5,255.0)",
          "dash": "solid",
          "width": 2
         },
         "mode": "lines",
         "name": "lines",
         "showlegend": false,
         "text": "Line_12_to_14_16<br />I = 17.311 %<br />I_from = 0.024 kA<br />I_to = 0.024 kA<br />",
         "x": [
          -0.24837037,
          -0.193819105,
          -0.13926784
         ],
         "y": [
          -5.70115994,
          -6.2184397449999995,
          -6.73571955
         ],
         "type": "scatter"
        },
        {
         "hoverinfo": "text",
         "legendgroup": "lines",
         "line": {
          "color": "rgb(0.0,180.5,255.0)",
          "dash": "solid",
          "width": 2
         },
         "mode": "lines",
         "name": "lines",
         "showlegend": false,
         "text": "Line_12_to_15_17<br />I = 30.241 %<br />I_from = 0.041 kA<br />I_to = 0.041 kA<br />",
         "x": [
          -0.24837037,
          0.27790299500000004,
          0.80417636
         ],
         "y": [
          -5.70115994,
          -6.06373286,
          -6.42630578
         ],
         "type": "scatter"
        },
        {
         "hoverinfo": "text",
         "legendgroup": "lines",
         "line": {
          "color": "rgb(0.0,172.5,255.0)",
          "dash": "solid",
          "width": 2
         },
         "mode": "lines",
         "name": "lines",
         "showlegend": false,
         "text": "Line_12_to_16_18<br />I = 29.377 %<br />I_from = 0.04 kA<br />I_to = 0.04 kA<br />",
         "x": [
          -0.24837037,
          -0.586332905,
          -0.92429544
         ],
         "y": [
          -5.70115994,
          -5.58677737,
          -5.4723948
         ],
         "type": "scatter"
        },
        {
         "hoverinfo": "text",
         "legendgroup": "lines",
         "line": {
          "color": "rgb(0.0,0.0,213.86363636363635)",
          "dash": "solid",
          "width": 2
         },
         "mode": "lines",
         "name": "lines",
         "showlegend": false,
         "text": "Line_14_to_15_19<br />I = 7.468 %<br />I_from = 0.005 kA<br />I_to = 0.005 kA<br />",
         "x": [
          -0.13926784,
          0.33245426,
          0.80417636
         ],
         "y": [
          -6.73571955,
          -6.581012664999999,
          -6.42630578
         ],
         "type": "scatter"
        },
        {
         "hoverinfo": "text",
         "legendgroup": "lines",
         "line": {
          "color": "rgb(31.4516129032258,255.0,215.3225806451613)",
          "dash": "solid",
          "width": 2
         },
         "mode": "lines",
         "name": "lines",
         "showlegend": false,
         "text": "Line_16_to_17_20<br />I = 38.699 %<br />I_from = 0.026 kA<br />I_to = 0.026 kA<br />",
         "x": [
          -0.92429544,
          -0.34736308,
          0.22956928
         ],
         "y": [
          -5.4723948,
          -5.190921685,
          -4.90944857
         ],
         "type": "scatter"
        },
        {
         "hoverinfo": "text",
         "legendgroup": "lines",
         "line": {
          "color": "rgb(195.96774193548384,255.0,50.80645161290322)",
          "dash": "solid",
          "width": 2
         },
         "mode": "lines",
         "name": "lines",
         "showlegend": false,
         "text": "Line_15_to_18_21<br />I = 58.634 %<br />I_from = 0.04 kA<br />I_to = 0.04 kA<br />",
         "x": [
          0.80417636,
          0.948945315,
          1.09371427
         ],
         "y": [
          -6.42630578,
          -6.9497400549999995,
          -7.47317433
         ],
         "type": "scatter"
        },
        {
         "hoverinfo": "text",
         "legendgroup": "lines",
         "line": {
          "color": "rgb(24.999999999999996,255.0,221.7741935483871)",
          "dash": "solid",
          "width": 2
         },
         "mode": "lines",
         "name": "lines",
         "showlegend": false,
         "text": "Line_18_to_19_22<br />I = 37.93 %<br />I_from = 0.026 kA<br />I_to = 0.026 kA<br />",
         "x": [
          1.09371427,
          1.475601165,
          1.85748806
         ],
         "y": [
          -7.47317433,
          -7.164482555,
          -6.85579078
         ],
         "type": "scatter"
        },
        {
         "hoverinfo": "text",
         "legendgroup": "lines",
         "line": {
          "color": "rgb(0.0,44.5,255.0)",
          "dash": "solid",
          "width": 2
         },
         "mode": "lines",
         "name": "lines",
         "showlegend": false,
         "text": "Line_19_to_20_23<br />I = 17.025 %<br />I_from = 0.023 kA<br />I_to = 0.023 kA<br />",
         "x": [
          1.85748806,
          1.6770482850000001,
          1.49660851
         ],
         "y": [
          -6.85579078,
          -6.2062257,
          -5.55666062
         ],
         "type": "scatter"
        },
        {
         "hoverinfo": "text",
         "legendgroup": "lines",
         "line": {
          "color": "rgb(0.0,116.49999999999997,255.0)",
          "dash": "solid",
          "width": 2
         },
         "mode": "lines",
         "name": "lines",
         "showlegend": false,
         "text": "Line_10_to_20_24<br />I = 23.837 %<br />I_from = 0.033 kA<br />I_to = 0.033 kA<br />",
         "x": [
          1.16269949,
          1.3296540000000001,
          1.49660851
         ],
         "y": [
          -4.29784958,
          -4.9272551,
          -5.55666062
         ],
         "type": "scatter"
        },
        {
         "hoverinfo": "text",
         "legendgroup": "lines",
         "line": {
          "color": "rgb(0.0,152.5,255.0)",
          "dash": "solid",
          "width": 2
         },
         "mode": "lines",
         "name": "lines",
         "showlegend": false,
         "text": "Line_10_to_17_25<br />I = 27.595 %<br />I_from = 0.038 kA<br />I_to = 0.038 kA<br />",
         "x": [
          1.16269949,
          0.696134385,
          0.22956928
         ],
         "y": [
          -4.29784958,
          -4.603649075,
          -4.90944857
         ],
         "type": "scatter"
        },
        {
         "hoverinfo": "text",
         "legendgroup": "lines",
         "line": {
          "color": "rgb(21.774193548387093,255.0,225.0)",
          "dash": "solid",
          "width": 2
         },
         "mode": "lines",
         "name": "lines",
         "showlegend": false,
         "text": "Line_10_to_21_26<br />I = 37.71 %<br />I_from = 0.052 kA<br />I_to = 0.052 kA<br />",
         "x": [
          1.16269949,
          1.522229425,
          1.88175936
         ],
         "y": [
          -4.29784958,
          -4.48328995,
          -4.66873032
         ],
         "type": "scatter"
        },
        {
         "hoverinfo": "text",
         "legendgroup": "lines",
         "line": {
          "color": "rgb(0.0,172.5,255.0)",
          "dash": "solid",
          "width": 2
         },
         "mode": "lines",
         "name": "lines",
         "showlegend": false,
         "text": "Line_10_to_22_27<br />I = 29.449 %<br />I_from = 0.04 kA<br />I_to = 0.04 kA<br />",
         "x": [
          1.16269949,
          1.7847798400000001,
          2.40686019
         ],
         "y": [
          -4.29784958,
          -4.348596615,
          -4.39934365
         ],
         "type": "scatter"
        },
        {
         "hoverinfo": "text",
         "legendgroup": "lines",
         "line": {
          "color": "rgb(177.50000000000017,0.0,0.0)",
          "dash": "solid",
          "width": 2
         },
         "mode": "lines",
         "name": "lines",
         "showlegend": false,
         "text": "Line_21_to_22_28<br />I = 95.351 %<br />I_from = 0.13 kA<br />I_to = 0.13 kA<br />",
         "x": [
          1.88175936,
          2.144309775,
          2.40686019
         ],
         "y": [
          -4.66873032,
          -4.534036985,
          -4.39934365
         ],
         "type": "scatter"
        },
        {
         "hoverinfo": "text",
         "legendgroup": "lines",
         "line": {
          "color": "rgb(250.8064516129032,240.92592592592598,0.0)",
          "dash": "solid",
          "width": 2
         },
         "mode": "lines",
         "name": "lines",
         "showlegend": false,
         "text": "Line_15_to_23_29<br />I = 65.36 %<br />I_from = 0.045 kA<br />I_to = 0.045 kA<br />",
         "x": [
          0.80417636,
          1.539526445,
          2.27487653
         ],
         "y": [
          -6.42630578,
          -6.2941214,
          -6.16193702
         ],
         "type": "scatter"
        },
        {
         "hoverinfo": "text",
         "legendgroup": "lines",
         "line": {
          "color": "rgb(128.2258064516129,255.0,118.5483870967742)",
          "dash": "solid",
          "width": 2
         },
         "mode": "lines",
         "name": "lines",
         "showlegend": false,
         "text": "Line_22_to_24_30<br />I = 50.475 %<br />I_from = 0.035 kA<br />I_to = 0.035 kA<br />",
         "x": [
          2.40686019,
          2.761921925,
          3.11698366
         ],
         "y": [
          -4.39934365,
          -4.772967845,
          -5.14659204
         ],
         "type": "scatter"
        },
        {
         "hoverinfo": "text",
         "legendgroup": "lines",
         "line": {
          "color": "rgb(79.8387096774193,255.0,166.93548387096777)",
          "dash": "solid",
          "width": 2
         },
         "mode": "lines",
         "name": "lines",
         "showlegend": false,
         "text": "Line_23_to_24_31<br />I = 44.627 %<br />I_from = 0.031 kA<br />I_to = 0.031 kA<br />",
         "x": [
          2.27487653,
          2.6959300949999996,
          3.11698366
         ],
         "y": [
          -6.16193702,
          -5.65426453,
          -5.14659204
         ],
         "type": "scatter"
        },
        {
         "hoverinfo": "text",
         "legendgroup": "lines",
         "line": {
          "color": "rgb(0.0,144.5,255.0)",
          "dash": "solid",
          "width": 2
         },
         "mode": "lines",
         "name": "lines",
         "showlegend": false,
         "text": "Line_24_to_25_32<br />I = 26.82 %<br />I_from = 0.018 kA<br />I_to = 0.018 kA<br />",
         "x": [
          3.11698366,
          3.42081239,
          3.72464112
         ],
         "y": [
          -5.14659204,
          -4.591842415,
          -4.03709279
         ],
         "type": "scatter"
        },
        {
         "hoverinfo": "text",
         "legendgroup": "lines",
         "line": {
          "color": "rgb(0.0,144.5,255.0)",
          "dash": "solid",
          "width": 2
         },
         "mode": "lines",
         "name": "lines",
         "showlegend": false,
         "text": "Line_25_to_26_33<br />I = 26.924 %<br />I_from = 0.018 kA<br />I_to = 0.018 kA<br />",
         "x": [
          3.72464112,
          4.277290765,
          4.82994041
         ],
         "y": [
          -4.03709279,
          -4.15378437,
          -4.27047595
         ],
         "type": "scatter"
        },
        {
         "hoverinfo": "text",
         "legendgroup": "lines",
         "line": {
          "color": "rgb(99.19354838709675,255.0,147.58064516129033)",
          "dash": "solid",
          "width": 2
         },
         "mode": "lines",
         "name": "lines",
         "showlegend": false,
         "text": "Line_25_to_27_34<br />I = 47.135 %<br />I_from = 0.032 kA<br />I_to = 0.032 kA<br />",
         "x": [
          3.72464112,
          3.414273855,
          3.10390659
         ],
         "y": [
          -4.03709279,
          -3.45221746,
          -2.86734213
         ],
         "type": "scatter"
        },
        {
         "hoverinfo": "text",
         "legendgroup": "lines",
         "line": {
          "color": "rgb(0.0,8.5,255.0)",
          "dash": "solid",
          "width": 2
         },
         "mode": "lines",
         "name": "lines",
         "showlegend": false,
         "text": "Line_28_to_27_35<br />I = 13.614 %<br />I_from = 0.038 kA<br />I_to = 0.038 kA<br />",
         "x": [
          1.85340926,
          2.478657925,
          3.10390659
         ],
         "y": [
          -2.84894447,
          -2.8581433,
          -2.86734213
         ],
         "type": "scatter"
        },
        {
         "hoverinfo": "text",
         "legendgroup": "lines",
         "line": {
          "color": "rgb(41.129032258064505,255.0,205.6451612903226)",
          "dash": "solid",
          "width": 2
         },
         "mode": "lines",
         "name": "lines",
         "showlegend": false,
         "text": "Line_27_to_29_36<br />I = 39.996 %<br />I_from = 0.027 kA<br />I_to = 0.027 kA<br />",
         "x": [
          3.10390659,
          3.5708549549999997,
          4.03780332
         ],
         "y": [
          -2.86734213,
          -2.57542253,
          -2.28350293
         ],
         "type": "scatter"
        },
        {
         "hoverinfo": "text",
         "legendgroup": "lines",
         "line": {
          "color": "rgb(89.51612903225806,255.0,157.25806451612902)",
          "dash": "solid",
          "width": 2
         },
         "mode": "lines",
         "name": "lines",
         "showlegend": false,
         "text": "Line_27_to_30_37<br />I = 45.729 %<br />I_from = 0.031 kA<br />I_to = 0.031 kA<br />",
         "x": [
          3.10390659,
          3.28742716,
          3.47094773
         ],
         "y": [
          -2.86734213,
          -2.3063157,
          -1.74528927
         ],
         "type": "scatter"
        },
        {
         "hoverinfo": "text",
         "legendgroup": "lines",
         "line": {
          "color": "rgb(0.0,112.5,255.0)",
          "dash": "solid",
          "width": 2
         },
         "mode": "lines",
         "name": "lines",
         "showlegend": false,
         "text": "Line_29_to_30_38<br />I = 23.825 %<br />I_from = 0.016 kA<br />I_to = 0.016 kA<br />",
         "x": [
          4.03780332,
          3.754375525,
          3.47094773
         ],
         "y": [
          -2.28350293,
          -2.0143961,
          -1.74528927
         ],
         "type": "scatter"
        },
        {
         "hoverinfo": "text",
         "legendgroup": "lines",
         "line": {
          "color": "rgb(0.0,140.5,255.0)",
          "dash": "solid",
          "width": 2
         },
         "mode": "lines",
         "name": "lines",
         "showlegend": false,
         "text": "Line_8_to_28_39<br />I = 26.261 %<br />I_from = 0.036 kA<br />I_to = 0.03 kA<br />",
         "x": [
          1.06691506,
          1.4601621599999999,
          1.85340926
         ],
         "y": [
          -2.43115811,
          -2.64005129,
          -2.84894447
         ],
         "type": "scatter"
        },
        {
         "hoverinfo": "text",
         "legendgroup": "lines",
         "line": {
          "color": "rgb(0.0,0.0,232.04545454545453)",
          "dash": "solid",
          "width": 2
         },
         "mode": "lines",
         "name": "lines",
         "showlegend": false,
         "text": "Line_6_to_28_40<br />I = 9.015 %<br />I_from = 0.012 kA<br />I_to = 0.008 kA<br />",
         "x": [
          0.5309084,
          1.19215883,
          1.85340926
         ],
         "y": [
          -3.43327237,
          -3.14110842,
          -2.84894447
         ],
         "type": "scatter"
        },
        {
         "hoverinfo": "text",
         "legendgroup": "lines",
         "marker": {
          "color": "rgb(128, 128, 128)",
          "size": 1,
          "symbol": "circle"
         },
         "mode": "markers",
         "name": "edge_center",
         "showlegend": false,
         "text": [
          "Line_1_to_2_0<br />I = 9.246 %<br />I_from = 0.051 kA<br />I_to = 0.047 kA<br />",
          "Line_1_to_3_1<br />I = 12.488 %<br />I_from = 0.067 kA<br />I_to = 0.069 kA<br />",
          "Line_2_to_4_2<br />I = 27.045 %<br />I_from = 0.072 kA<br />I_to = 0.075 kA<br />",
          "Line_3_to_4_3<br />I = 10.403 %<br />I_from = 0.058 kA<br />I_to = 0.058 kA<br />",
          "Line_2_to_5_4<br />I = 11.707 %<br />I_from = 0.062 kA<br />I_to = 0.065 kA<br />",
          "Line_2_to_6_5<br />I = 34.334 %<br />I_from = 0.092 kA<br />I_to = 0.095 kA<br />",
          "Line_4_to_6_6<br />I = 28.586 %<br />I_from = 0.11 kA<br />I_to = 0.11 kA<br />",
          "Line_5_to_7_7<br />I = 22.454 %<br />I_from = 0.065 kA<br />I_to = 0.067 kA<br />",
          "Line_6_to_7_8<br />I = 8.013 %<br />I_from = 0.043 kA<br />I_to = 0.045 kA<br />",
          "Line_6_to_8_9<br />I = 74.554 %<br />I_from = 0.153 kA<br />I_to = 0.153 kA<br />",
          "Line_6_to_9_10<br />I = 10.578 %<br />I_from = 0.029 kA<br />I_to = 0.029 kA<br />",
          "Line_6_to_10_11<br />I = 12.278 %<br />I_from = 0.017 kA<br />I_to = 0.017 kA<br />",
          "Line_9_to_11_12<br />I = 0.0 %<br />I_from = 0.0 kA<br />I_to = 0.0 kA<br />",
          "Line_9_to_10_13<br />I = 10.578 %<br />I_from = 0.029 kA<br />I_to = 0.029 kA<br />",
          "Line_4_to_12_14<br />I = 4.119 %<br />I_from = 0.011 kA<br />I_to = 0.011 kA<br />",
          "Line_12_to_13_15<br />I = 59.542 %<br />I_from = 0.166 kA<br />I_to = 0.166 kA<br />",
          "Line_12_to_14_16<br />I = 17.311 %<br />I_from = 0.024 kA<br />I_to = 0.024 kA<br />",
          "Line_12_to_15_17<br />I = 30.241 %<br />I_from = 0.041 kA<br />I_to = 0.041 kA<br />",
          "Line_12_to_16_18<br />I = 29.377 %<br />I_from = 0.04 kA<br />I_to = 0.04 kA<br />",
          "Line_14_to_15_19<br />I = 7.468 %<br />I_from = 0.005 kA<br />I_to = 0.005 kA<br />",
          "Line_16_to_17_20<br />I = 38.699 %<br />I_from = 0.026 kA<br />I_to = 0.026 kA<br />",
          "Line_15_to_18_21<br />I = 58.634 %<br />I_from = 0.04 kA<br />I_to = 0.04 kA<br />",
          "Line_18_to_19_22<br />I = 37.93 %<br />I_from = 0.026 kA<br />I_to = 0.026 kA<br />",
          "Line_19_to_20_23<br />I = 17.025 %<br />I_from = 0.023 kA<br />I_to = 0.023 kA<br />",
          "Line_10_to_20_24<br />I = 23.837 %<br />I_from = 0.033 kA<br />I_to = 0.033 kA<br />",
          "Line_10_to_17_25<br />I = 27.595 %<br />I_from = 0.038 kA<br />I_to = 0.038 kA<br />",
          "Line_10_to_21_26<br />I = 37.71 %<br />I_from = 0.052 kA<br />I_to = 0.052 kA<br />",
          "Line_10_to_22_27<br />I = 29.449 %<br />I_from = 0.04 kA<br />I_to = 0.04 kA<br />",
          "Line_21_to_22_28<br />I = 95.351 %<br />I_from = 0.13 kA<br />I_to = 0.13 kA<br />",
          "Line_15_to_23_29<br />I = 65.36 %<br />I_from = 0.045 kA<br />I_to = 0.045 kA<br />",
          "Line_22_to_24_30<br />I = 50.475 %<br />I_from = 0.035 kA<br />I_to = 0.035 kA<br />",
          "Line_23_to_24_31<br />I = 44.627 %<br />I_from = 0.031 kA<br />I_to = 0.031 kA<br />",
          "Line_24_to_25_32<br />I = 26.82 %<br />I_from = 0.018 kA<br />I_to = 0.018 kA<br />",
          "Line_25_to_26_33<br />I = 26.924 %<br />I_from = 0.018 kA<br />I_to = 0.018 kA<br />",
          "Line_25_to_27_34<br />I = 47.135 %<br />I_from = 0.032 kA<br />I_to = 0.032 kA<br />",
          "Line_28_to_27_35<br />I = 13.614 %<br />I_from = 0.038 kA<br />I_to = 0.038 kA<br />",
          "Line_27_to_29_36<br />I = 39.996 %<br />I_from = 0.027 kA<br />I_to = 0.027 kA<br />",
          "Line_27_to_30_37<br />I = 45.729 %<br />I_from = 0.031 kA<br />I_to = 0.031 kA<br />",
          "Line_29_to_30_38<br />I = 23.825 %<br />I_from = 0.016 kA<br />I_to = 0.016 kA<br />",
          "Line_8_to_28_39<br />I = 26.261 %<br />I_from = 0.036 kA<br />I_to = 0.03 kA<br />",
          "Line_6_to_28_40<br />I = 9.015 %<br />I_from = 0.012 kA<br />I_to = 0.008 kA<br />"
         ],
         "x": [
          -1.144736945
         ],
         "y": [
          -3.252058715
         ],
         "type": "scatter"
        },
        {
         "hoverinfo": "text",
         "marker": {
          "color": "rgb(128, 128, 128)",
          "size": 20,
          "symbol": "square"
         },
         "mode": "markers",
         "name": "external_grid",
         "text": [
          1
         ],
         "x": [
          -1.72745671
         ],
         "y": [
          -3.18926495
         ],
         "type": "scatter"
        },
        {
         "hoverinfo": "text",
         "marker": {
          "cmax": 1.1,
          "cmin": 0.9,
          "color": {
           "dtype": "f8",
           "bdata": "AAAAAAAA8D/////////vP6oS5W3ede8/CZJF/Otc7z+gjdMe32/vP8B7+9BSJO8/ncFwaZP07j+ZfV3ubb3uP/joSV1OYO8/pVoPcD2A7z/46EldTmDvP2FTGtr0iO8/////////7z97J6LG70DvPzUGuUQJXu8/o/3GQNNG7z+ah4I/e0LvP7wos5J2/e4/DtJPpaHj7j9PFJ8maQPvPwTKf8TLye8/////////7z8AAAAAAADwP0mmAslVou8/RSaQBtev7z9KVtjnNhzvPwAAAAAAAPA/8vEqTd0w7z9+CTow21jvP2AuD4Tl+O4/"
          },
          "colorbar": {
           "thickness": 10,
           "title": {
            "side": "right",
            "text": "Bus Voltage [pu]"
           },
           "x": 1.0
          },
          "colorscale": [
           [
            0.0,
            "rgb(0,0,131)"
           ],
           [
            0.2,
            "rgb(0,60,170)"
           ],
           [
            0.4,
            "rgb(5,255,255)"
           ],
           [
            0.6,
            "rgb(255,255,0)"
           ],
           [
            0.8,
            "rgb(250,0,0)"
           ],
           [
            1.0,
            "rgb(128,0,0)"
           ]
          ],
          "size": 10,
          "symbol": "circle"
         },
         "mode": "markers",
         "name": "buses",
         "text": [
          "1<br />V_m = 1.0 pu<br />V_m = 135.0 kV<br />V_a = 0.0 deg",
          "2<br />V_m = 1.0 pu<br />V_m = 135.0 kV<br />V_a = -0.415 deg",
          "3<br />V_m = 0.983 pu<br />V_m = 132.724 kV<br />V_a = -1.522 deg",
          "4<br />V_m = 0.98 pu<br />V_m = 132.313 kV<br />V_a = -1.795 deg",
          "5<br />V_m = 0.982 pu<br />V_m = 132.625 kV<br />V_a = -1.864 deg",
          "6<br />V_m = 0.973 pu<br />V_m = 131.38 kV<br />V_a = -2.267 deg",
          "7<br />V_m = 0.967 pu<br />V_m = 130.593 kV<br />V_a = -2.652 deg",
          "8<br />V_m = 0.961 pu<br />V_m = 129.684 kV<br />V_a = -2.726 deg",
          "9<br />V_m = 0.981 pu<br />V_m = 132.368 kV<br />V_a = -2.997 deg",
          "10<br />V_m = 0.984 pu<br />V_m = 132.895 kV<br />V_a = -3.375 deg",
          "11<br />V_m = 0.981 pu<br />V_m = 132.368 kV<br />V_a = -2.997 deg",
          "12<br />V_m = 0.985 pu<br />V_m = 133.038 kV<br />V_a = -1.537 deg",
          "13<br />V_m = 1.0 pu<br />V_m = 135.0 kV<br />V_a = 1.476 deg",
          "14<br />V_m = 0.977 pu<br />V_m = 131.851 kV<br />V_a = -2.308 deg",
          "15<br />V_m = 0.98 pu<br />V_m = 132.331 kV<br />V_a = -2.312 deg",
          "16<br />V_m = 0.977 pu<br />V_m = 131.948 kV<br />V_a = -2.644 deg",
          "17<br />V_m = 0.977 pu<br />V_m = 131.877 kV<br />V_a = -3.392 deg",
          "18<br />V_m = 0.968 pu<br />V_m = 130.739 kV<br />V_a = -3.478 deg",
          "19<br />V_m = 0.965 pu<br />V_m = 130.314 kV<br />V_a = -3.958 deg",
          "20<br />V_m = 0.969 pu<br />V_m = 130.837 kV<br />V_a = -3.871 deg",
          "21<br />V_m = 0.993 pu<br />V_m = 134.107 kV<br />V_a = -3.488 deg",
          "22<br />V_m = 1.0 pu<br />V_m = 135.0 kV<br />V_a = -3.393 deg",
          "23<br />V_m = 1.0 pu<br />V_m = 135.0 kV<br />V_a = -1.589 deg",
          "24<br />V_m = 0.989 pu<br />V_m = 133.456 kV<br />V_a = -2.631 deg",
          "25<br />V_m = 0.99 pu<br />V_m = 133.679 kV<br />V_a = -1.69 deg",
          "26<br />V_m = 0.972 pu<br />V_m = 131.246 kV<br />V_a = -2.139 deg",
          "27<br />V_m = 1.0 pu<br />V_m = 135.0 kV<br />V_a = -0.828 deg",
          "28<br />V_m = 0.975 pu<br />V_m = 131.587 kV<br />V_a = -2.266 deg",
          "29<br />V_m = 0.98 pu<br />V_m = 132.246 kV<br />V_a = -2.128 deg",
          "30<br />V_m = 0.968 pu<br />V_m = 130.664 kV<br />V_a = -3.042 deg"
         ],
         "x": [
          -1.72745671,
          -0.56201718,
          -1.59061066,
          -0.37269465,
          -1.05378362,
          0.5309084,
          -0.06737913,
          1.06691506,
          1.10378175,
          1.16269949,
          1.01208789,
          -0.24837037,
          -1.35150967,
          -0.13926784,
          0.80417636,
          -0.92429544,
          0.22956928,
          1.09371427,
          1.85748806,
          1.49660851,
          1.88175936,
          2.40686019,
          2.27487653,
          3.11698366,
          3.72464112,
          4.82994041,
          3.10390659,
          1.85340926,
          4.03780332,
          3.47094773
         ],
         "y": [
          -3.18926495,
          -3.31485248,
          -4.14420215,
          -4.28290755,
          -2.23944635,
          -3.43327237,
          -2.39188731,
          -2.43115811,
          -3.1875438,
          -4.29784958,
          -1.7414861,
          -5.70115994,
          -6.36486218,
          -6.73571955,
          -6.42630578,
          -5.4723948,
          -4.90944857,
          -7.47317433,
          -6.85579078,
          -5.55666062,
          -4.66873032,
          -4.39934365,
          -6.16193702,
          -5.14659204,
          -4.03709279,
          -4.27047595,
          -2.86734213,
          -2.84894447,
          -2.28350293,
          -1.74528927
         ],
         "type": "scatter"
        }
       ],
       "layout": {
        "autosize": true,
        "hovermode": "closest",
        "legend": {
         "itemsizing": "constant"
        },
        "margin": {
         "b": 5,
         "l": 5,
         "r": 5,
         "t": 5
        },
        "showlegend": false,
        "title": {
         "font": {
          "size": 16
         }
        },
        "xaxis": {
         "showgrid": false,
         "showticklabels": false,
         "zeroline": false
        },
        "yaxis": {
         "showgrid": false,
         "showticklabels": false,
         "zeroline": false
        },
        "template": {
         "data": {
          "histogram2dcontour": [
           {
            "type": "histogram2dcontour",
            "colorbar": {
             "outlinewidth": 0,
             "ticks": ""
            },
            "colorscale": [
             [
              0.0,
              "#0d0887"
             ],
             [
              0.1111111111111111,
              "#46039f"
             ],
             [
              0.2222222222222222,
              "#7201a8"
             ],
             [
              0.3333333333333333,
              "#9c179e"
             ],
             [
              0.4444444444444444,
              "#bd3786"
             ],
             [
              0.5555555555555556,
              "#d8576b"
             ],
             [
              0.6666666666666666,
              "#ed7953"
             ],
             [
              0.7777777777777778,
              "#fb9f3a"
             ],
             [
              0.8888888888888888,
              "#fdca26"
             ],
             [
              1.0,
              "#f0f921"
             ]
            ]
           }
          ],
          "choropleth": [
           {
            "type": "choropleth",
            "colorbar": {
             "outlinewidth": 0,
             "ticks": ""
            }
           }
          ],
          "histogram2d": [
           {
            "type": "histogram2d",
            "colorbar": {
             "outlinewidth": 0,
             "ticks": ""
            },
            "colorscale": [
             [
              0.0,
              "#0d0887"
             ],
             [
              0.1111111111111111,
              "#46039f"
             ],
             [
              0.2222222222222222,
              "#7201a8"
             ],
             [
              0.3333333333333333,
              "#9c179e"
             ],
             [
              0.4444444444444444,
              "#bd3786"
             ],
             [
              0.5555555555555556,
              "#d8576b"
             ],
             [
              0.6666666666666666,
              "#ed7953"
             ],
             [
              0.7777777777777778,
              "#fb9f3a"
             ],
             [
              0.8888888888888888,
              "#fdca26"
             ],
             [
              1.0,
              "#f0f921"
             ]
            ]
           }
          ],
          "heatmap": [
           {
            "type": "heatmap",
            "colorbar": {
             "outlinewidth": 0,
             "ticks": ""
            },
            "colorscale": [
             [
              0.0,
              "#0d0887"
             ],
             [
              0.1111111111111111,
              "#46039f"
             ],
             [
              0.2222222222222222,
              "#7201a8"
             ],
             [
              0.3333333333333333,
              "#9c179e"
             ],
             [
              0.4444444444444444,
              "#bd3786"
             ],
             [
              0.5555555555555556,
              "#d8576b"
             ],
             [
              0.6666666666666666,
              "#ed7953"
             ],
             [
              0.7777777777777778,
              "#fb9f3a"
             ],
             [
              0.8888888888888888,
              "#fdca26"
             ],
             [
              1.0,
              "#f0f921"
             ]
            ]
           }
          ],
          "contourcarpet": [
           {
            "type": "contourcarpet",
            "colorbar": {
             "outlinewidth": 0,
             "ticks": ""
            }
           }
          ],
          "contour": [
           {
            "type": "contour",
            "colorbar": {
             "outlinewidth": 0,
             "ticks": ""
            },
            "colorscale": [
             [
              0.0,
              "#0d0887"
             ],
             [
              0.1111111111111111,
              "#46039f"
             ],
             [
              0.2222222222222222,
              "#7201a8"
             ],
             [
              0.3333333333333333,
              "#9c179e"
             ],
             [
              0.4444444444444444,
              "#bd3786"
             ],
             [
              0.5555555555555556,
              "#d8576b"
             ],
             [
              0.6666666666666666,
              "#ed7953"
             ],
             [
              0.7777777777777778,
              "#fb9f3a"
             ],
             [
              0.8888888888888888,
              "#fdca26"
             ],
             [
              1.0,
              "#f0f921"
             ]
            ]
           }
          ],
          "surface": [
           {
            "type": "surface",
            "colorbar": {
             "outlinewidth": 0,
             "ticks": ""
            },
            "colorscale": [
             [
              0.0,
              "#0d0887"
             ],
             [
              0.1111111111111111,
              "#46039f"
             ],
             [
              0.2222222222222222,
              "#7201a8"
             ],
             [
              0.3333333333333333,
              "#9c179e"
             ],
             [
              0.4444444444444444,
              "#bd3786"
             ],
             [
              0.5555555555555556,
              "#d8576b"
             ],
             [
              0.6666666666666666,
              "#ed7953"
             ],
             [
              0.7777777777777778,
              "#fb9f3a"
             ],
             [
              0.8888888888888888,
              "#fdca26"
             ],
             [
              1.0,
              "#f0f921"
             ]
            ]
           }
          ],
          "mesh3d": [
           {
            "type": "mesh3d",
            "colorbar": {
             "outlinewidth": 0,
             "ticks": ""
            }
           }
          ],
          "scatter": [
           {
            "fillpattern": {
             "fillmode": "overlay",
             "size": 10,
             "solidity": 0.2
            },
            "type": "scatter"
           }
          ],
          "parcoords": [
           {
            "type": "parcoords",
            "line": {
             "colorbar": {
              "outlinewidth": 0,
              "ticks": ""
             }
            }
           }
          ],
          "scatterpolargl": [
           {
            "type": "scatterpolargl",
            "marker": {
             "colorbar": {
              "outlinewidth": 0,
              "ticks": ""
             }
            }
           }
          ],
          "bar": [
           {
            "error_x": {
             "color": "#2a3f5f"
            },
            "error_y": {
             "color": "#2a3f5f"
            },
            "marker": {
             "line": {
              "color": "#E5ECF6",
              "width": 0.5
             },
             "pattern": {
              "fillmode": "overlay",
              "size": 10,
              "solidity": 0.2
             }
            },
            "type": "bar"
           }
          ],
          "scattergeo": [
           {
            "type": "scattergeo",
            "marker": {
             "colorbar": {
              "outlinewidth": 0,
              "ticks": ""
             }
            }
           }
          ],
          "scatterpolar": [
           {
            "type": "scatterpolar",
            "marker": {
             "colorbar": {
              "outlinewidth": 0,
              "ticks": ""
             }
            }
           }
          ],
          "histogram": [
           {
            "marker": {
             "pattern": {
              "fillmode": "overlay",
              "size": 10,
              "solidity": 0.2
             }
            },
            "type": "histogram"
           }
          ],
          "scattergl": [
           {
            "type": "scattergl",
            "marker": {
             "colorbar": {
              "outlinewidth": 0,
              "ticks": ""
             }
            }
           }
          ],
          "scatter3d": [
           {
            "type": "scatter3d",
            "line": {
             "colorbar": {
              "outlinewidth": 0,
              "ticks": ""
             }
            },
            "marker": {
             "colorbar": {
              "outlinewidth": 0,
              "ticks": ""
             }
            }
           }
          ],
          "scattermap": [
           {
            "type": "scattermap",
            "marker": {
             "colorbar": {
              "outlinewidth": 0,
              "ticks": ""
             }
            }
           }
          ],
          "scattermapbox": [
           {
            "type": "scattermapbox",
            "marker": {
             "colorbar": {
              "outlinewidth": 0,
              "ticks": ""
             }
            }
           }
          ],
          "scatterternary": [
           {
            "type": "scatterternary",
            "marker": {
             "colorbar": {
              "outlinewidth": 0,
              "ticks": ""
             }
            }
           }
          ],
          "scattercarpet": [
           {
            "type": "scattercarpet",
            "marker": {
             "colorbar": {
              "outlinewidth": 0,
              "ticks": ""
             }
            }
           }
          ],
          "carpet": [
           {
            "aaxis": {
             "endlinecolor": "#2a3f5f",
             "gridcolor": "white",
             "linecolor": "white",
             "minorgridcolor": "white",
             "startlinecolor": "#2a3f5f"
            },
            "baxis": {
             "endlinecolor": "#2a3f5f",
             "gridcolor": "white",
             "linecolor": "white",
             "minorgridcolor": "white",
             "startlinecolor": "#2a3f5f"
            },
            "type": "carpet"
           }
          ],
          "table": [
           {
            "cells": {
             "fill": {
              "color": "#EBF0F8"
             },
             "line": {
              "color": "white"
             }
            },
            "header": {
             "fill": {
              "color": "#C8D4E3"
             },
             "line": {
              "color": "white"
             }
            },
            "type": "table"
           }
          ],
          "barpolar": [
           {
            "marker": {
             "line": {
              "color": "#E5ECF6",
              "width": 0.5
             },
             "pattern": {
              "fillmode": "overlay",
              "size": 10,
              "solidity": 0.2
             }
            },
            "type": "barpolar"
           }
          ],
          "pie": [
           {
            "automargin": true,
            "type": "pie"
           }
          ]
         },
         "layout": {
          "autotypenumbers": "strict",
          "colorway": [
           "#636efa",
           "#EF553B",
           "#00cc96",
           "#ab63fa",
           "#FFA15A",
           "#19d3f3",
           "#FF6692",
           "#B6E880",
           "#FF97FF",
           "#FECB52"
          ],
          "font": {
           "color": "#2a3f5f"
          },
          "hovermode": "closest",
          "hoverlabel": {
           "align": "left"
          },
          "paper_bgcolor": "white",
          "plot_bgcolor": "#E5ECF6",
          "polar": {
           "bgcolor": "#E5ECF6",
           "angularaxis": {
            "gridcolor": "white",
            "linecolor": "white",
            "ticks": ""
           },
           "radialaxis": {
            "gridcolor": "white",
            "linecolor": "white",
            "ticks": ""
           }
          },
          "ternary": {
           "bgcolor": "#E5ECF6",
           "aaxis": {
            "gridcolor": "white",
            "linecolor": "white",
            "ticks": ""
           },
           "baxis": {
            "gridcolor": "white",
            "linecolor": "white",
            "ticks": ""
           },
           "caxis": {
            "gridcolor": "white",
            "linecolor": "white",
            "ticks": ""
           }
          },
          "coloraxis": {
           "colorbar": {
            "outlinewidth": 0,
            "ticks": ""
           }
          },
          "colorscale": {
           "sequential": [
            [
             0.0,
             "#0d0887"
            ],
            [
             0.1111111111111111,
             "#46039f"
            ],
            [
             0.2222222222222222,
             "#7201a8"
            ],
            [
             0.3333333333333333,
             "#9c179e"
            ],
            [
             0.4444444444444444,
             "#bd3786"
            ],
            [
             0.5555555555555556,
             "#d8576b"
            ],
            [
             0.6666666666666666,
             "#ed7953"
            ],
            [
             0.7777777777777778,
             "#fb9f3a"
            ],
            [
             0.8888888888888888,
             "#fdca26"
            ],
            [
             1.0,
             "#f0f921"
            ]
           ],
           "sequentialminus": [
            [
             0.0,
             "#0d0887"
            ],
            [
             0.1111111111111111,
             "#46039f"
            ],
            [
             0.2222222222222222,
             "#7201a8"
            ],
            [
             0.3333333333333333,
             "#9c179e"
            ],
            [
             0.4444444444444444,
             "#bd3786"
            ],
            [
             0.5555555555555556,
             "#d8576b"
            ],
            [
             0.6666666666666666,
             "#ed7953"
            ],
            [
             0.7777777777777778,
             "#fb9f3a"
            ],
            [
             0.8888888888888888,
             "#fdca26"
            ],
            [
             1.0,
             "#f0f921"
            ]
           ],
           "diverging": [
            [
             0,
             "#8e0152"
            ],
            [
             0.1,
             "#c51b7d"
            ],
            [
             0.2,
             "#de77ae"
            ],
            [
             0.3,
             "#f1b6da"
            ],
            [
             0.4,
             "#fde0ef"
            ],
            [
             0.5,
             "#f7f7f7"
            ],
            [
             0.6,
             "#e6f5d0"
            ],
            [
             0.7,
             "#b8e186"
            ],
            [
             0.8,
             "#7fbc41"
            ],
            [
             0.9,
             "#4d9221"
            ],
            [
             1,
             "#276419"
            ]
           ]
          },
          "xaxis": {
           "gridcolor": "white",
           "linecolor": "white",
           "ticks": "",
           "title": {
            "standoff": 15
           },
           "zerolinecolor": "white",
           "automargin": true,
           "zerolinewidth": 2
          },
          "yaxis": {
           "gridcolor": "white",
           "linecolor": "white",
           "ticks": "",
           "title": {
            "standoff": 15
           },
           "zerolinecolor": "white",
           "automargin": true,
           "zerolinewidth": 2
          },
          "scene": {
           "xaxis": {
            "backgroundcolor": "#E5ECF6",
            "gridcolor": "white",
            "linecolor": "white",
            "showbackground": true,
            "ticks": "",
            "zerolinecolor": "white",
            "gridwidth": 2
           },
           "yaxis": {
            "backgroundcolor": "#E5ECF6",
            "gridcolor": "white",
            "linecolor": "white",
            "showbackground": true,
            "ticks": "",
            "zerolinecolor": "white",
            "gridwidth": 2
           },
           "zaxis": {
            "backgroundcolor": "#E5ECF6",
            "gridcolor": "white",
            "linecolor": "white",
            "showbackground": true,
            "ticks": "",
            "zerolinecolor": "white",
            "gridwidth": 2
           }
          },
          "shapedefaults": {
           "line": {
            "color": "#2a3f5f"
           }
          },
          "annotationdefaults": {
           "arrowcolor": "#2a3f5f",
           "arrowhead": 0,
           "arrowwidth": 1
          },
          "geo": {
           "bgcolor": "white",
           "landcolor": "#E5ECF6",
           "subunitcolor": "white",
           "showland": true,
           "showlakes": true,
           "lakecolor": "white"
          },
          "title": {
           "x": 0.05
          },
          "mapbox": {
           "style": "light"
          }
         }
        },
        "width": 700.0,
        "height": 611.8558457841272
       },
       "config": {
        "plotlyServerURL": "https://plot.ly"
       }
      }
     },
     "metadata": {},
     "output_type": "display_data"
    }
   ],
   "execution_count": 6
  },
  {
   "metadata": {
    "ExecuteTime": {
     "end_time": "2025-07-13T02:19:56.702531Z",
     "start_time": "2025-07-13T02:19:56.685215Z"
    }
   },
   "cell_type": "code",
   "source": "pp.to_json(net, str(DATA_DIR / \"base_networks\" / \"case30_no_viol.json\"))",
   "id": "8c68bb0fd4e2312c",
   "outputs": [],
   "execution_count": 7
  }
 ],
 "metadata": {
  "kernelspec": {
   "display_name": "Python 3",
   "language": "python",
   "name": "python3"
  },
  "language_info": {
   "codemirror_mode": {
    "name": "ipython",
    "version": 2
   },
   "file_extension": ".py",
   "mimetype": "text/x-python",
   "name": "python",
   "nbconvert_exporter": "python",
   "pygments_lexer": "ipython2",
   "version": "2.7.6"
  }
 },
 "nbformat": 4,
 "nbformat_minor": 5
}
