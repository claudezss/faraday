{
 "cells": [
  {
   "cell_type": "code",
   "id": "initial_id",
   "metadata": {
    "collapsed": true,
    "ExecuteTime": {
     "end_time": "2025-07-13T02:19:54.150314Z",
     "start_time": "2025-07-13T02:19:53.278415Z"
    }
   },
   "source": [
    "import pandapower as pp\n",
    "from energiq_agent import DATA_DIR\n",
    "from energiq_agent.tools.network_generator import NetworkGenerator"
   ],
   "outputs": [],
   "execution_count": 1
  },
  {
   "metadata": {},
   "cell_type": "markdown",
   "source": "## CIGRE MV Modified",
   "id": "1128dbe279fa2f8d"
  },
  {
   "metadata": {
    "ExecuteTime": {
     "end_time": "2025-07-13T02:19:55.691477Z",
     "start_time": "2025-07-13T02:19:54.154363Z"
    }
   },
   "cell_type": "code",
   "source": [
    "net = pp.networks.create_cigre_network_mv(with_der=\"pv_wind\")\n",
    "net.load[\"curtailable\"] = False\n",
    "pp.toolbox.drop_lines(net, [9])\n",
    "net.switch.loc[net.switch.name == \"S3\", \"closed\"] = True\n",
    "pp.runpp(net)\n",
    "pp.plotting.plotly.pf_res_plotly(net, auto_open=False)"
   ],
   "id": "a10475fd15c25d6f",
   "outputs": [
    {
     "data": {
      "application/vnd.plotly.v1+json": {
       "data": [
        {
         "hoverinfo": "text",
         "legendgroup": "lines",
         "line": {
          "color": "rgb(212.09677419354836,255.0,34.67741935483871)",
          "dash": "solid",
          "width": 2
         },
         "mode": "lines",
         "name": "lines",
         "showlegend": true,
         "text": "Line 1-2<br />I = 60.875 %<br />I_from = 0.088 kA<br />I_to = 0.088 kA<br />",
         "x": [
          4.0,
          4.0,
          4.0
         ],
         "y": [
          15.0,
          14.0,
          13.0
         ],
         "type": "scatter"
        },
        {
         "hoverinfo": "text",
         "legendgroup": "lines",
         "line": {
          "color": "rgb(218.54838709677418,255.0,28.22580645161291)",
          "dash": "solid",
          "width": 2
         },
         "mode": "lines",
         "name": "lines",
         "showlegend": false,
         "text": "Line 2-3<br />I = 61.601 %<br />I_from = 0.088 kA<br />I_to = 0.089 kA<br />",
         "x": [
          4.0,
          4.0,
          4.0
         ],
         "y": [
          13.0,
          12.0,
          11.0
         ],
         "type": "scatter"
        },
        {
         "hoverinfo": "text",
         "legendgroup": "lines",
         "line": {
          "color": "rgb(128.2258064516129,255.0,118.5483870967742)",
          "dash": "solid",
          "width": 2
         },
         "mode": "lines",
         "name": "lines",
         "showlegend": false,
         "text": "Line 3-4<br />I = 50.743 %<br />I_from = 0.073 kA<br />I_to = 0.074 kA<br />",
         "x": [
          4.0,
          3.25,
          2.5
         ],
         "y": [
          11.0,
          10.0,
          9.0
         ],
         "type": "scatter"
        },
        {
         "hoverinfo": "text",
         "legendgroup": "lines",
         "line": {
          "color": "rgb(0.0,140.5,255.0)",
          "dash": "solid",
          "width": 2
         },
         "mode": "lines",
         "name": "lines",
         "showlegend": false,
         "text": "Line 4-5<br />I = 26.281 %<br />I_from = 0.038 kA<br />I_to = 0.038 kA<br />",
         "x": [
          2.5,
          1.75,
          1.0
         ],
         "y": [
          9.0,
          8.0,
          7.0
         ],
         "type": "scatter"
        },
        {
         "hoverinfo": "text",
         "legendgroup": "lines",
         "line": {
          "color": "rgb(0.0,0.0,254.77272727272725)",
          "dash": "solid",
          "width": 2
         },
         "mode": "lines",
         "name": "lines",
         "showlegend": false,
         "text": "Line 5-6<br />I = 11.261 %<br />I_from = 0.016 kA<br />I_to = 0.016 kA<br />",
         "x": [
          1.0,
          1.0,
          1.0
         ],
         "y": [
          7.0,
          5.0,
          3.0
         ],
         "type": "scatter"
        },
        {
         "hoverinfo": "text",
         "legendgroup": "lines",
         "line": {
          "color": "rgb(0.0,176.5,255.0)",
          "dash": "solid",
          "width": 2
         },
         "mode": "lines",
         "name": "lines",
         "showlegend": false,
         "text": "Line 7-8<br />I = 29.858 %<br />I_from = 0.043 kA<br />I_to = 0.043 kA<br />",
         "x": [
          8.0,
          8.0,
          8.0
         ],
         "y": [
          3.0,
          4.0,
          5.0
         ],
         "type": "scatter"
        },
        {
         "hoverinfo": "text",
         "legendgroup": "lines",
         "line": {
          "color": "rgb(0.0,60.5,255.0)",
          "dash": "solid",
          "width": 2
         },
         "mode": "lines",
         "name": "lines",
         "showlegend": false,
         "text": "Line 8-9<br />I = 18.487 %<br />I_from = 0.027 kA<br />I_to = 0.027 kA<br />",
         "x": [
          8.0,
          7.0,
          6.0
         ],
         "y": [
          5.0,
          5.0,
          5.0
         ],
         "type": "scatter"
        },
        {
         "hoverinfo": "text",
         "legendgroup": "lines",
         "line": {
          "color": "rgb(0.0,0.5,255.0)",
          "dash": "solid",
          "width": 2
         },
         "mode": "lines",
         "name": "lines",
         "showlegend": false,
         "text": "Line 9-10<br />I = 12.88 %<br />I_from = 0.019 kA<br />I_to = 0.018 kA<br />",
         "x": [
          6.0,
          5.0,
          4.0
         ],
         "y": [
          5.0,
          5.0,
          5.0
         ],
         "type": "scatter"
        },
        {
         "hoverinfo": "text",
         "legendgroup": "lines",
         "line": {
          "color": "rgb(0.0,20.49999999999997,255.0)",
          "dash": "solid",
          "width": 2
         },
         "mode": "lines",
         "name": "lines",
         "showlegend": false,
         "text": "Line 10-11<br />I = 14.661 %<br />I_from = 0.021 kA<br />I_to = 0.021 kA<br />",
         "x": [
          4.0,
          4.0,
          4.0
         ],
         "y": [
          5.0,
          6.0,
          7.0
         ],
         "type": "scatter"
        },
        {
         "hoverinfo": "text",
         "legendgroup": "lines",
         "line": {
          "color": "rgb(0.0,0.0,236.59090909090907)",
          "dash": "solid",
          "width": 2
         },
         "mode": "lines",
         "name": "lines",
         "showlegend": false,
         "text": "Line 12-13<br />I = 9.476 %<br />I_from = 0.018 kA<br />I_to = 0.018 kA<br />",
         "x": [
          10.0,
          10.0,
          10.0
         ],
         "y": [
          15.0,
          13.0,
          11.0
         ],
         "type": "scatter"
        },
        {
         "hoverinfo": "text",
         "legendgroup": "lines",
         "line": {
          "color": "rgb(0.0,0.0,227.49999999999997)",
          "dash": "solid",
          "width": 2
         },
         "mode": "lines",
         "name": "lines",
         "showlegend": false,
         "text": "Line 13-14<br />I = 8.909 %<br />I_from = 0.017 kA<br />I_to = 0.017 kA<br />",
         "x": [
          10.0,
          10.0,
          10.0
         ],
         "y": [
          11.0,
          8.0,
          5.0
         ],
         "type": "scatter"
        },
        {
         "hoverinfo": "text",
         "legendgroup": "lines",
         "line": {
          "color": "rgb(0.0,64.5,255.0)",
          "dash": "solid",
          "width": 2
         },
         "mode": "lines",
         "name": "lines",
         "showlegend": false,
         "text": "Line 11-4<br />I = 19.001 %<br />I_from = 0.028 kA<br />I_to = 0.027 kA<br />",
         "x": [
          4.0,
          3.25,
          2.5
         ],
         "y": [
          7.0,
          8.0,
          9.0
         ],
         "type": "scatter"
        },
        {
         "hoverinfo": "text",
         "legendgroup": "disconnected lines",
         "line": {
          "color": "rgb(128, 128, 128)",
          "dash": "dot",
          "width": 1.0
         },
         "mode": "lines",
         "name": "disconnected branches",
         "showlegend": true,
         "text": "Line 6-7<br />I = 0.086 %<br />I_from = 0.0 kA<br />I_to = 0.0 kA<br />",
         "x": [
          1.0,
          4.5,
          8.0
         ],
         "y": [
          3.0,
          3.0,
          3.0
         ],
         "type": "scatter"
        },
        {
         "hoverinfo": "text",
         "legendgroup": "disconnected lines",
         "line": {
          "color": "rgb(128, 128, 128)",
          "dash": "dot",
          "width": 1.0
         },
         "mode": "lines",
         "name": "disconnected branches",
         "showlegend": false,
         "text": "Line 14-8<br />I = 0.037 %<br />I_from = 0.0 kA<br />I_to = 0.0 kA<br />",
         "x": [
          10.0,
          9.0,
          8.0
         ],
         "y": [
          5.0,
          5.0,
          5.0
         ],
         "type": "scatter"
        },
        {
         "hoverinfo": "text",
         "legendgroup": "lines",
         "marker": {
          "color": "rgb(128, 128, 128)",
          "size": 1,
          "symbol": "circle"
         },
         "mode": "markers",
         "name": "edge_center",
         "showlegend": false,
         "text": [
          "Line 1-2<br />I = 60.875 %<br />I_from = 0.088 kA<br />I_to = 0.088 kA<br />",
          "Line 2-3<br />I = 61.601 %<br />I_from = 0.088 kA<br />I_to = 0.089 kA<br />",
          "Line 3-4<br />I = 50.743 %<br />I_from = 0.073 kA<br />I_to = 0.074 kA<br />",
          "Line 4-5<br />I = 26.281 %<br />I_from = 0.038 kA<br />I_to = 0.038 kA<br />",
          "Line 5-6<br />I = 11.261 %<br />I_from = 0.016 kA<br />I_to = 0.016 kA<br />",
          "Line 7-8<br />I = 29.858 %<br />I_from = 0.043 kA<br />I_to = 0.043 kA<br />",
          "Line 8-9<br />I = 18.487 %<br />I_from = 0.027 kA<br />I_to = 0.027 kA<br />",
          "Line 9-10<br />I = 12.88 %<br />I_from = 0.019 kA<br />I_to = 0.018 kA<br />",
          "Line 10-11<br />I = 14.661 %<br />I_from = 0.021 kA<br />I_to = 0.021 kA<br />",
          "Line 12-13<br />I = 9.476 %<br />I_from = 0.018 kA<br />I_to = 0.018 kA<br />",
          "Line 13-14<br />I = 8.909 %<br />I_from = 0.017 kA<br />I_to = 0.017 kA<br />",
          "Line 11-4<br />I = 19.001 %<br />I_from = 0.028 kA<br />I_to = 0.027 kA<br />",
          "Line 6-7<br />I = 0.086 %<br />I_from = 0.0 kA<br />I_to = 0.0 kA<br />",
          "Line 14-8<br />I = 0.037 %<br />I_from = 0.0 kA<br />I_to = 0.0 kA<br />"
         ],
         "x": [
          4.0
         ],
         "y": [
          14.0
         ],
         "type": "scatter"
        },
        {
         "hoverinfo": "text",
         "legendgroup": "2W transformers",
         "line": {
          "color": "rgb(195.68181818181822,0.0,0.0)",
          "width": 3.0
         },
         "mode": "lines",
         "name": "2W transformers",
         "showlegend": true,
         "text": "Trafo 0-1<br />I = 93.852 %<br />I_hv = 0.123 kA<br />I_lv = 0.677 kA<br />",
         "x": [
          7.0,
          5.5,
          4.0
         ],
         "y": [
          16.0,
          15.5,
          15.0
         ],
         "type": "scatter"
        },
        {
         "hoverinfo": "text",
         "legendgroup": "2W transformers",
         "line": {
          "color": "rgb(255.0,59.44444444444448,0.0)",
          "width": 3.0
         },
         "mode": "lines",
         "name": "2W transformers",
         "showlegend": false,
         "text": "Trafo 0-12<br />I = 84.698 %<br />I_hv = 0.111 kA<br />I_lv = 0.611 kA<br />",
         "x": [
          7.0,
          8.5,
          10.0
         ],
         "y": [
          16.0,
          15.5,
          15.0
         ],
         "type": "scatter"
        },
        {
         "hoverinfo": "text",
         "legendgroup": "2W transformers",
         "marker": {
          "color": "rgb(255.0,59.44444444444448,0.0)",
          "size": 1,
          "symbol": "circle"
         },
         "mode": "markers",
         "name": "edge_center",
         "showlegend": false,
         "text": [
          "Trafo 0-1<br />I = 93.852 %<br />I_hv = 0.123 kA<br />I_lv = 0.677 kA<br />",
          "Trafo 0-12<br />I = 84.698 %<br />I_hv = 0.111 kA<br />I_lv = 0.611 kA<br />"
         ],
         "x": [
          5.5
         ],
         "y": [
          15.5
         ],
         "type": "scatter"
        },
        {
         "hoverinfo": "text",
         "marker": {
          "color": "rgb(128, 128, 128)",
          "size": 20,
          "symbol": "square"
         },
         "mode": "markers",
         "name": "external_grid",
         "text": [
          "Bus 0"
         ],
         "x": [
          7.0
         ],
         "y": [
          16.0
         ],
         "type": "scatter"
        },
        {
         "hoverinfo": "text",
         "marker": {
          "cmax": 1.1,
          "cmin": 0.9,
          "color": {
           "dtype": "f8",
           "bdata": "exSuR+F68D/34YEa5s7vPwUM5Z4ESO8/0HB1mZxx7j8gSJAs4FjuP3MOnoAET+4/n4BCPHxD7j8s17/y0mPuP6Y7TVkVS+4/OWIwF/BI7j+ycqsvdEzuP9uxau+JUO4/WQB8W5kA8D+o0CELtdnvPygSDkb+wu8/"
          },
          "colorbar": {
           "thickness": 10,
           "title": {
            "side": "right",
            "text": "Bus Voltage [pu]"
           },
           "x": 1.0
          },
          "colorscale": [
           [
            0.0,
            "rgb(0,0,131)"
           ],
           [
            0.2,
            "rgb(0,60,170)"
           ],
           [
            0.4,
            "rgb(5,255,255)"
           ],
           [
            0.6,
            "rgb(255,255,0)"
           ],
           [
            0.8,
            "rgb(250,0,0)"
           ],
           [
            1.0,
            "rgb(128,0,0)"
           ]
          ],
          "size": 10,
          "symbol": "circle"
         },
         "mode": "markers",
         "name": "buses",
         "text": [
          "Bus 0<br />V_m = 1.03 pu<br />V_m = 113.3 kV<br />V_a = 0.0 deg",
          "Bus 1<br />V_m = 0.994 pu<br />V_m = 19.88 kV<br />V_a = -36.046 deg",
          "Bus 2<br />V_m = 0.978 pu<br />V_m = 19.551 kV<br />V_a = -36.57 deg",
          "Bus 3<br />V_m = 0.951 pu<br />V_m = 19.027 kV<br />V_a = -37.404 deg",
          "Bus 4<br />V_m = 0.948 pu<br />V_m = 18.967 kV<br />V_a = -37.498 deg",
          "Bus 5<br />V_m = 0.947 pu<br />V_m = 18.943 kV<br />V_a = -37.563 deg",
          "Bus 6<br />V_m = 0.946 pu<br />V_m = 18.915 kV<br />V_a = -37.639 deg",
          "Bus 7<br />V_m = 0.95 pu<br />V_m = 18.994 kV<br />V_a = -37.115 deg",
          "Bus 8<br />V_m = 0.947 pu<br />V_m = 18.933 kV<br />V_a = -37.39 deg",
          "Bus 9<br />V_m = 0.946 pu<br />V_m = 18.928 kV<br />V_a = -37.426 deg",
          "Bus 10<br />V_m = 0.947 pu<br />V_m = 18.937 kV<br />V_a = -37.486 deg",
          "Bus 11<br />V_m = 0.947 pu<br />V_m = 18.947 kV<br />V_a = -37.497 deg",
          "Bus 12<br />V_m = 1.0 pu<br />V_m = 20.003 kV<br />V_a = -35.487 deg",
          "Bus 13<br />V_m = 0.995 pu<br />V_m = 19.907 kV<br />V_a = -35.538 deg",
          "Bus 14<br />V_m = 0.993 pu<br />V_m = 19.851 kV<br />V_a = -35.568 deg"
         ],
         "x": [
          7.0,
          4.0,
          4.0,
          4.0,
          2.5,
          1.0,
          1.0,
          8.0,
          8.0,
          6.0,
          4.0,
          4.0,
          10.0,
          10.0,
          10.0
         ],
         "y": [
          16.0,
          15.0,
          13.0,
          11.0,
          9.0,
          7.0,
          3.0,
          3.0,
          5.0,
          5.0,
          5.0,
          7.0,
          15.0,
          11.0,
          5.0
         ],
         "type": "scatter"
        }
       ],
       "layout": {
        "autosize": true,
        "hovermode": "closest",
        "legend": {
         "itemsizing": "constant"
        },
        "margin": {
         "b": 5,
         "l": 5,
         "r": 5,
         "t": 5
        },
        "showlegend": false,
        "title": {
         "font": {
          "size": 16
         }
        },
        "xaxis": {
         "showgrid": false,
         "showticklabels": false,
         "zeroline": false
        },
        "yaxis": {
         "showgrid": false,
         "showticklabels": false,
         "zeroline": false
        },
        "template": {
         "data": {
          "histogram2dcontour": [
           {
            "type": "histogram2dcontour",
            "colorbar": {
             "outlinewidth": 0,
             "ticks": ""
            },
            "colorscale": [
             [
              0.0,
              "#0d0887"
             ],
             [
              0.1111111111111111,
              "#46039f"
             ],
             [
              0.2222222222222222,
              "#7201a8"
             ],
             [
              0.3333333333333333,
              "#9c179e"
             ],
             [
              0.4444444444444444,
              "#bd3786"
             ],
             [
              0.5555555555555556,
              "#d8576b"
             ],
             [
              0.6666666666666666,
              "#ed7953"
             ],
             [
              0.7777777777777778,
              "#fb9f3a"
             ],
             [
              0.8888888888888888,
              "#fdca26"
             ],
             [
              1.0,
              "#f0f921"
             ]
            ]
           }
          ],
          "choropleth": [
           {
            "type": "choropleth",
            "colorbar": {
             "outlinewidth": 0,
             "ticks": ""
            }
           }
          ],
          "histogram2d": [
           {
            "type": "histogram2d",
            "colorbar": {
             "outlinewidth": 0,
             "ticks": ""
            },
            "colorscale": [
             [
              0.0,
              "#0d0887"
             ],
             [
              0.1111111111111111,
              "#46039f"
             ],
             [
              0.2222222222222222,
              "#7201a8"
             ],
             [
              0.3333333333333333,
              "#9c179e"
             ],
             [
              0.4444444444444444,
              "#bd3786"
             ],
             [
              0.5555555555555556,
              "#d8576b"
             ],
             [
              0.6666666666666666,
              "#ed7953"
             ],
             [
              0.7777777777777778,
              "#fb9f3a"
             ],
             [
              0.8888888888888888,
              "#fdca26"
             ],
             [
              1.0,
              "#f0f921"
             ]
            ]
           }
          ],
          "heatmap": [
           {
            "type": "heatmap",
            "colorbar": {
             "outlinewidth": 0,
             "ticks": ""
            },
            "colorscale": [
             [
              0.0,
              "#0d0887"
             ],
             [
              0.1111111111111111,
              "#46039f"
             ],
             [
              0.2222222222222222,
              "#7201a8"
             ],
             [
              0.3333333333333333,
              "#9c179e"
             ],
             [
              0.4444444444444444,
              "#bd3786"
             ],
             [
              0.5555555555555556,
              "#d8576b"
             ],
             [
              0.6666666666666666,
              "#ed7953"
             ],
             [
              0.7777777777777778,
              "#fb9f3a"
             ],
             [
              0.8888888888888888,
              "#fdca26"
             ],
             [
              1.0,
              "#f0f921"
             ]
            ]
           }
          ],
          "contourcarpet": [
           {
            "type": "contourcarpet",
            "colorbar": {
             "outlinewidth": 0,
             "ticks": ""
            }
           }
          ],
          "contour": [
           {
            "type": "contour",
            "colorbar": {
             "outlinewidth": 0,
             "ticks": ""
            },
            "colorscale": [
             [
              0.0,
              "#0d0887"
             ],
             [
              0.1111111111111111,
              "#46039f"
             ],
             [
              0.2222222222222222,
              "#7201a8"
             ],
             [
              0.3333333333333333,
              "#9c179e"
             ],
             [
              0.4444444444444444,
              "#bd3786"
             ],
             [
              0.5555555555555556,
              "#d8576b"
             ],
             [
              0.6666666666666666,
              "#ed7953"
             ],
             [
              0.7777777777777778,
              "#fb9f3a"
             ],
             [
              0.8888888888888888,
              "#fdca26"
             ],
             [
              1.0,
              "#f0f921"
             ]
            ]
           }
          ],
          "surface": [
           {
            "type": "surface",
            "colorbar": {
             "outlinewidth": 0,
             "ticks": ""
            },
            "colorscale": [
             [
              0.0,
              "#0d0887"
             ],
             [
              0.1111111111111111,
              "#46039f"
             ],
             [
              0.2222222222222222,
              "#7201a8"
             ],
             [
              0.3333333333333333,
              "#9c179e"
             ],
             [
              0.4444444444444444,
              "#bd3786"
             ],
             [
              0.5555555555555556,
              "#d8576b"
             ],
             [
              0.6666666666666666,
              "#ed7953"
             ],
             [
              0.7777777777777778,
              "#fb9f3a"
             ],
             [
              0.8888888888888888,
              "#fdca26"
             ],
             [
              1.0,
              "#f0f921"
             ]
            ]
           }
          ],
          "mesh3d": [
           {
            "type": "mesh3d",
            "colorbar": {
             "outlinewidth": 0,
             "ticks": ""
            }
           }
          ],
          "scatter": [
           {
            "fillpattern": {
             "fillmode": "overlay",
             "size": 10,
             "solidity": 0.2
            },
            "type": "scatter"
           }
          ],
          "parcoords": [
           {
            "type": "parcoords",
            "line": {
             "colorbar": {
              "outlinewidth": 0,
              "ticks": ""
             }
            }
           }
          ],
          "scatterpolargl": [
           {
            "type": "scatterpolargl",
            "marker": {
             "colorbar": {
              "outlinewidth": 0,
              "ticks": ""
             }
            }
           }
          ],
          "bar": [
           {
            "error_x": {
             "color": "#2a3f5f"
            },
            "error_y": {
             "color": "#2a3f5f"
            },
            "marker": {
             "line": {
              "color": "#E5ECF6",
              "width": 0.5
             },
             "pattern": {
              "fillmode": "overlay",
              "size": 10,
              "solidity": 0.2
             }
            },
            "type": "bar"
           }
          ],
          "scattergeo": [
           {
            "type": "scattergeo",
            "marker": {
             "colorbar": {
              "outlinewidth": 0,
              "ticks": ""
             }
            }
           }
          ],
          "scatterpolar": [
           {
            "type": "scatterpolar",
            "marker": {
             "colorbar": {
              "outlinewidth": 0,
              "ticks": ""
             }
            }
           }
          ],
          "histogram": [
           {
            "marker": {
             "pattern": {
              "fillmode": "overlay",
              "size": 10,
              "solidity": 0.2
             }
            },
            "type": "histogram"
           }
          ],
          "scattergl": [
           {
            "type": "scattergl",
            "marker": {
             "colorbar": {
              "outlinewidth": 0,
              "ticks": ""
             }
            }
           }
          ],
          "scatter3d": [
           {
            "type": "scatter3d",
            "line": {
             "colorbar": {
              "outlinewidth": 0,
              "ticks": ""
             }
            },
            "marker": {
             "colorbar": {
              "outlinewidth": 0,
              "ticks": ""
             }
            }
           }
          ],
          "scattermap": [
           {
            "type": "scattermap",
            "marker": {
             "colorbar": {
              "outlinewidth": 0,
              "ticks": ""
             }
            }
           }
          ],
          "scattermapbox": [
           {
            "type": "scattermapbox",
            "marker": {
             "colorbar": {
              "outlinewidth": 0,
              "ticks": ""
             }
            }
           }
          ],
          "scatterternary": [
           {
            "type": "scatterternary",
            "marker": {
             "colorbar": {
              "outlinewidth": 0,
              "ticks": ""
             }
            }
           }
          ],
          "scattercarpet": [
           {
            "type": "scattercarpet",
            "marker": {
             "colorbar": {
              "outlinewidth": 0,
              "ticks": ""
             }
            }
           }
          ],
          "carpet": [
           {
            "aaxis": {
             "endlinecolor": "#2a3f5f",
             "gridcolor": "white",
             "linecolor": "white",
             "minorgridcolor": "white",
             "startlinecolor": "#2a3f5f"
            },
            "baxis": {
             "endlinecolor": "#2a3f5f",
             "gridcolor": "white",
             "linecolor": "white",
             "minorgridcolor": "white",
             "startlinecolor": "#2a3f5f"
            },
            "type": "carpet"
           }
          ],
          "table": [
           {
            "cells": {
             "fill": {
              "color": "#EBF0F8"
             },
             "line": {
              "color": "white"
             }
            },
            "header": {
             "fill": {
              "color": "#C8D4E3"
             },
             "line": {
              "color": "white"
             }
            },
            "type": "table"
           }
          ],
          "barpolar": [
           {
            "marker": {
             "line": {
              "color": "#E5ECF6",
              "width": 0.5
             },
             "pattern": {
              "fillmode": "overlay",
              "size": 10,
              "solidity": 0.2
             }
            },
            "type": "barpolar"
           }
          ],
          "pie": [
           {
            "automargin": true,
            "type": "pie"
           }
          ]
         },
         "layout": {
          "autotypenumbers": "strict",
          "colorway": [
           "#636efa",
           "#EF553B",
           "#00cc96",
           "#ab63fa",
           "#FFA15A",
           "#19d3f3",
           "#FF6692",
           "#B6E880",
           "#FF97FF",
           "#FECB52"
          ],
          "font": {
           "color": "#2a3f5f"
          },
          "hovermode": "closest",
          "hoverlabel": {
           "align": "left"
          },
          "paper_bgcolor": "white",
          "plot_bgcolor": "#E5ECF6",
          "polar": {
           "bgcolor": "#E5ECF6",
           "angularaxis": {
            "gridcolor": "white",
            "linecolor": "white",
            "ticks": ""
           },
           "radialaxis": {
            "gridcolor": "white",
            "linecolor": "white",
            "ticks": ""
           }
          },
          "ternary": {
           "bgcolor": "#E5ECF6",
           "aaxis": {
            "gridcolor": "white",
            "linecolor": "white",
            "ticks": ""
           },
           "baxis": {
            "gridcolor": "white",
            "linecolor": "white",
            "ticks": ""
           },
           "caxis": {
            "gridcolor": "white",
            "linecolor": "white",
            "ticks": ""
           }
          },
          "coloraxis": {
           "colorbar": {
            "outlinewidth": 0,
            "ticks": ""
           }
          },
          "colorscale": {
           "sequential": [
            [
             0.0,
             "#0d0887"
            ],
            [
             0.1111111111111111,
             "#46039f"
            ],
            [
             0.2222222222222222,
             "#7201a8"
            ],
            [
             0.3333333333333333,
             "#9c179e"
            ],
            [
             0.4444444444444444,
             "#bd3786"
            ],
            [
             0.5555555555555556,
             "#d8576b"
            ],
            [
             0.6666666666666666,
             "#ed7953"
            ],
            [
             0.7777777777777778,
             "#fb9f3a"
            ],
            [
             0.8888888888888888,
             "#fdca26"
            ],
            [
             1.0,
             "#f0f921"
            ]
           ],
           "sequentialminus": [
            [
             0.0,
             "#0d0887"
            ],
            [
             0.1111111111111111,
             "#46039f"
            ],
            [
             0.2222222222222222,
             "#7201a8"
            ],
            [
             0.3333333333333333,
             "#9c179e"
            ],
            [
             0.4444444444444444,
             "#bd3786"
            ],
            [
             0.5555555555555556,
             "#d8576b"
            ],
            [
             0.6666666666666666,
             "#ed7953"
            ],
            [
             0.7777777777777778,
             "#fb9f3a"
            ],
            [
             0.8888888888888888,
             "#fdca26"
            ],
            [
             1.0,
             "#f0f921"
            ]
           ],
           "diverging": [
            [
             0,
             "#8e0152"
            ],
            [
             0.1,
             "#c51b7d"
            ],
            [
             0.2,
             "#de77ae"
            ],
            [
             0.3,
             "#f1b6da"
            ],
            [
             0.4,
             "#fde0ef"
            ],
            [
             0.5,
             "#f7f7f7"
            ],
            [
             0.6,
             "#e6f5d0"
            ],
            [
             0.7,
             "#b8e186"
            ],
            [
             0.8,
             "#7fbc41"
            ],
            [
             0.9,
             "#4d9221"
            ],
            [
             1,
             "#276419"
            ]
           ]
          },
          "xaxis": {
           "gridcolor": "white",
           "linecolor": "white",
           "ticks": "",
           "title": {
            "standoff": 15
           },
           "zerolinecolor": "white",
           "automargin": true,
           "zerolinewidth": 2
          },
          "yaxis": {
           "gridcolor": "white",
           "linecolor": "white",
           "ticks": "",
           "title": {
            "standoff": 15
           },
           "zerolinecolor": "white",
           "automargin": true,
           "zerolinewidth": 2
          },
          "scene": {
           "xaxis": {
            "backgroundcolor": "#E5ECF6",
            "gridcolor": "white",
            "linecolor": "white",
            "showbackground": true,
            "ticks": "",
            "zerolinecolor": "white",
            "gridwidth": 2
           },
           "yaxis": {
            "backgroundcolor": "#E5ECF6",
            "gridcolor": "white",
            "linecolor": "white",
            "showbackground": true,
            "ticks": "",
            "zerolinecolor": "white",
            "gridwidth": 2
           },
           "zaxis": {
            "backgroundcolor": "#E5ECF6",
            "gridcolor": "white",
            "linecolor": "white",
            "showbackground": true,
            "ticks": "",
            "zerolinecolor": "white",
            "gridwidth": 2
           }
          },
          "shapedefaults": {
           "line": {
            "color": "#2a3f5f"
           }
          },
          "annotationdefaults": {
           "arrowcolor": "#2a3f5f",
           "arrowhead": 0,
           "arrowwidth": 1
          },
          "geo": {
           "bgcolor": "white",
           "landcolor": "#E5ECF6",
           "subunitcolor": "white",
           "showland": true,
           "showlakes": true,
           "lakecolor": "white"
          },
          "title": {
           "x": 0.05
          },
          "mapbox": {
           "style": "light"
          }
         }
        },
        "width": 484.6153846153846,
        "height": 700.0
       },
       "config": {
        "plotlyServerURL": "https://plot.ly"
       }
      }
     },
     "metadata": {},
     "output_type": "display_data"
    }
   ],
   "execution_count": 2
  },
  {
   "metadata": {
    "ExecuteTime": {
     "end_time": "2025-07-13T02:19:55.807456Z",
     "start_time": "2025-07-13T02:19:55.787092Z"
    }
   },
   "cell_type": "code",
   "source": "pp.to_json(net, str(DATA_DIR / \"base_networks\" / \"cigre_mv_modified.json\"))",
   "id": "859a5c6df0409e6d",
   "outputs": [],
   "execution_count": 3
  },
  {
   "metadata": {},
   "cell_type": "markdown",
   "source": "## CIGRE MV",
   "id": "e5f15740d24f9393"
  },
  {
   "metadata": {
    "ExecuteTime": {
     "end_time": "2025-07-13T02:19:55.968423Z",
     "start_time": "2025-07-13T02:19:55.834680Z"
    }
   },
   "cell_type": "code",
   "source": [
    "net = pp.networks.create_cigre_network_mv(with_der=\"pv_wind\")\n",
    "net.load[\"curtailable\"] = False\n",
    "pp.runpp(net)\n",
    "pp.plotting.plotly.pf_res_plotly(net, auto_open=False)"
   ],
   "id": "5cec6b08b26f9bea",
   "outputs": [
    {
     "data": {
      "application/vnd.plotly.v1+json": {
       "data": [
        {
         "hoverinfo": "text",
         "legendgroup": "lines",
         "line": {
          "color": "rgb(212.09677419354836,255.0,34.67741935483871)",
          "dash": "solid",
          "width": 2
         },
         "mode": "lines",
         "name": "lines",
         "showlegend": true,
         "text": "Line 1-2<br />I = 60.611 %<br />I_from = 0.087 kA<br />I_to = 0.088 kA<br />",
         "x": [
          4.0,
          4.0,
          4.0
         ],
         "y": [
          15.0,
          14.0,
          13.0
         ],
         "type": "scatter"
        },
        {
         "hoverinfo": "text",
         "legendgroup": "lines",
         "line": {
          "color": "rgb(215.32258064516125,255.0,31.451612903225794)",
          "dash": "solid",
          "width": 2
         },
         "mode": "lines",
         "name": "lines",
         "showlegend": false,
         "text": "Line 2-3<br />I = 61.328 %<br />I_from = 0.088 kA<br />I_to = 0.089 kA<br />",
         "x": [
          4.0,
          4.0,
          4.0
         ],
         "y": [
          13.0,
          12.0,
          11.0
         ],
         "type": "scatter"
        },
        {
         "hoverinfo": "text",
         "legendgroup": "lines",
         "line": {
          "color": "rgb(0.0,228.5,247.58064516129033)",
          "dash": "solid",
          "width": 2
         },
         "mode": "lines",
         "name": "lines",
         "showlegend": false,
         "text": "Line 3-4<br />I = 35.102 %<br />I_from = 0.051 kA<br />I_to = 0.051 kA<br />",
         "x": [
          4.0,
          3.25,
          2.5
         ],
         "y": [
          11.0,
          10.0,
          9.0
         ],
         "type": "scatter"
        },
        {
         "hoverinfo": "text",
         "legendgroup": "lines",
         "line": {
          "color": "rgb(0.0,140.5,255.0)",
          "dash": "solid",
          "width": 2
         },
         "mode": "lines",
         "name": "lines",
         "showlegend": false,
         "text": "Line 4-5<br />I = 26.232 %<br />I_from = 0.038 kA<br />I_to = 0.038 kA<br />",
         "x": [
          2.5,
          1.75,
          1.0
         ],
         "y": [
          9.0,
          8.0,
          7.0
         ],
         "type": "scatter"
        },
        {
         "hoverinfo": "text",
         "legendgroup": "lines",
         "line": {
          "color": "rgb(0.0,0.0,254.77272727272725)",
          "dash": "solid",
          "width": 2
         },
         "mode": "lines",
         "name": "lines",
         "showlegend": false,
         "text": "Line 5-6<br />I = 11.24 %<br />I_from = 0.016 kA<br />I_to = 0.016 kA<br />",
         "x": [
          1.0,
          1.0,
          1.0
         ],
         "y": [
          7.0,
          5.0,
          3.0
         ],
         "type": "scatter"
        },
        {
         "hoverinfo": "text",
         "legendgroup": "lines",
         "line": {
          "color": "rgb(0.0,176.5,255.0)",
          "dash": "solid",
          "width": 2
         },
         "mode": "lines",
         "name": "lines",
         "showlegend": false,
         "text": "Line 7-8<br />I = 29.779 %<br />I_from = 0.043 kA<br />I_to = 0.043 kA<br />",
         "x": [
          8.0,
          8.0,
          8.0
         ],
         "y": [
          3.0,
          4.0,
          5.0
         ],
         "type": "scatter"
        },
        {
         "hoverinfo": "text",
         "legendgroup": "lines",
         "line": {
          "color": "rgb(0.0,188.5,255.0)",
          "dash": "solid",
          "width": 2
         },
         "mode": "lines",
         "name": "lines",
         "showlegend": false,
         "text": "Line 8-9<br />I = 31.137 %<br />I_from = 0.045 kA<br />I_to = 0.045 kA<br />",
         "x": [
          8.0,
          7.0,
          6.0
         ],
         "y": [
          5.0,
          5.0,
          5.0
         ],
         "type": "scatter"
        },
        {
         "hoverinfo": "text",
         "legendgroup": "lines",
         "line": {
          "color": "rgb(0.0,52.49999999999997,255.0)",
          "dash": "solid",
          "width": 2
         },
         "mode": "lines",
         "name": "lines",
         "showlegend": false,
         "text": "Line 9-10<br />I = 17.966 %<br />I_from = 0.026 kA<br />I_to = 0.026 kA<br />",
         "x": [
          6.0,
          5.0,
          4.0
         ],
         "y": [
          5.0,
          5.0,
          5.0
         ],
         "type": "scatter"
        },
        {
         "hoverinfo": "text",
         "legendgroup": "lines",
         "line": {
          "color": "rgb(0.0,0.0,204.77272727272725)",
          "dash": "solid",
          "width": 2
         },
         "mode": "lines",
         "name": "lines",
         "showlegend": false,
         "text": "Line 10-11<br />I = 6.903 %<br />I_from = 0.01 kA<br />I_to = 0.01 kA<br />",
         "x": [
          4.0,
          4.0,
          4.0
         ],
         "y": [
          5.0,
          6.0,
          7.0
         ],
         "type": "scatter"
        },
        {
         "hoverinfo": "text",
         "legendgroup": "lines",
         "line": {
          "color": "rgb(0.0,64.5,255.0)",
          "dash": "solid",
          "width": 2
         },
         "mode": "lines",
         "name": "lines",
         "showlegend": false,
         "text": "Line 3-8<br />I = 18.846 %<br />I_from = 0.027 kA<br />I_to = 0.027 kA<br />",
         "x": [
          4.0,
          6.0,
          8.0
         ],
         "y": [
          11.0,
          8.0,
          5.0
         ],
         "type": "scatter"
        },
        {
         "hoverinfo": "text",
         "legendgroup": "lines",
         "line": {
          "color": "rgb(0.0,0.0,236.59090909090907)",
          "dash": "solid",
          "width": 2
         },
         "mode": "lines",
         "name": "lines",
         "showlegend": false,
         "text": "Line 12-13<br />I = 9.476 %<br />I_from = 0.018 kA<br />I_to = 0.018 kA<br />",
         "x": [
          10.0,
          10.0,
          10.0
         ],
         "y": [
          15.0,
          13.0,
          11.0
         ],
         "type": "scatter"
        },
        {
         "hoverinfo": "text",
         "legendgroup": "lines",
         "line": {
          "color": "rgb(0.0,0.0,227.49999999999997)",
          "dash": "solid",
          "width": 2
         },
         "mode": "lines",
         "name": "lines",
         "showlegend": false,
         "text": "Line 13-14<br />I = 8.909 %<br />I_from = 0.017 kA<br />I_to = 0.017 kA<br />",
         "x": [
          10.0,
          10.0,
          10.0
         ],
         "y": [
          11.0,
          8.0,
          5.0
         ],
         "type": "scatter"
        },
        {
         "hoverinfo": "text",
         "legendgroup": "disconnected lines",
         "line": {
          "color": "rgb(128, 128, 128)",
          "dash": "dot",
          "width": 1.0
         },
         "mode": "lines",
         "name": "disconnected branches",
         "showlegend": true,
         "text": "Line 6-7<br />I = 0.086 %<br />I_from = 0.0 kA<br />I_to = 0.0 kA<br />",
         "x": [
          1.0,
          4.5,
          8.0
         ],
         "y": [
          3.0,
          3.0,
          3.0
         ],
         "type": "scatter"
        },
        {
         "hoverinfo": "text",
         "legendgroup": "disconnected lines",
         "line": {
          "color": "rgb(128, 128, 128)",
          "dash": "dot",
          "width": 1.0
         },
         "mode": "lines",
         "name": "disconnected branches",
         "showlegend": false,
         "text": "Line 11-4<br />I = 0.175 %<br />I_from = 0.0 kA<br />I_to = 0.0 kA<br />",
         "x": [
          4.0,
          3.25,
          2.5
         ],
         "y": [
          7.0,
          8.0,
          9.0
         ],
         "type": "scatter"
        },
        {
         "hoverinfo": "text",
         "legendgroup": "disconnected lines",
         "line": {
          "color": "rgb(128, 128, 128)",
          "dash": "dot",
          "width": 1.0
         },
         "mode": "lines",
         "name": "disconnected branches",
         "showlegend": false,
         "text": "Line 14-8<br />I = 0.037 %<br />I_from = 0.0 kA<br />I_to = 0.0 kA<br />",
         "x": [
          10.0,
          9.0,
          8.0
         ],
         "y": [
          5.0,
          5.0,
          5.0
         ],
         "type": "scatter"
        },
        {
         "hoverinfo": "text",
         "legendgroup": "lines",
         "marker": {
          "color": "rgb(128, 128, 128)",
          "size": 1,
          "symbol": "circle"
         },
         "mode": "markers",
         "name": "edge_center",
         "showlegend": false,
         "text": [
          "Line 1-2<br />I = 60.611 %<br />I_from = 0.087 kA<br />I_to = 0.088 kA<br />",
          "Line 2-3<br />I = 61.328 %<br />I_from = 0.088 kA<br />I_to = 0.089 kA<br />",
          "Line 3-4<br />I = 35.102 %<br />I_from = 0.051 kA<br />I_to = 0.051 kA<br />",
          "Line 4-5<br />I = 26.232 %<br />I_from = 0.038 kA<br />I_to = 0.038 kA<br />",
          "Line 5-6<br />I = 11.24 %<br />I_from = 0.016 kA<br />I_to = 0.016 kA<br />",
          "Line 7-8<br />I = 29.779 %<br />I_from = 0.043 kA<br />I_to = 0.043 kA<br />",
          "Line 8-9<br />I = 31.137 %<br />I_from = 0.045 kA<br />I_to = 0.045 kA<br />",
          "Line 9-10<br />I = 17.966 %<br />I_from = 0.026 kA<br />I_to = 0.026 kA<br />",
          "Line 10-11<br />I = 6.903 %<br />I_from = 0.01 kA<br />I_to = 0.01 kA<br />",
          "Line 3-8<br />I = 18.846 %<br />I_from = 0.027 kA<br />I_to = 0.027 kA<br />",
          "Line 12-13<br />I = 9.476 %<br />I_from = 0.018 kA<br />I_to = 0.018 kA<br />",
          "Line 13-14<br />I = 8.909 %<br />I_from = 0.017 kA<br />I_to = 0.017 kA<br />",
          "Line 6-7<br />I = 0.086 %<br />I_from = 0.0 kA<br />I_to = 0.0 kA<br />",
          "Line 11-4<br />I = 0.175 %<br />I_from = 0.0 kA<br />I_to = 0.0 kA<br />",
          "Line 14-8<br />I = 0.037 %<br />I_from = 0.0 kA<br />I_to = 0.0 kA<br />"
         ],
         "x": [
          4.0
         ],
         "y": [
          14.0
         ],
         "type": "scatter"
        },
        {
         "hoverinfo": "text",
         "legendgroup": "2W transformers",
         "line": {
          "color": "rgb(195.68181818181822,0.0,0.0)",
          "width": 3.0
         },
         "mode": "lines",
         "name": "2W transformers",
         "showlegend": true,
         "text": "Trafo 0-1<br />I = 93.808 %<br />I_hv = 0.123 kA<br />I_lv = 0.677 kA<br />",
         "x": [
          7.0,
          5.5,
          4.0
         ],
         "y": [
          16.0,
          15.5,
          15.0
         ],
         "type": "scatter"
        },
        {
         "hoverinfo": "text",
         "legendgroup": "2W transformers",
         "line": {
          "color": "rgb(255.0,59.44444444444448,0.0)",
          "width": 3.0
         },
         "mode": "lines",
         "name": "2W transformers",
         "showlegend": false,
         "text": "Trafo 0-12<br />I = 84.698 %<br />I_hv = 0.111 kA<br />I_lv = 0.611 kA<br />",
         "x": [
          7.0,
          8.5,
          10.0
         ],
         "y": [
          16.0,
          15.5,
          15.0
         ],
         "type": "scatter"
        },
        {
         "hoverinfo": "text",
         "legendgroup": "2W transformers",
         "marker": {
          "color": "rgb(255.0,59.44444444444448,0.0)",
          "size": 1,
          "symbol": "circle"
         },
         "mode": "markers",
         "name": "edge_center",
         "showlegend": false,
         "text": [
          "Trafo 0-1<br />I = 93.808 %<br />I_hv = 0.123 kA<br />I_lv = 0.677 kA<br />",
          "Trafo 0-12<br />I = 84.698 %<br />I_hv = 0.111 kA<br />I_lv = 0.611 kA<br />"
         ],
         "x": [
          5.5
         ],
         "y": [
          15.5
         ],
         "type": "scatter"
        },
        {
         "hoverinfo": "text",
         "marker": {
          "color": "rgb(128, 128, 128)",
          "size": 20,
          "symbol": "square"
         },
         "mode": "markers",
         "name": "external_grid",
         "text": [
          "Bus 0"
         ],
         "x": [
          7.0
         ],
         "y": [
          16.0
         ],
         "type": "scatter"
        },
        {
         "hoverinfo": "text",
         "marker": {
          "cmax": 1.1,
          "cmin": 0.9,
          "color": {
           "dtype": "f8",
           "bdata": "exSuR+F68D+NOyLv8M/vP2oO2pksSu8/ByerU4l17j/IlyXdKmfuP32KDCRUXe4/WhJDuNFR7j9GcntTanjuP3wS6dK8X+4/Nzl2/ixY7j/IhqAcpE7uP0nykcwhTe4/WwB8W5kA8D+u0CELtdnvPy4SDkb+wu8/"
          },
          "colorbar": {
           "thickness": 10,
           "title": {
            "side": "right",
            "text": "Bus Voltage [pu]"
           },
           "x": 1.0
          },
          "colorscale": [
           [
            0.0,
            "rgb(0,0,131)"
           ],
           [
            0.2,
            "rgb(0,60,170)"
           ],
           [
            0.4,
            "rgb(5,255,255)"
           ],
           [
            0.6,
            "rgb(255,255,0)"
           ],
           [
            0.8,
            "rgb(250,0,0)"
           ],
           [
            1.0,
            "rgb(128,0,0)"
           ]
          ],
          "size": 10,
          "symbol": "circle"
         },
         "mode": "markers",
         "name": "buses",
         "text": [
          "Bus 0<br />V_m = 1.03 pu<br />V_m = 113.3 kV<br />V_a = 0.0 deg",
          "Bus 1<br />V_m = 0.994 pu<br />V_m = 19.883 kV<br />V_a = -36.045 deg",
          "Bus 2<br />V_m = 0.978 pu<br />V_m = 19.556 kV<br />V_a = -36.573 deg",
          "Bus 3<br />V_m = 0.952 pu<br />V_m = 19.037 kV<br />V_a = -37.415 deg",
          "Bus 4<br />V_m = 0.95 pu<br />V_m = 19.002 kV<br />V_a = -37.509 deg",
          "Bus 5<br />V_m = 0.949 pu<br />V_m = 18.978 kV<br />V_a = -37.574 deg",
          "Bus 6<br />V_m = 0.947 pu<br />V_m = 18.95 kV<br />V_a = -37.65 deg",
          "Bus 7<br />V_m = 0.952 pu<br />V_m = 19.044 kV<br />V_a = -37.14 deg",
          "Bus 8<br />V_m = 0.949 pu<br />V_m = 18.984 kV<br />V_a = -37.414 deg",
          "Bus 9<br />V_m = 0.948 pu<br />V_m = 18.965 kV<br />V_a = -37.449 deg",
          "Bus 10<br />V_m = 0.947 pu<br />V_m = 18.942 kV<br />V_a = -37.508 deg",
          "Bus 11<br />V_m = 0.947 pu<br />V_m = 18.938 kV<br />V_a = -37.518 deg",
          "Bus 12<br />V_m = 1.0 pu<br />V_m = 20.003 kV<br />V_a = -35.487 deg",
          "Bus 13<br />V_m = 0.995 pu<br />V_m = 19.907 kV<br />V_a = -35.538 deg",
          "Bus 14<br />V_m = 0.993 pu<br />V_m = 19.851 kV<br />V_a = -35.568 deg"
         ],
         "x": [
          7.0,
          4.0,
          4.0,
          4.0,
          2.5,
          1.0,
          1.0,
          8.0,
          8.0,
          6.0,
          4.0,
          4.0,
          10.0,
          10.0,
          10.0
         ],
         "y": [
          16.0,
          15.0,
          13.0,
          11.0,
          9.0,
          7.0,
          3.0,
          3.0,
          5.0,
          5.0,
          5.0,
          7.0,
          15.0,
          11.0,
          5.0
         ],
         "type": "scatter"
        }
       ],
       "layout": {
        "autosize": true,
        "hovermode": "closest",
        "legend": {
         "itemsizing": "constant"
        },
        "margin": {
         "b": 5,
         "l": 5,
         "r": 5,
         "t": 5
        },
        "showlegend": false,
        "title": {
         "font": {
          "size": 16
         }
        },
        "xaxis": {
         "showgrid": false,
         "showticklabels": false,
         "zeroline": false
        },
        "yaxis": {
         "showgrid": false,
         "showticklabels": false,
         "zeroline": false
        },
        "template": {
         "data": {
          "histogram2dcontour": [
           {
            "type": "histogram2dcontour",
            "colorbar": {
             "outlinewidth": 0,
             "ticks": ""
            },
            "colorscale": [
             [
              0.0,
              "#0d0887"
             ],
             [
              0.1111111111111111,
              "#46039f"
             ],
             [
              0.2222222222222222,
              "#7201a8"
             ],
             [
              0.3333333333333333,
              "#9c179e"
             ],
             [
              0.4444444444444444,
              "#bd3786"
             ],
             [
              0.5555555555555556,
              "#d8576b"
             ],
             [
              0.6666666666666666,
              "#ed7953"
             ],
             [
              0.7777777777777778,
              "#fb9f3a"
             ],
             [
              0.8888888888888888,
              "#fdca26"
             ],
             [
              1.0,
              "#f0f921"
             ]
            ]
           }
          ],
          "choropleth": [
           {
            "type": "choropleth",
            "colorbar": {
             "outlinewidth": 0,
             "ticks": ""
            }
           }
          ],
          "histogram2d": [
           {
            "type": "histogram2d",
            "colorbar": {
             "outlinewidth": 0,
             "ticks": ""
            },
            "colorscale": [
             [
              0.0,
              "#0d0887"
             ],
             [
              0.1111111111111111,
              "#46039f"
             ],
             [
              0.2222222222222222,
              "#7201a8"
             ],
             [
              0.3333333333333333,
              "#9c179e"
             ],
             [
              0.4444444444444444,
              "#bd3786"
             ],
             [
              0.5555555555555556,
              "#d8576b"
             ],
             [
              0.6666666666666666,
              "#ed7953"
             ],
             [
              0.7777777777777778,
              "#fb9f3a"
             ],
             [
              0.8888888888888888,
              "#fdca26"
             ],
             [
              1.0,
              "#f0f921"
             ]
            ]
           }
          ],
          "heatmap": [
           {
            "type": "heatmap",
            "colorbar": {
             "outlinewidth": 0,
             "ticks": ""
            },
            "colorscale": [
             [
              0.0,
              "#0d0887"
             ],
             [
              0.1111111111111111,
              "#46039f"
             ],
             [
              0.2222222222222222,
              "#7201a8"
             ],
             [
              0.3333333333333333,
              "#9c179e"
             ],
             [
              0.4444444444444444,
              "#bd3786"
             ],
             [
              0.5555555555555556,
              "#d8576b"
             ],
             [
              0.6666666666666666,
              "#ed7953"
             ],
             [
              0.7777777777777778,
              "#fb9f3a"
             ],
             [
              0.8888888888888888,
              "#fdca26"
             ],
             [
              1.0,
              "#f0f921"
             ]
            ]
           }
          ],
          "contourcarpet": [
           {
            "type": "contourcarpet",
            "colorbar": {
             "outlinewidth": 0,
             "ticks": ""
            }
           }
          ],
          "contour": [
           {
            "type": "contour",
            "colorbar": {
             "outlinewidth": 0,
             "ticks": ""
            },
            "colorscale": [
             [
              0.0,
              "#0d0887"
             ],
             [
              0.1111111111111111,
              "#46039f"
             ],
             [
              0.2222222222222222,
              "#7201a8"
             ],
             [
              0.3333333333333333,
              "#9c179e"
             ],
             [
              0.4444444444444444,
              "#bd3786"
             ],
             [
              0.5555555555555556,
              "#d8576b"
             ],
             [
              0.6666666666666666,
              "#ed7953"
             ],
             [
              0.7777777777777778,
              "#fb9f3a"
             ],
             [
              0.8888888888888888,
              "#fdca26"
             ],
             [
              1.0,
              "#f0f921"
             ]
            ]
           }
          ],
          "surface": [
           {
            "type": "surface",
            "colorbar": {
             "outlinewidth": 0,
             "ticks": ""
            },
            "colorscale": [
             [
              0.0,
              "#0d0887"
             ],
             [
              0.1111111111111111,
              "#46039f"
             ],
             [
              0.2222222222222222,
              "#7201a8"
             ],
             [
              0.3333333333333333,
              "#9c179e"
             ],
             [
              0.4444444444444444,
              "#bd3786"
             ],
             [
              0.5555555555555556,
              "#d8576b"
             ],
             [
              0.6666666666666666,
              "#ed7953"
             ],
             [
              0.7777777777777778,
              "#fb9f3a"
             ],
             [
              0.8888888888888888,
              "#fdca26"
             ],
             [
              1.0,
              "#f0f921"
             ]
            ]
           }
          ],
          "mesh3d": [
           {
            "type": "mesh3d",
            "colorbar": {
             "outlinewidth": 0,
             "ticks": ""
            }
           }
          ],
          "scatter": [
           {
            "fillpattern": {
             "fillmode": "overlay",
             "size": 10,
             "solidity": 0.2
            },
            "type": "scatter"
           }
          ],
          "parcoords": [
           {
            "type": "parcoords",
            "line": {
             "colorbar": {
              "outlinewidth": 0,
              "ticks": ""
             }
            }
           }
          ],
          "scatterpolargl": [
           {
            "type": "scatterpolargl",
            "marker": {
             "colorbar": {
              "outlinewidth": 0,
              "ticks": ""
             }
            }
           }
          ],
          "bar": [
           {
            "error_x": {
             "color": "#2a3f5f"
            },
            "error_y": {
             "color": "#2a3f5f"
            },
            "marker": {
             "line": {
              "color": "#E5ECF6",
              "width": 0.5
             },
             "pattern": {
              "fillmode": "overlay",
              "size": 10,
              "solidity": 0.2
             }
            },
            "type": "bar"
           }
          ],
          "scattergeo": [
           {
            "type": "scattergeo",
            "marker": {
             "colorbar": {
              "outlinewidth": 0,
              "ticks": ""
             }
            }
           }
          ],
          "scatterpolar": [
           {
            "type": "scatterpolar",
            "marker": {
             "colorbar": {
              "outlinewidth": 0,
              "ticks": ""
             }
            }
           }
          ],
          "histogram": [
           {
            "marker": {
             "pattern": {
              "fillmode": "overlay",
              "size": 10,
              "solidity": 0.2
             }
            },
            "type": "histogram"
           }
          ],
          "scattergl": [
           {
            "type": "scattergl",
            "marker": {
             "colorbar": {
              "outlinewidth": 0,
              "ticks": ""
             }
            }
           }
          ],
          "scatter3d": [
           {
            "type": "scatter3d",
            "line": {
             "colorbar": {
              "outlinewidth": 0,
              "ticks": ""
             }
            },
            "marker": {
             "colorbar": {
              "outlinewidth": 0,
              "ticks": ""
             }
            }
           }
          ],
          "scattermap": [
           {
            "type": "scattermap",
            "marker": {
             "colorbar": {
              "outlinewidth": 0,
              "ticks": ""
             }
            }
           }
          ],
          "scattermapbox": [
           {
            "type": "scattermapbox",
            "marker": {
             "colorbar": {
              "outlinewidth": 0,
              "ticks": ""
             }
            }
           }
          ],
          "scatterternary": [
           {
            "type": "scatterternary",
            "marker": {
             "colorbar": {
              "outlinewidth": 0,
              "ticks": ""
             }
            }
           }
          ],
          "scattercarpet": [
           {
            "type": "scattercarpet",
            "marker": {
             "colorbar": {
              "outlinewidth": 0,
              "ticks": ""
             }
            }
           }
          ],
          "carpet": [
           {
            "aaxis": {
             "endlinecolor": "#2a3f5f",
             "gridcolor": "white",
             "linecolor": "white",
             "minorgridcolor": "white",
             "startlinecolor": "#2a3f5f"
            },
            "baxis": {
             "endlinecolor": "#2a3f5f",
             "gridcolor": "white",
             "linecolor": "white",
             "minorgridcolor": "white",
             "startlinecolor": "#2a3f5f"
            },
            "type": "carpet"
           }
          ],
          "table": [
           {
            "cells": {
             "fill": {
              "color": "#EBF0F8"
             },
             "line": {
              "color": "white"
             }
            },
            "header": {
             "fill": {
              "color": "#C8D4E3"
             },
             "line": {
              "color": "white"
             }
            },
            "type": "table"
           }
          ],
          "barpolar": [
           {
            "marker": {
             "line": {
              "color": "#E5ECF6",
              "width": 0.5
             },
             "pattern": {
              "fillmode": "overlay",
              "size": 10,
              "solidity": 0.2
             }
            },
            "type": "barpolar"
           }
          ],
          "pie": [
           {
            "automargin": true,
            "type": "pie"
           }
          ]
         },
         "layout": {
          "autotypenumbers": "strict",
          "colorway": [
           "#636efa",
           "#EF553B",
           "#00cc96",
           "#ab63fa",
           "#FFA15A",
           "#19d3f3",
           "#FF6692",
           "#B6E880",
           "#FF97FF",
           "#FECB52"
          ],
          "font": {
           "color": "#2a3f5f"
          },
          "hovermode": "closest",
          "hoverlabel": {
           "align": "left"
          },
          "paper_bgcolor": "white",
          "plot_bgcolor": "#E5ECF6",
          "polar": {
           "bgcolor": "#E5ECF6",
           "angularaxis": {
            "gridcolor": "white",
            "linecolor": "white",
            "ticks": ""
           },
           "radialaxis": {
            "gridcolor": "white",
            "linecolor": "white",
            "ticks": ""
           }
          },
          "ternary": {
           "bgcolor": "#E5ECF6",
           "aaxis": {
            "gridcolor": "white",
            "linecolor": "white",
            "ticks": ""
           },
           "baxis": {
            "gridcolor": "white",
            "linecolor": "white",
            "ticks": ""
           },
           "caxis": {
            "gridcolor": "white",
            "linecolor": "white",
            "ticks": ""
           }
          },
          "coloraxis": {
           "colorbar": {
            "outlinewidth": 0,
            "ticks": ""
           }
          },
          "colorscale": {
           "sequential": [
            [
             0.0,
             "#0d0887"
            ],
            [
             0.1111111111111111,
             "#46039f"
            ],
            [
             0.2222222222222222,
             "#7201a8"
            ],
            [
             0.3333333333333333,
             "#9c179e"
            ],
            [
             0.4444444444444444,
             "#bd3786"
            ],
            [
             0.5555555555555556,
             "#d8576b"
            ],
            [
             0.6666666666666666,
             "#ed7953"
            ],
            [
             0.7777777777777778,
             "#fb9f3a"
            ],
            [
             0.8888888888888888,
             "#fdca26"
            ],
            [
             1.0,
             "#f0f921"
            ]
           ],
           "sequentialminus": [
            [
             0.0,
             "#0d0887"
            ],
            [
             0.1111111111111111,
             "#46039f"
            ],
            [
             0.2222222222222222,
             "#7201a8"
            ],
            [
             0.3333333333333333,
             "#9c179e"
            ],
            [
             0.4444444444444444,
             "#bd3786"
            ],
            [
             0.5555555555555556,
             "#d8576b"
            ],
            [
             0.6666666666666666,
             "#ed7953"
            ],
            [
             0.7777777777777778,
             "#fb9f3a"
            ],
            [
             0.8888888888888888,
             "#fdca26"
            ],
            [
             1.0,
             "#f0f921"
            ]
           ],
           "diverging": [
            [
             0,
             "#8e0152"
            ],
            [
             0.1,
             "#c51b7d"
            ],
            [
             0.2,
             "#de77ae"
            ],
            [
             0.3,
             "#f1b6da"
            ],
            [
             0.4,
             "#fde0ef"
            ],
            [
             0.5,
             "#f7f7f7"
            ],
            [
             0.6,
             "#e6f5d0"
            ],
            [
             0.7,
             "#b8e186"
            ],
            [
             0.8,
             "#7fbc41"
            ],
            [
             0.9,
             "#4d9221"
            ],
            [
             1,
             "#276419"
            ]
           ]
          },
          "xaxis": {
           "gridcolor": "white",
           "linecolor": "white",
           "ticks": "",
           "title": {
            "standoff": 15
           },
           "zerolinecolor": "white",
           "automargin": true,
           "zerolinewidth": 2
          },
          "yaxis": {
           "gridcolor": "white",
           "linecolor": "white",
           "ticks": "",
           "title": {
            "standoff": 15
           },
           "zerolinecolor": "white",
           "automargin": true,
           "zerolinewidth": 2
          },
          "scene": {
           "xaxis": {
            "backgroundcolor": "#E5ECF6",
            "gridcolor": "white",
            "linecolor": "white",
            "showbackground": true,
            "ticks": "",
            "zerolinecolor": "white",
            "gridwidth": 2
           },
           "yaxis": {
            "backgroundcolor": "#E5ECF6",
            "gridcolor": "white",
            "linecolor": "white",
            "showbackground": true,
            "ticks": "",
            "zerolinecolor": "white",
            "gridwidth": 2
           },
           "zaxis": {
            "backgroundcolor": "#E5ECF6",
            "gridcolor": "white",
            "linecolor": "white",
            "showbackground": true,
            "ticks": "",
            "zerolinecolor": "white",
            "gridwidth": 2
           }
          },
          "shapedefaults": {
           "line": {
            "color": "#2a3f5f"
           }
          },
          "annotationdefaults": {
           "arrowcolor": "#2a3f5f",
           "arrowhead": 0,
           "arrowwidth": 1
          },
          "geo": {
           "bgcolor": "white",
           "landcolor": "#E5ECF6",
           "subunitcolor": "white",
           "showland": true,
           "showlakes": true,
           "lakecolor": "white"
          },
          "title": {
           "x": 0.05
          },
          "mapbox": {
           "style": "light"
          }
         }
        },
        "width": 484.6153846153846,
        "height": 700.0
       },
       "config": {
        "plotlyServerURL": "https://plot.ly"
       }
      }
     },
     "metadata": {},
     "output_type": "display_data"
    }
   ],
   "execution_count": 4
  },
  {
   "metadata": {
    "ExecuteTime": {
     "end_time": "2025-07-13T02:19:56.108900Z",
     "start_time": "2025-07-13T02:19:56.088049Z"
    }
   },
   "cell_type": "code",
   "source": "pp.to_json(net, str(DATA_DIR / \"base_networks\" / \"cigre_mv.json\"))",
   "id": "1bd0e32deba528f4",
   "outputs": [],
   "execution_count": 5
  },
  {
   "metadata": {},
   "cell_type": "markdown",
   "source": "## CASE 30",
   "id": "73903b0a751b190f"
  },
  {
   "metadata": {
    "ExecuteTime": {
     "end_time": "2025-07-13T02:19:56.561499Z",
     "start_time": "2025-07-13T02:19:56.141058Z"
    }
   },
   "cell_type": "code",
   "source": [
    "net = NetworkGenerator().fill_missing_names(pp.networks.case30())\n",
    "net.load[\"curtailable\"] = False\n",
    "net.line.loc[net.line.name==\"Line_6_to_8_9\", \"max_i_ka\"] *= 1.5\n",
    "pp.runpp(net)\n",
    "pp.plotting.plotly.pf_res_plotly(net, auto_open=False)"
   ],
   "id": "a9113e9cfa90e136",
   "outputs": [
    {
     "data": {
      "application/vnd.plotly.v1+json": {
       "data": [
        {
         "hoverinfo": "text",
         "legendgroup": "lines",
         "line": {
          "color": "rgb(0.0,0.0,232.04545454545453)",
          "dash": "solid",
          "width": 2
         },
         "mode": "lines",
         "name": "lines",
         "showlegend": true,
         "text": "Line_1_to_2_0<br />I = 9.246 %<br />I_from = 0.051 kA<br />I_to = 0.047 kA<br />",
         "x": [
          -1.72745671,
          -1.144736945,
          -0.56201718
         ],
         "y": [
          -3.18926495,
          -3.252058715,
          -3.31485248
         ],
         "type": "scatter"
        },
        {
         "hoverinfo": "text",
         "legendgroup": "lines",
         "line": {
          "color": "rgb(0.0,0.0,255.0)",
          "dash": "solid",
          "width": 2
         },
         "mode": "lines",
         "name": "lines",
         "showlegend": false,
         "text": "Line_1_to_3_1<br />I = 12.488 %<br />I_from = 0.067 kA<br />I_to = 0.069 kA<br />",
         "x": [
          -1.72745671,
          -1.659033685,
          -1.59061066
         ],
         "y": [
          -3.18926495,
          -3.66673355,
          -4.14420215
         ],
         "type": "scatter"
        },
        {
         "hoverinfo": "text",
         "legendgroup": "lines",
         "line": {
          "color": "rgb(0.0,148.5,255.0)",
          "dash": "solid",
          "width": 2
         },
         "mode": "lines",
         "name": "lines",
         "showlegend": false,
         "text": "Line_2_to_4_2<br />I = 27.045 %<br />I_from = 0.072 kA<br />I_to = 0.075 kA<br />",
         "x": [
          -0.56201718,
          -0.467355915,
          -0.37269465
         ],
         "y": [
          -3.31485248,
          -3.798880015,
          -4.28290755
         ],
         "type": "scatter"
        },
        {
         "hoverinfo": "text",
         "legendgroup": "lines",
         "line": {
          "color": "rgb(0.0,0.0,245.68181818181816)",
          "dash": "solid",
          "width": 2
         },
         "mode": "lines",
         "name": "lines",
         "showlegend": false,
         "text": "Line_3_to_4_3<br />I = 10.403 %<br />I_from = 0.058 kA<br />I_to = 0.058 kA<br />",
         "x": [
          -1.59061066,
          -0.981652655,
          -0.37269465
         ],
         "y": [
          -4.14420215,
          -4.2135548499999995,
          -4.28290755
         ],
         "type": "scatter"
        },
        {
         "hoverinfo": "text",
         "legendgroup": "lines",
         "line": {
          "color": "rgb(0.0,0.0,255.0)",
          "dash": "solid",
          "width": 2
         },
         "mode": "lines",
         "name": "lines",
         "showlegend": false,
         "text": "Line_2_to_5_4<br />I = 11.707 %<br />I_from = 0.062 kA<br />I_to = 0.065 kA<br />",
         "x": [
          -0.56201718,
          -0.8079004,
          -1.05378362
         ],
         "y": [
          -3.31485248,
          -2.7771494150000002,
          -2.23944635
         ],
         "type": "scatter"
        },
        {
         "hoverinfo": "text",
         "legendgroup": "lines",
         "line": {
          "color": "rgb(0.0,220.5,254.03225806451613)",
          "dash": "solid",
          "width": 2
         },
         "mode": "lines",
         "name": "lines",
         "showlegend": false,
         "text": "Line_2_to_6_5<br />I = 34.334 %<br />I_from = 0.092 kA<br />I_to = 0.095 kA<br />",
         "x": [
          -0.56201718,
          -0.015554390000000029,
          0.5309084
         ],
         "y": [
          -3.31485248,
          -3.374062425,
          -3.43327237
         ],
         "type": "scatter"
        },
        {
         "hoverinfo": "text",
         "legendgroup": "lines",
         "line": {
          "color": "rgb(0.0,164.5,255.0)",
          "dash": "solid",
          "width": 2
         },
         "mode": "lines",
         "name": "lines",
         "showlegend": false,
         "text": "Line_4_to_6_6<br />I = 28.586 %<br />I_from = 0.11 kA<br />I_to = 0.11 kA<br />",
         "x": [
          -0.37269465,
          0.07910687499999997,
          0.5309084
         ],
         "y": [
          -4.28290755,
          -3.85808996,
          -3.43327237
         ],
         "type": "scatter"
        },
        {
         "hoverinfo": "text",
         "legendgroup": "lines",
         "line": {
          "color": "rgb(0.0,100.49999999999997,255.0)",
          "dash": "solid",
          "width": 2
         },
         "mode": "lines",
         "name": "lines",
         "showlegend": false,
         "text": "Line_5_to_7_7<br />I = 22.454 %<br />I_from = 0.065 kA<br />I_to = 0.067 kA<br />",
         "x": [
          -1.05378362,
          -0.5605813749999999,
          -0.06737913
         ],
         "y": [
          -2.23944635,
          -2.31566683,
          -2.39188731
         ],
         "type": "scatter"
        },
        {
         "hoverinfo": "text",
         "legendgroup": "lines",
         "line": {
          "color": "rgb(0.0,0.0,218.4090909090909)",
          "dash": "solid",
          "width": 2
         },
         "mode": "lines",
         "name": "lines",
         "showlegend": false,
         "text": "Line_6_to_7_8<br />I = 8.013 %<br />I_from = 0.043 kA<br />I_to = 0.045 kA<br />",
         "x": [
          0.5309084,
          0.23176463499999997,
          -0.06737913
         ],
         "y": [
          -3.43327237,
          -2.9125798400000003,
          -2.39188731
         ],
         "type": "scatter"
        },
        {
         "hoverinfo": "text",
         "legendgroup": "lines",
         "line": {
          "color": "rgb(255.0,155.7407407407408,0.0)",
          "dash": "solid",
          "width": 2
         },
         "mode": "lines",
         "name": "lines",
         "showlegend": false,
         "text": "Line_6_to_8_9<br />I = 74.554 %<br />I_from = 0.153 kA<br />I_to = 0.153 kA<br />",
         "x": [
          0.5309084,
          0.7989117299999999,
          1.06691506
         ],
         "y": [
          -3.43327237,
          -2.93221524,
          -2.43115811
         ],
         "type": "scatter"
        },
        {
         "hoverinfo": "text",
         "legendgroup": "lines",
         "line": {
          "color": "rgb(0.0,0.0,250.22727272727272)",
          "dash": "solid",
          "width": 2
         },
         "mode": "lines",
         "name": "lines",
         "showlegend": false,
         "text": "Line_6_to_9_10<br />I = 10.578 %<br />I_from = 0.029 kA<br />I_to = 0.029 kA<br />",
         "x": [
          0.5309084,
          0.817345075,
          1.10378175
         ],
         "y": [
          -3.43327237,
          -3.3104080849999997,
          -3.1875438
         ],
         "type": "scatter"
        },
        {
         "hoverinfo": "text",
         "legendgroup": "lines",
         "line": {
          "color": "rgb(0.0,0.0,255.0)",
          "dash": "solid",
          "width": 2
         },
         "mode": "lines",
         "name": "lines",
         "showlegend": false,
         "text": "Line_6_to_10_11<br />I = 12.278 %<br />I_from = 0.017 kA<br />I_to = 0.017 kA<br />",
         "x": [
          0.5309084,
          0.846803945,
          1.16269949
         ],
         "y": [
          -3.43327237,
          -3.865560975,
          -4.29784958
         ],
         "type": "scatter"
        },
        {
         "hoverinfo": "text",
         "legendgroup": "lines",
         "line": {
          "color": "rgb(0.0,0.0,127.5)",
          "dash": "solid",
          "width": 2
         },
         "mode": "lines",
         "name": "lines",
         "showlegend": false,
         "text": "Line_9_to_11_12<br />I = 0.0 %<br />I_from = 0.0 kA<br />I_to = 0.0 kA<br />",
         "x": [
          1.10378175,
          1.05793482,
          1.01208789
         ],
         "y": [
          -3.1875438,
          -2.46451495,
          -1.7414861
         ],
         "type": "scatter"
        },
        {
         "hoverinfo": "text",
         "legendgroup": "lines",
         "line": {
          "color": "rgb(0.0,0.0,250.22727272727272)",
          "dash": "solid",
          "width": 2
         },
         "mode": "lines",
         "name": "lines",
         "showlegend": false,
         "text": "Line_9_to_10_13<br />I = 10.578 %<br />I_from = 0.029 kA<br />I_to = 0.029 kA<br />",
         "x": [
          1.10378175,
          1.13324062,
          1.16269949
         ],
         "y": [
          -3.1875438,
          -3.74269669,
          -4.29784958
         ],
         "type": "scatter"
        },
        {
         "hoverinfo": "text",
         "legendgroup": "lines",
         "line": {
          "color": "rgb(0.0,0.0,172.95454545454544)",
          "dash": "solid",
          "width": 2
         },
         "mode": "lines",
         "name": "lines",
         "showlegend": false,
         "text": "Line_4_to_12_14<br />I = 4.119 %<br />I_from = 0.011 kA<br />I_to = 0.011 kA<br />",
         "x": [
          -0.37269465,
          -0.31053251000000004,
          -0.24837037
         ],
         "y": [
          -4.28290755,
          -4.9920337450000005,
          -5.70115994
         ],
         "type": "scatter"
        },
        {
         "hoverinfo": "text",
         "legendgroup": "lines",
         "line": {
          "color": "rgb(202.41935483870967,255.0,44.35483870967742)",
          "dash": "solid",
          "width": 2
         },
         "mode": "lines",
         "name": "lines",
         "showlegend": false,
         "text": "Line_12_to_13_15<br />I = 59.542 %<br />I_from = 0.166 kA<br />I_to = 0.166 kA<br />",
         "x": [
          -0.24837037,
          -0.79994002,
          -1.35150967
         ],
         "y": [
          -5.70115994,
          -6.03301106,
          -6.36486218
         ],
         "type": "scatter"
        },
        {
         "hoverinfo": "text",
         "legendgroup": "lines",
         "line": {
          "color": "rgb(0.0,48.5,255.0)",
          "dash": "solid",
          "width": 2
         },
         "mode": "lines",
         "name": "lines",
         "showlegend": false,
         "text": "Line_12_to_14_16<br />I = 17.311 %<br />I_from = 0.024 kA<br />I_to = 0.024 kA<br />",
         "x": [
          -0.24837037,
          -0.193819105,
          -0.13926784
         ],
         "y": [
          -5.70115994,
          -6.2184397449999995,
          -6.73571955
         ],
         "type": "scatter"
        },
        {
         "hoverinfo": "text",
         "legendgroup": "lines",
         "line": {
          "color": "rgb(0.0,180.5,255.0)",
          "dash": "solid",
          "width": 2
         },
         "mode": "lines",
         "name": "lines",
         "showlegend": false,
         "text": "Line_12_to_15_17<br />I = 30.241 %<br />I_from = 0.041 kA<br />I_to = 0.041 kA<br />",
         "x": [
          -0.24837037,
          0.27790299500000004,
          0.80417636
         ],
         "y": [
          -5.70115994,
          -6.06373286,
          -6.42630578
         ],
         "type": "scatter"
        },
        {
         "hoverinfo": "text",
         "legendgroup": "lines",
         "line": {
          "color": "rgb(0.0,172.5,255.0)",
          "dash": "solid",
          "width": 2
         },
         "mode": "lines",
         "name": "lines",
         "showlegend": false,
         "text": "Line_12_to_16_18<br />I = 29.377 %<br />I_from = 0.04 kA<br />I_to = 0.04 kA<br />",
         "x": [
          -0.24837037,
          -0.586332905,
          -0.92429544
         ],
         "y": [
          -5.70115994,
          -5.58677737,
          -5.4723948
         ],
         "type": "scatter"
        },
        {
         "hoverinfo": "text",
         "legendgroup": "lines",
         "line": {
          "color": "rgb(0.0,0.0,213.86363636363635)",
          "dash": "solid",
          "width": 2
         },
         "mode": "lines",
         "name": "lines",
         "showlegend": false,
         "text": "Line_14_to_15_19<br />I = 7.468 %<br />I_from = 0.005 kA<br />I_to = 0.005 kA<br />",
         "x": [
          -0.13926784,
          0.33245426,
          0.80417636
         ],
         "y": [
          -6.73571955,
          -6.581012664999999,
          -6.42630578
         ],
         "type": "scatter"
        },
        {
         "hoverinfo": "text",
         "legendgroup": "lines",
         "line": {
          "color": "rgb(31.4516129032258,255.0,215.3225806451613)",
          "dash": "solid",
          "width": 2
         },
         "mode": "lines",
         "name": "lines",
         "showlegend": false,
         "text": "Line_16_to_17_20<br />I = 38.699 %<br />I_from = 0.026 kA<br />I_to = 0.026 kA<br />",
         "x": [
          -0.92429544,
          -0.34736308,
          0.22956928
         ],
         "y": [
          -5.4723948,
          -5.190921685,
          -4.90944857
         ],
         "type": "scatter"
        },
        {
         "hoverinfo": "text",
         "legendgroup": "lines",
         "line": {
          "color": "rgb(195.96774193548384,255.0,50.80645161290322)",
          "dash": "solid",
          "width": 2
         },
         "mode": "lines",
         "name": "lines",
         "showlegend": false,
         "text": "Line_15_to_18_21<br />I = 58.634 %<br />I_from = 0.04 kA<br />I_to = 0.04 kA<br />",
         "x": [
          0.80417636,
          0.948945315,
          1.09371427
         ],
         "y": [
          -6.42630578,
          -6.9497400549999995,
          -7.47317433
         ],
         "type": "scatter"
        },
        {
         "hoverinfo": "text",
         "legendgroup": "lines",
         "line": {
          "color": "rgb(24.999999999999996,255.0,221.7741935483871)",
          "dash": "solid",
          "width": 2
         },
         "mode": "lines",
         "name": "lines",
         "showlegend": false,
         "text": "Line_18_to_19_22<br />I = 37.93 %<br />I_from = 0.026 kA<br />I_to = 0.026 kA<br />",
         "x": [
          1.09371427,
          1.475601165,
          1.85748806
         ],
         "y": [
          -7.47317433,
          -7.164482555,
          -6.85579078
         ],
         "type": "scatter"
        },
        {
         "hoverinfo": "text",
         "legendgroup": "lines",
         "line": {
          "color": "rgb(0.0,44.5,255.0)",
          "dash": "solid",
          "width": 2
         },
         "mode": "lines",
         "name": "lines",
         "showlegend": false,
         "text": "Line_19_to_20_23<br />I = 17.025 %<br />I_from = 0.023 kA<br />I_to = 0.023 kA<br />",
         "x": [
          1.85748806,
          1.6770482850000001,
          1.49660851
         ],
         "y": [
          -6.85579078,
          -6.2062257,
          -5.55666062
         ],
         "type": "scatter"
        },
        {
         "hoverinfo": "text",
         "legendgroup": "lines",
         "line": {
          "color": "rgb(0.0,116.49999999999997,255.0)",
          "dash": "solid",
          "width": 2
         },
         "mode": "lines",
         "name": "lines",
         "showlegend": false,
         "text": "Line_10_to_20_24<br />I = 23.837 %<br />I_from = 0.033 kA<br />I_to = 0.033 kA<br />",
         "x": [
          1.16269949,
          1.3296540000000001,
          1.49660851
         ],
         "y": [
          -4.29784958,
          -4.9272551,
          -5.55666062
         ],
         "type": "scatter"
        },
        {
         "hoverinfo": "text",
         "legendgroup": "lines",
         "line": {
          "color": "rgb(0.0,152.5,255.0)",
          "dash": "solid",
          "width": 2
         },
         "mode": "lines",
         "name": "lines",
         "showlegend": false,
         "text": "Line_10_to_17_25<br />I = 27.595 %<br />I_from = 0.038 kA<br />I_to = 0.038 kA<br />",
         "x": [
          1.16269949,
          0.696134385,
          0.22956928
         ],
         "y": [
          -4.29784958,
          -4.603649075,
          -4.90944857
         ],
         "type": "scatter"
        },
        {
         "hoverinfo": "text",
         "legendgroup": "lines",
         "line": {
          "color": "rgb(21.774193548387093,255.0,225.0)",
          "dash": "solid",
          "width": 2
         },
         "mode": "lines",
         "name": "lines",
         "showlegend": false,
         "text": "Line_10_to_21_26<br />I = 37.71 %<br />I_from = 0.052 kA<br />I_to = 0.052 kA<br />",
         "x": [
          1.16269949,
          1.522229425,
          1.88175936
         ],
         "y": [
          -4.29784958,
          -4.48328995,
          -4.66873032
         ],
         "type": "scatter"
        },
        {
         "hoverinfo": "text",
         "legendgroup": "lines",
         "line": {
          "color": "rgb(0.0,172.5,255.0)",
          "dash": "solid",
          "width": 2
         },
         "mode": "lines",
         "name": "lines",
         "showlegend": false,
         "text": "Line_10_to_22_27<br />I = 29.449 %<br />I_from = 0.04 kA<br />I_to = 0.04 kA<br />",
         "x": [
          1.16269949,
          1.7847798400000001,
          2.40686019
         ],
         "y": [
          -4.29784958,
          -4.348596615,
          -4.39934365
         ],
         "type": "scatter"
        },
        {
         "hoverinfo": "text",
         "legendgroup": "lines",
         "line": {
          "color": "rgb(177.50000000000017,0.0,0.0)",
          "dash": "solid",
          "width": 2
         },
         "mode": "lines",
         "name": "lines",
         "showlegend": false,
         "text": "Line_21_to_22_28<br />I = 95.351 %<br />I_from = 0.13 kA<br />I_to = 0.13 kA<br />",
         "x": [
          1.88175936,
          2.144309775,
          2.40686019
         ],
         "y": [
          -4.66873032,
          -4.534036985,
          -4.39934365
         ],
         "type": "scatter"
        },
        {
         "hoverinfo": "text",
         "legendgroup": "lines",
         "line": {
          "color": "rgb(250.8064516129032,240.92592592592598,0.0)",
          "dash": "solid",
          "width": 2
         },
         "mode": "lines",
         "name": "lines",
         "showlegend": false,
         "text": "Line_15_to_23_29<br />I = 65.36 %<br />I_from = 0.045 kA<br />I_to = 0.045 kA<br />",
         "x": [
          0.80417636,
          1.539526445,
          2.27487653
         ],
         "y": [
          -6.42630578,
          -6.2941214,
          -6.16193702
         ],
         "type": "scatter"
        },
        {
         "hoverinfo": "text",
         "legendgroup": "lines",
         "line": {
          "color": "rgb(128.2258064516129,255.0,118.5483870967742)",
          "dash": "solid",
          "width": 2
         },
         "mode": "lines",
         "name": "lines",
         "showlegend": false,
         "text": "Line_22_to_24_30<br />I = 50.475 %<br />I_from = 0.035 kA<br />I_to = 0.035 kA<br />",
         "x": [
          2.40686019,
          2.761921925,
          3.11698366
         ],
         "y": [
          -4.39934365,
          -4.772967845,
          -5.14659204
         ],
         "type": "scatter"
        },
        {
         "hoverinfo": "text",
         "legendgroup": "lines",
         "line": {
          "color": "rgb(79.8387096774193,255.0,166.93548387096777)",
          "dash": "solid",
          "width": 2
         },
         "mode": "lines",
         "name": "lines",
         "showlegend": false,
         "text": "Line_23_to_24_31<br />I = 44.627 %<br />I_from = 0.031 kA<br />I_to = 0.031 kA<br />",
         "x": [
          2.27487653,
          2.6959300949999996,
          3.11698366
         ],
         "y": [
          -6.16193702,
          -5.65426453,
          -5.14659204
         ],
         "type": "scatter"
        },
        {
         "hoverinfo": "text",
         "legendgroup": "lines",
         "line": {
          "color": "rgb(0.0,144.5,255.0)",
          "dash": "solid",
          "width": 2
         },
         "mode": "lines",
         "name": "lines",
         "showlegend": false,
         "text": "Line_24_to_25_32<br />I = 26.82 %<br />I_from = 0.018 kA<br />I_to = 0.018 kA<br />",
         "x": [
          3.11698366,
          3.42081239,
          3.72464112
         ],
         "y": [
          -5.14659204,
          -4.591842415,
          -4.03709279
         ],
         "type": "scatter"
        },
        {
         "hoverinfo": "text",
         "legendgroup": "lines",
         "line": {
          "color": "rgb(0.0,144.5,255.0)",
          "dash": "solid",
          "width": 2
         },
         "mode": "lines",
         "name": "lines",
         "showlegend": false,
         "text": "Line_25_to_26_33<br />I = 26.924 %<br />I_from = 0.018 kA<br />I_to = 0.018 kA<br />",
         "x": [
          3.72464112,
          4.277290765,
          4.82994041
         ],
         "y": [
          -4.03709279,
          -4.15378437,
          -4.27047595
         ],
         "type": "scatter"
        },
        {
         "hoverinfo": "text",
         "legendgroup": "lines",
         "line": {
          "color": "rgb(99.19354838709675,255.0,147.58064516129033)",
          "dash": "solid",
          "width": 2
         },
         "mode": "lines",
         "name": "lines",
         "showlegend": false,
         "text": "Line_25_to_27_34<br />I = 47.135 %<br />I_from = 0.032 kA<br />I_to = 0.032 kA<br />",
         "x": [
          3.72464112,
          3.414273855,
          3.10390659
         ],
         "y": [
          -4.03709279,
          -3.45221746,
          -2.86734213
         ],
         "type": "scatter"
        },
        {
         "hoverinfo": "text",
         "legendgroup": "lines",
         "line": {
          "color": "rgb(0.0,8.5,255.0)",
          "dash": "solid",
          "width": 2
         },
         "mode": "lines",
         "name": "lines",
         "showlegend": false,
         "text": "Line_28_to_27_35<br />I = 13.614 %<br />I_from = 0.038 kA<br />I_to = 0.038 kA<br />",
         "x": [
          1.85340926,
          2.478657925,
          3.10390659
         ],
         "y": [
          -2.84894447,
          -2.8581433,
          -2.86734213
         ],
         "type": "scatter"
        },
        {
         "hoverinfo": "text",
         "legendgroup": "lines",
         "line": {
          "color": "rgb(41.129032258064505,255.0,205.6451612903226)",
          "dash": "solid",
          "width": 2
         },
         "mode": "lines",
         "name": "lines",
         "showlegend": false,
         "text": "Line_27_to_29_36<br />I = 39.996 %<br />I_from = 0.027 kA<br />I_to = 0.027 kA<br />",
         "x": [
          3.10390659,
          3.5708549549999997,
          4.03780332
         ],
         "y": [
          -2.86734213,
          -2.57542253,
          -2.28350293
         ],
         "type": "scatter"
        },
        {
         "hoverinfo": "text",
         "legendgroup": "lines",
         "line": {
          "color": "rgb(89.51612903225806,255.0,157.25806451612902)",
          "dash": "solid",
          "width": 2
         },
         "mode": "lines",
         "name": "lines",
         "showlegend": false,
         "text": "Line_27_to_30_37<br />I = 45.729 %<br />I_from = 0.031 kA<br />I_to = 0.031 kA<br />",
         "x": [
          3.10390659,
          3.28742716,
          3.47094773
         ],
         "y": [
          -2.86734213,
          -2.3063157,
          -1.74528927
         ],
         "type": "scatter"
        },
        {
         "hoverinfo": "text",
         "legendgroup": "lines",
         "line": {
          "color": "rgb(0.0,112.5,255.0)",
          "dash": "solid",
          "width": 2
         },
         "mode": "lines",
         "name": "lines",
         "showlegend": false,
         "text": "Line_29_to_30_38<br />I = 23.825 %<br />I_from = 0.016 kA<br />I_to = 0.016 kA<br />",
         "x": [
          4.03780332,
          3.754375525,
          3.47094773
         ],
         "y": [
          -2.28350293,
          -2.0143961,
          -1.74528927
         ],
         "type": "scatter"
        },
        {
         "hoverinfo": "text",
         "legendgroup": "lines",
         "line": {
          "color": "rgb(0.0,140.5,255.0)",
          "dash": "solid",
          "width": 2
         },
         "mode": "lines",
         "name": "lines",
         "showlegend": false,
         "text": "Line_8_to_28_39<br />I = 26.261 %<br />I_from = 0.036 kA<br />I_to = 0.03 kA<br />",
         "x": [
          1.06691506,
          1.4601621599999999,
          1.85340926
         ],
         "y": [
          -2.43115811,
          -2.64005129,
          -2.84894447
         ],
         "type": "scatter"
        },
        {
         "hoverinfo": "text",
         "legendgroup": "lines",
         "line": {
          "color": "rgb(0.0,0.0,232.04545454545453)",
          "dash": "solid",
          "width": 2
         },
         "mode": "lines",
         "name": "lines",
         "showlegend": false,
         "text": "Line_6_to_28_40<br />I = 9.015 %<br />I_from = 0.012 kA<br />I_to = 0.008 kA<br />",
         "x": [
          0.5309084,
          1.19215883,
          1.85340926
         ],
         "y": [
          -3.43327237,
          -3.14110842,
          -2.84894447
         ],
         "type": "scatter"
        },
        {
         "hoverinfo": "text",
         "legendgroup": "lines",
         "marker": {
          "color": "rgb(128, 128, 128)",
          "size": 1,
          "symbol": "circle"
         },
         "mode": "markers",
         "name": "edge_center",
         "showlegend": false,
         "text": [
          "Line_1_to_2_0<br />I = 9.246 %<br />I_from = 0.051 kA<br />I_to = 0.047 kA<br />",
          "Line_1_to_3_1<br />I = 12.488 %<br />I_from = 0.067 kA<br />I_to = 0.069 kA<br />",
          "Line_2_to_4_2<br />I = 27.045 %<br />I_from = 0.072 kA<br />I_to = 0.075 kA<br />",
          "Line_3_to_4_3<br />I = 10.403 %<br />I_from = 0.058 kA<br />I_to = 0.058 kA<br />",
          "Line_2_to_5_4<br />I = 11.707 %<br />I_from = 0.062 kA<br />I_to = 0.065 kA<br />",
          "Line_2_to_6_5<br />I = 34.334 %<br />I_from = 0.092 kA<br />I_to = 0.095 kA<br />",
          "Line_4_to_6_6<br />I = 28.586 %<br />I_from = 0.11 kA<br />I_to = 0.11 kA<br />",
          "Line_5_to_7_7<br />I = 22.454 %<br />I_from = 0.065 kA<br />I_to = 0.067 kA<br />",
          "Line_6_to_7_8<br />I = 8.013 %<br />I_from = 0.043 kA<br />I_to = 0.045 kA<br />",
          "Line_6_to_8_9<br />I = 74.554 %<br />I_from = 0.153 kA<br />I_to = 0.153 kA<br />",
          "Line_6_to_9_10<br />I = 10.578 %<br />I_from = 0.029 kA<br />I_to = 0.029 kA<br />",
          "Line_6_to_10_11<br />I = 12.278 %<br />I_from = 0.017 kA<br />I_to = 0.017 kA<br />",
          "Line_9_to_11_12<br />I = 0.0 %<br />I_from = 0.0 kA<br />I_to = 0.0 kA<br />",
          "Line_9_to_10_13<br />I = 10.578 %<br />I_from = 0.029 kA<br />I_to = 0.029 kA<br />",
          "Line_4_to_12_14<br />I = 4.119 %<br />I_from = 0.011 kA<br />I_to = 0.011 kA<br />",
          "Line_12_to_13_15<br />I = 59.542 %<br />I_from = 0.166 kA<br />I_to = 0.166 kA<br />",
          "Line_12_to_14_16<br />I = 17.311 %<br />I_from = 0.024 kA<br />I_to = 0.024 kA<br />",
          "Line_12_to_15_17<br />I = 30.241 %<br />I_from = 0.041 kA<br />I_to = 0.041 kA<br />",
          "Line_12_to_16_18<br />I = 29.377 %<br />I_from = 0.04 kA<br />I_to = 0.04 kA<br />",
          "Line_14_to_15_19<br />I = 7.468 %<br />I_from = 0.005 kA<br />I_to = 0.005 kA<br />",
          "Line_16_to_17_20<br />I = 38.699 %<br />I_from = 0.026 kA<br />I_to = 0.026 kA<br />",
          "Line_15_to_18_21<br />I = 58.634 %<br />I_from = 0.04 kA<br />I_to = 0.04 kA<br />",
          "Line_18_to_19_22<br />I = 37.93 %<br />I_from = 0.026 kA<br />I_to = 0.026 kA<br />",
          "Line_19_to_20_23<br />I = 17.025 %<br />I_from = 0.023 kA<br />I_to = 0.023 kA<br />",
          "Line_10_to_20_24<br />I = 23.837 %<br />I_from = 0.033 kA<br />I_to = 0.033 kA<br />",
          "Line_10_to_17_25<br />I = 27.595 %<br />I_from = 0.038 kA<br />I_to = 0.038 kA<br />",
          "Line_10_to_21_26<br />I = 37.71 %<br />I_from = 0.052 kA<br />I_to = 0.052 kA<br />",
          "Line_10_to_22_27<br />I = 29.449 %<br />I_from = 0.04 kA<br />I_to = 0.04 kA<br />",
          "Line_21_to_22_28<br />I = 95.351 %<br />I_from = 0.13 kA<br />I_to = 0.13 kA<br />",
          "Line_15_to_23_29<br />I = 65.36 %<br />I_from = 0.045 kA<br />I_to = 0.045 kA<br />",
          "Line_22_to_24_30<br />I = 50.475 %<br />I_from = 0.035 kA<br />I_to = 0.035 kA<br />",
          "Line_23_to_24_31<br />I = 44.627 %<br />I_from = 0.031 kA<br />I_to = 0.031 kA<br />",
          "Line_24_to_25_32<br />I = 26.82 %<br />I_from = 0.018 kA<br />I_to = 0.018 kA<br />",
          "Line_25_to_26_33<br />I = 26.924 %<br />I_from = 0.018 kA<br />I_to = 0.018 kA<br />",
          "Line_25_to_27_34<br />I = 47.135 %<br />I_from = 0.032 kA<br />I_to = 0.032 kA<br />",
          "Line_28_to_27_35<br />I = 13.614 %<br />I_from = 0.038 kA<br />I_to = 0.038 kA<br />",
          "Line_27_to_29_36<br />I = 39.996 %<br />I_from = 0.027 kA<br />I_to = 0.027 kA<br />",
          "Line_27_to_30_37<br />I = 45.729 %<br />I_from = 0.031 kA<br />I_to = 0.031 kA<br />",
          "Line_29_to_30_38<br />I = 23.825 %<br />I_from = 0.016 kA<br />I_to = 0.016 kA<br />",
          "Line_8_to_28_39<br />I = 26.261 %<br />I_from = 0.036 kA<br />I_to = 0.03 kA<br />",
          "Line_6_to_28_40<br />I = 9.015 %<br />I_from = 0.012 kA<br />I_to = 0.008 kA<br />"
         ],
         "x": [
          -1.144736945
         ],
         "y": [
          -3.252058715
         ],
         "type": "scatter"
        },
        {
         "hoverinfo": "text",
         "marker": {
          "color": "rgb(128, 128, 128)",
          "size": 20,
          "symbol": "square"
         },
         "mode": "markers",
         "name": "external_grid",
         "text": [
          1
         ],
         "x": [
          -1.72745671
         ],
         "y": [
          -3.18926495
         ],
         "type": "scatter"
        },
        {
         "hoverinfo": "text",
         "marker": {
          "cmax": 1.1,
          "cmin": 0.9,
          "color": {
           "dtype": "f8",
           "bdata": "AAAAAAAA8D/////////vP6oS5W3ede8/CZJF/Otc7z+gjdMe32/vP8B7+9BSJO8/ncFwaZP07j+ZfV3ubb3uP/joSV1OYO8/pVoPcD2A7z/46EldTmDvP2FTGtr0iO8/////////7z97J6LG70DvPzUGuUQJXu8/o/3GQNNG7z+ah4I/e0LvP7wos5J2/e4/DtJPpaHj7j9PFJ8maQPvPwTKf8TLye8/////////7z8AAAAAAADwP0mmAslVou8/RSaQBtev7z9KVtjnNhzvPwAAAAAAAPA/8vEqTd0w7z9+CTow21jvP2AuD4Tl+O4/"
          },
          "colorbar": {
           "thickness": 10,
           "title": {
            "side": "right",
            "text": "Bus Voltage [pu]"
           },
           "x": 1.0
          },
          "colorscale": [
           [
            0.0,
            "rgb(0,0,131)"
           ],
           [
            0.2,
            "rgb(0,60,170)"
           ],
           [
            0.4,
            "rgb(5,255,255)"
           ],
           [
            0.6,
            "rgb(255,255,0)"
           ],
           [
            0.8,
            "rgb(250,0,0)"
           ],
           [
            1.0,
            "rgb(128,0,0)"
           ]
          ],
          "size": 10,
          "symbol": "circle"
         },
         "mode": "markers",
         "name": "buses",
         "text": [
          "1<br />V_m = 1.0 pu<br />V_m = 135.0 kV<br />V_a = 0.0 deg",
          "2<br />V_m = 1.0 pu<br />V_m = 135.0 kV<br />V_a = -0.415 deg",
          "3<br />V_m = 0.983 pu<br />V_m = 132.724 kV<br />V_a = -1.522 deg",
          "4<br />V_m = 0.98 pu<br />V_m = 132.313 kV<br />V_a = -1.795 deg",
          "5<br />V_m = 0.982 pu<br />V_m = 132.625 kV<br />V_a = -1.864 deg",
          "6<br />V_m = 0.973 pu<br />V_m = 131.38 kV<br />V_a = -2.267 deg",
          "7<br />V_m = 0.967 pu<br />V_m = 130.593 kV<br />V_a = -2.652 deg",
          "8<br />V_m = 0.961 pu<br />V_m = 129.684 kV<br />V_a = -2.726 deg",
          "9<br />V_m = 0.981 pu<br />V_m = 132.368 kV<br />V_a = -2.997 deg",
          "10<br />V_m = 0.984 pu<br />V_m = 132.895 kV<br />V_a = -3.375 deg",
          "11<br />V_m = 0.981 pu<br />V_m = 132.368 kV<br />V_a = -2.997 deg",
          "12<br />V_m = 0.985 pu<br />V_m = 133.038 kV<br />V_a = -1.537 deg",
          "13<br />V_m = 1.0 pu<br />V_m = 135.0 kV<br />V_a = 1.476 deg",
          "14<br />V_m = 0.977 pu<br />V_m = 131.851 kV<br />V_a = -2.308 deg",
          "15<br />V_m = 0.98 pu<br />V_m = 132.331 kV<br />V_a = -2.312 deg",
          "16<br />V_m = 0.977 pu<br />V_m = 131.948 kV<br />V_a = -2.644 deg",
          "17<br />V_m = 0.977 pu<br />V_m = 131.877 kV<br />V_a = -3.392 deg",
          "18<br />V_m = 0.968 pu<br />V_m = 130.739 kV<br />V_a = -3.478 deg",
          "19<br />V_m = 0.965 pu<br />V_m = 130.314 kV<br />V_a = -3.958 deg",
          "20<br />V_m = 0.969 pu<br />V_m = 130.837 kV<br />V_a = -3.871 deg",
          "21<br />V_m = 0.993 pu<br />V_m = 134.107 kV<br />V_a = -3.488 deg",
          "22<br />V_m = 1.0 pu<br />V_m = 135.0 kV<br />V_a = -3.393 deg",
          "23<br />V_m = 1.0 pu<br />V_m = 135.0 kV<br />V_a = -1.589 deg",
          "24<br />V_m = 0.989 pu<br />V_m = 133.456 kV<br />V_a = -2.631 deg",
          "25<br />V_m = 0.99 pu<br />V_m = 133.679 kV<br />V_a = -1.69 deg",
          "26<br />V_m = 0.972 pu<br />V_m = 131.246 kV<br />V_a = -2.139 deg",
          "27<br />V_m = 1.0 pu<br />V_m = 135.0 kV<br />V_a = -0.828 deg",
          "28<br />V_m = 0.975 pu<br />V_m = 131.587 kV<br />V_a = -2.266 deg",
          "29<br />V_m = 0.98 pu<br />V_m = 132.246 kV<br />V_a = -2.128 deg",
          "30<br />V_m = 0.968 pu<br />V_m = 130.664 kV<br />V_a = -3.042 deg"
         ],
         "x": [
          -1.72745671,
          -0.56201718,
          -1.59061066,
          -0.37269465,
          -1.05378362,
          0.5309084,
          -0.06737913,
          1.06691506,
          1.10378175,
          1.16269949,
          1.01208789,
          -0.24837037,
          -1.35150967,
          -0.13926784,
          0.80417636,
          -0.92429544,
          0.22956928,
          1.09371427,
          1.85748806,
          1.49660851,
          1.88175936,
          2.40686019,
          2.27487653,
          3.11698366,
          3.72464112,
          4.82994041,
          3.10390659,
          1.85340926,
          4.03780332,
          3.47094773
         ],
         "y": [
          -3.18926495,
          -3.31485248,
          -4.14420215,
          -4.28290755,
          -2.23944635,
          -3.43327237,
          -2.39188731,
          -2.43115811,
          -3.1875438,
          -4.29784958,
          -1.7414861,
          -5.70115994,
          -6.36486218,
          -6.73571955,
          -6.42630578,
          -5.4723948,
          -4.90944857,
          -7.47317433,
          -6.85579078,
          -5.55666062,
          -4.66873032,
          -4.39934365,
          -6.16193702,
          -5.14659204,
          -4.03709279,
          -4.27047595,
          -2.86734213,
          -2.84894447,
          -2.28350293,
          -1.74528927
         ],
         "type": "scatter"
        }
       ],
       "layout": {
        "autosize": true,
        "hovermode": "closest",
        "legend": {
         "itemsizing": "constant"
        },
        "margin": {
         "b": 5,
         "l": 5,
         "r": 5,
         "t": 5
        },
        "showlegend": false,
        "title": {
         "font": {
          "size": 16
         }
        },
        "xaxis": {
         "showgrid": false,
         "showticklabels": false,
         "zeroline": false
        },
        "yaxis": {
         "showgrid": false,
         "showticklabels": false,
         "zeroline": false
        },
        "template": {
         "data": {
          "histogram2dcontour": [
           {
            "type": "histogram2dcontour",
            "colorbar": {
             "outlinewidth": 0,
             "ticks": ""
            },
            "colorscale": [
             [
              0.0,
              "#0d0887"
             ],
             [
              0.1111111111111111,
              "#46039f"
             ],
             [
              0.2222222222222222,
              "#7201a8"
             ],
             [
              0.3333333333333333,
              "#9c179e"
             ],
             [
              0.4444444444444444,
              "#bd3786"
             ],
             [
              0.5555555555555556,
              "#d8576b"
             ],
             [
              0.6666666666666666,
              "#ed7953"
             ],
             [
              0.7777777777777778,
              "#fb9f3a"
             ],
             [
              0.8888888888888888,
              "#fdca26"
             ],
             [
              1.0,
              "#f0f921"
             ]
            ]
           }
          ],
          "choropleth": [
           {
            "type": "choropleth",
            "colorbar": {
             "outlinewidth": 0,
             "ticks": ""
            }
           }
          ],
          "histogram2d": [
           {
            "type": "histogram2d",
            "colorbar": {
             "outlinewidth": 0,
             "ticks": ""
            },
            "colorscale": [
             [
              0.0,
              "#0d0887"
             ],
             [
              0.1111111111111111,
              "#46039f"
             ],
             [
              0.2222222222222222,
              "#7201a8"
             ],
             [
              0.3333333333333333,
              "#9c179e"
             ],
             [
              0.4444444444444444,
              "#bd3786"
             ],
             [
              0.5555555555555556,
              "#d8576b"
             ],
             [
              0.6666666666666666,
              "#ed7953"
             ],
             [
              0.7777777777777778,
              "#fb9f3a"
             ],
             [
              0.8888888888888888,
              "#fdca26"
             ],
             [
              1.0,
              "#f0f921"
             ]
            ]
           }
          ],
          "heatmap": [
           {
            "type": "heatmap",
            "colorbar": {
             "outlinewidth": 0,
             "ticks": ""
            },
            "colorscale": [
             [
              0.0,
              "#0d0887"
             ],
             [
              0.1111111111111111,
              "#46039f"
             ],
             [
              0.2222222222222222,
              "#7201a8"
             ],
             [
              0.3333333333333333,
              "#9c179e"
             ],
             [
              0.4444444444444444,
              "#bd3786"
             ],
             [
              0.5555555555555556,
              "#d8576b"
             ],
             [
              0.6666666666666666,
              "#ed7953"
             ],
             [
              0.7777777777777778,
              "#fb9f3a"
             ],
             [
              0.8888888888888888,
              "#fdca26"
             ],
             [
              1.0,
              "#f0f921"
             ]
            ]
           }
          ],
          "contourcarpet": [
           {
            "type": "contourcarpet",
            "colorbar": {
             "outlinewidth": 0,
             "ticks": ""
            }
           }
          ],
          "contour": [
           {
            "type": "contour",
            "colorbar": {
             "outlinewidth": 0,
             "ticks": ""
            },
            "colorscale": [
             [
              0.0,
              "#0d0887"
             ],
             [
              0.1111111111111111,
              "#46039f"
             ],
             [
              0.2222222222222222,
              "#7201a8"
             ],
             [
              0.3333333333333333,
              "#9c179e"
             ],
             [
              0.4444444444444444,
              "#bd3786"
             ],
             [
              0.5555555555555556,
              "#d8576b"
             ],
             [
              0.6666666666666666,
              "#ed7953"
             ],
             [
              0.7777777777777778,
              "#fb9f3a"
             ],
             [
              0.8888888888888888,
              "#fdca26"
             ],
             [
              1.0,
              "#f0f921"
             ]
            ]
           }
          ],
          "surface": [
           {
            "type": "surface",
            "colorbar": {
             "outlinewidth": 0,
             "ticks": ""
            },
            "colorscale": [
             [
              0.0,
              "#0d0887"
             ],
             [
              0.1111111111111111,
              "#46039f"
             ],
             [
              0.2222222222222222,
              "#7201a8"
             ],
             [
              0.3333333333333333,
              "#9c179e"
             ],
             [
              0.4444444444444444,
              "#bd3786"
             ],
             [
              0.5555555555555556,
              "#d8576b"
             ],
             [
              0.6666666666666666,
              "#ed7953"
             ],
             [
              0.7777777777777778,
              "#fb9f3a"
             ],
             [
              0.8888888888888888,
              "#fdca26"
             ],
             [
              1.0,
              "#f0f921"
             ]
            ]
           }
          ],
          "mesh3d": [
           {
            "type": "mesh3d",
            "colorbar": {
             "outlinewidth": 0,
             "ticks": ""
            }
           }
          ],
          "scatter": [
           {
            "fillpattern": {
             "fillmode": "overlay",
             "size": 10,
             "solidity": 0.2
            },
            "type": "scatter"
           }
          ],
          "parcoords": [
           {
            "type": "parcoords",
            "line": {
             "colorbar": {
              "outlinewidth": 0,
              "ticks": ""
             }
            }
           }
          ],
          "scatterpolargl": [
           {
            "type": "scatterpolargl",
            "marker": {
             "colorbar": {
              "outlinewidth": 0,
              "ticks": ""
             }
            }
           }
          ],
          "bar": [
           {
            "error_x": {
             "color": "#2a3f5f"
            },
            "error_y": {
             "color": "#2a3f5f"
            },
            "marker": {
             "line": {
              "color": "#E5ECF6",
              "width": 0.5
             },
             "pattern": {
              "fillmode": "overlay",
              "size": 10,
              "solidity": 0.2
             }
            },
            "type": "bar"
           }
          ],
          "scattergeo": [
           {
            "type": "scattergeo",
            "marker": {
             "colorbar": {
              "outlinewidth": 0,
              "ticks": ""
             }
            }
           }
          ],
          "scatterpolar": [
           {
            "type": "scatterpolar",
            "marker": {
             "colorbar": {
              "outlinewidth": 0,
              "ticks": ""
             }
            }
           }
          ],
          "histogram": [
           {
            "marker": {
             "pattern": {
              "fillmode": "overlay",
              "size": 10,
              "solidity": 0.2
             }
            },
            "type": "histogram"
           }
          ],
          "scattergl": [
           {
            "type": "scattergl",
            "marker": {
             "colorbar": {
              "outlinewidth": 0,
              "ticks": ""
             }
            }
           }
          ],
          "scatter3d": [
           {
            "type": "scatter3d",
            "line": {
             "colorbar": {
              "outlinewidth": 0,
              "ticks": ""
             }
            },
            "marker": {
             "colorbar": {
              "outlinewidth": 0,
              "ticks": ""
             }
            }
           }
          ],
          "scattermap": [
           {
            "type": "scattermap",
            "marker": {
             "colorbar": {
              "outlinewidth": 0,
              "ticks": ""
             }
            }
           }
          ],
          "scattermapbox": [
           {
            "type": "scattermapbox",
            "marker": {
             "colorbar": {
              "outlinewidth": 0,
              "ticks": ""
             }
            }
           }
          ],
          "scatterternary": [
           {
            "type": "scatterternary",
            "marker": {
             "colorbar": {
              "outlinewidth": 0,
              "ticks": ""
             }
            }
           }
          ],
          "scattercarpet": [
           {
            "type": "scattercarpet",
            "marker": {
             "colorbar": {
              "outlinewidth": 0,
              "ticks": ""
             }
            }
           }
          ],
          "carpet": [
           {
            "aaxis": {
             "endlinecolor": "#2a3f5f",
             "gridcolor": "white",
             "linecolor": "white",
             "minorgridcolor": "white",
             "startlinecolor": "#2a3f5f"
            },
            "baxis": {
             "endlinecolor": "#2a3f5f",
             "gridcolor": "white",
             "linecolor": "white",
             "minorgridcolor": "white",
             "startlinecolor": "#2a3f5f"
            },
            "type": "carpet"
           }
          ],
          "table": [
           {
            "cells": {
             "fill": {
              "color": "#EBF0F8"
             },
             "line": {
              "color": "white"
             }
            },
            "header": {
             "fill": {
              "color": "#C8D4E3"
             },
             "line": {
              "color": "white"
             }
            },
            "type": "table"
           }
          ],
          "barpolar": [
           {
            "marker": {
             "line": {
              "color": "#E5ECF6",
              "width": 0.5
             },
             "pattern": {
              "fillmode": "overlay",
              "size": 10,
              "solidity": 0.2
             }
            },
            "type": "barpolar"
           }
          ],
          "pie": [
           {
            "automargin": true,
            "type": "pie"
           }
          ]
         },
         "layout": {
          "autotypenumbers": "strict",
          "colorway": [
           "#636efa",
           "#EF553B",
           "#00cc96",
           "#ab63fa",
           "#FFA15A",
           "#19d3f3",
           "#FF6692",
           "#B6E880",
           "#FF97FF",
           "#FECB52"
          ],
          "font": {
           "color": "#2a3f5f"
          },
          "hovermode": "closest",
          "hoverlabel": {
           "align": "left"
          },
          "paper_bgcolor": "white",
          "plot_bgcolor": "#E5ECF6",
          "polar": {
           "bgcolor": "#E5ECF6",
           "angularaxis": {
            "gridcolor": "white",
            "linecolor": "white",
            "ticks": ""
           },
           "radialaxis": {
            "gridcolor": "white",
            "linecolor": "white",
            "ticks": ""
           }
          },
          "ternary": {
           "bgcolor": "#E5ECF6",
           "aaxis": {
            "gridcolor": "white",
            "linecolor": "white",
            "ticks": ""
           },
           "baxis": {
            "gridcolor": "white",
            "linecolor": "white",
            "ticks": ""
           },
           "caxis": {
            "gridcolor": "white",
            "linecolor": "white",
            "ticks": ""
           }
          },
          "coloraxis": {
           "colorbar": {
            "outlinewidth": 0,
            "ticks": ""
           }
          },
          "colorscale": {
           "sequential": [
            [
             0.0,
             "#0d0887"
            ],
            [
             0.1111111111111111,
             "#46039f"
            ],
            [
             0.2222222222222222,
             "#7201a8"
            ],
            [
             0.3333333333333333,
             "#9c179e"
            ],
            [
             0.4444444444444444,
             "#bd3786"
            ],
            [
             0.5555555555555556,
             "#d8576b"
            ],
            [
             0.6666666666666666,
             "#ed7953"
            ],
            [
             0.7777777777777778,
             "#fb9f3a"
            ],
            [
             0.8888888888888888,
             "#fdca26"
            ],
            [
             1.0,
             "#f0f921"
            ]
           ],
           "sequentialminus": [
            [
             0.0,
             "#0d0887"
            ],
            [
             0.1111111111111111,
             "#46039f"
            ],
            [
             0.2222222222222222,
             "#7201a8"
            ],
            [
             0.3333333333333333,
             "#9c179e"
            ],
            [
             0.4444444444444444,
             "#bd3786"
            ],
            [
             0.5555555555555556,
             "#d8576b"
            ],
            [
             0.6666666666666666,
             "#ed7953"
            ],
            [
             0.7777777777777778,
             "#fb9f3a"
            ],
            [
             0.8888888888888888,
             "#fdca26"
            ],
            [
             1.0,
             "#f0f921"
            ]
           ],
           "diverging": [
            [
             0,
             "#8e0152"
            ],
            [
             0.1,
             "#c51b7d"
            ],
            [
             0.2,
             "#de77ae"
            ],
            [
             0.3,
             "#f1b6da"
            ],
            [
             0.4,
             "#fde0ef"
            ],
            [
             0.5,
             "#f7f7f7"
            ],
            [
             0.6,
             "#e6f5d0"
            ],
            [
             0.7,
             "#b8e186"
            ],
            [
             0.8,
             "#7fbc41"
            ],
            [
             0.9,
             "#4d9221"
            ],
            [
             1,
             "#276419"
            ]
           ]
          },
          "xaxis": {
           "gridcolor": "white",
           "linecolor": "white",
           "ticks": "",
           "title": {
            "standoff": 15
           },
           "zerolinecolor": "white",
           "automargin": true,
           "zerolinewidth": 2
          },
          "yaxis": {
           "gridcolor": "white",
           "linecolor": "white",
           "ticks": "",
           "title": {
            "standoff": 15
           },
           "zerolinecolor": "white",
           "automargin": true,
           "zerolinewidth": 2
          },
          "scene": {
           "xaxis": {
            "backgroundcolor": "#E5ECF6",
            "gridcolor": "white",
            "linecolor": "white",
            "showbackground": true,
            "ticks": "",
            "zerolinecolor": "white",
            "gridwidth": 2
           },
           "yaxis": {
            "backgroundcolor": "#E5ECF6",
            "gridcolor": "white",
            "linecolor": "white",
            "showbackground": true,
            "ticks": "",
            "zerolinecolor": "white",
            "gridwidth": 2
           },
           "zaxis": {
            "backgroundcolor": "#E5ECF6",
            "gridcolor": "white",
            "linecolor": "white",
            "showbackground": true,
            "ticks": "",
            "zerolinecolor": "white",
            "gridwidth": 2
           }
          },
          "shapedefaults": {
           "line": {
            "color": "#2a3f5f"
           }
          },
          "annotationdefaults": {
           "arrowcolor": "#2a3f5f",
           "arrowhead": 0,
           "arrowwidth": 1
          },
          "geo": {
           "bgcolor": "white",
           "landcolor": "#E5ECF6",
           "subunitcolor": "white",
           "showland": true,
           "showlakes": true,
           "lakecolor": "white"
          },
          "title": {
           "x": 0.05
          },
          "mapbox": {
           "style": "light"
          }
         }
        },
        "width": 700.0,
        "height": 611.8558457841272
       },
       "config": {
        "plotlyServerURL": "https://plot.ly"
       }
      }
     },
     "metadata": {},
     "output_type": "display_data"
    }
   ],
   "execution_count": 6
  },
  {
   "metadata": {
    "ExecuteTime": {
     "end_time": "2025-07-13T02:19:56.702531Z",
     "start_time": "2025-07-13T02:19:56.685215Z"
    }
   },
   "cell_type": "code",
   "source": "pp.to_json(net, str(DATA_DIR / \"base_networks\" / \"case30_no_viol.json\"))",
   "id": "8c68bb0fd4e2312c",
   "outputs": [],
   "execution_count": 7
  },
  {
   "metadata": {},
   "cell_type": "markdown",
   "source": "## CASE 118",
   "id": "1f2a1434a3ec82eb"
  },
  {
   "metadata": {
    "ExecuteTime": {
     "end_time": "2025-07-13T02:19:57.190325Z",
     "start_time": "2025-07-13T02:19:56.759526Z"
    }
   },
   "cell_type": "code",
   "source": [
    "net = NetworkGenerator().fill_missing_names(pp.networks.case118())\n",
    "net.load[\"curtailable\"] = False\n",
    "net.load.loc[net.load.bus.isin([52, 117]), \"p_mw\"] *= 0.2\n",
    "net.gen.loc[net.gen.bus.isin([24, 65]), \"vm_pu\"] = 1.04\n",
    "net.gen.loc[net.gen.bus.isin([75]), \"vm_pu\"] = 0.96\n",
    "pp.runpp(net)\n",
    "pp.plotting.plotly.pf_res_plotly(net, auto_open=False)"
   ],
   "id": "1d99e5c690d8dec0",
   "outputs": [
    {
     "data": {
      "application/vnd.plotly.v1+json": {
       "data": [
        {
         "hoverinfo": "text",
         "legendgroup": "lines",
         "line": {
          "color": "rgb(0.0,0.0,127.5)",
          "dash": "solid",
          "width": 2
         },
         "mode": "lines",
         "name": "lines",
         "showlegend": true,
         "text": "Line_1_to_2_0<br />I = 0.19 %<br />I_from = 0.079 kA<br />I_to = 0.072 kA<br />",
         "x": [
          -2.27537088,
          -2.6060947800000003,
          -2.93681868
         ],
         "y": [
          2.85434134,
          2.5332603049999998,
          2.21217927
         ],
         "type": "scatter"
        },
        {
         "hoverinfo": "text",
         "legendgroup": "lines",
         "line": {
          "color": "rgb(0.0,0.0,132.04545454545453)",
          "dash": "solid",
          "width": 2
         },
         "mode": "lines",
         "name": "lines",
         "showlegend": false,
         "text": "Line_1_to_3_1<br />I = 0.447 %<br />I_from = 0.185 kA<br />I_to = 0.183 kA<br />",
         "x": [
          -2.27537088,
          -2.054901065,
          -1.83443125
         ],
         "y": [
          2.85434134,
          2.28189326,
          1.70944518
         ],
         "type": "scatter"
        },
        {
         "hoverinfo": "text",
         "legendgroup": "lines",
         "line": {
          "color": "rgb(0.0,0.0,136.5909090909091)",
          "dash": "solid",
          "width": 2
         },
         "mode": "lines",
         "name": "lines",
         "showlegend": false,
         "text": "Line_4_to_5_2<br />I = 1.08 %<br />I_from = 0.447 kA<br />I_to = 0.447 kA<br />",
         "x": [
          -0.8886269,
          -0.92595492,
          -0.96328294
         ],
         "y": [
          1.55327056,
          1.124000235,
          0.69472991
         ],
         "type": "scatter"
        },
        {
         "hoverinfo": "text",
         "legendgroup": "lines",
         "line": {
          "color": "rgb(0.0,0.0,132.04545454545453)",
          "dash": "solid",
          "width": 2
         },
         "mode": "lines",
         "name": "lines",
         "showlegend": false,
         "text": "Line_3_to_5_3<br />I = 0.727 %<br />I_from = 0.301 kA<br />I_to = 0.299 kA<br />",
         "x": [
          -1.83443125,
          -1.3988570949999999,
          -0.96328294
         ],
         "y": [
          1.70944518,
          1.202087545,
          0.69472991
         ],
         "type": "scatter"
        },
        {
         "hoverinfo": "text",
         "legendgroup": "lines",
         "line": {
          "color": "rgb(0.0,0.0,136.5909090909091)",
          "dash": "solid",
          "width": 2
         },
         "mode": "lines",
         "name": "lines",
         "showlegend": false,
         "text": "Line_5_to_6_4<br />I = 0.894 %<br />I_from = 0.37 kA<br />I_to = 0.37 kA<br />",
         "x": [
          -0.96328294,
          -0.687128075,
          -0.41097321
         ],
         "y": [
          0.69472991,
          1.23115108,
          1.76757225
         ],
         "type": "scatter"
        },
        {
         "hoverinfo": "text",
         "legendgroup": "lines",
         "line": {
          "color": "rgb(0.0,0.0,127.5)",
          "dash": "solid",
          "width": 2
         },
         "mode": "lines",
         "name": "lines",
         "showlegend": false,
         "text": "Line_6_to_7_5<br />I = 0.366 %<br />I_from = 0.152 kA<br />I_to = 0.151 kA<br />",
         "x": [
          -0.41097321,
          -0.947311435,
          -1.48364966
         ],
         "y": [
          1.76757225,
          2.01480711,
          2.26204197
         ],
         "type": "scatter"
        },
        {
         "hoverinfo": "text",
         "legendgroup": "lines",
         "line": {
          "color": "rgb(0.0,0.0,177.5)",
          "dash": "solid",
          "width": 2
         },
         "mode": "lines",
         "name": "lines",
         "showlegend": false,
         "text": "Line_8_to_9_6<br />I = 4.475 %<br />I_from = 0.741 kA<br />I_to = 0.716 kA<br />",
         "x": [
          -0.67929979,
          -0.09354472999999999,
          0.49221033
         ],
         "y": [
          -0.58132104,
          -0.27088803499999997,
          0.03954497
         ],
         "type": "scatter"
        },
        {
         "hoverinfo": "text",
         "legendgroup": "lines",
         "line": {
          "color": "rgb(0.0,0.0,177.5)",
          "dash": "solid",
          "width": 2
         },
         "mode": "lines",
         "name": "lines",
         "showlegend": false,
         "text": "Line_9_to_10_7<br />I = 4.357 %<br />I_from = 0.716 kA<br />I_to = 0.722 kA<br />",
         "x": [
          0.49221033,
          1.000429815,
          1.5086493
         ],
         "y": [
          0.03954497,
          0.39667202,
          0.75379907
         ],
         "type": "scatter"
        },
        {
         "hoverinfo": "text",
         "legendgroup": "lines",
         "line": {
          "color": "rgb(0.0,0.0,132.04545454545453)",
          "dash": "solid",
          "width": 2
         },
         "mode": "lines",
         "name": "lines",
         "showlegend": false,
         "text": "Line_4_to_11_8<br />I = 0.651 %<br />I_from = 0.269 kA<br />I_to = 0.269 kA<br />",
         "x": [
          -0.8886269,
          -1.348553925,
          -1.80848095
         ],
         "y": [
          1.55327056,
          1.315809515,
          1.07834847
         ],
         "type": "scatter"
        },
        {
         "hoverinfo": "text",
         "legendgroup": "lines",
         "line": {
          "color": "rgb(0.0,0.0,132.04545454545453)",
          "dash": "solid",
          "width": 2
         },
         "mode": "lines",
         "name": "lines",
         "showlegend": false,
         "text": "Line_5_to_11_9<br />I = 0.78 %<br />I_from = 0.323 kA<br />I_to = 0.323 kA<br />",
         "x": [
          -0.96328294,
          -1.385881945,
          -1.80848095
         ],
         "y": [
          0.69472991,
          0.8865391899999999,
          1.07834847
         ],
         "type": "scatter"
        },
        {
         "hoverinfo": "text",
         "legendgroup": "lines",
         "line": {
          "color": "rgb(0.0,0.0,132.04545454545453)",
          "dash": "solid",
          "width": 2
         },
         "mode": "lines",
         "name": "lines",
         "showlegend": false,
         "text": "Line_11_to_12_10<br />I = 0.504 %<br />I_from = 0.209 kA<br />I_to = 0.207 kA<br />",
         "x": [
          -1.80848095,
          -2.13029877,
          -2.45211659
         ],
         "y": [
          1.07834847,
          1.1335627,
          1.18877693
         ],
         "type": "scatter"
        },
        {
         "hoverinfo": "text",
         "legendgroup": "lines",
         "line": {
          "color": "rgb(0.0,0.0,132.04545454545453)",
          "dash": "solid",
          "width": 2
         },
         "mode": "lines",
         "name": "lines",
         "showlegend": false,
         "text": "Line_2_to_12_11<br />I = 0.396 %<br />I_from = 0.164 kA<br />I_to = 0.161 kA<br />",
         "x": [
          -2.93681868,
          -2.694467635,
          -2.45211659
         ],
         "y": [
          2.21217927,
          1.7004781,
          1.18877693
         ],
         "type": "scatter"
        },
        {
         "hoverinfo": "text",
         "legendgroup": "lines",
         "line": {
          "color": "rgb(0.0,0.0,127.5)",
          "dash": "solid",
          "width": 2
         },
         "mode": "lines",
         "name": "lines",
         "showlegend": false,
         "text": "Line_3_to_12_12<br />I = 0.165 %<br />I_from = 0.068 kA<br />I_to = 0.056 kA<br />",
         "x": [
          -1.83443125,
          -2.14327392,
          -2.45211659
         ],
         "y": [
          1.70944518,
          1.449111055,
          1.18877693
         ],
         "type": "scatter"
        },
        {
         "hoverinfo": "text",
         "legendgroup": "lines",
         "line": {
          "color": "rgb(0.0,0.0,127.5)",
          "dash": "solid",
          "width": 2
         },
         "mode": "lines",
         "name": "lines",
         "showlegend": false,
         "text": "Line_7_to_12_13<br />I = 0.181 %<br />I_from = 0.075 kA<br />I_to = 0.074 kA<br />",
         "x": [
          -1.48364966,
          -1.9678831250000002,
          -2.45211659
         ],
         "y": [
          2.26204197,
          1.72540945,
          1.18877693
         ],
         "type": "scatter"
        },
        {
         "hoverinfo": "text",
         "legendgroup": "lines",
         "line": {
          "color": "rgb(0.0,0.0,127.5)",
          "dash": "solid",
          "width": 2
         },
         "mode": "lines",
         "name": "lines",
         "showlegend": false,
         "text": "Line_11_to_13_14<br />I = 0.385 %<br />I_from = 0.157 kA<br />I_to = 0.159 kA<br />",
         "x": [
          -1.80848095,
          -2.171234805,
          -2.53398866
         ],
         "y": [
          1.07834847,
          0.6832986449999999,
          0.28824882
         ],
         "type": "scatter"
        },
        {
         "hoverinfo": "text",
         "legendgroup": "lines",
         "line": {
          "color": "rgb(0.0,0.0,127.5)",
          "dash": "solid",
          "width": 2
         },
         "mode": "lines",
         "name": "lines",
         "showlegend": false,
         "text": "Line_12_to_14_15<br />I = 0.193 %<br />I_from = 0.078 kA<br />I_to = 0.08 kA<br />",
         "x": [
          -2.45211659,
          -2.76944546,
          -3.08677433
         ],
         "y": [
          1.18877693,
          0.76474824,
          0.34071955
         ],
         "type": "scatter"
        },
        {
         "hoverinfo": "text",
         "legendgroup": "lines",
         "line": {
          "color": "rgb(0.0,0.0,127.5)",
          "dash": "solid",
          "width": 2
         },
         "mode": "lines",
         "name": "lines",
         "showlegend": false,
         "text": "Line_13_to_15_16<br />I = 0.041 %<br />I_from = 0.017 kA<br />I_to = 0.009 kA<br />",
         "x": [
          -2.53398866,
          -2.4318679349999996,
          -2.32974721
         ],
         "y": [
          0.28824882,
          -0.19561114999999998,
          -0.67947112
         ],
         "type": "scatter"
        },
        {
         "hoverinfo": "text",
         "legendgroup": "lines",
         "line": {
          "color": "rgb(0.0,0.0,127.5)",
          "dash": "solid",
          "width": 2
         },
         "mode": "lines",
         "name": "lines",
         "showlegend": false,
         "text": "Line_14_to_15_17<br />I = 0.093 %<br />I_from = 0.023 kA<br />I_to = 0.038 kA<br />",
         "x": [
          -3.08677433,
          -2.70826077,
          -2.32974721
         ],
         "y": [
          0.34071955,
          -0.169375785,
          -0.67947112
         ],
         "type": "scatter"
        },
        {
         "hoverinfo": "text",
         "legendgroup": "lines",
         "line": {
          "color": "rgb(0.0,0.0,127.5)",
          "dash": "solid",
          "width": 2
         },
         "mode": "lines",
         "name": "lines",
         "showlegend": false,
         "text": "Line_12_to_16_18<br />I = 0.101 %<br />I_from = 0.037 kA<br />I_to = 0.042 kA<br />",
         "x": [
          -2.45211659,
          -1.9738176950000001,
          -1.4955188
         ],
         "y": [
          1.18877693,
          0.65199757,
          0.11521821
         ],
         "type": "scatter"
        },
        {
         "hoverinfo": "text",
         "legendgroup": "lines",
         "line": {
          "color": "rgb(0.0,0.0,136.5909090909091)",
          "dash": "solid",
          "width": 2
         },
         "mode": "lines",
         "name": "lines",
         "showlegend": false,
         "text": "Line_15_to_17_19<br />I = 1.111 %<br />I_from = 0.46 kA<br />I_to = 0.456 kA<br />",
         "x": [
          -2.32974721,
          -1.6893431099999998,
          -1.04893901
         ],
         "y": [
          -0.67947112,
          -0.88530832,
          -1.09114552
         ],
         "type": "scatter"
        },
        {
         "hoverinfo": "text",
         "legendgroup": "lines",
         "line": {
          "color": "rgb(0.0,0.0,127.5)",
          "dash": "solid",
          "width": 2
         },
         "mode": "lines",
         "name": "lines",
         "showlegend": false,
         "text": "Line_16_to_17_20<br />I = 0.183 %<br />I_from = 0.076 kA<br />I_to = 0.074 kA<br />",
         "x": [
          -1.4955188,
          -1.272228905,
          -1.04893901
         ],
         "y": [
          0.11521821,
          -0.487963655,
          -1.09114552
         ],
         "type": "scatter"
        },
        {
         "hoverinfo": "text",
         "legendgroup": "lines",
         "line": {
          "color": "rgb(0.0,0.0,136.5909090909091)",
          "dash": "solid",
          "width": 2
         },
         "mode": "lines",
         "name": "lines",
         "showlegend": false,
         "text": "Line_17_to_18_21<br />I = 0.857 %<br />I_from = 0.353 kA<br />I_to = 0.355 kA<br />",
         "x": [
          -1.04893901,
          -1.44231764,
          -1.83569627
         ],
         "y": [
          -1.09114552,
          -0.9601985749999999,
          -0.82925163
         ],
         "type": "scatter"
        },
        {
         "hoverinfo": "text",
         "legendgroup": "lines",
         "line": {
          "color": "rgb(0.0,0.0,127.5)",
          "dash": "solid",
          "width": 2
         },
         "mode": "lines",
         "name": "lines",
         "showlegend": false,
         "text": "Line_18_to_19_22<br />I = 0.274 %<br />I_from = 0.111 kA<br />I_to = 0.114 kA<br />",
         "x": [
          -1.83569627,
          -2.2557614249999998,
          -2.67582658
         ],
         "y": [
          -0.82925163,
          -1.042760655,
          -1.25626968
         ],
         "type": "scatter"
        },
        {
         "hoverinfo": "text",
         "legendgroup": "lines",
         "line": {
          "color": "rgb(0.0,0.0,127.5)",
          "dash": "solid",
          "width": 2
         },
         "mode": "lines",
         "name": "lines",
         "showlegend": false,
         "text": "Line_19_to_20_23<br />I = 0.141 %<br />I_from = 0.052 kA<br />I_to = 0.058 kA<br />",
         "x": [
          -2.67582658,
          -1.9737748,
          -1.27172302
         ],
         "y": [
          -1.25626968,
          -1.35953517,
          -1.46280066
         ],
         "type": "scatter"
        },
        {
         "hoverinfo": "text",
         "legendgroup": "lines",
         "line": {
          "color": "rgb(0.0,0.0,127.5)",
          "dash": "solid",
          "width": 2
         },
         "mode": "lines",
         "name": "lines",
         "showlegend": false,
         "text": "Line_15_to_19_24<br />I = 0.211 %<br />I_from = 0.084 kA<br />I_to = 0.088 kA<br />",
         "x": [
          -2.32974721,
          -2.502786895,
          -2.67582658
         ],
         "y": [
          -0.67947112,
          -0.9678704,
          -1.25626968
         ],
         "type": "scatter"
        },
        {
         "hoverinfo": "text",
         "legendgroup": "lines",
         "line": {
          "color": "rgb(0.0,0.0,127.5)",
          "dash": "solid",
          "width": 2
         },
         "mode": "lines",
         "name": "lines",
         "showlegend": false,
         "text": "Line_20_to_21_25<br />I = 0.309 %<br />I_from = 0.126 kA<br />I_to = 0.128 kA<br />",
         "x": [
          -1.27172302,
          -0.599126425,
          0.07347017
         ],
         "y": [
          -1.46280066,
          -1.8100399550000001,
          -2.15727925
         ],
         "type": "scatter"
        },
        {
         "hoverinfo": "text",
         "legendgroup": "lines",
         "line": {
          "color": "rgb(0.0,0.0,132.04545454545453)",
          "dash": "solid",
          "width": 2
         },
         "mode": "lines",
         "name": "lines",
         "showlegend": false,
         "text": "Line_21_to_22_26<br />I = 0.45 %<br />I_from = 0.186 kA<br />I_to = 0.186 kA<br />",
         "x": [
          0.07347017,
          0.504008405,
          0.93454664
         ],
         "y": [
          -2.15727925,
          -2.82339631,
          -3.48951337
         ],
         "type": "scatter"
        },
        {
         "hoverinfo": "text",
         "legendgroup": "lines",
         "line": {
          "color": "rgb(0.0,0.0,132.04545454545453)",
          "dash": "solid",
          "width": 2
         },
         "mode": "lines",
         "name": "lines",
         "showlegend": false,
         "text": "Line_22_to_23_27<br />I = 0.557 %<br />I_from = 0.231 kA<br />I_to = 0.229 kA<br />",
         "x": [
          0.93454664,
          0.6181240299999999,
          0.30170142
         ],
         "y": [
          -3.48951337,
          -3.644664015,
          -3.79981466
         ],
         "type": "scatter"
        },
        {
         "hoverinfo": "text",
         "legendgroup": "lines",
         "line": {
          "color": "rgb(0.0,0.0,127.5)",
          "dash": "solid",
          "width": 2
         },
         "mode": "lines",
         "name": "lines",
         "showlegend": false,
         "text": "Line_23_to_24_28<br />I = 0.124 %<br />I_from = 0.038 kA<br />I_to = 0.051 kA<br />",
         "x": [
          0.30170142,
          0.011922220000000011,
          -0.27785698
         ],
         "y": [
          -3.79981466,
          -4.45499938,
          -5.1101841
         ],
         "type": "scatter"
        },
        {
         "hoverinfo": "text",
         "legendgroup": "lines",
         "line": {
          "color": "rgb(0.0,0.0,145.6818181818182)",
          "dash": "solid",
          "width": 2
         },
         "mode": "lines",
         "name": "lines",
         "showlegend": false,
         "text": "Line_23_to_25_29<br />I = 1.647 %<br />I_from = 0.682 kA<br />I_to = 0.677 kA<br />",
         "x": [
          0.30170142,
          0.6324091199999999,
          0.96311682
         ],
         "y": [
          -3.79981466,
          -3.390439105,
          -2.98106355
         ],
         "type": "scatter"
        },
        {
         "hoverinfo": "text",
         "legendgroup": "lines",
         "line": {
          "color": "rgb(0.0,0.0,141.13636363636363)",
          "dash": "solid",
          "width": 2
         },
         "mode": "lines",
         "name": "lines",
         "showlegend": false,
         "text": "Line_25_to_27_30<br />I = 1.428 %<br />I_from = 0.583 kA<br />I_to = 0.592 kA<br />",
         "x": [
          0.96311682,
          1.453856335,
          1.94459585
         ],
         "y": [
          -2.98106355,
          -2.6045540149999997,
          -2.22804448
         ],
         "type": "scatter"
        },
        {
         "hoverinfo": "text",
         "legendgroup": "lines",
         "line": {
          "color": "rgb(0.0,0.0,127.5)",
          "dash": "solid",
          "width": 2
         },
         "mode": "lines",
         "name": "lines",
         "showlegend": false,
         "text": "Line_27_to_28_31<br />I = 0.341 %<br />I_from = 0.141 kA<br />I_to = 0.141 kA<br />",
         "x": [
          1.94459585,
          2.199323875,
          2.4540519
         ],
         "y": [
          -2.22804448,
          -1.725010005,
          -1.22197553
         ],
         "type": "scatter"
        },
        {
         "hoverinfo": "text",
         "legendgroup": "lines",
         "line": {
          "color": "rgb(0.0,0.0,127.5)",
          "dash": "solid",
          "width": 2
         },
         "mode": "lines",
         "name": "lines",
         "showlegend": false,
         "text": "Line_28_to_29_32<br />I = 0.176 %<br />I_from = 0.073 kA<br />I_to = 0.07 kA<br />",
         "x": [
          2.4540519,
          1.975649175,
          1.49724645
         ],
         "y": [
          -1.22197553,
          -0.9736709849999999,
          -0.72536644
         ],
         "type": "scatter"
        },
        {
         "hoverinfo": "text",
         "legendgroup": "lines",
         "line": {
          "color": "rgb(0.0,0.0,136.5909090909091)",
          "dash": "solid",
          "width": 2
         },
         "mode": "lines",
         "name": "lines",
         "showlegend": false,
         "text": "Line_8_to_30_33<br />I = 1.082 %<br />I_from = 0.131 kA<br />I_to = 0.179 kA<br />",
         "x": [
          -0.67929979,
          -0.95836562,
          -1.23743145
         ],
         "y": [
          -0.58132104,
          -1.30567792,
          -2.0300348
         ],
         "type": "scatter"
        },
        {
         "hoverinfo": "text",
         "legendgroup": "lines",
         "line": {
          "color": "rgb(0.0,0.0,150.22727272727272)",
          "dash": "solid",
          "width": 2
         },
         "mode": "lines",
         "name": "lines",
         "showlegend": false,
         "text": "Line_26_to_30_34<br />I = 2.299 %<br />I_from = 0.372 kA<br />I_to = 0.381 kA<br />",
         "x": [
          -0.1984213,
          -0.717926375,
          -1.23743145
         ],
         "y": [
          -2.33750455,
          -2.1837696749999997,
          -2.0300348
         ],
         "type": "scatter"
        },
        {
         "hoverinfo": "text",
         "legendgroup": "lines",
         "line": {
          "color": "rgb(0.0,0.0,127.5)",
          "dash": "solid",
          "width": 2
         },
         "mode": "lines",
         "name": "lines",
         "showlegend": false,
         "text": "Line_17_to_31_35<br />I = 0.218 %<br />I_from = 0.08 kA<br />I_to = 0.09 kA<br />",
         "x": [
          -1.04893901,
          -0.332913905,
          0.3831112
         ],
         "y": [
          -1.09114552,
          -1.1831413899999998,
          -1.27513726
         ],
         "type": "scatter"
        },
        {
         "hoverinfo": "text",
         "legendgroup": "lines",
         "line": {
          "color": "rgb(0.0,0.0,127.5)",
          "dash": "solid",
          "width": 2
         },
         "mode": "lines",
         "name": "lines",
         "showlegend": false,
         "text": "Line_29_to_31_36<br />I = 0.127 %<br />I_from = 0.053 kA<br />I_to = 0.05 kA<br />",
         "x": [
          1.49724645,
          0.940178825,
          0.3831112
         ],
         "y": [
          -0.72536644,
          -1.00025185,
          -1.27513726
         ],
         "type": "scatter"
        },
        {
         "hoverinfo": "text",
         "legendgroup": "lines",
         "line": {
          "color": "rgb(0.0,0.0,136.5909090909091)",
          "dash": "solid",
          "width": 2
         },
         "mode": "lines",
         "name": "lines",
         "showlegend": false,
         "text": "Line_23_to_32_37<br />I = 0.945 %<br />I_from = 0.39 kA<br />I_to = 0.391 kA<br />",
         "x": [
          0.30170142,
          0.602672045,
          0.90364267
         ],
         "y": [
          -3.79981466,
          -3.13570451,
          -2.47159436
         ],
         "type": "scatter"
        },
        {
         "hoverinfo": "text",
         "legendgroup": "lines",
         "line": {
          "color": "rgb(0.0,0.0,127.5)",
          "dash": "solid",
          "width": 2
         },
         "mode": "lines",
         "name": "lines",
         "showlegend": false,
         "text": "Line_31_to_32_38<br />I = 0.345 %<br />I_from = 0.139 kA<br />I_to = 0.143 kA<br />",
         "x": [
          0.3831112,
          0.643376935,
          0.90364267
         ],
         "y": [
          -1.27513726,
          -1.8733658100000001,
          -2.47159436
         ],
         "type": "scatter"
        },
        {
         "hoverinfo": "text",
         "legendgroup": "lines",
         "line": {
          "color": "rgb(0.0,0.0,127.5)",
          "dash": "solid",
          "width": 2
         },
         "mode": "lines",
         "name": "lines",
         "showlegend": false,
         "text": "Line_27_to_32_39<br />I = 0.134 %<br />I_from = 0.054 kA<br />I_to = 0.055 kA<br />",
         "x": [
          1.94459585,
          1.4241192599999999,
          0.90364267
         ],
         "y": [
          -2.22804448,
          -2.34981942,
          -2.47159436
         ],
         "type": "scatter"
        },
        {
         "hoverinfo": "text",
         "legendgroup": "lines",
         "line": {
          "color": "rgb(0.0,0.0,127.5)",
          "dash": "solid",
          "width": 2
         },
         "mode": "lines",
         "name": "lines",
         "showlegend": false,
         "text": "Line_15_to_33_40<br />I = 0.089 %<br />I_from = 0.037 kA<br />I_to = 0.032 kA<br />",
         "x": [
          -2.32974721,
          -2.65657058,
          -2.98339395
         ],
         "y": [
          -0.67947112,
          -1.16432192,
          -1.64917272
         ],
         "type": "scatter"
        },
        {
         "hoverinfo": "text",
         "legendgroup": "lines",
         "line": {
          "color": "rgb(0.0,0.0,127.5)",
          "dash": "solid",
          "width": 2
         },
         "mode": "lines",
         "name": "lines",
         "showlegend": false,
         "text": "Line_19_to_34_41<br />I = 0.116 %<br />I_from = 0.048 kA<br />I_to = 0.025 kA<br />",
         "x": [
          -2.67582658,
          -3.1477654,
          -3.61970422
         ],
         "y": [
          -1.25626968,
          -1.636777735,
          -2.01728579
         ],
         "type": "scatter"
        },
        {
         "hoverinfo": "text",
         "legendgroup": "lines",
         "line": {
          "color": "rgb(0.0,0.0,127.5)",
          "dash": "solid",
          "width": 2
         },
         "mode": "lines",
         "name": "lines",
         "showlegend": false,
         "text": "Line_35_to_36_42<br />I = 0.045 %<br />I_from = 0.018 kA<br />I_to = 0.019 kA<br />",
         "x": [
          -4.33478993,
          -4.538834165000001,
          -4.7428784
         ],
         "y": [
          -2.2080206,
          -1.8013131000000002,
          -1.3946056
         ],
         "type": "scatter"
        },
        {
         "hoverinfo": "text",
         "legendgroup": "lines",
         "line": {
          "color": "rgb(0.0,0.0,127.5)",
          "dash": "solid",
          "width": 2
         },
         "mode": "lines",
         "name": "lines",
         "showlegend": false,
         "text": "Line_35_to_37_43<br />I = 0.374 %<br />I_from = 0.155 kA<br />I_to = 0.153 kA<br />",
         "x": [
          -4.33478993,
          -3.645363645,
          -2.95593736
         ],
         "y": [
          -2.2080206,
          -2.45966914,
          -2.71131768
         ],
         "type": "scatter"
        },
        {
         "hoverinfo": "text",
         "legendgroup": "lines",
         "line": {
          "color": "rgb(0.0,0.0,127.5)",
          "dash": "solid",
          "width": 2
         },
         "mode": "lines",
         "name": "lines",
         "showlegend": false,
         "text": "Line_33_to_37_44<br />I = 0.197 %<br />I_from = 0.082 kA<br />I_to = 0.074 kA<br />",
         "x": [
          -2.98339395,
          -2.969665655,
          -2.95593736
         ],
         "y": [
          -1.64917272,
          -2.1802452,
          -2.71131768
         ],
         "type": "scatter"
        },
        {
         "hoverinfo": "text",
         "legendgroup": "lines",
         "line": {
          "color": "rgb(0.0,0.0,127.5)",
          "dash": "solid",
          "width": 2
         },
         "mode": "lines",
         "name": "lines",
         "showlegend": false,
         "text": "Line_34_to_36_45<br />I = 0.315 %<br />I_from = 0.13 kA<br />I_to = 0.131 kA<br />",
         "x": [
          -3.61970422,
          -4.181291310000001,
          -4.7428784
         ],
         "y": [
          -2.01728579,
          -1.705945695,
          -1.3946056
         ],
         "type": "scatter"
        },
        {
         "hoverinfo": "text",
         "legendgroup": "lines",
         "line": {
          "color": "rgb(0.0,0.0,136.5909090909091)",
          "dash": "solid",
          "width": 2
         },
         "mode": "lines",
         "name": "lines",
         "showlegend": false,
         "text": "Line_34_to_37_46<br />I = 1.069 %<br />I_from = 0.443 kA<br />I_to = 0.441 kA<br />",
         "x": [
          -3.61970422,
          -3.28782079,
          -2.95593736
         ],
         "y": [
          -2.01728579,
          -2.3643017349999997,
          -2.71131768
         ],
         "type": "scatter"
        },
        {
         "hoverinfo": "text",
         "legendgroup": "lines",
         "line": {
          "color": "rgb(0.0,0.0,132.04545454545453)",
          "dash": "solid",
          "width": 2
         },
         "mode": "lines",
         "name": "lines",
         "showlegend": false,
         "text": "Line_37_to_39_47<br />I = 0.56 %<br />I_from = 0.232 kA<br />I_to = 0.232 kA<br />",
         "x": [
          -2.95593736,
          -3.2987202900000003,
          -3.64150322
         ],
         "y": [
          -2.71131768,
          -2.913444465,
          -3.11557125
         ],
         "type": "scatter"
        },
        {
         "hoverinfo": "text",
         "legendgroup": "lines",
         "line": {
          "color": "rgb(0.0,0.0,132.04545454545453)",
          "dash": "solid",
          "width": 2
         },
         "mode": "lines",
         "name": "lines",
         "showlegend": false,
         "text": "Line_37_to_40_48<br />I = 0.449 %<br />I_from = 0.186 kA<br />I_to = 0.185 kA<br />",
         "x": [
          -2.95593736,
          -2.880797275,
          -2.80565719
         ],
         "y": [
          -2.71131768,
          -3.2386635999999998,
          -3.76600952
         ],
         "type": "scatter"
        },
        {
         "hoverinfo": "text",
         "legendgroup": "lines",
         "line": {
          "color": "rgb(0.0,0.0,136.5909090909091)",
          "dash": "solid",
          "width": 2
         },
         "mode": "lines",
         "name": "lines",
         "showlegend": false,
         "text": "Line_30_to_38_49<br />I = 0.882 %<br />I_from = 0.112 kA<br />I_to = 0.146 kA<br />",
         "x": [
          -1.23743145,
          -1.5920911100000001,
          -1.94675077
         ],
         "y": [
          -2.0300348,
          -2.59054365,
          -3.1510525
         ],
         "type": "scatter"
        },
        {
         "hoverinfo": "text",
         "legendgroup": "lines",
         "line": {
          "color": "rgb(0.0,0.0,127.5)",
          "dash": "solid",
          "width": 2
         },
         "mode": "lines",
         "name": "lines",
         "showlegend": false,
         "text": "Line_39_to_40_50<br />I = 0.293 %<br />I_from = 0.121 kA<br />I_to = 0.119 kA<br />",
         "x": [
          -3.64150322,
          -3.223580205,
          -2.80565719
         ],
         "y": [
          -3.11557125,
          -3.4407903849999997,
          -3.76600952
         ],
         "type": "scatter"
        },
        {
         "hoverinfo": "text",
         "legendgroup": "lines",
         "line": {
          "color": "rgb(0.0,0.0,127.5)",
          "dash": "solid",
          "width": 2
         },
         "mode": "lines",
         "name": "lines",
         "showlegend": false,
         "text": "Line_40_to_41_51<br />I = 0.161 %<br />I_from = 0.066 kA<br />I_to = 0.067 kA<br />",
         "x": [
          -2.80565719,
          -2.97906227,
          -3.15246735
         ],
         "y": [
          -3.76600952,
          -4.090947775,
          -4.41588603
         ],
         "type": "scatter"
        },
        {
         "hoverinfo": "text",
         "legendgroup": "lines",
         "line": {
          "color": "rgb(0.0,0.0,127.5)",
          "dash": "solid",
          "width": 2
         },
         "mode": "lines",
         "name": "lines",
         "showlegend": false,
         "text": "Line_40_to_42_52<br />I = 0.142 %<br />I_from = 0.059 kA<br />I_to = 0.052 kA<br />",
         "x": [
          -2.80565719,
          -2.540124835,
          -2.27459248
         ],
         "y": [
          -3.76600952,
          -4.40555965,
          -5.04510978
         ],
         "type": "scatter"
        },
        {
         "hoverinfo": "text",
         "legendgroup": "lines",
         "line": {
          "color": "rgb(0.0,0.0,127.5)",
          "dash": "solid",
          "width": 2
         },
         "mode": "lines",
         "name": "lines",
         "showlegend": false,
         "text": "Line_41_to_42_53<br />I = 0.241 %<br />I_from = 0.1 kA<br />I_to = 0.096 kA<br />",
         "x": [
          -3.15246735,
          -2.7135299149999996,
          -2.27459248
         ],
         "y": [
          -4.41588603,
          -4.730497905,
          -5.04510978
         ],
         "type": "scatter"
        },
        {
         "hoverinfo": "text",
         "legendgroup": "lines",
         "line": {
          "color": "rgb(0.0,0.0,127.5)",
          "dash": "solid",
          "width": 2
         },
         "mode": "lines",
         "name": "lines",
         "showlegend": false,
         "text": "Line_43_to_44_54<br />I = 0.178 %<br />I_from = 0.072 kA<br />I_to = 0.074 kA<br />",
         "x": [
          -4.18750912,
          -3.8894907549999997,
          -3.59147239
         ],
         "y": [
          -3.12926548,
          -3.77510836,
          -4.42095124
         ],
         "type": "scatter"
        },
        {
         "hoverinfo": "text",
         "legendgroup": "lines",
         "line": {
          "color": "rgb(0.0,0.0,127.5)",
          "dash": "solid",
          "width": 2
         },
         "mode": "lines",
         "name": "lines",
         "showlegend": false,
         "text": "Line_34_to_43_55<br />I = 0.061 %<br />I_from = 0.009 kA<br />I_to = 0.025 kA<br />",
         "x": [
          -3.61970422,
          -3.90360667,
          -4.18750912
         ],
         "y": [
          -2.01728579,
          -2.573275635,
          -3.12926548
         ],
         "type": "scatter"
        },
        {
         "hoverinfo": "text",
         "legendgroup": "lines",
         "line": {
          "color": "rgb(0.0,0.0,127.5)",
          "dash": "solid",
          "width": 2
         },
         "mode": "lines",
         "name": "lines",
         "showlegend": false,
         "text": "Line_44_to_45_56<br />I = 0.346 %<br />I_from = 0.142 kA<br />I_to = 0.143 kA<br />",
         "x": [
          -3.59147239,
          -3.11072996,
          -2.62998753
         ],
         "y": [
          -4.42095124,
          -5.01246115,
          -5.60397106
         ],
         "type": "scatter"
        },
        {
         "hoverinfo": "text",
         "legendgroup": "lines",
         "line": {
          "color": "rgb(0.0,0.0,127.5)",
          "dash": "solid",
          "width": 2
         },
         "mode": "lines",
         "name": "lines",
         "showlegend": false,
         "text": "Line_45_to_46_57<br />I = 0.372 %<br />I_from = 0.154 kA<br />I_to = 0.153 kA<br />",
         "x": [
          -2.62998753,
          -2.88217326,
          -3.13435899
         ],
         "y": [
          -5.60397106,
          -6.075473375,
          -6.54697569
         ],
         "type": "scatter"
        },
        {
         "hoverinfo": "text",
         "legendgroup": "lines",
         "line": {
          "color": "rgb(0.0,0.0,127.5)",
          "dash": "solid",
          "width": 2
         },
         "mode": "lines",
         "name": "lines",
         "showlegend": false,
         "text": "Line_46_to_47_58<br />I = 0.308 %<br />I_from = 0.128 kA<br />I_to = 0.127 kA<br />",
         "x": [
          -3.13435899,
          -2.7265186999999997,
          -2.31867841
         ],
         "y": [
          -6.54697569,
          -6.63056525,
          -6.71415481
         ],
         "type": "scatter"
        },
        {
         "hoverinfo": "text",
         "legendgroup": "lines",
         "line": {
          "color": "rgb(0.0,0.0,127.5)",
          "dash": "solid",
          "width": 2
         },
         "mode": "lines",
         "name": "lines",
         "showlegend": false,
         "text": "Line_46_to_48_59<br />I = 0.162 %<br />I_from = 0.067 kA<br />I_to = 0.063 kA<br />",
         "x": [
          -3.13435899,
          -2.579493085,
          -2.02462718
         ],
         "y": [
          -6.54697569,
          -6.84351456,
          -7.14005343
         ],
         "type": "scatter"
        },
        {
         "hoverinfo": "text",
         "legendgroup": "lines",
         "line": {
          "color": "rgb(0.0,0.0,127.5)",
          "dash": "solid",
          "width": 2
         },
         "mode": "lines",
         "name": "lines",
         "showlegend": false,
         "text": "Line_47_to_49_60<br />I = 0.153 %<br />I_from = 0.063 kA<br />I_to = 0.059 kA<br />",
         "x": [
          -2.31867841,
          -2.021450305,
          -1.7242222
         ],
         "y": [
          -6.71415481,
          -6.486283595,
          -6.25841238
         ],
         "type": "scatter"
        },
        {
         "hoverinfo": "text",
         "legendgroup": "lines",
         "line": {
          "color": "rgb(0.0,0.0,132.04545454545453)",
          "dash": "solid",
          "width": 2
         },
         "mode": "lines",
         "name": "lines",
         "showlegend": false,
         "text": "Line_42_to_49_61<br />I = 0.672 %<br />I_from = 0.277 kA<br />I_to = 0.278 kA<br />",
         "x": [
          -2.27459248,
          -1.9994073399999999,
          -1.7242222
         ],
         "y": [
          -5.04510978,
          -5.65176108,
          -6.25841238
         ],
         "type": "scatter"
        },
        {
         "hoverinfo": "text",
         "legendgroup": "lines",
         "line": {
          "color": "rgb(0.0,0.0,132.04545454545453)",
          "dash": "solid",
          "width": 2
         },
         "mode": "lines",
         "name": "lines",
         "showlegend": false,
         "text": "Line_42_to_49_62<br />I = 0.672 %<br />I_from = 0.277 kA<br />I_to = 0.278 kA<br />",
         "x": [
          -2.27459248,
          -1.9994073399999999,
          -1.7242222
         ],
         "y": [
          -5.04510978,
          -5.65176108,
          -6.25841238
         ],
         "type": "scatter"
        },
        {
         "hoverinfo": "text",
         "legendgroup": "lines",
         "line": {
          "color": "rgb(0.0,0.0,132.04545454545453)",
          "dash": "solid",
          "width": 2
         },
         "mode": "lines",
         "name": "lines",
         "showlegend": false,
         "text": "Line_45_to_49_63<br />I = 0.512 %<br />I_from = 0.212 kA<br />I_to = 0.211 kA<br />",
         "x": [
          -2.62998753,
          -2.177104865,
          -1.7242222
         ],
         "y": [
          -5.60397106,
          -5.93119172,
          -6.25841238
         ],
         "type": "scatter"
        },
        {
         "hoverinfo": "text",
         "legendgroup": "lines",
         "line": {
          "color": "rgb(0.0,0.0,127.5)",
          "dash": "solid",
          "width": 2
         },
         "mode": "lines",
         "name": "lines",
         "showlegend": false,
         "text": "Line_48_to_49_64<br />I = 0.351 %<br />I_from = 0.145 kA<br />I_to = 0.146 kA<br />",
         "x": [
          -2.02462718,
          -1.8744246900000001,
          -1.7242222
         ],
         "y": [
          -7.14005343,
          -6.699232905000001,
          -6.25841238
         ],
         "type": "scatter"
        },
        {
         "hoverinfo": "text",
         "legendgroup": "lines",
         "line": {
          "color": "rgb(0.0,0.0,132.04545454545453)",
          "dash": "solid",
          "width": 2
         },
         "mode": "lines",
         "name": "lines",
         "showlegend": false,
         "text": "Line_49_to_50_65<br />I = 0.533 %<br />I_from = 0.219 kA<br />I_to = 0.221 kA<br />",
         "x": [
          -1.7242222,
          -1.4399346400000002,
          -1.15564708
         ],
         "y": [
          -6.25841238,
          -6.672294485,
          -7.08617659
         ],
         "type": "scatter"
        },
        {
         "hoverinfo": "text",
         "legendgroup": "lines",
         "line": {
          "color": "rgb(0.0,0.0,132.04545454545453)",
          "dash": "solid",
          "width": 2
         },
         "mode": "lines",
         "name": "lines",
         "showlegend": false,
         "text": "Line_49_to_51_66<br />I = 0.645 %<br />I_from = 0.263 kA<br />I_to = 0.267 kA<br />",
         "x": [
          -1.7242222,
          -1.471721035,
          -1.21921987
         ],
         "y": [
          -6.25841238,
          -6.954392795,
          -7.65037321
         ],
         "type": "scatter"
        },
        {
         "hoverinfo": "text",
         "legendgroup": "lines",
         "line": {
          "color": "rgb(0.0,0.0,127.5)",
          "dash": "solid",
          "width": 2
         },
         "mode": "lines",
         "name": "lines",
         "showlegend": false,
         "text": "Line_51_to_52_67<br />I = 0.247 %<br />I_from = 0.1 kA<br />I_to = 0.102 kA<br />",
         "x": [
          -1.21921987,
          -0.9839073300000001,
          -0.74859479
         ],
         "y": [
          -7.65037321,
          -8.248464949999999,
          -8.84655669
         ],
         "type": "scatter"
        },
        {
         "hoverinfo": "text",
         "legendgroup": "lines",
         "line": {
          "color": "rgb(0.0,0.0,127.5)",
          "dash": "solid",
          "width": 2
         },
         "mode": "lines",
         "name": "lines",
         "showlegend": false,
         "text": "Line_52_to_53_68<br />I = 0.079 %<br />I_from = 0.021 kA<br />I_to = 0.033 kA<br />",
         "x": [
          -0.74859479,
          -0.30134639999999996,
          0.14590199
         ],
         "y": [
          -8.84655669,
          -8.586396725,
          -8.32623676
         ],
         "type": "scatter"
        },
        {
         "hoverinfo": "text",
         "legendgroup": "lines",
         "line": {
          "color": "rgb(0.0,0.0,127.5)",
          "dash": "solid",
          "width": 2
         },
         "mode": "lines",
         "name": "lines",
         "showlegend": false,
         "text": "Line_53_to_54_69<br />I = 0.051 %<br />I_from = 0.021 kA<br />I_to = 0.009 kA<br />",
         "x": [
          0.14590199,
          -0.15575347,
          -0.45740893
         ],
         "y": [
          -8.32623676,
          -7.654629025,
          -6.98302129
         ],
         "type": "scatter"
        },
        {
         "hoverinfo": "text",
         "legendgroup": "lines",
         "line": {
          "color": "rgb(0.0,0.0,132.04545454545453)",
          "dash": "solid",
          "width": 2
         },
         "mode": "lines",
         "name": "lines",
         "showlegend": false,
         "text": "Line_49_to_54_70<br />I = 0.402 %<br />I_from = 0.155 kA<br />I_to = 0.167 kA<br />",
         "x": [
          -1.7242222,
          -1.090815565,
          -0.45740893
         ],
         "y": [
          -6.25841238,
          -6.620716835,
          -6.98302129
         ],
         "type": "scatter"
        },
        {
         "hoverinfo": "text",
         "legendgroup": "lines",
         "line": {
          "color": "rgb(0.0,0.0,132.04545454545453)",
          "dash": "solid",
          "width": 2
         },
         "mode": "lines",
         "name": "lines",
         "showlegend": false,
         "text": "Line_49_to_54_71<br />I = 0.394 %<br />I_from = 0.152 kA<br />I_to = 0.163 kA<br />",
         "x": [
          -1.7242222,
          -1.090815565,
          -0.45740893
         ],
         "y": [
          -6.25841238,
          -6.620716835,
          -6.98302129
         ],
         "type": "scatter"
        },
        {
         "hoverinfo": "text",
         "legendgroup": "lines",
         "line": {
          "color": "rgb(0.0,0.0,127.5)",
          "dash": "solid",
          "width": 2
         },
         "mode": "lines",
         "name": "lines",
         "showlegend": false,
         "text": "Line_54_to_55_72<br />I = 0.09 %<br />I_from = 0.035 kA<br />I_to = 0.037 kA<br />",
         "x": [
          -0.45740893,
          0.201870825,
          0.86115058
         ],
         "y": [
          -6.98302129,
          -7.200309025,
          -7.41759676
         ],
         "type": "scatter"
        },
        {
         "hoverinfo": "text",
         "legendgroup": "lines",
         "line": {
          "color": "rgb(0.0,0.0,127.5)",
          "dash": "solid",
          "width": 2
         },
         "mode": "lines",
         "name": "lines",
         "showlegend": false,
         "text": "Line_54_to_56_73<br />I = 0.251 %<br />I_from = 0.104 kA<br />I_to = 0.104 kA<br />",
         "x": [
          -0.45740893,
          -0.044068415,
          0.3692721
         ],
         "y": [
          -6.98302129,
          -7.33487487,
          -7.68672845
         ],
         "type": "scatter"
        },
        {
         "hoverinfo": "text",
         "legendgroup": "lines",
         "line": {
          "color": "rgb(0.0,0.0,127.5)",
          "dash": "solid",
          "width": 2
         },
         "mode": "lines",
         "name": "lines",
         "showlegend": false,
         "text": "Line_55_to_56_74<br />I = 0.244 %<br />I_from = 0.101 kA<br />I_to = 0.101 kA<br />",
         "x": [
          0.86115058,
          0.61521134,
          0.3692721
         ],
         "y": [
          -7.41759676,
          -7.552162605,
          -7.68672845
         ],
         "type": "scatter"
        },
        {
         "hoverinfo": "text",
         "legendgroup": "lines",
         "line": {
          "color": "rgb(0.0,0.0,127.5)",
          "dash": "solid",
          "width": 2
         },
         "mode": "lines",
         "name": "lines",
         "showlegend": false,
         "text": "Line_56_to_57_75<br />I = 0.248 %<br />I_from = 0.103 kA<br />I_to = 0.099 kA<br />",
         "x": [
          0.3692721,
          -0.008525165000000001,
          -0.38632243
         ],
         "y": [
          -7.68672845,
          -7.9439776150000005,
          -8.20122678
         ],
         "type": "scatter"
        },
        {
         "hoverinfo": "text",
         "legendgroup": "lines",
         "line": {
          "color": "rgb(0.0,0.0,127.5)",
          "dash": "solid",
          "width": 2
         },
         "mode": "lines",
         "name": "lines",
         "showlegend": false,
         "text": "Line_50_to_57_76<br />I = 0.366 %<br />I_from = 0.148 kA<br />I_to = 0.152 kA<br />",
         "x": [
          -1.15564708,
          -0.770984755,
          -0.38632243
         ],
         "y": [
          -7.08617659,
          -7.643701685,
          -8.20122678
         ],
         "type": "scatter"
        },
        {
         "hoverinfo": "text",
         "legendgroup": "lines",
         "line": {
          "color": "rgb(0.0,0.0,127.5)",
          "dash": "solid",
          "width": 2
         },
         "mode": "lines",
         "name": "lines",
         "showlegend": false,
         "text": "Line_56_to_58_77<br />I = 0.093 %<br />I_from = 0.039 kA<br />I_to = 0.035 kA<br />",
         "x": [
          0.3692721,
          0.13639334,
          -0.09648542
         ],
         "y": [
          -7.68672845,
          -8.11634383,
          -8.54595921
         ],
         "type": "scatter"
        },
        {
         "hoverinfo": "text",
         "legendgroup": "lines",
         "line": {
          "color": "rgb(0.0,0.0,127.5)",
          "dash": "solid",
          "width": 2
         },
         "mode": "lines",
         "name": "lines",
         "showlegend": false,
         "text": "Line_51_to_58_78<br />I = 0.214 %<br />I_from = 0.087 kA<br />I_to = 0.089 kA<br />",
         "x": [
          -1.21921987,
          -0.6578526450000001,
          -0.09648542
         ],
         "y": [
          -7.65037321,
          -8.098166209999999,
          -8.54595921
         ],
         "type": "scatter"
        },
        {
         "hoverinfo": "text",
         "legendgroup": "lines",
         "line": {
          "color": "rgb(0.0,0.0,127.5)",
          "dash": "solid",
          "width": 2
         },
         "mode": "lines",
         "name": "lines",
         "showlegend": false,
         "text": "Line_54_to_59_79<br />I = 0.312 %<br />I_from = 0.129 kA<br />I_to = 0.124 kA<br />",
         "x": [
          -0.45740893,
          0.09926433500000001,
          0.6559376
         ],
         "y": [
          -6.98302129,
          -6.834850285,
          -6.68667928
         ],
         "type": "scatter"
        },
        {
         "hoverinfo": "text",
         "legendgroup": "lines",
         "line": {
          "color": "rgb(0.0,0.0,127.5)",
          "dash": "solid",
          "width": 2
         },
         "mode": "lines",
         "name": "lines",
         "showlegend": false,
         "text": "Line_56_to_59_80<br />I = 0.284 %<br />I_from = 0.118 kA<br />I_to = 0.115 kA<br />",
         "x": [
          0.3692721,
          0.51260485,
          0.6559376
         ],
         "y": [
          -7.68672845,
          -7.186703865,
          -6.68667928
         ],
         "type": "scatter"
        },
        {
         "hoverinfo": "text",
         "legendgroup": "lines",
         "line": {
          "color": "rgb(0.0,0.0,127.5)",
          "dash": "solid",
          "width": 2
         },
         "mode": "lines",
         "name": "lines",
         "showlegend": false,
         "text": "Line_56_to_59_81<br />I = 0.297 %<br />I_from = 0.123 kA<br />I_to = 0.121 kA<br />",
         "x": [
          0.3692721,
          0.51260485,
          0.6559376
         ],
         "y": [
          -7.68672845,
          -7.186703865,
          -6.68667928
         ],
         "type": "scatter"
        },
        {
         "hoverinfo": "text",
         "legendgroup": "lines",
         "line": {
          "color": "rgb(0.0,0.0,127.5)",
          "dash": "solid",
          "width": 2
         },
         "mode": "lines",
         "name": "lines",
         "showlegend": false,
         "text": "Line_55_to_59_82<br />I = 0.359 %<br />I_from = 0.149 kA<br />I_to = 0.144 kA<br />",
         "x": [
          0.86115058,
          0.75854409,
          0.6559376
         ],
         "y": [
          -7.41759676,
          -7.05213802,
          -6.68667928
         ],
         "type": "scatter"
        },
        {
         "hoverinfo": "text",
         "legendgroup": "lines",
         "line": {
          "color": "rgb(0.0,0.0,132.04545454545453)",
          "dash": "solid",
          "width": 2
         },
         "mode": "lines",
         "name": "lines",
         "showlegend": false,
         "text": "Line_59_to_60_83<br />I = 0.434 %<br />I_from = 0.178 kA<br />I_to = 0.18 kA<br />",
         "x": [
          0.6559376,
          1.07479352,
          1.49364944
         ],
         "y": [
          -6.68667928,
          -6.468494075,
          -6.25030887
         ],
         "type": "scatter"
        },
        {
         "hoverinfo": "text",
         "legendgroup": "lines",
         "line": {
          "color": "rgb(0.0,0.0,132.04545454545453)",
          "dash": "solid",
          "width": 2
         },
         "mode": "lines",
         "name": "lines",
         "showlegend": false,
         "text": "Line_59_to_61_84<br />I = 0.521 %<br />I_from = 0.214 kA<br />I_to = 0.216 kA<br />",
         "x": [
          0.6559376,
          0.7244658749999999,
          0.79299415
         ],
         "y": [
          -6.68667928,
          -6.168047725,
          -5.64941617
         ],
         "type": "scatter"
        },
        {
         "hoverinfo": "text",
         "legendgroup": "lines",
         "line": {
          "color": "rgb(0.0,0.0,136.5909090909091)",
          "dash": "solid",
          "width": 2
         },
         "mode": "lines",
         "name": "lines",
         "showlegend": false,
         "text": "Line_60_to_61_85<br />I = 1.137 %<br />I_from = 0.471 kA<br />I_to = 0.471 kA<br />",
         "x": [
          1.49364944,
          1.1433217949999999,
          0.79299415
         ],
         "y": [
          -6.25030887,
          -5.94986252,
          -5.64941617
         ],
         "type": "scatter"
        },
        {
         "hoverinfo": "text",
         "legendgroup": "lines",
         "line": {
          "color": "rgb(0.0,0.0,127.5)",
          "dash": "solid",
          "width": 2
         },
         "mode": "lines",
         "name": "lines",
         "showlegend": false,
         "text": "Line_60_to_62_86<br />I = 0.118 %<br />I_from = 0.049 kA<br />I_to = 0.045 kA<br />",
         "x": [
          1.49364944,
          0.7885552849999999,
          0.08346113
         ],
         "y": [
          -6.25030887,
          -5.995335304999999,
          -5.74036174
         ],
         "type": "scatter"
        },
        {
         "hoverinfo": "text",
         "legendgroup": "lines",
         "line": {
          "color": "rgb(0.0,0.0,127.5)",
          "dash": "solid",
          "width": 2
         },
         "mode": "lines",
         "name": "lines",
         "showlegend": false,
         "text": "Line_61_to_62_87<br />I = 0.304 %<br />I_from = 0.126 kA<br />I_to = 0.124 kA<br />",
         "x": [
          0.79299415,
          0.43822764,
          0.08346113
         ],
         "y": [
          -5.64941617,
          -5.694888955,
          -5.74036174
         ],
         "type": "scatter"
        },
        {
         "hoverinfo": "text",
         "legendgroup": "lines",
         "line": {
          "color": "rgb(0.0,0.0,145.6818181818182)",
          "dash": "solid",
          "width": 2
         },
         "mode": "lines",
         "name": "lines",
         "showlegend": false,
         "text": "Line_63_to_64_88<br />I = 1.69 %<br />I_from = 0.28 kA<br />I_to = 0.267 kA<br />",
         "x": [
          0.59774338,
          -0.013713564999999983,
          -0.62517051
         ],
         "y": [
          -5.38684982,
          -5.078756075,
          -4.77066233
         ],
         "type": "scatter"
        },
        {
         "hoverinfo": "text",
         "legendgroup": "lines",
         "line": {
          "color": "rgb(0.0,0.0,150.22727272727272)",
          "dash": "solid",
          "width": 2
         },
         "mode": "lines",
         "name": "lines",
         "showlegend": false,
         "text": "Line_38_to_65_89<br />I = 1.989 %<br />I_from = 0.33 kA<br />I_to = 0.306 kA<br />",
         "x": [
          -1.94675077,
          -1.94849717,
          -1.95024357
         ],
         "y": [
          -3.1510525,
          -3.8312677949999996,
          -4.51148309
         ],
         "type": "scatter"
        },
        {
         "hoverinfo": "text",
         "legendgroup": "lines",
         "line": {
          "color": "rgb(0.0,0.0,145.6818181818182)",
          "dash": "solid",
          "width": 2
         },
         "mode": "lines",
         "name": "lines",
         "showlegend": false,
         "text": "Line_64_to_65_90<br />I = 1.944 %<br />I_from = 0.322 kA<br />I_to = 0.304 kA<br />",
         "x": [
          -0.62517051,
          -1.28770704,
          -1.95024357
         ],
         "y": [
          -4.77066233,
          -4.6410727099999995,
          -4.51148309
         ],
         "type": "scatter"
        },
        {
         "hoverinfo": "text",
         "legendgroup": "lines",
         "line": {
          "color": "rgb(0.0,0.0,141.13636363636363)",
          "dash": "solid",
          "width": 2
         },
         "mode": "lines",
         "name": "lines",
         "showlegend": false,
         "text": "Line_49_to_66_91<br />I = 1.283 %<br />I_from = 0.531 kA<br />I_to = 0.531 kA<br />",
         "x": [
          -1.7242222,
          -1.466041755,
          -1.20786131
         ],
         "y": [
          -6.25841238,
          -5.8076351299999995,
          -5.35685788
         ],
         "type": "scatter"
        },
        {
         "hoverinfo": "text",
         "legendgroup": "lines",
         "line": {
          "color": "rgb(0.0,0.0,141.13636363636363)",
          "dash": "solid",
          "width": 2
         },
         "mode": "lines",
         "name": "lines",
         "showlegend": false,
         "text": "Line_49_to_66_92<br />I = 1.283 %<br />I_from = 0.531 kA<br />I_to = 0.531 kA<br />",
         "x": [
          -1.7242222,
          -1.466041755,
          -1.20786131
         ],
         "y": [
          -6.25841238,
          -5.8076351299999995,
          -5.35685788
         ],
         "type": "scatter"
        },
        {
         "hoverinfo": "text",
         "legendgroup": "lines",
         "line": {
          "color": "rgb(0.0,0.0,127.5)",
          "dash": "solid",
          "width": 2
         },
         "mode": "lines",
         "name": "lines",
         "showlegend": false,
         "text": "Line_62_to_66_93<br />I = 0.39 %<br />I_from = 0.162 kA<br />I_to = 0.154 kA<br />",
         "x": [
          0.08346113,
          -0.5622000899999999,
          -1.20786131
         ],
         "y": [
          -5.74036174,
          -5.54860981,
          -5.35685788
         ],
         "type": "scatter"
        },
        {
         "hoverinfo": "text",
         "legendgroup": "lines",
         "line": {
          "color": "rgb(0.0,0.0,127.5)",
          "dash": "solid",
          "width": 2
         },
         "mode": "lines",
         "name": "lines",
         "showlegend": false,
         "text": "Line_62_to_67_94<br />I = 0.258 %<br />I_from = 0.107 kA<br />I_to = 0.102 kA<br />",
         "x": [
          0.08346113,
          -0.020662450000000006,
          -0.12478603
         ],
         "y": [
          -5.74036174,
          -5.396458075,
          -5.05255441
         ],
         "type": "scatter"
        },
        {
         "hoverinfo": "text",
         "legendgroup": "lines",
         "line": {
          "color": "rgb(0.0,0.0,132.04545454545453)",
          "dash": "solid",
          "width": 2
         },
         "mode": "lines",
         "name": "lines",
         "showlegend": false,
         "text": "Line_66_to_67_95<br />I = 0.534 %<br />I_from = 0.218 kA<br />I_to = 0.221 kA<br />",
         "x": [
          -1.20786131,
          -0.66632367,
          -0.12478603
         ],
         "y": [
          -5.35685788,
          -5.204706144999999,
          -5.05255441
         ],
         "type": "scatter"
        },
        {
         "hoverinfo": "text",
         "legendgroup": "lines",
         "line": {
          "color": "rgb(0.0,0.0,132.04545454545453)",
          "dash": "solid",
          "width": 2
         },
         "mode": "lines",
         "name": "lines",
         "showlegend": false,
         "text": "Line_47_to_69_96<br />I = 0.551 %<br />I_from = 0.223 kA<br />I_to = 0.228 kA<br />",
         "x": [
          -2.31867841,
          -2.4849722649999997,
          -2.65126612
         ],
         "y": [
          -6.71415481,
          -6.572301245,
          -6.43044768
         ],
         "type": "scatter"
        },
        {
         "hoverinfo": "text",
         "legendgroup": "lines",
         "line": {
          "color": "rgb(0.0,0.0,132.04545454545453)",
          "dash": "solid",
          "width": 2
         },
         "mode": "lines",
         "name": "lines",
         "showlegend": false,
         "text": "Line_49_to_69_97<br />I = 0.46 %<br />I_from = 0.183 kA<br />I_to = 0.191 kA<br />",
         "x": [
          -1.7242222,
          -2.18774416,
          -2.65126612
         ],
         "y": [
          -6.25841238,
          -6.34443003,
          -6.43044768
         ],
         "type": "scatter"
        },
        {
         "hoverinfo": "text",
         "legendgroup": "lines",
         "line": {
          "color": "rgb(0.0,0.0,136.5909090909091)",
          "dash": "solid",
          "width": 2
         },
         "mode": "lines",
         "name": "lines",
         "showlegend": false,
         "text": "Line_69_to_70_98<br />I = 1.025 %<br />I_from = 0.416 kA<br />I_to = 0.424 kA<br />",
         "x": [
          -2.65126612,
          -1.96818258,
          -1.28509904
         ],
         "y": [
          -6.43044768,
          -6.367044875,
          -6.30364207
         ],
         "type": "scatter"
        },
        {
         "hoverinfo": "text",
         "legendgroup": "lines",
         "line": {
          "color": "rgb(0.0,0.0,127.5)",
          "dash": "solid",
          "width": 2
         },
         "mode": "lines",
         "name": "lines",
         "showlegend": false,
         "text": "Line_24_to_70_99<br />I = 0.096 %<br />I_from = 0.03 kA<br />I_to = 0.04 kA<br />",
         "x": [
          -0.27785698,
          -0.78147801,
          -1.28509904
         ],
         "y": [
          -5.1101841,
          -5.706913085,
          -6.30364207
         ],
         "type": "scatter"
        },
        {
         "hoverinfo": "text",
         "legendgroup": "lines",
         "line": {
          "color": "rgb(0.0,0.0,127.5)",
          "dash": "solid",
          "width": 2
         },
         "mode": "lines",
         "name": "lines",
         "showlegend": false,
         "text": "Line_70_to_71_100<br />I = 0.215 %<br />I_from = 0.089 kA<br />I_to = 0.087 kA<br />",
         "x": [
          -1.28509904,
          -0.60524063,
          0.07461778
         ],
         "y": [
          -6.30364207,
          -6.6690691950000005,
          -7.03449632
         ],
         "type": "scatter"
        },
        {
         "hoverinfo": "text",
         "legendgroup": "lines",
         "line": {
          "color": "rgb(0.0,0.0,127.5)",
          "dash": "solid",
          "width": 2
         },
         "mode": "lines",
         "name": "lines",
         "showlegend": false,
         "text": "Line_24_to_72_101<br />I = 0.084 %<br />I_from = 0.015 kA<br />I_to = 0.035 kA<br />",
         "x": [
          -0.27785698,
          0.372930125,
          1.02371723
         ],
         "y": [
          -5.1101841,
          -5.510192705,
          -5.91020131
         ],
         "type": "scatter"
        },
        {
         "hoverinfo": "text",
         "legendgroup": "lines",
         "line": {
          "color": "rgb(0.0,0.0,127.5)",
          "dash": "solid",
          "width": 2
         },
         "mode": "lines",
         "name": "lines",
         "showlegend": false,
         "text": "Line_71_to_72_102<br />I = 0.115 %<br />I_from = 0.046 kA<br />I_to = 0.048 kA<br />",
         "x": [
          0.07461778,
          0.549167505,
          1.02371723
         ],
         "y": [
          -7.03449632,
          -6.472348815,
          -5.91020131
         ],
         "type": "scatter"
        },
        {
         "hoverinfo": "text",
         "legendgroup": "lines",
         "line": {
          "color": "rgb(0.0,0.0,127.5)",
          "dash": "solid",
          "width": 2
         },
         "mode": "lines",
         "name": "lines",
         "showlegend": false,
         "text": "Line_71_to_73_103<br />I = 0.126 %<br />I_from = 0.052 kA<br />I_to = 0.048 kA<br />",
         "x": [
          0.07461778,
          0.6246404050000001,
          1.17466303
         ],
         "y": [
          -7.03449632,
          -7.571665964999999,
          -8.10883561
         ],
         "type": "scatter"
        },
        {
         "hoverinfo": "text",
         "legendgroup": "lines",
         "line": {
          "color": "rgb(0.0,0.0,127.5)",
          "dash": "solid",
          "width": 2
         },
         "mode": "lines",
         "name": "lines",
         "showlegend": false,
         "text": "Line_70_to_74_104<br />I = 0.22 %<br />I_from = 0.081 kA<br />I_to = 0.091 kA<br />",
         "x": [
          -1.28509904,
          -1.5336589699999998,
          -1.7822189
         ],
         "y": [
          -6.30364207,
          -6.71852397,
          -7.13340587
         ],
         "type": "scatter"
        },
        {
         "hoverinfo": "text",
         "legendgroup": "lines",
         "line": {
          "color": "rgb(0.0,0.0,127.5)",
          "dash": "solid",
          "width": 2
         },
         "mode": "lines",
         "name": "lines",
         "showlegend": false,
         "text": "Line_70_to_75_105<br />I = 0.126 %<br />I_from = 0.038 kA<br />I_to = 0.052 kA<br />",
         "x": [
          -1.28509904,
          -1.92753326,
          -2.56996748
         ],
         "y": [
          -6.30364207,
          -6.80379243,
          -7.30394279
         ],
         "type": "scatter"
        },
        {
         "hoverinfo": "text",
         "legendgroup": "lines",
         "line": {
          "color": "rgb(0.0,0.0,136.5909090909091)",
          "dash": "solid",
          "width": 2
         },
         "mode": "lines",
         "name": "lines",
         "showlegend": false,
         "text": "Line_69_to_75_106<br />I = 1.008 %<br />I_from = 0.407 kA<br />I_to = 0.418 kA<br />",
         "x": [
          -2.65126612,
          -2.6106168,
          -2.56996748
         ],
         "y": [
          -6.43044768,
          -6.8671952350000005,
          -7.30394279
         ],
         "type": "scatter"
        },
        {
         "hoverinfo": "text",
         "legendgroup": "lines",
         "line": {
          "color": "rgb(0.0,0.0,132.04545454545453)",
          "dash": "solid",
          "width": 2
         },
         "mode": "lines",
         "name": "lines",
         "showlegend": false,
         "text": "Line_74_to_75_107<br />I = 0.603 %<br />I_from = 0.25 kA<br />I_to = 0.249 kA<br />",
         "x": [
          -1.7822189,
          -2.17609319,
          -2.56996748
         ],
         "y": [
          -7.13340587,
          -7.21867433,
          -7.30394279
         ],
         "type": "scatter"
        },
        {
         "hoverinfo": "text",
         "legendgroup": "lines",
         "line": {
          "color": "rgb(0.0,0.0,132.04545454545453)",
          "dash": "solid",
          "width": 2
         },
         "mode": "lines",
         "name": "lines",
         "showlegend": false,
         "text": "Line_76_to_77_108<br />I = 0.589 %<br />I_from = 0.244 kA<br />I_to = 0.24 kA<br />",
         "x": [
          -3.09464675,
          -3.356686055,
          -3.61872536
         ],
         "y": [
          -8.59502685,
          -8.001565625,
          -7.4081044
         ],
         "type": "scatter"
        },
        {
         "hoverinfo": "text",
         "legendgroup": "lines",
         "line": {
          "color": "rgb(0.0,0.0,132.04545454545453)",
          "dash": "solid",
          "width": 2
         },
         "mode": "lines",
         "name": "lines",
         "showlegend": false,
         "text": "Line_69_to_77_109<br />I = 0.56 %<br />I_from = 0.222 kA<br />I_to = 0.232 kA<br />",
         "x": [
          -2.65126612,
          -3.13499574,
          -3.61872536
         ],
         "y": [
          -6.43044768,
          -6.91927604,
          -7.4081044
         ],
         "type": "scatter"
        },
        {
         "hoverinfo": "text",
         "legendgroup": "lines",
         "line": {
          "color": "rgb(0.0,0.0,127.5)",
          "dash": "solid",
          "width": 2
         },
         "mode": "lines",
         "name": "lines",
         "showlegend": false,
         "text": "Line_75_to_77_110<br />I = 0.343 %<br />I_from = 0.142 kA<br />I_to = 0.138 kA<br />",
         "x": [
          -2.56996748,
          -3.09434642,
          -3.61872536
         ],
         "y": [
          -7.30394279,
          -7.356023595,
          -7.4081044
         ],
         "type": "scatter"
        },
        {
         "hoverinfo": "text",
         "legendgroup": "lines",
         "line": {
          "color": "rgb(0.0,0.0,132.04545454545453)",
          "dash": "solid",
          "width": 2
         },
         "mode": "lines",
         "name": "lines",
         "showlegend": false,
         "text": "Line_77_to_78_111<br />I = 0.467 %<br />I_from = 0.193 kA<br />I_to = 0.194 kA<br />",
         "x": [
          -3.61872536,
          -3.6557544550000003,
          -3.69278355
         ],
         "y": [
          -7.4081044,
          -7.7858990949999995,
          -8.16369379
         ],
         "type": "scatter"
        },
        {
         "hoverinfo": "text",
         "legendgroup": "lines",
         "line": {
          "color": "rgb(0.0,0.0,127.5)",
          "dash": "solid",
          "width": 2
         },
         "mode": "lines",
         "name": "lines",
         "showlegend": false,
         "text": "Line_78_to_79_112<br />I = 0.315 %<br />I_from = 0.13 kA<br />I_to = 0.129 kA<br />",
         "x": [
          -3.69278355,
          -4.20971345,
          -4.72664335
         ],
         "y": [
          -8.16369379,
          -7.94296951,
          -7.72224523
         ],
         "type": "scatter"
        },
        {
         "hoverinfo": "text",
         "legendgroup": "lines",
         "line": {
          "color": "rgb(0.0,0.0,136.5909090909091)",
          "dash": "solid",
          "width": 2
         },
         "mode": "lines",
         "name": "lines",
         "showlegend": false,
         "text": "Line_77_to_80_113<br />I = 1.032 %<br />I_from = 0.427 kA<br />I_to = 0.42 kA<br />",
         "x": [
          -3.61872536,
          -4.236386195,
          -4.85404703
         ],
         "y": [
          -7.4081044,
          -7.20139686,
          -6.99468932
         ],
         "type": "scatter"
        },
        {
         "hoverinfo": "text",
         "legendgroup": "lines",
         "line": {
          "color": "rgb(0.0,0.0,132.04545454545453)",
          "dash": "solid",
          "width": 2
         },
         "mode": "lines",
         "name": "lines",
         "showlegend": false,
         "text": "Line_77_to_80_114<br />I = 0.487 %<br />I_from = 0.202 kA<br />I_to = 0.198 kA<br />",
         "x": [
          -3.61872536,
          -4.236386195,
          -4.85404703
         ],
         "y": [
          -7.4081044,
          -7.20139686,
          -6.99468932
         ],
         "type": "scatter"
        },
        {
         "hoverinfo": "text",
         "legendgroup": "lines",
         "line": {
          "color": "rgb(0.0,0.0,132.04545454545453)",
          "dash": "solid",
          "width": 2
         },
         "mode": "lines",
         "name": "lines",
         "showlegend": false,
         "text": "Line_79_to_80_115<br />I = 0.708 %<br />I_from = 0.293 kA<br />I_to = 0.29 kA<br />",
         "x": [
          -4.72664335,
          -4.79034519,
          -4.85404703
         ],
         "y": [
          -7.72224523,
          -7.358467275000001,
          -6.99468932
         ],
         "type": "scatter"
        },
        {
         "hoverinfo": "text",
         "legendgroup": "lines",
         "line": {
          "color": "rgb(0.0,0.0,127.5)",
          "dash": "solid",
          "width": 2
         },
         "mode": "lines",
         "name": "lines",
         "showlegend": false,
         "text": "Line_77_to_82_116<br />I = 0.259 %<br />I_from = 0.074 kA<br />I_to = 0.107 kA<br />",
         "x": [
          -3.61872536,
          -3.90882792,
          -4.19893048
         ],
         "y": [
          -7.4081044,
          -7.9889782,
          -8.569852
         ],
         "type": "scatter"
        },
        {
         "hoverinfo": "text",
         "legendgroup": "lines",
         "line": {
          "color": "rgb(0.0,0.0,132.04545454545453)",
          "dash": "solid",
          "width": 2
         },
         "mode": "lines",
         "name": "lines",
         "showlegend": false,
         "text": "Line_82_to_83_117<br />I = 0.561 %<br />I_from = 0.225 kA<br />I_to = 0.232 kA<br />",
         "x": [
          -4.19893048,
          -4.1636682799999996,
          -4.12840608
         ],
         "y": [
          -8.569852,
          -9.21420107,
          -9.85855014
         ],
         "type": "scatter"
        },
        {
         "hoverinfo": "text",
         "legendgroup": "lines",
         "line": {
          "color": "rgb(0.0,0.0,127.5)",
          "dash": "solid",
          "width": 2
         },
         "mode": "lines",
         "name": "lines",
         "showlegend": false,
         "text": "Line_83_to_84_118<br />I = 0.309 %<br />I_from = 0.122 kA<br />I_to = 0.128 kA<br />",
         "x": [
          -4.12840608,
          -4.078524055000001,
          -4.02864203
         ],
         "y": [
          -9.85855014,
          -10.352066279999999,
          -10.84558242
         ],
         "type": "scatter"
        },
        {
         "hoverinfo": "text",
         "legendgroup": "lines",
         "line": {
          "color": "rgb(0.0,0.0,132.04545454545453)",
          "dash": "solid",
          "width": 2
         },
         "mode": "lines",
         "name": "lines",
         "showlegend": false,
         "text": "Line_83_to_85_119<br />I = 0.465 %<br />I_from = 0.189 kA<br />I_to = 0.193 kA<br />",
         "x": [
          -4.12840608,
          -4.557836890000001,
          -4.9872677
         ],
         "y": [
          -9.85855014,
          -10.279743934999999,
          -10.70093773
         ],
         "type": "scatter"
        },
        {
         "hoverinfo": "text",
         "legendgroup": "lines",
         "line": {
          "color": "rgb(0.0,0.0,127.5)",
          "dash": "solid",
          "width": 2
         },
         "mode": "lines",
         "name": "lines",
         "showlegend": false,
         "text": "Line_84_to_85_120<br />I = 0.389 %<br />I_from = 0.16 kA<br />I_to = 0.161 kA<br />",
         "x": [
          -4.02864203,
          -4.507954865,
          -4.9872677
         ],
         "y": [
          -10.84558242,
          -10.773260075,
          -10.70093773
         ],
         "type": "scatter"
        },
        {
         "hoverinfo": "text",
         "legendgroup": "lines",
         "line": {
          "color": "rgb(0.0,0.0,127.5)",
          "dash": "solid",
          "width": 2
         },
         "mode": "lines",
         "name": "lines",
         "showlegend": false,
         "text": "Line_85_to_86_121<br />I = 0.182 %<br />I_from = 0.076 kA<br />I_to = 0.073 kA<br />",
         "x": [
          -4.9872677,
          -4.81357673,
          -4.63988576
         ],
         "y": [
          -10.70093773,
          -11.30626081,
          -11.91158389
         ],
         "type": "scatter"
        },
        {
         "hoverinfo": "text",
         "legendgroup": "lines",
         "line": {
          "color": "rgb(0.0,0.0,132.04545454545453)",
          "dash": "solid",
          "width": 2
         },
         "mode": "lines",
         "name": "lines",
         "showlegend": false,
         "text": "Line_85_to_88_122<br />I = 0.526 %<br />I_from = 0.216 kA<br />I_to = 0.218 kA<br />",
         "x": [
          -4.9872677,
          -5.352308315,
          -5.71734893
         ],
         "y": [
          -10.70093773,
          -11.009645205,
          -11.31835268
         ],
         "type": "scatter"
        },
        {
         "hoverinfo": "text",
         "legendgroup": "lines",
         "line": {
          "color": "rgb(0.0,0.0,132.04545454545453)",
          "dash": "solid",
          "width": 2
         },
         "mode": "lines",
         "name": "lines",
         "showlegend": false,
         "text": "Line_85_to_89_123<br />I = 0.73 %<br />I_from = 0.302 kA<br />I_to = 0.302 kA<br />",
         "x": [
          -4.9872677,
          -5.632958935,
          -6.27865017
         ],
         "y": [
          -10.70093773,
          -10.6454703,
          -10.59000287
         ],
         "type": "scatter"
        },
        {
         "hoverinfo": "text",
         "legendgroup": "lines",
         "line": {
          "color": "rgb(0.0,0.0,136.5909090909091)",
          "dash": "solid",
          "width": 2
         },
         "mode": "lines",
         "name": "lines",
         "showlegend": false,
         "text": "Line_88_to_89_124<br />I = 1.012 %<br />I_from = 0.419 kA<br />I_to = 0.419 kA<br />",
         "x": [
          -5.71734893,
          -5.997999549999999,
          -6.27865017
         ],
         "y": [
          -11.31835268,
          -10.954177775,
          -10.59000287
         ],
         "type": "scatter"
        },
        {
         "hoverinfo": "text",
         "legendgroup": "lines",
         "line": {
          "color": "rgb(0.0,0.0,132.04545454545453)",
          "dash": "solid",
          "width": 2
         },
         "mode": "lines",
         "name": "lines",
         "showlegend": false,
         "text": "Line_89_to_90_125<br />I = 0.587 %<br />I_from = 0.243 kA<br />I_to = 0.241 kA<br />",
         "x": [
          -6.27865017,
          -6.661585915,
          -7.04452166
         ],
         "y": [
          -10.59000287,
          -11.052184884999999,
          -11.5143669
         ],
         "type": "scatter"
        },
        {
         "hoverinfo": "text",
         "legendgroup": "lines",
         "line": {
          "color": "rgb(0.0,0.0,136.5909090909091)",
          "dash": "solid",
          "width": 2
         },
         "mode": "lines",
         "name": "lines",
         "showlegend": false,
         "text": "Line_89_to_90_126<br />I = 1.115 %<br />I_from = 0.462 kA<br />I_to = 0.459 kA<br />",
         "x": [
          -6.27865017,
          -6.661585915,
          -7.04452166
         ],
         "y": [
          -10.59000287,
          -11.052184884999999,
          -11.5143669
         ],
         "type": "scatter"
        },
        {
         "hoverinfo": "text",
         "legendgroup": "lines",
         "line": {
          "color": "rgb(0.0,0.0,127.5)",
          "dash": "solid",
          "width": 2
         },
         "mode": "lines",
         "name": "lines",
         "showlegend": false,
         "text": "Line_90_to_91_127<br />I = 0.068 %<br />I_from = 0.02 kA<br />I_to = 0.028 kA<br />",
         "x": [
          -7.04452166,
          -7.297266105,
          -7.55001055
         ],
         "y": [
          -11.5143669,
          -11.030397235,
          -10.54642757
         ],
         "type": "scatter"
        },
        {
         "hoverinfo": "text",
         "legendgroup": "lines",
         "line": {
          "color": "rgb(0.0,0.0,150.22727272727272)",
          "dash": "solid",
          "width": 2
         },
         "mode": "lines",
         "name": "lines",
         "showlegend": false,
         "text": "Line_89_to_92_128<br />I = 2.026 %<br />I_from = 0.839 kA<br />I_to = 0.838 kA<br />",
         "x": [
          -6.27865017,
          -6.6453978750000005,
          -7.01214558
         ],
         "y": [
          -10.59000287,
          -10.011716985,
          -9.4334311
         ],
         "type": "scatter"
        },
        {
         "hoverinfo": "text",
         "legendgroup": "lines",
         "line": {
          "color": "rgb(0.0,0.0,132.04545454545453)",
          "dash": "solid",
          "width": 2
         },
         "mode": "lines",
         "name": "lines",
         "showlegend": false,
         "text": "Line_89_to_92_129<br />I = 0.641 %<br />I_from = 0.266 kA<br />I_to = 0.264 kA<br />",
         "x": [
          -6.27865017,
          -6.6453978750000005,
          -7.01214558
         ],
         "y": [
          -10.59000287,
          -10.011716985,
          -9.4334311
         ],
         "type": "scatter"
        },
        {
         "hoverinfo": "text",
         "legendgroup": "lines",
         "line": {
          "color": "rgb(0.0,0.0,127.5)",
          "dash": "solid",
          "width": 2
         },
         "mode": "lines",
         "name": "lines",
         "showlegend": false,
         "text": "Line_91_to_92_130<br />I = 0.112 %<br />I_from = 0.046 kA<br />I_to = 0.039 kA<br />",
         "x": [
          -7.55001055,
          -7.281078065,
          -7.01214558
         ],
         "y": [
          -10.54642757,
          -9.989929335,
          -9.4334311
         ],
         "type": "scatter"
        },
        {
         "hoverinfo": "text",
         "legendgroup": "lines",
         "line": {
          "color": "rgb(0.0,0.0,132.04545454545453)",
          "dash": "solid",
          "width": 2
         },
         "mode": "lines",
         "name": "lines",
         "showlegend": false,
         "text": "Line_92_to_93_131<br />I = 0.6 %<br />I_from = 0.248 kA<br />I_to = 0.247 kA<br />",
         "x": [
          -7.01214558,
          -6.746033995,
          -6.47992241
         ],
         "y": [
          -9.4334311,
          -9.564321190000001,
          -9.69521128
         ],
         "type": "scatter"
        },
        {
         "hoverinfo": "text",
         "legendgroup": "lines",
         "line": {
          "color": "rgb(0.0,0.0,132.04545454545453)",
          "dash": "solid",
          "width": 2
         },
         "mode": "lines",
         "name": "lines",
         "showlegend": false,
         "text": "Line_92_to_94_132<br />I = 0.555 %<br />I_from = 0.23 kA<br />I_to = 0.225 kA<br />",
         "x": [
          -7.01214558,
          -6.712647125,
          -6.41314867
         ],
         "y": [
          -9.4334311,
          -9.012172565,
          -8.59091403
         ],
         "type": "scatter"
        },
        {
         "hoverinfo": "text",
         "legendgroup": "lines",
         "line": {
          "color": "rgb(0.0,0.0,132.04545454545453)",
          "dash": "solid",
          "width": 2
         },
         "mode": "lines",
         "name": "lines",
         "showlegend": false,
         "text": "Line_93_to_94_133<br />I = 0.5 %<br />I_from = 0.207 kA<br />I_to = 0.204 kA<br />",
         "x": [
          -6.47992241,
          -6.44653554,
          -6.41314867
         ],
         "y": [
          -9.69521128,
          -9.143062655000001,
          -8.59091403
         ],
         "type": "scatter"
        },
        {
         "hoverinfo": "text",
         "legendgroup": "lines",
         "line": {
          "color": "rgb(0.0,0.0,132.04545454545453)",
          "dash": "solid",
          "width": 2
         },
         "mode": "lines",
         "name": "lines",
         "showlegend": false,
         "text": "Line_94_to_95_134<br />I = 0.429 %<br />I_from = 0.177 kA<br />I_to = 0.178 kA<br />",
         "x": [
          -6.41314867,
          -6.0663062100000005,
          -5.71946375
         ],
         "y": [
          -8.59091403,
          -8.718596470000001,
          -8.84627891
         ],
         "type": "scatter"
        },
        {
         "hoverinfo": "text",
         "legendgroup": "lines",
         "line": {
          "color": "rgb(0.0,0.0,127.5)",
          "dash": "solid",
          "width": 2
         },
         "mode": "lines",
         "name": "lines",
         "showlegend": false,
         "text": "Line_80_to_96_135<br />I = 0.314 %<br />I_from = 0.114 kA<br />I_to = 0.13 kA<br />",
         "x": [
          -4.85404703,
          -5.09400328,
          -5.33395953
         ],
         "y": [
          -6.99468932,
          -7.52767132,
          -8.06065332
         ],
         "type": "scatter"
        },
        {
         "hoverinfo": "text",
         "legendgroup": "lines",
         "line": {
          "color": "rgb(0.0,0.0,127.5)",
          "dash": "solid",
          "width": 2
         },
         "mode": "lines",
         "name": "lines",
         "showlegend": false,
         "text": "Line_82_to_96_136<br />I = 0.12 %<br />I_from = 0.05 kA<br />I_to = 0.041 kA<br />",
         "x": [
          -4.19893048,
          -4.766445005,
          -5.33395953
         ],
         "y": [
          -8.569852,
          -8.315252659999999,
          -8.06065332
         ],
         "type": "scatter"
        },
        {
         "hoverinfo": "text",
         "legendgroup": "lines",
         "line": {
          "color": "rgb(0.0,0.0,127.5)",
          "dash": "solid",
          "width": 2
         },
         "mode": "lines",
         "name": "lines",
         "showlegend": false,
         "text": "Line_94_to_96_137<br />I = 0.225 %<br />I_from = 0.093 kA<br />I_to = 0.089 kA<br />",
         "x": [
          -6.41314867,
          -5.8735541,
          -5.33395953
         ],
         "y": [
          -8.59091403,
          -8.325783675,
          -8.06065332
         ],
         "type": "scatter"
        },
        {
         "hoverinfo": "text",
         "legendgroup": "lines",
         "line": {
          "color": "rgb(0.0,0.0,127.5)",
          "dash": "solid",
          "width": 2
         },
         "mode": "lines",
         "name": "lines",
         "showlegend": false,
         "text": "Line_80_to_97_138<br />I = 0.377 %<br />I_from = 0.148 kA<br />I_to = 0.156 kA<br />",
         "x": [
          -4.85404703,
          -5.171898285,
          -5.48974954
         ],
         "y": [
          -6.99468932,
          -6.97472859,
          -6.95476786
         ],
         "type": "scatter"
        },
        {
         "hoverinfo": "text",
         "legendgroup": "lines",
         "line": {
          "color": "rgb(0.0,0.0,127.5)",
          "dash": "solid",
          "width": 2
         },
         "mode": "lines",
         "name": "lines",
         "showlegend": false,
         "text": "Line_80_to_98_139<br />I = 0.301 %<br />I_from = 0.121 kA<br />I_to = 0.125 kA<br />",
         "x": [
          -4.85404703,
          -5.470285015,
          -6.086523
         ],
         "y": [
          -6.99468932,
          -7.15298283,
          -7.31127634
         ],
         "type": "scatter"
        },
        {
         "hoverinfo": "text",
         "legendgroup": "lines",
         "line": {
          "color": "rgb(0.0,0.0,127.5)",
          "dash": "solid",
          "width": 2
         },
         "mode": "lines",
         "name": "lines",
         "showlegend": false,
         "text": "Line_80_to_99_140<br />I = 0.233 %<br />I_from = 0.085 kA<br />I_to = 0.096 kA<br />",
         "x": [
          -4.85404703,
          -5.533078695,
          -6.21211036
         ],
         "y": [
          -6.99468932,
          -6.993320434999999,
          -6.99195155
         ],
         "type": "scatter"
        },
        {
         "hoverinfo": "text",
         "legendgroup": "lines",
         "line": {
          "color": "rgb(0.0,0.0,127.5)",
          "dash": "solid",
          "width": 2
         },
         "mode": "lines",
         "name": "lines",
         "showlegend": false,
         "text": "Line_92_to_100_141<br />I = 0.363 %<br />I_from = 0.15 kA<br />I_to = 0.141 kA<br />",
         "x": [
          -7.01214558,
          -7.03942301,
          -7.06670044
         ],
         "y": [
          -9.4334311,
          -8.709577055,
          -7.98572301
         ],
         "type": "scatter"
        },
        {
         "hoverinfo": "text",
         "legendgroup": "lines",
         "line": {
          "color": "rgb(0.0,0.0,132.04545454545453)",
          "dash": "solid",
          "width": 2
         },
         "mode": "lines",
         "name": "lines",
         "showlegend": false,
         "text": "Line_94_to_100_142<br />I = 0.518 %<br />I_from = 0.214 kA<br />I_to = 0.189 kA<br />",
         "x": [
          -6.41314867,
          -6.739924555,
          -7.06670044
         ],
         "y": [
          -8.59091403,
          -8.28831852,
          -7.98572301
         ],
         "type": "scatter"
        },
        {
         "hoverinfo": "text",
         "legendgroup": "lines",
         "line": {
          "color": "rgb(0.0,0.0,127.5)",
          "dash": "solid",
          "width": 2
         },
         "mode": "lines",
         "name": "lines",
         "showlegend": false,
         "text": "Line_95_to_96_143<br />I = 0.224 %<br />I_from = 0.093 kA<br />I_to = 0.087 kA<br />",
         "x": [
          -5.71946375,
          -5.52671164,
          -5.33395953
         ],
         "y": [
          -8.84627891,
          -8.453466115000001,
          -8.06065332
         ],
         "type": "scatter"
        },
        {
         "hoverinfo": "text",
         "legendgroup": "lines",
         "line": {
          "color": "rgb(0.0,0.0,127.5)",
          "dash": "solid",
          "width": 2
         },
         "mode": "lines",
         "name": "lines",
         "showlegend": false,
         "text": "Line_96_to_97_144<br />I = 0.234 %<br />I_from = 0.097 kA<br />I_to = 0.088 kA<br />",
         "x": [
          -5.33395953,
          -5.411854535,
          -5.48974954
         ],
         "y": [
          -8.06065332,
          -7.50771059,
          -6.95476786
         ],
         "type": "scatter"
        },
        {
         "hoverinfo": "text",
         "legendgroup": "lines",
         "line": {
          "color": "rgb(0.0,0.0,127.5)",
          "dash": "solid",
          "width": 2
         },
         "mode": "lines",
         "name": "lines",
         "showlegend": false,
         "text": "Line_98_to_100_145<br />I = 0.09 %<br />I_from = 0.024 kA<br />I_to = 0.037 kA<br />",
         "x": [
          -6.086523,
          -6.57661172,
          -7.06670044
         ],
         "y": [
          -7.31127634,
          -7.648499675,
          -7.98572301
         ],
         "type": "scatter"
        },
        {
         "hoverinfo": "text",
         "legendgroup": "lines",
         "line": {
          "color": "rgb(0.0,0.0,127.5)",
          "dash": "solid",
          "width": 2
         },
         "mode": "lines",
         "name": "lines",
         "showlegend": false,
         "text": "Line_99_to_100_146<br />I = 0.231 %<br />I_from = 0.096 kA<br />I_to = 0.094 kA<br />",
         "x": [
          -6.21211036,
          -6.639405399999999,
          -7.06670044
         ],
         "y": [
          -6.99195155,
          -7.48883728,
          -7.98572301
         ],
         "type": "scatter"
        },
        {
         "hoverinfo": "text",
         "legendgroup": "lines",
         "line": {
          "color": "rgb(0.0,0.0,127.5)",
          "dash": "solid",
          "width": 2
         },
         "mode": "lines",
         "name": "lines",
         "showlegend": false,
         "text": "Line_100_to_101_147<br />I = 0.309 %<br />I_from = 0.117 kA<br />I_to = 0.128 kA<br />",
         "x": [
          -7.06670044,
          -7.366232475,
          -7.66576451
         ],
         "y": [
          -7.98572301,
          -8.391261175,
          -8.79679934
         ],
         "type": "scatter"
        },
        {
         "hoverinfo": "text",
         "legendgroup": "lines",
         "line": {
          "color": "rgb(0.0,0.0,132.04545454545453)",
          "dash": "solid",
          "width": 2
         },
         "mode": "lines",
         "name": "lines",
         "showlegend": false,
         "text": "Line_92_to_102_148<br />I = 0.464 %<br />I_from = 0.192 kA<br />I_to = 0.191 kA<br />",
         "x": [
          -7.01214558,
          -7.497193795,
          -7.98224201
         ],
         "y": [
          -9.4334311,
          -9.660776045,
          -9.88812099
         ],
         "type": "scatter"
        },
        {
         "hoverinfo": "text",
         "legendgroup": "lines",
         "line": {
          "color": "rgb(0.0,0.0,132.04545454545453)",
          "dash": "solid",
          "width": 2
         },
         "mode": "lines",
         "name": "lines",
         "showlegend": false,
         "text": "Line_101_to_102_149<br />I = 0.418 %<br />I_from = 0.17 kA<br />I_to = 0.173 kA<br />",
         "x": [
          -7.66576451,
          -7.82400326,
          -7.98224201
         ],
         "y": [
          -8.79679934,
          -9.342460165,
          -9.88812099
         ],
         "type": "scatter"
        },
        {
         "hoverinfo": "text",
         "legendgroup": "lines",
         "line": {
          "color": "rgb(0.0,0.0,141.13636363636363)",
          "dash": "solid",
          "width": 2
         },
         "mode": "lines",
         "name": "lines",
         "showlegend": false,
         "text": "Line_100_to_103_150<br />I = 1.229 %<br />I_from = 0.509 kA<br />I_to = 0.505 kA<br />",
         "x": [
          -7.06670044,
          -7.65161147,
          -8.2365225
         ],
         "y": [
          -7.98572301,
          -7.604491205,
          -7.2232594
         ],
         "type": "scatter"
        },
        {
         "hoverinfo": "text",
         "legendgroup": "lines",
         "line": {
          "color": "rgb(0.0,0.0,132.04545454545453)",
          "dash": "solid",
          "width": 2
         },
         "mode": "lines",
         "name": "lines",
         "showlegend": false,
         "text": "Line_100_to_104_151<br />I = 0.578 %<br />I_from = 0.235 kA<br />I_to = 0.239 kA<br />",
         "x": [
          -7.06670044,
          -7.51340043,
          -7.96010042
         ],
         "y": [
          -7.98572301,
          -7.818581945,
          -7.65144088
         ],
         "type": "scatter"
        },
        {
         "hoverinfo": "text",
         "legendgroup": "lines",
         "line": {
          "color": "rgb(0.0,0.0,127.5)",
          "dash": "solid",
          "width": 2
         },
         "mode": "lines",
         "name": "lines",
         "showlegend": false,
         "text": "Line_103_to_104_152<br />I = 0.37 %<br />I_from = 0.146 kA<br />I_to = 0.153 kA<br />",
         "x": [
          -8.2365225,
          -8.09831146,
          -7.96010042
         ],
         "y": [
          -7.2232594,
          -7.4373501399999995,
          -7.65144088
         ],
         "type": "scatter"
        },
        {
         "hoverinfo": "text",
         "legendgroup": "lines",
         "line": {
          "color": "rgb(0.0,0.0,132.04545454545453)",
          "dash": "solid",
          "width": 2
         },
         "mode": "lines",
         "name": "lines",
         "showlegend": false,
         "text": "Line_103_to_105_153<br />I = 0.464 %<br />I_from = 0.187 kA<br />I_to = 0.192 kA<br />",
         "x": [
          -8.2365225,
          -8.66025218,
          -9.08398186
         ],
         "y": [
          -7.2232594,
          -7.578906065,
          -7.93455273
         ],
         "type": "scatter"
        },
        {
         "hoverinfo": "text",
         "legendgroup": "lines",
         "line": {
          "color": "rgb(0.0,0.0,132.04545454545453)",
          "dash": "solid",
          "width": 2
         },
         "mode": "lines",
         "name": "lines",
         "showlegend": false,
         "text": "Line_100_to_106_154<br />I = 0.616 %<br />I_from = 0.251 kA<br />I_to = 0.255 kA<br />",
         "x": [
          -7.06670044,
          -7.58516124,
          -8.10362204
         ],
         "y": [
          -7.98572301,
          -8.109211415,
          -8.23269982
         ],
         "type": "scatter"
        },
        {
         "hoverinfo": "text",
         "legendgroup": "lines",
         "line": {
          "color": "rgb(0.0,0.0,132.04545454545453)",
          "dash": "solid",
          "width": 2
         },
         "mode": "lines",
         "name": "lines",
         "showlegend": false,
         "text": "Line_104_to_105_155<br />I = 0.507 %<br />I_from = 0.21 kA<br />I_to = 0.21 kA<br />",
         "x": [
          -7.96010042,
          -8.522041139999999,
          -9.08398186
         ],
         "y": [
          -7.65144088,
          -7.792996805,
          -7.93455273
         ],
         "type": "scatter"
        },
        {
         "hoverinfo": "text",
         "legendgroup": "lines",
         "line": {
          "color": "rgb(0.0,0.0,127.5)",
          "dash": "solid",
          "width": 2
         },
         "mode": "lines",
         "name": "lines",
         "showlegend": false,
         "text": "Line_105_to_106_156<br />I = 0.108 %<br />I_from = 0.042 kA<br />I_to = 0.045 kA<br />",
         "x": [
          -9.08398186,
          -8.59380195,
          -8.10362204
         ],
         "y": [
          -7.93455273,
          -8.083626275,
          -8.23269982
         ],
         "type": "scatter"
        },
        {
         "hoverinfo": "text",
         "legendgroup": "lines",
         "line": {
          "color": "rgb(0.0,0.0,127.5)",
          "dash": "solid",
          "width": 2
         },
         "mode": "lines",
         "name": "lines",
         "showlegend": false,
         "text": "Line_105_to_107_157<br />I = 0.281 %<br />I_from = 0.116 kA<br />I_to = 0.116 kA<br />",
         "x": [
          -9.08398186,
          -9.072010435,
          -9.06003901
         ],
         "y": [
          -7.93455273,
          -8.380905765,
          -8.8272588
         ],
         "type": "scatter"
        },
        {
         "hoverinfo": "text",
         "legendgroup": "lines",
         "line": {
          "color": "rgb(0.0,0.0,127.5)",
          "dash": "solid",
          "width": 2
         },
         "mode": "lines",
         "name": "lines",
         "showlegend": false,
         "text": "Line_105_to_108_158<br />I = 0.277 %<br />I_from = 0.115 kA<br />I_to = 0.112 kA<br />",
         "x": [
          -9.08398186,
          -9.65312281,
          -10.22226376
         ],
         "y": [
          -7.93455273,
          -8.122371355,
          -8.31018998
         ],
         "type": "scatter"
        },
        {
         "hoverinfo": "text",
         "legendgroup": "lines",
         "line": {
          "color": "rgb(0.0,0.0,127.5)",
          "dash": "solid",
          "width": 2
         },
         "mode": "lines",
         "name": "lines",
         "showlegend": false,
         "text": "Line_106_to_107_159<br />I = 0.255 %<br />I_from = 0.106 kA<br />I_to = 0.104 kA<br />",
         "x": [
          -8.10362204,
          -8.581830525,
          -9.06003901
         ],
         "y": [
          -8.23269982,
          -8.52997931,
          -8.8272588
         ],
         "type": "scatter"
        },
        {
         "hoverinfo": "text",
         "legendgroup": "lines",
         "line": {
          "color": "rgb(0.0,0.0,127.5)",
          "dash": "solid",
          "width": 2
         },
         "mode": "lines",
         "name": "lines",
         "showlegend": false,
         "text": "Line_108_to_109_160<br />I = 0.255 %<br />I_from = 0.105 kA<br />I_to = 0.104 kA<br />",
         "x": [
          -10.22226376,
          -10.330065525,
          -10.43786729
         ],
         "y": [
          -8.31018998,
          -7.88326625,
          -7.45634252
         ],
         "type": "scatter"
        },
        {
         "hoverinfo": "text",
         "legendgroup": "lines",
         "line": {
          "color": "rgb(0.0,0.0,132.04545454545453)",
          "dash": "solid",
          "width": 2
         },
         "mode": "lines",
         "name": "lines",
         "showlegend": false,
         "text": "Line_103_to_110_161<br />I = 0.617 %<br />I_from = 0.253 kA<br />I_to = 0.256 kA<br />",
         "x": [
          -8.2365225,
          -8.79763113,
          -9.35873976
         ],
         "y": [
          -7.2232594,
          -7.023061125,
          -6.82286285
         ],
         "type": "scatter"
        },
        {
         "hoverinfo": "text",
         "legendgroup": "lines",
         "line": {
          "color": "rgb(0.0,0.0,127.5)",
          "dash": "solid",
          "width": 2
         },
         "mode": "lines",
         "name": "lines",
         "showlegend": false,
         "text": "Line_109_to_110_162<br />I = 0.2 %<br />I_from = 0.083 kA<br />I_to = 0.077 kA<br />",
         "x": [
          -10.43786729,
          -9.898303525,
          -9.35873976
         ],
         "y": [
          -7.45634252,
          -7.139602685,
          -6.82286285
         ],
         "type": "scatter"
        },
        {
         "hoverinfo": "text",
         "legendgroup": "lines",
         "line": {
          "color": "rgb(0.0,0.0,127.5)",
          "dash": "solid",
          "width": 2
         },
         "mode": "lines",
         "name": "lines",
         "showlegend": false,
         "text": "Line_110_to_111_163<br />I = 0.372 %<br />I_from = 0.154 kA<br />I_to = 0.154 kA<br />",
         "x": [
          -9.35873976,
          -9.89949021,
          -10.44024066
         ],
         "y": [
          -6.82286285,
          -6.70050883,
          -6.57815481
         ],
         "type": "scatter"
        },
        {
         "hoverinfo": "text",
         "legendgroup": "lines",
         "line": {
          "color": "rgb(0.0,0.0,136.5909090909091)",
          "dash": "solid",
          "width": 2
         },
         "mode": "lines",
         "name": "lines",
         "showlegend": false,
         "text": "Line_110_to_112_164<br />I = 0.788 %<br />I_from = 0.326 kA<br />I_to = 0.316 kA<br />",
         "x": [
          -9.35873976,
          -9.703795405000001,
          -10.04885105
         ],
         "y": [
          -6.82286285,
          -6.375875255,
          -5.92888766
         ],
         "type": "scatter"
        },
        {
         "hoverinfo": "text",
         "legendgroup": "lines",
         "line": {
          "color": "rgb(0.0,0.0,127.5)",
          "dash": "solid",
          "width": 2
         },
         "mode": "lines",
         "name": "lines",
         "showlegend": false,
         "text": "Line_17_to_113_165<br />I = 0.071 %<br />I_from = 0.026 kA<br />I_to = 0.029 kA<br />",
         "x": [
          -1.04893901,
          -0.51392903,
          0.02108095
         ],
         "y": [
          -1.09114552,
          -1.29468184,
          -1.49821816
         ],
         "type": "scatter"
        },
        {
         "hoverinfo": "text",
         "legendgroup": "lines",
         "line": {
          "color": "rgb(0.0,0.0,127.5)",
          "dash": "solid",
          "width": 2
         },
         "mode": "lines",
         "name": "lines",
         "showlegend": false,
         "text": "Line_32_to_113_166<br />I = 0.19 %<br />I_from = 0.079 kA<br />I_to = 0.058 kA<br />",
         "x": [
          0.90364267,
          0.46236181,
          0.02108095
         ],
         "y": [
          -2.47159436,
          -1.98490626,
          -1.49821816
         ],
         "type": "scatter"
        },
        {
         "hoverinfo": "text",
         "legendgroup": "lines",
         "line": {
          "color": "rgb(0.0,0.0,127.5)",
          "dash": "solid",
          "width": 2
         },
         "mode": "lines",
         "name": "lines",
         "showlegend": false,
         "text": "Line_32_to_114_167<br />I = 0.105 %<br />I_from = 0.042 kA<br />I_to = 0.044 kA<br />",
         "x": [
          0.90364267,
          1.58335158,
          2.26306049
         ],
         "y": [
          -2.47159436,
          -2.6292386800000003,
          -2.786883
         ],
         "type": "scatter"
        },
        {
         "hoverinfo": "text",
         "legendgroup": "lines",
         "line": {
          "color": "rgb(0.0,0.0,127.5)",
          "dash": "solid",
          "width": 2
         },
         "mode": "lines",
         "name": "lines",
         "showlegend": false,
         "text": "Line_27_to_115_168<br />I = 0.227 %<br />I_from = 0.092 kA<br />I_to = 0.094 kA<br />",
         "x": [
          1.94459585,
          2.55452186,
          3.16444787
         ],
         "y": [
          -2.22804448,
          -2.3067026,
          -2.38536072
         ],
         "type": "scatter"
        },
        {
         "hoverinfo": "text",
         "legendgroup": "lines",
         "line": {
          "color": "rgb(0.0,0.0,127.5)",
          "dash": "solid",
          "width": 2
         },
         "mode": "lines",
         "name": "lines",
         "showlegend": false,
         "text": "Line_114_to_115_169<br />I = 0.016 %<br />I_from = 0.007 kA<br />I_to = 0.007 kA<br />",
         "x": [
          2.26306049,
          2.71375418,
          3.16444787
         ],
         "y": [
          -2.786883,
          -2.58612186,
          -2.38536072
         ],
         "type": "scatter"
        },
        {
         "hoverinfo": "text",
         "legendgroup": "lines",
         "line": {
          "color": "rgb(0.0,0.0,127.5)",
          "dash": "solid",
          "width": 2
         },
         "mode": "lines",
         "name": "lines",
         "showlegend": false,
         "text": "Line_12_to_117_170<br />I = 0.223 %<br />I_from = 0.088 kA<br />I_to = 0.093 kA<br />",
         "x": [
          -2.45211659,
          -2.984664565,
          -3.51721254
         ],
         "y": [
          1.18877693,
          1.48309183,
          1.77740673
         ],
         "type": "scatter"
        },
        {
         "hoverinfo": "text",
         "legendgroup": "lines",
         "line": {
          "color": "rgb(0.0,0.0,127.5)",
          "dash": "solid",
          "width": 2
         },
         "mode": "lines",
         "name": "lines",
         "showlegend": false,
         "text": "Line_75_to_118_171<br />I = 0.257 %<br />I_from = 0.104 kA<br />I_to = 0.107 kA<br />",
         "x": [
          -2.56996748,
          -2.357874155,
          -2.14578083
         ],
         "y": [
          -7.30394279,
          -7.925320984999999,
          -8.54669918
         ],
         "type": "scatter"
        },
        {
         "hoverinfo": "text",
         "legendgroup": "lines",
         "line": {
          "color": "rgb(0.0,0.0,127.5)",
          "dash": "solid",
          "width": 2
         },
         "mode": "lines",
         "name": "lines",
         "showlegend": false,
         "text": "Line_76_to_118_172<br />I = 0.144 %<br />I_from = 0.059 kA<br />I_to = 0.06 kA<br />",
         "x": [
          -3.09464675,
          -2.62021379,
          -2.14578083
         ],
         "y": [
          -8.59502685,
          -8.570863015,
          -8.54669918
         ],
         "type": "scatter"
        },
        {
         "hoverinfo": "text",
         "legendgroup": "lines",
         "marker": {
          "color": "rgb(128, 128, 128)",
          "size": 1,
          "symbol": "circle"
         },
         "mode": "markers",
         "name": "edge_center",
         "showlegend": false,
         "text": [
          "Line_1_to_2_0<br />I = 0.19 %<br />I_from = 0.079 kA<br />I_to = 0.072 kA<br />",
          "Line_1_to_3_1<br />I = 0.447 %<br />I_from = 0.185 kA<br />I_to = 0.183 kA<br />",
          "Line_4_to_5_2<br />I = 1.08 %<br />I_from = 0.447 kA<br />I_to = 0.447 kA<br />",
          "Line_3_to_5_3<br />I = 0.727 %<br />I_from = 0.301 kA<br />I_to = 0.299 kA<br />",
          "Line_5_to_6_4<br />I = 0.894 %<br />I_from = 0.37 kA<br />I_to = 0.37 kA<br />",
          "Line_6_to_7_5<br />I = 0.366 %<br />I_from = 0.152 kA<br />I_to = 0.151 kA<br />",
          "Line_8_to_9_6<br />I = 4.475 %<br />I_from = 0.741 kA<br />I_to = 0.716 kA<br />",
          "Line_9_to_10_7<br />I = 4.357 %<br />I_from = 0.716 kA<br />I_to = 0.722 kA<br />",
          "Line_4_to_11_8<br />I = 0.651 %<br />I_from = 0.269 kA<br />I_to = 0.269 kA<br />",
          "Line_5_to_11_9<br />I = 0.78 %<br />I_from = 0.323 kA<br />I_to = 0.323 kA<br />",
          "Line_11_to_12_10<br />I = 0.504 %<br />I_from = 0.209 kA<br />I_to = 0.207 kA<br />",
          "Line_2_to_12_11<br />I = 0.396 %<br />I_from = 0.164 kA<br />I_to = 0.161 kA<br />",
          "Line_3_to_12_12<br />I = 0.165 %<br />I_from = 0.068 kA<br />I_to = 0.056 kA<br />",
          "Line_7_to_12_13<br />I = 0.181 %<br />I_from = 0.075 kA<br />I_to = 0.074 kA<br />",
          "Line_11_to_13_14<br />I = 0.385 %<br />I_from = 0.157 kA<br />I_to = 0.159 kA<br />",
          "Line_12_to_14_15<br />I = 0.193 %<br />I_from = 0.078 kA<br />I_to = 0.08 kA<br />",
          "Line_13_to_15_16<br />I = 0.041 %<br />I_from = 0.017 kA<br />I_to = 0.009 kA<br />",
          "Line_14_to_15_17<br />I = 0.093 %<br />I_from = 0.023 kA<br />I_to = 0.038 kA<br />",
          "Line_12_to_16_18<br />I = 0.101 %<br />I_from = 0.037 kA<br />I_to = 0.042 kA<br />",
          "Line_15_to_17_19<br />I = 1.111 %<br />I_from = 0.46 kA<br />I_to = 0.456 kA<br />",
          "Line_16_to_17_20<br />I = 0.183 %<br />I_from = 0.076 kA<br />I_to = 0.074 kA<br />",
          "Line_17_to_18_21<br />I = 0.857 %<br />I_from = 0.353 kA<br />I_to = 0.355 kA<br />",
          "Line_18_to_19_22<br />I = 0.274 %<br />I_from = 0.111 kA<br />I_to = 0.114 kA<br />",
          "Line_19_to_20_23<br />I = 0.141 %<br />I_from = 0.052 kA<br />I_to = 0.058 kA<br />",
          "Line_15_to_19_24<br />I = 0.211 %<br />I_from = 0.084 kA<br />I_to = 0.088 kA<br />",
          "Line_20_to_21_25<br />I = 0.309 %<br />I_from = 0.126 kA<br />I_to = 0.128 kA<br />",
          "Line_21_to_22_26<br />I = 0.45 %<br />I_from = 0.186 kA<br />I_to = 0.186 kA<br />",
          "Line_22_to_23_27<br />I = 0.557 %<br />I_from = 0.231 kA<br />I_to = 0.229 kA<br />",
          "Line_23_to_24_28<br />I = 0.124 %<br />I_from = 0.038 kA<br />I_to = 0.051 kA<br />",
          "Line_23_to_25_29<br />I = 1.647 %<br />I_from = 0.682 kA<br />I_to = 0.677 kA<br />",
          "Line_25_to_27_30<br />I = 1.428 %<br />I_from = 0.583 kA<br />I_to = 0.592 kA<br />",
          "Line_27_to_28_31<br />I = 0.341 %<br />I_from = 0.141 kA<br />I_to = 0.141 kA<br />",
          "Line_28_to_29_32<br />I = 0.176 %<br />I_from = 0.073 kA<br />I_to = 0.07 kA<br />",
          "Line_8_to_30_33<br />I = 1.082 %<br />I_from = 0.131 kA<br />I_to = 0.179 kA<br />",
          "Line_26_to_30_34<br />I = 2.299 %<br />I_from = 0.372 kA<br />I_to = 0.381 kA<br />",
          "Line_17_to_31_35<br />I = 0.218 %<br />I_from = 0.08 kA<br />I_to = 0.09 kA<br />",
          "Line_29_to_31_36<br />I = 0.127 %<br />I_from = 0.053 kA<br />I_to = 0.05 kA<br />",
          "Line_23_to_32_37<br />I = 0.945 %<br />I_from = 0.39 kA<br />I_to = 0.391 kA<br />",
          "Line_31_to_32_38<br />I = 0.345 %<br />I_from = 0.139 kA<br />I_to = 0.143 kA<br />",
          "Line_27_to_32_39<br />I = 0.134 %<br />I_from = 0.054 kA<br />I_to = 0.055 kA<br />",
          "Line_15_to_33_40<br />I = 0.089 %<br />I_from = 0.037 kA<br />I_to = 0.032 kA<br />",
          "Line_19_to_34_41<br />I = 0.116 %<br />I_from = 0.048 kA<br />I_to = 0.025 kA<br />",
          "Line_35_to_36_42<br />I = 0.045 %<br />I_from = 0.018 kA<br />I_to = 0.019 kA<br />",
          "Line_35_to_37_43<br />I = 0.374 %<br />I_from = 0.155 kA<br />I_to = 0.153 kA<br />",
          "Line_33_to_37_44<br />I = 0.197 %<br />I_from = 0.082 kA<br />I_to = 0.074 kA<br />",
          "Line_34_to_36_45<br />I = 0.315 %<br />I_from = 0.13 kA<br />I_to = 0.131 kA<br />",
          "Line_34_to_37_46<br />I = 1.069 %<br />I_from = 0.443 kA<br />I_to = 0.441 kA<br />",
          "Line_37_to_39_47<br />I = 0.56 %<br />I_from = 0.232 kA<br />I_to = 0.232 kA<br />",
          "Line_37_to_40_48<br />I = 0.449 %<br />I_from = 0.186 kA<br />I_to = 0.185 kA<br />",
          "Line_30_to_38_49<br />I = 0.882 %<br />I_from = 0.112 kA<br />I_to = 0.146 kA<br />",
          "Line_39_to_40_50<br />I = 0.293 %<br />I_from = 0.121 kA<br />I_to = 0.119 kA<br />",
          "Line_40_to_41_51<br />I = 0.161 %<br />I_from = 0.066 kA<br />I_to = 0.067 kA<br />",
          "Line_40_to_42_52<br />I = 0.142 %<br />I_from = 0.059 kA<br />I_to = 0.052 kA<br />",
          "Line_41_to_42_53<br />I = 0.241 %<br />I_from = 0.1 kA<br />I_to = 0.096 kA<br />",
          "Line_43_to_44_54<br />I = 0.178 %<br />I_from = 0.072 kA<br />I_to = 0.074 kA<br />",
          "Line_34_to_43_55<br />I = 0.061 %<br />I_from = 0.009 kA<br />I_to = 0.025 kA<br />",
          "Line_44_to_45_56<br />I = 0.346 %<br />I_from = 0.142 kA<br />I_to = 0.143 kA<br />",
          "Line_45_to_46_57<br />I = 0.372 %<br />I_from = 0.154 kA<br />I_to = 0.153 kA<br />",
          "Line_46_to_47_58<br />I = 0.308 %<br />I_from = 0.128 kA<br />I_to = 0.127 kA<br />",
          "Line_46_to_48_59<br />I = 0.162 %<br />I_from = 0.067 kA<br />I_to = 0.063 kA<br />",
          "Line_47_to_49_60<br />I = 0.153 %<br />I_from = 0.063 kA<br />I_to = 0.059 kA<br />",
          "Line_42_to_49_61<br />I = 0.672 %<br />I_from = 0.277 kA<br />I_to = 0.278 kA<br />",
          "Line_42_to_49_62<br />I = 0.672 %<br />I_from = 0.277 kA<br />I_to = 0.278 kA<br />",
          "Line_45_to_49_63<br />I = 0.512 %<br />I_from = 0.212 kA<br />I_to = 0.211 kA<br />",
          "Line_48_to_49_64<br />I = 0.351 %<br />I_from = 0.145 kA<br />I_to = 0.146 kA<br />",
          "Line_49_to_50_65<br />I = 0.533 %<br />I_from = 0.219 kA<br />I_to = 0.221 kA<br />",
          "Line_49_to_51_66<br />I = 0.645 %<br />I_from = 0.263 kA<br />I_to = 0.267 kA<br />",
          "Line_51_to_52_67<br />I = 0.247 %<br />I_from = 0.1 kA<br />I_to = 0.102 kA<br />",
          "Line_52_to_53_68<br />I = 0.079 %<br />I_from = 0.021 kA<br />I_to = 0.033 kA<br />",
          "Line_53_to_54_69<br />I = 0.051 %<br />I_from = 0.021 kA<br />I_to = 0.009 kA<br />",
          "Line_49_to_54_70<br />I = 0.402 %<br />I_from = 0.155 kA<br />I_to = 0.167 kA<br />",
          "Line_49_to_54_71<br />I = 0.394 %<br />I_from = 0.152 kA<br />I_to = 0.163 kA<br />",
          "Line_54_to_55_72<br />I = 0.09 %<br />I_from = 0.035 kA<br />I_to = 0.037 kA<br />",
          "Line_54_to_56_73<br />I = 0.251 %<br />I_from = 0.104 kA<br />I_to = 0.104 kA<br />",
          "Line_55_to_56_74<br />I = 0.244 %<br />I_from = 0.101 kA<br />I_to = 0.101 kA<br />",
          "Line_56_to_57_75<br />I = 0.248 %<br />I_from = 0.103 kA<br />I_to = 0.099 kA<br />",
          "Line_50_to_57_76<br />I = 0.366 %<br />I_from = 0.148 kA<br />I_to = 0.152 kA<br />",
          "Line_56_to_58_77<br />I = 0.093 %<br />I_from = 0.039 kA<br />I_to = 0.035 kA<br />",
          "Line_51_to_58_78<br />I = 0.214 %<br />I_from = 0.087 kA<br />I_to = 0.089 kA<br />",
          "Line_54_to_59_79<br />I = 0.312 %<br />I_from = 0.129 kA<br />I_to = 0.124 kA<br />",
          "Line_56_to_59_80<br />I = 0.284 %<br />I_from = 0.118 kA<br />I_to = 0.115 kA<br />",
          "Line_56_to_59_81<br />I = 0.297 %<br />I_from = 0.123 kA<br />I_to = 0.121 kA<br />",
          "Line_55_to_59_82<br />I = 0.359 %<br />I_from = 0.149 kA<br />I_to = 0.144 kA<br />",
          "Line_59_to_60_83<br />I = 0.434 %<br />I_from = 0.178 kA<br />I_to = 0.18 kA<br />",
          "Line_59_to_61_84<br />I = 0.521 %<br />I_from = 0.214 kA<br />I_to = 0.216 kA<br />",
          "Line_60_to_61_85<br />I = 1.137 %<br />I_from = 0.471 kA<br />I_to = 0.471 kA<br />",
          "Line_60_to_62_86<br />I = 0.118 %<br />I_from = 0.049 kA<br />I_to = 0.045 kA<br />",
          "Line_61_to_62_87<br />I = 0.304 %<br />I_from = 0.126 kA<br />I_to = 0.124 kA<br />",
          "Line_63_to_64_88<br />I = 1.69 %<br />I_from = 0.28 kA<br />I_to = 0.267 kA<br />",
          "Line_38_to_65_89<br />I = 1.989 %<br />I_from = 0.33 kA<br />I_to = 0.306 kA<br />",
          "Line_64_to_65_90<br />I = 1.944 %<br />I_from = 0.322 kA<br />I_to = 0.304 kA<br />",
          "Line_49_to_66_91<br />I = 1.283 %<br />I_from = 0.531 kA<br />I_to = 0.531 kA<br />",
          "Line_49_to_66_92<br />I = 1.283 %<br />I_from = 0.531 kA<br />I_to = 0.531 kA<br />",
          "Line_62_to_66_93<br />I = 0.39 %<br />I_from = 0.162 kA<br />I_to = 0.154 kA<br />",
          "Line_62_to_67_94<br />I = 0.258 %<br />I_from = 0.107 kA<br />I_to = 0.102 kA<br />",
          "Line_66_to_67_95<br />I = 0.534 %<br />I_from = 0.218 kA<br />I_to = 0.221 kA<br />",
          "Line_47_to_69_96<br />I = 0.551 %<br />I_from = 0.223 kA<br />I_to = 0.228 kA<br />",
          "Line_49_to_69_97<br />I = 0.46 %<br />I_from = 0.183 kA<br />I_to = 0.191 kA<br />",
          "Line_69_to_70_98<br />I = 1.025 %<br />I_from = 0.416 kA<br />I_to = 0.424 kA<br />",
          "Line_24_to_70_99<br />I = 0.096 %<br />I_from = 0.03 kA<br />I_to = 0.04 kA<br />",
          "Line_70_to_71_100<br />I = 0.215 %<br />I_from = 0.089 kA<br />I_to = 0.087 kA<br />",
          "Line_24_to_72_101<br />I = 0.084 %<br />I_from = 0.015 kA<br />I_to = 0.035 kA<br />",
          "Line_71_to_72_102<br />I = 0.115 %<br />I_from = 0.046 kA<br />I_to = 0.048 kA<br />",
          "Line_71_to_73_103<br />I = 0.126 %<br />I_from = 0.052 kA<br />I_to = 0.048 kA<br />",
          "Line_70_to_74_104<br />I = 0.22 %<br />I_from = 0.081 kA<br />I_to = 0.091 kA<br />",
          "Line_70_to_75_105<br />I = 0.126 %<br />I_from = 0.038 kA<br />I_to = 0.052 kA<br />",
          "Line_69_to_75_106<br />I = 1.008 %<br />I_from = 0.407 kA<br />I_to = 0.418 kA<br />",
          "Line_74_to_75_107<br />I = 0.603 %<br />I_from = 0.25 kA<br />I_to = 0.249 kA<br />",
          "Line_76_to_77_108<br />I = 0.589 %<br />I_from = 0.244 kA<br />I_to = 0.24 kA<br />",
          "Line_69_to_77_109<br />I = 0.56 %<br />I_from = 0.222 kA<br />I_to = 0.232 kA<br />",
          "Line_75_to_77_110<br />I = 0.343 %<br />I_from = 0.142 kA<br />I_to = 0.138 kA<br />",
          "Line_77_to_78_111<br />I = 0.467 %<br />I_from = 0.193 kA<br />I_to = 0.194 kA<br />",
          "Line_78_to_79_112<br />I = 0.315 %<br />I_from = 0.13 kA<br />I_to = 0.129 kA<br />",
          "Line_77_to_80_113<br />I = 1.032 %<br />I_from = 0.427 kA<br />I_to = 0.42 kA<br />",
          "Line_77_to_80_114<br />I = 0.487 %<br />I_from = 0.202 kA<br />I_to = 0.198 kA<br />",
          "Line_79_to_80_115<br />I = 0.708 %<br />I_from = 0.293 kA<br />I_to = 0.29 kA<br />",
          "Line_77_to_82_116<br />I = 0.259 %<br />I_from = 0.074 kA<br />I_to = 0.107 kA<br />",
          "Line_82_to_83_117<br />I = 0.561 %<br />I_from = 0.225 kA<br />I_to = 0.232 kA<br />",
          "Line_83_to_84_118<br />I = 0.309 %<br />I_from = 0.122 kA<br />I_to = 0.128 kA<br />",
          "Line_83_to_85_119<br />I = 0.465 %<br />I_from = 0.189 kA<br />I_to = 0.193 kA<br />",
          "Line_84_to_85_120<br />I = 0.389 %<br />I_from = 0.16 kA<br />I_to = 0.161 kA<br />",
          "Line_85_to_86_121<br />I = 0.182 %<br />I_from = 0.076 kA<br />I_to = 0.073 kA<br />",
          "Line_85_to_88_122<br />I = 0.526 %<br />I_from = 0.216 kA<br />I_to = 0.218 kA<br />",
          "Line_85_to_89_123<br />I = 0.73 %<br />I_from = 0.302 kA<br />I_to = 0.302 kA<br />",
          "Line_88_to_89_124<br />I = 1.012 %<br />I_from = 0.419 kA<br />I_to = 0.419 kA<br />",
          "Line_89_to_90_125<br />I = 0.587 %<br />I_from = 0.243 kA<br />I_to = 0.241 kA<br />",
          "Line_89_to_90_126<br />I = 1.115 %<br />I_from = 0.462 kA<br />I_to = 0.459 kA<br />",
          "Line_90_to_91_127<br />I = 0.068 %<br />I_from = 0.02 kA<br />I_to = 0.028 kA<br />",
          "Line_89_to_92_128<br />I = 2.026 %<br />I_from = 0.839 kA<br />I_to = 0.838 kA<br />",
          "Line_89_to_92_129<br />I = 0.641 %<br />I_from = 0.266 kA<br />I_to = 0.264 kA<br />",
          "Line_91_to_92_130<br />I = 0.112 %<br />I_from = 0.046 kA<br />I_to = 0.039 kA<br />",
          "Line_92_to_93_131<br />I = 0.6 %<br />I_from = 0.248 kA<br />I_to = 0.247 kA<br />",
          "Line_92_to_94_132<br />I = 0.555 %<br />I_from = 0.23 kA<br />I_to = 0.225 kA<br />",
          "Line_93_to_94_133<br />I = 0.5 %<br />I_from = 0.207 kA<br />I_to = 0.204 kA<br />",
          "Line_94_to_95_134<br />I = 0.429 %<br />I_from = 0.177 kA<br />I_to = 0.178 kA<br />",
          "Line_80_to_96_135<br />I = 0.314 %<br />I_from = 0.114 kA<br />I_to = 0.13 kA<br />",
          "Line_82_to_96_136<br />I = 0.12 %<br />I_from = 0.05 kA<br />I_to = 0.041 kA<br />",
          "Line_94_to_96_137<br />I = 0.225 %<br />I_from = 0.093 kA<br />I_to = 0.089 kA<br />",
          "Line_80_to_97_138<br />I = 0.377 %<br />I_from = 0.148 kA<br />I_to = 0.156 kA<br />",
          "Line_80_to_98_139<br />I = 0.301 %<br />I_from = 0.121 kA<br />I_to = 0.125 kA<br />",
          "Line_80_to_99_140<br />I = 0.233 %<br />I_from = 0.085 kA<br />I_to = 0.096 kA<br />",
          "Line_92_to_100_141<br />I = 0.363 %<br />I_from = 0.15 kA<br />I_to = 0.141 kA<br />",
          "Line_94_to_100_142<br />I = 0.518 %<br />I_from = 0.214 kA<br />I_to = 0.189 kA<br />",
          "Line_95_to_96_143<br />I = 0.224 %<br />I_from = 0.093 kA<br />I_to = 0.087 kA<br />",
          "Line_96_to_97_144<br />I = 0.234 %<br />I_from = 0.097 kA<br />I_to = 0.088 kA<br />",
          "Line_98_to_100_145<br />I = 0.09 %<br />I_from = 0.024 kA<br />I_to = 0.037 kA<br />",
          "Line_99_to_100_146<br />I = 0.231 %<br />I_from = 0.096 kA<br />I_to = 0.094 kA<br />",
          "Line_100_to_101_147<br />I = 0.309 %<br />I_from = 0.117 kA<br />I_to = 0.128 kA<br />",
          "Line_92_to_102_148<br />I = 0.464 %<br />I_from = 0.192 kA<br />I_to = 0.191 kA<br />",
          "Line_101_to_102_149<br />I = 0.418 %<br />I_from = 0.17 kA<br />I_to = 0.173 kA<br />",
          "Line_100_to_103_150<br />I = 1.229 %<br />I_from = 0.509 kA<br />I_to = 0.505 kA<br />",
          "Line_100_to_104_151<br />I = 0.578 %<br />I_from = 0.235 kA<br />I_to = 0.239 kA<br />",
          "Line_103_to_104_152<br />I = 0.37 %<br />I_from = 0.146 kA<br />I_to = 0.153 kA<br />",
          "Line_103_to_105_153<br />I = 0.464 %<br />I_from = 0.187 kA<br />I_to = 0.192 kA<br />",
          "Line_100_to_106_154<br />I = 0.616 %<br />I_from = 0.251 kA<br />I_to = 0.255 kA<br />",
          "Line_104_to_105_155<br />I = 0.507 %<br />I_from = 0.21 kA<br />I_to = 0.21 kA<br />",
          "Line_105_to_106_156<br />I = 0.108 %<br />I_from = 0.042 kA<br />I_to = 0.045 kA<br />",
          "Line_105_to_107_157<br />I = 0.281 %<br />I_from = 0.116 kA<br />I_to = 0.116 kA<br />",
          "Line_105_to_108_158<br />I = 0.277 %<br />I_from = 0.115 kA<br />I_to = 0.112 kA<br />",
          "Line_106_to_107_159<br />I = 0.255 %<br />I_from = 0.106 kA<br />I_to = 0.104 kA<br />",
          "Line_108_to_109_160<br />I = 0.255 %<br />I_from = 0.105 kA<br />I_to = 0.104 kA<br />",
          "Line_103_to_110_161<br />I = 0.617 %<br />I_from = 0.253 kA<br />I_to = 0.256 kA<br />",
          "Line_109_to_110_162<br />I = 0.2 %<br />I_from = 0.083 kA<br />I_to = 0.077 kA<br />",
          "Line_110_to_111_163<br />I = 0.372 %<br />I_from = 0.154 kA<br />I_to = 0.154 kA<br />",
          "Line_110_to_112_164<br />I = 0.788 %<br />I_from = 0.326 kA<br />I_to = 0.316 kA<br />",
          "Line_17_to_113_165<br />I = 0.071 %<br />I_from = 0.026 kA<br />I_to = 0.029 kA<br />",
          "Line_32_to_113_166<br />I = 0.19 %<br />I_from = 0.079 kA<br />I_to = 0.058 kA<br />",
          "Line_32_to_114_167<br />I = 0.105 %<br />I_from = 0.042 kA<br />I_to = 0.044 kA<br />",
          "Line_27_to_115_168<br />I = 0.227 %<br />I_from = 0.092 kA<br />I_to = 0.094 kA<br />",
          "Line_114_to_115_169<br />I = 0.016 %<br />I_from = 0.007 kA<br />I_to = 0.007 kA<br />",
          "Line_12_to_117_170<br />I = 0.223 %<br />I_from = 0.088 kA<br />I_to = 0.093 kA<br />",
          "Line_75_to_118_171<br />I = 0.257 %<br />I_from = 0.104 kA<br />I_to = 0.107 kA<br />",
          "Line_76_to_118_172<br />I = 0.144 %<br />I_from = 0.059 kA<br />I_to = 0.06 kA<br />"
         ],
         "x": [
          -2.6060947800000003
         ],
         "y": [
          2.5332603049999998
         ],
         "type": "scatter"
        },
        {
         "hoverinfo": "text",
         "legendgroup": "2W transformers",
         "line": {
          "color": "rgb(0.0,0.0,168.4090909090909)",
          "width": 3.0
         },
         "mode": "lines",
         "name": "2W transformers",
         "showlegend": true,
         "text": "Trafo_8_to_5_0<br />I = 3.591 %<br />I_hv = 0.595 kA<br />I_lv = 1.465 kA<br />",
         "x": [
          -0.67929979,
          -0.821291365,
          -0.96328294
         ],
         "y": [
          -0.58132104,
          0.056704435,
          0.69472991
         ],
         "type": "scatter"
        },
        {
         "hoverinfo": "text",
         "legendgroup": "2W transformers",
         "line": {
          "color": "rgb(0.0,0.0,136.5909090909091)",
          "width": 3.0
         },
         "mode": "lines",
         "name": "2W transformers",
         "showlegend": false,
         "text": "Trafo_26_to_25_1<br />I = 1.009 %<br />I_hv = 0.167 kA<br />I_lv = 0.401 kA<br />",
         "x": [
          -0.1984213,
          0.38234776,
          0.96311682
         ],
         "y": [
          -2.33750455,
          -2.65928405,
          -2.98106355
         ],
         "type": "scatter"
        },
        {
         "hoverinfo": "text",
         "legendgroup": "2W transformers",
         "line": {
          "color": "rgb(0.0,0.0,154.77272727272728)",
          "width": 3.0
         },
         "mode": "lines",
         "name": "2W transformers",
         "showlegend": false,
         "text": "Trafo_30_to_17_2<br />I = 2.562 %<br />I_hv = 0.424 kA<br />I_lv = 1.019 kA<br />",
         "x": [
          -1.23743145,
          -1.14318523,
          -1.04893901
         ],
         "y": [
          -2.0300348,
          -1.56059016,
          -1.09114552
         ],
         "type": "scatter"
        },
        {
         "hoverinfo": "text",
         "legendgroup": "2W transformers",
         "line": {
          "color": "rgb(0.0,0.0,159.3181818181818)",
          "width": 3.0
         },
         "mode": "lines",
         "name": "2W transformers",
         "showlegend": false,
         "text": "Trafo_38_to_37_3<br />I = 2.819 %<br />I_hv = 0.467 kA<br />I_lv = 1.092 kA<br />",
         "x": [
          -1.94675077,
          -2.451344065,
          -2.95593736
         ],
         "y": [
          -3.1510525,
          -2.93118509,
          -2.71131768
         ],
         "type": "scatter"
        },
        {
         "hoverinfo": "text",
         "legendgroup": "2W transformers",
         "line": {
          "color": "rgb(0.0,0.0,145.6818181818182)",
          "width": 3.0
         },
         "mode": "lines",
         "name": "2W transformers",
         "showlegend": false,
         "text": "Trafo_63_to_59_4<br />I = 1.69 %<br />I_hv = 0.28 kA<br />I_lv = 0.672 kA<br />",
         "x": [
          0.59774338,
          0.62684049,
          0.6559376
         ],
         "y": [
          -5.38684982,
          -6.03676455,
          -6.68667928
         ],
         "type": "scatter"
        },
        {
         "hoverinfo": "text",
         "legendgroup": "2W transformers",
         "line": {
          "color": "rgb(0.0,0.0,127.5)",
          "width": 3.0
         },
         "mode": "lines",
         "name": "2W transformers",
         "showlegend": false,
         "text": "Trafo_64_to_61_5<br />I = 0.335 %<br />I_hv = 0.056 kA<br />I_lv = 0.137 kA<br />",
         "x": [
          -0.62517051,
          0.08391181999999997,
          0.79299415
         ],
         "y": [
          -4.77066233,
          -5.21003925,
          -5.64941617
         ],
         "type": "scatter"
        },
        {
         "hoverinfo": "text",
         "legendgroup": "2W transformers",
         "line": {
          "color": "rgb(0.0,0.0,136.5909090909091)",
          "width": 3.0
         },
         "mode": "lines",
         "name": "2W transformers",
         "showlegend": false,
         "text": "Trafo_65_to_66_6<br />I = 1.018 %<br />I_hv = 0.169 kA<br />I_lv = 0.394 kA<br />",
         "x": [
          -1.95024357,
          -1.57905244,
          -1.20786131
         ],
         "y": [
          -4.51148309,
          -4.934170484999999,
          -5.35685788
         ],
         "type": "scatter"
        },
        {
         "hoverinfo": "text",
         "legendgroup": "2W transformers",
         "line": {
          "color": "rgb(0.0,0.0,136.5909090909091)",
          "width": 3.0
         },
         "mode": "lines",
         "name": "2W transformers",
         "showlegend": false,
         "text": "Trafo_65_to_68_7<br />I = 0.832 %<br />I_hv = 0.138 kA<br />I_lv = 0.115 kA<br />",
         "x": [
          -1.95024357,
          -2.5656522500000003,
          -3.18106093
         ],
         "y": [
          -4.51148309,
          -4.981295319999999,
          -5.45110755
         ],
         "type": "scatter"
        },
        {
         "hoverinfo": "text",
         "legendgroup": "2W transformers",
         "line": {
          "color": "rgb(0.0,0.0,141.13636363636363)",
          "width": 3.0
         },
         "mode": "lines",
         "name": "2W transformers",
         "showlegend": false,
         "text": "Trafo_68_to_69_8<br />I = 1.451 %<br />I_hv = 0.515 kA<br />I_lv = 0.562 kA<br />",
         "x": [
          -3.18106093,
          -2.916163525,
          -2.65126612
         ],
         "y": [
          -5.45110755,
          -5.940777615,
          -6.43044768
         ],
         "type": "scatter"
        },
        {
         "hoverinfo": "text",
         "legendgroup": "2W transformers",
         "line": {
          "color": "rgb(0.0,0.0,141.13636363636363)",
          "width": 3.0
         },
         "mode": "lines",
         "name": "2W transformers",
         "showlegend": false,
         "text": "Trafo_81_to_68_9<br />I = 1.245 %<br />I_hv = 0.098 kA<br />I_lv = 0.442 kA<br />",
         "x": [
          -4.4266116,
          -3.803836265,
          -3.18106093
         ],
         "y": [
          -5.94940611,
          -5.70025683,
          -5.45110755
         ],
         "type": "scatter"
        },
        {
         "hoverinfo": "text",
         "legendgroup": "2W transformers",
         "line": {
          "color": "rgb(0.0,0.0,132.04545454545453)",
          "width": 3.0
         },
         "mode": "lines",
         "name": "2W transformers",
         "showlegend": false,
         "text": "Trafo_81_to_80_10<br />I = 0.589 %<br />I_hv = 0.098 kA<br />I_lv = 0.228 kA<br />",
         "x": [
          -4.4266116,
          -4.640329315000001,
          -4.85404703
         ],
         "y": [
          -5.94940611,
          -6.472047715,
          -6.99468932
         ],
         "type": "scatter"
        },
        {
         "hoverinfo": "text",
         "legendgroup": "2W transformers",
         "line": {
          "color": "rgb(0.0,0.0,127.5)",
          "width": 3.0
         },
         "mode": "lines",
         "name": "2W transformers",
         "showlegend": false,
         "text": "Trafo_87_to_86_11<br />I = 0.176 %<br />I_hv = 0.063 kA<br />I_lv = 0.055 kA<br />",
         "x": [
          -4.47545851,
          -4.557672135000001,
          -4.63988576
         ],
         "y": [
          -13.00524532,
          -12.458414605,
          -11.91158389
         ],
         "type": "scatter"
        },
        {
         "hoverinfo": "text",
         "legendgroup": "2W transformers",
         "line": {
          "color": "rgb(0.0,0.0,159.3181818181818)",
          "width": 3.0
         },
         "mode": "lines",
         "name": "2W transformers",
         "showlegend": false,
         "text": "Trafo_116_to_68_12<br />I = 2.833 %<br />I_hv = 0.469 kA<br />I_lv = 0.962 kA<br />",
         "x": [
          -4.1528539,
          -3.666957415,
          -3.18106093
         ],
         "y": [
          -4.93489334,
          -5.193000445,
          -5.45110755
         ],
         "type": "scatter"
        },
        {
         "hoverinfo": "text",
         "legendgroup": "2W transformers",
         "marker": {
          "color": "rgb(0.0,0.0,159.3181818181818)",
          "size": 1,
          "symbol": "circle"
         },
         "mode": "markers",
         "name": "edge_center",
         "showlegend": false,
         "text": [
          "Trafo_8_to_5_0<br />I = 3.591 %<br />I_hv = 0.595 kA<br />I_lv = 1.465 kA<br />",
          "Trafo_26_to_25_1<br />I = 1.009 %<br />I_hv = 0.167 kA<br />I_lv = 0.401 kA<br />",
          "Trafo_30_to_17_2<br />I = 2.562 %<br />I_hv = 0.424 kA<br />I_lv = 1.019 kA<br />",
          "Trafo_38_to_37_3<br />I = 2.819 %<br />I_hv = 0.467 kA<br />I_lv = 1.092 kA<br />",
          "Trafo_63_to_59_4<br />I = 1.69 %<br />I_hv = 0.28 kA<br />I_lv = 0.672 kA<br />",
          "Trafo_64_to_61_5<br />I = 0.335 %<br />I_hv = 0.056 kA<br />I_lv = 0.137 kA<br />",
          "Trafo_65_to_66_6<br />I = 1.018 %<br />I_hv = 0.169 kA<br />I_lv = 0.394 kA<br />",
          "Trafo_65_to_68_7<br />I = 0.832 %<br />I_hv = 0.138 kA<br />I_lv = 0.115 kA<br />",
          "Trafo_68_to_69_8<br />I = 1.451 %<br />I_hv = 0.515 kA<br />I_lv = 0.562 kA<br />",
          "Trafo_81_to_68_9<br />I = 1.245 %<br />I_hv = 0.098 kA<br />I_lv = 0.442 kA<br />",
          "Trafo_81_to_80_10<br />I = 0.589 %<br />I_hv = 0.098 kA<br />I_lv = 0.228 kA<br />",
          "Trafo_87_to_86_11<br />I = 0.176 %<br />I_hv = 0.063 kA<br />I_lv = 0.055 kA<br />",
          "Trafo_116_to_68_12<br />I = 2.833 %<br />I_hv = 0.469 kA<br />I_lv = 0.962 kA<br />"
         ],
         "x": [
          -0.821291365
         ],
         "y": [
          0.056704435
         ],
         "type": "scatter"
        },
        {
         "hoverinfo": "text",
         "marker": {
          "color": "rgb(128, 128, 128)",
          "size": 20,
          "symbol": "square"
         },
         "mode": "markers",
         "name": "external_grid",
         "text": [
          69
         ],
         "x": [
          -2.65126612
         ],
         "y": [
          -6.43044768
         ],
         "type": "scatter"
        },
        {
         "hoverinfo": "text",
         "marker": {
          "cmax": 1.1,
          "cmin": 0.9,
          "color": {
           "dtype": "f8",
           "bdata": "j8L1KFyP7j/pibWOphXvP4ePZYdV9+4/Vw4tsp3v7z9otCjjIQjwP69H4XoUru8/3GOgJpOo7z89CtejcD3wP75q/P/Kr/A/zMzMzMzM8D8Dxczg1oXvP61H4XoUru8/0gUptVH87j/Y2kjUknnvPwvXo3A9Cu8/wjjCSBh87z9M7ZL0xNfvP4ZBYOXQIu8/YhBYObTI7j/b6FBC0ZjuP+asQgWumu4/NET+6Qzy7j8gdUmvXuPvP1g5tMh2vu8/pXA9Ctej8D89CtejcD3wP17l0CLb+e4/3EQWBCzF7j/6FxicpdLuP8gBbbZdh+8/iWzn+6nx7j84iUFg5dDuPyPJmqvlEe8/sHJoke187z9/PsQ73l/vP12PwvUoXO8/eUIto4Gz7z/FW/EIEMPuP8dGtnv4Ce8/C9ejcD0K7z/BoPEWR/DuP4brUbgehe8/GAkXGGBE7z+NiOCtH4DvP4xaH50WkO8/FK5H4XoU8D/9X6jtlUbwP53aYm94VPA/ZmZmZmZm8D/j67US9QTwPw+pJznb/+4/pQy+5zG27j9G8UunW2ruP5HC9Shcj+4/D1g5tMh27j+6SQwCK4fuPzGKUZASEO8/6xo8wSW57j+H61G4HoXvP3tXPqoEyO8/1aNwPQrX7z9YDi2yne/vP5R/CWpkAe8/gjfdZc177z8UrkfhehTwP6RwPQrXo/A//7/YjG068D/oYLkCi+rvP4/C9Shcj/A/r3Joke187z9bcEWiOJTvP1yPwvUoXO8/gsDKoUW27z8LLbKd76fuPzK5igGOF+8/th6F61G47j+Aarx0kxjwP2GDnE0DDvA/BikIWskl8D+kcD0K16PwP7fx1gLOdu8/WJPpNSSi7z/mhZwIBYDvP3+o78a9We8/g+tRuB6F7z9OrfJ2xnbvPz0K16NwPfA/PFNzfDqZ7z8TrkfhehTwP4jrUbgehe8/Xo/C9Shc7z+vR+F6FK7vP3blB/SniO8/2tiyQqys7z/at4YE2l7vP8OWwLa9wO8/ne21NLst8D8c0BYAS2DwPylcj8L1KPA/EYPAyqFF8D+sEbAks7nvP8FRMubzpu8/KVyPwvUo8D/gT42XbhLvP+N6FK5H4e4/IGkP7LXB7j8QWDm0yHbuP40DV+k06+4/WK3fhN/x7j+KQWDl0CLvP12PwvUoXO8/NDMzMzMz7z8vsp3vp8bvP7G1+u0Vue4/qtWH/4K47j8UrkfhehTwP5jo4uKRKe8/4FFZ4TnI7j8="
          },
          "colorbar": {
           "thickness": 10,
           "title": {
            "side": "right",
            "text": "Bus Voltage [pu]"
           },
           "x": 1.0
          },
          "colorscale": [
           [
            0.0,
            "rgb(0,0,131)"
           ],
           [
            0.2,
            "rgb(0,60,170)"
           ],
           [
            0.4,
            "rgb(5,255,255)"
           ],
           [
            0.6,
            "rgb(255,255,0)"
           ],
           [
            0.8,
            "rgb(250,0,0)"
           ],
           [
            1.0,
            "rgb(128,0,0)"
           ]
          ],
          "size": 10,
          "symbol": "circle"
         },
         "mode": "markers",
         "name": "buses",
         "text": [
          "1<br />V_m = 0.955 pu<br />V_m = 131.79 kV<br />V_a = 11.474 deg",
          "2<br />V_m = 0.971 pu<br />V_m = 134.052 kV<br />V_a = 12.013 deg",
          "3<br />V_m = 0.968 pu<br />V_m = 133.542 kV<br />V_a = 12.358 deg",
          "4<br />V_m = 0.998 pu<br />V_m = 137.724 kV<br />V_a = 16.077 deg",
          "5<br />V_m = 1.002 pu<br />V_m = 138.274 kV<br />V_a = 16.522 deg",
          "6<br />V_m = 0.99 pu<br />V_m = 136.62 kV<br />V_a = 13.794 deg",
          "7<br />V_m = 0.989 pu<br />V_m = 136.527 kV<br />V_a = 13.349 deg",
          "8<br />V_m = 1.015 pu<br />V_m = 350.175 kV<br />V_a = 21.546 deg",
          "9<br />V_m = 1.043 pu<br />V_m = 359.807 kV<br />V_a = 28.8 deg",
          "10<br />V_m = 1.05 pu<br />V_m = 362.25 kV<br />V_a = 36.381 deg",
          "11<br />V_m = 0.985 pu<br />V_m = 135.942 kV<br />V_a = 13.507 deg",
          "12<br />V_m = 0.99 pu<br />V_m = 136.62 kV<br />V_a = 12.989 deg",
          "13<br />V_m = 0.968 pu<br />V_m = 133.625 kV<br />V_a = 12.129 deg",
          "14<br />V_m = 0.984 pu<br />V_m = 135.735 kV<br />V_a = 12.27 deg",
          "15<br />V_m = 0.97 pu<br />V_m = 133.86 kV<br />V_a = 11.966 deg",
          "16<br />V_m = 0.984 pu<br />V_m = 135.778 kV<br />V_a = 12.685 deg",
          "17<br />V_m = 0.995 pu<br />V_m = 137.322 kV<br />V_a = 14.487 deg",
          "18<br />V_m = 0.973 pu<br />V_m = 134.274 kV<br />V_a = 12.271 deg",
          "19<br />V_m = 0.962 pu<br />V_m = 132.756 kV<br />V_a = 11.802 deg",
          "20<br />V_m = 0.956 pu<br />V_m = 131.949 kV<br />V_a = 12.67 deg",
          "21<br />V_m = 0.956 pu<br />V_m = 131.981 kV<br />V_a = 14.253 deg",
          "22<br />V_m = 0.967 pu<br />V_m = 133.453 kV<br />V_a = 16.807 deg",
          "23<br />V_m = 0.997 pu<br />V_m = 137.518 kV<br />V_a = 21.735 deg",
          "24<br />V_m = 0.992 pu<br />V_m = 136.896 kV<br />V_a = 21.566 deg",
          "25<br />V_m = 1.04 pu<br />V_m = 143.52 kV<br />V_a = 28.789 deg",
          "26<br />V_m = 1.015 pu<br />V_m = 350.175 kV<br />V_a = 30.553 deg",
          "27<br />V_m = 0.968 pu<br />V_m = 133.584 kV<br />V_a = 16.029 deg",
          "28<br />V_m = 0.962 pu<br />V_m = 132.696 kV<br />V_a = 14.314 deg",
          "29<br />V_m = 0.963 pu<br />V_m = 132.923 kV<br />V_a = 13.332 deg",
          "30<br />V_m = 0.985 pu<br />V_m = 339.92 kV<br />V_a = 19.544 deg",
          "31<br />V_m = 0.967 pu<br />V_m = 133.446 kV<br />V_a = 13.453 deg",
          "32<br />V_m = 0.963 pu<br />V_m = 132.894 kV<br />V_a = 15.497 deg",
          "33<br />V_m = 0.971 pu<br />V_m = 133.989 kV<br />V_a = 11.348 deg",
          "34<br />V_m = 0.984 pu<br />V_m = 135.792 kV<br />V_a = 12.008 deg",
          "35<br />V_m = 0.98 pu<br />V_m = 135.302 kV<br />V_a = 11.552 deg",
          "36<br />V_m = 0.98 pu<br />V_m = 135.24 kV<br />V_a = 11.552 deg",
          "37<br />V_m = 0.991 pu<br />V_m = 136.711 kV<br />V_a = 12.463 deg",
          "38<br />V_m = 0.961 pu<br />V_m = 331.652 kV<br />V_a = 17.596 deg",
          "39<br />V_m = 0.97 pu<br />V_m = 133.855 kV<br />V_a = 9.085 deg",
          "40<br />V_m = 0.97 pu<br />V_m = 133.86 kV<br />V_a = 8.01 deg",
          "41<br />V_m = 0.967 pu<br />V_m = 133.423 kV<br />V_a = 7.571 deg",
          "42<br />V_m = 0.985 pu<br />V_m = 135.93 kV<br />V_a = 9.187 deg",
          "43<br />V_m = 0.977 pu<br />V_m = 134.839 kV<br />V_a = 11.97 deg",
          "44<br />V_m = 0.984 pu<br />V_m = 135.846 kV<br />V_a = 14.471 deg",
          "45<br />V_m = 0.986 pu<br />V_m = 136.115 kV<br />V_a = 16.307 deg",
          "46<br />V_m = 1.005 pu<br />V_m = 138.69 kV<br />V_a = 19.097 deg",
          "47<br />V_m = 1.017 pu<br />V_m = 140.378 kV<br />V_a = 21.279 deg",
          "48<br />V_m = 1.021 pu<br />V_m = 140.846 kV<br />V_a = 20.577 deg",
          "49<br />V_m = 1.025 pu<br />V_m = 141.45 kV<br />V_a = 21.59 deg",
          "50<br />V_m = 1.001 pu<br />V_m = 138.167 kV<br />V_a = 19.64 deg",
          "51<br />V_m = 0.969 pu<br />V_m = 133.685 kV<br />V_a = 17.389 deg",
          "52<br />V_m = 0.96 pu<br />V_m = 132.444 kV<br />V_a = 16.671 deg",
          "53<br />V_m = 0.95 pu<br />V_m = 131.167 kV<br />V_a = 16.354 deg",
          "54<br />V_m = 0.955 pu<br />V_m = 131.79 kV<br />V_a = 16.331 deg",
          "55<br />V_m = 0.952 pu<br />V_m = 131.376 kV<br />V_a = 15.999 deg",
          "56<br />V_m = 0.954 pu<br />V_m = 131.652 kV<br />V_a = 16.196 deg",
          "57<br />V_m = 0.971 pu<br />V_m = 133.958 kV<br />V_a = 17.274 deg",
          "58<br />V_m = 0.96 pu<br />V_m = 132.494 kV<br />V_a = 16.587 deg",
          "59<br />V_m = 0.985 pu<br />V_m = 135.93 kV<br />V_a = 20.13 deg",
          "60<br />V_m = 0.993 pu<br />V_m = 137.057 kV<br />V_a = 23.782 deg",
          "61<br />V_m = 0.995 pu<br />V_m = 137.31 kV<br />V_a = 24.668 deg",
          "62<br />V_m = 0.998 pu<br />V_m = 137.724 kV<br />V_a = 24.029 deg",
          "63<br />V_m = 0.969 pu<br />V_m = 334.277 kV<br />V_a = 23.409 deg",
          "64<br />V_m = 0.984 pu<br />V_m = 339.433 kV<br />V_a = 25.12 deg",
          "65<br />V_m = 1.005 pu<br />V_m = 346.725 kV<br />V_a = 28.145 deg",
          "66<br />V_m = 1.04 pu<br />V_m = 143.52 kV<br />V_a = 28.139 deg",
          "67<br />V_m = 1.014 pu<br />V_m = 139.969 kV<br />V_a = 25.456 deg",
          "68<br />V_m = 0.997 pu<br />V_m = 160.578 kV<br />V_a = 27.913 deg",
          "69<br />V_m = 1.035 pu<br />V_m = 142.83 kV<br />V_a = 30.0 deg",
          "70<br />V_m = 0.984 pu<br />V_m = 135.792 kV<br />V_a = 23.125 deg",
          "71<br />V_m = 0.987 pu<br />V_m = 136.184 kV<br />V_a = 22.709 deg",
          "72<br />V_m = 0.98 pu<br />V_m = 135.24 kV<br />V_a = 21.587 deg",
          "73<br />V_m = 0.991 pu<br />V_m = 136.758 kV<br />V_a = 22.498 deg",
          "74<br />V_m = 0.958 pu<br />V_m = 132.204 kV<br />V_a = 22.447 deg",
          "75<br />V_m = 0.972 pu<br />V_m = 134.084 kV<br />V_a = 23.711 deg",
          "76<br />V_m = 0.96 pu<br />V_m = 132.48 kV<br />V_a = 22.762 deg",
          "77<br />V_m = 1.006 pu<br />V_m = 138.828 kV<br />V_a = 27.235 deg",
          "78<br />V_m = 1.003 pu<br />V_m = 138.472 kV<br />V_a = 26.927 deg",
          "79<br />V_m = 1.009 pu<br />V_m = 139.273 kV<br />V_a = 27.219 deg",
          "80<br />V_m = 1.04 pu<br />V_m = 143.52 kV<br />V_a = 29.443 deg",
          "81<br />V_m = 0.983 pu<br />V_m = 339.222 kV<br />V_a = 28.54 deg",
          "82<br />V_m = 0.989 pu<br />V_m = 136.419 kV<br />V_a = 27.742 deg",
          "83<br />V_m = 0.984 pu<br />V_m = 135.844 kV<br />V_a = 28.933 deg",
          "84<br />V_m = 0.98 pu<br />V_m = 135.199 kV<br />V_a = 31.467 deg",
          "85<br />V_m = 0.985 pu<br />V_m = 135.93 kV<br />V_a = 33.021 deg",
          "86<br />V_m = 0.983 pu<br />V_m = 135.688 kV<br />V_a = 31.703 deg",
          "87<br />V_m = 1.015 pu<br />V_m = 163.415 kV<br />V_a = 31.937 deg",
          "88<br />V_m = 0.987 pu<br />V_m = 136.269 kV<br />V_a = 36.155 deg",
          "89<br />V_m = 1.005 pu<br />V_m = 138.69 kV<br />V_a = 40.212 deg",
          "90<br />V_m = 0.985 pu<br />V_m = 135.93 kV<br />V_a = 33.801 deg",
          "91<br />V_m = 0.98 pu<br />V_m = 135.24 kV<br />V_a = 33.813 deg",
          "92<br />V_m = 0.99 pu<br />V_m = 136.62 kV<br />V_a = 34.343 deg",
          "93<br />V_m = 0.985 pu<br />V_m = 135.99 kV<br />V_a = 31.311 deg",
          "94<br />V_m = 0.99 pu<br />V_m = 136.596 kV<br />V_a = 29.144 deg",
          "95<br />V_m = 0.98 pu<br />V_m = 135.285 kV<br />V_a = 28.171 deg",
          "96<br />V_m = 0.992 pu<br />V_m = 136.934 kV<br />V_a = 28.005 deg",
          "97<br />V_m = 1.011 pu<br />V_m = 139.541 kV<br />V_a = 28.374 deg",
          "98<br />V_m = 1.024 pu<br />V_m = 141.244 kV<br />V_a = 27.889 deg",
          "99<br />V_m = 1.01 pu<br />V_m = 139.38 kV<br />V_a = 27.524 deg",
          "100<br />V_m = 1.017 pu<br />V_m = 140.346 kV<br />V_a = 28.518 deg",
          "101<br />V_m = 0.991 pu<br />V_m = 136.816 kV<br />V_a = 30.108 deg",
          "102<br />V_m = 0.989 pu<br />V_m = 136.5 kV<br />V_a = 32.827 deg",
          "103<br />V_m = 1.01 pu<br />V_m = 139.38 kV<br />V_a = 24.777 deg",
          "104<br />V_m = 0.971 pu<br />V_m = 133.998 kV<br />V_a = 22.207 deg",
          "105<br />V_m = 0.965 pu<br />V_m = 133.17 kV<br />V_a = 21.103 deg",
          "106<br />V_m = 0.961 pu<br />V_m = 132.638 kV<br />V_a = 20.843 deg",
          "107<br />V_m = 0.952 pu<br />V_m = 131.376 kV<br />V_a = 18.042 deg",
          "108<br />V_m = 0.966 pu<br />V_m = 133.337 kV<br />V_a = 19.903 deg",
          "109<br />V_m = 0.967 pu<br />V_m = 133.45 kV<br />V_a = 19.45 deg",
          "110<br />V_m = 0.973 pu<br />V_m = 134.274 kV<br />V_a = 18.604 deg",
          "111<br />V_m = 0.98 pu<br />V_m = 135.24 kV<br />V_a = 20.249 deg",
          "112<br />V_m = 0.975 pu<br />V_m = 134.55 kV<br />V_a = 15.504 deg",
          "113<br />V_m = 0.993 pu<br />V_m = 137.034 kV<br />V_a = 14.478 deg",
          "114<br />V_m = 0.96 pu<br />V_m = 132.493 kV<br />V_a = 15.158 deg",
          "115<br />V_m = 0.96 pu<br />V_m = 132.483 kV<br />V_a = 15.149 deg",
          "116<br />V_m = 1.005 pu<br />V_m = 346.725 kV<br />V_a = 27.447 deg",
          "117<br />V_m = 0.974 pu<br />V_m = 134.388 kV<br />V_a = 11.448 deg",
          "118<br />V_m = 0.962 pu<br />V_m = 132.748 kV<br />V_a = 23.23 deg"
         ],
         "x": [
          -2.27537088,
          -2.93681868,
          -1.83443125,
          -0.8886269,
          -0.96328294,
          -0.41097321,
          -1.48364966,
          -0.67929979,
          0.49221033,
          1.5086493,
          -1.80848095,
          -2.45211659,
          -2.53398866,
          -3.08677433,
          -2.32974721,
          -1.4955188,
          -1.04893901,
          -1.83569627,
          -2.67582658,
          -1.27172302,
          0.07347017,
          0.93454664,
          0.30170142,
          -0.27785698,
          0.96311682,
          -0.1984213,
          1.94459585,
          2.4540519,
          1.49724645,
          -1.23743145,
          0.3831112,
          0.90364267,
          -2.98339395,
          -3.61970422,
          -4.33478993,
          -4.7428784,
          -2.95593736,
          -1.94675077,
          -3.64150322,
          -2.80565719,
          -3.15246735,
          -2.27459248,
          -4.18750912,
          -3.59147239,
          -2.62998753,
          -3.13435899,
          -2.31867841,
          -2.02462718,
          -1.7242222,
          -1.15564708,
          -1.21921987,
          -0.74859479,
          0.14590199,
          -0.45740893,
          0.86115058,
          0.3692721,
          -0.38632243,
          -0.09648542,
          0.6559376,
          1.49364944,
          0.79299415,
          0.08346113,
          0.59774338,
          -0.62517051,
          -1.95024357,
          -1.20786131,
          -0.12478603,
          -3.18106093,
          -2.65126612,
          -1.28509904,
          0.07461778,
          1.02371723,
          1.17466303,
          -1.7822189,
          -2.56996748,
          -3.09464675,
          -3.61872536,
          -3.69278355,
          -4.72664335,
          -4.85404703,
          -4.4266116,
          -4.19893048,
          -4.12840608,
          -4.02864203,
          -4.9872677,
          -4.63988576,
          -4.47545851,
          -5.71734893,
          -6.27865017,
          -7.04452166,
          -7.55001055,
          -7.01214558,
          -6.47992241,
          -6.41314867,
          -5.71946375,
          -5.33395953,
          -5.48974954,
          -6.086523,
          -6.21211036,
          -7.06670044,
          -7.66576451,
          -7.98224201,
          -8.2365225,
          -7.96010042,
          -9.08398186,
          -8.10362204,
          -9.06003901,
          -10.22226376,
          -10.43786729,
          -9.35873976,
          -10.44024066,
          -10.04885105,
          0.02108095,
          2.26306049,
          3.16444787,
          -4.1528539,
          -3.51721254,
          -2.14578083
         ],
         "y": [
          2.85434134,
          2.21217927,
          1.70944518,
          1.55327056,
          0.69472991,
          1.76757225,
          2.26204197,
          -0.58132104,
          0.03954497,
          0.75379907,
          1.07834847,
          1.18877693,
          0.28824882,
          0.34071955,
          -0.67947112,
          0.11521821,
          -1.09114552,
          -0.82925163,
          -1.25626968,
          -1.46280066,
          -2.15727925,
          -3.48951337,
          -3.79981466,
          -5.1101841,
          -2.98106355,
          -2.33750455,
          -2.22804448,
          -1.22197553,
          -0.72536644,
          -2.0300348,
          -1.27513726,
          -2.47159436,
          -1.64917272,
          -2.01728579,
          -2.2080206,
          -1.3946056,
          -2.71131768,
          -3.1510525,
          -3.11557125,
          -3.76600952,
          -4.41588603,
          -5.04510978,
          -3.12926548,
          -4.42095124,
          -5.60397106,
          -6.54697569,
          -6.71415481,
          -7.14005343,
          -6.25841238,
          -7.08617659,
          -7.65037321,
          -8.84655669,
          -8.32623676,
          -6.98302129,
          -7.41759676,
          -7.68672845,
          -8.20122678,
          -8.54595921,
          -6.68667928,
          -6.25030887,
          -5.64941617,
          -5.74036174,
          -5.38684982,
          -4.77066233,
          -4.51148309,
          -5.35685788,
          -5.05255441,
          -5.45110755,
          -6.43044768,
          -6.30364207,
          -7.03449632,
          -5.91020131,
          -8.10883561,
          -7.13340587,
          -7.30394279,
          -8.59502685,
          -7.4081044,
          -8.16369379,
          -7.72224523,
          -6.99468932,
          -5.94940611,
          -8.569852,
          -9.85855014,
          -10.84558242,
          -10.70093773,
          -11.91158389,
          -13.00524532,
          -11.31835268,
          -10.59000287,
          -11.5143669,
          -10.54642757,
          -9.4334311,
          -9.69521128,
          -8.59091403,
          -8.84627891,
          -8.06065332,
          -6.95476786,
          -7.31127634,
          -6.99195155,
          -7.98572301,
          -8.79679934,
          -9.88812099,
          -7.2232594,
          -7.65144088,
          -7.93455273,
          -8.23269982,
          -8.8272588,
          -8.31018998,
          -7.45634252,
          -6.82286285,
          -6.57815481,
          -5.92888766,
          -1.49821816,
          -2.786883,
          -2.38536072,
          -4.93489334,
          1.77740673,
          -8.54669918
         ],
         "type": "scatter"
        }
       ],
       "layout": {
        "autosize": true,
        "hovermode": "closest",
        "legend": {
         "itemsizing": "constant"
        },
        "margin": {
         "b": 5,
         "l": 5,
         "r": 5,
         "t": 5
        },
        "showlegend": false,
        "title": {
         "font": {
          "size": 16
         }
        },
        "xaxis": {
         "showgrid": false,
         "showticklabels": false,
         "zeroline": false
        },
        "yaxis": {
         "showgrid": false,
         "showticklabels": false,
         "zeroline": false
        },
        "template": {
         "data": {
          "histogram2dcontour": [
           {
            "type": "histogram2dcontour",
            "colorbar": {
             "outlinewidth": 0,
             "ticks": ""
            },
            "colorscale": [
             [
              0.0,
              "#0d0887"
             ],
             [
              0.1111111111111111,
              "#46039f"
             ],
             [
              0.2222222222222222,
              "#7201a8"
             ],
             [
              0.3333333333333333,
              "#9c179e"
             ],
             [
              0.4444444444444444,
              "#bd3786"
             ],
             [
              0.5555555555555556,
              "#d8576b"
             ],
             [
              0.6666666666666666,
              "#ed7953"
             ],
             [
              0.7777777777777778,
              "#fb9f3a"
             ],
             [
              0.8888888888888888,
              "#fdca26"
             ],
             [
              1.0,
              "#f0f921"
             ]
            ]
           }
          ],
          "choropleth": [
           {
            "type": "choropleth",
            "colorbar": {
             "outlinewidth": 0,
             "ticks": ""
            }
           }
          ],
          "histogram2d": [
           {
            "type": "histogram2d",
            "colorbar": {
             "outlinewidth": 0,
             "ticks": ""
            },
            "colorscale": [
             [
              0.0,
              "#0d0887"
             ],
             [
              0.1111111111111111,
              "#46039f"
             ],
             [
              0.2222222222222222,
              "#7201a8"
             ],
             [
              0.3333333333333333,
              "#9c179e"
             ],
             [
              0.4444444444444444,
              "#bd3786"
             ],
             [
              0.5555555555555556,
              "#d8576b"
             ],
             [
              0.6666666666666666,
              "#ed7953"
             ],
             [
              0.7777777777777778,
              "#fb9f3a"
             ],
             [
              0.8888888888888888,
              "#fdca26"
             ],
             [
              1.0,
              "#f0f921"
             ]
            ]
           }
          ],
          "heatmap": [
           {
            "type": "heatmap",
            "colorbar": {
             "outlinewidth": 0,
             "ticks": ""
            },
            "colorscale": [
             [
              0.0,
              "#0d0887"
             ],
             [
              0.1111111111111111,
              "#46039f"
             ],
             [
              0.2222222222222222,
              "#7201a8"
             ],
             [
              0.3333333333333333,
              "#9c179e"
             ],
             [
              0.4444444444444444,
              "#bd3786"
             ],
             [
              0.5555555555555556,
              "#d8576b"
             ],
             [
              0.6666666666666666,
              "#ed7953"
             ],
             [
              0.7777777777777778,
              "#fb9f3a"
             ],
             [
              0.8888888888888888,
              "#fdca26"
             ],
             [
              1.0,
              "#f0f921"
             ]
            ]
           }
          ],
          "contourcarpet": [
           {
            "type": "contourcarpet",
            "colorbar": {
             "outlinewidth": 0,
             "ticks": ""
            }
           }
          ],
          "contour": [
           {
            "type": "contour",
            "colorbar": {
             "outlinewidth": 0,
             "ticks": ""
            },
            "colorscale": [
             [
              0.0,
              "#0d0887"
             ],
             [
              0.1111111111111111,
              "#46039f"
             ],
             [
              0.2222222222222222,
              "#7201a8"
             ],
             [
              0.3333333333333333,
              "#9c179e"
             ],
             [
              0.4444444444444444,
              "#bd3786"
             ],
             [
              0.5555555555555556,
              "#d8576b"
             ],
             [
              0.6666666666666666,
              "#ed7953"
             ],
             [
              0.7777777777777778,
              "#fb9f3a"
             ],
             [
              0.8888888888888888,
              "#fdca26"
             ],
             [
              1.0,
              "#f0f921"
             ]
            ]
           }
          ],
          "surface": [
           {
            "type": "surface",
            "colorbar": {
             "outlinewidth": 0,
             "ticks": ""
            },
            "colorscale": [
             [
              0.0,
              "#0d0887"
             ],
             [
              0.1111111111111111,
              "#46039f"
             ],
             [
              0.2222222222222222,
              "#7201a8"
             ],
             [
              0.3333333333333333,
              "#9c179e"
             ],
             [
              0.4444444444444444,
              "#bd3786"
             ],
             [
              0.5555555555555556,
              "#d8576b"
             ],
             [
              0.6666666666666666,
              "#ed7953"
             ],
             [
              0.7777777777777778,
              "#fb9f3a"
             ],
             [
              0.8888888888888888,
              "#fdca26"
             ],
             [
              1.0,
              "#f0f921"
             ]
            ]
           }
          ],
          "mesh3d": [
           {
            "type": "mesh3d",
            "colorbar": {
             "outlinewidth": 0,
             "ticks": ""
            }
           }
          ],
          "scatter": [
           {
            "fillpattern": {
             "fillmode": "overlay",
             "size": 10,
             "solidity": 0.2
            },
            "type": "scatter"
           }
          ],
          "parcoords": [
           {
            "type": "parcoords",
            "line": {
             "colorbar": {
              "outlinewidth": 0,
              "ticks": ""
             }
            }
           }
          ],
          "scatterpolargl": [
           {
            "type": "scatterpolargl",
            "marker": {
             "colorbar": {
              "outlinewidth": 0,
              "ticks": ""
             }
            }
           }
          ],
          "bar": [
           {
            "error_x": {
             "color": "#2a3f5f"
            },
            "error_y": {
             "color": "#2a3f5f"
            },
            "marker": {
             "line": {
              "color": "#E5ECF6",
              "width": 0.5
             },
             "pattern": {
              "fillmode": "overlay",
              "size": 10,
              "solidity": 0.2
             }
            },
            "type": "bar"
           }
          ],
          "scattergeo": [
           {
            "type": "scattergeo",
            "marker": {
             "colorbar": {
              "outlinewidth": 0,
              "ticks": ""
             }
            }
           }
          ],
          "scatterpolar": [
           {
            "type": "scatterpolar",
            "marker": {
             "colorbar": {
              "outlinewidth": 0,
              "ticks": ""
             }
            }
           }
          ],
          "histogram": [
           {
            "marker": {
             "pattern": {
              "fillmode": "overlay",
              "size": 10,
              "solidity": 0.2
             }
            },
            "type": "histogram"
           }
          ],
          "scattergl": [
           {
            "type": "scattergl",
            "marker": {
             "colorbar": {
              "outlinewidth": 0,
              "ticks": ""
             }
            }
           }
          ],
          "scatter3d": [
           {
            "type": "scatter3d",
            "line": {
             "colorbar": {
              "outlinewidth": 0,
              "ticks": ""
             }
            },
            "marker": {
             "colorbar": {
              "outlinewidth": 0,
              "ticks": ""
             }
            }
           }
          ],
          "scattermap": [
           {
            "type": "scattermap",
            "marker": {
             "colorbar": {
              "outlinewidth": 0,
              "ticks": ""
             }
            }
           }
          ],
          "scattermapbox": [
           {
            "type": "scattermapbox",
            "marker": {
             "colorbar": {
              "outlinewidth": 0,
              "ticks": ""
             }
            }
           }
          ],
          "scatterternary": [
           {
            "type": "scatterternary",
            "marker": {
             "colorbar": {
              "outlinewidth": 0,
              "ticks": ""
             }
            }
           }
          ],
          "scattercarpet": [
           {
            "type": "scattercarpet",
            "marker": {
             "colorbar": {
              "outlinewidth": 0,
              "ticks": ""
             }
            }
           }
          ],
          "carpet": [
           {
            "aaxis": {
             "endlinecolor": "#2a3f5f",
             "gridcolor": "white",
             "linecolor": "white",
             "minorgridcolor": "white",
             "startlinecolor": "#2a3f5f"
            },
            "baxis": {
             "endlinecolor": "#2a3f5f",
             "gridcolor": "white",
             "linecolor": "white",
             "minorgridcolor": "white",
             "startlinecolor": "#2a3f5f"
            },
            "type": "carpet"
           }
          ],
          "table": [
           {
            "cells": {
             "fill": {
              "color": "#EBF0F8"
             },
             "line": {
              "color": "white"
             }
            },
            "header": {
             "fill": {
              "color": "#C8D4E3"
             },
             "line": {
              "color": "white"
             }
            },
            "type": "table"
           }
          ],
          "barpolar": [
           {
            "marker": {
             "line": {
              "color": "#E5ECF6",
              "width": 0.5
             },
             "pattern": {
              "fillmode": "overlay",
              "size": 10,
              "solidity": 0.2
             }
            },
            "type": "barpolar"
           }
          ],
          "pie": [
           {
            "automargin": true,
            "type": "pie"
           }
          ]
         },
         "layout": {
          "autotypenumbers": "strict",
          "colorway": [
           "#636efa",
           "#EF553B",
           "#00cc96",
           "#ab63fa",
           "#FFA15A",
           "#19d3f3",
           "#FF6692",
           "#B6E880",
           "#FF97FF",
           "#FECB52"
          ],
          "font": {
           "color": "#2a3f5f"
          },
          "hovermode": "closest",
          "hoverlabel": {
           "align": "left"
          },
          "paper_bgcolor": "white",
          "plot_bgcolor": "#E5ECF6",
          "polar": {
           "bgcolor": "#E5ECF6",
           "angularaxis": {
            "gridcolor": "white",
            "linecolor": "white",
            "ticks": ""
           },
           "radialaxis": {
            "gridcolor": "white",
            "linecolor": "white",
            "ticks": ""
           }
          },
          "ternary": {
           "bgcolor": "#E5ECF6",
           "aaxis": {
            "gridcolor": "white",
            "linecolor": "white",
            "ticks": ""
           },
           "baxis": {
            "gridcolor": "white",
            "linecolor": "white",
            "ticks": ""
           },
           "caxis": {
            "gridcolor": "white",
            "linecolor": "white",
            "ticks": ""
           }
          },
          "coloraxis": {
           "colorbar": {
            "outlinewidth": 0,
            "ticks": ""
           }
          },
          "colorscale": {
           "sequential": [
            [
             0.0,
             "#0d0887"
            ],
            [
             0.1111111111111111,
             "#46039f"
            ],
            [
             0.2222222222222222,
             "#7201a8"
            ],
            [
             0.3333333333333333,
             "#9c179e"
            ],
            [
             0.4444444444444444,
             "#bd3786"
            ],
            [
             0.5555555555555556,
             "#d8576b"
            ],
            [
             0.6666666666666666,
             "#ed7953"
            ],
            [
             0.7777777777777778,
             "#fb9f3a"
            ],
            [
             0.8888888888888888,
             "#fdca26"
            ],
            [
             1.0,
             "#f0f921"
            ]
           ],
           "sequentialminus": [
            [
             0.0,
             "#0d0887"
            ],
            [
             0.1111111111111111,
             "#46039f"
            ],
            [
             0.2222222222222222,
             "#7201a8"
            ],
            [
             0.3333333333333333,
             "#9c179e"
            ],
            [
             0.4444444444444444,
             "#bd3786"
            ],
            [
             0.5555555555555556,
             "#d8576b"
            ],
            [
             0.6666666666666666,
             "#ed7953"
            ],
            [
             0.7777777777777778,
             "#fb9f3a"
            ],
            [
             0.8888888888888888,
             "#fdca26"
            ],
            [
             1.0,
             "#f0f921"
            ]
           ],
           "diverging": [
            [
             0,
             "#8e0152"
            ],
            [
             0.1,
             "#c51b7d"
            ],
            [
             0.2,
             "#de77ae"
            ],
            [
             0.3,
             "#f1b6da"
            ],
            [
             0.4,
             "#fde0ef"
            ],
            [
             0.5,
             "#f7f7f7"
            ],
            [
             0.6,
             "#e6f5d0"
            ],
            [
             0.7,
             "#b8e186"
            ],
            [
             0.8,
             "#7fbc41"
            ],
            [
             0.9,
             "#4d9221"
            ],
            [
             1,
             "#276419"
            ]
           ]
          },
          "xaxis": {
           "gridcolor": "white",
           "linecolor": "white",
           "ticks": "",
           "title": {
            "standoff": 15
           },
           "zerolinecolor": "white",
           "automargin": true,
           "zerolinewidth": 2
          },
          "yaxis": {
           "gridcolor": "white",
           "linecolor": "white",
           "ticks": "",
           "title": {
            "standoff": 15
           },
           "zerolinecolor": "white",
           "automargin": true,
           "zerolinewidth": 2
          },
          "scene": {
           "xaxis": {
            "backgroundcolor": "#E5ECF6",
            "gridcolor": "white",
            "linecolor": "white",
            "showbackground": true,
            "ticks": "",
            "zerolinecolor": "white",
            "gridwidth": 2
           },
           "yaxis": {
            "backgroundcolor": "#E5ECF6",
            "gridcolor": "white",
            "linecolor": "white",
            "showbackground": true,
            "ticks": "",
            "zerolinecolor": "white",
            "gridwidth": 2
           },
           "zaxis": {
            "backgroundcolor": "#E5ECF6",
            "gridcolor": "white",
            "linecolor": "white",
            "showbackground": true,
            "ticks": "",
            "zerolinecolor": "white",
            "gridwidth": 2
           }
          },
          "shapedefaults": {
           "line": {
            "color": "#2a3f5f"
           }
          },
          "annotationdefaults": {
           "arrowcolor": "#2a3f5f",
           "arrowhead": 0,
           "arrowwidth": 1
          },
          "geo": {
           "bgcolor": "white",
           "landcolor": "#E5ECF6",
           "subunitcolor": "white",
           "showland": true,
           "showlakes": true,
           "lakecolor": "white"
          },
          "title": {
           "x": 0.05
          },
          "mapbox": {
           "style": "light"
          }
         }
        },
        "width": 600.4747901166297,
        "height": 700.0
       },
       "config": {
        "plotlyServerURL": "https://plot.ly"
       }
      }
     },
     "metadata": {},
     "output_type": "display_data"
    }
   ],
   "execution_count": 8
  },
  {
   "metadata": {
    "ExecuteTime": {
     "end_time": "2025-07-13T02:19:57.349562Z",
     "start_time": "2025-07-13T02:19:57.328821Z"
    }
   },
   "cell_type": "code",
   "source": "pp.to_json(net, str(DATA_DIR / \"base_networks\" / \"case118_no_viol.json\"))",
   "id": "6e5c8e5dcc50b85f",
   "outputs": [],
   "execution_count": 9
  }
 ],
 "metadata": {
  "kernelspec": {
   "display_name": "Python 3",
   "language": "python",
   "name": "python3"
  },
  "language_info": {
   "codemirror_mode": {
    "name": "ipython",
    "version": 2
   },
   "file_extension": ".py",
   "mimetype": "text/x-python",
   "name": "python",
   "nbconvert_exporter": "python",
   "pygments_lexer": "ipython2",
   "version": "2.7.6"
  }
 },
 "nbformat": 4,
 "nbformat_minor": 5
}
