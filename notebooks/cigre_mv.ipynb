{
 "cells": [
  {
   "cell_type": "code",
   "id": "initial_id",
   "metadata": {
    "collapsed": true,
    "ExecuteTime": {
     "end_time": "2025-06-22T02:34:09.327435Z",
     "start_time": "2025-06-22T02:34:08.358265Z"
    }
   },
   "source": "import pandapower as pp",
   "outputs": [],
   "execution_count": 1
  },
  {
   "metadata": {
    "ExecuteTime": {
     "end_time": "2025-06-22T02:34:09.451717Z",
     "start_time": "2025-06-22T02:34:09.334944Z"
    }
   },
   "cell_type": "code",
   "source": "net = pp.from_json(\"D:\\\\Dev\\\\repo\\\\EnergiQ-Agent\\\\data\\\\networks\\\\editing\\\\5ef1bd\\\\network.json\")",
   "id": "4cfc492b9de9d4aa",
   "outputs": [],
   "execution_count": 2
  },
  {
   "metadata": {
    "ExecuteTime": {
     "end_time": "2025-06-22T02:34:11.549174Z",
     "start_time": "2025-06-22T02:34:09.693136Z"
    }
   },
   "cell_type": "code",
   "source": "pp.plotting.plotly.pf_res_plotly(net, auto_open=False)",
   "id": "308f4f328f89f8a8",
   "outputs": [
    {
     "name": "stderr",
     "output_type": "stream",
     "text": [
      "There are no Power Flow results. A Newton-Raphson power flow will be executed.\n"
     ]
    },
    {
     "data": {
      "application/vnd.plotly.v1+json": {
       "data": [
        {
         "hoverinfo": "text",
         "legendgroup": "lines",
         "line": {
          "color": "rgb(255.0,152.0370370370371,0.0)",
          "dash": "solid",
          "width": 2
         },
         "mode": "lines",
         "name": "lines",
         "showlegend": true,
         "text": "Line 1-2<br />I = 74.941 %<br />I_from = 0.108 kA<br />I_to = 0.109 kA<br />",
         "x": [
          4.0,
          4.0,
          4.0
         ],
         "y": [
          15.0,
          14.0,
          13.0
         ],
         "type": "scatter"
        },
        {
         "hoverinfo": "text",
         "legendgroup": "lines",
         "line": {
          "color": "rgb(255.0,144.62962962962968,0.0)",
          "dash": "solid",
          "width": 2
         },
         "mode": "lines",
         "name": "lines",
         "showlegend": false,
         "text": "Line 2-3<br />I = 75.501 %<br />I_from = 0.109 kA<br />I_to = 0.109 kA<br />",
         "x": [
          4.0,
          4.0,
          4.0
         ],
         "y": [
          13.0,
          12.0,
          11.0
         ],
         "type": "scatter"
        },
        {
         "hoverinfo": "text",
         "legendgroup": "lines",
         "line": {
          "color": "rgb(255.0,155.7407407407408,0.0)",
          "dash": "solid",
          "width": 2
         },
         "mode": "lines",
         "name": "lines",
         "showlegend": false,
         "text": "Line 3-4<br />I = 74.515 %<br />I_from = 0.108 kA<br />I_to = 0.108 kA<br />",
         "x": [
          4.0,
          3.25,
          2.5
         ],
         "y": [
          11.0,
          10.0,
          9.0
         ],
         "type": "scatter"
        },
        {
         "hoverinfo": "text",
         "legendgroup": "lines",
         "line": {
          "color": "rgb(0.0,140.5,255.0)",
          "dash": "solid",
          "width": 2
         },
         "mode": "lines",
         "name": "lines",
         "showlegend": false,
         "text": "Line 4-5<br />I = 26.5 %<br />I_from = 0.038 kA<br />I_to = 0.038 kA<br />",
         "x": [
          2.5,
          1.75,
          1.0
         ],
         "y": [
          9.0,
          8.0,
          7.0
         ],
         "type": "scatter"
        },
        {
         "hoverinfo": "text",
         "legendgroup": "lines",
         "line": {
          "color": "rgb(0.0,0.0,255.0)",
          "dash": "solid",
          "width": 2
         },
         "mode": "lines",
         "name": "lines",
         "showlegend": false,
         "text": "Line 5-6<br />I = 11.354 %<br />I_from = 0.016 kA<br />I_to = 0.016 kA<br />",
         "x": [
          1.0,
          1.0,
          1.0
         ],
         "y": [
          7.0,
          5.0,
          3.0
         ],
         "type": "scatter"
        },
        {
         "hoverinfo": "text",
         "legendgroup": "lines",
         "line": {
          "color": "rgb(255.0,148.33333333333337,0.0)",
          "dash": "solid",
          "width": 2
         },
         "mode": "lines",
         "name": "lines",
         "showlegend": false,
         "text": "Line 7-8<br />I = 75.085 %<br />I_from = 0.109 kA<br />I_to = 0.109 kA<br />",
         "x": [
          8.0,
          8.0,
          8.0
         ],
         "y": [
          3.0,
          4.0,
          5.0
         ],
         "type": "scatter"
        },
        {
         "hoverinfo": "text",
         "legendgroup": "lines",
         "line": {
          "color": "rgb(0.0,0.0,218.4090909090909)",
          "dash": "solid",
          "width": 2
         },
         "mode": "lines",
         "name": "lines",
         "showlegend": false,
         "text": "Line 8-9<br />I = 7.893 %<br />I_from = 0.011 kA<br />I_to = 0.011 kA<br />",
         "x": [
          8.0,
          7.0,
          6.0
         ],
         "y": [
          5.0,
          5.0,
          5.0
         ],
         "type": "scatter"
        },
        {
         "hoverinfo": "text",
         "legendgroup": "lines",
         "line": {
          "color": "rgb(0.0,88.5,255.0)",
          "dash": "solid",
          "width": 2
         },
         "mode": "lines",
         "name": "lines",
         "showlegend": false,
         "text": "Line 9-10<br />I = 21.273 %<br />I_from = 0.031 kA<br />I_to = 0.031 kA<br />",
         "x": [
          6.0,
          5.0,
          4.0
         ],
         "y": [
          5.0,
          5.0,
          5.0
         ],
         "type": "scatter"
        },
        {
         "hoverinfo": "text",
         "legendgroup": "lines",
         "line": {
          "color": "rgb(0.0,200.49999999999994,255.0)",
          "dash": "solid",
          "width": 2
         },
         "mode": "lines",
         "name": "lines",
         "showlegend": false,
         "text": "Line 10-11<br />I = 32.333 %<br />I_from = 0.047 kA<br />I_to = 0.047 kA<br />",
         "x": [
          4.0,
          4.0,
          4.0
         ],
         "y": [
          5.0,
          6.0,
          7.0
         ],
         "type": "scatter"
        },
        {
         "hoverinfo": "text",
         "legendgroup": "lines",
         "line": {
          "color": "rgb(255.0,215.00000000000006,0.0)",
          "dash": "solid",
          "width": 2
         },
         "mode": "lines",
         "name": "lines",
         "showlegend": false,
         "text": "Line 12-13<br />I = 68.159 %<br />I_from = 0.133 kA<br />I_to = 0.133 kA<br />",
         "x": [
          10.0,
          10.0,
          10.0
         ],
         "y": [
          15.0,
          13.0,
          11.0
         ],
         "type": "scatter"
        },
        {
         "hoverinfo": "text",
         "legendgroup": "lines",
         "line": {
          "color": "rgb(255.0,218.70370370370375,0.0)",
          "dash": "solid",
          "width": 2
         },
         "mode": "lines",
         "name": "lines",
         "showlegend": false,
         "text": "Line 13-14<br />I = 67.611 %<br />I_from = 0.132 kA<br />I_to = 0.132 kA<br />",
         "x": [
          10.0,
          10.0,
          10.0
         ],
         "y": [
          11.0,
          8.0,
          5.0
         ],
         "type": "scatter"
        },
        {
         "hoverinfo": "text",
         "legendgroup": "lines",
         "line": {
          "color": "rgb(34.677419354838705,255.0,212.09677419354838)",
          "dash": "solid",
          "width": 2
         },
         "mode": "lines",
         "name": "lines",
         "showlegend": false,
         "text": "Line 11-4<br />I = 39.246 %<br />I_from = 0.057 kA<br />I_to = 0.057 kA<br />",
         "x": [
          4.0,
          3.25,
          2.5
         ],
         "y": [
          7.0,
          8.0,
          9.0
         ],
         "type": "scatter"
        },
        {
         "hoverinfo": "text",
         "legendgroup": "lines",
         "line": {
          "color": "rgb(195.96774193548384,255.0,50.80645161290322)",
          "dash": "solid",
          "width": 2
         },
         "mode": "lines",
         "name": "lines",
         "showlegend": false,
         "text": "Line 14-8<br />I = 58.897 %<br />I_from = 0.115 kA<br />I_to = 0.115 kA<br />",
         "x": [
          10.0,
          9.0,
          8.0
         ],
         "y": [
          5.0,
          5.0,
          5.0
         ],
         "type": "scatter"
        },
        {
         "hoverinfo": "text",
         "legendgroup": "disconnected lines",
         "line": {
          "color": "rgb(128, 128, 128)",
          "dash": "dot",
          "width": 1.0
         },
         "mode": "lines",
         "name": "disconnected branches",
         "showlegend": true,
         "text": "Line 6-7<br />I = 0.085 %<br />I_from = 0.0 kA<br />I_to = 0.0 kA<br />",
         "x": [
          1.0,
          4.5,
          8.0
         ],
         "y": [
          3.0,
          3.0,
          3.0
         ],
         "type": "scatter"
        },
        {
         "hoverinfo": "text",
         "legendgroup": "lines",
         "marker": {
          "color": "rgb(128, 128, 128)",
          "size": 1,
          "symbol": "circle"
         },
         "mode": "markers",
         "name": "edge_center",
         "showlegend": false,
         "text": [
          "Line 1-2<br />I = 74.941 %<br />I_from = 0.108 kA<br />I_to = 0.109 kA<br />",
          "Line 2-3<br />I = 75.501 %<br />I_from = 0.109 kA<br />I_to = 0.109 kA<br />",
          "Line 3-4<br />I = 74.515 %<br />I_from = 0.108 kA<br />I_to = 0.108 kA<br />",
          "Line 4-5<br />I = 26.5 %<br />I_from = 0.038 kA<br />I_to = 0.038 kA<br />",
          "Line 5-6<br />I = 11.354 %<br />I_from = 0.016 kA<br />I_to = 0.016 kA<br />",
          "Line 7-8<br />I = 75.085 %<br />I_from = 0.109 kA<br />I_to = 0.109 kA<br />",
          "Line 8-9<br />I = 7.893 %<br />I_from = 0.011 kA<br />I_to = 0.011 kA<br />",
          "Line 9-10<br />I = 21.273 %<br />I_from = 0.031 kA<br />I_to = 0.031 kA<br />",
          "Line 10-11<br />I = 32.333 %<br />I_from = 0.047 kA<br />I_to = 0.047 kA<br />",
          "Line 12-13<br />I = 68.159 %<br />I_from = 0.133 kA<br />I_to = 0.133 kA<br />",
          "Line 13-14<br />I = 67.611 %<br />I_from = 0.132 kA<br />I_to = 0.132 kA<br />",
          "Line 11-4<br />I = 39.246 %<br />I_from = 0.057 kA<br />I_to = 0.057 kA<br />",
          "Line 14-8<br />I = 58.897 %<br />I_from = 0.115 kA<br />I_to = 0.115 kA<br />",
          "Line 6-7<br />I = 0.085 %<br />I_from = 0.0 kA<br />I_to = 0.0 kA<br />"
         ],
         "x": [
          4.0
         ],
         "y": [
          14.0
         ],
         "type": "scatter"
        },
        {
         "hoverinfo": "text",
         "legendgroup": "2W transformers",
         "line": {
          "color": "rgb(159.31818181818184,0.0,0.0)",
          "width": 3.0
         },
         "mode": "lines",
         "name": "2W transformers",
         "showlegend": true,
         "text": "Trafo 0-1<br />I = 96.894 %<br />I_hv = 0.127 kA<br />I_lv = 0.699 kA<br />",
         "x": [
          7.0,
          5.5,
          4.0
         ],
         "y": [
          16.0,
          15.5,
          15.0
         ],
         "type": "scatter"
        },
        {
         "hoverinfo": "text",
         "legendgroup": "2W transformers",
         "line": {
          "color": "rgb(127.5,0.0,0.0)",
          "width": 3.0
         },
         "mode": "lines",
         "name": "2W transformers",
         "showlegend": false,
         "text": "Trafo 0-12<br />I = 100.862 %<br />I_hv = 0.132 kA<br />I_lv = 0.728 kA<br />",
         "x": [
          7.0,
          8.5,
          10.0
         ],
         "y": [
          16.0,
          15.5,
          15.0
         ],
         "type": "scatter"
        },
        {
         "hoverinfo": "text",
         "legendgroup": "2W transformers",
         "marker": {
          "color": "rgb(127.5,0.0,0.0)",
          "size": 1,
          "symbol": "circle"
         },
         "mode": "markers",
         "name": "edge_center",
         "showlegend": false,
         "text": [
          "Trafo 0-1<br />I = 96.894 %<br />I_hv = 0.127 kA<br />I_lv = 0.699 kA<br />",
          "Trafo 0-12<br />I = 100.862 %<br />I_hv = 0.132 kA<br />I_lv = 0.728 kA<br />"
         ],
         "x": [
          5.5
         ],
         "y": [
          15.5
         ],
         "type": "scatter"
        },
        {
         "hoverinfo": "text",
         "marker": {
          "color": "rgb(128, 128, 128)",
          "size": 20,
          "symbol": "square"
         },
         "mode": "markers",
         "name": "external_grid",
         "text": [
          "Bus 0"
         ],
         "x": [
          7.0
         ],
         "y": [
          16.0
         ],
         "type": "scatter"
        },
        {
         "hoverinfo": "text",
         "marker": {
          "cmax": 1.1,
          "cmin": 0.9,
          "color": {
           "dtype": "f8",
           "bdata": "exSuR+F68D9NTbQ5F8zvP/WjfvjyL+8/zuLLdM457j8fDplClhnuP5NbSnWkD+4/asJtDAIE7j/ZWHC4CLPtP+qs214X9e0/nO4znbP27T83PeO7WAPuP8U84O1eC+4/+/JEYszg7z+1T65ZCePuP/FC/SiVSu4/"
          },
          "colorbar": {
           "thickness": 10,
           "title": {
            "side": "right",
            "text": "Bus Voltage [pu]"
           },
           "x": 1.0
          },
          "colorscale": [
           [
            0.0,
            "rgb(0,0,131)"
           ],
           [
            0.2,
            "rgb(0,60,170)"
           ],
           [
            0.4,
            "rgb(5,255,255)"
           ],
           [
            0.6,
            "rgb(255,255,0)"
           ],
           [
            0.8,
            "rgb(250,0,0)"
           ],
           [
            1.0,
            "rgb(128,0,0)"
           ]
          ],
          "size": 10,
          "symbol": "circle"
         },
         "mode": "markers",
         "name": "buses",
         "text": [
          "Bus 0<br />V_m = 1.03 pu<br />V_m = 113.3 kV<br />V_a = 0.0 deg",
          "Bus 1<br />V_m = 0.994 pu<br />V_m = 19.873 kV<br />V_a = -36.259 deg",
          "Bus 2<br />V_m = 0.975 pu<br />V_m = 19.492 kV<br />V_a = -37.022 deg",
          "Bus 3<br />V_m = 0.945 pu<br />V_m = 18.891 kV<br />V_a = -38.259 deg",
          "Bus 4<br />V_m = 0.941 pu<br />V_m = 18.812 kV<br />V_a = -38.445 deg",
          "Bus 5<br />V_m = 0.939 pu<br />V_m = 18.788 kV<br />V_a = -38.511 deg",
          "Bus 6<br />V_m = 0.938 pu<br />V_m = 18.76 kV<br />V_a = -38.589 deg",
          "Bus 7<br />V_m = 0.928 pu<br />V_m = 18.562 kV<br />V_a = -39.31 deg",
          "Bus 8<br />V_m = 0.936 pu<br />V_m = 18.723 kV<br />V_a = -38.625 deg",
          "Bus 9<br />V_m = 0.936 pu<br />V_m = 18.727 kV<br />V_a = -38.613 deg",
          "Bus 10<br />V_m = 0.938 pu<br />V_m = 18.758 kV<br />V_a = -38.557 deg",
          "Bus 11<br />V_m = 0.939 pu<br />V_m = 18.778 kV<br />V_a = -38.518 deg",
          "Bus 12<br />V_m = 0.996 pu<br />V_m = 19.924 kV<br />V_a = -36.578 deg",
          "Bus 13<br />V_m = 0.965 pu<br />V_m = 19.304 kV<br />V_a = -37.571 deg",
          "Bus 14<br />V_m = 0.947 pu<br />V_m = 18.932 kV<br />V_a = -38.207 deg"
         ],
         "x": [
          7.0,
          4.0,
          4.0,
          4.0,
          2.5,
          1.0,
          1.0,
          8.0,
          8.0,
          6.0,
          4.0,
          4.0,
          10.0,
          10.0,
          10.0
         ],
         "y": [
          16.0,
          15.0,
          13.0,
          11.0,
          9.0,
          7.0,
          3.0,
          3.0,
          5.0,
          5.0,
          5.0,
          7.0,
          15.0,
          11.0,
          5.0
         ],
         "type": "scatter"
        }
       ],
       "layout": {
        "autosize": true,
        "hovermode": "closest",
        "legend": {
         "itemsizing": "constant"
        },
        "margin": {
         "b": 5,
         "l": 5,
         "r": 5,
         "t": 5
        },
        "showlegend": false,
        "title": {
         "font": {
          "size": 16
         }
        },
        "xaxis": {
         "showgrid": false,
         "showticklabels": false,
         "zeroline": false
        },
        "yaxis": {
         "showgrid": false,
         "showticklabels": false,
         "zeroline": false
        },
        "template": {
         "data": {
          "histogram2dcontour": [
           {
            "type": "histogram2dcontour",
            "colorbar": {
             "outlinewidth": 0,
             "ticks": ""
            },
            "colorscale": [
             [
              0.0,
              "#0d0887"
             ],
             [
              0.1111111111111111,
              "#46039f"
             ],
             [
              0.2222222222222222,
              "#7201a8"
             ],
             [
              0.3333333333333333,
              "#9c179e"
             ],
             [
              0.4444444444444444,
              "#bd3786"
             ],
             [
              0.5555555555555556,
              "#d8576b"
             ],
             [
              0.6666666666666666,
              "#ed7953"
             ],
             [
              0.7777777777777778,
              "#fb9f3a"
             ],
             [
              0.8888888888888888,
              "#fdca26"
             ],
             [
              1.0,
              "#f0f921"
             ]
            ]
           }
          ],
          "choropleth": [
           {
            "type": "choropleth",
            "colorbar": {
             "outlinewidth": 0,
             "ticks": ""
            }
           }
          ],
          "histogram2d": [
           {
            "type": "histogram2d",
            "colorbar": {
             "outlinewidth": 0,
             "ticks": ""
            },
            "colorscale": [
             [
              0.0,
              "#0d0887"
             ],
             [
              0.1111111111111111,
              "#46039f"
             ],
             [
              0.2222222222222222,
              "#7201a8"
             ],
             [
              0.3333333333333333,
              "#9c179e"
             ],
             [
              0.4444444444444444,
              "#bd3786"
             ],
             [
              0.5555555555555556,
              "#d8576b"
             ],
             [
              0.6666666666666666,
              "#ed7953"
             ],
             [
              0.7777777777777778,
              "#fb9f3a"
             ],
             [
              0.8888888888888888,
              "#fdca26"
             ],
             [
              1.0,
              "#f0f921"
             ]
            ]
           }
          ],
          "heatmap": [
           {
            "type": "heatmap",
            "colorbar": {
             "outlinewidth": 0,
             "ticks": ""
            },
            "colorscale": [
             [
              0.0,
              "#0d0887"
             ],
             [
              0.1111111111111111,
              "#46039f"
             ],
             [
              0.2222222222222222,
              "#7201a8"
             ],
             [
              0.3333333333333333,
              "#9c179e"
             ],
             [
              0.4444444444444444,
              "#bd3786"
             ],
             [
              0.5555555555555556,
              "#d8576b"
             ],
             [
              0.6666666666666666,
              "#ed7953"
             ],
             [
              0.7777777777777778,
              "#fb9f3a"
             ],
             [
              0.8888888888888888,
              "#fdca26"
             ],
             [
              1.0,
              "#f0f921"
             ]
            ]
           }
          ],
          "contourcarpet": [
           {
            "type": "contourcarpet",
            "colorbar": {
             "outlinewidth": 0,
             "ticks": ""
            }
           }
          ],
          "contour": [
           {
            "type": "contour",
            "colorbar": {
             "outlinewidth": 0,
             "ticks": ""
            },
            "colorscale": [
             [
              0.0,
              "#0d0887"
             ],
             [
              0.1111111111111111,
              "#46039f"
             ],
             [
              0.2222222222222222,
              "#7201a8"
             ],
             [
              0.3333333333333333,
              "#9c179e"
             ],
             [
              0.4444444444444444,
              "#bd3786"
             ],
             [
              0.5555555555555556,
              "#d8576b"
             ],
             [
              0.6666666666666666,
              "#ed7953"
             ],
             [
              0.7777777777777778,
              "#fb9f3a"
             ],
             [
              0.8888888888888888,
              "#fdca26"
             ],
             [
              1.0,
              "#f0f921"
             ]
            ]
           }
          ],
          "surface": [
           {
            "type": "surface",
            "colorbar": {
             "outlinewidth": 0,
             "ticks": ""
            },
            "colorscale": [
             [
              0.0,
              "#0d0887"
             ],
             [
              0.1111111111111111,
              "#46039f"
             ],
             [
              0.2222222222222222,
              "#7201a8"
             ],
             [
              0.3333333333333333,
              "#9c179e"
             ],
             [
              0.4444444444444444,
              "#bd3786"
             ],
             [
              0.5555555555555556,
              "#d8576b"
             ],
             [
              0.6666666666666666,
              "#ed7953"
             ],
             [
              0.7777777777777778,
              "#fb9f3a"
             ],
             [
              0.8888888888888888,
              "#fdca26"
             ],
             [
              1.0,
              "#f0f921"
             ]
            ]
           }
          ],
          "mesh3d": [
           {
            "type": "mesh3d",
            "colorbar": {
             "outlinewidth": 0,
             "ticks": ""
            }
           }
          ],
          "scatter": [
           {
            "fillpattern": {
             "fillmode": "overlay",
             "size": 10,
             "solidity": 0.2
            },
            "type": "scatter"
           }
          ],
          "parcoords": [
           {
            "type": "parcoords",
            "line": {
             "colorbar": {
              "outlinewidth": 0,
              "ticks": ""
             }
            }
           }
          ],
          "scatterpolargl": [
           {
            "type": "scatterpolargl",
            "marker": {
             "colorbar": {
              "outlinewidth": 0,
              "ticks": ""
             }
            }
           }
          ],
          "bar": [
           {
            "error_x": {
             "color": "#2a3f5f"
            },
            "error_y": {
             "color": "#2a3f5f"
            },
            "marker": {
             "line": {
              "color": "#E5ECF6",
              "width": 0.5
             },
             "pattern": {
              "fillmode": "overlay",
              "size": 10,
              "solidity": 0.2
             }
            },
            "type": "bar"
           }
          ],
          "scattergeo": [
           {
            "type": "scattergeo",
            "marker": {
             "colorbar": {
              "outlinewidth": 0,
              "ticks": ""
             }
            }
           }
          ],
          "scatterpolar": [
           {
            "type": "scatterpolar",
            "marker": {
             "colorbar": {
              "outlinewidth": 0,
              "ticks": ""
             }
            }
           }
          ],
          "histogram": [
           {
            "marker": {
             "pattern": {
              "fillmode": "overlay",
              "size": 10,
              "solidity": 0.2
             }
            },
            "type": "histogram"
           }
          ],
          "scattergl": [
           {
            "type": "scattergl",
            "marker": {
             "colorbar": {
              "outlinewidth": 0,
              "ticks": ""
             }
            }
           }
          ],
          "scatter3d": [
           {
            "type": "scatter3d",
            "line": {
             "colorbar": {
              "outlinewidth": 0,
              "ticks": ""
             }
            },
            "marker": {
             "colorbar": {
              "outlinewidth": 0,
              "ticks": ""
             }
            }
           }
          ],
          "scattermap": [
           {
            "type": "scattermap",
            "marker": {
             "colorbar": {
              "outlinewidth": 0,
              "ticks": ""
             }
            }
           }
          ],
          "scattermapbox": [
           {
            "type": "scattermapbox",
            "marker": {
             "colorbar": {
              "outlinewidth": 0,
              "ticks": ""
             }
            }
           }
          ],
          "scatterternary": [
           {
            "type": "scatterternary",
            "marker": {
             "colorbar": {
              "outlinewidth": 0,
              "ticks": ""
             }
            }
           }
          ],
          "scattercarpet": [
           {
            "type": "scattercarpet",
            "marker": {
             "colorbar": {
              "outlinewidth": 0,
              "ticks": ""
             }
            }
           }
          ],
          "carpet": [
           {
            "aaxis": {
             "endlinecolor": "#2a3f5f",
             "gridcolor": "white",
             "linecolor": "white",
             "minorgridcolor": "white",
             "startlinecolor": "#2a3f5f"
            },
            "baxis": {
             "endlinecolor": "#2a3f5f",
             "gridcolor": "white",
             "linecolor": "white",
             "minorgridcolor": "white",
             "startlinecolor": "#2a3f5f"
            },
            "type": "carpet"
           }
          ],
          "table": [
           {
            "cells": {
             "fill": {
              "color": "#EBF0F8"
             },
             "line": {
              "color": "white"
             }
            },
            "header": {
             "fill": {
              "color": "#C8D4E3"
             },
             "line": {
              "color": "white"
             }
            },
            "type": "table"
           }
          ],
          "barpolar": [
           {
            "marker": {
             "line": {
              "color": "#E5ECF6",
              "width": 0.5
             },
             "pattern": {
              "fillmode": "overlay",
              "size": 10,
              "solidity": 0.2
             }
            },
            "type": "barpolar"
           }
          ],
          "pie": [
           {
            "automargin": true,
            "type": "pie"
           }
          ]
         },
         "layout": {
          "autotypenumbers": "strict",
          "colorway": [
           "#636efa",
           "#EF553B",
           "#00cc96",
           "#ab63fa",
           "#FFA15A",
           "#19d3f3",
           "#FF6692",
           "#B6E880",
           "#FF97FF",
           "#FECB52"
          ],
          "font": {
           "color": "#2a3f5f"
          },
          "hovermode": "closest",
          "hoverlabel": {
           "align": "left"
          },
          "paper_bgcolor": "white",
          "plot_bgcolor": "#E5ECF6",
          "polar": {
           "bgcolor": "#E5ECF6",
           "angularaxis": {
            "gridcolor": "white",
            "linecolor": "white",
            "ticks": ""
           },
           "radialaxis": {
            "gridcolor": "white",
            "linecolor": "white",
            "ticks": ""
           }
          },
          "ternary": {
           "bgcolor": "#E5ECF6",
           "aaxis": {
            "gridcolor": "white",
            "linecolor": "white",
            "ticks": ""
           },
           "baxis": {
            "gridcolor": "white",
            "linecolor": "white",
            "ticks": ""
           },
           "caxis": {
            "gridcolor": "white",
            "linecolor": "white",
            "ticks": ""
           }
          },
          "coloraxis": {
           "colorbar": {
            "outlinewidth": 0,
            "ticks": ""
           }
          },
          "colorscale": {
           "sequential": [
            [
             0.0,
             "#0d0887"
            ],
            [
             0.1111111111111111,
             "#46039f"
            ],
            [
             0.2222222222222222,
             "#7201a8"
            ],
            [
             0.3333333333333333,
             "#9c179e"
            ],
            [
             0.4444444444444444,
             "#bd3786"
            ],
            [
             0.5555555555555556,
             "#d8576b"
            ],
            [
             0.6666666666666666,
             "#ed7953"
            ],
            [
             0.7777777777777778,
             "#fb9f3a"
            ],
            [
             0.8888888888888888,
             "#fdca26"
            ],
            [
             1.0,
             "#f0f921"
            ]
           ],
           "sequentialminus": [
            [
             0.0,
             "#0d0887"
            ],
            [
             0.1111111111111111,
             "#46039f"
            ],
            [
             0.2222222222222222,
             "#7201a8"
            ],
            [
             0.3333333333333333,
             "#9c179e"
            ],
            [
             0.4444444444444444,
             "#bd3786"
            ],
            [
             0.5555555555555556,
             "#d8576b"
            ],
            [
             0.6666666666666666,
             "#ed7953"
            ],
            [
             0.7777777777777778,
             "#fb9f3a"
            ],
            [
             0.8888888888888888,
             "#fdca26"
            ],
            [
             1.0,
             "#f0f921"
            ]
           ],
           "diverging": [
            [
             0,
             "#8e0152"
            ],
            [
             0.1,
             "#c51b7d"
            ],
            [
             0.2,
             "#de77ae"
            ],
            [
             0.3,
             "#f1b6da"
            ],
            [
             0.4,
             "#fde0ef"
            ],
            [
             0.5,
             "#f7f7f7"
            ],
            [
             0.6,
             "#e6f5d0"
            ],
            [
             0.7,
             "#b8e186"
            ],
            [
             0.8,
             "#7fbc41"
            ],
            [
             0.9,
             "#4d9221"
            ],
            [
             1,
             "#276419"
            ]
           ]
          },
          "xaxis": {
           "gridcolor": "white",
           "linecolor": "white",
           "ticks": "",
           "title": {
            "standoff": 15
           },
           "zerolinecolor": "white",
           "automargin": true,
           "zerolinewidth": 2
          },
          "yaxis": {
           "gridcolor": "white",
           "linecolor": "white",
           "ticks": "",
           "title": {
            "standoff": 15
           },
           "zerolinecolor": "white",
           "automargin": true,
           "zerolinewidth": 2
          },
          "scene": {
           "xaxis": {
            "backgroundcolor": "#E5ECF6",
            "gridcolor": "white",
            "linecolor": "white",
            "showbackground": true,
            "ticks": "",
            "zerolinecolor": "white",
            "gridwidth": 2
           },
           "yaxis": {
            "backgroundcolor": "#E5ECF6",
            "gridcolor": "white",
            "linecolor": "white",
            "showbackground": true,
            "ticks": "",
            "zerolinecolor": "white",
            "gridwidth": 2
           },
           "zaxis": {
            "backgroundcolor": "#E5ECF6",
            "gridcolor": "white",
            "linecolor": "white",
            "showbackground": true,
            "ticks": "",
            "zerolinecolor": "white",
            "gridwidth": 2
           }
          },
          "shapedefaults": {
           "line": {
            "color": "#2a3f5f"
           }
          },
          "annotationdefaults": {
           "arrowcolor": "#2a3f5f",
           "arrowhead": 0,
           "arrowwidth": 1
          },
          "geo": {
           "bgcolor": "white",
           "landcolor": "#E5ECF6",
           "subunitcolor": "white",
           "showland": true,
           "showlakes": true,
           "lakecolor": "white"
          },
          "title": {
           "x": 0.05
          },
          "mapbox": {
           "style": "light"
          }
         }
        },
        "width": 484.6153846153846,
        "height": 700.0
       },
       "config": {
        "plotlyServerURL": "https://plot.ly"
       }
      }
     },
     "metadata": {},
     "output_type": "display_data"
    }
   ],
   "execution_count": 3
  }
 ],
 "metadata": {
  "kernelspec": {
   "display_name": "Python 3",
   "language": "python",
   "name": "python3"
  },
  "language_info": {
   "codemirror_mode": {
    "name": "ipython",
    "version": 2
   },
   "file_extension": ".py",
   "mimetype": "text/x-python",
   "name": "python",
   "nbconvert_exporter": "python",
   "pygments_lexer": "ipython2",
   "version": "2.7.6"
  }
 },
 "nbformat": 4,
 "nbformat_minor": 5
}
