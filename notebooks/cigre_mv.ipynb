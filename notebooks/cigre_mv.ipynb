{
 "cells": [
  {
   "cell_type": "code",
   "id": "initial_id",
   "metadata": {
    "collapsed": true,
    "ExecuteTime": {
     "end_time": "2025-07-13T00:53:36.119194Z",
     "start_time": "2025-07-13T00:53:34.319561Z"
    }
   },
   "source": "import pandapower as pp",
   "outputs": [],
   "execution_count": 1
  },
  {
   "metadata": {
    "ExecuteTime": {
     "end_time": "2025-07-01T00:41:53.072031Z",
     "start_time": "2025-07-01T00:41:52.948711Z"
    }
   },
   "cell_type": "code",
   "source": "net = pp.from_json(\"D:\\\\Dev\\\\repo\\\\EnergiQ-Agent\\\\data\\\\networks\\\\cigre_mv\\\\net.json\")",
   "id": "4cfc492b9de9d4aa",
   "outputs": [],
   "execution_count": 2
  },
  {
   "metadata": {
    "ExecuteTime": {
     "end_time": "2025-07-01T00:41:55.133643Z",
     "start_time": "2025-07-01T00:41:53.316740Z"
    }
   },
   "cell_type": "code",
   "source": "pp.plotting.plotly.pf_res_plotly(net, auto_open=False)",
   "id": "308f4f328f89f8a8",
   "outputs": [
    {
     "name": "stderr",
     "output_type": "stream",
     "text": [
      "There are no Power Flow results. A Newton-Raphson power flow will be executed.\n"
     ]
    },
    {
     "data": {
      "application/vnd.plotly.v1+json": {
       "data": [
        {
         "hoverinfo": "text",
         "legendgroup": "lines",
         "line": {
          "color": "rgb(127.5,0.0,0.0)",
          "dash": "solid",
          "width": 2
         },
         "mode": "lines",
         "name": "lines",
         "showlegend": true,
         "text": "Line 1-2<br />I = 178.18 %<br />I_from = 0.258 kA<br />I_to = 0.258 kA<br />",
         "x": [
          4.0,
          4.0,
          4.0
         ],
         "y": [
          15.0,
          14.0,
          13.0
         ],
         "type": "scatter"
        },
        {
         "hoverinfo": "text",
         "legendgroup": "lines",
         "line": {
          "color": "rgb(127.5,0.0,0.0)",
          "dash": "solid",
          "width": 2
         },
         "mode": "lines",
         "name": "lines",
         "showlegend": false,
         "text": "Line 2-3<br />I = 178.529 %<br />I_from = 0.258 kA<br />I_to = 0.259 kA<br />",
         "x": [
          4.0,
          4.0,
          4.0
         ],
         "y": [
          13.0,
          12.0,
          11.0
         ],
         "type": "scatter"
        },
        {
         "hoverinfo": "text",
         "legendgroup": "lines",
         "line": {
          "color": "rgb(127.5,0.0,0.0)",
          "dash": "solid",
          "width": 2
         },
         "mode": "lines",
         "name": "lines",
         "showlegend": false,
         "text": "Line 3-4<br />I = 166.918 %<br />I_from = 0.242 kA<br />I_to = 0.242 kA<br />",
         "x": [
          4.0,
          3.25,
          2.5
         ],
         "y": [
          11.0,
          10.0,
          9.0
         ],
         "type": "scatter"
        },
        {
         "hoverinfo": "text",
         "legendgroup": "lines",
         "line": {
          "color": "rgb(0.0,164.5,255.0)",
          "dash": "solid",
          "width": 2
         },
         "mode": "lines",
         "name": "lines",
         "showlegend": false,
         "text": "Line 4-5<br />I = 28.717 %<br />I_from = 0.042 kA<br />I_to = 0.042 kA<br />",
         "x": [
          2.5,
          1.75,
          1.0
         ],
         "y": [
          9.0,
          8.0,
          7.0
         ],
         "type": "scatter"
        },
        {
         "hoverinfo": "text",
         "legendgroup": "lines",
         "line": {
          "color": "rgb(0.0,0.0,255.0)",
          "dash": "solid",
          "width": 2
         },
         "mode": "lines",
         "name": "lines",
         "showlegend": false,
         "text": "Line 5-6<br />I = 12.299 %<br />I_from = 0.018 kA<br />I_to = 0.018 kA<br />",
         "x": [
          1.0,
          1.0,
          1.0
         ],
         "y": [
          7.0,
          5.0,
          3.0
         ],
         "type": "scatter"
        },
        {
         "hoverinfo": "text",
         "legendgroup": "lines",
         "line": {
          "color": "rgb(255.0,77.96296296296302,0.0)",
          "dash": "solid",
          "width": 2
         },
         "mode": "lines",
         "name": "lines",
         "showlegend": false,
         "text": "Line 7-8<br />I = 82.565 %<br />I_from = 0.12 kA<br />I_to = 0.12 kA<br />",
         "x": [
          8.0,
          8.0,
          8.0
         ],
         "y": [
          3.0,
          4.0,
          5.0
         ],
         "type": "scatter"
        },
        {
         "hoverinfo": "text",
         "legendgroup": "lines",
         "line": {
          "color": "rgb(177.50000000000017,0.0,0.0)",
          "dash": "solid",
          "width": 2
         },
         "mode": "lines",
         "name": "lines",
         "showlegend": false,
         "text": "Line 8-9<br />I = 95.676 %<br />I_from = 0.139 kA<br />I_to = 0.139 kA<br />",
         "x": [
          8.0,
          7.0,
          6.0
         ],
         "y": [
          5.0,
          5.0,
          5.0
         ],
         "type": "scatter"
        },
        {
         "hoverinfo": "text",
         "legendgroup": "lines",
         "line": {
          "color": "rgb(127.5,0.0,0.0)",
          "dash": "solid",
          "width": 2
         },
         "mode": "lines",
         "name": "lines",
         "showlegend": false,
         "text": "Line 9-10<br />I = 109.041 %<br />I_from = 0.158 kA<br />I_to = 0.158 kA<br />",
         "x": [
          6.0,
          5.0,
          4.0
         ],
         "y": [
          5.0,
          5.0,
          5.0
         ],
         "type": "scatter"
        },
        {
         "hoverinfo": "text",
         "legendgroup": "lines",
         "line": {
          "color": "rgb(127.5,0.0,0.0)",
          "dash": "solid",
          "width": 2
         },
         "mode": "lines",
         "name": "lines",
         "showlegend": false,
         "text": "Line 10-11<br />I = 121.051 %<br />I_from = 0.176 kA<br />I_to = 0.176 kA<br />",
         "x": [
          4.0,
          4.0,
          4.0
         ],
         "y": [
          5.0,
          6.0,
          7.0
         ],
         "type": "scatter"
        },
        {
         "hoverinfo": "text",
         "legendgroup": "lines",
         "line": {
          "color": "rgb(0.0,0.0,236.59090909090907)",
          "dash": "solid",
          "width": 2
         },
         "mode": "lines",
         "name": "lines",
         "showlegend": false,
         "text": "Line 12-13<br />I = 9.476 %<br />I_from = 0.018 kA<br />I_to = 0.018 kA<br />",
         "x": [
          10.0,
          10.0,
          10.0
         ],
         "y": [
          15.0,
          13.0,
          11.0
         ],
         "type": "scatter"
        },
        {
         "hoverinfo": "text",
         "legendgroup": "lines",
         "line": {
          "color": "rgb(0.0,0.0,227.49999999999997)",
          "dash": "solid",
          "width": 2
         },
         "mode": "lines",
         "name": "lines",
         "showlegend": false,
         "text": "Line 13-14<br />I = 8.909 %<br />I_from = 0.017 kA<br />I_to = 0.017 kA<br />",
         "x": [
          10.0,
          10.0,
          10.0
         ],
         "y": [
          11.0,
          8.0,
          5.0
         ],
         "type": "scatter"
        },
        {
         "hoverinfo": "text",
         "legendgroup": "lines",
         "line": {
          "color": "rgb(127.5,0.0,0.0)",
          "dash": "solid",
          "width": 2
         },
         "mode": "lines",
         "name": "lines",
         "showlegend": false,
         "text": "Line 11-4<br />I = 128.608 %<br />I_from = 0.186 kA<br />I_to = 0.186 kA<br />",
         "x": [
          4.0,
          3.25,
          2.5
         ],
         "y": [
          7.0,
          8.0,
          9.0
         ],
         "type": "scatter"
        },
        {
         "hoverinfo": "text",
         "legendgroup": "disconnected lines",
         "line": {
          "color": "rgb(128, 128, 128)",
          "dash": "dot",
          "width": 1.0
         },
         "mode": "lines",
         "name": "disconnected branches",
         "showlegend": true,
         "text": "Line 6-7<br />I = 0.079 %<br />I_from = 0.0 kA<br />I_to = 0.0 kA<br />",
         "x": [
          1.0,
          4.5,
          8.0
         ],
         "y": [
          3.0,
          3.0,
          3.0
         ],
         "type": "scatter"
        },
        {
         "hoverinfo": "text",
         "legendgroup": "disconnected lines",
         "line": {
          "color": "rgb(128, 128, 128)",
          "dash": "dot",
          "width": 1.0
         },
         "mode": "lines",
         "name": "disconnected branches",
         "showlegend": false,
         "text": "Line 14-8<br />I = 0.037 %<br />I_from = 0.0 kA<br />I_to = 0.0 kA<br />",
         "x": [
          10.0,
          9.0,
          8.0
         ],
         "y": [
          5.0,
          5.0,
          5.0
         ],
         "type": "scatter"
        },
        {
         "hoverinfo": "text",
         "legendgroup": "lines",
         "marker": {
          "color": "rgb(128, 128, 128)",
          "size": 1,
          "symbol": "circle"
         },
         "mode": "markers",
         "name": "edge_center",
         "showlegend": false,
         "text": [
          "Line 1-2<br />I = 178.18 %<br />I_from = 0.258 kA<br />I_to = 0.258 kA<br />",
          "Line 2-3<br />I = 178.529 %<br />I_from = 0.258 kA<br />I_to = 0.259 kA<br />",
          "Line 3-4<br />I = 166.918 %<br />I_from = 0.242 kA<br />I_to = 0.242 kA<br />",
          "Line 4-5<br />I = 28.717 %<br />I_from = 0.042 kA<br />I_to = 0.042 kA<br />",
          "Line 5-6<br />I = 12.299 %<br />I_from = 0.018 kA<br />I_to = 0.018 kA<br />",
          "Line 7-8<br />I = 82.565 %<br />I_from = 0.12 kA<br />I_to = 0.12 kA<br />",
          "Line 8-9<br />I = 95.676 %<br />I_from = 0.139 kA<br />I_to = 0.139 kA<br />",
          "Line 9-10<br />I = 109.041 %<br />I_from = 0.158 kA<br />I_to = 0.158 kA<br />",
          "Line 10-11<br />I = 121.051 %<br />I_from = 0.176 kA<br />I_to = 0.176 kA<br />",
          "Line 12-13<br />I = 9.476 %<br />I_from = 0.018 kA<br />I_to = 0.018 kA<br />",
          "Line 13-14<br />I = 8.909 %<br />I_from = 0.017 kA<br />I_to = 0.017 kA<br />",
          "Line 11-4<br />I = 128.608 %<br />I_from = 0.186 kA<br />I_to = 0.186 kA<br />",
          "Line 6-7<br />I = 0.079 %<br />I_from = 0.0 kA<br />I_to = 0.0 kA<br />",
          "Line 14-8<br />I = 0.037 %<br />I_from = 0.0 kA<br />I_to = 0.0 kA<br />"
         ],
         "x": [
          4.0
         ],
         "y": [
          14.0
         ],
         "type": "scatter"
        },
        {
         "hoverinfo": "text",
         "legendgroup": "2W transformers",
         "line": {
          "color": "rgb(127.5,0.0,0.0)",
          "width": 3.0
         },
         "mode": "lines",
         "name": "2W transformers",
         "showlegend": true,
         "text": "Trafo 0-1<br />I = 118.51 %<br />I_hv = 0.156 kA<br />I_lv = 0.855 kA<br />",
         "x": [
          7.0,
          5.5,
          4.0
         ],
         "y": [
          16.0,
          15.5,
          15.0
         ],
         "type": "scatter"
        },
        {
         "hoverinfo": "text",
         "legendgroup": "2W transformers",
         "line": {
          "color": "rgb(255.0,59.44444444444448,0.0)",
          "width": 3.0
         },
         "mode": "lines",
         "name": "2W transformers",
         "showlegend": false,
         "text": "Trafo 0-12<br />I = 84.698 %<br />I_hv = 0.111 kA<br />I_lv = 0.611 kA<br />",
         "x": [
          7.0,
          8.5,
          10.0
         ],
         "y": [
          16.0,
          15.5,
          15.0
         ],
         "type": "scatter"
        },
        {
         "hoverinfo": "text",
         "legendgroup": "2W transformers",
         "marker": {
          "color": "rgb(255.0,59.44444444444448,0.0)",
          "size": 1,
          "symbol": "circle"
         },
         "mode": "markers",
         "name": "edge_center",
         "showlegend": false,
         "text": [
          "Trafo 0-1<br />I = 118.51 %<br />I_hv = 0.156 kA<br />I_lv = 0.855 kA<br />",
          "Trafo 0-12<br />I = 84.698 %<br />I_hv = 0.111 kA<br />I_lv = 0.611 kA<br />"
         ],
         "x": [
          5.5
         ],
         "y": [
          15.5
         ],
         "type": "scatter"
        },
        {
         "hoverinfo": "text",
         "marker": {
          "color": "rgb(128, 128, 128)",
          "size": 20,
          "symbol": "square"
         },
         "mode": "markers",
         "name": "external_grid",
         "text": [
          "Bus 0"
         ],
         "x": [
          7.0
         ],
         "y": [
          16.0
         ],
         "type": "scatter"
        },
        {
         "hoverinfo": "text",
         "marker": {
          "cmax": 1.1,
          "cmin": 0.9,
          "color": {
           "dtype": "f8",
           "bdata": "exSuR+F68D8b+QXq/H3vP+84GAfzIO4/5Q+8H3YQ7D+3t6mxJc/rP0pfKnlUxOs/riVqMaq36z8cJEBcOwLrP7J8WQEQS+s/Idz4ERFc6z+WFLbk547rPxvbboatp+s/WQB8W5kA8D+r0CELtdnvPyoSDkb+wu8/"
          },
          "colorbar": {
           "thickness": 10,
           "title": {
            "side": "right",
            "text": "Bus Voltage [pu]"
           },
           "x": 1.0
          },
          "colorscale": [
           [
            0.0,
            "rgb(0,0,131)"
           ],
           [
            0.2,
            "rgb(0,60,170)"
           ],
           [
            0.4,
            "rgb(5,255,255)"
           ],
           [
            0.6,
            "rgb(255,255,0)"
           ],
           [
            0.8,
            "rgb(250,0,0)"
           ],
           [
            1.0,
            "rgb(128,0,0)"
           ]
          ],
          "size": 10,
          "symbol": "circle"
         },
         "mode": "markers",
         "name": "buses",
         "text": [
          "Bus 0<br />V_m = 1.03 pu<br />V_m = 113.3 kV<br />V_a = 0.0 deg",
          "Bus 1<br />V_m = 0.984 pu<br />V_m = 19.683 kV<br />V_a = -37.667 deg",
          "Bus 2<br />V_m = 0.942 pu<br />V_m = 18.83 kV<br />V_a = -39.747 deg",
          "Bus 3<br />V_m = 0.877 pu<br />V_m = 17.54 kV<br />V_a = -43.382 deg",
          "Bus 4<br />V_m = 0.869 pu<br />V_m = 17.381 kV<br />V_a = -43.896 deg",
          "Bus 5<br />V_m = 0.868 pu<br />V_m = 17.354 kV<br />V_a = -43.973 deg",
          "Bus 6<br />V_m = 0.866 pu<br />V_m = 17.323 kV<br />V_a = -44.064 deg",
          "Bus 7<br />V_m = 0.844 pu<br />V_m = 16.88 kV<br />V_a = -45.893 deg",
          "Bus 8<br />V_m = 0.853 pu<br />V_m = 17.058 kV<br />V_a = -45.067 deg",
          "Bus 9<br />V_m = 0.855 pu<br />V_m = 17.1 kV<br />V_a = -44.889 deg",
          "Bus 10<br />V_m = 0.861 pu<br />V_m = 17.224 kV<br />V_a = -44.435 deg",
          "Bus 11<br />V_m = 0.864 pu<br />V_m = 17.284 kV<br />V_a = -44.224 deg",
          "Bus 12<br />V_m = 1.0 pu<br />V_m = 20.003 kV<br />V_a = -35.487 deg",
          "Bus 13<br />V_m = 0.995 pu<br />V_m = 19.907 kV<br />V_a = -35.538 deg",
          "Bus 14<br />V_m = 0.993 pu<br />V_m = 19.851 kV<br />V_a = -35.568 deg"
         ],
         "x": [
          7.0,
          4.0,
          4.0,
          4.0,
          2.5,
          1.0,
          1.0,
          8.0,
          8.0,
          6.0,
          4.0,
          4.0,
          10.0,
          10.0,
          10.0
         ],
         "y": [
          16.0,
          15.0,
          13.0,
          11.0,
          9.0,
          7.0,
          3.0,
          3.0,
          5.0,
          5.0,
          5.0,
          7.0,
          15.0,
          11.0,
          5.0
         ],
         "type": "scatter"
        }
       ],
       "layout": {
        "autosize": true,
        "hovermode": "closest",
        "legend": {
         "itemsizing": "constant"
        },
        "margin": {
         "b": 5,
         "l": 5,
         "r": 5,
         "t": 5
        },
        "showlegend": false,
        "title": {
         "font": {
          "size": 16
         }
        },
        "xaxis": {
         "showgrid": false,
         "showticklabels": false,
         "zeroline": false
        },
        "yaxis": {
         "showgrid": false,
         "showticklabels": false,
         "zeroline": false
        },
        "template": {
         "data": {
          "histogram2dcontour": [
           {
            "type": "histogram2dcontour",
            "colorbar": {
             "outlinewidth": 0,
             "ticks": ""
            },
            "colorscale": [
             [
              0.0,
              "#0d0887"
             ],
             [
              0.1111111111111111,
              "#46039f"
             ],
             [
              0.2222222222222222,
              "#7201a8"
             ],
             [
              0.3333333333333333,
              "#9c179e"
             ],
             [
              0.4444444444444444,
              "#bd3786"
             ],
             [
              0.5555555555555556,
              "#d8576b"
             ],
             [
              0.6666666666666666,
              "#ed7953"
             ],
             [
              0.7777777777777778,
              "#fb9f3a"
             ],
             [
              0.8888888888888888,
              "#fdca26"
             ],
             [
              1.0,
              "#f0f921"
             ]
            ]
           }
          ],
          "choropleth": [
           {
            "type": "choropleth",
            "colorbar": {
             "outlinewidth": 0,
             "ticks": ""
            }
           }
          ],
          "histogram2d": [
           {
            "type": "histogram2d",
            "colorbar": {
             "outlinewidth": 0,
             "ticks": ""
            },
            "colorscale": [
             [
              0.0,
              "#0d0887"
             ],
             [
              0.1111111111111111,
              "#46039f"
             ],
             [
              0.2222222222222222,
              "#7201a8"
             ],
             [
              0.3333333333333333,
              "#9c179e"
             ],
             [
              0.4444444444444444,
              "#bd3786"
             ],
             [
              0.5555555555555556,
              "#d8576b"
             ],
             [
              0.6666666666666666,
              "#ed7953"
             ],
             [
              0.7777777777777778,
              "#fb9f3a"
             ],
             [
              0.8888888888888888,
              "#fdca26"
             ],
             [
              1.0,
              "#f0f921"
             ]
            ]
           }
          ],
          "heatmap": [
           {
            "type": "heatmap",
            "colorbar": {
             "outlinewidth": 0,
             "ticks": ""
            },
            "colorscale": [
             [
              0.0,
              "#0d0887"
             ],
             [
              0.1111111111111111,
              "#46039f"
             ],
             [
              0.2222222222222222,
              "#7201a8"
             ],
             [
              0.3333333333333333,
              "#9c179e"
             ],
             [
              0.4444444444444444,
              "#bd3786"
             ],
             [
              0.5555555555555556,
              "#d8576b"
             ],
             [
              0.6666666666666666,
              "#ed7953"
             ],
             [
              0.7777777777777778,
              "#fb9f3a"
             ],
             [
              0.8888888888888888,
              "#fdca26"
             ],
             [
              1.0,
              "#f0f921"
             ]
            ]
           }
          ],
          "contourcarpet": [
           {
            "type": "contourcarpet",
            "colorbar": {
             "outlinewidth": 0,
             "ticks": ""
            }
           }
          ],
          "contour": [
           {
            "type": "contour",
            "colorbar": {
             "outlinewidth": 0,
             "ticks": ""
            },
            "colorscale": [
             [
              0.0,
              "#0d0887"
             ],
             [
              0.1111111111111111,
              "#46039f"
             ],
             [
              0.2222222222222222,
              "#7201a8"
             ],
             [
              0.3333333333333333,
              "#9c179e"
             ],
             [
              0.4444444444444444,
              "#bd3786"
             ],
             [
              0.5555555555555556,
              "#d8576b"
             ],
             [
              0.6666666666666666,
              "#ed7953"
             ],
             [
              0.7777777777777778,
              "#fb9f3a"
             ],
             [
              0.8888888888888888,
              "#fdca26"
             ],
             [
              1.0,
              "#f0f921"
             ]
            ]
           }
          ],
          "surface": [
           {
            "type": "surface",
            "colorbar": {
             "outlinewidth": 0,
             "ticks": ""
            },
            "colorscale": [
             [
              0.0,
              "#0d0887"
             ],
             [
              0.1111111111111111,
              "#46039f"
             ],
             [
              0.2222222222222222,
              "#7201a8"
             ],
             [
              0.3333333333333333,
              "#9c179e"
             ],
             [
              0.4444444444444444,
              "#bd3786"
             ],
             [
              0.5555555555555556,
              "#d8576b"
             ],
             [
              0.6666666666666666,
              "#ed7953"
             ],
             [
              0.7777777777777778,
              "#fb9f3a"
             ],
             [
              0.8888888888888888,
              "#fdca26"
             ],
             [
              1.0,
              "#f0f921"
             ]
            ]
           }
          ],
          "mesh3d": [
           {
            "type": "mesh3d",
            "colorbar": {
             "outlinewidth": 0,
             "ticks": ""
            }
           }
          ],
          "scatter": [
           {
            "fillpattern": {
             "fillmode": "overlay",
             "size": 10,
             "solidity": 0.2
            },
            "type": "scatter"
           }
          ],
          "parcoords": [
           {
            "type": "parcoords",
            "line": {
             "colorbar": {
              "outlinewidth": 0,
              "ticks": ""
             }
            }
           }
          ],
          "scatterpolargl": [
           {
            "type": "scatterpolargl",
            "marker": {
             "colorbar": {
              "outlinewidth": 0,
              "ticks": ""
             }
            }
           }
          ],
          "bar": [
           {
            "error_x": {
             "color": "#2a3f5f"
            },
            "error_y": {
             "color": "#2a3f5f"
            },
            "marker": {
             "line": {
              "color": "#E5ECF6",
              "width": 0.5
             },
             "pattern": {
              "fillmode": "overlay",
              "size": 10,
              "solidity": 0.2
             }
            },
            "type": "bar"
           }
          ],
          "scattergeo": [
           {
            "type": "scattergeo",
            "marker": {
             "colorbar": {
              "outlinewidth": 0,
              "ticks": ""
             }
            }
           }
          ],
          "scatterpolar": [
           {
            "type": "scatterpolar",
            "marker": {
             "colorbar": {
              "outlinewidth": 0,
              "ticks": ""
             }
            }
           }
          ],
          "histogram": [
           {
            "marker": {
             "pattern": {
              "fillmode": "overlay",
              "size": 10,
              "solidity": 0.2
             }
            },
            "type": "histogram"
           }
          ],
          "scattergl": [
           {
            "type": "scattergl",
            "marker": {
             "colorbar": {
              "outlinewidth": 0,
              "ticks": ""
             }
            }
           }
          ],
          "scatter3d": [
           {
            "type": "scatter3d",
            "line": {
             "colorbar": {
              "outlinewidth": 0,
              "ticks": ""
             }
            },
            "marker": {
             "colorbar": {
              "outlinewidth": 0,
              "ticks": ""
             }
            }
           }
          ],
          "scattermap": [
           {
            "type": "scattermap",
            "marker": {
             "colorbar": {
              "outlinewidth": 0,
              "ticks": ""
             }
            }
           }
          ],
          "scattermapbox": [
           {
            "type": "scattermapbox",
            "marker": {
             "colorbar": {
              "outlinewidth": 0,
              "ticks": ""
             }
            }
           }
          ],
          "scatterternary": [
           {
            "type": "scatterternary",
            "marker": {
             "colorbar": {
              "outlinewidth": 0,
              "ticks": ""
             }
            }
           }
          ],
          "scattercarpet": [
           {
            "type": "scattercarpet",
            "marker": {
             "colorbar": {
              "outlinewidth": 0,
              "ticks": ""
             }
            }
           }
          ],
          "carpet": [
           {
            "aaxis": {
             "endlinecolor": "#2a3f5f",
             "gridcolor": "white",
             "linecolor": "white",
             "minorgridcolor": "white",
             "startlinecolor": "#2a3f5f"
            },
            "baxis": {
             "endlinecolor": "#2a3f5f",
             "gridcolor": "white",
             "linecolor": "white",
             "minorgridcolor": "white",
             "startlinecolor": "#2a3f5f"
            },
            "type": "carpet"
           }
          ],
          "table": [
           {
            "cells": {
             "fill": {
              "color": "#EBF0F8"
             },
             "line": {
              "color": "white"
             }
            },
            "header": {
             "fill": {
              "color": "#C8D4E3"
             },
             "line": {
              "color": "white"
             }
            },
            "type": "table"
           }
          ],
          "barpolar": [
           {
            "marker": {
             "line": {
              "color": "#E5ECF6",
              "width": 0.5
             },
             "pattern": {
              "fillmode": "overlay",
              "size": 10,
              "solidity": 0.2
             }
            },
            "type": "barpolar"
           }
          ],
          "pie": [
           {
            "automargin": true,
            "type": "pie"
           }
          ]
         },
         "layout": {
          "autotypenumbers": "strict",
          "colorway": [
           "#636efa",
           "#EF553B",
           "#00cc96",
           "#ab63fa",
           "#FFA15A",
           "#19d3f3",
           "#FF6692",
           "#B6E880",
           "#FF97FF",
           "#FECB52"
          ],
          "font": {
           "color": "#2a3f5f"
          },
          "hovermode": "closest",
          "hoverlabel": {
           "align": "left"
          },
          "paper_bgcolor": "white",
          "plot_bgcolor": "#E5ECF6",
          "polar": {
           "bgcolor": "#E5ECF6",
           "angularaxis": {
            "gridcolor": "white",
            "linecolor": "white",
            "ticks": ""
           },
           "radialaxis": {
            "gridcolor": "white",
            "linecolor": "white",
            "ticks": ""
           }
          },
          "ternary": {
           "bgcolor": "#E5ECF6",
           "aaxis": {
            "gridcolor": "white",
            "linecolor": "white",
            "ticks": ""
           },
           "baxis": {
            "gridcolor": "white",
            "linecolor": "white",
            "ticks": ""
           },
           "caxis": {
            "gridcolor": "white",
            "linecolor": "white",
            "ticks": ""
           }
          },
          "coloraxis": {
           "colorbar": {
            "outlinewidth": 0,
            "ticks": ""
           }
          },
          "colorscale": {
           "sequential": [
            [
             0.0,
             "#0d0887"
            ],
            [
             0.1111111111111111,
             "#46039f"
            ],
            [
             0.2222222222222222,
             "#7201a8"
            ],
            [
             0.3333333333333333,
             "#9c179e"
            ],
            [
             0.4444444444444444,
             "#bd3786"
            ],
            [
             0.5555555555555556,
             "#d8576b"
            ],
            [
             0.6666666666666666,
             "#ed7953"
            ],
            [
             0.7777777777777778,
             "#fb9f3a"
            ],
            [
             0.8888888888888888,
             "#fdca26"
            ],
            [
             1.0,
             "#f0f921"
            ]
           ],
           "sequentialminus": [
            [
             0.0,
             "#0d0887"
            ],
            [
             0.1111111111111111,
             "#46039f"
            ],
            [
             0.2222222222222222,
             "#7201a8"
            ],
            [
             0.3333333333333333,
             "#9c179e"
            ],
            [
             0.4444444444444444,
             "#bd3786"
            ],
            [
             0.5555555555555556,
             "#d8576b"
            ],
            [
             0.6666666666666666,
             "#ed7953"
            ],
            [
             0.7777777777777778,
             "#fb9f3a"
            ],
            [
             0.8888888888888888,
             "#fdca26"
            ],
            [
             1.0,
             "#f0f921"
            ]
           ],
           "diverging": [
            [
             0,
             "#8e0152"
            ],
            [
             0.1,
             "#c51b7d"
            ],
            [
             0.2,
             "#de77ae"
            ],
            [
             0.3,
             "#f1b6da"
            ],
            [
             0.4,
             "#fde0ef"
            ],
            [
             0.5,
             "#f7f7f7"
            ],
            [
             0.6,
             "#e6f5d0"
            ],
            [
             0.7,
             "#b8e186"
            ],
            [
             0.8,
             "#7fbc41"
            ],
            [
             0.9,
             "#4d9221"
            ],
            [
             1,
             "#276419"
            ]
           ]
          },
          "xaxis": {
           "gridcolor": "white",
           "linecolor": "white",
           "ticks": "",
           "title": {
            "standoff": 15
           },
           "zerolinecolor": "white",
           "automargin": true,
           "zerolinewidth": 2
          },
          "yaxis": {
           "gridcolor": "white",
           "linecolor": "white",
           "ticks": "",
           "title": {
            "standoff": 15
           },
           "zerolinecolor": "white",
           "automargin": true,
           "zerolinewidth": 2
          },
          "scene": {
           "xaxis": {
            "backgroundcolor": "#E5ECF6",
            "gridcolor": "white",
            "linecolor": "white",
            "showbackground": true,
            "ticks": "",
            "zerolinecolor": "white",
            "gridwidth": 2
           },
           "yaxis": {
            "backgroundcolor": "#E5ECF6",
            "gridcolor": "white",
            "linecolor": "white",
            "showbackground": true,
            "ticks": "",
            "zerolinecolor": "white",
            "gridwidth": 2
           },
           "zaxis": {
            "backgroundcolor": "#E5ECF6",
            "gridcolor": "white",
            "linecolor": "white",
            "showbackground": true,
            "ticks": "",
            "zerolinecolor": "white",
            "gridwidth": 2
           }
          },
          "shapedefaults": {
           "line": {
            "color": "#2a3f5f"
           }
          },
          "annotationdefaults": {
           "arrowcolor": "#2a3f5f",
           "arrowhead": 0,
           "arrowwidth": 1
          },
          "geo": {
           "bgcolor": "white",
           "landcolor": "#E5ECF6",
           "subunitcolor": "white",
           "showland": true,
           "showlakes": true,
           "lakecolor": "white"
          },
          "title": {
           "x": 0.05
          },
          "mapbox": {
           "style": "light"
          }
         }
        },
        "width": 484.6153846153846,
        "height": 700.0
       },
       "config": {
        "plotlyServerURL": "https://plot.ly"
       }
      }
     },
     "metadata": {},
     "output_type": "display_data"
    }
   ],
   "execution_count": 3
  },
  {
   "metadata": {
    "ExecuteTime": {
     "end_time": "2025-07-13T01:10:13.420633Z",
     "start_time": "2025-07-13T01:10:13.200882Z"
    }
   },
   "cell_type": "code",
   "source": [
    "30 net = pp.networks.case30()\n",
    "pp.plotting.plotly.pf_res_plotly(net, auto_open=False)"
   ],
   "id": "6cbe875d10adb4c0",
   "execution_count": 10,
   "outputs": [
    {
     "name": "stderr",
     "output_type": "stream",
     "text": [
      "There are no Power Flow results. A Newton-Raphson power flow will be executed.\n"
     ]
    },
    {
     "data": {
      "application/vnd.plotly.v1+json": {
       "data": [
        {
         "hoverinfo": "text",
         "legendgroup": "lines",
         "line": {
          "color": "rgb(0.0,0.0,232.04545454545453)",
          "dash": "solid",
          "width": 2
         },
         "mode": "lines",
         "name": "lines",
         "showlegend": true,
         "text": "None<br />I = 9.246 %<br />I_from = 0.051 kA<br />I_to = 0.047 kA<br />",
         "x": [
          -1.72745671,
          -1.144736945,
          -0.56201718
         ],
         "y": [
          -3.18926495,
          -3.252058715,
          -3.31485248
         ],
         "type": "scatter"
        },
        {
         "hoverinfo": "text",
         "legendgroup": "lines",
         "line": {
          "color": "rgb(0.0,0.0,255.0)",
          "dash": "solid",
          "width": 2
         },
         "mode": "lines",
         "name": "lines",
         "showlegend": false,
         "text": "None<br />I = 12.488 %<br />I_from = 0.067 kA<br />I_to = 0.069 kA<br />",
         "x": [
          -1.72745671,
          -1.659033685,
          -1.59061066
         ],
         "y": [
          -3.18926495,
          -3.66673355,
          -4.14420215
         ],
         "type": "scatter"
        },
        {
         "hoverinfo": "text",
         "legendgroup": "lines",
         "line": {
          "color": "rgb(0.0,148.5,255.0)",
          "dash": "solid",
          "width": 2
         },
         "mode": "lines",
         "name": "lines",
         "showlegend": false,
         "text": "None<br />I = 27.045 %<br />I_from = 0.072 kA<br />I_to = 0.075 kA<br />",
         "x": [
          -0.56201718,
          -0.467355915,
          -0.37269465
         ],
         "y": [
          -3.31485248,
          -3.798880015,
          -4.28290755
         ],
         "type": "scatter"
        },
        {
         "hoverinfo": "text",
         "legendgroup": "lines",
         "line": {
          "color": "rgb(0.0,0.0,245.68181818181816)",
          "dash": "solid",
          "width": 2
         },
         "mode": "lines",
         "name": "lines",
         "showlegend": false,
         "text": "None<br />I = 10.403 %<br />I_from = 0.058 kA<br />I_to = 0.058 kA<br />",
         "x": [
          -1.59061066,
          -0.981652655,
          -0.37269465
         ],
         "y": [
          -4.14420215,
          -4.2135548499999995,
          -4.28290755
         ],
         "type": "scatter"
        },
        {
         "hoverinfo": "text",
         "legendgroup": "lines",
         "line": {
          "color": "rgb(0.0,0.0,255.0)",
          "dash": "solid",
          "width": 2
         },
         "mode": "lines",
         "name": "lines",
         "showlegend": false,
         "text": "None<br />I = 11.707 %<br />I_from = 0.062 kA<br />I_to = 0.065 kA<br />",
         "x": [
          -0.56201718,
          -0.8079004,
          -1.05378362
         ],
         "y": [
          -3.31485248,
          -2.7771494150000002,
          -2.23944635
         ],
         "type": "scatter"
        },
        {
         "hoverinfo": "text",
         "legendgroup": "lines",
         "line": {
          "color": "rgb(0.0,220.5,254.03225806451613)",
          "dash": "solid",
          "width": 2
         },
         "mode": "lines",
         "name": "lines",
         "showlegend": false,
         "text": "None<br />I = 34.334 %<br />I_from = 0.092 kA<br />I_to = 0.095 kA<br />",
         "x": [
          -0.56201718,
          -0.015554390000000029,
          0.5309084
         ],
         "y": [
          -3.31485248,
          -3.374062425,
          -3.43327237
         ],
         "type": "scatter"
        },
        {
         "hoverinfo": "text",
         "legendgroup": "lines",
         "line": {
          "color": "rgb(0.0,164.5,255.0)",
          "dash": "solid",
          "width": 2
         },
         "mode": "lines",
         "name": "lines",
         "showlegend": false,
         "text": "None<br />I = 28.586 %<br />I_from = 0.11 kA<br />I_to = 0.11 kA<br />",
         "x": [
          -0.37269465,
          0.07910687499999997,
          0.5309084
         ],
         "y": [
          -4.28290755,
          -3.85808996,
          -3.43327237
         ],
         "type": "scatter"
        },
        {
         "hoverinfo": "text",
         "legendgroup": "lines",
         "line": {
          "color": "rgb(0.0,100.49999999999997,255.0)",
          "dash": "solid",
          "width": 2
         },
         "mode": "lines",
         "name": "lines",
         "showlegend": false,
         "text": "None<br />I = 22.454 %<br />I_from = 0.065 kA<br />I_to = 0.067 kA<br />",
         "x": [
          -1.05378362,
          -0.5605813749999999,
          -0.06737913
         ],
         "y": [
          -2.23944635,
          -2.31566683,
          -2.39188731
         ],
         "type": "scatter"
        },
        {
         "hoverinfo": "text",
         "legendgroup": "lines",
         "line": {
          "color": "rgb(0.0,0.0,218.4090909090909)",
          "dash": "solid",
          "width": 2
         },
         "mode": "lines",
         "name": "lines",
         "showlegend": false,
         "text": "None<br />I = 8.013 %<br />I_from = 0.043 kA<br />I_to = 0.045 kA<br />",
         "x": [
          0.5309084,
          0.23176463499999997,
          -0.06737913
         ],
         "y": [
          -3.43327237,
          -2.9125798400000003,
          -2.39188731
         ],
         "type": "scatter"
        },
        {
         "hoverinfo": "text",
         "legendgroup": "lines",
         "line": {
          "color": "rgb(127.5,0.0,0.0)",
          "dash": "solid",
          "width": 2
         },
         "mode": "lines",
         "name": "lines",
         "showlegend": false,
         "text": "None<br />I = 111.831 %<br />I_from = 0.153 kA<br />I_to = 0.153 kA<br />",
         "x": [
          0.5309084,
          0.7989117299999999,
          1.06691506
         ],
         "y": [
          -3.43327237,
          -2.93221524,
          -2.43115811
         ],
         "type": "scatter"
        },
        {
         "hoverinfo": "text",
         "legendgroup": "lines",
         "line": {
          "color": "rgb(0.0,0.0,250.22727272727272)",
          "dash": "solid",
          "width": 2
         },
         "mode": "lines",
         "name": "lines",
         "showlegend": false,
         "text": "None<br />I = 10.578 %<br />I_from = 0.029 kA<br />I_to = 0.029 kA<br />",
         "x": [
          0.5309084,
          0.817345075,
          1.10378175
         ],
         "y": [
          -3.43327237,
          -3.3104080849999997,
          -3.1875438
         ],
         "type": "scatter"
        },
        {
         "hoverinfo": "text",
         "legendgroup": "lines",
         "line": {
          "color": "rgb(0.0,0.0,255.0)",
          "dash": "solid",
          "width": 2
         },
         "mode": "lines",
         "name": "lines",
         "showlegend": false,
         "text": "None<br />I = 12.278 %<br />I_from = 0.017 kA<br />I_to = 0.017 kA<br />",
         "x": [
          0.5309084,
          0.846803945,
          1.16269949
         ],
         "y": [
          -3.43327237,
          -3.865560975,
          -4.29784958
         ],
         "type": "scatter"
        },
        {
         "hoverinfo": "text",
         "legendgroup": "lines",
         "line": {
          "color": "rgb(0.0,0.0,127.5)",
          "dash": "solid",
          "width": 2
         },
         "mode": "lines",
         "name": "lines",
         "showlegend": false,
         "text": "None<br />I = 0.0 %<br />I_from = 0.0 kA<br />I_to = 0.0 kA<br />",
         "x": [
          1.10378175,
          1.05793482,
          1.01208789
         ],
         "y": [
          -3.1875438,
          -2.46451495,
          -1.7414861
         ],
         "type": "scatter"
        },
        {
         "hoverinfo": "text",
         "legendgroup": "lines",
         "line": {
          "color": "rgb(0.0,0.0,250.22727272727272)",
          "dash": "solid",
          "width": 2
         },
         "mode": "lines",
         "name": "lines",
         "showlegend": false,
         "text": "None<br />I = 10.578 %<br />I_from = 0.029 kA<br />I_to = 0.029 kA<br />",
         "x": [
          1.10378175,
          1.13324062,
          1.16269949
         ],
         "y": [
          -3.1875438,
          -3.74269669,
          -4.29784958
         ],
         "type": "scatter"
        },
        {
         "hoverinfo": "text",
         "legendgroup": "lines",
         "line": {
          "color": "rgb(0.0,0.0,172.95454545454544)",
          "dash": "solid",
          "width": 2
         },
         "mode": "lines",
         "name": "lines",
         "showlegend": false,
         "text": "None<br />I = 4.119 %<br />I_from = 0.011 kA<br />I_to = 0.011 kA<br />",
         "x": [
          -0.37269465,
          -0.31053251000000004,
          -0.24837037
         ],
         "y": [
          -4.28290755,
          -4.9920337450000005,
          -5.70115994
         ],
         "type": "scatter"
        },
        {
         "hoverinfo": "text",
         "legendgroup": "lines",
         "line": {
          "color": "rgb(202.41935483870967,255.0,44.35483870967742)",
          "dash": "solid",
          "width": 2
         },
         "mode": "lines",
         "name": "lines",
         "showlegend": false,
         "text": "None<br />I = 59.542 %<br />I_from = 0.166 kA<br />I_to = 0.166 kA<br />",
         "x": [
          -0.24837037,
          -0.79994002,
          -1.35150967
         ],
         "y": [
          -5.70115994,
          -6.03301106,
          -6.36486218
         ],
         "type": "scatter"
        },
        {
         "hoverinfo": "text",
         "legendgroup": "lines",
         "line": {
          "color": "rgb(0.0,48.5,255.0)",
          "dash": "solid",
          "width": 2
         },
         "mode": "lines",
         "name": "lines",
         "showlegend": false,
         "text": "None<br />I = 17.311 %<br />I_from = 0.024 kA<br />I_to = 0.024 kA<br />",
         "x": [
          -0.24837037,
          -0.193819105,
          -0.13926784
         ],
         "y": [
          -5.70115994,
          -6.2184397449999995,
          -6.73571955
         ],
         "type": "scatter"
        },
        {
         "hoverinfo": "text",
         "legendgroup": "lines",
         "line": {
          "color": "rgb(0.0,180.5,255.0)",
          "dash": "solid",
          "width": 2
         },
         "mode": "lines",
         "name": "lines",
         "showlegend": false,
         "text": "None<br />I = 30.241 %<br />I_from = 0.041 kA<br />I_to = 0.041 kA<br />",
         "x": [
          -0.24837037,
          0.27790299500000004,
          0.80417636
         ],
         "y": [
          -5.70115994,
          -6.06373286,
          -6.42630578
         ],
         "type": "scatter"
        },
        {
         "hoverinfo": "text",
         "legendgroup": "lines",
         "line": {
          "color": "rgb(0.0,172.5,255.0)",
          "dash": "solid",
          "width": 2
         },
         "mode": "lines",
         "name": "lines",
         "showlegend": false,
         "text": "None<br />I = 29.377 %<br />I_from = 0.04 kA<br />I_to = 0.04 kA<br />",
         "x": [
          -0.24837037,
          -0.586332905,
          -0.92429544
         ],
         "y": [
          -5.70115994,
          -5.58677737,
          -5.4723948
         ],
         "type": "scatter"
        },
        {
         "hoverinfo": "text",
         "legendgroup": "lines",
         "line": {
          "color": "rgb(0.0,0.0,213.86363636363635)",
          "dash": "solid",
          "width": 2
         },
         "mode": "lines",
         "name": "lines",
         "showlegend": false,
         "text": "None<br />I = 7.468 %<br />I_from = 0.005 kA<br />I_to = 0.005 kA<br />",
         "x": [
          -0.13926784,
          0.33245426,
          0.80417636
         ],
         "y": [
          -6.73571955,
          -6.581012664999999,
          -6.42630578
         ],
         "type": "scatter"
        },
        {
         "hoverinfo": "text",
         "legendgroup": "lines",
         "line": {
          "color": "rgb(31.4516129032258,255.0,215.3225806451613)",
          "dash": "solid",
          "width": 2
         },
         "mode": "lines",
         "name": "lines",
         "showlegend": false,
         "text": "None<br />I = 38.699 %<br />I_from = 0.026 kA<br />I_to = 0.026 kA<br />",
         "x": [
          -0.92429544,
          -0.34736308,
          0.22956928
         ],
         "y": [
          -5.4723948,
          -5.190921685,
          -4.90944857
         ],
         "type": "scatter"
        },
        {
         "hoverinfo": "text",
         "legendgroup": "lines",
         "line": {
          "color": "rgb(195.96774193548384,255.0,50.80645161290322)",
          "dash": "solid",
          "width": 2
         },
         "mode": "lines",
         "name": "lines",
         "showlegend": false,
         "text": "None<br />I = 58.634 %<br />I_from = 0.04 kA<br />I_to = 0.04 kA<br />",
         "x": [
          0.80417636,
          0.948945315,
          1.09371427
         ],
         "y": [
          -6.42630578,
          -6.9497400549999995,
          -7.47317433
         ],
         "type": "scatter"
        },
        {
         "hoverinfo": "text",
         "legendgroup": "lines",
         "line": {
          "color": "rgb(24.999999999999996,255.0,221.7741935483871)",
          "dash": "solid",
          "width": 2
         },
         "mode": "lines",
         "name": "lines",
         "showlegend": false,
         "text": "None<br />I = 37.93 %<br />I_from = 0.026 kA<br />I_to = 0.026 kA<br />",
         "x": [
          1.09371427,
          1.475601165,
          1.85748806
         ],
         "y": [
          -7.47317433,
          -7.164482555,
          -6.85579078
         ],
         "type": "scatter"
        },
        {
         "hoverinfo": "text",
         "legendgroup": "lines",
         "line": {
          "color": "rgb(0.0,44.5,255.0)",
          "dash": "solid",
          "width": 2
         },
         "mode": "lines",
         "name": "lines",
         "showlegend": false,
         "text": "None<br />I = 17.025 %<br />I_from = 0.023 kA<br />I_to = 0.023 kA<br />",
         "x": [
          1.85748806,
          1.6770482850000001,
          1.49660851
         ],
         "y": [
          -6.85579078,
          -6.2062257,
          -5.55666062
         ],
         "type": "scatter"
        },
        {
         "hoverinfo": "text",
         "legendgroup": "lines",
         "line": {
          "color": "rgb(0.0,116.49999999999997,255.0)",
          "dash": "solid",
          "width": 2
         },
         "mode": "lines",
         "name": "lines",
         "showlegend": false,
         "text": "None<br />I = 23.837 %<br />I_from = 0.033 kA<br />I_to = 0.033 kA<br />",
         "x": [
          1.16269949,
          1.3296540000000001,
          1.49660851
         ],
         "y": [
          -4.29784958,
          -4.9272551,
          -5.55666062
         ],
         "type": "scatter"
        },
        {
         "hoverinfo": "text",
         "legendgroup": "lines",
         "line": {
          "color": "rgb(0.0,152.5,255.0)",
          "dash": "solid",
          "width": 2
         },
         "mode": "lines",
         "name": "lines",
         "showlegend": false,
         "text": "None<br />I = 27.595 %<br />I_from = 0.038 kA<br />I_to = 0.038 kA<br />",
         "x": [
          1.16269949,
          0.696134385,
          0.22956928
         ],
         "y": [
          -4.29784958,
          -4.603649075,
          -4.90944857
         ],
         "type": "scatter"
        },
        {
         "hoverinfo": "text",
         "legendgroup": "lines",
         "line": {
          "color": "rgb(21.774193548387093,255.0,225.0)",
          "dash": "solid",
          "width": 2
         },
         "mode": "lines",
         "name": "lines",
         "showlegend": false,
         "text": "None<br />I = 37.71 %<br />I_from = 0.052 kA<br />I_to = 0.052 kA<br />",
         "x": [
          1.16269949,
          1.522229425,
          1.88175936
         ],
         "y": [
          -4.29784958,
          -4.48328995,
          -4.66873032
         ],
         "type": "scatter"
        },
        {
         "hoverinfo": "text",
         "legendgroup": "lines",
         "line": {
          "color": "rgb(0.0,172.5,255.0)",
          "dash": "solid",
          "width": 2
         },
         "mode": "lines",
         "name": "lines",
         "showlegend": false,
         "text": "None<br />I = 29.449 %<br />I_from = 0.04 kA<br />I_to = 0.04 kA<br />",
         "x": [
          1.16269949,
          1.7847798400000001,
          2.40686019
         ],
         "y": [
          -4.29784958,
          -4.348596615,
          -4.39934365
         ],
         "type": "scatter"
        },
        {
         "hoverinfo": "text",
         "legendgroup": "lines",
         "line": {
          "color": "rgb(177.50000000000017,0.0,0.0)",
          "dash": "solid",
          "width": 2
         },
         "mode": "lines",
         "name": "lines",
         "showlegend": false,
         "text": "None<br />I = 95.351 %<br />I_from = 0.13 kA<br />I_to = 0.13 kA<br />",
         "x": [
          1.88175936,
          2.144309775,
          2.40686019
         ],
         "y": [
          -4.66873032,
          -4.534036985,
          -4.39934365
         ],
         "type": "scatter"
        },
        {
         "hoverinfo": "text",
         "legendgroup": "lines",
         "line": {
          "color": "rgb(250.8064516129032,240.92592592592598,0.0)",
          "dash": "solid",
          "width": 2
         },
         "mode": "lines",
         "name": "lines",
         "showlegend": false,
         "text": "None<br />I = 65.36 %<br />I_from = 0.045 kA<br />I_to = 0.045 kA<br />",
         "x": [
          0.80417636,
          1.539526445,
          2.27487653
         ],
         "y": [
          -6.42630578,
          -6.2941214,
          -6.16193702
         ],
         "type": "scatter"
        },
        {
         "hoverinfo": "text",
         "legendgroup": "lines",
         "line": {
          "color": "rgb(128.2258064516129,255.0,118.5483870967742)",
          "dash": "solid",
          "width": 2
         },
         "mode": "lines",
         "name": "lines",
         "showlegend": false,
         "text": "None<br />I = 50.475 %<br />I_from = 0.035 kA<br />I_to = 0.035 kA<br />",
         "x": [
          2.40686019,
          2.761921925,
          3.11698366
         ],
         "y": [
          -4.39934365,
          -4.772967845,
          -5.14659204
         ],
         "type": "scatter"
        },
        {
         "hoverinfo": "text",
         "legendgroup": "lines",
         "line": {
          "color": "rgb(79.8387096774193,255.0,166.93548387096777)",
          "dash": "solid",
          "width": 2
         },
         "mode": "lines",
         "name": "lines",
         "showlegend": false,
         "text": "None<br />I = 44.627 %<br />I_from = 0.031 kA<br />I_to = 0.031 kA<br />",
         "x": [
          2.27487653,
          2.6959300949999996,
          3.11698366
         ],
         "y": [
          -6.16193702,
          -5.65426453,
          -5.14659204
         ],
         "type": "scatter"
        },
        {
         "hoverinfo": "text",
         "legendgroup": "lines",
         "line": {
          "color": "rgb(0.0,144.5,255.0)",
          "dash": "solid",
          "width": 2
         },
         "mode": "lines",
         "name": "lines",
         "showlegend": false,
         "text": "None<br />I = 26.82 %<br />I_from = 0.018 kA<br />I_to = 0.018 kA<br />",
         "x": [
          3.11698366,
          3.42081239,
          3.72464112
         ],
         "y": [
          -5.14659204,
          -4.591842415,
          -4.03709279
         ],
         "type": "scatter"
        },
        {
         "hoverinfo": "text",
         "legendgroup": "lines",
         "line": {
          "color": "rgb(0.0,144.5,255.0)",
          "dash": "solid",
          "width": 2
         },
         "mode": "lines",
         "name": "lines",
         "showlegend": false,
         "text": "None<br />I = 26.924 %<br />I_from = 0.018 kA<br />I_to = 0.018 kA<br />",
         "x": [
          3.72464112,
          4.277290765,
          4.82994041
         ],
         "y": [
          -4.03709279,
          -4.15378437,
          -4.27047595
         ],
         "type": "scatter"
        },
        {
         "hoverinfo": "text",
         "legendgroup": "lines",
         "line": {
          "color": "rgb(99.19354838709675,255.0,147.58064516129033)",
          "dash": "solid",
          "width": 2
         },
         "mode": "lines",
         "name": "lines",
         "showlegend": false,
         "text": "None<br />I = 47.135 %<br />I_from = 0.032 kA<br />I_to = 0.032 kA<br />",
         "x": [
          3.72464112,
          3.414273855,
          3.10390659
         ],
         "y": [
          -4.03709279,
          -3.45221746,
          -2.86734213
         ],
         "type": "scatter"
        },
        {
         "hoverinfo": "text",
         "legendgroup": "lines",
         "line": {
          "color": "rgb(0.0,8.5,255.0)",
          "dash": "solid",
          "width": 2
         },
         "mode": "lines",
         "name": "lines",
         "showlegend": false,
         "text": "None<br />I = 13.614 %<br />I_from = 0.038 kA<br />I_to = 0.038 kA<br />",
         "x": [
          1.85340926,
          2.478657925,
          3.10390659
         ],
         "y": [
          -2.84894447,
          -2.8581433,
          -2.86734213
         ],
         "type": "scatter"
        },
        {
         "hoverinfo": "text",
         "legendgroup": "lines",
         "line": {
          "color": "rgb(41.129032258064505,255.0,205.6451612903226)",
          "dash": "solid",
          "width": 2
         },
         "mode": "lines",
         "name": "lines",
         "showlegend": false,
         "text": "None<br />I = 39.996 %<br />I_from = 0.027 kA<br />I_to = 0.027 kA<br />",
         "x": [
          3.10390659,
          3.5708549549999997,
          4.03780332
         ],
         "y": [
          -2.86734213,
          -2.57542253,
          -2.28350293
         ],
         "type": "scatter"
        },
        {
         "hoverinfo": "text",
         "legendgroup": "lines",
         "line": {
          "color": "rgb(89.51612903225806,255.0,157.25806451612902)",
          "dash": "solid",
          "width": 2
         },
         "mode": "lines",
         "name": "lines",
         "showlegend": false,
         "text": "None<br />I = 45.729 %<br />I_from = 0.031 kA<br />I_to = 0.031 kA<br />",
         "x": [
          3.10390659,
          3.28742716,
          3.47094773
         ],
         "y": [
          -2.86734213,
          -2.3063157,
          -1.74528927
         ],
         "type": "scatter"
        },
        {
         "hoverinfo": "text",
         "legendgroup": "lines",
         "line": {
          "color": "rgb(0.0,112.5,255.0)",
          "dash": "solid",
          "width": 2
         },
         "mode": "lines",
         "name": "lines",
         "showlegend": false,
         "text": "None<br />I = 23.825 %<br />I_from = 0.016 kA<br />I_to = 0.016 kA<br />",
         "x": [
          4.03780332,
          3.754375525,
          3.47094773
         ],
         "y": [
          -2.28350293,
          -2.0143961,
          -1.74528927
         ],
         "type": "scatter"
        },
        {
         "hoverinfo": "text",
         "legendgroup": "lines",
         "line": {
          "color": "rgb(0.0,140.5,255.0)",
          "dash": "solid",
          "width": 2
         },
         "mode": "lines",
         "name": "lines",
         "showlegend": false,
         "text": "None<br />I = 26.261 %<br />I_from = 0.036 kA<br />I_to = 0.03 kA<br />",
         "x": [
          1.06691506,
          1.4601621599999999,
          1.85340926
         ],
         "y": [
          -2.43115811,
          -2.64005129,
          -2.84894447
         ],
         "type": "scatter"
        },
        {
         "hoverinfo": "text",
         "legendgroup": "lines",
         "line": {
          "color": "rgb(0.0,0.0,232.04545454545453)",
          "dash": "solid",
          "width": 2
         },
         "mode": "lines",
         "name": "lines",
         "showlegend": false,
         "text": "None<br />I = 9.015 %<br />I_from = 0.012 kA<br />I_to = 0.008 kA<br />",
         "x": [
          0.5309084,
          1.19215883,
          1.85340926
         ],
         "y": [
          -3.43327237,
          -3.14110842,
          -2.84894447
         ],
         "type": "scatter"
        },
        {
         "hoverinfo": "text",
         "legendgroup": "lines",
         "marker": {
          "color": "rgb(128, 128, 128)",
          "size": 1,
          "symbol": "circle"
         },
         "mode": "markers",
         "name": "edge_center",
         "showlegend": false,
         "text": [
          "None<br />I = 9.246 %<br />I_from = 0.051 kA<br />I_to = 0.047 kA<br />",
          "None<br />I = 12.488 %<br />I_from = 0.067 kA<br />I_to = 0.069 kA<br />",
          "None<br />I = 27.045 %<br />I_from = 0.072 kA<br />I_to = 0.075 kA<br />",
          "None<br />I = 10.403 %<br />I_from = 0.058 kA<br />I_to = 0.058 kA<br />",
          "None<br />I = 11.707 %<br />I_from = 0.062 kA<br />I_to = 0.065 kA<br />",
          "None<br />I = 34.334 %<br />I_from = 0.092 kA<br />I_to = 0.095 kA<br />",
          "None<br />I = 28.586 %<br />I_from = 0.11 kA<br />I_to = 0.11 kA<br />",
          "None<br />I = 22.454 %<br />I_from = 0.065 kA<br />I_to = 0.067 kA<br />",
          "None<br />I = 8.013 %<br />I_from = 0.043 kA<br />I_to = 0.045 kA<br />",
          "None<br />I = 111.831 %<br />I_from = 0.153 kA<br />I_to = 0.153 kA<br />",
          "None<br />I = 10.578 %<br />I_from = 0.029 kA<br />I_to = 0.029 kA<br />",
          "None<br />I = 12.278 %<br />I_from = 0.017 kA<br />I_to = 0.017 kA<br />",
          "None<br />I = 0.0 %<br />I_from = 0.0 kA<br />I_to = 0.0 kA<br />",
          "None<br />I = 10.578 %<br />I_from = 0.029 kA<br />I_to = 0.029 kA<br />",
          "None<br />I = 4.119 %<br />I_from = 0.011 kA<br />I_to = 0.011 kA<br />",
          "None<br />I = 59.542 %<br />I_from = 0.166 kA<br />I_to = 0.166 kA<br />",
          "None<br />I = 17.311 %<br />I_from = 0.024 kA<br />I_to = 0.024 kA<br />",
          "None<br />I = 30.241 %<br />I_from = 0.041 kA<br />I_to = 0.041 kA<br />",
          "None<br />I = 29.377 %<br />I_from = 0.04 kA<br />I_to = 0.04 kA<br />",
          "None<br />I = 7.468 %<br />I_from = 0.005 kA<br />I_to = 0.005 kA<br />",
          "None<br />I = 38.699 %<br />I_from = 0.026 kA<br />I_to = 0.026 kA<br />",
          "None<br />I = 58.634 %<br />I_from = 0.04 kA<br />I_to = 0.04 kA<br />",
          "None<br />I = 37.93 %<br />I_from = 0.026 kA<br />I_to = 0.026 kA<br />",
          "None<br />I = 17.025 %<br />I_from = 0.023 kA<br />I_to = 0.023 kA<br />",
          "None<br />I = 23.837 %<br />I_from = 0.033 kA<br />I_to = 0.033 kA<br />",
          "None<br />I = 27.595 %<br />I_from = 0.038 kA<br />I_to = 0.038 kA<br />",
          "None<br />I = 37.71 %<br />I_from = 0.052 kA<br />I_to = 0.052 kA<br />",
          "None<br />I = 29.449 %<br />I_from = 0.04 kA<br />I_to = 0.04 kA<br />",
          "None<br />I = 95.351 %<br />I_from = 0.13 kA<br />I_to = 0.13 kA<br />",
          "None<br />I = 65.36 %<br />I_from = 0.045 kA<br />I_to = 0.045 kA<br />",
          "None<br />I = 50.475 %<br />I_from = 0.035 kA<br />I_to = 0.035 kA<br />",
          "None<br />I = 44.627 %<br />I_from = 0.031 kA<br />I_to = 0.031 kA<br />",
          "None<br />I = 26.82 %<br />I_from = 0.018 kA<br />I_to = 0.018 kA<br />",
          "None<br />I = 26.924 %<br />I_from = 0.018 kA<br />I_to = 0.018 kA<br />",
          "None<br />I = 47.135 %<br />I_from = 0.032 kA<br />I_to = 0.032 kA<br />",
          "None<br />I = 13.614 %<br />I_from = 0.038 kA<br />I_to = 0.038 kA<br />",
          "None<br />I = 39.996 %<br />I_from = 0.027 kA<br />I_to = 0.027 kA<br />",
          "None<br />I = 45.729 %<br />I_from = 0.031 kA<br />I_to = 0.031 kA<br />",
          "None<br />I = 23.825 %<br />I_from = 0.016 kA<br />I_to = 0.016 kA<br />",
          "None<br />I = 26.261 %<br />I_from = 0.036 kA<br />I_to = 0.03 kA<br />",
          "None<br />I = 9.015 %<br />I_from = 0.012 kA<br />I_to = 0.008 kA<br />"
         ],
         "x": [
          -1.144736945
         ],
         "y": [
          -3.252058715
         ],
         "type": "scatter"
        },
        {
         "hoverinfo": "text",
         "marker": {
          "color": "rgb(128, 128, 128)",
          "size": 20,
          "symbol": "square"
         },
         "mode": "markers",
         "name": "external_grid",
         "text": [
          1
         ],
         "x": [
          -1.72745671
         ],
         "y": [
          -3.18926495
         ],
         "type": "scatter"
        },
        {
         "hoverinfo": "text",
         "marker": {
          "cmax": 1.1,
          "cmin": 0.9,
          "color": {
           "dtype": "f8",
           "bdata": "AAAAAAAA8D/////////vP6oS5W3ede8/CZJF/Otc7z+gjdMe32/vP8B7+9BSJO8/ncFwaZP07j+ZfV3ubb3uP/joSV1OYO8/pVoPcD2A7z/46EldTmDvP2FTGtr0iO8/////////7z97J6LG70DvPzUGuUQJXu8/o/3GQNNG7z+ah4I/e0LvP7wos5J2/e4/DtJPpaHj7j9PFJ8maQPvPwTKf8TLye8/////////7z8AAAAAAADwP0mmAslVou8/RSaQBtev7z9KVtjnNhzvPwAAAAAAAPA/8vEqTd0w7z9+CTow21jvP2AuD4Tl+O4/"
          },
          "colorbar": {
           "thickness": 10,
           "title": {
            "side": "right",
            "text": "Bus Voltage [pu]"
           },
           "x": 1.0
          },
          "colorscale": [
           [
            0.0,
            "rgb(0,0,131)"
           ],
           [
            0.2,
            "rgb(0,60,170)"
           ],
           [
            0.4,
            "rgb(5,255,255)"
           ],
           [
            0.6,
            "rgb(255,255,0)"
           ],
           [
            0.8,
            "rgb(250,0,0)"
           ],
           [
            1.0,
            "rgb(128,0,0)"
           ]
          ],
          "size": 10,
          "symbol": "circle"
         },
         "mode": "markers",
         "name": "buses",
         "text": [
          "1<br />V_m = 1.0 pu<br />V_m = 135.0 kV<br />V_a = 0.0 deg",
          "2<br />V_m = 1.0 pu<br />V_m = 135.0 kV<br />V_a = -0.415 deg",
          "3<br />V_m = 0.983 pu<br />V_m = 132.724 kV<br />V_a = -1.522 deg",
          "4<br />V_m = 0.98 pu<br />V_m = 132.313 kV<br />V_a = -1.795 deg",
          "5<br />V_m = 0.982 pu<br />V_m = 132.625 kV<br />V_a = -1.864 deg",
          "6<br />V_m = 0.973 pu<br />V_m = 131.38 kV<br />V_a = -2.267 deg",
          "7<br />V_m = 0.967 pu<br />V_m = 130.593 kV<br />V_a = -2.652 deg",
          "8<br />V_m = 0.961 pu<br />V_m = 129.684 kV<br />V_a = -2.726 deg",
          "9<br />V_m = 0.981 pu<br />V_m = 132.368 kV<br />V_a = -2.997 deg",
          "10<br />V_m = 0.984 pu<br />V_m = 132.895 kV<br />V_a = -3.375 deg",
          "11<br />V_m = 0.981 pu<br />V_m = 132.368 kV<br />V_a = -2.997 deg",
          "12<br />V_m = 0.985 pu<br />V_m = 133.038 kV<br />V_a = -1.537 deg",
          "13<br />V_m = 1.0 pu<br />V_m = 135.0 kV<br />V_a = 1.476 deg",
          "14<br />V_m = 0.977 pu<br />V_m = 131.851 kV<br />V_a = -2.308 deg",
          "15<br />V_m = 0.98 pu<br />V_m = 132.331 kV<br />V_a = -2.312 deg",
          "16<br />V_m = 0.977 pu<br />V_m = 131.948 kV<br />V_a = -2.644 deg",
          "17<br />V_m = 0.977 pu<br />V_m = 131.877 kV<br />V_a = -3.392 deg",
          "18<br />V_m = 0.968 pu<br />V_m = 130.739 kV<br />V_a = -3.478 deg",
          "19<br />V_m = 0.965 pu<br />V_m = 130.314 kV<br />V_a = -3.958 deg",
          "20<br />V_m = 0.969 pu<br />V_m = 130.837 kV<br />V_a = -3.871 deg",
          "21<br />V_m = 0.993 pu<br />V_m = 134.107 kV<br />V_a = -3.488 deg",
          "22<br />V_m = 1.0 pu<br />V_m = 135.0 kV<br />V_a = -3.393 deg",
          "23<br />V_m = 1.0 pu<br />V_m = 135.0 kV<br />V_a = -1.589 deg",
          "24<br />V_m = 0.989 pu<br />V_m = 133.456 kV<br />V_a = -2.631 deg",
          "25<br />V_m = 0.99 pu<br />V_m = 133.679 kV<br />V_a = -1.69 deg",
          "26<br />V_m = 0.972 pu<br />V_m = 131.246 kV<br />V_a = -2.139 deg",
          "27<br />V_m = 1.0 pu<br />V_m = 135.0 kV<br />V_a = -0.828 deg",
          "28<br />V_m = 0.975 pu<br />V_m = 131.587 kV<br />V_a = -2.266 deg",
          "29<br />V_m = 0.98 pu<br />V_m = 132.246 kV<br />V_a = -2.128 deg",
          "30<br />V_m = 0.968 pu<br />V_m = 130.664 kV<br />V_a = -3.042 deg"
         ],
         "x": [
          -1.72745671,
          -0.56201718,
          -1.59061066,
          -0.37269465,
          -1.05378362,
          0.5309084,
          -0.06737913,
          1.06691506,
          1.10378175,
          1.16269949,
          1.01208789,
          -0.24837037,
          -1.35150967,
          -0.13926784,
          0.80417636,
          -0.92429544,
          0.22956928,
          1.09371427,
          1.85748806,
          1.49660851,
          1.88175936,
          2.40686019,
          2.27487653,
          3.11698366,
          3.72464112,
          4.82994041,
          3.10390659,
          1.85340926,
          4.03780332,
          3.47094773
         ],
         "y": [
          -3.18926495,
          -3.31485248,
          -4.14420215,
          -4.28290755,
          -2.23944635,
          -3.43327237,
          -2.39188731,
          -2.43115811,
          -3.1875438,
          -4.29784958,
          -1.7414861,
          -5.70115994,
          -6.36486218,
          -6.73571955,
          -6.42630578,
          -5.4723948,
          -4.90944857,
          -7.47317433,
          -6.85579078,
          -5.55666062,
          -4.66873032,
          -4.39934365,
          -6.16193702,
          -5.14659204,
          -4.03709279,
          -4.27047595,
          -2.86734213,
          -2.84894447,
          -2.28350293,
          -1.74528927
         ],
         "type": "scatter"
        }
       ],
       "layout": {
        "autosize": true,
        "hovermode": "closest",
        "legend": {
         "itemsizing": "constant"
        },
        "margin": {
         "b": 5,
         "l": 5,
         "r": 5,
         "t": 5
        },
        "showlegend": false,
        "title": {
         "font": {
          "size": 16
         }
        },
        "xaxis": {
         "showgrid": false,
         "showticklabels": false,
         "zeroline": false
        },
        "yaxis": {
         "showgrid": false,
         "showticklabels": false,
         "zeroline": false
        },
        "template": {
         "data": {
          "histogram2dcontour": [
           {
            "type": "histogram2dcontour",
            "colorbar": {
             "outlinewidth": 0,
             "ticks": ""
            },
            "colorscale": [
             [
              0.0,
              "#0d0887"
             ],
             [
              0.1111111111111111,
              "#46039f"
             ],
             [
              0.2222222222222222,
              "#7201a8"
             ],
             [
              0.3333333333333333,
              "#9c179e"
             ],
             [
              0.4444444444444444,
              "#bd3786"
             ],
             [
              0.5555555555555556,
              "#d8576b"
             ],
             [
              0.6666666666666666,
              "#ed7953"
             ],
             [
              0.7777777777777778,
              "#fb9f3a"
             ],
             [
              0.8888888888888888,
              "#fdca26"
             ],
             [
              1.0,
              "#f0f921"
             ]
            ]
           }
          ],
          "choropleth": [
           {
            "type": "choropleth",
            "colorbar": {
             "outlinewidth": 0,
             "ticks": ""
            }
           }
          ],
          "histogram2d": [
           {
            "type": "histogram2d",
            "colorbar": {
             "outlinewidth": 0,
             "ticks": ""
            },
            "colorscale": [
             [
              0.0,
              "#0d0887"
             ],
             [
              0.1111111111111111,
              "#46039f"
             ],
             [
              0.2222222222222222,
              "#7201a8"
             ],
             [
              0.3333333333333333,
              "#9c179e"
             ],
             [
              0.4444444444444444,
              "#bd3786"
             ],
             [
              0.5555555555555556,
              "#d8576b"
             ],
             [
              0.6666666666666666,
              "#ed7953"
             ],
             [
              0.7777777777777778,
              "#fb9f3a"
             ],
             [
              0.8888888888888888,
              "#fdca26"
             ],
             [
              1.0,
              "#f0f921"
             ]
            ]
           }
          ],
          "heatmap": [
           {
            "type": "heatmap",
            "colorbar": {
             "outlinewidth": 0,
             "ticks": ""
            },
            "colorscale": [
             [
              0.0,
              "#0d0887"
             ],
             [
              0.1111111111111111,
              "#46039f"
             ],
             [
              0.2222222222222222,
              "#7201a8"
             ],
             [
              0.3333333333333333,
              "#9c179e"
             ],
             [
              0.4444444444444444,
              "#bd3786"
             ],
             [
              0.5555555555555556,
              "#d8576b"
             ],
             [
              0.6666666666666666,
              "#ed7953"
             ],
             [
              0.7777777777777778,
              "#fb9f3a"
             ],
             [
              0.8888888888888888,
              "#fdca26"
             ],
             [
              1.0,
              "#f0f921"
             ]
            ]
           }
          ],
          "contourcarpet": [
           {
            "type": "contourcarpet",
            "colorbar": {
             "outlinewidth": 0,
             "ticks": ""
            }
           }
          ],
          "contour": [
           {
            "type": "contour",
            "colorbar": {
             "outlinewidth": 0,
             "ticks": ""
            },
            "colorscale": [
             [
              0.0,
              "#0d0887"
             ],
             [
              0.1111111111111111,
              "#46039f"
             ],
             [
              0.2222222222222222,
              "#7201a8"
             ],
             [
              0.3333333333333333,
              "#9c179e"
             ],
             [
              0.4444444444444444,
              "#bd3786"
             ],
             [
              0.5555555555555556,
              "#d8576b"
             ],
             [
              0.6666666666666666,
              "#ed7953"
             ],
             [
              0.7777777777777778,
              "#fb9f3a"
             ],
             [
              0.8888888888888888,
              "#fdca26"
             ],
             [
              1.0,
              "#f0f921"
             ]
            ]
           }
          ],
          "surface": [
           {
            "type": "surface",
            "colorbar": {
             "outlinewidth": 0,
             "ticks": ""
            },
            "colorscale": [
             [
              0.0,
              "#0d0887"
             ],
             [
              0.1111111111111111,
              "#46039f"
             ],
             [
              0.2222222222222222,
              "#7201a8"
             ],
             [
              0.3333333333333333,
              "#9c179e"
             ],
             [
              0.4444444444444444,
              "#bd3786"
             ],
             [
              0.5555555555555556,
              "#d8576b"
             ],
             [
              0.6666666666666666,
              "#ed7953"
             ],
             [
              0.7777777777777778,
              "#fb9f3a"
             ],
             [
              0.8888888888888888,
              "#fdca26"
             ],
             [
              1.0,
              "#f0f921"
             ]
            ]
           }
          ],
          "mesh3d": [
           {
            "type": "mesh3d",
            "colorbar": {
             "outlinewidth": 0,
             "ticks": ""
            }
           }
          ],
          "scatter": [
           {
            "fillpattern": {
             "fillmode": "overlay",
             "size": 10,
             "solidity": 0.2
            },
            "type": "scatter"
           }
          ],
          "parcoords": [
           {
            "type": "parcoords",
            "line": {
             "colorbar": {
              "outlinewidth": 0,
              "ticks": ""
             }
            }
           }
          ],
          "scatterpolargl": [
           {
            "type": "scatterpolargl",
            "marker": {
             "colorbar": {
              "outlinewidth": 0,
              "ticks": ""
             }
            }
           }
          ],
          "bar": [
           {
            "error_x": {
             "color": "#2a3f5f"
            },
            "error_y": {
             "color": "#2a3f5f"
            },
            "marker": {
             "line": {
              "color": "#E5ECF6",
              "width": 0.5
             },
             "pattern": {
              "fillmode": "overlay",
              "size": 10,
              "solidity": 0.2
             }
            },
            "type": "bar"
           }
          ],
          "scattergeo": [
           {
            "type": "scattergeo",
            "marker": {
             "colorbar": {
              "outlinewidth": 0,
              "ticks": ""
             }
            }
           }
          ],
          "scatterpolar": [
           {
            "type": "scatterpolar",
            "marker": {
             "colorbar": {
              "outlinewidth": 0,
              "ticks": ""
             }
            }
           }
          ],
          "histogram": [
           {
            "marker": {
             "pattern": {
              "fillmode": "overlay",
              "size": 10,
              "solidity": 0.2
             }
            },
            "type": "histogram"
           }
          ],
          "scattergl": [
           {
            "type": "scattergl",
            "marker": {
             "colorbar": {
              "outlinewidth": 0,
              "ticks": ""
             }
            }
           }
          ],
          "scatter3d": [
           {
            "type": "scatter3d",
            "line": {
             "colorbar": {
              "outlinewidth": 0,
              "ticks": ""
             }
            },
            "marker": {
             "colorbar": {
              "outlinewidth": 0,
              "ticks": ""
             }
            }
           }
          ],
          "scattermap": [
           {
            "type": "scattermap",
            "marker": {
             "colorbar": {
              "outlinewidth": 0,
              "ticks": ""
             }
            }
           }
          ],
          "scattermapbox": [
           {
            "type": "scattermapbox",
            "marker": {
             "colorbar": {
              "outlinewidth": 0,
              "ticks": ""
             }
            }
           }
          ],
          "scatterternary": [
           {
            "type": "scatterternary",
            "marker": {
             "colorbar": {
              "outlinewidth": 0,
              "ticks": ""
             }
            }
           }
          ],
          "scattercarpet": [
           {
            "type": "scattercarpet",
            "marker": {
             "colorbar": {
              "outlinewidth": 0,
              "ticks": ""
             }
            }
           }
          ],
          "carpet": [
           {
            "aaxis": {
             "endlinecolor": "#2a3f5f",
             "gridcolor": "white",
             "linecolor": "white",
             "minorgridcolor": "white",
             "startlinecolor": "#2a3f5f"
            },
            "baxis": {
             "endlinecolor": "#2a3f5f",
             "gridcolor": "white",
             "linecolor": "white",
             "minorgridcolor": "white",
             "startlinecolor": "#2a3f5f"
            },
            "type": "carpet"
           }
          ],
          "table": [
           {
            "cells": {
             "fill": {
              "color": "#EBF0F8"
             },
             "line": {
              "color": "white"
             }
            },
            "header": {
             "fill": {
              "color": "#C8D4E3"
             },
             "line": {
              "color": "white"
             }
            },
            "type": "table"
           }
          ],
          "barpolar": [
           {
            "marker": {
             "line": {
              "color": "#E5ECF6",
              "width": 0.5
             },
             "pattern": {
              "fillmode": "overlay",
              "size": 10,
              "solidity": 0.2
             }
            },
            "type": "barpolar"
           }
          ],
          "pie": [
           {
            "automargin": true,
            "type": "pie"
           }
          ]
         },
         "layout": {
          "autotypenumbers": "strict",
          "colorway": [
           "#636efa",
           "#EF553B",
           "#00cc96",
           "#ab63fa",
           "#FFA15A",
           "#19d3f3",
           "#FF6692",
           "#B6E880",
           "#FF97FF",
           "#FECB52"
          ],
          "font": {
           "color": "#2a3f5f"
          },
          "hovermode": "closest",
          "hoverlabel": {
           "align": "left"
          },
          "paper_bgcolor": "white",
          "plot_bgcolor": "#E5ECF6",
          "polar": {
           "bgcolor": "#E5ECF6",
           "angularaxis": {
            "gridcolor": "white",
            "linecolor": "white",
            "ticks": ""
           },
           "radialaxis": {
            "gridcolor": "white",
            "linecolor": "white",
            "ticks": ""
           }
          },
          "ternary": {
           "bgcolor": "#E5ECF6",
           "aaxis": {
            "gridcolor": "white",
            "linecolor": "white",
            "ticks": ""
           },
           "baxis": {
            "gridcolor": "white",
            "linecolor": "white",
            "ticks": ""
           },
           "caxis": {
            "gridcolor": "white",
            "linecolor": "white",
            "ticks": ""
           }
          },
          "coloraxis": {
           "colorbar": {
            "outlinewidth": 0,
            "ticks": ""
           }
          },
          "colorscale": {
           "sequential": [
            [
             0.0,
             "#0d0887"
            ],
            [
             0.1111111111111111,
             "#46039f"
            ],
            [
             0.2222222222222222,
             "#7201a8"
            ],
            [
             0.3333333333333333,
             "#9c179e"
            ],
            [
             0.4444444444444444,
             "#bd3786"
            ],
            [
             0.5555555555555556,
             "#d8576b"
            ],
            [
             0.6666666666666666,
             "#ed7953"
            ],
            [
             0.7777777777777778,
             "#fb9f3a"
            ],
            [
             0.8888888888888888,
             "#fdca26"
            ],
            [
             1.0,
             "#f0f921"
            ]
           ],
           "sequentialminus": [
            [
             0.0,
             "#0d0887"
            ],
            [
             0.1111111111111111,
             "#46039f"
            ],
            [
             0.2222222222222222,
             "#7201a8"
            ],
            [
             0.3333333333333333,
             "#9c179e"
            ],
            [
             0.4444444444444444,
             "#bd3786"
            ],
            [
             0.5555555555555556,
             "#d8576b"
            ],
            [
             0.6666666666666666,
             "#ed7953"
            ],
            [
             0.7777777777777778,
             "#fb9f3a"
            ],
            [
             0.8888888888888888,
             "#fdca26"
            ],
            [
             1.0,
             "#f0f921"
            ]
           ],
           "diverging": [
            [
             0,
             "#8e0152"
            ],
            [
             0.1,
             "#c51b7d"
            ],
            [
             0.2,
             "#de77ae"
            ],
            [
             0.3,
             "#f1b6da"
            ],
            [
             0.4,
             "#fde0ef"
            ],
            [
             0.5,
             "#f7f7f7"
            ],
            [
             0.6,
             "#e6f5d0"
            ],
            [
             0.7,
             "#b8e186"
            ],
            [
             0.8,
             "#7fbc41"
            ],
            [
             0.9,
             "#4d9221"
            ],
            [
             1,
             "#276419"
            ]
           ]
          },
          "xaxis": {
           "gridcolor": "white",
           "linecolor": "white",
           "ticks": "",
           "title": {
            "standoff": 15
           },
           "zerolinecolor": "white",
           "automargin": true,
           "zerolinewidth": 2
          },
          "yaxis": {
           "gridcolor": "white",
           "linecolor": "white",
           "ticks": "",
           "title": {
            "standoff": 15
           },
           "zerolinecolor": "white",
           "automargin": true,
           "zerolinewidth": 2
          },
          "scene": {
           "xaxis": {
            "backgroundcolor": "#E5ECF6",
            "gridcolor": "white",
            "linecolor": "white",
            "showbackground": true,
            "ticks": "",
            "zerolinecolor": "white",
            "gridwidth": 2
           },
           "yaxis": {
            "backgroundcolor": "#E5ECF6",
            "gridcolor": "white",
            "linecolor": "white",
            "showbackground": true,
            "ticks": "",
            "zerolinecolor": "white",
            "gridwidth": 2
           },
           "zaxis": {
            "backgroundcolor": "#E5ECF6",
            "gridcolor": "white",
            "linecolor": "white",
            "showbackground": true,
            "ticks": "",
            "zerolinecolor": "white",
            "gridwidth": 2
           }
          },
          "shapedefaults": {
           "line": {
            "color": "#2a3f5f"
           }
          },
          "annotationdefaults": {
           "arrowcolor": "#2a3f5f",
           "arrowhead": 0,
           "arrowwidth": 1
          },
          "geo": {
           "bgcolor": "white",
           "landcolor": "#E5ECF6",
           "subunitcolor": "white",
           "showland": true,
           "showlakes": true,
           "lakecolor": "white"
          },
          "title": {
           "x": 0.05
          },
          "mapbox": {
           "style": "light"
          }
         }
        },
        "width": 700.0,
        "height": 611.8558457841272
       },
       "config": {
        "plotlyServerURL": "https://plot.ly"
       }
      }
     },
     "metadata": {},
     "output_type": "display_data"
    }
   ]
  },
  {
   "metadata": {
    "ExecuteTime": {
     "end_time": "2025-07-13T00:59:03.087680Z",
     "start_time": "2025-07-13T00:59:03.082033Z"
    }
   },
   "cell_type": "code",
   "source": "net.res_bus[net.res_bus.vm_pu>1.05]",
   "id": "8b060292b1388e07",
   "outputs": [
    {
     "data": {
      "text/plain": [
       "   vm_pu  va_degree   p_mw     q_mvar\n",
       "9   1.05  35.844223 -450.0  51.042152"
      ],
      "text/html": [
       "<div>\n",
       "<style scoped>\n",
       "    .dataframe tbody tr th:only-of-type {\n",
       "        vertical-align: middle;\n",
       "    }\n",
       "\n",
       "    .dataframe tbody tr th {\n",
       "        vertical-align: top;\n",
       "    }\n",
       "\n",
       "    .dataframe thead th {\n",
       "        text-align: right;\n",
       "    }\n",
       "</style>\n",
       "<table border=\"1\" class=\"dataframe\">\n",
       "  <thead>\n",
       "    <tr style=\"text-align: right;\">\n",
       "      <th></th>\n",
       "      <th>vm_pu</th>\n",
       "      <th>va_degree</th>\n",
       "      <th>p_mw</th>\n",
       "      <th>q_mvar</th>\n",
       "    </tr>\n",
       "  </thead>\n",
       "  <tbody>\n",
       "    <tr>\n",
       "      <th>9</th>\n",
       "      <td>1.05</td>\n",
       "      <td>35.844223</td>\n",
       "      <td>-450.0</td>\n",
       "      <td>51.042152</td>\n",
       "    </tr>\n",
       "  </tbody>\n",
       "</table>\n",
       "</div>"
      ]
     },
     "execution_count": 9,
     "metadata": {},
     "output_type": "execute_result"
    }
   ],
   "execution_count": 9
  },
  {
   "metadata": {
    "ExecuteTime": {
     "end_time": "2025-07-12T20:14:23.847884Z",
     "start_time": "2025-07-12T20:14:23.842863Z"
    }
   },
   "cell_type": "code",
   "source": " net.switch",
   "id": "e1b035377fc666bf",
   "outputs": [
    {
     "data": {
      "text/plain": [
       "Empty DataFrame\n",
       "Columns: [bus, element, et, type, closed, name, z_ohm, in_ka]\n",
       "Index: []"
      ],
      "text/html": [
       "<div>\n",
       "<style scoped>\n",
       "    .dataframe tbody tr th:only-of-type {\n",
       "        vertical-align: middle;\n",
       "    }\n",
       "\n",
       "    .dataframe tbody tr th {\n",
       "        vertical-align: top;\n",
       "    }\n",
       "\n",
       "    .dataframe thead th {\n",
       "        text-align: right;\n",
       "    }\n",
       "</style>\n",
       "<table border=\"1\" class=\"dataframe\">\n",
       "  <thead>\n",
       "    <tr style=\"text-align: right;\">\n",
       "      <th></th>\n",
       "      <th>bus</th>\n",
       "      <th>element</th>\n",
       "      <th>et</th>\n",
       "      <th>type</th>\n",
       "      <th>closed</th>\n",
       "      <th>name</th>\n",
       "      <th>z_ohm</th>\n",
       "      <th>in_ka</th>\n",
       "    </tr>\n",
       "  </thead>\n",
       "  <tbody>\n",
       "  </tbody>\n",
       "</table>\n",
       "</div>"
      ]
     },
     "execution_count": 16,
     "metadata": {},
     "output_type": "execute_result"
    }
   ],
   "execution_count": 16
  },
  {
   "metadata": {
    "ExecuteTime": {
     "end_time": "2025-07-12T20:10:22.465207Z",
     "start_time": "2025-07-12T20:10:22.456319Z"
    }
   },
   "cell_type": "code",
   "source": "net.bus",
   "id": "b8b1ae6940d8871e",
   "outputs": [
    {
     "data": {
      "text/plain": [
       "   name  vn_kv type zone  in_service  max_vm_pu  min_vm_pu  \\\n",
       "0     1  135.0    b  1.0        True       1.05       0.95   \n",
       "1     2  135.0    b  1.0        True       1.10       0.95   \n",
       "2     3  135.0    b  1.0        True       1.05       0.95   \n",
       "3     4  135.0    b  1.0        True       1.05       0.95   \n",
       "4     5  135.0    b  1.0        True       1.05       0.95   \n",
       "5     6  135.0    b  1.0        True       1.05       0.95   \n",
       "6     7  135.0    b  1.0        True       1.05       0.95   \n",
       "7     8  135.0    b  1.0        True       1.05       0.95   \n",
       "8     9  135.0    b  1.0        True       1.05       0.95   \n",
       "9    10  135.0    b  3.0        True       1.05       0.95   \n",
       "10   11  135.0    b  1.0        True       1.05       0.95   \n",
       "11   12  135.0    b  2.0        True       1.05       0.95   \n",
       "12   13  135.0    b  2.0        True       1.10       0.95   \n",
       "13   14  135.0    b  2.0        True       1.05       0.95   \n",
       "14   15  135.0    b  2.0        True       1.05       0.95   \n",
       "15   16  135.0    b  2.0        True       1.05       0.95   \n",
       "16   17  135.0    b  2.0        True       1.05       0.95   \n",
       "17   18  135.0    b  2.0        True       1.05       0.95   \n",
       "18   19  135.0    b  2.0        True       1.05       0.95   \n",
       "19   20  135.0    b  2.0        True       1.05       0.95   \n",
       "20   21  135.0    b  3.0        True       1.05       0.95   \n",
       "21   22  135.0    b  3.0        True       1.10       0.95   \n",
       "22   23  135.0    b  2.0        True       1.10       0.95   \n",
       "23   24  135.0    b  3.0        True       1.05       0.95   \n",
       "24   25  135.0    b  3.0        True       1.05       0.95   \n",
       "25   26  135.0    b  3.0        True       1.05       0.95   \n",
       "26   27  135.0    b  3.0        True       1.10       0.95   \n",
       "27   28  135.0    b  1.0        True       1.05       0.95   \n",
       "28   29  135.0    b  3.0        True       1.05       0.95   \n",
       "29   30  135.0    b  3.0        True       1.05       0.95   \n",
       "\n",
       "                                                  geo  \n",
       "0   {\"coordinates\": [-1.7274567146, -3.1892649529]...  \n",
       "1   {\"coordinates\": [-0.5620171842, -3.3148524773]...  \n",
       "2   {\"coordinates\": [-1.59061066, -4.144202153], \"...  \n",
       "3   {\"coordinates\": [-0.3726946517, -4.2829075502]...  \n",
       "4   {\"coordinates\": [-1.0537836171, -2.2394463492]...  \n",
       "5   {\"coordinates\": [0.5309084006, -3.433272374], ...  \n",
       "6   {\"coordinates\": [-0.0673791279, -2.3918873148]...  \n",
       "7   {\"coordinates\": [1.0669150553, -2.4311581116],...  \n",
       "8   {\"coordinates\": [1.1037817517, -3.1875438028],...  \n",
       "9   {\"coordinates\": [1.1626994941, -4.2978495824],...  \n",
       "10  {\"coordinates\": [1.0120878871, -1.7414860957],...  \n",
       "11  {\"coordinates\": [-0.2483703707, -5.7011599364]...  \n",
       "12  {\"coordinates\": [-1.3515096676, -6.364862178],...  \n",
       "13  {\"coordinates\": [-0.1392678391, -6.7357195544]...  \n",
       "14  {\"coordinates\": [0.8041763605, -6.4263057784],...  \n",
       "15  {\"coordinates\": [-0.9242954395, -5.4723948016]...  \n",
       "16  {\"coordinates\": [0.2295692813, -4.9094485678],...  \n",
       "17  {\"coordinates\": [1.0937142736, -7.4731743253],...  \n",
       "18  {\"coordinates\": [1.8574880571, -6.8557907822],...  \n",
       "19  {\"coordinates\": [1.496608508, -5.5566606165], ...  \n",
       "20  {\"coordinates\": [1.8817593551, -4.6687303186],...  \n",
       "21  {\"coordinates\": [2.4068601909, -4.3993436497],...  \n",
       "22  {\"coordinates\": [2.2748765253, -6.1619370169],...  \n",
       "23  {\"coordinates\": [3.1169836554, -5.1465920415],...  \n",
       "24  {\"coordinates\": [3.7246411249, -4.0370927851],...  \n",
       "25  {\"coordinates\": [4.8299404079, -4.2704759539],...  \n",
       "26  {\"coordinates\": [3.1039065876, -2.8673421324],...  \n",
       "27  {\"coordinates\": [1.8534092602, -2.8489444663],...  \n",
       "28  {\"coordinates\": [4.0378033247, -2.2835029253],...  \n",
       "29  {\"coordinates\": [3.4709477276, -1.7452892746],...  "
      ],
      "text/html": [
       "<div>\n",
       "<style scoped>\n",
       "    .dataframe tbody tr th:only-of-type {\n",
       "        vertical-align: middle;\n",
       "    }\n",
       "\n",
       "    .dataframe tbody tr th {\n",
       "        vertical-align: top;\n",
       "    }\n",
       "\n",
       "    .dataframe thead th {\n",
       "        text-align: right;\n",
       "    }\n",
       "</style>\n",
       "<table border=\"1\" class=\"dataframe\">\n",
       "  <thead>\n",
       "    <tr style=\"text-align: right;\">\n",
       "      <th></th>\n",
       "      <th>name</th>\n",
       "      <th>vn_kv</th>\n",
       "      <th>type</th>\n",
       "      <th>zone</th>\n",
       "      <th>in_service</th>\n",
       "      <th>max_vm_pu</th>\n",
       "      <th>min_vm_pu</th>\n",
       "      <th>geo</th>\n",
       "    </tr>\n",
       "  </thead>\n",
       "  <tbody>\n",
       "    <tr>\n",
       "      <th>0</th>\n",
       "      <td>1</td>\n",
       "      <td>135.0</td>\n",
       "      <td>b</td>\n",
       "      <td>1.0</td>\n",
       "      <td>True</td>\n",
       "      <td>1.05</td>\n",
       "      <td>0.95</td>\n",
       "      <td>{\"coordinates\": [-1.7274567146, -3.1892649529]...</td>\n",
       "    </tr>\n",
       "    <tr>\n",
       "      <th>1</th>\n",
       "      <td>2</td>\n",
       "      <td>135.0</td>\n",
       "      <td>b</td>\n",
       "      <td>1.0</td>\n",
       "      <td>True</td>\n",
       "      <td>1.10</td>\n",
       "      <td>0.95</td>\n",
       "      <td>{\"coordinates\": [-0.5620171842, -3.3148524773]...</td>\n",
       "    </tr>\n",
       "    <tr>\n",
       "      <th>2</th>\n",
       "      <td>3</td>\n",
       "      <td>135.0</td>\n",
       "      <td>b</td>\n",
       "      <td>1.0</td>\n",
       "      <td>True</td>\n",
       "      <td>1.05</td>\n",
       "      <td>0.95</td>\n",
       "      <td>{\"coordinates\": [-1.59061066, -4.144202153], \"...</td>\n",
       "    </tr>\n",
       "    <tr>\n",
       "      <th>3</th>\n",
       "      <td>4</td>\n",
       "      <td>135.0</td>\n",
       "      <td>b</td>\n",
       "      <td>1.0</td>\n",
       "      <td>True</td>\n",
       "      <td>1.05</td>\n",
       "      <td>0.95</td>\n",
       "      <td>{\"coordinates\": [-0.3726946517, -4.2829075502]...</td>\n",
       "    </tr>\n",
       "    <tr>\n",
       "      <th>4</th>\n",
       "      <td>5</td>\n",
       "      <td>135.0</td>\n",
       "      <td>b</td>\n",
       "      <td>1.0</td>\n",
       "      <td>True</td>\n",
       "      <td>1.05</td>\n",
       "      <td>0.95</td>\n",
       "      <td>{\"coordinates\": [-1.0537836171, -2.2394463492]...</td>\n",
       "    </tr>\n",
       "    <tr>\n",
       "      <th>5</th>\n",
       "      <td>6</td>\n",
       "      <td>135.0</td>\n",
       "      <td>b</td>\n",
       "      <td>1.0</td>\n",
       "      <td>True</td>\n",
       "      <td>1.05</td>\n",
       "      <td>0.95</td>\n",
       "      <td>{\"coordinates\": [0.5309084006, -3.433272374], ...</td>\n",
       "    </tr>\n",
       "    <tr>\n",
       "      <th>6</th>\n",
       "      <td>7</td>\n",
       "      <td>135.0</td>\n",
       "      <td>b</td>\n",
       "      <td>1.0</td>\n",
       "      <td>True</td>\n",
       "      <td>1.05</td>\n",
       "      <td>0.95</td>\n",
       "      <td>{\"coordinates\": [-0.0673791279, -2.3918873148]...</td>\n",
       "    </tr>\n",
       "    <tr>\n",
       "      <th>7</th>\n",
       "      <td>8</td>\n",
       "      <td>135.0</td>\n",
       "      <td>b</td>\n",
       "      <td>1.0</td>\n",
       "      <td>True</td>\n",
       "      <td>1.05</td>\n",
       "      <td>0.95</td>\n",
       "      <td>{\"coordinates\": [1.0669150553, -2.4311581116],...</td>\n",
       "    </tr>\n",
       "    <tr>\n",
       "      <th>8</th>\n",
       "      <td>9</td>\n",
       "      <td>135.0</td>\n",
       "      <td>b</td>\n",
       "      <td>1.0</td>\n",
       "      <td>True</td>\n",
       "      <td>1.05</td>\n",
       "      <td>0.95</td>\n",
       "      <td>{\"coordinates\": [1.1037817517, -3.1875438028],...</td>\n",
       "    </tr>\n",
       "    <tr>\n",
       "      <th>9</th>\n",
       "      <td>10</td>\n",
       "      <td>135.0</td>\n",
       "      <td>b</td>\n",
       "      <td>3.0</td>\n",
       "      <td>True</td>\n",
       "      <td>1.05</td>\n",
       "      <td>0.95</td>\n",
       "      <td>{\"coordinates\": [1.1626994941, -4.2978495824],...</td>\n",
       "    </tr>\n",
       "    <tr>\n",
       "      <th>10</th>\n",
       "      <td>11</td>\n",
       "      <td>135.0</td>\n",
       "      <td>b</td>\n",
       "      <td>1.0</td>\n",
       "      <td>True</td>\n",
       "      <td>1.05</td>\n",
       "      <td>0.95</td>\n",
       "      <td>{\"coordinates\": [1.0120878871, -1.7414860957],...</td>\n",
       "    </tr>\n",
       "    <tr>\n",
       "      <th>11</th>\n",
       "      <td>12</td>\n",
       "      <td>135.0</td>\n",
       "      <td>b</td>\n",
       "      <td>2.0</td>\n",
       "      <td>True</td>\n",
       "      <td>1.05</td>\n",
       "      <td>0.95</td>\n",
       "      <td>{\"coordinates\": [-0.2483703707, -5.7011599364]...</td>\n",
       "    </tr>\n",
       "    <tr>\n",
       "      <th>12</th>\n",
       "      <td>13</td>\n",
       "      <td>135.0</td>\n",
       "      <td>b</td>\n",
       "      <td>2.0</td>\n",
       "      <td>True</td>\n",
       "      <td>1.10</td>\n",
       "      <td>0.95</td>\n",
       "      <td>{\"coordinates\": [-1.3515096676, -6.364862178],...</td>\n",
       "    </tr>\n",
       "    <tr>\n",
       "      <th>13</th>\n",
       "      <td>14</td>\n",
       "      <td>135.0</td>\n",
       "      <td>b</td>\n",
       "      <td>2.0</td>\n",
       "      <td>True</td>\n",
       "      <td>1.05</td>\n",
       "      <td>0.95</td>\n",
       "      <td>{\"coordinates\": [-0.1392678391, -6.7357195544]...</td>\n",
       "    </tr>\n",
       "    <tr>\n",
       "      <th>14</th>\n",
       "      <td>15</td>\n",
       "      <td>135.0</td>\n",
       "      <td>b</td>\n",
       "      <td>2.0</td>\n",
       "      <td>True</td>\n",
       "      <td>1.05</td>\n",
       "      <td>0.95</td>\n",
       "      <td>{\"coordinates\": [0.8041763605, -6.4263057784],...</td>\n",
       "    </tr>\n",
       "    <tr>\n",
       "      <th>15</th>\n",
       "      <td>16</td>\n",
       "      <td>135.0</td>\n",
       "      <td>b</td>\n",
       "      <td>2.0</td>\n",
       "      <td>True</td>\n",
       "      <td>1.05</td>\n",
       "      <td>0.95</td>\n",
       "      <td>{\"coordinates\": [-0.9242954395, -5.4723948016]...</td>\n",
       "    </tr>\n",
       "    <tr>\n",
       "      <th>16</th>\n",
       "      <td>17</td>\n",
       "      <td>135.0</td>\n",
       "      <td>b</td>\n",
       "      <td>2.0</td>\n",
       "      <td>True</td>\n",
       "      <td>1.05</td>\n",
       "      <td>0.95</td>\n",
       "      <td>{\"coordinates\": [0.2295692813, -4.9094485678],...</td>\n",
       "    </tr>\n",
       "    <tr>\n",
       "      <th>17</th>\n",
       "      <td>18</td>\n",
       "      <td>135.0</td>\n",
       "      <td>b</td>\n",
       "      <td>2.0</td>\n",
       "      <td>True</td>\n",
       "      <td>1.05</td>\n",
       "      <td>0.95</td>\n",
       "      <td>{\"coordinates\": [1.0937142736, -7.4731743253],...</td>\n",
       "    </tr>\n",
       "    <tr>\n",
       "      <th>18</th>\n",
       "      <td>19</td>\n",
       "      <td>135.0</td>\n",
       "      <td>b</td>\n",
       "      <td>2.0</td>\n",
       "      <td>True</td>\n",
       "      <td>1.05</td>\n",
       "      <td>0.95</td>\n",
       "      <td>{\"coordinates\": [1.8574880571, -6.8557907822],...</td>\n",
       "    </tr>\n",
       "    <tr>\n",
       "      <th>19</th>\n",
       "      <td>20</td>\n",
       "      <td>135.0</td>\n",
       "      <td>b</td>\n",
       "      <td>2.0</td>\n",
       "      <td>True</td>\n",
       "      <td>1.05</td>\n",
       "      <td>0.95</td>\n",
       "      <td>{\"coordinates\": [1.496608508, -5.5566606165], ...</td>\n",
       "    </tr>\n",
       "    <tr>\n",
       "      <th>20</th>\n",
       "      <td>21</td>\n",
       "      <td>135.0</td>\n",
       "      <td>b</td>\n",
       "      <td>3.0</td>\n",
       "      <td>True</td>\n",
       "      <td>1.05</td>\n",
       "      <td>0.95</td>\n",
       "      <td>{\"coordinates\": [1.8817593551, -4.6687303186],...</td>\n",
       "    </tr>\n",
       "    <tr>\n",
       "      <th>21</th>\n",
       "      <td>22</td>\n",
       "      <td>135.0</td>\n",
       "      <td>b</td>\n",
       "      <td>3.0</td>\n",
       "      <td>True</td>\n",
       "      <td>1.10</td>\n",
       "      <td>0.95</td>\n",
       "      <td>{\"coordinates\": [2.4068601909, -4.3993436497],...</td>\n",
       "    </tr>\n",
       "    <tr>\n",
       "      <th>22</th>\n",
       "      <td>23</td>\n",
       "      <td>135.0</td>\n",
       "      <td>b</td>\n",
       "      <td>2.0</td>\n",
       "      <td>True</td>\n",
       "      <td>1.10</td>\n",
       "      <td>0.95</td>\n",
       "      <td>{\"coordinates\": [2.2748765253, -6.1619370169],...</td>\n",
       "    </tr>\n",
       "    <tr>\n",
       "      <th>23</th>\n",
       "      <td>24</td>\n",
       "      <td>135.0</td>\n",
       "      <td>b</td>\n",
       "      <td>3.0</td>\n",
       "      <td>True</td>\n",
       "      <td>1.05</td>\n",
       "      <td>0.95</td>\n",
       "      <td>{\"coordinates\": [3.1169836554, -5.1465920415],...</td>\n",
       "    </tr>\n",
       "    <tr>\n",
       "      <th>24</th>\n",
       "      <td>25</td>\n",
       "      <td>135.0</td>\n",
       "      <td>b</td>\n",
       "      <td>3.0</td>\n",
       "      <td>True</td>\n",
       "      <td>1.05</td>\n",
       "      <td>0.95</td>\n",
       "      <td>{\"coordinates\": [3.7246411249, -4.0370927851],...</td>\n",
       "    </tr>\n",
       "    <tr>\n",
       "      <th>25</th>\n",
       "      <td>26</td>\n",
       "      <td>135.0</td>\n",
       "      <td>b</td>\n",
       "      <td>3.0</td>\n",
       "      <td>True</td>\n",
       "      <td>1.05</td>\n",
       "      <td>0.95</td>\n",
       "      <td>{\"coordinates\": [4.8299404079, -4.2704759539],...</td>\n",
       "    </tr>\n",
       "    <tr>\n",
       "      <th>26</th>\n",
       "      <td>27</td>\n",
       "      <td>135.0</td>\n",
       "      <td>b</td>\n",
       "      <td>3.0</td>\n",
       "      <td>True</td>\n",
       "      <td>1.10</td>\n",
       "      <td>0.95</td>\n",
       "      <td>{\"coordinates\": [3.1039065876, -2.8673421324],...</td>\n",
       "    </tr>\n",
       "    <tr>\n",
       "      <th>27</th>\n",
       "      <td>28</td>\n",
       "      <td>135.0</td>\n",
       "      <td>b</td>\n",
       "      <td>1.0</td>\n",
       "      <td>True</td>\n",
       "      <td>1.05</td>\n",
       "      <td>0.95</td>\n",
       "      <td>{\"coordinates\": [1.8534092602, -2.8489444663],...</td>\n",
       "    </tr>\n",
       "    <tr>\n",
       "      <th>28</th>\n",
       "      <td>29</td>\n",
       "      <td>135.0</td>\n",
       "      <td>b</td>\n",
       "      <td>3.0</td>\n",
       "      <td>True</td>\n",
       "      <td>1.05</td>\n",
       "      <td>0.95</td>\n",
       "      <td>{\"coordinates\": [4.0378033247, -2.2835029253],...</td>\n",
       "    </tr>\n",
       "    <tr>\n",
       "      <th>29</th>\n",
       "      <td>30</td>\n",
       "      <td>135.0</td>\n",
       "      <td>b</td>\n",
       "      <td>3.0</td>\n",
       "      <td>True</td>\n",
       "      <td>1.05</td>\n",
       "      <td>0.95</td>\n",
       "      <td>{\"coordinates\": [3.4709477276, -1.7452892746],...</td>\n",
       "    </tr>\n",
       "  </tbody>\n",
       "</table>\n",
       "</div>"
      ]
     },
     "execution_count": 12,
     "metadata": {},
     "output_type": "execute_result"
    }
   ],
   "execution_count": 12
  },
  {
   "metadata": {
    "ExecuteTime": {
     "end_time": "2025-07-13T00:57:30.908440Z",
     "start_time": "2025-07-13T00:57:30.594905Z"
    }
   },
   "cell_type": "code",
   "source": [
    "net = pp.networks.case118()\n",
    "pp.plotting.plotly.pf_res_plotly(net, auto_open=False)"
   ],
   "id": "6d7630275b9c4296",
   "execution_count": 3,
   "outputs": [
    {
     "name": "stderr",
     "output_type": "stream",
     "text": [
      "There are no Power Flow results. A Newton-Raphson power flow will be executed.\n"
     ]
    },
    {
     "data": {
      "application/vnd.plotly.v1+json": {
       "data": [
        {
         "hoverinfo": "text",
         "legendgroup": "lines",
         "line": {
          "color": "rgb(0.0,0.0,127.5)",
          "dash": "solid",
          "width": 2
         },
         "mode": "lines",
         "name": "lines",
         "showlegend": true,
         "text": "None<br />I = 0.19 %<br />I_from = 0.079 kA<br />I_to = 0.072 kA<br />",
         "x": [
          -2.27537088,
          -2.6060947800000003,
          -2.93681868
         ],
         "y": [
          2.85434134,
          2.5332603049999998,
          2.21217927
         ],
         "type": "scatter"
        },
        {
         "hoverinfo": "text",
         "legendgroup": "lines",
         "line": {
          "color": "rgb(0.0,0.0,132.04545454545453)",
          "dash": "solid",
          "width": 2
         },
         "mode": "lines",
         "name": "lines",
         "showlegend": false,
         "text": "None<br />I = 0.447 %<br />I_from = 0.185 kA<br />I_to = 0.183 kA<br />",
         "x": [
          -2.27537088,
          -2.054901065,
          -1.83443125
         ],
         "y": [
          2.85434134,
          2.28189326,
          1.70944518
         ],
         "type": "scatter"
        },
        {
         "hoverinfo": "text",
         "legendgroup": "lines",
         "line": {
          "color": "rgb(0.0,0.0,136.5909090909091)",
          "dash": "solid",
          "width": 2
         },
         "mode": "lines",
         "name": "lines",
         "showlegend": false,
         "text": "None<br />I = 1.079 %<br />I_from = 0.447 kA<br />I_to = 0.447 kA<br />",
         "x": [
          -0.8886269,
          -0.92595492,
          -0.96328294
         ],
         "y": [
          1.55327056,
          1.124000235,
          0.69472991
         ],
         "type": "scatter"
        },
        {
         "hoverinfo": "text",
         "legendgroup": "lines",
         "line": {
          "color": "rgb(0.0,0.0,132.04545454545453)",
          "dash": "solid",
          "width": 2
         },
         "mode": "lines",
         "name": "lines",
         "showlegend": false,
         "text": "None<br />I = 0.727 %<br />I_from = 0.301 kA<br />I_to = 0.298 kA<br />",
         "x": [
          -1.83443125,
          -1.3988570949999999,
          -0.96328294
         ],
         "y": [
          1.70944518,
          1.202087545,
          0.69472991
         ],
         "type": "scatter"
        },
        {
         "hoverinfo": "text",
         "legendgroup": "lines",
         "line": {
          "color": "rgb(0.0,0.0,136.5909090909091)",
          "dash": "solid",
          "width": 2
         },
         "mode": "lines",
         "name": "lines",
         "showlegend": false,
         "text": "None<br />I = 0.893 %<br />I_from = 0.37 kA<br />I_to = 0.37 kA<br />",
         "x": [
          -0.96328294,
          -0.687128075,
          -0.41097321
         ],
         "y": [
          0.69472991,
          1.23115108,
          1.76757225
         ],
         "type": "scatter"
        },
        {
         "hoverinfo": "text",
         "legendgroup": "lines",
         "line": {
          "color": "rgb(0.0,0.0,127.5)",
          "dash": "solid",
          "width": 2
         },
         "mode": "lines",
         "name": "lines",
         "showlegend": false,
         "text": "None<br />I = 0.366 %<br />I_from = 0.152 kA<br />I_to = 0.151 kA<br />",
         "x": [
          -0.41097321,
          -0.947311435,
          -1.48364966
         ],
         "y": [
          1.76757225,
          2.01480711,
          2.26204197
         ],
         "type": "scatter"
        },
        {
         "hoverinfo": "text",
         "legendgroup": "lines",
         "line": {
          "color": "rgb(0.0,0.0,177.5)",
          "dash": "solid",
          "width": 2
         },
         "mode": "lines",
         "name": "lines",
         "showlegend": false,
         "text": "None<br />I = 4.475 %<br />I_from = 0.741 kA<br />I_to = 0.716 kA<br />",
         "x": [
          -0.67929979,
          -0.09354472999999999,
          0.49221033
         ],
         "y": [
          -0.58132104,
          -0.27088803499999997,
          0.03954497
         ],
         "type": "scatter"
        },
        {
         "hoverinfo": "text",
         "legendgroup": "lines",
         "line": {
          "color": "rgb(0.0,0.0,177.5)",
          "dash": "solid",
          "width": 2
         },
         "mode": "lines",
         "name": "lines",
         "showlegend": false,
         "text": "None<br />I = 4.357 %<br />I_from = 0.716 kA<br />I_to = 0.722 kA<br />",
         "x": [
          0.49221033,
          1.000429815,
          1.5086493
         ],
         "y": [
          0.03954497,
          0.39667202,
          0.75379907
         ],
         "type": "scatter"
        },
        {
         "hoverinfo": "text",
         "legendgroup": "lines",
         "line": {
          "color": "rgb(0.0,0.0,132.04545454545453)",
          "dash": "solid",
          "width": 2
         },
         "mode": "lines",
         "name": "lines",
         "showlegend": false,
         "text": "None<br />I = 0.65 %<br />I_from = 0.269 kA<br />I_to = 0.269 kA<br />",
         "x": [
          -0.8886269,
          -1.348553925,
          -1.80848095
         ],
         "y": [
          1.55327056,
          1.315809515,
          1.07834847
         ],
         "type": "scatter"
        },
        {
         "hoverinfo": "text",
         "legendgroup": "lines",
         "line": {
          "color": "rgb(0.0,0.0,132.04545454545453)",
          "dash": "solid",
          "width": 2
         },
         "mode": "lines",
         "name": "lines",
         "showlegend": false,
         "text": "None<br />I = 0.779 %<br />I_from = 0.323 kA<br />I_to = 0.323 kA<br />",
         "x": [
          -0.96328294,
          -1.385881945,
          -1.80848095
         ],
         "y": [
          0.69472991,
          0.8865391899999999,
          1.07834847
         ],
         "type": "scatter"
        },
        {
         "hoverinfo": "text",
         "legendgroup": "lines",
         "line": {
          "color": "rgb(0.0,0.0,132.04545454545453)",
          "dash": "solid",
          "width": 2
         },
         "mode": "lines",
         "name": "lines",
         "showlegend": false,
         "text": "None<br />I = 0.503 %<br />I_from = 0.209 kA<br />I_to = 0.207 kA<br />",
         "x": [
          -1.80848095,
          -2.13029877,
          -2.45211659
         ],
         "y": [
          1.07834847,
          1.1335627,
          1.18877693
         ],
         "type": "scatter"
        },
        {
         "hoverinfo": "text",
         "legendgroup": "lines",
         "line": {
          "color": "rgb(0.0,0.0,132.04545454545453)",
          "dash": "solid",
          "width": 2
         },
         "mode": "lines",
         "name": "lines",
         "showlegend": false,
         "text": "None<br />I = 0.396 %<br />I_from = 0.164 kA<br />I_to = 0.161 kA<br />",
         "x": [
          -2.93681868,
          -2.694467635,
          -2.45211659
         ],
         "y": [
          2.21217927,
          1.7004781,
          1.18877693
         ],
         "type": "scatter"
        },
        {
         "hoverinfo": "text",
         "legendgroup": "lines",
         "line": {
          "color": "rgb(0.0,0.0,127.5)",
          "dash": "solid",
          "width": 2
         },
         "mode": "lines",
         "name": "lines",
         "showlegend": false,
         "text": "None<br />I = 0.165 %<br />I_from = 0.068 kA<br />I_to = 0.056 kA<br />",
         "x": [
          -1.83443125,
          -2.14327392,
          -2.45211659
         ],
         "y": [
          1.70944518,
          1.449111055,
          1.18877693
         ],
         "type": "scatter"
        },
        {
         "hoverinfo": "text",
         "legendgroup": "lines",
         "line": {
          "color": "rgb(0.0,0.0,127.5)",
          "dash": "solid",
          "width": 2
         },
         "mode": "lines",
         "name": "lines",
         "showlegend": false,
         "text": "None<br />I = 0.181 %<br />I_from = 0.075 kA<br />I_to = 0.074 kA<br />",
         "x": [
          -1.48364966,
          -1.9678831250000002,
          -2.45211659
         ],
         "y": [
          2.26204197,
          1.72540945,
          1.18877693
         ],
         "type": "scatter"
        },
        {
         "hoverinfo": "text",
         "legendgroup": "lines",
         "line": {
          "color": "rgb(0.0,0.0,127.5)",
          "dash": "solid",
          "width": 2
         },
         "mode": "lines",
         "name": "lines",
         "showlegend": false,
         "text": "None<br />I = 0.384 %<br />I_from = 0.157 kA<br />I_to = 0.159 kA<br />",
         "x": [
          -1.80848095,
          -2.171234805,
          -2.53398866
         ],
         "y": [
          1.07834847,
          0.6832986449999999,
          0.28824882
         ],
         "type": "scatter"
        },
        {
         "hoverinfo": "text",
         "legendgroup": "lines",
         "line": {
          "color": "rgb(0.0,0.0,127.5)",
          "dash": "solid",
          "width": 2
         },
         "mode": "lines",
         "name": "lines",
         "showlegend": false,
         "text": "None<br />I = 0.192 %<br />I_from = 0.078 kA<br />I_to = 0.08 kA<br />",
         "x": [
          -2.45211659,
          -2.76944546,
          -3.08677433
         ],
         "y": [
          1.18877693,
          0.76474824,
          0.34071955
         ],
         "type": "scatter"
        },
        {
         "hoverinfo": "text",
         "legendgroup": "lines",
         "line": {
          "color": "rgb(0.0,0.0,127.5)",
          "dash": "solid",
          "width": 2
         },
         "mode": "lines",
         "name": "lines",
         "showlegend": false,
         "text": "None<br />I = 0.041 %<br />I_from = 0.017 kA<br />I_to = 0.009 kA<br />",
         "x": [
          -2.53398866,
          -2.4318679349999996,
          -2.32974721
         ],
         "y": [
          0.28824882,
          -0.19561114999999998,
          -0.67947112
         ],
         "type": "scatter"
        },
        {
         "hoverinfo": "text",
         "legendgroup": "lines",
         "line": {
          "color": "rgb(0.0,0.0,127.5)",
          "dash": "solid",
          "width": 2
         },
         "mode": "lines",
         "name": "lines",
         "showlegend": false,
         "text": "None<br />I = 0.093 %<br />I_from = 0.022 kA<br />I_to = 0.038 kA<br />",
         "x": [
          -3.08677433,
          -2.70826077,
          -2.32974721
         ],
         "y": [
          0.34071955,
          -0.169375785,
          -0.67947112
         ],
         "type": "scatter"
        },
        {
         "hoverinfo": "text",
         "legendgroup": "lines",
         "line": {
          "color": "rgb(0.0,0.0,127.5)",
          "dash": "solid",
          "width": 2
         },
         "mode": "lines",
         "name": "lines",
         "showlegend": false,
         "text": "None<br />I = 0.101 %<br />I_from = 0.037 kA<br />I_to = 0.042 kA<br />",
         "x": [
          -2.45211659,
          -1.9738176950000001,
          -1.4955188
         ],
         "y": [
          1.18877693,
          0.65199757,
          0.11521821
         ],
         "type": "scatter"
        },
        {
         "hoverinfo": "text",
         "legendgroup": "lines",
         "line": {
          "color": "rgb(0.0,0.0,136.5909090909091)",
          "dash": "solid",
          "width": 2
         },
         "mode": "lines",
         "name": "lines",
         "showlegend": false,
         "text": "None<br />I = 1.111 %<br />I_from = 0.46 kA<br />I_to = 0.456 kA<br />",
         "x": [
          -2.32974721,
          -1.6893431099999998,
          -1.04893901
         ],
         "y": [
          -0.67947112,
          -0.88530832,
          -1.09114552
         ],
         "type": "scatter"
        },
        {
         "hoverinfo": "text",
         "legendgroup": "lines",
         "line": {
          "color": "rgb(0.0,0.0,127.5)",
          "dash": "solid",
          "width": 2
         },
         "mode": "lines",
         "name": "lines",
         "showlegend": false,
         "text": "None<br />I = 0.184 %<br />I_from = 0.076 kA<br />I_to = 0.074 kA<br />",
         "x": [
          -1.4955188,
          -1.272228905,
          -1.04893901
         ],
         "y": [
          0.11521821,
          -0.487963655,
          -1.09114552
         ],
         "type": "scatter"
        },
        {
         "hoverinfo": "text",
         "legendgroup": "lines",
         "line": {
          "color": "rgb(0.0,0.0,136.5909090909091)",
          "dash": "solid",
          "width": 2
         },
         "mode": "lines",
         "name": "lines",
         "showlegend": false,
         "text": "None<br />I = 0.856 %<br />I_from = 0.353 kA<br />I_to = 0.355 kA<br />",
         "x": [
          -1.04893901,
          -1.44231764,
          -1.83569627
         ],
         "y": [
          -1.09114552,
          -0.9601985749999999,
          -0.82925163
         ],
         "type": "scatter"
        },
        {
         "hoverinfo": "text",
         "legendgroup": "lines",
         "line": {
          "color": "rgb(0.0,0.0,127.5)",
          "dash": "solid",
          "width": 2
         },
         "mode": "lines",
         "name": "lines",
         "showlegend": false,
         "text": "None<br />I = 0.274 %<br />I_from = 0.11 kA<br />I_to = 0.113 kA<br />",
         "x": [
          -1.83569627,
          -2.2557614249999998,
          -2.67582658
         ],
         "y": [
          -0.82925163,
          -1.042760655,
          -1.25626968
         ],
         "type": "scatter"
        },
        {
         "hoverinfo": "text",
         "legendgroup": "lines",
         "line": {
          "color": "rgb(0.0,0.0,127.5)",
          "dash": "solid",
          "width": 2
         },
         "mode": "lines",
         "name": "lines",
         "showlegend": false,
         "text": "None<br />I = 0.139 %<br />I_from = 0.051 kA<br />I_to = 0.058 kA<br />",
         "x": [
          -2.67582658,
          -1.9737748,
          -1.27172302
         ],
         "y": [
          -1.25626968,
          -1.35953517,
          -1.46280066
         ],
         "type": "scatter"
        },
        {
         "hoverinfo": "text",
         "legendgroup": "lines",
         "line": {
          "color": "rgb(0.0,0.0,127.5)",
          "dash": "solid",
          "width": 2
         },
         "mode": "lines",
         "name": "lines",
         "showlegend": false,
         "text": "None<br />I = 0.211 %<br />I_from = 0.084 kA<br />I_to = 0.087 kA<br />",
         "x": [
          -2.32974721,
          -2.502786895,
          -2.67582658
         ],
         "y": [
          -0.67947112,
          -0.9678704,
          -1.25626968
         ],
         "type": "scatter"
        },
        {
         "hoverinfo": "text",
         "legendgroup": "lines",
         "line": {
          "color": "rgb(0.0,0.0,127.5)",
          "dash": "solid",
          "width": 2
         },
         "mode": "lines",
         "name": "lines",
         "showlegend": false,
         "text": "None<br />I = 0.311 %<br />I_from = 0.127 kA<br />I_to = 0.129 kA<br />",
         "x": [
          -1.27172302,
          -0.599126425,
          0.07347017
         ],
         "y": [
          -1.46280066,
          -1.8100399550000001,
          -2.15727925
         ],
         "type": "scatter"
        },
        {
         "hoverinfo": "text",
         "legendgroup": "lines",
         "line": {
          "color": "rgb(0.0,0.0,132.04545454545453)",
          "dash": "solid",
          "width": 2
         },
         "mode": "lines",
         "name": "lines",
         "showlegend": false,
         "text": "None<br />I = 0.453 %<br />I_from = 0.187 kA<br />I_to = 0.187 kA<br />",
         "x": [
          0.07347017,
          0.504008405,
          0.93454664
         ],
         "y": [
          -2.15727925,
          -2.82339631,
          -3.48951337
         ],
         "type": "scatter"
        },
        {
         "hoverinfo": "text",
         "legendgroup": "lines",
         "line": {
          "color": "rgb(0.0,0.0,132.04545454545453)",
          "dash": "solid",
          "width": 2
         },
         "mode": "lines",
         "name": "lines",
         "showlegend": false,
         "text": "None<br />I = 0.56 %<br />I_from = 0.232 kA<br />I_to = 0.23 kA<br />",
         "x": [
          0.93454664,
          0.6181240299999999,
          0.30170142
         ],
         "y": [
          -3.48951337,
          -3.644664015,
          -3.79981466
         ],
         "type": "scatter"
        },
        {
         "hoverinfo": "text",
         "legendgroup": "lines",
         "line": {
          "color": "rgb(0.0,0.0,127.5)",
          "dash": "solid",
          "width": 2
         },
         "mode": "lines",
         "name": "lines",
         "showlegend": false,
         "text": "None<br />I = 0.176 %<br />I_from = 0.055 kA<br />I_to = 0.073 kA<br />",
         "x": [
          0.30170142,
          0.011922220000000011,
          -0.27785698
         ],
         "y": [
          -3.79981466,
          -4.45499938,
          -5.1101841
         ],
         "type": "scatter"
        },
        {
         "hoverinfo": "text",
         "legendgroup": "lines",
         "line": {
          "color": "rgb(0.0,0.0,145.6818181818182)",
          "dash": "solid",
          "width": 2
         },
         "mode": "lines",
         "name": "lines",
         "showlegend": false,
         "text": "None<br />I = 1.663 %<br />I_from = 0.689 kA<br />I_to = 0.682 kA<br />",
         "x": [
          0.30170142,
          0.6324091199999999,
          0.96311682
         ],
         "y": [
          -3.79981466,
          -3.390439105,
          -2.98106355
         ],
         "type": "scatter"
        },
        {
         "hoverinfo": "text",
         "legendgroup": "lines",
         "line": {
          "color": "rgb(0.0,0.0,141.13636363636363)",
          "dash": "solid",
          "width": 2
         },
         "mode": "lines",
         "name": "lines",
         "showlegend": false,
         "text": "None<br />I = 1.44 %<br />I_from = 0.584 kA<br />I_to = 0.596 kA<br />",
         "x": [
          0.96311682,
          1.453856335,
          1.94459585
         ],
         "y": [
          -2.98106355,
          -2.6045540149999997,
          -2.22804448
         ],
         "type": "scatter"
        },
        {
         "hoverinfo": "text",
         "legendgroup": "lines",
         "line": {
          "color": "rgb(0.0,0.0,127.5)",
          "dash": "solid",
          "width": 2
         },
         "mode": "lines",
         "name": "lines",
         "showlegend": false,
         "text": "None<br />I = 0.343 %<br />I_from = 0.142 kA<br />I_to = 0.142 kA<br />",
         "x": [
          1.94459585,
          2.199323875,
          2.4540519
         ],
         "y": [
          -2.22804448,
          -1.725010005,
          -1.22197553
         ],
         "type": "scatter"
        },
        {
         "hoverinfo": "text",
         "legendgroup": "lines",
         "line": {
          "color": "rgb(0.0,0.0,127.5)",
          "dash": "solid",
          "width": 2
         },
         "mode": "lines",
         "name": "lines",
         "showlegend": false,
         "text": "None<br />I = 0.178 %<br />I_from = 0.074 kA<br />I_to = 0.071 kA<br />",
         "x": [
          2.4540519,
          1.975649175,
          1.49724645
         ],
         "y": [
          -1.22197553,
          -0.9736709849999999,
          -0.72536644
         ],
         "type": "scatter"
        },
        {
         "hoverinfo": "text",
         "legendgroup": "lines",
         "line": {
          "color": "rgb(0.0,0.0,136.5909090909091)",
          "dash": "solid",
          "width": 2
         },
         "mode": "lines",
         "name": "lines",
         "showlegend": false,
         "text": "None<br />I = 1.082 %<br />I_from = 0.131 kA<br />I_to = 0.179 kA<br />",
         "x": [
          -0.67929979,
          -0.95836562,
          -1.23743145
         ],
         "y": [
          -0.58132104,
          -1.30567792,
          -2.0300348
         ],
         "type": "scatter"
        },
        {
         "hoverinfo": "text",
         "legendgroup": "lines",
         "line": {
          "color": "rgb(0.0,0.0,150.22727272727272)",
          "dash": "solid",
          "width": 2
         },
         "mode": "lines",
         "name": "lines",
         "showlegend": false,
         "text": "None<br />I = 2.284 %<br />I_from = 0.369 kA<br />I_to = 0.378 kA<br />",
         "x": [
          -0.1984213,
          -0.717926375,
          -1.23743145
         ],
         "y": [
          -2.33750455,
          -2.1837696749999997,
          -2.0300348
         ],
         "type": "scatter"
        },
        {
         "hoverinfo": "text",
         "legendgroup": "lines",
         "line": {
          "color": "rgb(0.0,0.0,127.5)",
          "dash": "solid",
          "width": 2
         },
         "mode": "lines",
         "name": "lines",
         "showlegend": false,
         "text": "None<br />I = 0.216 %<br />I_from = 0.079 kA<br />I_to = 0.09 kA<br />",
         "x": [
          -1.04893901,
          -0.332913905,
          0.3831112
         ],
         "y": [
          -1.09114552,
          -1.1831413899999998,
          -1.27513726
         ],
         "type": "scatter"
        },
        {
         "hoverinfo": "text",
         "legendgroup": "lines",
         "line": {
          "color": "rgb(0.0,0.0,127.5)",
          "dash": "solid",
          "width": 2
         },
         "mode": "lines",
         "name": "lines",
         "showlegend": false,
         "text": "None<br />I = 0.126 %<br />I_from = 0.052 kA<br />I_to = 0.05 kA<br />",
         "x": [
          1.49724645,
          0.940178825,
          0.3831112
         ],
         "y": [
          -0.72536644,
          -1.00025185,
          -1.27513726
         ],
         "type": "scatter"
        },
        {
         "hoverinfo": "text",
         "legendgroup": "lines",
         "line": {
          "color": "rgb(0.0,0.0,136.5909090909091)",
          "dash": "solid",
          "width": 2
         },
         "mode": "lines",
         "name": "lines",
         "showlegend": false,
         "text": "None<br />I = 0.949 %<br />I_from = 0.39 kA<br />I_to = 0.393 kA<br />",
         "x": [
          0.30170142,
          0.602672045,
          0.90364267
         ],
         "y": [
          -3.79981466,
          -3.13570451,
          -2.47159436
         ],
         "type": "scatter"
        },
        {
         "hoverinfo": "text",
         "legendgroup": "lines",
         "line": {
          "color": "rgb(0.0,0.0,127.5)",
          "dash": "solid",
          "width": 2
         },
         "mode": "lines",
         "name": "lines",
         "showlegend": false,
         "text": "None<br />I = 0.348 %<br />I_from = 0.14 kA<br />I_to = 0.144 kA<br />",
         "x": [
          0.3831112,
          0.643376935,
          0.90364267
         ],
         "y": [
          -1.27513726,
          -1.8733658100000001,
          -2.47159436
         ],
         "type": "scatter"
        },
        {
         "hoverinfo": "text",
         "legendgroup": "lines",
         "line": {
          "color": "rgb(0.0,0.0,127.5)",
          "dash": "solid",
          "width": 2
         },
         "mode": "lines",
         "name": "lines",
         "showlegend": false,
         "text": "None<br />I = 0.136 %<br />I_from = 0.055 kA<br />I_to = 0.056 kA<br />",
         "x": [
          1.94459585,
          1.4241192599999999,
          0.90364267
         ],
         "y": [
          -2.22804448,
          -2.34981942,
          -2.47159436
         ],
         "type": "scatter"
        },
        {
         "hoverinfo": "text",
         "legendgroup": "lines",
         "line": {
          "color": "rgb(0.0,0.0,127.5)",
          "dash": "solid",
          "width": 2
         },
         "mode": "lines",
         "name": "lines",
         "showlegend": false,
         "text": "None<br />I = 0.089 %<br />I_from = 0.037 kA<br />I_to = 0.032 kA<br />",
         "x": [
          -2.32974721,
          -2.65657058,
          -2.98339395
         ],
         "y": [
          -0.67947112,
          -1.16432192,
          -1.64917272
         ],
         "type": "scatter"
        },
        {
         "hoverinfo": "text",
         "legendgroup": "lines",
         "line": {
          "color": "rgb(0.0,0.0,127.5)",
          "dash": "solid",
          "width": 2
         },
         "mode": "lines",
         "name": "lines",
         "showlegend": false,
         "text": "None<br />I = 0.115 %<br />I_from = 0.048 kA<br />I_to = 0.025 kA<br />",
         "x": [
          -2.67582658,
          -3.1477654,
          -3.61970422
         ],
         "y": [
          -1.25626968,
          -1.636777735,
          -2.01728579
         ],
         "type": "scatter"
        },
        {
         "hoverinfo": "text",
         "legendgroup": "lines",
         "line": {
          "color": "rgb(0.0,0.0,127.5)",
          "dash": "solid",
          "width": 2
         },
         "mode": "lines",
         "name": "lines",
         "showlegend": false,
         "text": "None<br />I = 0.045 %<br />I_from = 0.018 kA<br />I_to = 0.019 kA<br />",
         "x": [
          -4.33478993,
          -4.538834165000001,
          -4.7428784
         ],
         "y": [
          -2.2080206,
          -1.8013131000000002,
          -1.3946056
         ],
         "type": "scatter"
        },
        {
         "hoverinfo": "text",
         "legendgroup": "lines",
         "line": {
          "color": "rgb(0.0,0.0,127.5)",
          "dash": "solid",
          "width": 2
         },
         "mode": "lines",
         "name": "lines",
         "showlegend": false,
         "text": "None<br />I = 0.374 %<br />I_from = 0.155 kA<br />I_to = 0.153 kA<br />",
         "x": [
          -4.33478993,
          -3.645363645,
          -2.95593736
         ],
         "y": [
          -2.2080206,
          -2.45966914,
          -2.71131768
         ],
         "type": "scatter"
        },
        {
         "hoverinfo": "text",
         "legendgroup": "lines",
         "line": {
          "color": "rgb(0.0,0.0,127.5)",
          "dash": "solid",
          "width": 2
         },
         "mode": "lines",
         "name": "lines",
         "showlegend": false,
         "text": "None<br />I = 0.196 %<br />I_from = 0.081 kA<br />I_to = 0.074 kA<br />",
         "x": [
          -2.98339395,
          -2.969665655,
          -2.95593736
         ],
         "y": [
          -1.64917272,
          -2.1802452,
          -2.71131768
         ],
         "type": "scatter"
        },
        {
         "hoverinfo": "text",
         "legendgroup": "lines",
         "line": {
          "color": "rgb(0.0,0.0,127.5)",
          "dash": "solid",
          "width": 2
         },
         "mode": "lines",
         "name": "lines",
         "showlegend": false,
         "text": "None<br />I = 0.315 %<br />I_from = 0.13 kA<br />I_to = 0.131 kA<br />",
         "x": [
          -3.61970422,
          -4.181291310000001,
          -4.7428784
         ],
         "y": [
          -2.01728579,
          -1.705945695,
          -1.3946056
         ],
         "type": "scatter"
        },
        {
         "hoverinfo": "text",
         "legendgroup": "lines",
         "line": {
          "color": "rgb(0.0,0.0,136.5909090909091)",
          "dash": "solid",
          "width": 2
         },
         "mode": "lines",
         "name": "lines",
         "showlegend": false,
         "text": "None<br />I = 1.069 %<br />I_from = 0.443 kA<br />I_to = 0.441 kA<br />",
         "x": [
          -3.61970422,
          -3.28782079,
          -2.95593736
         ],
         "y": [
          -2.01728579,
          -2.3643017349999997,
          -2.71131768
         ],
         "type": "scatter"
        },
        {
         "hoverinfo": "text",
         "legendgroup": "lines",
         "line": {
          "color": "rgb(0.0,0.0,132.04545454545453)",
          "dash": "solid",
          "width": 2
         },
         "mode": "lines",
         "name": "lines",
         "showlegend": false,
         "text": "None<br />I = 0.562 %<br />I_from = 0.232 kA<br />I_to = 0.233 kA<br />",
         "x": [
          -2.95593736,
          -3.2987202900000003,
          -3.64150322
         ],
         "y": [
          -2.71131768,
          -2.913444465,
          -3.11557125
         ],
         "type": "scatter"
        },
        {
         "hoverinfo": "text",
         "legendgroup": "lines",
         "line": {
          "color": "rgb(0.0,0.0,132.04545454545453)",
          "dash": "solid",
          "width": 2
         },
         "mode": "lines",
         "name": "lines",
         "showlegend": false,
         "text": "None<br />I = 0.45 %<br />I_from = 0.187 kA<br />I_to = 0.185 kA<br />",
         "x": [
          -2.95593736,
          -2.880797275,
          -2.80565719
         ],
         "y": [
          -2.71131768,
          -3.2386635999999998,
          -3.76600952
         ],
         "type": "scatter"
        },
        {
         "hoverinfo": "text",
         "legendgroup": "lines",
         "line": {
          "color": "rgb(0.0,0.0,136.5909090909091)",
          "dash": "solid",
          "width": 2
         },
         "mode": "lines",
         "name": "lines",
         "showlegend": false,
         "text": "None<br />I = 0.879 %<br />I_from = 0.111 kA<br />I_to = 0.146 kA<br />",
         "x": [
          -1.23743145,
          -1.5920911100000001,
          -1.94675077
         ],
         "y": [
          -2.0300348,
          -2.59054365,
          -3.1510525
         ],
         "type": "scatter"
        },
        {
         "hoverinfo": "text",
         "legendgroup": "lines",
         "line": {
          "color": "rgb(0.0,0.0,127.5)",
          "dash": "solid",
          "width": 2
         },
         "mode": "lines",
         "name": "lines",
         "showlegend": false,
         "text": "None<br />I = 0.295 %<br />I_from = 0.122 kA<br />I_to = 0.12 kA<br />",
         "x": [
          -3.64150322,
          -3.223580205,
          -2.80565719
         ],
         "y": [
          -3.11557125,
          -3.4407903849999997,
          -3.76600952
         ],
         "type": "scatter"
        },
        {
         "hoverinfo": "text",
         "legendgroup": "lines",
         "line": {
          "color": "rgb(0.0,0.0,127.5)",
          "dash": "solid",
          "width": 2
         },
         "mode": "lines",
         "name": "lines",
         "showlegend": false,
         "text": "None<br />I = 0.163 %<br />I_from = 0.067 kA<br />I_to = 0.067 kA<br />",
         "x": [
          -2.80565719,
          -2.97906227,
          -3.15246735
         ],
         "y": [
          -3.76600952,
          -4.090947775,
          -4.41588603
         ],
         "type": "scatter"
        },
        {
         "hoverinfo": "text",
         "legendgroup": "lines",
         "line": {
          "color": "rgb(0.0,0.0,127.5)",
          "dash": "solid",
          "width": 2
         },
         "mode": "lines",
         "name": "lines",
         "showlegend": false,
         "text": "None<br />I = 0.14 %<br />I_from = 0.058 kA<br />I_to = 0.052 kA<br />",
         "x": [
          -2.80565719,
          -2.540124835,
          -2.27459248
         ],
         "y": [
          -3.76600952,
          -4.40555965,
          -5.04510978
         ],
         "type": "scatter"
        },
        {
         "hoverinfo": "text",
         "legendgroup": "lines",
         "line": {
          "color": "rgb(0.0,0.0,127.5)",
          "dash": "solid",
          "width": 2
         },
         "mode": "lines",
         "name": "lines",
         "showlegend": false,
         "text": "None<br />I = 0.24 %<br />I_from = 0.099 kA<br />I_to = 0.095 kA<br />",
         "x": [
          -3.15246735,
          -2.7135299149999996,
          -2.27459248
         ],
         "y": [
          -4.41588603,
          -4.730497905,
          -5.04510978
         ],
         "type": "scatter"
        },
        {
         "hoverinfo": "text",
         "legendgroup": "lines",
         "line": {
          "color": "rgb(0.0,0.0,127.5)",
          "dash": "solid",
          "width": 2
         },
         "mode": "lines",
         "name": "lines",
         "showlegend": false,
         "text": "None<br />I = 0.176 %<br />I_from = 0.071 kA<br />I_to = 0.073 kA<br />",
         "x": [
          -4.18750912,
          -3.8894907549999997,
          -3.59147239
         ],
         "y": [
          -3.12926548,
          -3.77510836,
          -4.42095124
         ],
         "type": "scatter"
        },
        {
         "hoverinfo": "text",
         "legendgroup": "lines",
         "line": {
          "color": "rgb(0.0,0.0,127.5)",
          "dash": "solid",
          "width": 2
         },
         "mode": "lines",
         "name": "lines",
         "showlegend": false,
         "text": "None<br />I = 0.06 %<br />I_from = 0.009 kA<br />I_to = 0.025 kA<br />",
         "x": [
          -3.61970422,
          -3.90360667,
          -4.18750912
         ],
         "y": [
          -2.01728579,
          -2.573275635,
          -3.12926548
         ],
         "type": "scatter"
        },
        {
         "hoverinfo": "text",
         "legendgroup": "lines",
         "line": {
          "color": "rgb(0.0,0.0,127.5)",
          "dash": "solid",
          "width": 2
         },
         "mode": "lines",
         "name": "lines",
         "showlegend": false,
         "text": "None<br />I = 0.345 %<br />I_from = 0.141 kA<br />I_to = 0.143 kA<br />",
         "x": [
          -3.59147239,
          -3.11072996,
          -2.62998753
         ],
         "y": [
          -4.42095124,
          -5.01246115,
          -5.60397106
         ],
         "type": "scatter"
        },
        {
         "hoverinfo": "text",
         "legendgroup": "lines",
         "line": {
          "color": "rgb(0.0,0.0,127.5)",
          "dash": "solid",
          "width": 2
         },
         "mode": "lines",
         "name": "lines",
         "showlegend": false,
         "text": "None<br />I = 0.374 %<br />I_from = 0.155 kA<br />I_to = 0.154 kA<br />",
         "x": [
          -2.62998753,
          -2.88217326,
          -3.13435899
         ],
         "y": [
          -5.60397106,
          -6.075473375,
          -6.54697569
         ],
         "type": "scatter"
        },
        {
         "hoverinfo": "text",
         "legendgroup": "lines",
         "line": {
          "color": "rgb(0.0,0.0,127.5)",
          "dash": "solid",
          "width": 2
         },
         "mode": "lines",
         "name": "lines",
         "showlegend": false,
         "text": "None<br />I = 0.313 %<br />I_from = 0.13 kA<br />I_to = 0.13 kA<br />",
         "x": [
          -3.13435899,
          -2.7265186999999997,
          -2.31867841
         ],
         "y": [
          -6.54697569,
          -6.63056525,
          -6.71415481
         ],
         "type": "scatter"
        },
        {
         "hoverinfo": "text",
         "legendgroup": "lines",
         "line": {
          "color": "rgb(0.0,0.0,127.5)",
          "dash": "solid",
          "width": 2
         },
         "mode": "lines",
         "name": "lines",
         "showlegend": false,
         "text": "None<br />I = 0.159 %<br />I_from = 0.066 kA<br />I_to = 0.061 kA<br />",
         "x": [
          -3.13435899,
          -2.579493085,
          -2.02462718
         ],
         "y": [
          -6.54697569,
          -6.84351456,
          -7.14005343
         ],
         "type": "scatter"
        },
        {
         "hoverinfo": "text",
         "legendgroup": "lines",
         "line": {
          "color": "rgb(0.0,0.0,127.5)",
          "dash": "solid",
          "width": 2
         },
         "mode": "lines",
         "name": "lines",
         "showlegend": false,
         "text": "None<br />I = 0.143 %<br />I_from = 0.059 kA<br />I_to = 0.054 kA<br />",
         "x": [
          -2.31867841,
          -2.021450305,
          -1.7242222
         ],
         "y": [
          -6.71415481,
          -6.486283595,
          -6.25841238
         ],
         "type": "scatter"
        },
        {
         "hoverinfo": "text",
         "legendgroup": "lines",
         "line": {
          "color": "rgb(0.0,0.0,132.04545454545453)",
          "dash": "solid",
          "width": 2
         },
         "mode": "lines",
         "name": "lines",
         "showlegend": false,
         "text": "None<br />I = 0.671 %<br />I_from = 0.276 kA<br />I_to = 0.278 kA<br />",
         "x": [
          -2.27459248,
          -1.9994073399999999,
          -1.7242222
         ],
         "y": [
          -5.04510978,
          -5.65176108,
          -6.25841238
         ],
         "type": "scatter"
        },
        {
         "hoverinfo": "text",
         "legendgroup": "lines",
         "line": {
          "color": "rgb(0.0,0.0,132.04545454545453)",
          "dash": "solid",
          "width": 2
         },
         "mode": "lines",
         "name": "lines",
         "showlegend": false,
         "text": "None<br />I = 0.671 %<br />I_from = 0.276 kA<br />I_to = 0.278 kA<br />",
         "x": [
          -2.27459248,
          -1.9994073399999999,
          -1.7242222
         ],
         "y": [
          -5.04510978,
          -5.65176108,
          -6.25841238
         ],
         "type": "scatter"
        },
        {
         "hoverinfo": "text",
         "legendgroup": "lines",
         "line": {
          "color": "rgb(0.0,0.0,132.04545454545453)",
          "dash": "solid",
          "width": 2
         },
         "mode": "lines",
         "name": "lines",
         "showlegend": false,
         "text": "None<br />I = 0.509 %<br />I_from = 0.211 kA<br />I_to = 0.21 kA<br />",
         "x": [
          -2.62998753,
          -2.177104865,
          -1.7242222
         ],
         "y": [
          -5.60397106,
          -5.93119172,
          -6.25841238
         ],
         "type": "scatter"
        },
        {
         "hoverinfo": "text",
         "legendgroup": "lines",
         "line": {
          "color": "rgb(0.0,0.0,127.5)",
          "dash": "solid",
          "width": 2
         },
         "mode": "lines",
         "name": "lines",
         "showlegend": false,
         "text": "None<br />I = 0.348 %<br />I_from = 0.144 kA<br />I_to = 0.144 kA<br />",
         "x": [
          -2.02462718,
          -1.8744246900000001,
          -1.7242222
         ],
         "y": [
          -7.14005343,
          -6.699232905000001,
          -6.25841238
         ],
         "type": "scatter"
        },
        {
         "hoverinfo": "text",
         "legendgroup": "lines",
         "line": {
          "color": "rgb(0.0,0.0,132.04545454545453)",
          "dash": "solid",
          "width": 2
         },
         "mode": "lines",
         "name": "lines",
         "showlegend": false,
         "text": "None<br />I = 0.55 %<br />I_from = 0.226 kA<br />I_to = 0.228 kA<br />",
         "x": [
          -1.7242222,
          -1.4399346400000002,
          -1.15564708
         ],
         "y": [
          -6.25841238,
          -6.672294485,
          -7.08617659
         ],
         "type": "scatter"
        },
        {
         "hoverinfo": "text",
         "legendgroup": "lines",
         "line": {
          "color": "rgb(0.0,0.0,132.04545454545453)",
          "dash": "solid",
          "width": 2
         },
         "mode": "lines",
         "name": "lines",
         "showlegend": false,
         "text": "None<br />I = 0.697 %<br />I_from = 0.285 kA<br />I_to = 0.289 kA<br />",
         "x": [
          -1.7242222,
          -1.471721035,
          -1.21921987
         ],
         "y": [
          -6.25841238,
          -6.954392795,
          -7.65037321
         ],
         "type": "scatter"
        },
        {
         "hoverinfo": "text",
         "legendgroup": "lines",
         "line": {
          "color": "rgb(0.0,0.0,127.5)",
          "dash": "solid",
          "width": 2
         },
         "mode": "lines",
         "name": "lines",
         "showlegend": false,
         "text": "None<br />I = 0.309 %<br />I_from = 0.127 kA<br />I_to = 0.128 kA<br />",
         "x": [
          -1.21921987,
          -0.9839073300000001,
          -0.74859479
         ],
         "y": [
          -7.65037321,
          -8.248464949999999,
          -8.84655669
         ],
         "type": "scatter"
        },
        {
         "hoverinfo": "text",
         "legendgroup": "lines",
         "line": {
          "color": "rgb(0.0,0.0,127.5)",
          "dash": "solid",
          "width": 2
         },
         "mode": "lines",
         "name": "lines",
         "showlegend": false,
         "text": "None<br />I = 0.125 %<br />I_from = 0.046 kA<br />I_to = 0.052 kA<br />",
         "x": [
          -0.74859479,
          -0.30134639999999996,
          0.14590199
         ],
         "y": [
          -8.84655669,
          -8.586396725,
          -8.32623676
         ],
         "type": "scatter"
        },
        {
         "hoverinfo": "text",
         "legendgroup": "lines",
         "line": {
          "color": "rgb(0.0,0.0,127.5)",
          "dash": "solid",
          "width": 2
         },
         "mode": "lines",
         "name": "lines",
         "showlegend": false,
         "text": "None<br />I = 0.148 %<br />I_from = 0.061 kA<br />I_to = 0.057 kA<br />",
         "x": [
          0.14590199,
          -0.15575347,
          -0.45740893
         ],
         "y": [
          -8.32623676,
          -7.654629025,
          -6.98302129
         ],
         "type": "scatter"
        },
        {
         "hoverinfo": "text",
         "legendgroup": "lines",
         "line": {
          "color": "rgb(0.0,0.0,132.04545454545453)",
          "dash": "solid",
          "width": 2
         },
         "mode": "lines",
         "name": "lines",
         "showlegend": false,
         "text": "None<br />I = 0.421 %<br />I_from = 0.163 kA<br />I_to = 0.174 kA<br />",
         "x": [
          -1.7242222,
          -1.090815565,
          -0.45740893
         ],
         "y": [
          -6.25841238,
          -6.620716835,
          -6.98302129
         ],
         "type": "scatter"
        },
        {
         "hoverinfo": "text",
         "legendgroup": "lines",
         "line": {
          "color": "rgb(0.0,0.0,132.04545454545453)",
          "dash": "solid",
          "width": 2
         },
         "mode": "lines",
         "name": "lines",
         "showlegend": false,
         "text": "None<br />I = 0.412 %<br />I_from = 0.161 kA<br />I_to = 0.171 kA<br />",
         "x": [
          -1.7242222,
          -1.090815565,
          -0.45740893
         ],
         "y": [
          -6.25841238,
          -6.620716835,
          -6.98302129
         ],
         "type": "scatter"
        },
        {
         "hoverinfo": "text",
         "legendgroup": "lines",
         "line": {
          "color": "rgb(0.0,0.0,127.5)",
          "dash": "solid",
          "width": 2
         },
         "mode": "lines",
         "name": "lines",
         "showlegend": false,
         "text": "None<br />I = 0.083 %<br />I_from = 0.032 kA<br />I_to = 0.034 kA<br />",
         "x": [
          -0.45740893,
          0.201870825,
          0.86115058
         ],
         "y": [
          -6.98302129,
          -7.200309025,
          -7.41759676
         ],
         "type": "scatter"
        },
        {
         "hoverinfo": "text",
         "legendgroup": "lines",
         "line": {
          "color": "rgb(0.0,0.0,127.5)",
          "dash": "solid",
          "width": 2
         },
         "mode": "lines",
         "name": "lines",
         "showlegend": false,
         "text": "None<br />I = 0.203 %<br />I_from = 0.083 kA<br />I_to = 0.084 kA<br />",
         "x": [
          -0.45740893,
          -0.044068415,
          0.3692721
         ],
         "y": [
          -6.98302129,
          -7.33487487,
          -7.68672845
         ],
         "type": "scatter"
        },
        {
         "hoverinfo": "text",
         "legendgroup": "lines",
         "line": {
          "color": "rgb(0.0,0.0,127.5)",
          "dash": "solid",
          "width": 2
         },
         "mode": "lines",
         "name": "lines",
         "showlegend": false,
         "text": "None<br />I = 0.236 %<br />I_from = 0.098 kA<br />I_to = 0.097 kA<br />",
         "x": [
          0.86115058,
          0.61521134,
          0.3692721
         ],
         "y": [
          -7.41759676,
          -7.552162605,
          -7.68672845
         ],
         "type": "scatter"
        },
        {
         "hoverinfo": "text",
         "legendgroup": "lines",
         "line": {
          "color": "rgb(0.0,0.0,127.5)",
          "dash": "solid",
          "width": 2
         },
         "mode": "lines",
         "name": "lines",
         "showlegend": false,
         "text": "None<br />I = 0.262 %<br />I_from = 0.108 kA<br />I_to = 0.105 kA<br />",
         "x": [
          0.3692721,
          -0.008525165000000001,
          -0.38632243
         ],
         "y": [
          -7.68672845,
          -7.9439776150000005,
          -8.20122678
         ],
         "type": "scatter"
        },
        {
         "hoverinfo": "text",
         "legendgroup": "lines",
         "line": {
          "color": "rgb(0.0,0.0,127.5)",
          "dash": "solid",
          "width": 2
         },
         "mode": "lines",
         "name": "lines",
         "showlegend": false,
         "text": "None<br />I = 0.383 %<br />I_from = 0.155 kA<br />I_to = 0.158 kA<br />",
         "x": [
          -1.15564708,
          -0.770984755,
          -0.38632243
         ],
         "y": [
          -7.08617659,
          -7.643701685,
          -8.20122678
         ],
         "type": "scatter"
        },
        {
         "hoverinfo": "text",
         "legendgroup": "lines",
         "line": {
          "color": "rgb(0.0,0.0,127.5)",
          "dash": "solid",
          "width": 2
         },
         "mode": "lines",
         "name": "lines",
         "showlegend": false,
         "text": "None<br />I = 0.081 %<br />I_from = 0.033 kA<br />I_to = 0.03 kA<br />",
         "x": [
          0.3692721,
          0.13639334,
          -0.09648542
         ],
         "y": [
          -7.68672845,
          -8.11634383,
          -8.54595921
         ],
         "type": "scatter"
        },
        {
         "hoverinfo": "text",
         "legendgroup": "lines",
         "line": {
          "color": "rgb(0.0,0.0,127.5)",
          "dash": "solid",
          "width": 2
         },
         "mode": "lines",
         "name": "lines",
         "showlegend": false,
         "text": "None<br />I = 0.203 %<br />I_from = 0.082 kA<br />I_to = 0.084 kA<br />",
         "x": [
          -1.21921987,
          -0.6578526450000001,
          -0.09648542
         ],
         "y": [
          -7.65037321,
          -8.098166209999999,
          -8.54595921
         ],
         "type": "scatter"
        },
        {
         "hoverinfo": "text",
         "legendgroup": "lines",
         "line": {
          "color": "rgb(0.0,0.0,127.5)",
          "dash": "solid",
          "width": 2
         },
         "mode": "lines",
         "name": "lines",
         "showlegend": false,
         "text": "None<br />I = 0.331 %<br />I_from = 0.137 kA<br />I_to = 0.132 kA<br />",
         "x": [
          -0.45740893,
          0.09926433500000001,
          0.6559376
         ],
         "y": [
          -6.98302129,
          -6.834850285,
          -6.68667928
         ],
         "type": "scatter"
        },
        {
         "hoverinfo": "text",
         "legendgroup": "lines",
         "line": {
          "color": "rgb(0.0,0.0,127.5)",
          "dash": "solid",
          "width": 2
         },
         "mode": "lines",
         "name": "lines",
         "showlegend": false,
         "text": "None<br />I = 0.299 %<br />I_from = 0.124 kA<br />I_to = 0.122 kA<br />",
         "x": [
          0.3692721,
          0.51260485,
          0.6559376
         ],
         "y": [
          -7.68672845,
          -7.186703865,
          -6.68667928
         ],
         "type": "scatter"
        },
        {
         "hoverinfo": "text",
         "legendgroup": "lines",
         "line": {
          "color": "rgb(0.0,0.0,127.5)",
          "dash": "solid",
          "width": 2
         },
         "mode": "lines",
         "name": "lines",
         "showlegend": false,
         "text": "None<br />I = 0.313 %<br />I_from = 0.13 kA<br />I_to = 0.128 kA<br />",
         "x": [
          0.3692721,
          0.51260485,
          0.6559376
         ],
         "y": [
          -7.68672845,
          -7.186703865,
          -6.68667928
         ],
         "type": "scatter"
        },
        {
         "hoverinfo": "text",
         "legendgroup": "lines",
         "line": {
          "color": "rgb(0.0,0.0,127.5)",
          "dash": "solid",
          "width": 2
         },
         "mode": "lines",
         "name": "lines",
         "showlegend": false,
         "text": "None<br />I = 0.376 %<br />I_from = 0.156 kA<br />I_to = 0.151 kA<br />",
         "x": [
          0.86115058,
          0.75854409,
          0.6559376
         ],
         "y": [
          -7.41759676,
          -7.05213802,
          -6.68667928
         ],
         "type": "scatter"
        },
        {
         "hoverinfo": "text",
         "legendgroup": "lines",
         "line": {
          "color": "rgb(0.0,0.0,132.04545454545453)",
          "dash": "solid",
          "width": 2
         },
         "mode": "lines",
         "name": "lines",
         "showlegend": false,
         "text": "None<br />I = 0.449 %<br />I_from = 0.185 kA<br />I_to = 0.186 kA<br />",
         "x": [
          0.6559376,
          1.07479352,
          1.49364944
         ],
         "y": [
          -6.68667928,
          -6.468494075,
          -6.25030887
         ],
         "type": "scatter"
        },
        {
         "hoverinfo": "text",
         "legendgroup": "lines",
         "line": {
          "color": "rgb(0.0,0.0,132.04545454545453)",
          "dash": "solid",
          "width": 2
         },
         "mode": "lines",
         "name": "lines",
         "showlegend": false,
         "text": "None<br />I = 0.536 %<br />I_from = 0.221 kA<br />I_to = 0.222 kA<br />",
         "x": [
          0.6559376,
          0.7244658749999999,
          0.79299415
         ],
         "y": [
          -6.68667928,
          -6.168047725,
          -5.64941617
         ],
         "type": "scatter"
        },
        {
         "hoverinfo": "text",
         "legendgroup": "lines",
         "line": {
          "color": "rgb(0.0,0.0,136.5909090909091)",
          "dash": "solid",
          "width": 2
         },
         "mode": "lines",
         "name": "lines",
         "showlegend": false,
         "text": "None<br />I = 1.144 %<br />I_from = 0.473 kA<br />I_to = 0.474 kA<br />",
         "x": [
          1.49364944,
          1.1433217949999999,
          0.79299415
         ],
         "y": [
          -6.25030887,
          -5.94986252,
          -5.64941617
         ],
         "type": "scatter"
        },
        {
         "hoverinfo": "text",
         "legendgroup": "lines",
         "line": {
          "color": "rgb(0.0,0.0,127.5)",
          "dash": "solid",
          "width": 2
         },
         "mode": "lines",
         "name": "lines",
         "showlegend": false,
         "text": "None<br />I = 0.124 %<br />I_from = 0.051 kA<br />I_to = 0.048 kA<br />",
         "x": [
          1.49364944,
          0.7885552849999999,
          0.08346113
         ],
         "y": [
          -6.25030887,
          -5.995335304999999,
          -5.74036174
         ],
         "type": "scatter"
        },
        {
         "hoverinfo": "text",
         "legendgroup": "lines",
         "line": {
          "color": "rgb(0.0,0.0,127.5)",
          "dash": "solid",
          "width": 2
         },
         "mode": "lines",
         "name": "lines",
         "showlegend": false,
         "text": "None<br />I = 0.294 %<br />I_from = 0.122 kA<br />I_to = 0.12 kA<br />",
         "x": [
          0.79299415,
          0.43822764,
          0.08346113
         ],
         "y": [
          -5.64941617,
          -5.694888955,
          -5.74036174
         ],
         "type": "scatter"
        },
        {
         "hoverinfo": "text",
         "legendgroup": "lines",
         "line": {
          "color": "rgb(0.0,0.0,145.6818181818182)",
          "dash": "solid",
          "width": 2
         },
         "mode": "lines",
         "name": "lines",
         "showlegend": false,
         "text": "None<br />I = 1.731 %<br />I_from = 0.287 kA<br />I_to = 0.274 kA<br />",
         "x": [
          0.59774338,
          -0.013713564999999983,
          -0.62517051
         ],
         "y": [
          -5.38684982,
          -5.078756075,
          -4.77066233
         ],
         "type": "scatter"
        },
        {
         "hoverinfo": "text",
         "legendgroup": "lines",
         "line": {
          "color": "rgb(0.0,0.0,150.22727272727272)",
          "dash": "solid",
          "width": 2
         },
         "mode": "lines",
         "name": "lines",
         "showlegend": false,
         "text": "None<br />I = 1.997 %<br />I_from = 0.331 kA<br />I_to = 0.307 kA<br />",
         "x": [
          -1.94675077,
          -1.94849717,
          -1.95024357
         ],
         "y": [
          -3.1510525,
          -3.8312677949999996,
          -4.51148309
         ],
         "type": "scatter"
        },
        {
         "hoverinfo": "text",
         "legendgroup": "lines",
         "line": {
          "color": "rgb(0.0,0.0,150.22727272727272)",
          "dash": "solid",
          "width": 2
         },
         "mode": "lines",
         "name": "lines",
         "showlegend": false,
         "text": "None<br />I = 1.996 %<br />I_from = 0.331 kA<br />I_to = 0.313 kA<br />",
         "x": [
          -0.62517051,
          -1.28770704,
          -1.95024357
         ],
         "y": [
          -4.77066233,
          -4.6410727099999995,
          -4.51148309
         ],
         "type": "scatter"
        },
        {
         "hoverinfo": "text",
         "legendgroup": "lines",
         "line": {
          "color": "rgb(0.0,0.0,141.13636363636363)",
          "dash": "solid",
          "width": 2
         },
         "mode": "lines",
         "name": "lines",
         "showlegend": false,
         "text": "None<br />I = 1.303 %<br />I_from = 0.539 kA<br />I_to = 0.539 kA<br />",
         "x": [
          -1.7242222,
          -1.466041755,
          -1.20786131
         ],
         "y": [
          -6.25841238,
          -5.8076351299999995,
          -5.35685788
         ],
         "type": "scatter"
        },
        {
         "hoverinfo": "text",
         "legendgroup": "lines",
         "line": {
          "color": "rgb(0.0,0.0,141.13636363636363)",
          "dash": "solid",
          "width": 2
         },
         "mode": "lines",
         "name": "lines",
         "showlegend": false,
         "text": "None<br />I = 1.303 %<br />I_from = 0.539 kA<br />I_to = 0.539 kA<br />",
         "x": [
          -1.7242222,
          -1.466041755,
          -1.20786131
         ],
         "y": [
          -6.25841238,
          -5.8076351299999995,
          -5.35685788
         ],
         "type": "scatter"
        },
        {
         "hoverinfo": "text",
         "legendgroup": "lines",
         "line": {
          "color": "rgb(0.0,0.0,132.04545454545453)",
          "dash": "solid",
          "width": 2
         },
         "mode": "lines",
         "name": "lines",
         "showlegend": false,
         "text": "None<br />I = 0.415 %<br />I_from = 0.172 kA<br />I_to = 0.162 kA<br />",
         "x": [
          0.08346113,
          -0.5622000899999999,
          -1.20786131
         ],
         "y": [
          -5.74036174,
          -5.54860981,
          -5.35685788
         ],
         "type": "scatter"
        },
        {
         "hoverinfo": "text",
         "legendgroup": "lines",
         "line": {
          "color": "rgb(0.0,0.0,127.5)",
          "dash": "solid",
          "width": 2
         },
         "mode": "lines",
         "name": "lines",
         "showlegend": false,
         "text": "None<br />I = 0.286 %<br />I_from = 0.118 kA<br />I_to = 0.112 kA<br />",
         "x": [
          0.08346113,
          -0.020662450000000006,
          -0.12478603
         ],
         "y": [
          -5.74036174,
          -5.396458075,
          -5.05255441
         ],
         "type": "scatter"
        },
        {
         "hoverinfo": "text",
         "legendgroup": "lines",
         "line": {
          "color": "rgb(0.0,0.0,132.04545454545453)",
          "dash": "solid",
          "width": 2
         },
         "mode": "lines",
         "name": "lines",
         "showlegend": false,
         "text": "None<br />I = 0.554 %<br />I_from = 0.225 kA<br />I_to = 0.229 kA<br />",
         "x": [
          -1.20786131,
          -0.66632367,
          -0.12478603
         ],
         "y": [
          -5.35685788,
          -5.204706144999999,
          -5.05255441
         ],
         "type": "scatter"
        },
        {
         "hoverinfo": "text",
         "legendgroup": "lines",
         "line": {
          "color": "rgb(0.0,0.0,132.04545454545453)",
          "dash": "solid",
          "width": 2
         },
         "mode": "lines",
         "name": "lines",
         "showlegend": false,
         "text": "None<br />I = 0.583 %<br />I_from = 0.236 kA<br />I_to = 0.241 kA<br />",
         "x": [
          -2.31867841,
          -2.4849722649999997,
          -2.65126612
         ],
         "y": [
          -6.71415481,
          -6.572301245,
          -6.43044768
         ],
         "type": "scatter"
        },
        {
         "hoverinfo": "text",
         "legendgroup": "lines",
         "line": {
          "color": "rgb(0.0,0.0,132.04545454545453)",
          "dash": "solid",
          "width": 2
         },
         "mode": "lines",
         "name": "lines",
         "showlegend": false,
         "text": "None<br />I = 0.492 %<br />I_from = 0.196 kA<br />I_to = 0.204 kA<br />",
         "x": [
          -1.7242222,
          -2.18774416,
          -2.65126612
         ],
         "y": [
          -6.25841238,
          -6.34443003,
          -6.43044768
         ],
         "type": "scatter"
        },
        {
         "hoverinfo": "text",
         "legendgroup": "lines",
         "line": {
          "color": "rgb(0.0,0.0,136.5909090909091)",
          "dash": "solid",
          "width": 2
         },
         "mode": "lines",
         "name": "lines",
         "showlegend": false,
         "text": "None<br />I = 1.087 %<br />I_from = 0.443 kA<br />I_to = 0.45 kA<br />",
         "x": [
          -2.65126612,
          -1.96818258,
          -1.28509904
         ],
         "y": [
          -6.43044768,
          -6.367044875,
          -6.30364207
         ],
         "type": "scatter"
        },
        {
         "hoverinfo": "text",
         "legendgroup": "lines",
         "line": {
          "color": "rgb(0.0,0.0,127.5)",
          "dash": "solid",
          "width": 2
         },
         "mode": "lines",
         "name": "lines",
         "showlegend": false,
         "text": "None<br />I = 0.095 %<br />I_from = 0.029 kA<br />I_to = 0.039 kA<br />",
         "x": [
          -0.27785698,
          -0.78147801,
          -1.28509904
         ],
         "y": [
          -5.1101841,
          -5.706913085,
          -6.30364207
         ],
         "type": "scatter"
        },
        {
         "hoverinfo": "text",
         "legendgroup": "lines",
         "line": {
          "color": "rgb(0.0,0.0,127.5)",
          "dash": "solid",
          "width": 2
         },
         "mode": "lines",
         "name": "lines",
         "showlegend": false,
         "text": "None<br />I = 0.214 %<br />I_from = 0.088 kA<br />I_to = 0.086 kA<br />",
         "x": [
          -1.28509904,
          -0.60524063,
          0.07461778
         ],
         "y": [
          -6.30364207,
          -6.6690691950000005,
          -7.03449632
         ],
         "type": "scatter"
        },
        {
         "hoverinfo": "text",
         "legendgroup": "lines",
         "line": {
          "color": "rgb(0.0,0.0,127.5)",
          "dash": "solid",
          "width": 2
         },
         "mode": "lines",
         "name": "lines",
         "showlegend": false,
         "text": "None<br />I = 0.084 %<br />I_from = 0.015 kA<br />I_to = 0.035 kA<br />",
         "x": [
          -0.27785698,
          0.372930125,
          1.02371723
         ],
         "y": [
          -5.1101841,
          -5.510192705,
          -5.91020131
         ],
         "type": "scatter"
        },
        {
         "hoverinfo": "text",
         "legendgroup": "lines",
         "line": {
          "color": "rgb(0.0,0.0,127.5)",
          "dash": "solid",
          "width": 2
         },
         "mode": "lines",
         "name": "lines",
         "showlegend": false,
         "text": "None<br />I = 0.114 %<br />I_from = 0.045 kA<br />I_to = 0.047 kA<br />",
         "x": [
          0.07461778,
          0.549167505,
          1.02371723
         ],
         "y": [
          -7.03449632,
          -6.472348815,
          -5.91020131
         ],
         "type": "scatter"
        },
        {
         "hoverinfo": "text",
         "legendgroup": "lines",
         "line": {
          "color": "rgb(0.0,0.0,127.5)",
          "dash": "solid",
          "width": 2
         },
         "mode": "lines",
         "name": "lines",
         "showlegend": false,
         "text": "None<br />I = 0.126 %<br />I_from = 0.052 kA<br />I_to = 0.048 kA<br />",
         "x": [
          0.07461778,
          0.6246404050000001,
          1.17466303
         ],
         "y": [
          -7.03449632,
          -7.571665964999999,
          -8.10883561
         ],
         "type": "scatter"
        },
        {
         "hoverinfo": "text",
         "legendgroup": "lines",
         "line": {
          "color": "rgb(0.0,0.0,127.5)",
          "dash": "solid",
          "width": 2
         },
         "mode": "lines",
         "name": "lines",
         "showlegend": false,
         "text": "None<br />I = 0.234 %<br />I_from = 0.088 kA<br />I_to = 0.097 kA<br />",
         "x": [
          -1.28509904,
          -1.5336589699999998,
          -1.7822189
         ],
         "y": [
          -6.30364207,
          -6.71852397,
          -7.13340587
         ],
         "type": "scatter"
        },
        {
         "hoverinfo": "text",
         "legendgroup": "lines",
         "line": {
          "color": "rgb(0.0,0.0,127.5)",
          "dash": "solid",
          "width": 2
         },
         "mode": "lines",
         "name": "lines",
         "showlegend": false,
         "text": "None<br />I = 0.138 %<br />I_from = 0.042 kA<br />I_to = 0.057 kA<br />",
         "x": [
          -1.28509904,
          -1.92753326,
          -2.56996748
         ],
         "y": [
          -6.30364207,
          -6.80379243,
          -7.30394279
         ],
         "type": "scatter"
        },
        {
         "hoverinfo": "text",
         "legendgroup": "lines",
         "line": {
          "color": "rgb(0.0,0.0,136.5909090909091)",
          "dash": "solid",
          "width": 2
         },
         "mode": "lines",
         "name": "lines",
         "showlegend": false,
         "text": "None<br />I = 1.114 %<br />I_from = 0.452 kA<br />I_to = 0.461 kA<br />",
         "x": [
          -2.65126612,
          -2.6106168,
          -2.56996748
         ],
         "y": [
          -6.43044768,
          -6.8671952350000005,
          -7.30394279
         ],
         "type": "scatter"
        },
        {
         "hoverinfo": "text",
         "legendgroup": "lines",
         "line": {
          "color": "rgb(0.0,0.0,132.04545454545453)",
          "dash": "solid",
          "width": 2
         },
         "mode": "lines",
         "name": "lines",
         "showlegend": false,
         "text": "None<br />I = 0.553 %<br />I_from = 0.229 kA<br />I_to = 0.228 kA<br />",
         "x": [
          -1.7822189,
          -2.17609319,
          -2.56996748
         ],
         "y": [
          -7.13340587,
          -7.21867433,
          -7.30394279
         ],
         "type": "scatter"
        },
        {
         "hoverinfo": "text",
         "legendgroup": "lines",
         "line": {
          "color": "rgb(0.0,0.0,132.04545454545453)",
          "dash": "solid",
          "width": 2
         },
         "mode": "lines",
         "name": "lines",
         "showlegend": false,
         "text": "None<br />I = 0.693 %<br />I_from = 0.287 kA<br />I_to = 0.282 kA<br />",
         "x": [
          -3.09464675,
          -3.356686055,
          -3.61872536
         ],
         "y": [
          -8.59502685,
          -8.001565625,
          -7.4081044
         ],
         "type": "scatter"
        },
        {
         "hoverinfo": "text",
         "legendgroup": "lines",
         "line": {
          "color": "rgb(0.0,0.0,132.04545454545453)",
          "dash": "solid",
          "width": 2
         },
         "mode": "lines",
         "name": "lines",
         "showlegend": false,
         "text": "None<br />I = 0.626 %<br />I_from = 0.252 kA<br />I_to = 0.259 kA<br />",
         "x": [
          -2.65126612,
          -3.13499574,
          -3.61872536
         ],
         "y": [
          -6.43044768,
          -6.91927604,
          -7.4081044
         ],
         "type": "scatter"
        },
        {
         "hoverinfo": "text",
         "legendgroup": "lines",
         "line": {
          "color": "rgb(0.0,0.0,127.5)",
          "dash": "solid",
          "width": 2
         },
         "mode": "lines",
         "name": "lines",
         "showlegend": false,
         "text": "None<br />I = 0.376 %<br />I_from = 0.156 kA<br />I_to = 0.151 kA<br />",
         "x": [
          -2.56996748,
          -3.09434642,
          -3.61872536
         ],
         "y": [
          -7.30394279,
          -7.356023595,
          -7.4081044
         ],
         "type": "scatter"
        },
        {
         "hoverinfo": "text",
         "legendgroup": "lines",
         "line": {
          "color": "rgb(0.0,0.0,132.04545454545453)",
          "dash": "solid",
          "width": 2
         },
         "mode": "lines",
         "name": "lines",
         "showlegend": false,
         "text": "None<br />I = 0.462 %<br />I_from = 0.19 kA<br />I_to = 0.191 kA<br />",
         "x": [
          -3.61872536,
          -3.6557544550000003,
          -3.69278355
         ],
         "y": [
          -7.4081044,
          -7.7858990949999995,
          -8.16369379
         ],
         "type": "scatter"
        },
        {
         "hoverinfo": "text",
         "legendgroup": "lines",
         "line": {
          "color": "rgb(0.0,0.0,127.5)",
          "dash": "solid",
          "width": 2
         },
         "mode": "lines",
         "name": "lines",
         "showlegend": false,
         "text": "None<br />I = 0.319 %<br />I_from = 0.132 kA<br />I_to = 0.13 kA<br />",
         "x": [
          -3.69278355,
          -4.20971345,
          -4.72664335
         ],
         "y": [
          -8.16369379,
          -7.94296951,
          -7.72224523
         ],
         "type": "scatter"
        },
        {
         "hoverinfo": "text",
         "legendgroup": "lines",
         "line": {
          "color": "rgb(0.0,0.0,136.5909090909091)",
          "dash": "solid",
          "width": 2
         },
         "mode": "lines",
         "name": "lines",
         "showlegend": false,
         "text": "None<br />I = 1.042 %<br />I_from = 0.431 kA<br />I_to = 0.424 kA<br />",
         "x": [
          -3.61872536,
          -4.236386195,
          -4.85404703
         ],
         "y": [
          -7.4081044,
          -7.20139686,
          -6.99468932
         ],
         "type": "scatter"
        },
        {
         "hoverinfo": "text",
         "legendgroup": "lines",
         "line": {
          "color": "rgb(0.0,0.0,132.04545454545453)",
          "dash": "solid",
          "width": 2
         },
         "mode": "lines",
         "name": "lines",
         "showlegend": false,
         "text": "None<br />I = 0.492 %<br />I_from = 0.204 kA<br />I_to = 0.2 kA<br />",
         "x": [
          -3.61872536,
          -4.236386195,
          -4.85404703
         ],
         "y": [
          -7.4081044,
          -7.20139686,
          -6.99468932
         ],
         "type": "scatter"
        },
        {
         "hoverinfo": "text",
         "legendgroup": "lines",
         "line": {
          "color": "rgb(0.0,0.0,132.04545454545453)",
          "dash": "solid",
          "width": 2
         },
         "mode": "lines",
         "name": "lines",
         "showlegend": false,
         "text": "None<br />I = 0.713 %<br />I_from = 0.295 kA<br />I_to = 0.292 kA<br />",
         "x": [
          -4.72664335,
          -4.79034519,
          -4.85404703
         ],
         "y": [
          -7.72224523,
          -7.358467275000001,
          -6.99468932
         ],
         "type": "scatter"
        },
        {
         "hoverinfo": "text",
         "legendgroup": "lines",
         "line": {
          "color": "rgb(0.0,0.0,127.5)",
          "dash": "solid",
          "width": 2
         },
         "mode": "lines",
         "name": "lines",
         "showlegend": false,
         "text": "None<br />I = 0.261 %<br />I_from = 0.074 kA<br />I_to = 0.108 kA<br />",
         "x": [
          -3.61872536,
          -3.90882792,
          -4.19893048
         ],
         "y": [
          -7.4081044,
          -7.9889782,
          -8.569852
         ],
         "type": "scatter"
        },
        {
         "hoverinfo": "text",
         "legendgroup": "lines",
         "line": {
          "color": "rgb(0.0,0.0,132.04545454545453)",
          "dash": "solid",
          "width": 2
         },
         "mode": "lines",
         "name": "lines",
         "showlegend": false,
         "text": "None<br />I = 0.561 %<br />I_from = 0.225 kA<br />I_to = 0.232 kA<br />",
         "x": [
          -4.19893048,
          -4.1636682799999996,
          -4.12840608
         ],
         "y": [
          -8.569852,
          -9.21420107,
          -9.85855014
         ],
         "type": "scatter"
        },
        {
         "hoverinfo": "text",
         "legendgroup": "lines",
         "line": {
          "color": "rgb(0.0,0.0,127.5)",
          "dash": "solid",
          "width": 2
         },
         "mode": "lines",
         "name": "lines",
         "showlegend": false,
         "text": "None<br />I = 0.309 %<br />I_from = 0.122 kA<br />I_to = 0.128 kA<br />",
         "x": [
          -4.12840608,
          -4.078524055000001,
          -4.02864203
         ],
         "y": [
          -9.85855014,
          -10.352066279999999,
          -10.84558242
         ],
         "type": "scatter"
        },
        {
         "hoverinfo": "text",
         "legendgroup": "lines",
         "line": {
          "color": "rgb(0.0,0.0,132.04545454545453)",
          "dash": "solid",
          "width": 2
         },
         "mode": "lines",
         "name": "lines",
         "showlegend": false,
         "text": "None<br />I = 0.465 %<br />I_from = 0.189 kA<br />I_to = 0.193 kA<br />",
         "x": [
          -4.12840608,
          -4.557836890000001,
          -4.9872677
         ],
         "y": [
          -9.85855014,
          -10.279743934999999,
          -10.70093773
         ],
         "type": "scatter"
        },
        {
         "hoverinfo": "text",
         "legendgroup": "lines",
         "line": {
          "color": "rgb(0.0,0.0,127.5)",
          "dash": "solid",
          "width": 2
         },
         "mode": "lines",
         "name": "lines",
         "showlegend": false,
         "text": "None<br />I = 0.389 %<br />I_from = 0.16 kA<br />I_to = 0.161 kA<br />",
         "x": [
          -4.02864203,
          -4.507954865,
          -4.9872677
         ],
         "y": [
          -10.84558242,
          -10.773260075,
          -10.70093773
         ],
         "type": "scatter"
        },
        {
         "hoverinfo": "text",
         "legendgroup": "lines",
         "line": {
          "color": "rgb(0.0,0.0,127.5)",
          "dash": "solid",
          "width": 2
         },
         "mode": "lines",
         "name": "lines",
         "showlegend": false,
         "text": "None<br />I = 0.182 %<br />I_from = 0.076 kA<br />I_to = 0.073 kA<br />",
         "x": [
          -4.9872677,
          -4.81357673,
          -4.63988576
         ],
         "y": [
          -10.70093773,
          -11.30626081,
          -11.91158389
         ],
         "type": "scatter"
        },
        {
         "hoverinfo": "text",
         "legendgroup": "lines",
         "line": {
          "color": "rgb(0.0,0.0,132.04545454545453)",
          "dash": "solid",
          "width": 2
         },
         "mode": "lines",
         "name": "lines",
         "showlegend": false,
         "text": "None<br />I = 0.527 %<br />I_from = 0.216 kA<br />I_to = 0.218 kA<br />",
         "x": [
          -4.9872677,
          -5.352308315,
          -5.71734893
         ],
         "y": [
          -10.70093773,
          -11.009645205,
          -11.31835268
         ],
         "type": "scatter"
        },
        {
         "hoverinfo": "text",
         "legendgroup": "lines",
         "line": {
          "color": "rgb(0.0,0.0,132.04545454545453)",
          "dash": "solid",
          "width": 2
         },
         "mode": "lines",
         "name": "lines",
         "showlegend": false,
         "text": "None<br />I = 0.731 %<br />I_from = 0.303 kA<br />I_to = 0.302 kA<br />",
         "x": [
          -4.9872677,
          -5.632958935,
          -6.27865017
         ],
         "y": [
          -10.70093773,
          -10.6454703,
          -10.59000287
         ],
         "type": "scatter"
        },
        {
         "hoverinfo": "text",
         "legendgroup": "lines",
         "line": {
          "color": "rgb(0.0,0.0,136.5909090909091)",
          "dash": "solid",
          "width": 2
         },
         "mode": "lines",
         "name": "lines",
         "showlegend": false,
         "text": "None<br />I = 1.012 %<br />I_from = 0.419 kA<br />I_to = 0.419 kA<br />",
         "x": [
          -5.71734893,
          -5.997999549999999,
          -6.27865017
         ],
         "y": [
          -11.31835268,
          -10.954177775,
          -10.59000287
         ],
         "type": "scatter"
        },
        {
         "hoverinfo": "text",
         "legendgroup": "lines",
         "line": {
          "color": "rgb(0.0,0.0,132.04545454545453)",
          "dash": "solid",
          "width": 2
         },
         "mode": "lines",
         "name": "lines",
         "showlegend": false,
         "text": "None<br />I = 0.587 %<br />I_from = 0.243 kA<br />I_to = 0.241 kA<br />",
         "x": [
          -6.27865017,
          -6.661585915,
          -7.04452166
         ],
         "y": [
          -10.59000287,
          -11.052184884999999,
          -11.5143669
         ],
         "type": "scatter"
        },
        {
         "hoverinfo": "text",
         "legendgroup": "lines",
         "line": {
          "color": "rgb(0.0,0.0,136.5909090909091)",
          "dash": "solid",
          "width": 2
         },
         "mode": "lines",
         "name": "lines",
         "showlegend": false,
         "text": "None<br />I = 1.115 %<br />I_from = 0.462 kA<br />I_to = 0.459 kA<br />",
         "x": [
          -6.27865017,
          -6.661585915,
          -7.04452166
         ],
         "y": [
          -10.59000287,
          -11.052184884999999,
          -11.5143669
         ],
         "type": "scatter"
        },
        {
         "hoverinfo": "text",
         "legendgroup": "lines",
         "line": {
          "color": "rgb(0.0,0.0,127.5)",
          "dash": "solid",
          "width": 2
         },
         "mode": "lines",
         "name": "lines",
         "showlegend": false,
         "text": "None<br />I = 0.068 %<br />I_from = 0.02 kA<br />I_to = 0.028 kA<br />",
         "x": [
          -7.04452166,
          -7.297266105,
          -7.55001055
         ],
         "y": [
          -11.5143669,
          -11.030397235,
          -10.54642757
         ],
         "type": "scatter"
        },
        {
         "hoverinfo": "text",
         "legendgroup": "lines",
         "line": {
          "color": "rgb(0.0,0.0,150.22727272727272)",
          "dash": "solid",
          "width": 2
         },
         "mode": "lines",
         "name": "lines",
         "showlegend": false,
         "text": "None<br />I = 2.026 %<br />I_from = 0.839 kA<br />I_to = 0.838 kA<br />",
         "x": [
          -6.27865017,
          -6.6453978750000005,
          -7.01214558
         ],
         "y": [
          -10.59000287,
          -10.011716985,
          -9.4334311
         ],
         "type": "scatter"
        },
        {
         "hoverinfo": "text",
         "legendgroup": "lines",
         "line": {
          "color": "rgb(0.0,0.0,132.04545454545453)",
          "dash": "solid",
          "width": 2
         },
         "mode": "lines",
         "name": "lines",
         "showlegend": false,
         "text": "None<br />I = 0.641 %<br />I_from = 0.266 kA<br />I_to = 0.264 kA<br />",
         "x": [
          -6.27865017,
          -6.6453978750000005,
          -7.01214558
         ],
         "y": [
          -10.59000287,
          -10.011716985,
          -9.4334311
         ],
         "type": "scatter"
        },
        {
         "hoverinfo": "text",
         "legendgroup": "lines",
         "line": {
          "color": "rgb(0.0,0.0,127.5)",
          "dash": "solid",
          "width": 2
         },
         "mode": "lines",
         "name": "lines",
         "showlegend": false,
         "text": "None<br />I = 0.112 %<br />I_from = 0.046 kA<br />I_to = 0.04 kA<br />",
         "x": [
          -7.55001055,
          -7.281078065,
          -7.01214558
         ],
         "y": [
          -10.54642757,
          -9.989929335,
          -9.4334311
         ],
         "type": "scatter"
        },
        {
         "hoverinfo": "text",
         "legendgroup": "lines",
         "line": {
          "color": "rgb(0.0,0.0,132.04545454545453)",
          "dash": "solid",
          "width": 2
         },
         "mode": "lines",
         "name": "lines",
         "showlegend": false,
         "text": "None<br />I = 0.6 %<br />I_from = 0.248 kA<br />I_to = 0.247 kA<br />",
         "x": [
          -7.01214558,
          -6.746033995,
          -6.47992241
         ],
         "y": [
          -9.4334311,
          -9.564321190000001,
          -9.69521128
         ],
         "type": "scatter"
        },
        {
         "hoverinfo": "text",
         "legendgroup": "lines",
         "line": {
          "color": "rgb(0.0,0.0,132.04545454545453)",
          "dash": "solid",
          "width": 2
         },
         "mode": "lines",
         "name": "lines",
         "showlegend": false,
         "text": "None<br />I = 0.554 %<br />I_from = 0.23 kA<br />I_to = 0.225 kA<br />",
         "x": [
          -7.01214558,
          -6.712647125,
          -6.41314867
         ],
         "y": [
          -9.4334311,
          -9.012172565,
          -8.59091403
         ],
         "type": "scatter"
        },
        {
         "hoverinfo": "text",
         "legendgroup": "lines",
         "line": {
          "color": "rgb(0.0,0.0,132.04545454545453)",
          "dash": "solid",
          "width": 2
         },
         "mode": "lines",
         "name": "lines",
         "showlegend": false,
         "text": "None<br />I = 0.5 %<br />I_from = 0.207 kA<br />I_to = 0.204 kA<br />",
         "x": [
          -6.47992241,
          -6.44653554,
          -6.41314867
         ],
         "y": [
          -9.69521128,
          -9.143062655000001,
          -8.59091403
         ],
         "type": "scatter"
        },
        {
         "hoverinfo": "text",
         "legendgroup": "lines",
         "line": {
          "color": "rgb(0.0,0.0,132.04545454545453)",
          "dash": "solid",
          "width": 2
         },
         "mode": "lines",
         "name": "lines",
         "showlegend": false,
         "text": "None<br />I = 0.429 %<br />I_from = 0.177 kA<br />I_to = 0.178 kA<br />",
         "x": [
          -6.41314867,
          -6.0663062100000005,
          -5.71946375
         ],
         "y": [
          -8.59091403,
          -8.718596470000001,
          -8.84627891
         ],
         "type": "scatter"
        },
        {
         "hoverinfo": "text",
         "legendgroup": "lines",
         "line": {
          "color": "rgb(0.0,0.0,127.5)",
          "dash": "solid",
          "width": 2
         },
         "mode": "lines",
         "name": "lines",
         "showlegend": false,
         "text": "None<br />I = 0.315 %<br />I_from = 0.114 kA<br />I_to = 0.13 kA<br />",
         "x": [
          -4.85404703,
          -5.09400328,
          -5.33395953
         ],
         "y": [
          -6.99468932,
          -7.52767132,
          -8.06065332
         ],
         "type": "scatter"
        },
        {
         "hoverinfo": "text",
         "legendgroup": "lines",
         "line": {
          "color": "rgb(0.0,0.0,127.5)",
          "dash": "solid",
          "width": 2
         },
         "mode": "lines",
         "name": "lines",
         "showlegend": false,
         "text": "None<br />I = 0.122 %<br />I_from = 0.051 kA<br />I_to = 0.043 kA<br />",
         "x": [
          -4.19893048,
          -4.766445005,
          -5.33395953
         ],
         "y": [
          -8.569852,
          -8.315252659999999,
          -8.06065332
         ],
         "type": "scatter"
        },
        {
         "hoverinfo": "text",
         "legendgroup": "lines",
         "line": {
          "color": "rgb(0.0,0.0,127.5)",
          "dash": "solid",
          "width": 2
         },
         "mode": "lines",
         "name": "lines",
         "showlegend": false,
         "text": "None<br />I = 0.225 %<br />I_from = 0.093 kA<br />I_to = 0.089 kA<br />",
         "x": [
          -6.41314867,
          -5.8735541,
          -5.33395953
         ],
         "y": [
          -8.59091403,
          -8.325783675,
          -8.06065332
         ],
         "type": "scatter"
        },
        {
         "hoverinfo": "text",
         "legendgroup": "lines",
         "line": {
          "color": "rgb(0.0,0.0,127.5)",
          "dash": "solid",
          "width": 2
         },
         "mode": "lines",
         "name": "lines",
         "showlegend": false,
         "text": "None<br />I = 0.377 %<br />I_from = 0.148 kA<br />I_to = 0.156 kA<br />",
         "x": [
          -4.85404703,
          -5.171898285,
          -5.48974954
         ],
         "y": [
          -6.99468932,
          -6.97472859,
          -6.95476786
         ],
         "type": "scatter"
        },
        {
         "hoverinfo": "text",
         "legendgroup": "lines",
         "line": {
          "color": "rgb(0.0,0.0,127.5)",
          "dash": "solid",
          "width": 2
         },
         "mode": "lines",
         "name": "lines",
         "showlegend": false,
         "text": "None<br />I = 0.302 %<br />I_from = 0.121 kA<br />I_to = 0.125 kA<br />",
         "x": [
          -4.85404703,
          -5.470285015,
          -6.086523
         ],
         "y": [
          -6.99468932,
          -7.15298283,
          -7.31127634
         ],
         "type": "scatter"
        },
        {
         "hoverinfo": "text",
         "legendgroup": "lines",
         "line": {
          "color": "rgb(0.0,0.0,127.5)",
          "dash": "solid",
          "width": 2
         },
         "mode": "lines",
         "name": "lines",
         "showlegend": false,
         "text": "None<br />I = 0.233 %<br />I_from = 0.085 kA<br />I_to = 0.096 kA<br />",
         "x": [
          -4.85404703,
          -5.533078695,
          -6.21211036
         ],
         "y": [
          -6.99468932,
          -6.993320434999999,
          -6.99195155
         ],
         "type": "scatter"
        },
        {
         "hoverinfo": "text",
         "legendgroup": "lines",
         "line": {
          "color": "rgb(0.0,0.0,127.5)",
          "dash": "solid",
          "width": 2
         },
         "mode": "lines",
         "name": "lines",
         "showlegend": false,
         "text": "None<br />I = 0.363 %<br />I_from = 0.15 kA<br />I_to = 0.141 kA<br />",
         "x": [
          -7.01214558,
          -7.03942301,
          -7.06670044
         ],
         "y": [
          -9.4334311,
          -8.709577055,
          -7.98572301
         ],
         "type": "scatter"
        },
        {
         "hoverinfo": "text",
         "legendgroup": "lines",
         "line": {
          "color": "rgb(0.0,0.0,132.04545454545453)",
          "dash": "solid",
          "width": 2
         },
         "mode": "lines",
         "name": "lines",
         "showlegend": false,
         "text": "None<br />I = 0.518 %<br />I_from = 0.214 kA<br />I_to = 0.189 kA<br />",
         "x": [
          -6.41314867,
          -6.739924555,
          -7.06670044
         ],
         "y": [
          -8.59091403,
          -8.28831852,
          -7.98572301
         ],
         "type": "scatter"
        },
        {
         "hoverinfo": "text",
         "legendgroup": "lines",
         "line": {
          "color": "rgb(0.0,0.0,127.5)",
          "dash": "solid",
          "width": 2
         },
         "mode": "lines",
         "name": "lines",
         "showlegend": false,
         "text": "None<br />I = 0.224 %<br />I_from = 0.093 kA<br />I_to = 0.087 kA<br />",
         "x": [
          -5.71946375,
          -5.52671164,
          -5.33395953
         ],
         "y": [
          -8.84627891,
          -8.453466115000001,
          -8.06065332
         ],
         "type": "scatter"
        },
        {
         "hoverinfo": "text",
         "legendgroup": "lines",
         "line": {
          "color": "rgb(0.0,0.0,127.5)",
          "dash": "solid",
          "width": 2
         },
         "mode": "lines",
         "name": "lines",
         "showlegend": false,
         "text": "None<br />I = 0.234 %<br />I_from = 0.097 kA<br />I_to = 0.088 kA<br />",
         "x": [
          -5.33395953,
          -5.411854535,
          -5.48974954
         ],
         "y": [
          -8.06065332,
          -7.50771059,
          -6.95476786
         ],
         "type": "scatter"
        },
        {
         "hoverinfo": "text",
         "legendgroup": "lines",
         "line": {
          "color": "rgb(0.0,0.0,127.5)",
          "dash": "solid",
          "width": 2
         },
         "mode": "lines",
         "name": "lines",
         "showlegend": false,
         "text": "None<br />I = 0.089 %<br />I_from = 0.024 kA<br />I_to = 0.037 kA<br />",
         "x": [
          -6.086523,
          -6.57661172,
          -7.06670044
         ],
         "y": [
          -7.31127634,
          -7.648499675,
          -7.98572301
         ],
         "type": "scatter"
        },
        {
         "hoverinfo": "text",
         "legendgroup": "lines",
         "line": {
          "color": "rgb(0.0,0.0,127.5)",
          "dash": "solid",
          "width": 2
         },
         "mode": "lines",
         "name": "lines",
         "showlegend": false,
         "text": "None<br />I = 0.231 %<br />I_from = 0.096 kA<br />I_to = 0.094 kA<br />",
         "x": [
          -6.21211036,
          -6.639405399999999,
          -7.06670044
         ],
         "y": [
          -6.99195155,
          -7.48883728,
          -7.98572301
         ],
         "type": "scatter"
        },
        {
         "hoverinfo": "text",
         "legendgroup": "lines",
         "line": {
          "color": "rgb(0.0,0.0,127.5)",
          "dash": "solid",
          "width": 2
         },
         "mode": "lines",
         "name": "lines",
         "showlegend": false,
         "text": "None<br />I = 0.309 %<br />I_from = 0.117 kA<br />I_to = 0.128 kA<br />",
         "x": [
          -7.06670044,
          -7.366232475,
          -7.66576451
         ],
         "y": [
          -7.98572301,
          -8.391261175,
          -8.79679934
         ],
         "type": "scatter"
        },
        {
         "hoverinfo": "text",
         "legendgroup": "lines",
         "line": {
          "color": "rgb(0.0,0.0,132.04545454545453)",
          "dash": "solid",
          "width": 2
         },
         "mode": "lines",
         "name": "lines",
         "showlegend": false,
         "text": "None<br />I = 0.464 %<br />I_from = 0.192 kA<br />I_to = 0.191 kA<br />",
         "x": [
          -7.01214558,
          -7.497193795,
          -7.98224201
         ],
         "y": [
          -9.4334311,
          -9.660776045,
          -9.88812099
         ],
         "type": "scatter"
        },
        {
         "hoverinfo": "text",
         "legendgroup": "lines",
         "line": {
          "color": "rgb(0.0,0.0,132.04545454545453)",
          "dash": "solid",
          "width": 2
         },
         "mode": "lines",
         "name": "lines",
         "showlegend": false,
         "text": "None<br />I = 0.418 %<br />I_from = 0.17 kA<br />I_to = 0.173 kA<br />",
         "x": [
          -7.66576451,
          -7.82400326,
          -7.98224201
         ],
         "y": [
          -8.79679934,
          -9.342460165,
          -9.88812099
         ],
         "type": "scatter"
        },
        {
         "hoverinfo": "text",
         "legendgroup": "lines",
         "line": {
          "color": "rgb(0.0,0.0,141.13636363636363)",
          "dash": "solid",
          "width": 2
         },
         "mode": "lines",
         "name": "lines",
         "showlegend": false,
         "text": "None<br />I = 1.229 %<br />I_from = 0.509 kA<br />I_to = 0.505 kA<br />",
         "x": [
          -7.06670044,
          -7.65161147,
          -8.2365225
         ],
         "y": [
          -7.98572301,
          -7.604491205,
          -7.2232594
         ],
         "type": "scatter"
        },
        {
         "hoverinfo": "text",
         "legendgroup": "lines",
         "line": {
          "color": "rgb(0.0,0.0,132.04545454545453)",
          "dash": "solid",
          "width": 2
         },
         "mode": "lines",
         "name": "lines",
         "showlegend": false,
         "text": "None<br />I = 0.578 %<br />I_from = 0.235 kA<br />I_to = 0.239 kA<br />",
         "x": [
          -7.06670044,
          -7.51340043,
          -7.96010042
         ],
         "y": [
          -7.98572301,
          -7.818581945,
          -7.65144088
         ],
         "type": "scatter"
        },
        {
         "hoverinfo": "text",
         "legendgroup": "lines",
         "line": {
          "color": "rgb(0.0,0.0,127.5)",
          "dash": "solid",
          "width": 2
         },
         "mode": "lines",
         "name": "lines",
         "showlegend": false,
         "text": "None<br />I = 0.37 %<br />I_from = 0.146 kA<br />I_to = 0.153 kA<br />",
         "x": [
          -8.2365225,
          -8.09831146,
          -7.96010042
         ],
         "y": [
          -7.2232594,
          -7.4373501399999995,
          -7.65144088
         ],
         "type": "scatter"
        },
        {
         "hoverinfo": "text",
         "legendgroup": "lines",
         "line": {
          "color": "rgb(0.0,0.0,132.04545454545453)",
          "dash": "solid",
          "width": 2
         },
         "mode": "lines",
         "name": "lines",
         "showlegend": false,
         "text": "None<br />I = 0.464 %<br />I_from = 0.187 kA<br />I_to = 0.192 kA<br />",
         "x": [
          -8.2365225,
          -8.66025218,
          -9.08398186
         ],
         "y": [
          -7.2232594,
          -7.578906065,
          -7.93455273
         ],
         "type": "scatter"
        },
        {
         "hoverinfo": "text",
         "legendgroup": "lines",
         "line": {
          "color": "rgb(0.0,0.0,132.04545454545453)",
          "dash": "solid",
          "width": 2
         },
         "mode": "lines",
         "name": "lines",
         "showlegend": false,
         "text": "None<br />I = 0.616 %<br />I_from = 0.251 kA<br />I_to = 0.255 kA<br />",
         "x": [
          -7.06670044,
          -7.58516124,
          -8.10362204
         ],
         "y": [
          -7.98572301,
          -8.109211415,
          -8.23269982
         ],
         "type": "scatter"
        },
        {
         "hoverinfo": "text",
         "legendgroup": "lines",
         "line": {
          "color": "rgb(0.0,0.0,132.04545454545453)",
          "dash": "solid",
          "width": 2
         },
         "mode": "lines",
         "name": "lines",
         "showlegend": false,
         "text": "None<br />I = 0.507 %<br />I_from = 0.21 kA<br />I_to = 0.21 kA<br />",
         "x": [
          -7.96010042,
          -8.522041139999999,
          -9.08398186
         ],
         "y": [
          -7.65144088,
          -7.792996805,
          -7.93455273
         ],
         "type": "scatter"
        },
        {
         "hoverinfo": "text",
         "legendgroup": "lines",
         "line": {
          "color": "rgb(0.0,0.0,127.5)",
          "dash": "solid",
          "width": 2
         },
         "mode": "lines",
         "name": "lines",
         "showlegend": false,
         "text": "None<br />I = 0.108 %<br />I_from = 0.042 kA<br />I_to = 0.045 kA<br />",
         "x": [
          -9.08398186,
          -8.59380195,
          -8.10362204
         ],
         "y": [
          -7.93455273,
          -8.083626275,
          -8.23269982
         ],
         "type": "scatter"
        },
        {
         "hoverinfo": "text",
         "legendgroup": "lines",
         "line": {
          "color": "rgb(0.0,0.0,127.5)",
          "dash": "solid",
          "width": 2
         },
         "mode": "lines",
         "name": "lines",
         "showlegend": false,
         "text": "None<br />I = 0.281 %<br />I_from = 0.116 kA<br />I_to = 0.116 kA<br />",
         "x": [
          -9.08398186,
          -9.072010435,
          -9.06003901
         ],
         "y": [
          -7.93455273,
          -8.380905765,
          -8.8272588
         ],
         "type": "scatter"
        },
        {
         "hoverinfo": "text",
         "legendgroup": "lines",
         "line": {
          "color": "rgb(0.0,0.0,127.5)",
          "dash": "solid",
          "width": 2
         },
         "mode": "lines",
         "name": "lines",
         "showlegend": false,
         "text": "None<br />I = 0.277 %<br />I_from = 0.115 kA<br />I_to = 0.112 kA<br />",
         "x": [
          -9.08398186,
          -9.65312281,
          -10.22226376
         ],
         "y": [
          -7.93455273,
          -8.122371355,
          -8.31018998
         ],
         "type": "scatter"
        },
        {
         "hoverinfo": "text",
         "legendgroup": "lines",
         "line": {
          "color": "rgb(0.0,0.0,127.5)",
          "dash": "solid",
          "width": 2
         },
         "mode": "lines",
         "name": "lines",
         "showlegend": false,
         "text": "None<br />I = 0.255 %<br />I_from = 0.106 kA<br />I_to = 0.104 kA<br />",
         "x": [
          -8.10362204,
          -8.581830525,
          -9.06003901
         ],
         "y": [
          -8.23269982,
          -8.52997931,
          -8.8272588
         ],
         "type": "scatter"
        },
        {
         "hoverinfo": "text",
         "legendgroup": "lines",
         "line": {
          "color": "rgb(0.0,0.0,127.5)",
          "dash": "solid",
          "width": 2
         },
         "mode": "lines",
         "name": "lines",
         "showlegend": false,
         "text": "None<br />I = 0.255 %<br />I_from = 0.105 kA<br />I_to = 0.104 kA<br />",
         "x": [
          -10.22226376,
          -10.330065525,
          -10.43786729
         ],
         "y": [
          -8.31018998,
          -7.88326625,
          -7.45634252
         ],
         "type": "scatter"
        },
        {
         "hoverinfo": "text",
         "legendgroup": "lines",
         "line": {
          "color": "rgb(0.0,0.0,132.04545454545453)",
          "dash": "solid",
          "width": 2
         },
         "mode": "lines",
         "name": "lines",
         "showlegend": false,
         "text": "None<br />I = 0.617 %<br />I_from = 0.253 kA<br />I_to = 0.256 kA<br />",
         "x": [
          -8.2365225,
          -8.79763113,
          -9.35873976
         ],
         "y": [
          -7.2232594,
          -7.023061125,
          -6.82286285
         ],
         "type": "scatter"
        },
        {
         "hoverinfo": "text",
         "legendgroup": "lines",
         "line": {
          "color": "rgb(0.0,0.0,127.5)",
          "dash": "solid",
          "width": 2
         },
         "mode": "lines",
         "name": "lines",
         "showlegend": false,
         "text": "None<br />I = 0.2 %<br />I_from = 0.083 kA<br />I_to = 0.077 kA<br />",
         "x": [
          -10.43786729,
          -9.898303525,
          -9.35873976
         ],
         "y": [
          -7.45634252,
          -7.139602685,
          -6.82286285
         ],
         "type": "scatter"
        },
        {
         "hoverinfo": "text",
         "legendgroup": "lines",
         "line": {
          "color": "rgb(0.0,0.0,127.5)",
          "dash": "solid",
          "width": 2
         },
         "mode": "lines",
         "name": "lines",
         "showlegend": false,
         "text": "None<br />I = 0.372 %<br />I_from = 0.154 kA<br />I_to = 0.154 kA<br />",
         "x": [
          -9.35873976,
          -9.89949021,
          -10.44024066
         ],
         "y": [
          -6.82286285,
          -6.70050883,
          -6.57815481
         ],
         "type": "scatter"
        },
        {
         "hoverinfo": "text",
         "legendgroup": "lines",
         "line": {
          "color": "rgb(0.0,0.0,136.5909090909091)",
          "dash": "solid",
          "width": 2
         },
         "mode": "lines",
         "name": "lines",
         "showlegend": false,
         "text": "None<br />I = 0.788 %<br />I_from = 0.326 kA<br />I_to = 0.316 kA<br />",
         "x": [
          -9.35873976,
          -9.703795405000001,
          -10.04885105
         ],
         "y": [
          -6.82286285,
          -6.375875255,
          -5.92888766
         ],
         "type": "scatter"
        },
        {
         "hoverinfo": "text",
         "legendgroup": "lines",
         "line": {
          "color": "rgb(0.0,0.0,127.5)",
          "dash": "solid",
          "width": 2
         },
         "mode": "lines",
         "name": "lines",
         "showlegend": false,
         "text": "None<br />I = 0.071 %<br />I_from = 0.026 kA<br />I_to = 0.029 kA<br />",
         "x": [
          -1.04893901,
          -0.51392903,
          0.02108095
         ],
         "y": [
          -1.09114552,
          -1.29468184,
          -1.49821816
         ],
         "type": "scatter"
        },
        {
         "hoverinfo": "text",
         "legendgroup": "lines",
         "line": {
          "color": "rgb(0.0,0.0,127.5)",
          "dash": "solid",
          "width": 2
         },
         "mode": "lines",
         "name": "lines",
         "showlegend": false,
         "text": "None<br />I = 0.192 %<br />I_from = 0.079 kA<br />I_to = 0.059 kA<br />",
         "x": [
          0.90364267,
          0.46236181,
          0.02108095
         ],
         "y": [
          -2.47159436,
          -1.98490626,
          -1.49821816
         ],
         "type": "scatter"
        },
        {
         "hoverinfo": "text",
         "legendgroup": "lines",
         "line": {
          "color": "rgb(0.0,0.0,127.5)",
          "dash": "solid",
          "width": 2
         },
         "mode": "lines",
         "name": "lines",
         "showlegend": false,
         "text": "None<br />I = 0.104 %<br />I_from = 0.041 kA<br />I_to = 0.043 kA<br />",
         "x": [
          0.90364267,
          1.58335158,
          2.26306049
         ],
         "y": [
          -2.47159436,
          -2.6292386800000003,
          -2.786883
         ],
         "type": "scatter"
        },
        {
         "hoverinfo": "text",
         "legendgroup": "lines",
         "line": {
          "color": "rgb(0.0,0.0,127.5)",
          "dash": "solid",
          "width": 2
         },
         "mode": "lines",
         "name": "lines",
         "showlegend": false,
         "text": "None<br />I = 0.228 %<br />I_from = 0.092 kA<br />I_to = 0.094 kA<br />",
         "x": [
          1.94459585,
          2.55452186,
          3.16444787
         ],
         "y": [
          -2.22804448,
          -2.3067026,
          -2.38536072
         ],
         "type": "scatter"
        },
        {
         "hoverinfo": "text",
         "legendgroup": "lines",
         "line": {
          "color": "rgb(0.0,0.0,127.5)",
          "dash": "solid",
          "width": 2
         },
         "mode": "lines",
         "name": "lines",
         "showlegend": false,
         "text": "None<br />I = 0.015 %<br />I_from = 0.006 kA<br />I_to = 0.006 kA<br />",
         "x": [
          2.26306049,
          2.71375418,
          3.16444787
         ],
         "y": [
          -2.786883,
          -2.58612186,
          -2.38536072
         ],
         "type": "scatter"
        },
        {
         "hoverinfo": "text",
         "legendgroup": "lines",
         "line": {
          "color": "rgb(0.0,0.0,127.5)",
          "dash": "solid",
          "width": 2
         },
         "mode": "lines",
         "name": "lines",
         "showlegend": false,
         "text": "None<br />I = 0.223 %<br />I_from = 0.088 kA<br />I_to = 0.093 kA<br />",
         "x": [
          -2.45211659,
          -2.984664565,
          -3.51721254
         ],
         "y": [
          1.18877693,
          1.48309183,
          1.77740673
         ],
         "type": "scatter"
        },
        {
         "hoverinfo": "text",
         "legendgroup": "lines",
         "line": {
          "color": "rgb(0.0,0.0,132.04545454545453)",
          "dash": "solid",
          "width": 2
         },
         "mode": "lines",
         "name": "lines",
         "showlegend": false,
         "text": "None<br />I = 0.492 %<br />I_from = 0.201 kA<br />I_to = 0.204 kA<br />",
         "x": [
          -2.56996748,
          -2.357874155,
          -2.14578083
         ],
         "y": [
          -7.30394279,
          -7.925320984999999,
          -8.54669918
         ],
         "type": "scatter"
        },
        {
         "hoverinfo": "text",
         "legendgroup": "lines",
         "line": {
          "color": "rgb(0.0,0.0,127.5)",
          "dash": "solid",
          "width": 2
         },
         "mode": "lines",
         "name": "lines",
         "showlegend": false,
         "text": "None<br />I = 0.127 %<br />I_from = 0.053 kA<br />I_to = 0.048 kA<br />",
         "x": [
          -3.09464675,
          -2.62021379,
          -2.14578083
         ],
         "y": [
          -8.59502685,
          -8.570863015,
          -8.54669918
         ],
         "type": "scatter"
        },
        {
         "hoverinfo": "text",
         "legendgroup": "lines",
         "marker": {
          "color": "rgb(128, 128, 128)",
          "size": 1,
          "symbol": "circle"
         },
         "mode": "markers",
         "name": "edge_center",
         "showlegend": false,
         "text": [
          "None<br />I = 0.19 %<br />I_from = 0.079 kA<br />I_to = 0.072 kA<br />",
          "None<br />I = 0.447 %<br />I_from = 0.185 kA<br />I_to = 0.183 kA<br />",
          "None<br />I = 1.079 %<br />I_from = 0.447 kA<br />I_to = 0.447 kA<br />",
          "None<br />I = 0.727 %<br />I_from = 0.301 kA<br />I_to = 0.298 kA<br />",
          "None<br />I = 0.893 %<br />I_from = 0.37 kA<br />I_to = 0.37 kA<br />",
          "None<br />I = 0.366 %<br />I_from = 0.152 kA<br />I_to = 0.151 kA<br />",
          "None<br />I = 4.475 %<br />I_from = 0.741 kA<br />I_to = 0.716 kA<br />",
          "None<br />I = 4.357 %<br />I_from = 0.716 kA<br />I_to = 0.722 kA<br />",
          "None<br />I = 0.65 %<br />I_from = 0.269 kA<br />I_to = 0.269 kA<br />",
          "None<br />I = 0.779 %<br />I_from = 0.323 kA<br />I_to = 0.323 kA<br />",
          "None<br />I = 0.503 %<br />I_from = 0.209 kA<br />I_to = 0.207 kA<br />",
          "None<br />I = 0.396 %<br />I_from = 0.164 kA<br />I_to = 0.161 kA<br />",
          "None<br />I = 0.165 %<br />I_from = 0.068 kA<br />I_to = 0.056 kA<br />",
          "None<br />I = 0.181 %<br />I_from = 0.075 kA<br />I_to = 0.074 kA<br />",
          "None<br />I = 0.384 %<br />I_from = 0.157 kA<br />I_to = 0.159 kA<br />",
          "None<br />I = 0.192 %<br />I_from = 0.078 kA<br />I_to = 0.08 kA<br />",
          "None<br />I = 0.041 %<br />I_from = 0.017 kA<br />I_to = 0.009 kA<br />",
          "None<br />I = 0.093 %<br />I_from = 0.022 kA<br />I_to = 0.038 kA<br />",
          "None<br />I = 0.101 %<br />I_from = 0.037 kA<br />I_to = 0.042 kA<br />",
          "None<br />I = 1.111 %<br />I_from = 0.46 kA<br />I_to = 0.456 kA<br />",
          "None<br />I = 0.184 %<br />I_from = 0.076 kA<br />I_to = 0.074 kA<br />",
          "None<br />I = 0.856 %<br />I_from = 0.353 kA<br />I_to = 0.355 kA<br />",
          "None<br />I = 0.274 %<br />I_from = 0.11 kA<br />I_to = 0.113 kA<br />",
          "None<br />I = 0.139 %<br />I_from = 0.051 kA<br />I_to = 0.058 kA<br />",
          "None<br />I = 0.211 %<br />I_from = 0.084 kA<br />I_to = 0.087 kA<br />",
          "None<br />I = 0.311 %<br />I_from = 0.127 kA<br />I_to = 0.129 kA<br />",
          "None<br />I = 0.453 %<br />I_from = 0.187 kA<br />I_to = 0.187 kA<br />",
          "None<br />I = 0.56 %<br />I_from = 0.232 kA<br />I_to = 0.23 kA<br />",
          "None<br />I = 0.176 %<br />I_from = 0.055 kA<br />I_to = 0.073 kA<br />",
          "None<br />I = 1.663 %<br />I_from = 0.689 kA<br />I_to = 0.682 kA<br />",
          "None<br />I = 1.44 %<br />I_from = 0.584 kA<br />I_to = 0.596 kA<br />",
          "None<br />I = 0.343 %<br />I_from = 0.142 kA<br />I_to = 0.142 kA<br />",
          "None<br />I = 0.178 %<br />I_from = 0.074 kA<br />I_to = 0.071 kA<br />",
          "None<br />I = 1.082 %<br />I_from = 0.131 kA<br />I_to = 0.179 kA<br />",
          "None<br />I = 2.284 %<br />I_from = 0.369 kA<br />I_to = 0.378 kA<br />",
          "None<br />I = 0.216 %<br />I_from = 0.079 kA<br />I_to = 0.09 kA<br />",
          "None<br />I = 0.126 %<br />I_from = 0.052 kA<br />I_to = 0.05 kA<br />",
          "None<br />I = 0.949 %<br />I_from = 0.39 kA<br />I_to = 0.393 kA<br />",
          "None<br />I = 0.348 %<br />I_from = 0.14 kA<br />I_to = 0.144 kA<br />",
          "None<br />I = 0.136 %<br />I_from = 0.055 kA<br />I_to = 0.056 kA<br />",
          "None<br />I = 0.089 %<br />I_from = 0.037 kA<br />I_to = 0.032 kA<br />",
          "None<br />I = 0.115 %<br />I_from = 0.048 kA<br />I_to = 0.025 kA<br />",
          "None<br />I = 0.045 %<br />I_from = 0.018 kA<br />I_to = 0.019 kA<br />",
          "None<br />I = 0.374 %<br />I_from = 0.155 kA<br />I_to = 0.153 kA<br />",
          "None<br />I = 0.196 %<br />I_from = 0.081 kA<br />I_to = 0.074 kA<br />",
          "None<br />I = 0.315 %<br />I_from = 0.13 kA<br />I_to = 0.131 kA<br />",
          "None<br />I = 1.069 %<br />I_from = 0.443 kA<br />I_to = 0.441 kA<br />",
          "None<br />I = 0.562 %<br />I_from = 0.232 kA<br />I_to = 0.233 kA<br />",
          "None<br />I = 0.45 %<br />I_from = 0.187 kA<br />I_to = 0.185 kA<br />",
          "None<br />I = 0.879 %<br />I_from = 0.111 kA<br />I_to = 0.146 kA<br />",
          "None<br />I = 0.295 %<br />I_from = 0.122 kA<br />I_to = 0.12 kA<br />",
          "None<br />I = 0.163 %<br />I_from = 0.067 kA<br />I_to = 0.067 kA<br />",
          "None<br />I = 0.14 %<br />I_from = 0.058 kA<br />I_to = 0.052 kA<br />",
          "None<br />I = 0.24 %<br />I_from = 0.099 kA<br />I_to = 0.095 kA<br />",
          "None<br />I = 0.176 %<br />I_from = 0.071 kA<br />I_to = 0.073 kA<br />",
          "None<br />I = 0.06 %<br />I_from = 0.009 kA<br />I_to = 0.025 kA<br />",
          "None<br />I = 0.345 %<br />I_from = 0.141 kA<br />I_to = 0.143 kA<br />",
          "None<br />I = 0.374 %<br />I_from = 0.155 kA<br />I_to = 0.154 kA<br />",
          "None<br />I = 0.313 %<br />I_from = 0.13 kA<br />I_to = 0.13 kA<br />",
          "None<br />I = 0.159 %<br />I_from = 0.066 kA<br />I_to = 0.061 kA<br />",
          "None<br />I = 0.143 %<br />I_from = 0.059 kA<br />I_to = 0.054 kA<br />",
          "None<br />I = 0.671 %<br />I_from = 0.276 kA<br />I_to = 0.278 kA<br />",
          "None<br />I = 0.671 %<br />I_from = 0.276 kA<br />I_to = 0.278 kA<br />",
          "None<br />I = 0.509 %<br />I_from = 0.211 kA<br />I_to = 0.21 kA<br />",
          "None<br />I = 0.348 %<br />I_from = 0.144 kA<br />I_to = 0.144 kA<br />",
          "None<br />I = 0.55 %<br />I_from = 0.226 kA<br />I_to = 0.228 kA<br />",
          "None<br />I = 0.697 %<br />I_from = 0.285 kA<br />I_to = 0.289 kA<br />",
          "None<br />I = 0.309 %<br />I_from = 0.127 kA<br />I_to = 0.128 kA<br />",
          "None<br />I = 0.125 %<br />I_from = 0.046 kA<br />I_to = 0.052 kA<br />",
          "None<br />I = 0.148 %<br />I_from = 0.061 kA<br />I_to = 0.057 kA<br />",
          "None<br />I = 0.421 %<br />I_from = 0.163 kA<br />I_to = 0.174 kA<br />",
          "None<br />I = 0.412 %<br />I_from = 0.161 kA<br />I_to = 0.171 kA<br />",
          "None<br />I = 0.083 %<br />I_from = 0.032 kA<br />I_to = 0.034 kA<br />",
          "None<br />I = 0.203 %<br />I_from = 0.083 kA<br />I_to = 0.084 kA<br />",
          "None<br />I = 0.236 %<br />I_from = 0.098 kA<br />I_to = 0.097 kA<br />",
          "None<br />I = 0.262 %<br />I_from = 0.108 kA<br />I_to = 0.105 kA<br />",
          "None<br />I = 0.383 %<br />I_from = 0.155 kA<br />I_to = 0.158 kA<br />",
          "None<br />I = 0.081 %<br />I_from = 0.033 kA<br />I_to = 0.03 kA<br />",
          "None<br />I = 0.203 %<br />I_from = 0.082 kA<br />I_to = 0.084 kA<br />",
          "None<br />I = 0.331 %<br />I_from = 0.137 kA<br />I_to = 0.132 kA<br />",
          "None<br />I = 0.299 %<br />I_from = 0.124 kA<br />I_to = 0.122 kA<br />",
          "None<br />I = 0.313 %<br />I_from = 0.13 kA<br />I_to = 0.128 kA<br />",
          "None<br />I = 0.376 %<br />I_from = 0.156 kA<br />I_to = 0.151 kA<br />",
          "None<br />I = 0.449 %<br />I_from = 0.185 kA<br />I_to = 0.186 kA<br />",
          "None<br />I = 0.536 %<br />I_from = 0.221 kA<br />I_to = 0.222 kA<br />",
          "None<br />I = 1.144 %<br />I_from = 0.473 kA<br />I_to = 0.474 kA<br />",
          "None<br />I = 0.124 %<br />I_from = 0.051 kA<br />I_to = 0.048 kA<br />",
          "None<br />I = 0.294 %<br />I_from = 0.122 kA<br />I_to = 0.12 kA<br />",
          "None<br />I = 1.731 %<br />I_from = 0.287 kA<br />I_to = 0.274 kA<br />",
          "None<br />I = 1.997 %<br />I_from = 0.331 kA<br />I_to = 0.307 kA<br />",
          "None<br />I = 1.996 %<br />I_from = 0.331 kA<br />I_to = 0.313 kA<br />",
          "None<br />I = 1.303 %<br />I_from = 0.539 kA<br />I_to = 0.539 kA<br />",
          "None<br />I = 1.303 %<br />I_from = 0.539 kA<br />I_to = 0.539 kA<br />",
          "None<br />I = 0.415 %<br />I_from = 0.172 kA<br />I_to = 0.162 kA<br />",
          "None<br />I = 0.286 %<br />I_from = 0.118 kA<br />I_to = 0.112 kA<br />",
          "None<br />I = 0.554 %<br />I_from = 0.225 kA<br />I_to = 0.229 kA<br />",
          "None<br />I = 0.583 %<br />I_from = 0.236 kA<br />I_to = 0.241 kA<br />",
          "None<br />I = 0.492 %<br />I_from = 0.196 kA<br />I_to = 0.204 kA<br />",
          "None<br />I = 1.087 %<br />I_from = 0.443 kA<br />I_to = 0.45 kA<br />",
          "None<br />I = 0.095 %<br />I_from = 0.029 kA<br />I_to = 0.039 kA<br />",
          "None<br />I = 0.214 %<br />I_from = 0.088 kA<br />I_to = 0.086 kA<br />",
          "None<br />I = 0.084 %<br />I_from = 0.015 kA<br />I_to = 0.035 kA<br />",
          "None<br />I = 0.114 %<br />I_from = 0.045 kA<br />I_to = 0.047 kA<br />",
          "None<br />I = 0.126 %<br />I_from = 0.052 kA<br />I_to = 0.048 kA<br />",
          "None<br />I = 0.234 %<br />I_from = 0.088 kA<br />I_to = 0.097 kA<br />",
          "None<br />I = 0.138 %<br />I_from = 0.042 kA<br />I_to = 0.057 kA<br />",
          "None<br />I = 1.114 %<br />I_from = 0.452 kA<br />I_to = 0.461 kA<br />",
          "None<br />I = 0.553 %<br />I_from = 0.229 kA<br />I_to = 0.228 kA<br />",
          "None<br />I = 0.693 %<br />I_from = 0.287 kA<br />I_to = 0.282 kA<br />",
          "None<br />I = 0.626 %<br />I_from = 0.252 kA<br />I_to = 0.259 kA<br />",
          "None<br />I = 0.376 %<br />I_from = 0.156 kA<br />I_to = 0.151 kA<br />",
          "None<br />I = 0.462 %<br />I_from = 0.19 kA<br />I_to = 0.191 kA<br />",
          "None<br />I = 0.319 %<br />I_from = 0.132 kA<br />I_to = 0.13 kA<br />",
          "None<br />I = 1.042 %<br />I_from = 0.431 kA<br />I_to = 0.424 kA<br />",
          "None<br />I = 0.492 %<br />I_from = 0.204 kA<br />I_to = 0.2 kA<br />",
          "None<br />I = 0.713 %<br />I_from = 0.295 kA<br />I_to = 0.292 kA<br />",
          "None<br />I = 0.261 %<br />I_from = 0.074 kA<br />I_to = 0.108 kA<br />",
          "None<br />I = 0.561 %<br />I_from = 0.225 kA<br />I_to = 0.232 kA<br />",
          "None<br />I = 0.309 %<br />I_from = 0.122 kA<br />I_to = 0.128 kA<br />",
          "None<br />I = 0.465 %<br />I_from = 0.189 kA<br />I_to = 0.193 kA<br />",
          "None<br />I = 0.389 %<br />I_from = 0.16 kA<br />I_to = 0.161 kA<br />",
          "None<br />I = 0.182 %<br />I_from = 0.076 kA<br />I_to = 0.073 kA<br />",
          "None<br />I = 0.527 %<br />I_from = 0.216 kA<br />I_to = 0.218 kA<br />",
          "None<br />I = 0.731 %<br />I_from = 0.303 kA<br />I_to = 0.302 kA<br />",
          "None<br />I = 1.012 %<br />I_from = 0.419 kA<br />I_to = 0.419 kA<br />",
          "None<br />I = 0.587 %<br />I_from = 0.243 kA<br />I_to = 0.241 kA<br />",
          "None<br />I = 1.115 %<br />I_from = 0.462 kA<br />I_to = 0.459 kA<br />",
          "None<br />I = 0.068 %<br />I_from = 0.02 kA<br />I_to = 0.028 kA<br />",
          "None<br />I = 2.026 %<br />I_from = 0.839 kA<br />I_to = 0.838 kA<br />",
          "None<br />I = 0.641 %<br />I_from = 0.266 kA<br />I_to = 0.264 kA<br />",
          "None<br />I = 0.112 %<br />I_from = 0.046 kA<br />I_to = 0.04 kA<br />",
          "None<br />I = 0.6 %<br />I_from = 0.248 kA<br />I_to = 0.247 kA<br />",
          "None<br />I = 0.554 %<br />I_from = 0.23 kA<br />I_to = 0.225 kA<br />",
          "None<br />I = 0.5 %<br />I_from = 0.207 kA<br />I_to = 0.204 kA<br />",
          "None<br />I = 0.429 %<br />I_from = 0.177 kA<br />I_to = 0.178 kA<br />",
          "None<br />I = 0.315 %<br />I_from = 0.114 kA<br />I_to = 0.13 kA<br />",
          "None<br />I = 0.122 %<br />I_from = 0.051 kA<br />I_to = 0.043 kA<br />",
          "None<br />I = 0.225 %<br />I_from = 0.093 kA<br />I_to = 0.089 kA<br />",
          "None<br />I = 0.377 %<br />I_from = 0.148 kA<br />I_to = 0.156 kA<br />",
          "None<br />I = 0.302 %<br />I_from = 0.121 kA<br />I_to = 0.125 kA<br />",
          "None<br />I = 0.233 %<br />I_from = 0.085 kA<br />I_to = 0.096 kA<br />",
          "None<br />I = 0.363 %<br />I_from = 0.15 kA<br />I_to = 0.141 kA<br />",
          "None<br />I = 0.518 %<br />I_from = 0.214 kA<br />I_to = 0.189 kA<br />",
          "None<br />I = 0.224 %<br />I_from = 0.093 kA<br />I_to = 0.087 kA<br />",
          "None<br />I = 0.234 %<br />I_from = 0.097 kA<br />I_to = 0.088 kA<br />",
          "None<br />I = 0.089 %<br />I_from = 0.024 kA<br />I_to = 0.037 kA<br />",
          "None<br />I = 0.231 %<br />I_from = 0.096 kA<br />I_to = 0.094 kA<br />",
          "None<br />I = 0.309 %<br />I_from = 0.117 kA<br />I_to = 0.128 kA<br />",
          "None<br />I = 0.464 %<br />I_from = 0.192 kA<br />I_to = 0.191 kA<br />",
          "None<br />I = 0.418 %<br />I_from = 0.17 kA<br />I_to = 0.173 kA<br />",
          "None<br />I = 1.229 %<br />I_from = 0.509 kA<br />I_to = 0.505 kA<br />",
          "None<br />I = 0.578 %<br />I_from = 0.235 kA<br />I_to = 0.239 kA<br />",
          "None<br />I = 0.37 %<br />I_from = 0.146 kA<br />I_to = 0.153 kA<br />",
          "None<br />I = 0.464 %<br />I_from = 0.187 kA<br />I_to = 0.192 kA<br />",
          "None<br />I = 0.616 %<br />I_from = 0.251 kA<br />I_to = 0.255 kA<br />",
          "None<br />I = 0.507 %<br />I_from = 0.21 kA<br />I_to = 0.21 kA<br />",
          "None<br />I = 0.108 %<br />I_from = 0.042 kA<br />I_to = 0.045 kA<br />",
          "None<br />I = 0.281 %<br />I_from = 0.116 kA<br />I_to = 0.116 kA<br />",
          "None<br />I = 0.277 %<br />I_from = 0.115 kA<br />I_to = 0.112 kA<br />",
          "None<br />I = 0.255 %<br />I_from = 0.106 kA<br />I_to = 0.104 kA<br />",
          "None<br />I = 0.255 %<br />I_from = 0.105 kA<br />I_to = 0.104 kA<br />",
          "None<br />I = 0.617 %<br />I_from = 0.253 kA<br />I_to = 0.256 kA<br />",
          "None<br />I = 0.2 %<br />I_from = 0.083 kA<br />I_to = 0.077 kA<br />",
          "None<br />I = 0.372 %<br />I_from = 0.154 kA<br />I_to = 0.154 kA<br />",
          "None<br />I = 0.788 %<br />I_from = 0.326 kA<br />I_to = 0.316 kA<br />",
          "None<br />I = 0.071 %<br />I_from = 0.026 kA<br />I_to = 0.029 kA<br />",
          "None<br />I = 0.192 %<br />I_from = 0.079 kA<br />I_to = 0.059 kA<br />",
          "None<br />I = 0.104 %<br />I_from = 0.041 kA<br />I_to = 0.043 kA<br />",
          "None<br />I = 0.228 %<br />I_from = 0.092 kA<br />I_to = 0.094 kA<br />",
          "None<br />I = 0.015 %<br />I_from = 0.006 kA<br />I_to = 0.006 kA<br />",
          "None<br />I = 0.223 %<br />I_from = 0.088 kA<br />I_to = 0.093 kA<br />",
          "None<br />I = 0.492 %<br />I_from = 0.201 kA<br />I_to = 0.204 kA<br />",
          "None<br />I = 0.127 %<br />I_from = 0.053 kA<br />I_to = 0.048 kA<br />"
         ],
         "x": [
          -2.6060947800000003
         ],
         "y": [
          2.5332603049999998
         ],
         "type": "scatter"
        },
        {
         "hoverinfo": "text",
         "legendgroup": "2W transformers",
         "line": {
          "color": "rgb(0.0,0.0,168.4090909090909)",
          "width": 3.0
         },
         "mode": "lines",
         "name": "2W transformers",
         "showlegend": true,
         "text": "None<br />I = 3.59 %<br />I_hv = 0.595 kA<br />I_lv = 1.465 kA<br />",
         "x": [
          -0.67929979,
          -0.821291365,
          -0.96328294
         ],
         "y": [
          -0.58132104,
          0.056704435,
          0.69472991
         ],
         "type": "scatter"
        },
        {
         "hoverinfo": "text",
         "legendgroup": "2W transformers",
         "line": {
          "color": "rgb(0.0,0.0,136.5909090909091)",
          "width": 3.0
         },
         "mode": "lines",
         "name": "2W transformers",
         "showlegend": false,
         "text": "None<br />I = 0.923 %<br />I_hv = 0.153 kA<br />I_lv = 0.367 kA<br />",
         "x": [
          -0.1984213,
          0.38234776,
          0.96311682
         ],
         "y": [
          -2.33750455,
          -2.65928405,
          -2.98106355
         ],
         "type": "scatter"
        },
        {
         "hoverinfo": "text",
         "legendgroup": "2W transformers",
         "line": {
          "color": "rgb(0.0,0.0,154.77272727272728)",
          "width": 3.0
         },
         "mode": "lines",
         "name": "2W transformers",
         "showlegend": false,
         "text": "None<br />I = 2.554 %<br />I_hv = 0.423 kA<br />I_lv = 1.016 kA<br />",
         "x": [
          -1.23743145,
          -1.14318523,
          -1.04893901
         ],
         "y": [
          -2.0300348,
          -1.56059016,
          -1.09114552
         ],
         "type": "scatter"
        },
        {
         "hoverinfo": "text",
         "legendgroup": "2W transformers",
         "line": {
          "color": "rgb(0.0,0.0,159.3181818181818)",
          "width": 3.0
         },
         "mode": "lines",
         "name": "2W transformers",
         "showlegend": false,
         "text": "None<br />I = 2.822 %<br />I_hv = 0.468 kA<br />I_lv = 1.093 kA<br />",
         "x": [
          -1.94675077,
          -2.451344065,
          -2.95593736
         ],
         "y": [
          -3.1510525,
          -2.93118509,
          -2.71131768
         ],
         "type": "scatter"
        },
        {
         "hoverinfo": "text",
         "legendgroup": "2W transformers",
         "line": {
          "color": "rgb(0.0,0.0,145.6818181818182)",
          "width": 3.0
         },
         "mode": "lines",
         "name": "2W transformers",
         "showlegend": false,
         "text": "None<br />I = 1.731 %<br />I_hv = 0.287 kA<br />I_lv = 0.688 kA<br />",
         "x": [
          0.59774338,
          0.62684049,
          0.6559376
         ],
         "y": [
          -5.38684982,
          -6.03676455,
          -6.68667928
         ],
         "type": "scatter"
        },
        {
         "hoverinfo": "text",
         "legendgroup": "2W transformers",
         "line": {
          "color": "rgb(0.0,0.0,127.5)",
          "width": 3.0
         },
         "mode": "lines",
         "name": "2W transformers",
         "showlegend": false,
         "text": "None<br />I = 0.344 %<br />I_hv = 0.057 kA<br />I_lv = 0.141 kA<br />",
         "x": [
          -0.62517051,
          0.08391181999999997,
          0.79299415
         ],
         "y": [
          -4.77066233,
          -5.21003925,
          -5.64941617
         ],
         "type": "scatter"
        },
        {
         "hoverinfo": "text",
         "legendgroup": "2W transformers",
         "line": {
          "color": "rgb(0.0,0.0,132.04545454545453)",
          "width": 3.0
         },
         "mode": "lines",
         "name": "2W transformers",
         "showlegend": false,
         "text": "None<br />I = 0.731 %<br />I_hv = 0.121 kA<br />I_lv = 0.283 kA<br />",
         "x": [
          -1.95024357,
          -1.57905244,
          -1.20786131
         ],
         "y": [
          -4.51148309,
          -4.934170484999999,
          -5.35685788
         ],
         "type": "scatter"
        },
        {
         "hoverinfo": "text",
         "legendgroup": "2W transformers",
         "line": {
          "color": "rgb(0.0,0.0,136.5909090909091)",
          "width": 3.0
         },
         "mode": "lines",
         "name": "2W transformers",
         "showlegend": false,
         "text": "None<br />I = 0.802 %<br />I_hv = 0.133 kA<br />I_lv = 0.074 kA<br />",
         "x": [
          -1.95024357,
          -2.5656522500000003,
          -3.18106093
         ],
         "y": [
          -4.51148309,
          -4.981295319999999,
          -5.45110755
         ],
         "type": "scatter"
        },
        {
         "hoverinfo": "text",
         "legendgroup": "2W transformers",
         "line": {
          "color": "rgb(0.0,0.0,145.6818181818182)",
          "width": 3.0
         },
         "mode": "lines",
         "name": "2W transformers",
         "showlegend": false,
         "text": "None<br />I = 1.594 %<br />I_hv = 0.566 kA<br />I_lv = 0.617 kA<br />",
         "x": [
          -3.18106093,
          -2.916163525,
          -2.65126612
         ],
         "y": [
          -5.45110755,
          -5.940777615,
          -6.43044768
         ],
         "type": "scatter"
        },
        {
         "hoverinfo": "text",
         "legendgroup": "2W transformers",
         "line": {
          "color": "rgb(0.0,0.0,141.13636363636363)",
          "width": 3.0
         },
         "mode": "lines",
         "name": "2W transformers",
         "showlegend": false,
         "text": "None<br />I = 1.233 %<br />I_hv = 0.093 kA<br />I_lv = 0.438 kA<br />",
         "x": [
          -4.4266116,
          -3.803836265,
          -3.18106093
         ],
         "y": [
          -5.94940611,
          -5.70025683,
          -5.45110755
         ],
         "type": "scatter"
        },
        {
         "hoverinfo": "text",
         "legendgroup": "2W transformers",
         "line": {
          "color": "rgb(0.0,0.0,132.04545454545453)",
          "width": 3.0
         },
         "mode": "lines",
         "name": "2W transformers",
         "showlegend": false,
         "text": "None<br />I = 0.564 %<br />I_hv = 0.093 kA<br />I_lv = 0.218 kA<br />",
         "x": [
          -4.4266116,
          -4.640329315000001,
          -4.85404703
         ],
         "y": [
          -5.94940611,
          -6.472047715,
          -6.99468932
         ],
         "type": "scatter"
        },
        {
         "hoverinfo": "text",
         "legendgroup": "2W transformers",
         "line": {
          "color": "rgb(0.0,0.0,127.5)",
          "width": 3.0
         },
         "mode": "lines",
         "name": "2W transformers",
         "showlegend": false,
         "text": "None<br />I = 0.176 %<br />I_hv = 0.063 kA<br />I_lv = 0.055 kA<br />",
         "x": [
          -4.47545851,
          -4.557672135000001,
          -4.63988576
         ],
         "y": [
          -13.00524532,
          -12.458414605,
          -11.91158389
         ],
         "type": "scatter"
        },
        {
         "hoverinfo": "text",
         "legendgroup": "2W transformers",
         "line": {
          "color": "rgb(0.0,0.0,159.3181818181818)",
          "width": 3.0
         },
         "mode": "lines",
         "name": "2W transformers",
         "showlegend": false,
         "text": "None<br />I = 2.829 %<br />I_hv = 0.469 kA<br />I_lv = 0.961 kA<br />",
         "x": [
          -4.1528539,
          -3.666957415,
          -3.18106093
         ],
         "y": [
          -4.93489334,
          -5.193000445,
          -5.45110755
         ],
         "type": "scatter"
        },
        {
         "hoverinfo": "text",
         "legendgroup": "2W transformers",
         "marker": {
          "color": "rgb(0.0,0.0,159.3181818181818)",
          "size": 1,
          "symbol": "circle"
         },
         "mode": "markers",
         "name": "edge_center",
         "showlegend": false,
         "text": [
          "None<br />I = 3.59 %<br />I_hv = 0.595 kA<br />I_lv = 1.465 kA<br />",
          "None<br />I = 0.923 %<br />I_hv = 0.153 kA<br />I_lv = 0.367 kA<br />",
          "None<br />I = 2.554 %<br />I_hv = 0.423 kA<br />I_lv = 1.016 kA<br />",
          "None<br />I = 2.822 %<br />I_hv = 0.468 kA<br />I_lv = 1.093 kA<br />",
          "None<br />I = 1.731 %<br />I_hv = 0.287 kA<br />I_lv = 0.688 kA<br />",
          "None<br />I = 0.344 %<br />I_hv = 0.057 kA<br />I_lv = 0.141 kA<br />",
          "None<br />I = 0.731 %<br />I_hv = 0.121 kA<br />I_lv = 0.283 kA<br />",
          "None<br />I = 0.802 %<br />I_hv = 0.133 kA<br />I_lv = 0.074 kA<br />",
          "None<br />I = 1.594 %<br />I_hv = 0.566 kA<br />I_lv = 0.617 kA<br />",
          "None<br />I = 1.233 %<br />I_hv = 0.093 kA<br />I_lv = 0.438 kA<br />",
          "None<br />I = 0.564 %<br />I_hv = 0.093 kA<br />I_lv = 0.218 kA<br />",
          "None<br />I = 0.176 %<br />I_hv = 0.063 kA<br />I_lv = 0.055 kA<br />",
          "None<br />I = 2.829 %<br />I_hv = 0.469 kA<br />I_lv = 0.961 kA<br />"
         ],
         "x": [
          -0.821291365
         ],
         "y": [
          0.056704435
         ],
         "type": "scatter"
        },
        {
         "hoverinfo": "text",
         "marker": {
          "color": "rgb(128, 128, 128)",
          "size": 20,
          "symbol": "square"
         },
         "mode": "markers",
         "name": "external_grid",
         "text": [
          69
         ],
         "x": [
          -2.65126612
         ],
         "y": [
          -6.43044768
         ],
         "type": "scatter"
        },
        {
         "hoverinfo": "text",
         "marker": {
          "cmax": 1.1,
          "cmin": 0.9,
          "color": {
           "dtype": "f8",
           "bdata": "kcL1KFyP7j/aqdNVphXvP4F0jBVV9+4/Vg4tsp3v7z8+Y6wEIQjwP7FH4XoUru8/fVDc85Ko7z8+CtejcD3wP5Vc/P/Kr/A/z8zMzMzM8D8PNsF02IXvP65H4XoUru8/R/5zm1T87j9/RiPmk3nvPwnXo3A9Cu8/UeONuBV87z+rjbBLwtfvP4pBYOXQIu8/XxBYObTI7j8FDqp2K5/uP9vKGeSgpe4/F2ykhiUC7z91hZu5ovvvP1s5tMh2vu8/zczMzMzM8D89CtejcD3wP17l0CLb+e4/pD86aCrF7j9Ks6BGq9LuP2/h2ajXh+8/iWzn+6nx7j80iUFg5dDuP48E7/zkEe8/sXJoke187z90dR4Q3l/vP12PwvUoXO8/+nuttoCz7z+s0hYW58LuP9syOWXsCe8/C9ejcD0K7z8UdXqeSvDuP4XrUbgehe8/CCxibJNE7z/U6aM+f4DvP3Bx3kNykO8/Fa5H4XoU8D80gsR8zEXwPyIOnjuEVPA/ZmZmZmZm8D8QPJcGbgTwP4Dp0Z6i8O4/pyWBpzue7j+qN6hae0XuP4/C9Shcj+4/D1g5tMh27j+6SQwCK4fuPxuwSmAAD+8/FPY61W6w7j+D61G4HoXvP98WQsLvx+8/2KNwPQrX7z9XDi2yne/vP8CiC1Dq/+4/E5dTx8167z8TrkfhehTwP83MzMzMzPA/40KeXp1Q8D9SmB37uOrvP4/C9Shcj/A/sHJoke187z+coEc2OpTvP12PwvUoXO8/g8DKoUW27z8OLbKd76fuP0sUV5tj9O4/kxgEVg4t7j+Aarx0kxjwP6UXop0GDvA/KSRalsYl8D+kcD0K16PwP8i0ugq7du8/7n+OMCui7z8B6mvCBIDvPyeLSs67We8/hOtRuB6F7z9OrfJ2xnbvPz0K16NwPfA/PSJ/4zaZ7z8UrkfhehTwP4frUbgehe8/XI/C9Shc7z+tR+F6FK7vP2Jh7wCsiO8/HbQqMbKs7z962LK04l7vP+EmEfzJwO8/M8/677wt8D/8TrxySmDwPylcj8L1KPA/EoPAyqFF8D9AIANBtrnvPyMawx32pu8/KVyPwvUo8D/hT42XbhLvP+B6FK5H4e4/emkP7LXB7j8OWDm0yHbuP6ADV+k06+4/aa3fhN/x7j+KQWDl0CLvP12PwvUoXO8/NTMzMzMz7z8tsp3vp8bvP1aHqxwVue4/+Zc94YG47j8UrkfhehTwP5zo4uKRKe8/T8kfr8xh7j8="
          },
          "colorbar": {
           "thickness": 10,
           "title": {
            "side": "right",
            "text": "Bus Voltage [pu]"
           },
           "x": 1.0
          },
          "colorscale": [
           [
            0.0,
            "rgb(0,0,131)"
           ],
           [
            0.2,
            "rgb(0,60,170)"
           ],
           [
            0.4,
            "rgb(5,255,255)"
           ],
           [
            0.6,
            "rgb(255,255,0)"
           ],
           [
            0.8,
            "rgb(250,0,0)"
           ],
           [
            1.0,
            "rgb(128,0,0)"
           ]
          ],
          "size": 10,
          "symbol": "circle"
         },
         "mode": "markers",
         "name": "buses",
         "text": [
          "1<br />V_m = 0.955 pu<br />V_m = 131.79 kV<br />V_a = 10.941 deg",
          "2<br />V_m = 0.971 pu<br />V_m = 134.052 kV<br />V_a = 11.481 deg",
          "3<br />V_m = 0.968 pu<br />V_m = 133.541 kV<br />V_a = 11.825 deg",
          "4<br />V_m = 0.998 pu<br />V_m = 137.724 kV<br />V_a = 15.543 deg",
          "5<br />V_m = 1.002 pu<br />V_m = 138.274 kV<br />V_a = 15.988 deg",
          "6<br />V_m = 0.99 pu<br />V_m = 136.62 kV<br />V_a = 13.261 deg",
          "7<br />V_m = 0.989 pu<br />V_m = 136.527 kV<br />V_a = 12.816 deg",
          "8<br />V_m = 1.015 pu<br />V_m = 350.175 kV<br />V_a = 21.009 deg",
          "9<br />V_m = 1.043 pu<br />V_m = 359.807 kV<br />V_a = 28.263 deg",
          "10<br />V_m = 1.05 pu<br />V_m = 362.25 kV<br />V_a = 35.844 deg",
          "11<br />V_m = 0.985 pu<br />V_m = 135.942 kV<br />V_a = 12.975 deg",
          "12<br />V_m = 0.99 pu<br />V_m = 136.62 kV<br />V_a = 12.458 deg",
          "13<br />V_m = 0.968 pu<br />V_m = 133.626 kV<br />V_a = 11.599 deg",
          "14<br />V_m = 0.984 pu<br />V_m = 135.736 kV<br />V_a = 11.74 deg",
          "15<br />V_m = 0.97 pu<br />V_m = 133.86 kV<br />V_a = 11.443 deg",
          "16<br />V_m = 0.984 pu<br />V_m = 135.778 kV<br />V_a = 12.156 deg",
          "17<br />V_m = 0.995 pu<br />V_m = 137.322 kV<br />V_a = 13.964 deg",
          "18<br />V_m = 0.973 pu<br />V_m = 134.274 kV<br />V_a = 11.75 deg",
          "19<br />V_m = 0.962 pu<br />V_m = 132.756 kV<br />V_a = 11.284 deg",
          "20<br />V_m = 0.957 pu<br />V_m = 132.056 kV<br />V_a = 12.162 deg",
          "21<br />V_m = 0.958 pu<br />V_m = 132.165 kV<br />V_a = 13.75 deg",
          "22<br />V_m = 0.969 pu<br />V_m = 133.724 kV<br />V_a = 16.306 deg",
          "23<br />V_m = 0.999 pu<br />V_m = 137.926 kV<br />V_a = 21.225 deg",
          "24<br />V_m = 0.992 pu<br />V_m = 136.896 kV<br />V_a = 21.095 deg",
          "25<br />V_m = 1.05 pu<br />V_m = 144.9 kV<br />V_a = 28.153 deg",
          "26<br />V_m = 1.015 pu<br />V_m = 350.175 kV<br />V_a = 29.932 deg",
          "27<br />V_m = 0.968 pu<br />V_m = 133.584 kV<br />V_a = 15.577 deg",
          "28<br />V_m = 0.962 pu<br />V_m = 132.696 kV<br />V_a = 13.851 deg",
          "29<br />V_m = 0.963 pu<br />V_m = 132.924 kV<br />V_a = 12.857 deg",
          "30<br />V_m = 0.985 pu<br />V_m = 339.94 kV<br />V_a = 19.002 deg",
          "31<br />V_m = 0.967 pu<br />V_m = 133.446 kV<br />V_a = 12.974 deg",
          "32<br />V_m = 0.963 pu<br />V_m = 132.894 kV<br />V_a = 15.034 deg",
          "33<br />V_m = 0.971 pu<br />V_m = 133.989 kV<br />V_a = 10.821 deg",
          "34<br />V_m = 0.984 pu<br />V_m = 135.792 kV<br />V_a = 11.478 deg",
          "35<br />V_m = 0.98 pu<br />V_m = 135.302 kV<br />V_a = 11.021 deg",
          "36<br />V_m = 0.98 pu<br />V_m = 135.24 kV<br />V_a = 11.022 deg",
          "37<br />V_m = 0.991 pu<br />V_m = 136.711 kV<br />V_a = 11.933 deg",
          "38<br />V_m = 0.961 pu<br />V_m = 331.646 kV<br />V_a = 17.073 deg",
          "39<br />V_m = 0.97 pu<br />V_m = 133.855 kV<br />V_a = 8.543 deg",
          "40<br />V_m = 0.97 pu<br />V_m = 133.86 kV<br />V_a = 7.462 deg",
          "41<br />V_m = 0.967 pu<br />V_m = 133.423 kV<br />V_a = 7.018 deg",
          "42<br />V_m = 0.985 pu<br />V_m = 135.93 kV<br />V_a = 8.619 deg",
          "43<br />V_m = 0.977 pu<br />V_m = 134.843 kV<br />V_a = 11.427 deg",
          "44<br />V_m = 0.984 pu<br />V_m = 135.852 kV<br />V_a = 13.911 deg",
          "45<br />V_m = 0.986 pu<br />V_m = 136.121 kV<br />V_a = 15.74 deg",
          "46<br />V_m = 1.005 pu<br />V_m = 138.69 kV<br />V_a = 18.545 deg",
          "47<br />V_m = 1.017 pu<br />V_m = 140.352 kV<br />V_a = 20.771 deg",
          "48<br />V_m = 1.021 pu<br />V_m = 140.847 kV<br />V_a = 19.986 deg",
          "49<br />V_m = 1.025 pu<br />V_m = 141.45 kV<br />V_a = 20.988 deg",
          "50<br />V_m = 1.001 pu<br />V_m = 138.149 kV<br />V_a = 18.949 deg",
          "51<br />V_m = 0.967 pu<br />V_m = 133.429 kV<br />V_a = 16.329 deg",
          "52<br />V_m = 0.957 pu<br />V_m = 132.041 kV<br />V_a = 15.375 deg",
          "53<br />V_m = 0.946 pu<br />V_m = 130.545 kV<br />V_a = 14.4 deg",
          "54<br />V_m = 0.955 pu<br />V_m = 131.79 kV<br />V_a = 15.311 deg",
          "55<br />V_m = 0.952 pu<br />V_m = 131.376 kV<br />V_a = 15.021 deg",
          "56<br />V_m = 0.954 pu<br />V_m = 131.652 kV<br />V_a = 15.208 deg",
          "57<br />V_m = 0.971 pu<br />V_m = 133.94 kV<br />V_a = 16.413 deg",
          "58<br />V_m = 0.959 pu<br />V_m = 132.347 kV<br />V_a = 15.556 deg",
          "59<br />V_m = 0.985 pu<br />V_m = 135.93 kV<br />V_a = 19.408 deg",
          "60<br />V_m = 0.993 pu<br />V_m = 137.056 kV<br />V_a = 23.189 deg",
          "61<br />V_m = 0.995 pu<br />V_m = 137.31 kV<br />V_a = 24.08 deg",
          "62<br />V_m = 0.998 pu<br />V_m = 137.724 kV<br />V_a = 23.464 deg",
          "63<br />V_m = 0.969 pu<br />V_m = 334.215 kV<br />V_a = 22.786 deg",
          "64<br />V_m = 0.984 pu<br />V_m = 339.391 kV<br />V_a = 24.551 deg",
          "65<br />V_m = 1.005 pu<br />V_m = 346.725 kV<br />V_a = 27.675 deg",
          "66<br />V_m = 1.05 pu<br />V_m = 144.9 kV<br />V_a = 27.519 deg",
          "67<br />V_m = 1.02 pu<br />V_m = 140.716 kV<br />V_a = 24.879 deg",
          "68<br />V_m = 0.997 pu<br />V_m = 160.582 kV<br />V_a = 27.578 deg",
          "69<br />V_m = 1.035 pu<br />V_m = 142.83 kV<br />V_a = 30.0 deg",
          "70<br />V_m = 0.984 pu<br />V_m = 135.792 kV<br />V_a = 22.617 deg",
          "71<br />V_m = 0.987 pu<br />V_m = 136.184 kV<br />V_a = 22.204 deg",
          "72<br />V_m = 0.98 pu<br />V_m = 135.24 kV<br />V_a = 21.098 deg",
          "73<br />V_m = 0.991 pu<br />V_m = 136.758 kV<br />V_a = 21.992 deg",
          "74<br />V_m = 0.958 pu<br />V_m = 132.204 kV<br />V_a = 21.672 deg",
          "75<br />V_m = 0.967 pu<br />V_m = 133.492 kV<br />V_a = 22.935 deg",
          "76<br />V_m = 0.943 pu<br />V_m = 130.134 kV<br />V_a = 21.81 deg",
          "77<br />V_m = 1.006 pu<br />V_m = 138.828 kV<br />V_a = 26.77 deg",
          "78<br />V_m = 1.003 pu<br />V_m = 138.473 kV<br />V_a = 26.467 deg",
          "79<br />V_m = 1.009 pu<br />V_m = 139.273 kV<br />V_a = 26.767 deg",
          "80<br />V_m = 1.04 pu<br />V_m = 143.52 kV<br />V_a = 29.016 deg",
          "81<br />V_m = 0.983 pu<br />V_m = 339.219 kV<br />V_a = 28.169 deg",
          "82<br />V_m = 0.989 pu<br />V_m = 136.419 kV<br />V_a = 27.294 deg",
          "83<br />V_m = 0.984 pu<br />V_m = 135.844 kV<br />V_a = 28.486 deg",
          "84<br />V_m = 0.98 pu<br />V_m = 135.199 kV<br />V_a = 31.023 deg",
          "85<br />V_m = 0.985 pu<br />V_m = 135.93 kV<br />V_a = 32.578 deg",
          "86<br />V_m = 0.983 pu<br />V_m = 135.688 kV<br />V_a = 31.261 deg",
          "87<br />V_m = 1.015 pu<br />V_m = 163.415 kV<br />V_a = 31.494 deg",
          "88<br />V_m = 0.987 pu<br />V_m = 136.269 kV<br />V_a = 35.714 deg",
          "89<br />V_m = 1.005 pu<br />V_m = 138.69 kV<br />V_a = 39.772 deg",
          "90<br />V_m = 0.985 pu<br />V_m = 135.93 kV<br />V_a = 33.362 deg",
          "91<br />V_m = 0.98 pu<br />V_m = 135.24 kV<br />V_a = 33.374 deg",
          "92<br />V_m = 0.99 pu<br />V_m = 136.62 kV<br />V_a = 33.905 deg",
          "93<br />V_m = 0.985 pu<br />V_m = 135.99 kV<br />V_a = 30.873 deg",
          "94<br />V_m = 0.99 pu<br />V_m = 136.597 kV<br />V_a = 28.706 deg",
          "95<br />V_m = 0.98 pu<br />V_m = 135.286 kV<br />V_a = 27.734 deg",
          "96<br />V_m = 0.992 pu<br />V_m = 136.935 kV<br />V_a = 27.566 deg",
          "97<br />V_m = 1.011 pu<br />V_m = 139.541 kV<br />V_a = 27.941 deg",
          "98<br />V_m = 1.024 pu<br />V_m = 141.244 kV<br />V_a = 27.459 deg",
          "99<br />V_m = 1.01 pu<br />V_m = 139.38 kV<br />V_a = 27.092 deg",
          "100<br />V_m = 1.017 pu<br />V_m = 140.346 kV<br />V_a = 28.083 deg",
          "101<br />V_m = 0.991 pu<br />V_m = 136.816 kV<br />V_a = 29.671 deg",
          "102<br />V_m = 0.989 pu<br />V_m = 136.5 kV<br />V_a = 32.389 deg",
          "103<br />V_m = 1.01 pu<br />V_m = 139.38 kV<br />V_a = 24.342 deg",
          "104<br />V_m = 0.971 pu<br />V_m = 133.998 kV<br />V_a = 21.772 deg",
          "105<br />V_m = 0.965 pu<br />V_m = 133.17 kV<br />V_a = 20.668 deg",
          "106<br />V_m = 0.961 pu<br />V_m = 132.638 kV<br />V_a = 20.408 deg",
          "107<br />V_m = 0.952 pu<br />V_m = 131.376 kV<br />V_a = 17.607 deg",
          "108<br />V_m = 0.966 pu<br />V_m = 133.337 kV<br />V_a = 19.468 deg",
          "109<br />V_m = 0.967 pu<br />V_m = 133.45 kV<br />V_a = 19.015 deg",
          "110<br />V_m = 0.973 pu<br />V_m = 134.274 kV<br />V_a = 18.169 deg",
          "111<br />V_m = 0.98 pu<br />V_m = 135.24 kV<br />V_a = 19.814 deg",
          "112<br />V_m = 0.975 pu<br />V_m = 134.55 kV<br />V_a = 15.069 deg",
          "113<br />V_m = 0.993 pu<br />V_m = 137.034 kV<br />V_a = 13.962 deg",
          "114<br />V_m = 0.96 pu<br />V_m = 132.493 kV<br />V_a = 14.699 deg",
          "115<br />V_m = 0.96 pu<br />V_m = 132.483 kV<br />V_a = 14.691 deg",
          "116<br />V_m = 1.005 pu<br />V_m = 346.725 kV<br />V_a = 27.112 deg",
          "117<br />V_m = 0.974 pu<br />V_m = 134.388 kV<br />V_a = 10.917 deg",
          "118<br />V_m = 0.949 pu<br />V_m = 131.023 kV<br />V_a = 21.95 deg"
         ],
         "x": [
          -2.27537088,
          -2.93681868,
          -1.83443125,
          -0.8886269,
          -0.96328294,
          -0.41097321,
          -1.48364966,
          -0.67929979,
          0.49221033,
          1.5086493,
          -1.80848095,
          -2.45211659,
          -2.53398866,
          -3.08677433,
          -2.32974721,
          -1.4955188,
          -1.04893901,
          -1.83569627,
          -2.67582658,
          -1.27172302,
          0.07347017,
          0.93454664,
          0.30170142,
          -0.27785698,
          0.96311682,
          -0.1984213,
          1.94459585,
          2.4540519,
          1.49724645,
          -1.23743145,
          0.3831112,
          0.90364267,
          -2.98339395,
          -3.61970422,
          -4.33478993,
          -4.7428784,
          -2.95593736,
          -1.94675077,
          -3.64150322,
          -2.80565719,
          -3.15246735,
          -2.27459248,
          -4.18750912,
          -3.59147239,
          -2.62998753,
          -3.13435899,
          -2.31867841,
          -2.02462718,
          -1.7242222,
          -1.15564708,
          -1.21921987,
          -0.74859479,
          0.14590199,
          -0.45740893,
          0.86115058,
          0.3692721,
          -0.38632243,
          -0.09648542,
          0.6559376,
          1.49364944,
          0.79299415,
          0.08346113,
          0.59774338,
          -0.62517051,
          -1.95024357,
          -1.20786131,
          -0.12478603,
          -3.18106093,
          -2.65126612,
          -1.28509904,
          0.07461778,
          1.02371723,
          1.17466303,
          -1.7822189,
          -2.56996748,
          -3.09464675,
          -3.61872536,
          -3.69278355,
          -4.72664335,
          -4.85404703,
          -4.4266116,
          -4.19893048,
          -4.12840608,
          -4.02864203,
          -4.9872677,
          -4.63988576,
          -4.47545851,
          -5.71734893,
          -6.27865017,
          -7.04452166,
          -7.55001055,
          -7.01214558,
          -6.47992241,
          -6.41314867,
          -5.71946375,
          -5.33395953,
          -5.48974954,
          -6.086523,
          -6.21211036,
          -7.06670044,
          -7.66576451,
          -7.98224201,
          -8.2365225,
          -7.96010042,
          -9.08398186,
          -8.10362204,
          -9.06003901,
          -10.22226376,
          -10.43786729,
          -9.35873976,
          -10.44024066,
          -10.04885105,
          0.02108095,
          2.26306049,
          3.16444787,
          -4.1528539,
          -3.51721254,
          -2.14578083
         ],
         "y": [
          2.85434134,
          2.21217927,
          1.70944518,
          1.55327056,
          0.69472991,
          1.76757225,
          2.26204197,
          -0.58132104,
          0.03954497,
          0.75379907,
          1.07834847,
          1.18877693,
          0.28824882,
          0.34071955,
          -0.67947112,
          0.11521821,
          -1.09114552,
          -0.82925163,
          -1.25626968,
          -1.46280066,
          -2.15727925,
          -3.48951337,
          -3.79981466,
          -5.1101841,
          -2.98106355,
          -2.33750455,
          -2.22804448,
          -1.22197553,
          -0.72536644,
          -2.0300348,
          -1.27513726,
          -2.47159436,
          -1.64917272,
          -2.01728579,
          -2.2080206,
          -1.3946056,
          -2.71131768,
          -3.1510525,
          -3.11557125,
          -3.76600952,
          -4.41588603,
          -5.04510978,
          -3.12926548,
          -4.42095124,
          -5.60397106,
          -6.54697569,
          -6.71415481,
          -7.14005343,
          -6.25841238,
          -7.08617659,
          -7.65037321,
          -8.84655669,
          -8.32623676,
          -6.98302129,
          -7.41759676,
          -7.68672845,
          -8.20122678,
          -8.54595921,
          -6.68667928,
          -6.25030887,
          -5.64941617,
          -5.74036174,
          -5.38684982,
          -4.77066233,
          -4.51148309,
          -5.35685788,
          -5.05255441,
          -5.45110755,
          -6.43044768,
          -6.30364207,
          -7.03449632,
          -5.91020131,
          -8.10883561,
          -7.13340587,
          -7.30394279,
          -8.59502685,
          -7.4081044,
          -8.16369379,
          -7.72224523,
          -6.99468932,
          -5.94940611,
          -8.569852,
          -9.85855014,
          -10.84558242,
          -10.70093773,
          -11.91158389,
          -13.00524532,
          -11.31835268,
          -10.59000287,
          -11.5143669,
          -10.54642757,
          -9.4334311,
          -9.69521128,
          -8.59091403,
          -8.84627891,
          -8.06065332,
          -6.95476786,
          -7.31127634,
          -6.99195155,
          -7.98572301,
          -8.79679934,
          -9.88812099,
          -7.2232594,
          -7.65144088,
          -7.93455273,
          -8.23269982,
          -8.8272588,
          -8.31018998,
          -7.45634252,
          -6.82286285,
          -6.57815481,
          -5.92888766,
          -1.49821816,
          -2.786883,
          -2.38536072,
          -4.93489334,
          1.77740673,
          -8.54669918
         ],
         "type": "scatter"
        }
       ],
       "layout": {
        "autosize": true,
        "hovermode": "closest",
        "legend": {
         "itemsizing": "constant"
        },
        "margin": {
         "b": 5,
         "l": 5,
         "r": 5,
         "t": 5
        },
        "showlegend": false,
        "title": {
         "font": {
          "size": 16
         }
        },
        "xaxis": {
         "showgrid": false,
         "showticklabels": false,
         "zeroline": false
        },
        "yaxis": {
         "showgrid": false,
         "showticklabels": false,
         "zeroline": false
        },
        "template": {
         "data": {
          "histogram2dcontour": [
           {
            "type": "histogram2dcontour",
            "colorbar": {
             "outlinewidth": 0,
             "ticks": ""
            },
            "colorscale": [
             [
              0.0,
              "#0d0887"
             ],
             [
              0.1111111111111111,
              "#46039f"
             ],
             [
              0.2222222222222222,
              "#7201a8"
             ],
             [
              0.3333333333333333,
              "#9c179e"
             ],
             [
              0.4444444444444444,
              "#bd3786"
             ],
             [
              0.5555555555555556,
              "#d8576b"
             ],
             [
              0.6666666666666666,
              "#ed7953"
             ],
             [
              0.7777777777777778,
              "#fb9f3a"
             ],
             [
              0.8888888888888888,
              "#fdca26"
             ],
             [
              1.0,
              "#f0f921"
             ]
            ]
           }
          ],
          "choropleth": [
           {
            "type": "choropleth",
            "colorbar": {
             "outlinewidth": 0,
             "ticks": ""
            }
           }
          ],
          "histogram2d": [
           {
            "type": "histogram2d",
            "colorbar": {
             "outlinewidth": 0,
             "ticks": ""
            },
            "colorscale": [
             [
              0.0,
              "#0d0887"
             ],
             [
              0.1111111111111111,
              "#46039f"
             ],
             [
              0.2222222222222222,
              "#7201a8"
             ],
             [
              0.3333333333333333,
              "#9c179e"
             ],
             [
              0.4444444444444444,
              "#bd3786"
             ],
             [
              0.5555555555555556,
              "#d8576b"
             ],
             [
              0.6666666666666666,
              "#ed7953"
             ],
             [
              0.7777777777777778,
              "#fb9f3a"
             ],
             [
              0.8888888888888888,
              "#fdca26"
             ],
             [
              1.0,
              "#f0f921"
             ]
            ]
           }
          ],
          "heatmap": [
           {
            "type": "heatmap",
            "colorbar": {
             "outlinewidth": 0,
             "ticks": ""
            },
            "colorscale": [
             [
              0.0,
              "#0d0887"
             ],
             [
              0.1111111111111111,
              "#46039f"
             ],
             [
              0.2222222222222222,
              "#7201a8"
             ],
             [
              0.3333333333333333,
              "#9c179e"
             ],
             [
              0.4444444444444444,
              "#bd3786"
             ],
             [
              0.5555555555555556,
              "#d8576b"
             ],
             [
              0.6666666666666666,
              "#ed7953"
             ],
             [
              0.7777777777777778,
              "#fb9f3a"
             ],
             [
              0.8888888888888888,
              "#fdca26"
             ],
             [
              1.0,
              "#f0f921"
             ]
            ]
           }
          ],
          "contourcarpet": [
           {
            "type": "contourcarpet",
            "colorbar": {
             "outlinewidth": 0,
             "ticks": ""
            }
           }
          ],
          "contour": [
           {
            "type": "contour",
            "colorbar": {
             "outlinewidth": 0,
             "ticks": ""
            },
            "colorscale": [
             [
              0.0,
              "#0d0887"
             ],
             [
              0.1111111111111111,
              "#46039f"
             ],
             [
              0.2222222222222222,
              "#7201a8"
             ],
             [
              0.3333333333333333,
              "#9c179e"
             ],
             [
              0.4444444444444444,
              "#bd3786"
             ],
             [
              0.5555555555555556,
              "#d8576b"
             ],
             [
              0.6666666666666666,
              "#ed7953"
             ],
             [
              0.7777777777777778,
              "#fb9f3a"
             ],
             [
              0.8888888888888888,
              "#fdca26"
             ],
             [
              1.0,
              "#f0f921"
             ]
            ]
           }
          ],
          "surface": [
           {
            "type": "surface",
            "colorbar": {
             "outlinewidth": 0,
             "ticks": ""
            },
            "colorscale": [
             [
              0.0,
              "#0d0887"
             ],
             [
              0.1111111111111111,
              "#46039f"
             ],
             [
              0.2222222222222222,
              "#7201a8"
             ],
             [
              0.3333333333333333,
              "#9c179e"
             ],
             [
              0.4444444444444444,
              "#bd3786"
             ],
             [
              0.5555555555555556,
              "#d8576b"
             ],
             [
              0.6666666666666666,
              "#ed7953"
             ],
             [
              0.7777777777777778,
              "#fb9f3a"
             ],
             [
              0.8888888888888888,
              "#fdca26"
             ],
             [
              1.0,
              "#f0f921"
             ]
            ]
           }
          ],
          "mesh3d": [
           {
            "type": "mesh3d",
            "colorbar": {
             "outlinewidth": 0,
             "ticks": ""
            }
           }
          ],
          "scatter": [
           {
            "fillpattern": {
             "fillmode": "overlay",
             "size": 10,
             "solidity": 0.2
            },
            "type": "scatter"
           }
          ],
          "parcoords": [
           {
            "type": "parcoords",
            "line": {
             "colorbar": {
              "outlinewidth": 0,
              "ticks": ""
             }
            }
           }
          ],
          "scatterpolargl": [
           {
            "type": "scatterpolargl",
            "marker": {
             "colorbar": {
              "outlinewidth": 0,
              "ticks": ""
             }
            }
           }
          ],
          "bar": [
           {
            "error_x": {
             "color": "#2a3f5f"
            },
            "error_y": {
             "color": "#2a3f5f"
            },
            "marker": {
             "line": {
              "color": "#E5ECF6",
              "width": 0.5
             },
             "pattern": {
              "fillmode": "overlay",
              "size": 10,
              "solidity": 0.2
             }
            },
            "type": "bar"
           }
          ],
          "scattergeo": [
           {
            "type": "scattergeo",
            "marker": {
             "colorbar": {
              "outlinewidth": 0,
              "ticks": ""
             }
            }
           }
          ],
          "scatterpolar": [
           {
            "type": "scatterpolar",
            "marker": {
             "colorbar": {
              "outlinewidth": 0,
              "ticks": ""
             }
            }
           }
          ],
          "histogram": [
           {
            "marker": {
             "pattern": {
              "fillmode": "overlay",
              "size": 10,
              "solidity": 0.2
             }
            },
            "type": "histogram"
           }
          ],
          "scattergl": [
           {
            "type": "scattergl",
            "marker": {
             "colorbar": {
              "outlinewidth": 0,
              "ticks": ""
             }
            }
           }
          ],
          "scatter3d": [
           {
            "type": "scatter3d",
            "line": {
             "colorbar": {
              "outlinewidth": 0,
              "ticks": ""
             }
            },
            "marker": {
             "colorbar": {
              "outlinewidth": 0,
              "ticks": ""
             }
            }
           }
          ],
          "scattermap": [
           {
            "type": "scattermap",
            "marker": {
             "colorbar": {
              "outlinewidth": 0,
              "ticks": ""
             }
            }
           }
          ],
          "scattermapbox": [
           {
            "type": "scattermapbox",
            "marker": {
             "colorbar": {
              "outlinewidth": 0,
              "ticks": ""
             }
            }
           }
          ],
          "scatterternary": [
           {
            "type": "scatterternary",
            "marker": {
             "colorbar": {
              "outlinewidth": 0,
              "ticks": ""
             }
            }
           }
          ],
          "scattercarpet": [
           {
            "type": "scattercarpet",
            "marker": {
             "colorbar": {
              "outlinewidth": 0,
              "ticks": ""
             }
            }
           }
          ],
          "carpet": [
           {
            "aaxis": {
             "endlinecolor": "#2a3f5f",
             "gridcolor": "white",
             "linecolor": "white",
             "minorgridcolor": "white",
             "startlinecolor": "#2a3f5f"
            },
            "baxis": {
             "endlinecolor": "#2a3f5f",
             "gridcolor": "white",
             "linecolor": "white",
             "minorgridcolor": "white",
             "startlinecolor": "#2a3f5f"
            },
            "type": "carpet"
           }
          ],
          "table": [
           {
            "cells": {
             "fill": {
              "color": "#EBF0F8"
             },
             "line": {
              "color": "white"
             }
            },
            "header": {
             "fill": {
              "color": "#C8D4E3"
             },
             "line": {
              "color": "white"
             }
            },
            "type": "table"
           }
          ],
          "barpolar": [
           {
            "marker": {
             "line": {
              "color": "#E5ECF6",
              "width": 0.5
             },
             "pattern": {
              "fillmode": "overlay",
              "size": 10,
              "solidity": 0.2
             }
            },
            "type": "barpolar"
           }
          ],
          "pie": [
           {
            "automargin": true,
            "type": "pie"
           }
          ]
         },
         "layout": {
          "autotypenumbers": "strict",
          "colorway": [
           "#636efa",
           "#EF553B",
           "#00cc96",
           "#ab63fa",
           "#FFA15A",
           "#19d3f3",
           "#FF6692",
           "#B6E880",
           "#FF97FF",
           "#FECB52"
          ],
          "font": {
           "color": "#2a3f5f"
          },
          "hovermode": "closest",
          "hoverlabel": {
           "align": "left"
          },
          "paper_bgcolor": "white",
          "plot_bgcolor": "#E5ECF6",
          "polar": {
           "bgcolor": "#E5ECF6",
           "angularaxis": {
            "gridcolor": "white",
            "linecolor": "white",
            "ticks": ""
           },
           "radialaxis": {
            "gridcolor": "white",
            "linecolor": "white",
            "ticks": ""
           }
          },
          "ternary": {
           "bgcolor": "#E5ECF6",
           "aaxis": {
            "gridcolor": "white",
            "linecolor": "white",
            "ticks": ""
           },
           "baxis": {
            "gridcolor": "white",
            "linecolor": "white",
            "ticks": ""
           },
           "caxis": {
            "gridcolor": "white",
            "linecolor": "white",
            "ticks": ""
           }
          },
          "coloraxis": {
           "colorbar": {
            "outlinewidth": 0,
            "ticks": ""
           }
          },
          "colorscale": {
           "sequential": [
            [
             0.0,
             "#0d0887"
            ],
            [
             0.1111111111111111,
             "#46039f"
            ],
            [
             0.2222222222222222,
             "#7201a8"
            ],
            [
             0.3333333333333333,
             "#9c179e"
            ],
            [
             0.4444444444444444,
             "#bd3786"
            ],
            [
             0.5555555555555556,
             "#d8576b"
            ],
            [
             0.6666666666666666,
             "#ed7953"
            ],
            [
             0.7777777777777778,
             "#fb9f3a"
            ],
            [
             0.8888888888888888,
             "#fdca26"
            ],
            [
             1.0,
             "#f0f921"
            ]
           ],
           "sequentialminus": [
            [
             0.0,
             "#0d0887"
            ],
            [
             0.1111111111111111,
             "#46039f"
            ],
            [
             0.2222222222222222,
             "#7201a8"
            ],
            [
             0.3333333333333333,
             "#9c179e"
            ],
            [
             0.4444444444444444,
             "#bd3786"
            ],
            [
             0.5555555555555556,
             "#d8576b"
            ],
            [
             0.6666666666666666,
             "#ed7953"
            ],
            [
             0.7777777777777778,
             "#fb9f3a"
            ],
            [
             0.8888888888888888,
             "#fdca26"
            ],
            [
             1.0,
             "#f0f921"
            ]
           ],
           "diverging": [
            [
             0,
             "#8e0152"
            ],
            [
             0.1,
             "#c51b7d"
            ],
            [
             0.2,
             "#de77ae"
            ],
            [
             0.3,
             "#f1b6da"
            ],
            [
             0.4,
             "#fde0ef"
            ],
            [
             0.5,
             "#f7f7f7"
            ],
            [
             0.6,
             "#e6f5d0"
            ],
            [
             0.7,
             "#b8e186"
            ],
            [
             0.8,
             "#7fbc41"
            ],
            [
             0.9,
             "#4d9221"
            ],
            [
             1,
             "#276419"
            ]
           ]
          },
          "xaxis": {
           "gridcolor": "white",
           "linecolor": "white",
           "ticks": "",
           "title": {
            "standoff": 15
           },
           "zerolinecolor": "white",
           "automargin": true,
           "zerolinewidth": 2
          },
          "yaxis": {
           "gridcolor": "white",
           "linecolor": "white",
           "ticks": "",
           "title": {
            "standoff": 15
           },
           "zerolinecolor": "white",
           "automargin": true,
           "zerolinewidth": 2
          },
          "scene": {
           "xaxis": {
            "backgroundcolor": "#E5ECF6",
            "gridcolor": "white",
            "linecolor": "white",
            "showbackground": true,
            "ticks": "",
            "zerolinecolor": "white",
            "gridwidth": 2
           },
           "yaxis": {
            "backgroundcolor": "#E5ECF6",
            "gridcolor": "white",
            "linecolor": "white",
            "showbackground": true,
            "ticks": "",
            "zerolinecolor": "white",
            "gridwidth": 2
           },
           "zaxis": {
            "backgroundcolor": "#E5ECF6",
            "gridcolor": "white",
            "linecolor": "white",
            "showbackground": true,
            "ticks": "",
            "zerolinecolor": "white",
            "gridwidth": 2
           }
          },
          "shapedefaults": {
           "line": {
            "color": "#2a3f5f"
           }
          },
          "annotationdefaults": {
           "arrowcolor": "#2a3f5f",
           "arrowhead": 0,
           "arrowwidth": 1
          },
          "geo": {
           "bgcolor": "white",
           "landcolor": "#E5ECF6",
           "subunitcolor": "white",
           "showland": true,
           "showlakes": true,
           "lakecolor": "white"
          },
          "title": {
           "x": 0.05
          },
          "mapbox": {
           "style": "light"
          }
         }
        },
        "width": 600.4747901166297,
        "height": 700.0
       },
       "config": {
        "plotlyServerURL": "https://plot.ly"
       }
      }
     },
     "metadata": {},
     "output_type": "display_data"
    }
   ]
  }
 ],
 "metadata": {
  "kernelspec": {
   "display_name": "Python 3",
   "language": "python",
   "name": "python3"
  },
  "language_info": {
   "codemirror_mode": {
    "name": "ipython",
    "version": 2
   },
   "file_extension": ".py",
   "mimetype": "text/x-python",
   "name": "python",
   "nbconvert_exporter": "python",
   "pygments_lexer": "ipython2",
   "version": "2.7.6"
  }
 },
 "nbformat": 4,
 "nbformat_minor": 5
}
